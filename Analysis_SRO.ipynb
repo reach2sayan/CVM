{
 "cells": [
  {
   "cell_type": "code",
   "execution_count": 1,
   "metadata": {
    "ExecuteTime": {
     "end_time": "2022-01-23T04:44:46.464019Z",
     "start_time": "2022-01-23T04:44:46.453971Z"
    }
   },
   "outputs": [],
   "source": [
    "import pandas as pd\n",
    "import numpy as np\n",
    "import matplotlib.pyplot as plt\n",
    "import plotly.graph_objects as go\n",
    "import os, subprocess\n",
    "import glob\n",
    "import math\n",
    "import sys  \n",
    "sys.path.insert(0, './src/')\n",
    "from clusterdata import ClusterInfo\n",
    "np.set_printoptions(suppress=True,precision=4)"
   ]
  },
  {
   "cell_type": "code",
   "execution_count": 2,
   "metadata": {
    "ExecuteTime": {
     "end_time": "2022-01-23T04:44:46.965111Z",
     "start_time": "2022-01-23T04:44:46.842542Z"
    }
   },
   "outputs": [
    {
     "name": "stdout",
     "output_type": "stream",
     "text": [
      " ch_mp-Jan-12.json\t\t result.json-cons-Feb-25-inc\n",
      " latest_result-constraint.json\t result.json-cons-Feb-27-inc\n",
      " latest_result.json\t\t result.json-nocons-Feb-23-inc\n",
      " log.out-cons-Feb-23-inc\t result.json-nocons-Feb-25-inc\n",
      " log.out-nocons-Feb-23-inc\t result.json-nocons-Feb-27-inc\n",
      " MoVW-cons-Feb14.json\t\t'result_kB=1'\n",
      " MoVW-cons-Feb-15.json\t\t'result_kB=SI'\n",
      " MoVW-nocons-Feb-15.json\t result_muscan_trial\n",
      " noch-Jan-12.json\t\t sro_normC.json\n",
      " old_results\t\t\t sro_unconstrained-Jan-12.json\n",
      " result.json-cons-Feb-23-inc\n"
     ]
    }
   ],
   "source": [
    "!ls results"
   ]
  },
  {
   "cell_type": "code",
   "execution_count": 3,
   "metadata": {},
   "outputs": [
    {
     "name": "stdout",
     "output_type": "stream",
     "text": [
      "Reading ECIs from existing file eci.out.\n"
     ]
    }
   ],
   "source": [
    "# clus = ClusterInfo( \n",
    "#     clusters_fname=\"BCC_A2/sqs_lev=3_a_Mo=0.33333,a_V=0.33333,a_W=0.33333/clusters.out\",\n",
    "#     eci_fname=\"BCC_A2/sqs_lev=3_a_Mo=0.33333,a_V=0.33333,a_W=0.33333/eci.out\",\n",
    "#     kb_fname=\"BCC_A2/sqs_lev=3_a_Mo=0.33333,a_V=0.33333,a_W=0.33333/configkb.out\",\n",
    "#     clustermult_fname=\"BCC_A2/sqs_lev=3_a_Mo=0.33333,a_V=0.33333,a_W=0.33333//clusmult.out\",\n",
    "#     configmult_fname=\"BCC_A2/sqs_lev=3_a_Mo=0.33333,a_V=0.33333,a_W=0.33333/configmult.out\",\n",
    "#     config_fname=\"BCC_A2/sqs_lev=3_a_Mo=0.33333,a_V=0.33333,a_W=0.33333/config.out\",\n",
    "#     vmat_fname=\"BCC_A2/sqs_lev=3_a_Mo=0.33333,a_V=0.33333,a_W=0.33333/vmat.out\", \n",
    "# )"
   ]
  },
  {
   "cell_type": "code",
   "execution_count": 3,
   "metadata": {},
   "outputs": [
    {
     "name": "stdout",
     "output_type": "stream",
     "text": [
      "Reading ECIs from existing file eci.out.\n"
     ]
    }
   ],
   "source": [
    "clus = ClusterInfo( \n",
    "    clusters_fname=\"BCC_A2/sqs_lev=1_a_Mo=0.5,a_W=0.5/clusters.out\",\n",
    "    eci_fname=\"BCC_A2/sqs_lev=1_a_Mo=0.5,a_W=0.5/eci.out\",\n",
    "    kb_fname=\"BCC_A2/sqs_lev=1_a_Mo=0.5,a_W=0.5/configkb.out\",\n",
    "    clustermult_fname=\"BCC_A2/sqs_lev=1_a_Mo=0.5,a_W=0.5/clusmult.out\",\n",
    "    configmult_fname=\"BCC_A2/sqs_lev=1_a_Mo=0.5,a_W=0.5/configmult.out\",\n",
    "    config_fname=\"BCC_A2/sqs_lev=1_a_Mo=0.5,a_W=0.5/config.out\",\n",
    "    vmat_fname=\"BCC_A2/sqs_lev=1_a_Mo=0.5,a_W=0.5/vmat.out\", \n",
    ")"
   ]
  },
  {
   "cell_type": "code",
   "execution_count": 16,
   "metadata": {
    "ExecuteTime": {
     "end_time": "2022-01-23T04:45:25.799544Z",
     "start_time": "2022-01-23T04:45:25.742506Z"
    }
   },
   "outputs": [],
   "source": [
    "results = {}\n",
    "results['inc_nocons1'] = pd.read_json('BCC_A2/sqs_lev=1_a_Mo=0.5,a_W=0.5/result.json-nocons-Feb-27-inc').drop('corrs',axis=1)\n",
    "results['inc_cons1'] = pd.read_json('results/result.json-cons-Feb-27-inc').drop('corrs',axis=1)"
   ]
  },
  {
   "cell_type": "code",
   "execution_count": 17,
   "metadata": {},
   "outputs": [
    {
     "data": {
      "text/plain": [
       "0    100\n",
       "1    200\n",
       "2    300\n",
       "3    400\n",
       "4    500\n",
       "5    600\n",
       "Name: temperature, dtype: int64"
      ]
     },
     "execution_count": 17,
     "metadata": {},
     "output_type": "execute_result"
    }
   ],
   "source": [
    "results['inc_cons1'].temperature"
   ]
  },
  {
   "cell_type": "code",
   "execution_count": 13,
   "metadata": {
    "ExecuteTime": {
     "end_time": "2022-01-23T04:45:27.352195Z",
     "start_time": "2022-01-23T04:45:26.917666Z"
    }
   },
   "outputs": [
    {
     "data": {
      "application/vnd.plotly.v1+json": {
       "config": {
        "plotlyServerURL": "https://plot.ly"
       },
       "data": [
        {
         "mode": "markers+lines",
         "name": "inc_nocons1",
         "type": "scatter",
         "x": [
          100,
          200,
          300,
          400,
          500,
          600,
          700,
          800,
          900,
          1000,
          1100,
          1200,
          1300,
          1400,
          1500,
          1600,
          1700,
          1800
         ],
         "y": [
          -11.206653809912298,
          -11.237091692426933,
          -11.268807150861322,
          -11.299910747260295,
          -11.33185283214727,
          -11.364593279858846,
          -11.397303410000216,
          -11.430008954483736,
          -11.46361947828716,
          -11.496821588568721,
          -11.530236963085647,
          -11.563923462456183,
          -11.598119863616892,
          -11.632740662828077,
          -11.667717789220674,
          -11.702996584543877,
          -11.738532775631924,
          -11.774290192836142
         ]
        },
        {
         "mode": "markers+lines",
         "name": "inc_nocons2",
         "type": "scatter",
         "x": [
          100,
          200,
          300,
          400,
          500,
          600,
          700,
          800,
          900,
          1000,
          1100,
          1200,
          1300,
          1400
         ],
         "y": [
          -11.206598292372876,
          -11.236851379605353,
          -11.268419254232294,
          -11.299709581784148,
          -11.332091190112845,
          -11.364205493469978,
          -11.396537472873113,
          -11.429782196288617,
          -11.46358760062075,
          -11.496805670961045,
          -11.530236963209523,
          -11.563923462457367,
          -11.598119863615183,
          -11.632740662827993
         ]
        }
       ],
       "layout": {
        "autosize": true,
        "legend": {
         "x": 0.99,
         "xanchor": "left",
         "y": 0.01,
         "yanchor": "bottom"
        },
        "template": {
         "data": {
          "pie": [
           {
            "automargin": true,
            "type": "pie"
           }
          ],
          "scatter": [
           {
            "line": {
             "width": 3
            },
            "marker": {
             "size": 9
            },
            "type": "scatter"
           }
          ],
          "scatter3d": [
           {
            "line": {
             "width": 3
            },
            "marker": {
             "size": 9
            },
            "type": "scatter3d"
           }
          ],
          "scattergeo": [
           {
            "line": {
             "width": 3
            },
            "marker": {
             "size": 9
            },
            "type": "scattergeo"
           }
          ],
          "scattergl": [
           {
            "line": {
             "width": 3
            },
            "marker": {
             "size": 9
            },
            "type": "scattergl"
           }
          ],
          "scatterpolar": [
           {
            "line": {
             "width": 3
            },
            "marker": {
             "size": 9
            },
            "type": "scatterpolar"
           }
          ],
          "scatterpolargl": [
           {
            "line": {
             "width": 3
            },
            "marker": {
             "size": 9
            },
            "type": "scatterpolargl"
           }
          ],
          "scatterternary": [
           {
            "line": {
             "width": 3
            },
            "marker": {
             "size": 9
            },
            "type": "scatterternary"
           }
          ],
          "table": [
           {
            "cells": {
             "height": 30
            },
            "header": {
             "height": 36
            },
            "type": "table"
           }
          ]
         },
         "layout": {
          "font": {
           "size": 18
          },
          "xaxis": {
           "title": {
            "standoff": 15
           }
          },
          "yaxis": {
           "title": {
            "standoff": 15
           }
          }
         }
        },
        "title": {
         "text": "F_cvm vs T"
        },
        "xaxis": {
         "autorange": true,
         "range": [
          -12.025316455696228,
          1912.0253164556962
         ],
         "title": {
          "text": "Temperature"
         },
         "type": "linear"
        },
        "yaxis": {
         "autorange": true,
         "range": [
          -11.829364780194519,
          -11.1515237050145
         ],
         "title": {
          "text": "F_cvm"
         },
         "type": "linear"
        }
       }
      },
      "image/png": "[encoded data removed]",
      "text/html": [
       "<div>                            <div id=\"ac39a14e-fff0-4afa-a7f9-3ae2bb77766a\" class=\"plotly-graph-div\" style=\"height:525px; width:100%;\"></div>            <script type=\"text/javascript\">                require([\"plotly\"], function(Plotly) {                    window.PLOTLYENV=window.PLOTLYENV || {};                                    if (document.getElementById(\"ac39a14e-fff0-4afa-a7f9-3ae2bb77766a\")) {                    Plotly.newPlot(                        \"ac39a14e-fff0-4afa-a7f9-3ae2bb77766a\",                        [{\"mode\":\"markers+lines\",\"name\":\"inc_nocons1\",\"x\":[100,200,300,400,500,600,700,800,900,1000,1100,1200,1300,1400,1500,1600,1700,1800],\"y\":[-11.206653809912298,-11.237091692426933,-11.268807150861322,-11.299910747260295,-11.33185283214727,-11.364593279858846,-11.397303410000216,-11.430008954483736,-11.46361947828716,-11.496821588568721,-11.530236963085647,-11.563923462456183,-11.598119863616892,-11.632740662828077,-11.667717789220674,-11.702996584543877,-11.738532775631924,-11.774290192836142],\"type\":\"scatter\"},{\"mode\":\"markers+lines\",\"name\":\"inc_nocons2\",\"x\":[100,200,300,400,500,600,700,800,900,1000,1100,1200,1300,1400],\"y\":[-11.206598292372876,-11.236851379605353,-11.268419254232294,-11.299709581784148,-11.332091190112845,-11.364205493469978,-11.396537472873113,-11.429782196288617,-11.46358760062075,-11.496805670961045,-11.530236963209523,-11.563923462457367,-11.598119863615183,-11.632740662827993],\"type\":\"scatter\"}],                        {\"template\":{\"data\":{\"pie\":[{\"automargin\":true,\"type\":\"pie\"}],\"scatter3d\":[{\"line\":{\"width\":3},\"marker\":{\"size\":9},\"type\":\"scatter3d\"}],\"scattergeo\":[{\"line\":{\"width\":3},\"marker\":{\"size\":9},\"type\":\"scattergeo\"}],\"scattergl\":[{\"line\":{\"width\":3},\"marker\":{\"size\":9},\"type\":\"scattergl\"}],\"scatterpolargl\":[{\"line\":{\"width\":3},\"marker\":{\"size\":9},\"type\":\"scatterpolargl\"}],\"scatterpolar\":[{\"line\":{\"width\":3},\"marker\":{\"size\":9},\"type\":\"scatterpolar\"}],\"scatter\":[{\"line\":{\"width\":3},\"marker\":{\"size\":9},\"type\":\"scatter\"}],\"scatterternary\":[{\"line\":{\"width\":3},\"marker\":{\"size\":9},\"type\":\"scatterternary\"}],\"table\":[{\"cells\":{\"height\":30},\"header\":{\"height\":36},\"type\":\"table\"}]},\"layout\":{\"font\":{\"size\":18},\"xaxis\":{\"title\":{\"standoff\":15}},\"yaxis\":{\"title\":{\"standoff\":15}}}},\"title\":{\"text\":\"F_cvm vs T\"},\"xaxis\":{\"title\":{\"text\":\"Temperature\"}},\"yaxis\":{\"title\":{\"text\":\"F_cvm\"}},\"legend\":{\"yanchor\":\"bottom\",\"y\":0.01,\"xanchor\":\"left\",\"x\":0.99}},                        {\"responsive\": true}                    ).then(function(){\n",
       "                            \n",
       "var gd = document.getElementById('ac39a14e-fff0-4afa-a7f9-3ae2bb77766a');\n",
       "var x = new MutationObserver(function (mutations, observer) {{\n",
       "        var display = window.getComputedStyle(gd).display;\n",
       "        if (!display || display === 'none') {{\n",
       "            console.log([gd, 'removed!']);\n",
       "            Plotly.purge(gd);\n",
       "            observer.disconnect();\n",
       "        }}\n",
       "}});\n",
       "\n",
       "// Listen for the removal of the full notebook cells\n",
       "var notebookContainer = gd.closest('#notebook-container');\n",
       "if (notebookContainer) {{\n",
       "    x.observe(notebookContainer, {childList: true});\n",
       "}}\n",
       "\n",
       "// Listen for the clearing of the current output cell\n",
       "var outputEl = gd.closest('.output');\n",
       "if (outputEl) {{\n",
       "    x.observe(outputEl, {childList: true});\n",
       "}}\n",
       "\n",
       "                        })                };                });            </script>        </div>"
      ]
     },
     "metadata": {},
     "output_type": "display_data"
    }
   ],
   "source": [
    "fig = go.Figure()\n",
    "\n",
    "for name, df in results.items():\n",
    "    fig.add_trace(go.Scatter(x=df['temperature'],\n",
    "                             y=df['F_cvm'],\n",
    "                             mode='markers+lines',\n",
    "                             name=f'{name}'\n",
    "                            )\n",
    "                 )\n",
    "\n",
    "fig.update_layout(\n",
    "    title=\"F_cvm vs T\",\n",
    "    xaxis_title=\"Temperature\",\n",
    "    yaxis_title=\"F_cvm\",\n",
    "    template='presentation'\n",
    ")\n",
    "#fig.update_traces(texttemplate='%{text:.2s}', textposition='top center')\n",
    "fig.update_layout(legend=dict(\n",
    "    yanchor=\"bottom\",\n",
    "    y=0.01,\n",
    "    xanchor=\"left\",\n",
    "    x=0.99\n",
    "))\n",
    "fig.show()"
   ]
  },
  {
   "cell_type": "code",
   "execution_count": 7,
   "metadata": {
    "ExecuteTime": {
     "end_time": "2022-01-23T04:45:29.984599Z",
     "start_time": "2022-01-23T04:45:29.956662Z"
    }
   },
   "outputs": [
    {
     "data": {
      "application/vnd.plotly.v1+json": {
       "config": {
        "plotlyServerURL": "https://plot.ly"
       },
       "data": [
        {
         "mode": "markers+lines",
         "name": "inc_cons",
         "type": "scatter",
         "x": [
          100,
          200,
          300,
          400,
          500,
          600,
          700,
          800,
          900,
          1000,
          1100,
          1200
         ],
         "y": [
          0.368959173733066,
          0.36454265994879004,
          0.36114712503088603,
          0.358328054983006,
          0.35572456894373705,
          0.35341459658551905,
          0.351224942612745,
          0.349311756810251,
          0.34748995761913304,
          0.345603148327747,
          0.343355656872018,
          0.34032839539589904
         ]
        },
        {
         "mode": "markers+lines",
         "name": "inc_nocons",
         "type": "scatter",
         "x": [
          100,
          200,
          300,
          400,
          500,
          600,
          700,
          800,
          900,
          1000,
          1100,
          1200,
          1300,
          1400,
          1500,
          1600,
          1700,
          1800
         ],
         "y": [
          0.452971292876417,
          0.45790590208479004,
          0.44717093214227105,
          0.448240672135757,
          0.42194744611030804,
          0.42850764978257005,
          0.42305178866060805,
          0.40557360971528006,
          0.41680659495718503,
          0.407437162098623,
          0.39656149515085404,
          0.36422413915079505,
          0.33593410061309503,
          0.311108818637836,
          0.289233487689861,
          0.269871932515354,
          0.252658830177911,
          0.23728815274001602
         ]
        }
       ],
       "layout": {
        "autosize": true,
        "legend": {
         "x": 0.99,
         "xanchor": "right",
         "y": 0.01,
         "yanchor": "bottom"
        },
        "template": {
         "data": {
          "pie": [
           {
            "automargin": true,
            "type": "pie"
           }
          ],
          "scatter": [
           {
            "line": {
             "width": 3
            },
            "marker": {
             "size": 9
            },
            "type": "scatter"
           }
          ],
          "scatter3d": [
           {
            "line": {
             "width": 3
            },
            "marker": {
             "size": 9
            },
            "type": "scatter3d"
           }
          ],
          "scattergeo": [
           {
            "line": {
             "width": 3
            },
            "marker": {
             "size": 9
            },
            "type": "scattergeo"
           }
          ],
          "scattergl": [
           {
            "line": {
             "width": 3
            },
            "marker": {
             "size": 9
            },
            "type": "scattergl"
           }
          ],
          "scatterpolar": [
           {
            "line": {
             "width": 3
            },
            "marker": {
             "size": 9
            },
            "type": "scatterpolar"
           }
          ],
          "scatterpolargl": [
           {
            "line": {
             "width": 3
            },
            "marker": {
             "size": 9
            },
            "type": "scatterpolargl"
           }
          ],
          "scatterternary": [
           {
            "line": {
             "width": 3
            },
            "marker": {
             "size": 9
            },
            "type": "scatterternary"
           }
          ],
          "table": [
           {
            "cells": {
             "height": 30
            },
            "header": {
             "height": 36
            },
            "type": "table"
           }
          ]
         },
         "layout": {
          "font": {
           "size": 18
          },
          "xaxis": {
           "title": {
            "standoff": 15
           }
          },
          "yaxis": {
           "title": {
            "standoff": 15
           }
          }
         }
        },
        "title": {
         "text": "NN Corr vs T"
        },
        "xaxis": {
         "autorange": true,
         "range": [
          -10.237829803047191,
          1910.2378298030471
         ],
         "title": {
          "text": "Temperature"
         },
         "type": "linear"
        },
        "yaxis": {
         "range": [
          -1,
          1
         ],
         "title": {
          "text": "NN Corr"
         },
         "type": "linear"
        }
       }
      },
      "image/png": "[encoded data removed]",
      "text/html": [
       "<div>                            <div id=\"79d35952-466a-4d90-a3a0-c7b647364062\" class=\"plotly-graph-div\" style=\"height:525px; width:100%;\"></div>            <script type=\"text/javascript\">                require([\"plotly\"], function(Plotly) {                    window.PLOTLYENV=window.PLOTLYENV || {};                                    if (document.getElementById(\"79d35952-466a-4d90-a3a0-c7b647364062\")) {                    Plotly.newPlot(                        \"79d35952-466a-4d90-a3a0-c7b647364062\",                        [{\"mode\":\"markers+lines\",\"name\":\"inc_cons\",\"x\":[100,200,300,400,500,600,700,800,900,1000,1100,1200],\"y\":[0.368959173733066,0.36454265994879004,0.36114712503088603,0.358328054983006,0.35572456894373705,0.35341459658551905,0.351224942612745,0.349311756810251,0.34748995761913304,0.345603148327747,0.343355656872018,0.34032839539589904],\"type\":\"scatter\"},{\"mode\":\"markers+lines\",\"name\":\"inc_nocons\",\"x\":[100,200,300,400,500,600,700,800,900,1000,1100,1200,1300,1400,1500,1600,1700,1800],\"y\":[0.452971292876417,0.45790590208479004,0.44717093214227105,0.448240672135757,0.42194744611030804,0.42850764978257005,0.42305178866060805,0.40557360971528006,0.41680659495718503,0.407437162098623,0.39656149515085404,0.36422413915079505,0.33593410061309503,0.311108818637836,0.289233487689861,0.269871932515354,0.252658830177911,0.23728815274001602],\"type\":\"scatter\"}],                        {\"template\":{\"data\":{\"pie\":[{\"automargin\":true,\"type\":\"pie\"}],\"scatter3d\":[{\"line\":{\"width\":3},\"marker\":{\"size\":9},\"type\":\"scatter3d\"}],\"scattergeo\":[{\"line\":{\"width\":3},\"marker\":{\"size\":9},\"type\":\"scattergeo\"}],\"scattergl\":[{\"line\":{\"width\":3},\"marker\":{\"size\":9},\"type\":\"scattergl\"}],\"scatterpolargl\":[{\"line\":{\"width\":3},\"marker\":{\"size\":9},\"type\":\"scatterpolargl\"}],\"scatterpolar\":[{\"line\":{\"width\":3},\"marker\":{\"size\":9},\"type\":\"scatterpolar\"}],\"scatter\":[{\"line\":{\"width\":3},\"marker\":{\"size\":9},\"type\":\"scatter\"}],\"scatterternary\":[{\"line\":{\"width\":3},\"marker\":{\"size\":9},\"type\":\"scatterternary\"}],\"table\":[{\"cells\":{\"height\":30},\"header\":{\"height\":36},\"type\":\"table\"}]},\"layout\":{\"font\":{\"size\":18},\"xaxis\":{\"title\":{\"standoff\":15}},\"yaxis\":{\"title\":{\"standoff\":15}}}},\"title\":{\"text\":\"NN Corr vs T\"},\"xaxis\":{\"title\":{\"text\":\"Temperature\"}},\"yaxis\":{\"title\":{\"text\":\"NN Corr\"},\"range\":[-1,1]},\"legend\":{\"yanchor\":\"bottom\",\"y\":0.01,\"xanchor\":\"right\",\"x\":0.99}},                        {\"responsive\": true}                    ).then(function(){\n",
       "                            \n",
       "var gd = document.getElementById('79d35952-466a-4d90-a3a0-c7b647364062');\n",
       "var x = new MutationObserver(function (mutations, observer) {{\n",
       "        var display = window.getComputedStyle(gd).display;\n",
       "        if (!display || display === 'none') {{\n",
       "            console.log([gd, 'removed!']);\n",
       "            Plotly.purge(gd);\n",
       "            observer.disconnect();\n",
       "        }}\n",
       "}});\n",
       "\n",
       "// Listen for the removal of the full notebook cells\n",
       "var notebookContainer = gd.closest('#notebook-container');\n",
       "if (notebookContainer) {{\n",
       "    x.observe(notebookContainer, {childList: true});\n",
       "}}\n",
       "\n",
       "// Listen for the clearing of the current output cell\n",
       "var outputEl = gd.closest('.output');\n",
       "if (outputEl) {{\n",
       "    x.observe(outputEl, {childList: true});\n",
       "}}\n",
       "\n",
       "                        })                };                });            </script>        </div>"
      ]
     },
     "metadata": {},
     "output_type": "display_data"
    }
   ],
   "source": [
    "fig = go.Figure()\n",
    "\n",
    "for name, df in results.items():\n",
    "    fig.add_trace(go.Scatter(x=df['temperature'],\n",
    "                             y=df['corr 5'],\n",
    "                             mode='markers+lines',\n",
    "                             name=f'{name}'\n",
    "                            )\n",
    "                 )\n",
    "\n",
    "fig.update_layout(\n",
    "    title=\"NN Corr vs T\",\n",
    "    xaxis_title=\"Temperature\",\n",
    "    yaxis_title=\"NN Corr\",\n",
    "    template='presentation'\n",
    ")\n",
    "#fig.update_traces(texttemplate='%{text:.2s}', textposition='top center')\n",
    "fig.update_layout(legend=dict(\n",
    "    yanchor=\"bottom\",\n",
    "    y=0.01,\n",
    "    xanchor=\"right\",\n",
    "    x=0.99\n",
    "))\n",
    "fig.update_yaxes(range=[-1, 1])\n",
    "fig.show()"
   ]
  },
  {
   "cell_type": "code",
   "execution_count": null,
   "metadata": {},
   "outputs": [],
   "source": []
  }
 ],
 "metadata": {
  "kernelspec": {
   "display_name": "Python 3 (ipykernel)",
   "language": "python",
   "name": "python3"
  },
  "language_info": {
   "codemirror_mode": {
    "name": "ipython",
    "version": 3
   },
   "file_extension": ".py",
   "mimetype": "text/x-python",
   "name": "python",
   "nbconvert_exporter": "python",
   "pygments_lexer": "ipython3",
   "version": "3.8.10"
  },
  "toc": {
   "base_numbering": 1,
   "nav_menu": {},
   "number_sections": true,
   "sideBar": true,
   "skip_h1_title": false,
   "title_cell": "Table of Contents",
   "title_sidebar": "Contents",
   "toc_cell": false,
   "toc_position": {},
   "toc_section_display": true,
   "toc_window_display": false
  },
  "varInspector": {
   "cols": {
    "lenName": 16,
    "lenType": 16,
    "lenVar": 40
   },
   "kernels_config": {
    "python": {
     "delete_cmd_postfix": "",
     "delete_cmd_prefix": "del ",
     "library": "var_list.py",
     "varRefreshCmd": "print(var_dic_list())"
    },
    "r": {
     "delete_cmd_postfix": ") ",
     "delete_cmd_prefix": "rm(",
     "library": "var_list.r",
     "varRefreshCmd": "cat(var_dic_list()) "
    }
   },
   "types_to_exclude": [
    "module",
    "function",
    "builtin_function_or_method",
    "instance",
    "_Feature"
   ],
   "window_display": false
  },
  "widgets": {
   "application/vnd.jupyter.widget-state+json": {
    "state": {},
    "version_major": 2,
    "version_minor": 0
   }
  }
 },
 "nbformat": 4,
 "nbformat_minor": 4
}
