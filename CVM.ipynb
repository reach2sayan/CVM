{
 "cells": [
  {
   "cell_type": "code",
   "execution_count": 1,
   "metadata": {
    "ExecuteTime": {
     "end_time": "2021-08-19T13:59:06.659990Z",
     "start_time": "2021-08-19T13:59:06.434382Z"
    }
   },
   "outputs": [],
   "source": [
    "import numpy as np\n",
    "from pprint import pprint as pp\n",
    "import re\n",
    "import math as maths\n",
    "from scipy.optimize import minimize\n",
    "from scipy.optimize import Bounds\n",
    "from ase.units import kB\n",
    "\n",
    "pattern1 = re.compile(\"\\n\\n\\n\")\n",
    "pattern2 = re.compile(\"\\n\\n\")"
   ]
  },
  {
   "cell_type": "code",
   "execution_count": 2,
   "metadata": {
    "ExecuteTime": {
     "end_time": "2021-08-19T13:59:07.293937Z",
     "start_time": "2021-08-19T13:59:07.277718Z"
    }
   },
   "outputs": [],
   "source": [
    "# Read clusters.out\n",
    "clusters = {}\n",
    "\n",
    "\n",
    "with open('clusters.out','r') as fclusters:\n",
    "    temp_clusters = fclusters.read().split('\\n\\n')\n",
    "\n",
    "for idx, cluster in enumerate(temp_clusters):\n",
    "    if cluster == '':\n",
    "        continue\n",
    "    line = cluster.split('\\n')\n",
    "    multiplicity = int(line[0])\n",
    "    length = float(line[1])\n",
    "    num_points = int(line[2])\n",
    "    clusters[idx] = {'mult':multiplicity, 'length':length, 'type':num_points}\n",
    "    \n",
    "num_clusters = len(clusters)"
   ]
  },
  {
   "cell_type": "code",
   "execution_count": 3,
   "metadata": {
    "ExecuteTime": {
     "end_time": "2021-08-19T13:59:07.662148Z",
     "start_time": "2021-08-19T13:59:07.644542Z"
    }
   },
   "outputs": [],
   "source": [
    "# Read config.out\n",
    "configs = {}\n",
    "\n",
    "fconfig = open('config.out','r')\n",
    "_ = next(fconfig)\n",
    "temp_config = fconfig.read()#.split('\\n\\n')\n",
    "temp_config = pattern1.split(temp_config)\n",
    "\n",
    "for idx, config in enumerate(temp_config):\n",
    "    if config == '':\n",
    "        continue\n",
    "    num_points = int(config[0])\n",
    "    config = pattern2.split(config[2:])\n",
    "    min_coords = []\n",
    "    for _ in range(num_points):\n",
    "        min_coords.append(config[_].split('\\n')[0])\n",
    "    configs[idx] = {'subclus': list(map(int,min_coords)), 'num_of_subclus': len(min_coords)}"
   ]
  },
  {
   "cell_type": "code",
   "execution_count": 4,
   "metadata": {
    "ExecuteTime": {
     "end_time": "2021-08-19T13:59:08.565209Z",
     "start_time": "2021-08-19T13:59:08.544194Z"
    }
   },
   "outputs": [],
   "source": [
    "# Read kb.out\n",
    "\n",
    "kb = {}\n",
    "\n",
    "fkb = open('kb.out','r')\n",
    "_ = next(fkb)\n",
    "\n",
    "temp_kb = fkb.read()\n",
    "temp_kb = temp_kb.split('\\n')\n",
    "\n",
    "for idx, kbcoeff in enumerate(temp_kb):\n",
    "    if kbcoeff == '':\n",
    "        continue\n",
    "    kb[idx] = float(kbcoeff)\n",
    "\n",
    "fkb.close()"
   ]
  },
  {
   "cell_type": "code",
   "execution_count": 5,
   "metadata": {
    "ExecuteTime": {
     "end_time": "2021-08-19T13:59:08.948103Z",
     "start_time": "2021-08-19T13:59:08.930511Z"
    }
   },
   "outputs": [],
   "source": [
    "# Read configcoeff.out\n",
    "\n",
    "configcoef = {}\n",
    "\n",
    "with open('configcoef.out','r') as fsubmult:\n",
    "    _ = next(fsubmult)\n",
    "    temp_submult = fsubmult.read()\n",
    "    temp_submult = pattern2.split(temp_submult)\n",
    "    \n",
    "for idx, submult in enumerate(temp_submult):\n",
    "    submult = submult.split('\\n')\n",
    "    while(\"\" in submult) :\n",
    "        submult.remove(\"\")\n",
    "    configcoef[idx] = list(map(float,submult[1:]))"
   ]
  },
  {
   "cell_type": "code",
   "execution_count": 6,
   "metadata": {
    "ExecuteTime": {
     "end_time": "2021-08-19T13:59:09.893659Z",
     "start_time": "2021-08-19T13:59:09.876180Z"
    }
   },
   "outputs": [],
   "source": [
    "# Read vmat.out\n",
    "\n",
    "vmat = {}\n",
    "\n",
    "with open('vmat.out') as fvmat:\n",
    "    _ = next(fvmat)\n",
    "    temp_vmat = fvmat.read()\n",
    "    #temp_vmat = temp_vmat.split('\\n')\n",
    "    temp_vmat = pattern2.split(temp_vmat)\n",
    "    \n",
    "    while(\"\" in temp_vmat) :\n",
    "        temp_vmat.remove(\"\")\n",
    "    \n",
    "    for clus_idx, mat in enumerate(temp_vmat):\n",
    "        mat = mat.split('\\n')\n",
    "        mat_float = np.empty(list(map(int, mat[0].split(' '))))\n",
    "        for idx, row in enumerate(mat[1:]):\n",
    "            mat_float[idx] = list(map(float,row.split(' ')[:-1]))\n",
    "        \n",
    "        vmat[clus_idx] = mat_float"
   ]
  },
  {
   "cell_type": "code",
   "execution_count": 7,
   "metadata": {
    "ExecuteTime": {
     "end_time": "2021-08-19T13:59:10.936759Z",
     "start_time": "2021-08-19T13:59:10.898992Z"
    }
   },
   "outputs": [
    {
     "data": {
      "text/plain": [
       "{0: 0.006143, 1: -0.018951, 2: 0.01147, 3: -0.009881, 4: 2.3e-05, 5: 0.002117}"
      ]
     },
     "execution_count": 7,
     "metadata": {},
     "output_type": "execute_result"
    }
   ],
   "source": [
    "# Read eci\n",
    "eci = {}\n",
    "\n",
    "with open('eci.out') as feci:\n",
    "    _ = next(feci)\n",
    "    temp_eci = feci.read()\n",
    "    temp_eci = temp_eci.split('\\n')\n",
    "\n",
    "for idx, eci_val in enumerate(temp_eci):\n",
    "    if eci_val == '':\n",
    "        continue\n",
    "    eci[idx] = float(eci_val)\n",
    "\n",
    "eci"
   ]
  },
  {
   "cell_type": "code",
   "execution_count": null,
   "metadata": {
    "ExecuteTime": {
     "end_time": "2021-08-19T13:32:45.287956Z",
     "start_time": "2021-08-19T13:32:45.275629Z"
    }
   },
   "outputs": [],
   "source": [
    "corrs = np.array([1.0,-0.14286,0.02041,0.02041,0.00292,0.0])"
   ]
  },
  {
   "cell_type": "markdown",
   "metadata": {},
   "source": [
    "## Doing the Optimisation"
   ]
  },
  {
   "cell_type": "code",
   "execution_count": 44,
   "metadata": {
    "ExecuteTime": {
     "end_time": "2021-08-19T14:11:43.840887Z",
     "start_time": "2021-08-19T14:11:43.803469Z"
    }
   },
   "outputs": [],
   "source": [
    "#corrs = np.array([1.0,-1,0.02041,0.02041,0.00292,0.0])\n",
    "\n",
    "#cluster_optim = []\n",
    "#for cluster_idx, cluster in clusters.items():\n",
    "#    cluster_optim.append(cluster['type'] >= 2)\n",
    "    \n",
    "#corrs_optim = corrs[cluster_optim]\n",
    "#corrs_fixed = corrs[[not elem for elem in cluster_optim]]\n",
    "FIXED_CORR_1 = 1.0\n",
    "corrs = np.array([1.0,FIXED_CORR_1,0.02041,0.02041,0.00292,0.0])\n",
    "#corrs = np.array([1.0,FIXED_CORR_1,1.00000, 1.00000, -1.00000, 1.00000])\n",
    "\n",
    "bounds_corrs = Bounds(np.array([-1]*len(corrs)),np.array([1]*len(corrs)))\n",
    "\n",
    "def constraint_rhos_sum(corrs, vmat, clusters, configcoef,):\n",
    "    \n",
    "    rho_sum = []\n",
    "    \n",
    "    #corrs = np.concatenate((corrs_fixed,corrs_optim))\n",
    "    def clus_prob(cluster_idx):\n",
    "        rho = np.matmul(vmat[cluster_idx],corrs)\n",
    "        return rho\n",
    "    \n",
    "    for cluster_idx, _ in clusters.items():\n",
    "        rho = clus_prob(cluster_idx)\n",
    "        rho_sum.append(np.sum(configcoef[cluster_idx]*rho))\n",
    "    \n",
    "    return np.sum(1 - np.array(rho_sum))\n",
    "\n",
    "def constraint_rhos_single(corrs, vmat, clusters, configcoef,):\n",
    "    \n",
    "    all_pos = []\n",
    "    \n",
    "    #corrs = np.concatenate((corrs_fixed,corrs_optim))\n",
    "    def clus_prob(cluster_idx):\n",
    "        rho = np.matmul(vmat[cluster_idx],corrs)\n",
    "        return rho\n",
    "    \n",
    "    for cluster_idx, _ in clusters.items():\n",
    "        rho = clus_prob(cluster_idx)\n",
    "        all_pos.append(((rho >= 0).all() and (rho <= 1).all()))\n",
    "    \n",
    "    return 1 - int(all(all_pos))\n",
    "\n",
    "def constraint_singlet(corrs):\n",
    "    \n",
    "    return corrs[1] - FIXED_CORR_1\n",
    "\n",
    "def constraint_zero(corrs):\n",
    "    \n",
    "    return corrs[0] - 1.0\n",
    "                    \n",
    "       \n",
    "def F(corrs, vmat, kb, clusters, configs, configcoef,):\n",
    "\n",
    "    S = 0\n",
    "    H = 0\n",
    "    #corrs = np.concatenate((corrs_fixed,corrs_optim))\n",
    "    \n",
    "    def clus_prob(cluster_idx):\n",
    "        rho = np.matmul(vmat[cluster_idx],corrs)\n",
    "\n",
    "        return rho\n",
    "    \n",
    "    def inner_sum(cluster_idx):\n",
    "        isum = 0\n",
    "        rho = clus_prob(cluster_idx)\n",
    "        #print(rho)\n",
    "        try:\n",
    "            for i in range(configs[cluster_idx]['num_of_subclus']):\n",
    "                isum += configcoef[cluster_idx][i] * rho[i] * maths.log(rho[i])\n",
    "        except ValueError as ve:\n",
    "            #print(ve)\n",
    "            pass\n",
    "        #for i in range(configs[cluster_idx]['num_of_subclus']):\n",
    "        #        isum += configcoef[cluster_idx][i] * rho[i] * np.log(rho[i])\n",
    "        return isum \n",
    "            \n",
    "    for cluster_idx, cluster in clusters.items():\n",
    "        H += cluster['mult']*eci[cluster_idx]*corrs[cluster_idx]\n",
    "        S += kb[cluster_idx]*inner_sum(cluster_idx)\n",
    "\n",
    "    T = 3000\n",
    "    \n",
    "    #print(corrs)\n",
    "    return S\n",
    "    #return H - T*kB*S"
   ]
  },
  {
   "cell_type": "code",
   "execution_count": 45,
   "metadata": {
    "ExecuteTime": {
     "end_time": "2021-08-19T14:11:45.672132Z",
     "start_time": "2021-08-19T14:11:44.834095Z"
    }
   },
   "outputs": [
    {
     "name": "stdout",
     "output_type": "stream",
     "text": [
      "`xtol` termination condition is satisfied.\n",
      "Number of iterations: 268, function evaluations: 3484, CG iterations: 262, optimality: 8.10e-14, constraint violation: 1.00e+00, execution time:  0.8 s.\n"
     ]
    }
   ],
   "source": [
    "res = minimize(F, \n",
    "               corrs, \n",
    "               args=(vmat, kb, clusters, configs, configcoef,),\n",
    "               method='trust-constr', \n",
    "               options={'verbose': 1,},#'gtol': 1e-3, 'maxiter': 200},\n",
    "               jac='3-point',\n",
    "               constraints=[{'fun': constraint_rhos_sum, 'type': 'eq', 'args': (vmat, clusters, configcoef,)},\n",
    "                            {'fun': constraint_rhos_single, 'type': 'eq', 'args': (vmat, clusters, configcoef,)},\n",
    "                            {'fun': constraint_singlet, 'type': 'eq'},\n",
    "                            {'fun': constraint_zero, 'type':'eq'},\n",
    "                           ],\n",
    "               bounds=bounds_corrs\n",
    "              )\n",
    "#"
   ]
  },
  {
   "cell_type": "code",
   "execution_count": 46,
   "metadata": {
    "ExecuteTime": {
     "end_time": "2021-08-19T14:11:47.024496Z",
     "start_time": "2021-08-19T14:11:47.002614Z"
    }
   },
   "outputs": [
    {
     "name": "stdout",
     "output_type": "stream",
     "text": [
      "[1.]\n",
      "[-4.87127005e-12  1.00000000e+00]\n",
      "[-0.25001112  0.25001112  0.74998888]\n",
      "[-0.24998664  0.24998664  0.75001336]\n",
      "[-2.49998934e-01 -1.21882067e-05  2.50023311e-01  1.22983107e-05\n",
      "  2.49998824e-01  4.99990053e-01]\n",
      "[-0.18748972 -0.06250921  0.06252151  0.06249702  0.1875018   0.31248825]\n",
      "=====================\n",
      "[ 1.00000000e+00  1.00000000e+00 -4.44901478e-05  5.34559220e-05\n",
      " -4.40497221e-05  5.92571983e-05]\n"
     ]
    }
   ],
   "source": [
    "for cluster_idx in clusters:\n",
    "    print(np.matmul(vmat[cluster_idx],res.x))\n",
    "\n",
    "print('=====================')\n",
    "print(res.x)"
   ]
  },
  {
   "cell_type": "code",
   "execution_count": 47,
   "metadata": {
    "ExecuteTime": {
     "end_time": "2021-08-19T14:11:55.920557Z",
     "start_time": "2021-08-19T14:11:55.891896Z"
    }
   },
   "outputs": [
    {
     "data": {
      "text/plain": [
       " barrier_parameter: 2.048000000000001e-09\n",
       " barrier_tolerance: 2.048000000000001e-09\n",
       "          cg_niter: 262\n",
       "      cg_stop_cond: 4\n",
       "            constr: [array([1.95881134e-09]), array([1]), array([-3.16725979e-10]), array([-3.26468519e-10]), array([ 1.00000000e+00,  1.00000000e+00, -4.44901478e-05,  5.34559220e-05,\n",
       "       -4.40497221e-05,  5.92571983e-05])]\n",
       "       constr_nfev: [1876, 1876, 1876, 1876, 0]\n",
       "       constr_nhev: [0, 0, 0, 0, 0]\n",
       "       constr_njev: [0, 0, 0, 0, 0]\n",
       "    constr_penalty: 72497.86383675066\n",
       "  constr_violation: 1.0\n",
       "    execution_time: 0.8042042255401611\n",
       "               fun: 0.0\n",
       "              grad: array([ 2.92694604, -3.42694604,  0.        ,  0.        ,  0.        ,\n",
       "        0.        ])\n",
       "               jac: [array([[-6.00000001,  0.        , -0.        ,  0.        , -0.        ,\n",
       "         0.        ]]), array([[ 0.,  0., -0.,  0., -0.,  0.]]), array([[ 0.,  1., -0.,  0., -0.,  0.]]), array([[ 1.,  0., -0.,  0., -0.,  0.]]), array([[1., 0., 0., 0., 0., 0.],\n",
       "       [0., 1., 0., 0., 0., 0.],\n",
       "       [0., 0., 1., 0., 0., 0.],\n",
       "       [0., 0., 0., 1., 0., 0.],\n",
       "       [0., 0., 0., 0., 1., 0.],\n",
       "       [0., 0., 0., 0., 0., 1.]])]\n",
       "   lagrangian_grad: array([-5.27355937e-16, -4.44089210e-16, -6.10120191e-14,  7.42079300e-14,\n",
       "       -6.02746301e-14,  8.10220637e-14])\n",
       "           message: '`xtol` termination condition is satisfied.'\n",
       "            method: 'tr_interior_point'\n",
       "              nfev: 3484\n",
       "              nhev: 0\n",
       "               nit: 268\n",
       "             niter: 268\n",
       "              njev: 268\n",
       "        optimality: 8.102206372407824e-14\n",
       "            status: 2\n",
       "           success: True\n",
       "         tr_radius: 7.812483336943795e-09\n",
       "                 v: [array([0.51357925]), array([-9.14649522e-09]), array([2.21843217]), array([-0.08559654]), array([ 2.40126008e-01,  1.20851388e+00, -6.10120191e-14,  7.42079300e-14,\n",
       "       -6.02746301e-14,  8.10220637e-14])]\n",
       "                 x: array([ 1.00000000e+00,  1.00000000e+00, -4.44901478e-05,  5.34559220e-05,\n",
       "       -4.40497221e-05,  5.92571983e-05])"
      ]
     },
     "execution_count": 47,
     "metadata": {},
     "output_type": "execute_result"
    }
   ],
   "source": [
    "res"
   ]
  }
 ],
 "metadata": {
  "kernelspec": {
   "display_name": "Python 3",
   "language": "python",
   "name": "python3"
  },
  "language_info": {
   "codemirror_mode": {
    "name": "ipython",
    "version": 3
   },
   "file_extension": ".py",
   "mimetype": "text/x-python",
   "name": "python",
   "nbconvert_exporter": "python",
   "pygments_lexer": "ipython3",
   "version": "3.8.10"
  },
  "toc": {
   "base_numbering": 1,
   "nav_menu": {},
   "number_sections": true,
   "sideBar": true,
   "skip_h1_title": false,
   "title_cell": "Table of Contents",
   "title_sidebar": "Contents",
   "toc_cell": false,
   "toc_position": {},
   "toc_section_display": true,
   "toc_window_display": false
  },
  "varInspector": {
   "cols": {
    "lenName": 16,
    "lenType": 16,
    "lenVar": 40
   },
   "kernels_config": {
    "python": {
     "delete_cmd_postfix": "",
     "delete_cmd_prefix": "del ",
     "library": "var_list.py",
     "varRefreshCmd": "print(var_dic_list())"
    },
    "r": {
     "delete_cmd_postfix": ") ",
     "delete_cmd_prefix": "rm(",
     "library": "var_list.r",
     "varRefreshCmd": "cat(var_dic_list()) "
    }
   },
   "types_to_exclude": [
    "module",
    "function",
    "builtin_function_or_method",
    "instance",
    "_Feature"
   ],
   "window_display": false
  }
 },
 "nbformat": 4,
 "nbformat_minor": 4
}
