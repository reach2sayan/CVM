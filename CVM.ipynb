{
 "cells": [
  {
   "cell_type": "code",
   "execution_count": 2,
   "metadata": {
    "ExecuteTime": {
     "end_time": "2021-08-26T01:50:43.311973Z",
     "start_time": "2021-08-26T01:50:42.692743Z"
    }
   },
   "outputs": [],
   "source": [
    "import numpy as np\n",
    "from pprint import pprint as pp\n",
    "import re\n",
    "import math\n",
    "from scipy.optimize import minimize\n",
    "from scipy.optimize import SR1, BFGS\n",
    "from scipy.optimize import Bounds\n",
    "from scipy.optimize import LinearConstraint\n",
    "from scipy.optimize import NonlinearConstraint\n",
    "from ase.units import kB\n",
    "from tqdm.notebook import tqdm\n",
    "import pandas as pd\n",
    "import matplotlib.pyplot as plt\n",
    "import plotly.graph_objects as go\n",
    "from ase import Atoms\n",
    "from clusterx.parent_lattice import ParentLattice\n",
    "from clusterx.clusters.clusters_pool import ClustersPool\n",
    "from clusterx.correlations import CorrelationsCalculator\n",
    "import numdifftools as nd\n",
    "import sys\n",
    "\n",
    "pattern1 = re.compile(\"\\n\\n\\n\")\n",
    "pattern2 = re.compile(\"\\n\\n\")"
   ]
  },
  {
   "cell_type": "code",
   "execution_count": 3,
   "metadata": {
    "ExecuteTime": {
     "end_time": "2021-08-26T01:50:43.578489Z",
     "start_time": "2021-08-26T01:50:43.569896Z"
    }
   },
   "outputs": [],
   "source": [
    "# Read clusters.out\n",
    "clusters = {}\n",
    "\n",
    "\n",
    "with open('clusters.out','r') as fclusters:\n",
    "    temp_clusters = fclusters.read().split('\\n\\n')\n",
    "\n",
    "for idx, cluster in enumerate(temp_clusters):\n",
    "    if cluster == '':\n",
    "        continue\n",
    "    line = cluster.split('\\n')\n",
    "    multiplicity = int(line[0])\n",
    "    length = float(line[1])\n",
    "    num_points = int(line[2])\n",
    "    clusters[idx] = {'mult':multiplicity, 'length':length, 'type':num_points}\n",
    "    \n",
    "num_clusters = len(clusters)"
   ]
  },
  {
   "cell_type": "code",
   "execution_count": 4,
   "metadata": {
    "ExecuteTime": {
     "end_time": "2021-08-26T01:50:44.268290Z",
     "start_time": "2021-08-26T01:50:44.234909Z"
    }
   },
   "outputs": [],
   "source": [
    "# Read config.out\n",
    "configs = {}\n",
    "\n",
    "fconfig = open('config.out','r')\n",
    "_ = next(fconfig)\n",
    "temp_config = fconfig.read()#.split('\\n\\n')\n",
    "temp_config = pattern1.split(temp_config)\n",
    "\n",
    "for idx, config in enumerate(temp_config):\n",
    "    if config == '':\n",
    "        continue\n",
    "    num_points = int(config[0])\n",
    "    config = pattern2.split(config[2:])\n",
    "    min_coords = []\n",
    "    for _ in range(num_points):\n",
    "        min_coords.append(config[_].split('\\n')[0])\n",
    "    configs[idx] = {'subclus': list(map(int,min_coords)), 'num_of_subclus': len(min_coords)}"
   ]
  },
  {
   "cell_type": "code",
   "execution_count": 5,
   "metadata": {
    "ExecuteTime": {
     "end_time": "2021-08-26T01:50:44.689526Z",
     "start_time": "2021-08-26T01:50:44.668102Z"
    }
   },
   "outputs": [],
   "source": [
    "# Read kb.out\n",
    "\n",
    "kb = {}\n",
    "\n",
    "fkb = open('kb.out','r')\n",
    "_ = next(fkb)\n",
    "\n",
    "temp_kb = fkb.read()\n",
    "temp_kb = temp_kb.split('\\n')\n",
    "\n",
    "for idx, kbcoeff in enumerate(temp_kb):\n",
    "    if kbcoeff == '':\n",
    "        continue\n",
    "    kb[idx] = float(kbcoeff)\n",
    "\n",
    "fkb.close()"
   ]
  },
  {
   "cell_type": "code",
   "execution_count": 6,
   "metadata": {
    "ExecuteTime": {
     "end_time": "2021-08-26T01:50:45.369622Z",
     "start_time": "2021-08-26T01:50:45.361763Z"
    }
   },
   "outputs": [],
   "source": [
    "# Read configcoeff.out\n",
    "\n",
    "configcoef = {}\n",
    "\n",
    "with open('configcoef.out','r') as fsubmult:\n",
    "    _ = next(fsubmult)\n",
    "    temp_submult = fsubmult.read()\n",
    "    temp_submult = pattern2.split(temp_submult)\n",
    "    \n",
    "for idx, submult in enumerate(temp_submult):\n",
    "    submult = submult.split('\\n')\n",
    "    while(\"\" in submult) :\n",
    "        submult.remove(\"\")\n",
    "    configcoef[idx] = list(map(float,submult[1:]))"
   ]
  },
  {
   "cell_type": "code",
   "execution_count": 7,
   "metadata": {
    "ExecuteTime": {
     "end_time": "2021-08-26T01:50:45.780019Z",
     "start_time": "2021-08-26T01:50:45.745170Z"
    }
   },
   "outputs": [],
   "source": [
    "# Read vmat.out\n",
    "\n",
    "vmat = {}\n",
    "\n",
    "with open('vmat.out') as fvmat:\n",
    "    _ = next(fvmat)\n",
    "    temp_vmat = fvmat.read()\n",
    "    #temp_vmat = temp_vmat.split('\\n')\n",
    "    temp_vmat = pattern2.split(temp_vmat)\n",
    "    \n",
    "    while(\"\" in temp_vmat) :\n",
    "        temp_vmat.remove(\"\")\n",
    "    \n",
    "    for clus_idx, mat in enumerate(temp_vmat):\n",
    "        mat = mat.split('\\n')\n",
    "        mat_float = np.empty(list(map(int, mat[0].split(' '))))\n",
    "        for idx, row in enumerate(mat[1:]):\n",
    "            mat_float[idx] = list(map(float,row.split(' ')[:-1]))\n",
    "        \n",
    "        vmat[clus_idx] = mat_float"
   ]
  },
  {
   "cell_type": "code",
   "execution_count": 8,
   "metadata": {
    "ExecuteTime": {
     "end_time": "2021-08-26T01:50:46.617727Z",
     "start_time": "2021-08-26T01:50:46.605570Z"
    }
   },
   "outputs": [],
   "source": [
    "# Read eci\n",
    "eci = {}\n",
    "\n",
    "with open('eci.out') as feci:\n",
    "    _ = next(feci)\n",
    "    temp_eci = feci.read()\n",
    "    temp_eci = temp_eci.split('\\n')\n",
    "\n",
    "for idx, eci_val in enumerate(temp_eci):\n",
    "    if eci_val == '':\n",
    "        continue\n",
    "    eci[idx] = float(eci_val)"
   ]
  },
  {
   "cell_type": "code",
   "execution_count": 26,
   "metadata": {
    "ExecuteTime": {
     "end_time": "2021-08-26T01:55:32.129567Z",
     "start_time": "2021-08-26T01:55:32.117112Z"
    }
   },
   "outputs": [],
   "source": [
    "#eci = {0: 0, 1: -0.0189, 2: 0.0, 3: 0.0, 4: 0.0, 5: 0.0}\n",
    "eci = {0: 1, 1: -0.5, 2: 0, 3: 0, 4: 0, 5: 0}"
   ]
  },
  {
   "cell_type": "code",
   "execution_count": 27,
   "metadata": {
    "ExecuteTime": {
     "end_time": "2021-08-26T01:55:32.901594Z",
     "start_time": "2021-08-26T01:55:32.885918Z"
    }
   },
   "outputs": [
    {
     "data": {
      "text/plain": [
       "{0: 1, 1: -0.5, 2: 0, 3: 0, 4: 0, 5: 0}"
      ]
     },
     "execution_count": 27,
     "metadata": {},
     "output_type": "execute_result"
    }
   ],
   "source": [
    "eci"
   ]
  },
  {
   "cell_type": "code",
   "execution_count": 105,
   "metadata": {
    "ExecuteTime": {
     "end_time": "2021-08-26T03:04:33.830887Z",
     "start_time": "2021-08-26T03:04:33.823152Z"
    }
   },
   "outputs": [],
   "source": [
    "#corrs = np.array([1.    , 0.5   , 0.25  , 0.25  , 0.125 , 0.0625])\n",
    "corrs = np.array([ 1.0, 0,  0.08,  0.23,-0.00054,  0.165])\n",
    "#corrs = np.array([ 1.  , 0.0 ,  0.25 ,  -0.25 ,  0.125 ,  0.0])"
   ]
  },
  {
   "cell_type": "markdown",
   "metadata": {},
   "source": [
    "## Optimisation"
   ]
  },
  {
   "cell_type": "markdown",
   "metadata": {},
   "source": [
    "### Setting up F, F Jacobian and F Hessian"
   ]
  },
  {
   "cell_type": "code",
   "execution_count": 93,
   "metadata": {
    "ExecuteTime": {
     "end_time": "2021-08-26T02:50:43.129028Z",
     "start_time": "2021-08-26T02:50:43.099307Z"
    }
   },
   "outputs": [],
   "source": [
    "def F(corrs, vmat, kb, clusters, configs, configcoef,T):\n",
    "\n",
    "    S = 0\n",
    "    H = 0\n",
    "    \n",
    "    def clus_prob(cluster_idx):\n",
    "        rho = np.matmul(vmat[cluster_idx],corrs)\n",
    "\n",
    "        return rho\n",
    "    \n",
    "    def inner_sum(cluster_idx):\n",
    "        isum = 0\n",
    "        rho = clus_prob(cluster_idx)\n",
    "        #print(rho)\n",
    "        try:\n",
    "            for i in range(configs[cluster_idx]['num_of_subclus']):\n",
    "                isum += configcoef[cluster_idx][i] * rho[i] * math.log(rho[i])\n",
    "        except ValueError as ve:\n",
    "            print('Math Domain Error. Check the validity of the correlations')\n",
    "            pass\n",
    "        return isum \n",
    "            \n",
    "    for cluster_idx, cluster in clusters.items():\n",
    "        H += cluster['mult']*eci[cluster_idx]*corrs[cluster_idx]\n",
    "        S += -kb[cluster_idx]*inner_sum(cluster_idx)\n",
    "        \n",
    "    #return kB*S\n",
    "    return H + kB*T*S"
   ]
  },
  {
   "cell_type": "code",
   "execution_count": 94,
   "metadata": {
    "ExecuteTime": {
     "end_time": "2021-08-26T02:50:43.530093Z",
     "start_time": "2021-08-26T02:50:43.495493Z"
    }
   },
   "outputs": [
    {
     "name": "stdout",
     "output_type": "stream",
     "text": [
      "Math Domain Error. Check the validity of the correlations\n"
     ]
    },
    {
     "data": {
      "text/plain": [
       "1.0044906860393616"
      ]
     },
     "execution_count": 94,
     "metadata": {},
     "output_type": "execute_result"
    }
   ],
   "source": [
    "T = 50\n",
    "F(corrs, vmat, kb, clusters, configs, configcoef,T)"
   ]
  },
  {
   "cell_type": "code",
   "execution_count": 116,
   "metadata": {
    "ExecuteTime": {
     "end_time": "2021-08-26T03:06:17.205013Z",
     "start_time": "2021-08-26T03:06:17.181652Z"
    }
   },
   "outputs": [],
   "source": [
    "def F_jacobian(corrs, vmat, kb, clusters, configs, configcoef,T):\n",
    "    \n",
    "    def get_corr_sum(corrs,vmat,cluster_index,config_idx):\n",
    "        corrsum = 0\n",
    "        for corr_idx, corr in enumerate(corrs):\n",
    "            corrsum += vmat[cluster_idx][config_idx][corr_idx]*corr\n",
    "        #print(corrsum,cluster_idx)\n",
    "        return corrsum\n",
    "            \n",
    "    \n",
    "    F_jac = []\n",
    "    for corr_idx, corr in enumerate(corrs):\n",
    "        temp_S_jac = 0\n",
    "        for cluster_idx, cluster in clusters.items():\n",
    "            temp_config_sum = 0\n",
    "            for config_idx, config in enumerate(configcoef[cluster_idx]):\n",
    "                try:\n",
    "                    corrsum = get_corr_sum(corrs,vmat,cluster_idx,config_idx)\n",
    "                    temp_config_sum += config*vmat[cluster_idx][config_idx][corr_idx]*(1 + math.log(corrsum))\n",
    "                except ValueError as ve:\n",
    "                    print('Math Domain Error. Check the validity of the correlations')\n",
    "                    print(f'corrs: {corrs} \\n Correlation Sum: {corrsum}')\n",
    "            \n",
    "            temp_S_jac += kb[cluster_idx]*temp_config_sum\n",
    "        \n",
    "        F_jac.append(cluster['mult']*eci[cluster_idx] + kB*T*temp_S_jac)\n",
    "        \n",
    "    return np.array(F_jac)"
   ]
  },
  {
   "cell_type": "code",
   "execution_count": 117,
   "metadata": {
    "ExecuteTime": {
     "end_time": "2021-08-26T03:06:17.573821Z",
     "start_time": "2021-08-26T03:06:17.568887Z"
    }
   },
   "outputs": [
    {
     "data": {
      "text/plain": [
       "array([-7.89627893e-03,  2.38136917e-06,  6.41465063e-04,  1.77478766e-03,\n",
       "       -5.49244548e-06,  5.13618208e-04])"
      ]
     },
     "execution_count": 117,
     "metadata": {},
     "output_type": "execute_result"
    }
   ],
   "source": [
    "F_jacobian(corrs, vmat, kb, clusters, configs, configcoef,T)"
   ]
  },
  {
   "cell_type": "code",
   "execution_count": 114,
   "metadata": {
    "ExecuteTime": {
     "end_time": "2021-08-26T03:06:12.846404Z",
     "start_time": "2021-08-26T03:06:12.822782Z"
    }
   },
   "outputs": [],
   "source": [
    "def F_hessian(corrs, vmat, kb, clusters, configs, configcoef,T):\n",
    "    F_hess = np.empty([len(corrs),len(corrs)])\n",
    "    \n",
    "    def get_corr_sum(corrs,vmat,cluster_index,config_idx):\n",
    "        corrsum = 0\n",
    "        for corr_idx, corr in enumerate(corrs):\n",
    "            corrsum += vmat[cluster_idx][config_idx][corr_idx]*corr\n",
    "        #print(corrsum,cluster_idx)\n",
    "        return corrsum\n",
    "    \n",
    "    for corr_idx_1, corr_1 in enumerate(corrs):\n",
    "        for corr_idx_2, corr_2 in enumerate(corrs):\n",
    "            temp_hess = 0\n",
    "            for cluster_idx, cluster in clusters.items():\n",
    "                temp_config_sum = 0\n",
    "                for config_idx, config in enumerate(configcoef[cluster_idx]):\n",
    "                    corrsum = get_corr_sum(corrs,vmat,cluster_idx,config_idx)\n",
    "                    temp_config_sum += config*vmat[cluster_idx][config_idx][corr_idx_1]*vmat[cluster_idx][config_idx][corr_idx_2]/corrsum\n",
    "                temp_hess += kb[cluster_idx]*temp_config_sum\n",
    "            F_hess[corr_idx_1][corr_idx_2] = temp_hess\n",
    "    \n",
    "    return F_hess\n",
    "                    "
   ]
  },
  {
   "cell_type": "code",
   "execution_count": 123,
   "metadata": {
    "ExecuteTime": {
     "end_time": "2021-08-26T03:08:35.032125Z",
     "start_time": "2021-08-26T03:08:35.009383Z"
    }
   },
   "outputs": [
    {
     "data": {
      "text/plain": [
       "array([[ 1.11291011e+00, -8.99827492e-04, -9.90097804e-02,\n",
       "        -3.96110791e-01,  1.19131116e-03, -8.41405958e-02],\n",
       "       [-8.99827492e-04,  3.39965943e+00,  4.86883156e-04,\n",
       "         2.38811034e-05, -1.02350722e+00,  1.83448658e-03],\n",
       "       [-9.90097804e-02,  4.86883156e-04,  1.91328293e+00,\n",
       "        -1.44566519e-01,  1.23802887e-03, -1.26072037e-01],\n",
       "       [-3.96110791e-01,  2.38811034e-05, -1.44566519e-01,\n",
       "         2.05165389e+00,  8.38574910e-04, -3.89114114e-01],\n",
       "       [ 1.19131116e-03, -1.02350722e+00,  1.23802887e-03,\n",
       "         8.38574910e-04,  2.36064046e+00, -1.26351423e-03],\n",
       "       [-8.41405958e-02,  1.83448658e-03, -1.26072037e-01,\n",
       "        -3.89114114e-01, -1.26351423e-03,  1.11346620e+00]])"
      ]
     },
     "execution_count": 123,
     "metadata": {},
     "output_type": "execute_result"
    }
   ],
   "source": [
    "F_hessian(corrs, vmat, kb, clusters, configs, configcoef,T)"
   ]
  },
  {
   "cell_type": "markdown",
   "metadata": {},
   "source": [
    "### Setting up Constraints"
   ]
  },
  {
   "cell_type": "code",
   "execution_count": 29,
   "metadata": {
    "ExecuteTime": {
     "end_time": "2021-08-26T01:55:45.489533Z",
     "start_time": "2021-08-26T01:55:45.476234Z"
    }
   },
   "outputs": [],
   "source": [
    "def constraint_rhos_sum(corrs, vmat, clusters, configcoef,):\n",
    "    \n",
    "    rho_sum = []\n",
    "\n",
    "    def clus_prob(cluster_idx):\n",
    "        rho = np.matmul(vmat[cluster_idx],corrs)\n",
    "        return rho\n",
    "    \n",
    "    for cluster_idx, _ in clusters.items():\n",
    "        rho = clus_prob(cluster_idx)\n",
    "        rho_sum.append(np.sum(configcoef[cluster_idx]*rho))\n",
    "    \n",
    "    return np.sum(1 - np.array(rho_sum))\n",
    "\n",
    "def constraint_singlet(corrs,FIXED_CORR_1):\n",
    "    return corrs[1] - FIXED_CORR_1   \n",
    "\n",
    "def constraint_zero(corrs):\n",
    "    return 1 - corrs[0]  "
   ]
  },
  {
   "cell_type": "code",
   "execution_count": 33,
   "metadata": {
    "ExecuteTime": {
     "end_time": "2021-08-26T01:56:00.655270Z",
     "start_time": "2021-08-26T01:56:00.632137Z"
    },
    "code_folding": []
   },
   "outputs": [],
   "source": [
    "def get_random_corr():\n",
    "    \n",
    "    conc = 0.0\n",
    "    a=0.5\n",
    "    pri = Atoms(positions=[[0,0,0]],cell=[[a,a,a],[a,-a,a],[a,a,-a]],pbc=(1,1,1))\n",
    "    plat = ParentLattice(pri,site_symbols=[['Cs','Cl',]])\n",
    "\n",
    "    cpool = ClustersPool(plat, npoints=[0,1,2,2,3,4], radii=[0,0,1.0,0.866,1.0,1.0],)\n",
    "    corrcal = CorrelationsCalculator(\"trigonometric\", plat, cpool)\n",
    "    \n",
    "    #return corrcal.get_binary_random_structure_correlations(0.5)\n",
    "    while conc <= 1.0:\n",
    "        yield corrcal.get_binary_random_structure_correlations(conc)\n",
    "        conc += 0.25"
   ]
  },
  {
   "cell_type": "code",
   "execution_count": 32,
   "metadata": {
    "ExecuteTime": {
     "end_time": "2021-08-26T01:55:50.157629Z",
     "start_time": "2021-08-26T01:55:50.150209Z"
    }
   },
   "outputs": [],
   "source": [
    "def callback(corrs, res):\n",
    "    for cluster_idx in clusters:\n",
    "        print(np.matmul(vmat[cluster_idx],res.x))\n",
    "\n",
    "    print('=====================')\n",
    "    "
   ]
  },
  {
   "cell_type": "markdown",
   "metadata": {},
   "source": [
    "### Perform the Optimisation"
   ]
  },
  {
   "cell_type": "code",
   "execution_count": 55,
   "metadata": {
    "ExecuteTime": {
     "end_time": "2021-08-26T02:06:27.739552Z",
     "start_time": "2021-08-26T02:06:17.164540Z"
    }
   },
   "outputs": [
    {
     "data": {
      "application/vnd.jupyter.widget-view+json": {
       "model_id": "f06553e45e064bc49425d55fd5b845c0",
       "version_major": 2,
       "version_minor": 0
      },
      "text/plain": [
       "  0%|          | 0/1 [00:00<?, ?it/s]"
      ]
     },
     "metadata": {},
     "output_type": "display_data"
    },
    {
     "data": {
      "application/vnd.jupyter.widget-view+json": {
       "model_id": "2ca86fe99fa942cfaeaeba6510328637",
       "version_major": 2,
       "version_minor": 0
      },
      "text/plain": [
       "  0%|          | 0/17 [00:00<?, ?it/s]"
      ]
     },
     "metadata": {},
     "output_type": "display_data"
    },
    {
     "name": "stderr",
     "output_type": "stream",
     "text": [
      "/home/sayan/.local/lib/python3.8/site-packages/scipy/optimize/_trustregion_constr/projections.py:181: UserWarning:\n",
      "\n",
      "Singular Jacobian matrix. Using SVD decomposition to perform the factorizations.\n",
      "\n",
      "/home/sayan/.local/lib/python3.8/site-packages/scipy/optimize/_hessian_update_strategy.py:182: UserWarning:\n",
      "\n",
      "delta_grad == 0.0. Check if the approximated function is linear. If the function is linear better results can be obtained by defining the Hessian as zero instead of using quasi-Newton approximations.\n",
      "\n"
     ]
    },
    {
     "name": "stdout",
     "output_type": "stream",
     "text": [
      "`gtol` termination condition is satisfied.\n",
      "Number of iterations: 41, function evaluations: 416, CG iterations: 0, optimality: 8.15e-09, constraint violation: 7.96e-09, execution time:  0.4 s.\n",
      "`xtol` termination condition is satisfied.\n",
      "Number of iterations: 199, function evaluations: 468, CG iterations: 0, optimality: 2.14e-03, constraint violation: 2.22e-16, execution time:  0.6 s.\n",
      "`xtol` termination condition is satisfied.\n",
      "Number of iterations: 206, function evaluations: 507, CG iterations: 0, optimality: 4.18e-03, constraint violation: 1.11e-16, execution time: 0.68 s.\n",
      "`xtol` termination condition is satisfied.\n",
      "Number of iterations: 199, function evaluations: 416, CG iterations: 0, optimality: 8.57e-03, constraint violation: 0.00e+00, execution time: 0.61 s.\n",
      "`xtol` termination condition is satisfied.\n",
      "Number of iterations: 204, function evaluations: 481, CG iterations: 0, optimality: 2.01e-03, constraint violation: 0.00e+00, execution time: 0.64 s.\n",
      "`xtol` termination condition is satisfied.\n",
      "Number of iterations: 203, function evaluations: 468, CG iterations: 0, optimality: 2.42e-02, constraint violation: 0.00e+00, execution time: 0.71 s.\n",
      "`xtol` termination condition is satisfied.\n",
      "Number of iterations: 200, function evaluations: 429, CG iterations: 0, optimality: 1.76e-02, constraint violation: 1.11e-16, execution time: 0.59 s.\n",
      "`xtol` termination condition is satisfied.\n",
      "Number of iterations: 197, function evaluations: 390, CG iterations: 0, optimality: 1.76e-02, constraint violation: 0.00e+00, execution time: 0.61 s.\n",
      "`xtol` termination condition is satisfied.\n",
      "Number of iterations: 200, function evaluations: 429, CG iterations: 0, optimality: 2.46e-02, constraint violation: 1.11e-32, execution time: 0.57 s.\n",
      "`xtol` termination condition is satisfied.\n",
      "Number of iterations: 199, function evaluations: 416, CG iterations: 0, optimality: 2.48e-02, constraint violation: 0.00e+00, execution time: 0.58 s.\n",
      "`xtol` termination condition is satisfied.\n",
      "Number of iterations: 199, function evaluations: 416, CG iterations: 0, optimality: 1.81e-02, constraint violation: 0.00e+00, execution time: 0.55 s.\n",
      "`xtol` termination condition is satisfied.\n",
      "Number of iterations: 199, function evaluations: 416, CG iterations: 0, optimality: 2.12e-02, constraint violation: 1.11e-16, execution time: 0.63 s.\n",
      "`xtol` termination condition is satisfied.\n",
      "Number of iterations: 199, function evaluations: 416, CG iterations: 0, optimality: 2.05e-02, constraint violation: 0.00e+00, execution time: 0.56 s.\n",
      "`xtol` termination condition is satisfied.\n",
      "Number of iterations: 238, function evaluations: 637, CG iterations: 0, optimality: 9.97e-03, constraint violation: 0.00e+00, execution time: 0.89 s.\n",
      "`xtol` termination condition is satisfied.\n",
      "Number of iterations: 202, function evaluations: 169, CG iterations: 0, optimality: 6.19e-03, constraint violation: 3.33e-16, execution time: 0.61 s.\n",
      "`xtol` termination condition is satisfied.\n",
      "Number of iterations: 192, function evaluations: 234, CG iterations: 0, optimality: 2.25e-03, constraint violation: 0.00e+00, execution time: 0.55 s.\n",
      "`gtol` termination condition is satisfied.\n",
      "Number of iterations: 43, function evaluations: 429, CG iterations: 0, optimality: 6.22e-10, constraint violation: 6.36e-09, execution time: 0.41 s.\n"
     ]
    }
   ],
   "source": [
    "results = pd.DataFrame(columns = ['T', '1-point_corr', 'F','corrs'])\n",
    "\n",
    "for T in tqdm([10000]):#tqdm(np.logspace(0.01, 5.0, num=10)):\n",
    "    for x in tqdm(np.linspace(-1,1,17)):\n",
    "        FIXED_CORR_1 = x\n",
    "        #corrs0 = get_random_corr()\n",
    "        #corrs0 = np.array([ 1.  , FIXED_CORR_1 ,  0.25 ,  -0.25 ,  0.125 ,  0.0])\n",
    "        corrs0 = np.array([1.    , 0.5   , 0.25  , 0.25  , 0.125 , 0.0625])\n",
    "        \n",
    "        linear_constraints = []\n",
    "\n",
    "        for cluster_idx, _ in clusters.items():\n",
    "            if cluster_idx == 0:\n",
    "                linear_constraints.append(LinearConstraint(vmat[cluster_idx],\n",
    "                                                           [1]*len(configcoef[cluster_idx]),\n",
    "                                                           [1]*len(configcoef[cluster_idx])))\n",
    "            else:\n",
    "                linear_constraints.append(LinearConstraint(vmat[cluster_idx],\n",
    "                                                           [0]*len(configcoef[cluster_idx]),\n",
    "                                                           [1]*len(configcoef[cluster_idx])))\n",
    "        \n",
    "        bounds_corrs = Bounds([1, FIXED_CORR_1,*[-1]*(len(clusters)-2)],\n",
    "                              [1, FIXED_CORR_1,*[1]*(len(clusters)-2)]\n",
    "                             )\n",
    "        \n",
    "        options = {'verbose' : 1,\n",
    "                   'maxiter' : 5000,\n",
    "                   'xtol'    : 1e-15,\n",
    "                   'initial_constr_penalty' : 2,\n",
    "                  }\n",
    "        \n",
    "        res = minimize(F, \n",
    "                       corrs0, \n",
    "                       args=(vmat, kb, clusters, configs, configcoef,T),\n",
    "                       method='trust-constr', \n",
    "                       options=options,\n",
    "                       jac='3-point', hess=BFGS(),\n",
    "                       constraints=[{'fun': constraint_rhos_sum, 'type': 'eq', 'args': [vmat, clusters, configcoef,]},\n",
    "                                    *linear_constraints, \n",
    "                                    {'fun': constraint_singlet, 'type': 'eq', 'args': [FIXED_CORR_1]},\n",
    "                                    {'fun': constraint_zero, 'type':'eq'},\n",
    "                                   ],\n",
    "                       bounds=bounds_corrs,\n",
    "                       #callback=callback\n",
    "                      )\n",
    "        \n",
    "        #rhos = []\n",
    "        #for cluster_idx in clusters:\n",
    "        #    rhos.append(np.matmul(vmat[cluster_idx],res.x))\n",
    "        \n",
    "        results = results.append({'T' : T, \n",
    "                                  '1-point_corr' : x, \n",
    "                                  'F' : res.fun, \n",
    "                                  'corrs': res.x,\n",
    "                                  #'rhos': np.array(rhos)\n",
    "                                 }, \n",
    "                                 \n",
    "                                 ignore_index = True\n",
    "                                )\n",
    "#"
   ]
  },
  {
   "cell_type": "code",
   "execution_count": 56,
   "metadata": {
    "ExecuteTime": {
     "end_time": "2021-08-26T02:06:30.310354Z",
     "start_time": "2021-08-26T02:06:30.276289Z"
    }
   },
   "outputs": [
    {
     "name": "stdout",
     "output_type": "stream",
     "text": [
      "[1.]\n",
      "[3.30393862e-09 9.99999997e-01]\n",
      "[-3.39552220e-09  6.69946082e-09  9.99999990e-01]\n",
      "[-1.82520832e-09  5.12914694e-09  9.99999992e-01]\n",
      "[-1.55105720e-10 -3.24041645e-09  9.93987727e-09 -1.67010256e-09\n",
      "  8.36956336e-09  9.99999982e-01]\n",
      "[ 1.56289165e-09 -1.71799740e-09  4.78948617e-11 -1.52241903e-09\n",
      "  9.89198240e-09  9.99999972e-01]\n",
      "=====================\n"
     ]
    }
   ],
   "source": [
    "    for cluster_idx in clusters:\n",
    "        print(np.matmul(vmat[cluster_idx],res.x))\n",
    "\n",
    "    print('=====================')"
   ]
  },
  {
   "cell_type": "code",
   "execution_count": 52,
   "metadata": {
    "ExecuteTime": {
     "end_time": "2021-08-26T02:06:01.159914Z",
     "start_time": "2021-08-26T02:06:01.136438Z"
    }
   },
   "outputs": [
    {
     "data": {
      "text/plain": [
       "array([array([ 1.00000000e+00,  1.11222454e-32, -2.94352001e-02,  2.98108459e-01,\n",
       "               5.12900283e-02,  3.05682967e-01])                                 ],\n",
       "      dtype=object)"
      ]
     },
     "execution_count": 52,
     "metadata": {},
     "output_type": "execute_result"
    }
   ],
   "source": [
    "results[results['1-point_corr'] == 0]['corrs'].values"
   ]
  },
  {
   "cell_type": "code",
   "execution_count": 53,
   "metadata": {
    "ExecuteTime": {
     "end_time": "2021-08-26T02:06:01.590412Z",
     "start_time": "2021-08-26T02:06:01.562847Z"
    }
   },
   "outputs": [
    {
     "data": {
      "text/plain": [
       "array([1.11222454e-32])"
      ]
     },
     "execution_count": 53,
     "metadata": {},
     "output_type": "execute_result"
    }
   ],
   "source": [
    "np.stack(results[results['1-point_corr'] == 0.0]['corrs'].values)[:,1]"
   ]
  },
  {
   "cell_type": "code",
   "execution_count": 57,
   "metadata": {
    "ExecuteTime": {
     "end_time": "2021-08-26T02:06:36.217598Z",
     "start_time": "2021-08-26T02:06:36.144103Z"
    }
   },
   "outputs": [
    {
     "data": {
      "application/vnd.plotly.v1+json": {
       "config": {
        "plotlyServerURL": "https://plot.ly"
       },
       "data": [
        {
         "mode": "markers+lines",
         "name": "T = 10000",
         "type": "scatter",
         "x": [
          -1,
          -0.875,
          -0.75,
          -0.625,
          -0.5,
          -0.375,
          -0.25,
          -0.125,
          0,
          0.125,
          0.25,
          0.375,
          0.5,
          0.625,
          0.75,
          0.875,
          1
         ],
         "y": [
          1.5000008418924282,
          2.179814524386322,
          2.623146187054343,
          2.906338259834878,
          3.166774104216966,
          3.011580221162374,
          3.187084484419443,
          3.334933390896996,
          3.283548008803573,
          3.067922460701618,
          3.085477953522269,
          2.779999373458991,
          2.5260535363050187,
          2.2709993198635896,
          1.849982824968715,
          1.3005793889366566,
          0.4999999724999535
         ]
        }
       ],
       "layout": {
        "legend": {
         "title": {
          "text": "Temperature"
         }
        },
        "template": {
         "data": {
          "bar": [
           {
            "error_x": {
             "color": "rgb(36,36,36)"
            },
            "error_y": {
             "color": "rgb(36,36,36)"
            },
            "marker": {
             "line": {
              "color": "rgb(234,234,242)",
              "width": 0.5
             },
             "pattern": {
              "fillmode": "overlay",
              "size": 10,
              "solidity": 0.2
             }
            },
            "type": "bar"
           }
          ],
          "barpolar": [
           {
            "marker": {
             "line": {
              "color": "rgb(234,234,242)",
              "width": 0.5
             },
             "pattern": {
              "fillmode": "overlay",
              "size": 10,
              "solidity": 0.2
             }
            },
            "type": "barpolar"
           }
          ],
          "carpet": [
           {
            "aaxis": {
             "endlinecolor": "rgb(36,36,36)",
             "gridcolor": "white",
             "linecolor": "white",
             "minorgridcolor": "white",
             "startlinecolor": "rgb(36,36,36)"
            },
            "baxis": {
             "endlinecolor": "rgb(36,36,36)",
             "gridcolor": "white",
             "linecolor": "white",
             "minorgridcolor": "white",
             "startlinecolor": "rgb(36,36,36)"
            },
            "type": "carpet"
           }
          ],
          "choropleth": [
           {
            "colorbar": {
             "outlinewidth": 0,
             "tickcolor": "rgb(36,36,36)",
             "ticklen": 8,
             "ticks": "outside",
             "tickwidth": 2
            },
            "type": "choropleth"
           }
          ],
          "contour": [
           {
            "colorbar": {
             "outlinewidth": 0,
             "tickcolor": "rgb(36,36,36)",
             "ticklen": 8,
             "ticks": "outside",
             "tickwidth": 2
            },
            "colorscale": [
             [
              0,
              "rgb(2,4,25)"
             ],
             [
              0.06274509803921569,
              "rgb(24,15,41)"
             ],
             [
              0.12549019607843137,
              "rgb(47,23,57)"
             ],
             [
              0.18823529411764706,
              "rgb(71,28,72)"
             ],
             [
              0.25098039215686274,
              "rgb(97,30,82)"
             ],
             [
              0.3137254901960784,
              "rgb(123,30,89)"
             ],
             [
              0.3764705882352941,
              "rgb(150,27,91)"
             ],
             [
              0.4392156862745098,
              "rgb(177,22,88)"
             ],
             [
              0.5019607843137255,
              "rgb(203,26,79)"
             ],
             [
              0.5647058823529412,
              "rgb(223,47,67)"
             ],
             [
              0.6274509803921569,
              "rgb(236,76,61)"
             ],
             [
              0.6901960784313725,
              "rgb(242,107,73)"
             ],
             [
              0.7529411764705882,
              "rgb(244,135,95)"
             ],
             [
              0.8156862745098039,
              "rgb(245,162,122)"
             ],
             [
              0.8784313725490196,
              "rgb(246,188,153)"
             ],
             [
              0.9411764705882353,
              "rgb(247,212,187)"
             ],
             [
              1,
              "rgb(250,234,220)"
             ]
            ],
            "type": "contour"
           }
          ],
          "contourcarpet": [
           {
            "colorbar": {
             "outlinewidth": 0,
             "tickcolor": "rgb(36,36,36)",
             "ticklen": 8,
             "ticks": "outside",
             "tickwidth": 2
            },
            "type": "contourcarpet"
           }
          ],
          "heatmap": [
           {
            "colorbar": {
             "outlinewidth": 0,
             "tickcolor": "rgb(36,36,36)",
             "ticklen": 8,
             "ticks": "outside",
             "tickwidth": 2
            },
            "colorscale": [
             [
              0,
              "rgb(2,4,25)"
             ],
             [
              0.06274509803921569,
              "rgb(24,15,41)"
             ],
             [
              0.12549019607843137,
              "rgb(47,23,57)"
             ],
             [
              0.18823529411764706,
              "rgb(71,28,72)"
             ],
             [
              0.25098039215686274,
              "rgb(97,30,82)"
             ],
             [
              0.3137254901960784,
              "rgb(123,30,89)"
             ],
             [
              0.3764705882352941,
              "rgb(150,27,91)"
             ],
             [
              0.4392156862745098,
              "rgb(177,22,88)"
             ],
             [
              0.5019607843137255,
              "rgb(203,26,79)"
             ],
             [
              0.5647058823529412,
              "rgb(223,47,67)"
             ],
             [
              0.6274509803921569,
              "rgb(236,76,61)"
             ],
             [
              0.6901960784313725,
              "rgb(242,107,73)"
             ],
             [
              0.7529411764705882,
              "rgb(244,135,95)"
             ],
             [
              0.8156862745098039,
              "rgb(245,162,122)"
             ],
             [
              0.8784313725490196,
              "rgb(246,188,153)"
             ],
             [
              0.9411764705882353,
              "rgb(247,212,187)"
             ],
             [
              1,
              "rgb(250,234,220)"
             ]
            ],
            "type": "heatmap"
           }
          ],
          "heatmapgl": [
           {
            "colorbar": {
             "outlinewidth": 0,
             "tickcolor": "rgb(36,36,36)",
             "ticklen": 8,
             "ticks": "outside",
             "tickwidth": 2
            },
            "colorscale": [
             [
              0,
              "rgb(2,4,25)"
             ],
             [
              0.06274509803921569,
              "rgb(24,15,41)"
             ],
             [
              0.12549019607843137,
              "rgb(47,23,57)"
             ],
             [
              0.18823529411764706,
              "rgb(71,28,72)"
             ],
             [
              0.25098039215686274,
              "rgb(97,30,82)"
             ],
             [
              0.3137254901960784,
              "rgb(123,30,89)"
             ],
             [
              0.3764705882352941,
              "rgb(150,27,91)"
             ],
             [
              0.4392156862745098,
              "rgb(177,22,88)"
             ],
             [
              0.5019607843137255,
              "rgb(203,26,79)"
             ],
             [
              0.5647058823529412,
              "rgb(223,47,67)"
             ],
             [
              0.6274509803921569,
              "rgb(236,76,61)"
             ],
             [
              0.6901960784313725,
              "rgb(242,107,73)"
             ],
             [
              0.7529411764705882,
              "rgb(244,135,95)"
             ],
             [
              0.8156862745098039,
              "rgb(245,162,122)"
             ],
             [
              0.8784313725490196,
              "rgb(246,188,153)"
             ],
             [
              0.9411764705882353,
              "rgb(247,212,187)"
             ],
             [
              1,
              "rgb(250,234,220)"
             ]
            ],
            "type": "heatmapgl"
           }
          ],
          "histogram": [
           {
            "marker": {
             "pattern": {
              "fillmode": "overlay",
              "size": 10,
              "solidity": 0.2
             }
            },
            "type": "histogram"
           }
          ],
          "histogram2d": [
           {
            "colorbar": {
             "outlinewidth": 0,
             "tickcolor": "rgb(36,36,36)",
             "ticklen": 8,
             "ticks": "outside",
             "tickwidth": 2
            },
            "colorscale": [
             [
              0,
              "rgb(2,4,25)"
             ],
             [
              0.06274509803921569,
              "rgb(24,15,41)"
             ],
             [
              0.12549019607843137,
              "rgb(47,23,57)"
             ],
             [
              0.18823529411764706,
              "rgb(71,28,72)"
             ],
             [
              0.25098039215686274,
              "rgb(97,30,82)"
             ],
             [
              0.3137254901960784,
              "rgb(123,30,89)"
             ],
             [
              0.3764705882352941,
              "rgb(150,27,91)"
             ],
             [
              0.4392156862745098,
              "rgb(177,22,88)"
             ],
             [
              0.5019607843137255,
              "rgb(203,26,79)"
             ],
             [
              0.5647058823529412,
              "rgb(223,47,67)"
             ],
             [
              0.6274509803921569,
              "rgb(236,76,61)"
             ],
             [
              0.6901960784313725,
              "rgb(242,107,73)"
             ],
             [
              0.7529411764705882,
              "rgb(244,135,95)"
             ],
             [
              0.8156862745098039,
              "rgb(245,162,122)"
             ],
             [
              0.8784313725490196,
              "rgb(246,188,153)"
             ],
             [
              0.9411764705882353,
              "rgb(247,212,187)"
             ],
             [
              1,
              "rgb(250,234,220)"
             ]
            ],
            "type": "histogram2d"
           }
          ],
          "histogram2dcontour": [
           {
            "colorbar": {
             "outlinewidth": 0,
             "tickcolor": "rgb(36,36,36)",
             "ticklen": 8,
             "ticks": "outside",
             "tickwidth": 2
            },
            "colorscale": [
             [
              0,
              "rgb(2,4,25)"
             ],
             [
              0.06274509803921569,
              "rgb(24,15,41)"
             ],
             [
              0.12549019607843137,
              "rgb(47,23,57)"
             ],
             [
              0.18823529411764706,
              "rgb(71,28,72)"
             ],
             [
              0.25098039215686274,
              "rgb(97,30,82)"
             ],
             [
              0.3137254901960784,
              "rgb(123,30,89)"
             ],
             [
              0.3764705882352941,
              "rgb(150,27,91)"
             ],
             [
              0.4392156862745098,
              "rgb(177,22,88)"
             ],
             [
              0.5019607843137255,
              "rgb(203,26,79)"
             ],
             [
              0.5647058823529412,
              "rgb(223,47,67)"
             ],
             [
              0.6274509803921569,
              "rgb(236,76,61)"
             ],
             [
              0.6901960784313725,
              "rgb(242,107,73)"
             ],
             [
              0.7529411764705882,
              "rgb(244,135,95)"
             ],
             [
              0.8156862745098039,
              "rgb(245,162,122)"
             ],
             [
              0.8784313725490196,
              "rgb(246,188,153)"
             ],
             [
              0.9411764705882353,
              "rgb(247,212,187)"
             ],
             [
              1,
              "rgb(250,234,220)"
             ]
            ],
            "type": "histogram2dcontour"
           }
          ],
          "mesh3d": [
           {
            "colorbar": {
             "outlinewidth": 0,
             "tickcolor": "rgb(36,36,36)",
             "ticklen": 8,
             "ticks": "outside",
             "tickwidth": 2
            },
            "type": "mesh3d"
           }
          ],
          "parcoords": [
           {
            "line": {
             "colorbar": {
              "outlinewidth": 0,
              "tickcolor": "rgb(36,36,36)",
              "ticklen": 8,
              "ticks": "outside",
              "tickwidth": 2
             }
            },
            "type": "parcoords"
           }
          ],
          "pie": [
           {
            "automargin": true,
            "type": "pie"
           }
          ],
          "scatter": [
           {
            "marker": {
             "colorbar": {
              "outlinewidth": 0,
              "tickcolor": "rgb(36,36,36)",
              "ticklen": 8,
              "ticks": "outside",
              "tickwidth": 2
             }
            },
            "type": "scatter"
           }
          ],
          "scatter3d": [
           {
            "line": {
             "colorbar": {
              "outlinewidth": 0,
              "tickcolor": "rgb(36,36,36)",
              "ticklen": 8,
              "ticks": "outside",
              "tickwidth": 2
             }
            },
            "marker": {
             "colorbar": {
              "outlinewidth": 0,
              "tickcolor": "rgb(36,36,36)",
              "ticklen": 8,
              "ticks": "outside",
              "tickwidth": 2
             }
            },
            "type": "scatter3d"
           }
          ],
          "scattercarpet": [
           {
            "marker": {
             "colorbar": {
              "outlinewidth": 0,
              "tickcolor": "rgb(36,36,36)",
              "ticklen": 8,
              "ticks": "outside",
              "tickwidth": 2
             }
            },
            "type": "scattercarpet"
           }
          ],
          "scattergeo": [
           {
            "marker": {
             "colorbar": {
              "outlinewidth": 0,
              "tickcolor": "rgb(36,36,36)",
              "ticklen": 8,
              "ticks": "outside",
              "tickwidth": 2
             }
            },
            "type": "scattergeo"
           }
          ],
          "scattergl": [
           {
            "marker": {
             "colorbar": {
              "outlinewidth": 0,
              "tickcolor": "rgb(36,36,36)",
              "ticklen": 8,
              "ticks": "outside",
              "tickwidth": 2
             }
            },
            "type": "scattergl"
           }
          ],
          "scattermapbox": [
           {
            "marker": {
             "colorbar": {
              "outlinewidth": 0,
              "tickcolor": "rgb(36,36,36)",
              "ticklen": 8,
              "ticks": "outside",
              "tickwidth": 2
             }
            },
            "type": "scattermapbox"
           }
          ],
          "scatterpolar": [
           {
            "marker": {
             "colorbar": {
              "outlinewidth": 0,
              "tickcolor": "rgb(36,36,36)",
              "ticklen": 8,
              "ticks": "outside",
              "tickwidth": 2
             }
            },
            "type": "scatterpolar"
           }
          ],
          "scatterpolargl": [
           {
            "marker": {
             "colorbar": {
              "outlinewidth": 0,
              "tickcolor": "rgb(36,36,36)",
              "ticklen": 8,
              "ticks": "outside",
              "tickwidth": 2
             }
            },
            "type": "scatterpolargl"
           }
          ],
          "scatterternary": [
           {
            "marker": {
             "colorbar": {
              "outlinewidth": 0,
              "tickcolor": "rgb(36,36,36)",
              "ticklen": 8,
              "ticks": "outside",
              "tickwidth": 2
             }
            },
            "type": "scatterternary"
           }
          ],
          "surface": [
           {
            "colorbar": {
             "outlinewidth": 0,
             "tickcolor": "rgb(36,36,36)",
             "ticklen": 8,
             "ticks": "outside",
             "tickwidth": 2
            },
            "colorscale": [
             [
              0,
              "rgb(2,4,25)"
             ],
             [
              0.06274509803921569,
              "rgb(24,15,41)"
             ],
             [
              0.12549019607843137,
              "rgb(47,23,57)"
             ],
             [
              0.18823529411764706,
              "rgb(71,28,72)"
             ],
             [
              0.25098039215686274,
              "rgb(97,30,82)"
             ],
             [
              0.3137254901960784,
              "rgb(123,30,89)"
             ],
             [
              0.3764705882352941,
              "rgb(150,27,91)"
             ],
             [
              0.4392156862745098,
              "rgb(177,22,88)"
             ],
             [
              0.5019607843137255,
              "rgb(203,26,79)"
             ],
             [
              0.5647058823529412,
              "rgb(223,47,67)"
             ],
             [
              0.6274509803921569,
              "rgb(236,76,61)"
             ],
             [
              0.6901960784313725,
              "rgb(242,107,73)"
             ],
             [
              0.7529411764705882,
              "rgb(244,135,95)"
             ],
             [
              0.8156862745098039,
              "rgb(245,162,122)"
             ],
             [
              0.8784313725490196,
              "rgb(246,188,153)"
             ],
             [
              0.9411764705882353,
              "rgb(247,212,187)"
             ],
             [
              1,
              "rgb(250,234,220)"
             ]
            ],
            "type": "surface"
           }
          ],
          "table": [
           {
            "cells": {
             "fill": {
              "color": "rgb(231,231,240)"
             },
             "line": {
              "color": "white"
             }
            },
            "header": {
             "fill": {
              "color": "rgb(183,183,191)"
             },
             "line": {
              "color": "white"
             }
            },
            "type": "table"
           }
          ]
         },
         "layout": {
          "annotationdefaults": {
           "arrowcolor": "rgb(67,103,167)"
          },
          "autotypenumbers": "strict",
          "coloraxis": {
           "colorbar": {
            "outlinewidth": 0,
            "tickcolor": "rgb(36,36,36)",
            "ticklen": 8,
            "ticks": "outside",
            "tickwidth": 2
           }
          },
          "colorscale": {
           "sequential": [
            [
             0,
             "rgb(2,4,25)"
            ],
            [
             0.06274509803921569,
             "rgb(24,15,41)"
            ],
            [
             0.12549019607843137,
             "rgb(47,23,57)"
            ],
            [
             0.18823529411764706,
             "rgb(71,28,72)"
            ],
            [
             0.25098039215686274,
             "rgb(97,30,82)"
            ],
            [
             0.3137254901960784,
             "rgb(123,30,89)"
            ],
            [
             0.3764705882352941,
             "rgb(150,27,91)"
            ],
            [
             0.4392156862745098,
             "rgb(177,22,88)"
            ],
            [
             0.5019607843137255,
             "rgb(203,26,79)"
            ],
            [
             0.5647058823529412,
             "rgb(223,47,67)"
            ],
            [
             0.6274509803921569,
             "rgb(236,76,61)"
            ],
            [
             0.6901960784313725,
             "rgb(242,107,73)"
            ],
            [
             0.7529411764705882,
             "rgb(244,135,95)"
            ],
            [
             0.8156862745098039,
             "rgb(245,162,122)"
            ],
            [
             0.8784313725490196,
             "rgb(246,188,153)"
            ],
            [
             0.9411764705882353,
             "rgb(247,212,187)"
            ],
            [
             1,
             "rgb(250,234,220)"
            ]
           ],
           "sequentialminus": [
            [
             0,
             "rgb(2,4,25)"
            ],
            [
             0.06274509803921569,
             "rgb(24,15,41)"
            ],
            [
             0.12549019607843137,
             "rgb(47,23,57)"
            ],
            [
             0.18823529411764706,
             "rgb(71,28,72)"
            ],
            [
             0.25098039215686274,
             "rgb(97,30,82)"
            ],
            [
             0.3137254901960784,
             "rgb(123,30,89)"
            ],
            [
             0.3764705882352941,
             "rgb(150,27,91)"
            ],
            [
             0.4392156862745098,
             "rgb(177,22,88)"
            ],
            [
             0.5019607843137255,
             "rgb(203,26,79)"
            ],
            [
             0.5647058823529412,
             "rgb(223,47,67)"
            ],
            [
             0.6274509803921569,
             "rgb(236,76,61)"
            ],
            [
             0.6901960784313725,
             "rgb(242,107,73)"
            ],
            [
             0.7529411764705882,
             "rgb(244,135,95)"
            ],
            [
             0.8156862745098039,
             "rgb(245,162,122)"
            ],
            [
             0.8784313725490196,
             "rgb(246,188,153)"
            ],
            [
             0.9411764705882353,
             "rgb(247,212,187)"
            ],
            [
             1,
             "rgb(250,234,220)"
            ]
           ]
          },
          "colorway": [
           "rgb(76,114,176)",
           "rgb(221,132,82)",
           "rgb(85,168,104)",
           "rgb(196,78,82)",
           "rgb(129,114,179)",
           "rgb(147,120,96)",
           "rgb(218,139,195)",
           "rgb(140,140,140)",
           "rgb(204,185,116)",
           "rgb(100,181,205)"
          ],
          "font": {
           "color": "rgb(36,36,36)"
          },
          "geo": {
           "bgcolor": "white",
           "lakecolor": "white",
           "landcolor": "rgb(234,234,242)",
           "showlakes": true,
           "showland": true,
           "subunitcolor": "white"
          },
          "hoverlabel": {
           "align": "left"
          },
          "hovermode": "closest",
          "paper_bgcolor": "white",
          "plot_bgcolor": "rgb(234,234,242)",
          "polar": {
           "angularaxis": {
            "gridcolor": "white",
            "linecolor": "white",
            "showgrid": true,
            "ticks": ""
           },
           "bgcolor": "rgb(234,234,242)",
           "radialaxis": {
            "gridcolor": "white",
            "linecolor": "white",
            "showgrid": true,
            "ticks": ""
           }
          },
          "scene": {
           "xaxis": {
            "backgroundcolor": "rgb(234,234,242)",
            "gridcolor": "white",
            "gridwidth": 2,
            "linecolor": "white",
            "showbackground": true,
            "showgrid": true,
            "ticks": "",
            "zerolinecolor": "white"
           },
           "yaxis": {
            "backgroundcolor": "rgb(234,234,242)",
            "gridcolor": "white",
            "gridwidth": 2,
            "linecolor": "white",
            "showbackground": true,
            "showgrid": true,
            "ticks": "",
            "zerolinecolor": "white"
           },
           "zaxis": {
            "backgroundcolor": "rgb(234,234,242)",
            "gridcolor": "white",
            "gridwidth": 2,
            "linecolor": "white",
            "showbackground": true,
            "showgrid": true,
            "ticks": "",
            "zerolinecolor": "white"
           }
          },
          "shapedefaults": {
           "fillcolor": "rgb(67,103,167)",
           "line": {
            "width": 0
           },
           "opacity": 0.5
          },
          "ternary": {
           "aaxis": {
            "gridcolor": "white",
            "linecolor": "white",
            "showgrid": true,
            "ticks": ""
           },
           "baxis": {
            "gridcolor": "white",
            "linecolor": "white",
            "showgrid": true,
            "ticks": ""
           },
           "bgcolor": "rgb(234,234,242)",
           "caxis": {
            "gridcolor": "white",
            "linecolor": "white",
            "showgrid": true,
            "ticks": ""
           }
          },
          "xaxis": {
           "automargin": true,
           "gridcolor": "white",
           "linecolor": "white",
           "showgrid": true,
           "ticks": "",
           "title": {
            "standoff": 15
           },
           "zerolinecolor": "white"
          },
          "yaxis": {
           "automargin": true,
           "gridcolor": "white",
           "linecolor": "white",
           "showgrid": true,
           "ticks": "",
           "title": {
            "standoff": 15
           },
           "zerolinecolor": "white"
          }
         }
        },
        "title": {
         "text": "F vs 1-point Corr"
        },
        "xaxis": {
         "title": {
          "text": "1-point Corr"
         }
        },
        "yaxis": {
         "title": {
          "text": "F"
         }
        }
       }
      },
      "text/html": [
       "<div>                            <div id=\"69b2cfd0-2ae0-46e8-a352-4706b3e47182\" class=\"plotly-graph-div\" style=\"height:525px; width:100%;\"></div>            <script type=\"text/javascript\">                require([\"plotly\"], function(Plotly) {                    window.PLOTLYENV=window.PLOTLYENV || {};                                    if (document.getElementById(\"69b2cfd0-2ae0-46e8-a352-4706b3e47182\")) {                    Plotly.newPlot(                        \"69b2cfd0-2ae0-46e8-a352-4706b3e47182\",                        [{\"mode\":\"markers+lines\",\"name\":\"T = 10000\",\"type\":\"scatter\",\"x\":[-1.0,-0.875,-0.75,-0.625,-0.5,-0.375,-0.25,-0.125,0.0,0.125,0.25,0.375,0.5,0.625,0.75,0.875,1.0],\"y\":[1.5000008418924282,2.179814524386322,2.623146187054343,2.906338259834878,3.166774104216966,3.011580221162374,3.187084484419443,3.334933390896996,3.283548008803573,3.067922460701618,3.085477953522269,2.779999373458991,2.5260535363050187,2.2709993198635896,1.849982824968715,1.3005793889366566,0.4999999724999535]}],                        {\"legend\":{\"title\":{\"text\":\"Temperature\"}},\"template\":{\"data\":{\"bar\":[{\"error_x\":{\"color\":\"rgb(36,36,36)\"},\"error_y\":{\"color\":\"rgb(36,36,36)\"},\"marker\":{\"line\":{\"color\":\"rgb(234,234,242)\",\"width\":0.5},\"pattern\":{\"fillmode\":\"overlay\",\"size\":10,\"solidity\":0.2}},\"type\":\"bar\"}],\"barpolar\":[{\"marker\":{\"line\":{\"color\":\"rgb(234,234,242)\",\"width\":0.5},\"pattern\":{\"fillmode\":\"overlay\",\"size\":10,\"solidity\":0.2}},\"type\":\"barpolar\"}],\"carpet\":[{\"aaxis\":{\"endlinecolor\":\"rgb(36,36,36)\",\"gridcolor\":\"white\",\"linecolor\":\"white\",\"minorgridcolor\":\"white\",\"startlinecolor\":\"rgb(36,36,36)\"},\"baxis\":{\"endlinecolor\":\"rgb(36,36,36)\",\"gridcolor\":\"white\",\"linecolor\":\"white\",\"minorgridcolor\":\"white\",\"startlinecolor\":\"rgb(36,36,36)\"},\"type\":\"carpet\"}],\"choropleth\":[{\"colorbar\":{\"outlinewidth\":0,\"tickcolor\":\"rgb(36,36,36)\",\"ticklen\":8,\"ticks\":\"outside\",\"tickwidth\":2},\"type\":\"choropleth\"}],\"contour\":[{\"colorbar\":{\"outlinewidth\":0,\"tickcolor\":\"rgb(36,36,36)\",\"ticklen\":8,\"ticks\":\"outside\",\"tickwidth\":2},\"colorscale\":[[0.0,\"rgb(2,4,25)\"],[0.06274509803921569,\"rgb(24,15,41)\"],[0.12549019607843137,\"rgb(47,23,57)\"],[0.18823529411764706,\"rgb(71,28,72)\"],[0.25098039215686274,\"rgb(97,30,82)\"],[0.3137254901960784,\"rgb(123,30,89)\"],[0.3764705882352941,\"rgb(150,27,91)\"],[0.4392156862745098,\"rgb(177,22,88)\"],[0.5019607843137255,\"rgb(203,26,79)\"],[0.5647058823529412,\"rgb(223,47,67)\"],[0.6274509803921569,\"rgb(236,76,61)\"],[0.6901960784313725,\"rgb(242,107,73)\"],[0.7529411764705882,\"rgb(244,135,95)\"],[0.8156862745098039,\"rgb(245,162,122)\"],[0.8784313725490196,\"rgb(246,188,153)\"],[0.9411764705882353,\"rgb(247,212,187)\"],[1.0,\"rgb(250,234,220)\"]],\"type\":\"contour\"}],\"contourcarpet\":[{\"colorbar\":{\"outlinewidth\":0,\"tickcolor\":\"rgb(36,36,36)\",\"ticklen\":8,\"ticks\":\"outside\",\"tickwidth\":2},\"type\":\"contourcarpet\"}],\"heatmap\":[{\"colorbar\":{\"outlinewidth\":0,\"tickcolor\":\"rgb(36,36,36)\",\"ticklen\":8,\"ticks\":\"outside\",\"tickwidth\":2},\"colorscale\":[[0.0,\"rgb(2,4,25)\"],[0.06274509803921569,\"rgb(24,15,41)\"],[0.12549019607843137,\"rgb(47,23,57)\"],[0.18823529411764706,\"rgb(71,28,72)\"],[0.25098039215686274,\"rgb(97,30,82)\"],[0.3137254901960784,\"rgb(123,30,89)\"],[0.3764705882352941,\"rgb(150,27,91)\"],[0.4392156862745098,\"rgb(177,22,88)\"],[0.5019607843137255,\"rgb(203,26,79)\"],[0.5647058823529412,\"rgb(223,47,67)\"],[0.6274509803921569,\"rgb(236,76,61)\"],[0.6901960784313725,\"rgb(242,107,73)\"],[0.7529411764705882,\"rgb(244,135,95)\"],[0.8156862745098039,\"rgb(245,162,122)\"],[0.8784313725490196,\"rgb(246,188,153)\"],[0.9411764705882353,\"rgb(247,212,187)\"],[1.0,\"rgb(250,234,220)\"]],\"type\":\"heatmap\"}],\"heatmapgl\":[{\"colorbar\":{\"outlinewidth\":0,\"tickcolor\":\"rgb(36,36,36)\",\"ticklen\":8,\"ticks\":\"outside\",\"tickwidth\":2},\"colorscale\":[[0.0,\"rgb(2,4,25)\"],[0.06274509803921569,\"rgb(24,15,41)\"],[0.12549019607843137,\"rgb(47,23,57)\"],[0.18823529411764706,\"rgb(71,28,72)\"],[0.25098039215686274,\"rgb(97,30,82)\"],[0.3137254901960784,\"rgb(123,30,89)\"],[0.3764705882352941,\"rgb(150,27,91)\"],[0.4392156862745098,\"rgb(177,22,88)\"],[0.5019607843137255,\"rgb(203,26,79)\"],[0.5647058823529412,\"rgb(223,47,67)\"],[0.6274509803921569,\"rgb(236,76,61)\"],[0.6901960784313725,\"rgb(242,107,73)\"],[0.7529411764705882,\"rgb(244,135,95)\"],[0.8156862745098039,\"rgb(245,162,122)\"],[0.8784313725490196,\"rgb(246,188,153)\"],[0.9411764705882353,\"rgb(247,212,187)\"],[1.0,\"rgb(250,234,220)\"]],\"type\":\"heatmapgl\"}],\"histogram\":[{\"marker\":{\"pattern\":{\"fillmode\":\"overlay\",\"size\":10,\"solidity\":0.2}},\"type\":\"histogram\"}],\"histogram2d\":[{\"colorbar\":{\"outlinewidth\":0,\"tickcolor\":\"rgb(36,36,36)\",\"ticklen\":8,\"ticks\":\"outside\",\"tickwidth\":2},\"colorscale\":[[0.0,\"rgb(2,4,25)\"],[0.06274509803921569,\"rgb(24,15,41)\"],[0.12549019607843137,\"rgb(47,23,57)\"],[0.18823529411764706,\"rgb(71,28,72)\"],[0.25098039215686274,\"rgb(97,30,82)\"],[0.3137254901960784,\"rgb(123,30,89)\"],[0.3764705882352941,\"rgb(150,27,91)\"],[0.4392156862745098,\"rgb(177,22,88)\"],[0.5019607843137255,\"rgb(203,26,79)\"],[0.5647058823529412,\"rgb(223,47,67)\"],[0.6274509803921569,\"rgb(236,76,61)\"],[0.6901960784313725,\"rgb(242,107,73)\"],[0.7529411764705882,\"rgb(244,135,95)\"],[0.8156862745098039,\"rgb(245,162,122)\"],[0.8784313725490196,\"rgb(246,188,153)\"],[0.9411764705882353,\"rgb(247,212,187)\"],[1.0,\"rgb(250,234,220)\"]],\"type\":\"histogram2d\"}],\"histogram2dcontour\":[{\"colorbar\":{\"outlinewidth\":0,\"tickcolor\":\"rgb(36,36,36)\",\"ticklen\":8,\"ticks\":\"outside\",\"tickwidth\":2},\"colorscale\":[[0.0,\"rgb(2,4,25)\"],[0.06274509803921569,\"rgb(24,15,41)\"],[0.12549019607843137,\"rgb(47,23,57)\"],[0.18823529411764706,\"rgb(71,28,72)\"],[0.25098039215686274,\"rgb(97,30,82)\"],[0.3137254901960784,\"rgb(123,30,89)\"],[0.3764705882352941,\"rgb(150,27,91)\"],[0.4392156862745098,\"rgb(177,22,88)\"],[0.5019607843137255,\"rgb(203,26,79)\"],[0.5647058823529412,\"rgb(223,47,67)\"],[0.6274509803921569,\"rgb(236,76,61)\"],[0.6901960784313725,\"rgb(242,107,73)\"],[0.7529411764705882,\"rgb(244,135,95)\"],[0.8156862745098039,\"rgb(245,162,122)\"],[0.8784313725490196,\"rgb(246,188,153)\"],[0.9411764705882353,\"rgb(247,212,187)\"],[1.0,\"rgb(250,234,220)\"]],\"type\":\"histogram2dcontour\"}],\"mesh3d\":[{\"colorbar\":{\"outlinewidth\":0,\"tickcolor\":\"rgb(36,36,36)\",\"ticklen\":8,\"ticks\":\"outside\",\"tickwidth\":2},\"type\":\"mesh3d\"}],\"parcoords\":[{\"line\":{\"colorbar\":{\"outlinewidth\":0,\"tickcolor\":\"rgb(36,36,36)\",\"ticklen\":8,\"ticks\":\"outside\",\"tickwidth\":2}},\"type\":\"parcoords\"}],\"pie\":[{\"automargin\":true,\"type\":\"pie\"}],\"scatter\":[{\"marker\":{\"colorbar\":{\"outlinewidth\":0,\"tickcolor\":\"rgb(36,36,36)\",\"ticklen\":8,\"ticks\":\"outside\",\"tickwidth\":2}},\"type\":\"scatter\"}],\"scatter3d\":[{\"line\":{\"colorbar\":{\"outlinewidth\":0,\"tickcolor\":\"rgb(36,36,36)\",\"ticklen\":8,\"ticks\":\"outside\",\"tickwidth\":2}},\"marker\":{\"colorbar\":{\"outlinewidth\":0,\"tickcolor\":\"rgb(36,36,36)\",\"ticklen\":8,\"ticks\":\"outside\",\"tickwidth\":2}},\"type\":\"scatter3d\"}],\"scattercarpet\":[{\"marker\":{\"colorbar\":{\"outlinewidth\":0,\"tickcolor\":\"rgb(36,36,36)\",\"ticklen\":8,\"ticks\":\"outside\",\"tickwidth\":2}},\"type\":\"scattercarpet\"}],\"scattergeo\":[{\"marker\":{\"colorbar\":{\"outlinewidth\":0,\"tickcolor\":\"rgb(36,36,36)\",\"ticklen\":8,\"ticks\":\"outside\",\"tickwidth\":2}},\"type\":\"scattergeo\"}],\"scattergl\":[{\"marker\":{\"colorbar\":{\"outlinewidth\":0,\"tickcolor\":\"rgb(36,36,36)\",\"ticklen\":8,\"ticks\":\"outside\",\"tickwidth\":2}},\"type\":\"scattergl\"}],\"scattermapbox\":[{\"marker\":{\"colorbar\":{\"outlinewidth\":0,\"tickcolor\":\"rgb(36,36,36)\",\"ticklen\":8,\"ticks\":\"outside\",\"tickwidth\":2}},\"type\":\"scattermapbox\"}],\"scatterpolar\":[{\"marker\":{\"colorbar\":{\"outlinewidth\":0,\"tickcolor\":\"rgb(36,36,36)\",\"ticklen\":8,\"ticks\":\"outside\",\"tickwidth\":2}},\"type\":\"scatterpolar\"}],\"scatterpolargl\":[{\"marker\":{\"colorbar\":{\"outlinewidth\":0,\"tickcolor\":\"rgb(36,36,36)\",\"ticklen\":8,\"ticks\":\"outside\",\"tickwidth\":2}},\"type\":\"scatterpolargl\"}],\"scatterternary\":[{\"marker\":{\"colorbar\":{\"outlinewidth\":0,\"tickcolor\":\"rgb(36,36,36)\",\"ticklen\":8,\"ticks\":\"outside\",\"tickwidth\":2}},\"type\":\"scatterternary\"}],\"surface\":[{\"colorbar\":{\"outlinewidth\":0,\"tickcolor\":\"rgb(36,36,36)\",\"ticklen\":8,\"ticks\":\"outside\",\"tickwidth\":2},\"colorscale\":[[0.0,\"rgb(2,4,25)\"],[0.06274509803921569,\"rgb(24,15,41)\"],[0.12549019607843137,\"rgb(47,23,57)\"],[0.18823529411764706,\"rgb(71,28,72)\"],[0.25098039215686274,\"rgb(97,30,82)\"],[0.3137254901960784,\"rgb(123,30,89)\"],[0.3764705882352941,\"rgb(150,27,91)\"],[0.4392156862745098,\"rgb(177,22,88)\"],[0.5019607843137255,\"rgb(203,26,79)\"],[0.5647058823529412,\"rgb(223,47,67)\"],[0.6274509803921569,\"rgb(236,76,61)\"],[0.6901960784313725,\"rgb(242,107,73)\"],[0.7529411764705882,\"rgb(244,135,95)\"],[0.8156862745098039,\"rgb(245,162,122)\"],[0.8784313725490196,\"rgb(246,188,153)\"],[0.9411764705882353,\"rgb(247,212,187)\"],[1.0,\"rgb(250,234,220)\"]],\"type\":\"surface\"}],\"table\":[{\"cells\":{\"fill\":{\"color\":\"rgb(231,231,240)\"},\"line\":{\"color\":\"white\"}},\"header\":{\"fill\":{\"color\":\"rgb(183,183,191)\"},\"line\":{\"color\":\"white\"}},\"type\":\"table\"}]},\"layout\":{\"annotationdefaults\":{\"arrowcolor\":\"rgb(67,103,167)\"},\"autotypenumbers\":\"strict\",\"coloraxis\":{\"colorbar\":{\"outlinewidth\":0,\"tickcolor\":\"rgb(36,36,36)\",\"ticklen\":8,\"ticks\":\"outside\",\"tickwidth\":2}},\"colorscale\":{\"sequential\":[[0.0,\"rgb(2,4,25)\"],[0.06274509803921569,\"rgb(24,15,41)\"],[0.12549019607843137,\"rgb(47,23,57)\"],[0.18823529411764706,\"rgb(71,28,72)\"],[0.25098039215686274,\"rgb(97,30,82)\"],[0.3137254901960784,\"rgb(123,30,89)\"],[0.3764705882352941,\"rgb(150,27,91)\"],[0.4392156862745098,\"rgb(177,22,88)\"],[0.5019607843137255,\"rgb(203,26,79)\"],[0.5647058823529412,\"rgb(223,47,67)\"],[0.6274509803921569,\"rgb(236,76,61)\"],[0.6901960784313725,\"rgb(242,107,73)\"],[0.7529411764705882,\"rgb(244,135,95)\"],[0.8156862745098039,\"rgb(245,162,122)\"],[0.8784313725490196,\"rgb(246,188,153)\"],[0.9411764705882353,\"rgb(247,212,187)\"],[1.0,\"rgb(250,234,220)\"]],\"sequentialminus\":[[0.0,\"rgb(2,4,25)\"],[0.06274509803921569,\"rgb(24,15,41)\"],[0.12549019607843137,\"rgb(47,23,57)\"],[0.18823529411764706,\"rgb(71,28,72)\"],[0.25098039215686274,\"rgb(97,30,82)\"],[0.3137254901960784,\"rgb(123,30,89)\"],[0.3764705882352941,\"rgb(150,27,91)\"],[0.4392156862745098,\"rgb(177,22,88)\"],[0.5019607843137255,\"rgb(203,26,79)\"],[0.5647058823529412,\"rgb(223,47,67)\"],[0.6274509803921569,\"rgb(236,76,61)\"],[0.6901960784313725,\"rgb(242,107,73)\"],[0.7529411764705882,\"rgb(244,135,95)\"],[0.8156862745098039,\"rgb(245,162,122)\"],[0.8784313725490196,\"rgb(246,188,153)\"],[0.9411764705882353,\"rgb(247,212,187)\"],[1.0,\"rgb(250,234,220)\"]]},\"colorway\":[\"rgb(76,114,176)\",\"rgb(221,132,82)\",\"rgb(85,168,104)\",\"rgb(196,78,82)\",\"rgb(129,114,179)\",\"rgb(147,120,96)\",\"rgb(218,139,195)\",\"rgb(140,140,140)\",\"rgb(204,185,116)\",\"rgb(100,181,205)\"],\"font\":{\"color\":\"rgb(36,36,36)\"},\"geo\":{\"bgcolor\":\"white\",\"lakecolor\":\"white\",\"landcolor\":\"rgb(234,234,242)\",\"showlakes\":true,\"showland\":true,\"subunitcolor\":\"white\"},\"hoverlabel\":{\"align\":\"left\"},\"hovermode\":\"closest\",\"paper_bgcolor\":\"white\",\"plot_bgcolor\":\"rgb(234,234,242)\",\"polar\":{\"angularaxis\":{\"gridcolor\":\"white\",\"linecolor\":\"white\",\"showgrid\":true,\"ticks\":\"\"},\"bgcolor\":\"rgb(234,234,242)\",\"radialaxis\":{\"gridcolor\":\"white\",\"linecolor\":\"white\",\"showgrid\":true,\"ticks\":\"\"}},\"scene\":{\"xaxis\":{\"backgroundcolor\":\"rgb(234,234,242)\",\"gridcolor\":\"white\",\"gridwidth\":2,\"linecolor\":\"white\",\"showbackground\":true,\"showgrid\":true,\"ticks\":\"\",\"zerolinecolor\":\"white\"},\"yaxis\":{\"backgroundcolor\":\"rgb(234,234,242)\",\"gridcolor\":\"white\",\"gridwidth\":2,\"linecolor\":\"white\",\"showbackground\":true,\"showgrid\":true,\"ticks\":\"\",\"zerolinecolor\":\"white\"},\"zaxis\":{\"backgroundcolor\":\"rgb(234,234,242)\",\"gridcolor\":\"white\",\"gridwidth\":2,\"linecolor\":\"white\",\"showbackground\":true,\"showgrid\":true,\"ticks\":\"\",\"zerolinecolor\":\"white\"}},\"shapedefaults\":{\"fillcolor\":\"rgb(67,103,167)\",\"line\":{\"width\":0},\"opacity\":0.5},\"ternary\":{\"aaxis\":{\"gridcolor\":\"white\",\"linecolor\":\"white\",\"showgrid\":true,\"ticks\":\"\"},\"baxis\":{\"gridcolor\":\"white\",\"linecolor\":\"white\",\"showgrid\":true,\"ticks\":\"\"},\"bgcolor\":\"rgb(234,234,242)\",\"caxis\":{\"gridcolor\":\"white\",\"linecolor\":\"white\",\"showgrid\":true,\"ticks\":\"\"}},\"xaxis\":{\"automargin\":true,\"gridcolor\":\"white\",\"linecolor\":\"white\",\"showgrid\":true,\"ticks\":\"\",\"title\":{\"standoff\":15},\"zerolinecolor\":\"white\"},\"yaxis\":{\"automargin\":true,\"gridcolor\":\"white\",\"linecolor\":\"white\",\"showgrid\":true,\"ticks\":\"\",\"title\":{\"standoff\":15},\"zerolinecolor\":\"white\"}}},\"title\":{\"text\":\"F vs 1-point Corr\"},\"xaxis\":{\"title\":{\"text\":\"1-point Corr\"}},\"yaxis\":{\"title\":{\"text\":\"F\"}}},                        {\"responsive\": true}                    ).then(function(){\n",
       "                            \n",
       "var gd = document.getElementById('69b2cfd0-2ae0-46e8-a352-4706b3e47182');\n",
       "var x = new MutationObserver(function (mutations, observer) {{\n",
       "        var display = window.getComputedStyle(gd).display;\n",
       "        if (!display || display === 'none') {{\n",
       "            console.log([gd, 'removed!']);\n",
       "            Plotly.purge(gd);\n",
       "            observer.disconnect();\n",
       "        }}\n",
       "}});\n",
       "\n",
       "// Listen for the removal of the full notebook cells\n",
       "var notebookContainer = gd.closest('#notebook-container');\n",
       "if (notebookContainer) {{\n",
       "    x.observe(notebookContainer, {childList: true});\n",
       "}}\n",
       "\n",
       "// Listen for the clearing of the current output cell\n",
       "var outputEl = gd.closest('.output');\n",
       "if (outputEl) {{\n",
       "    x.observe(outputEl, {childList: true});\n",
       "}}\n",
       "\n",
       "                        })                };                });            </script>        </div>"
      ]
     },
     "metadata": {},
     "output_type": "display_data"
    }
   ],
   "source": [
    "fig = go.Figure()\n",
    "\n",
    "for T in results['T'].unique():\n",
    "    fig.add_trace(go.Scatter(x = results[results['T'] == T]['1-point_corr'],\n",
    "                             y = results[results['T'] == T]['F'],\n",
    "                             mode='markers+lines',\n",
    "                             name=f'T = {T}',\n",
    "                            )\n",
    "                 )\n",
    "\n",
    "fig.update_layout(\n",
    "    title=\"F vs 1-point Corr\",\n",
    "    xaxis_title=\"1-point Corr\",\n",
    "    yaxis_title=\"F\",\n",
    "    legend_title=\"Temperature\",\n",
    "    template='seaborn'\n",
    ")\n",
    "#fig.update_traces(texttemplate='%{text:.2s}', textposition='top center')\n",
    "fig.show()"
   ]
  },
  {
   "cell_type": "code",
   "execution_count": null,
   "metadata": {
    "ExecuteTime": {
     "end_time": "2021-08-25T01:47:01.305114Z",
     "start_time": "2021-08-25T01:47:01.299259Z"
    }
   },
   "outputs": [],
   "source": [
    "np.stack(results['corrs'].values)[:,3]"
   ]
  },
  {
   "cell_type": "code",
   "execution_count": null,
   "metadata": {
    "ExecuteTime": {
     "end_time": "2021-08-25T01:47:02.539634Z",
     "start_time": "2021-08-25T01:47:02.480929Z"
    }
   },
   "outputs": [],
   "source": [
    "results"
   ]
  },
  {
   "cell_type": "code",
   "execution_count": null,
   "metadata": {
    "ExecuteTime": {
     "end_time": "2021-08-25T02:44:02.984729Z",
     "start_time": "2021-08-25T02:44:02.913947Z"
    }
   },
   "outputs": [],
   "source": [
    "fig = go.Figure()\n",
    "#spec = \n",
    "for T in results['T'].unique():\n",
    "    fig.add_trace(go.Scatter(x = results[results['1-point_corr'] == 0.0]['T'],\n",
    "                             y = results[results['1-point_corr'] == 0.0]['F'],\n",
    "                             #y = results[results['1-point_corr'] == 0.0]['corrs'],\n",
    "                             #y =np.stack(results[results['1-point_corr'] == 0.0]['corrs'].values)[:,2],\n",
    "                             mode='markers+lines',\n",
    "                             name=f'T = {T}',\n",
    "                            )\n",
    "                 )\n",
    "\n",
    "fig.update_layout(\n",
    "    title=\"F vs 1-point Corr\",\n",
    "    xaxis_title=\"1-point Corr\",\n",
    "    yaxis_title=\"F\",\n",
    "    legend_title=\"Temperature\",\n",
    "    template='seaborn'\n",
    ")\n",
    "#fig.update_traces(texttemplate='%{text:.2s}', textposition='top center')\n",
    "fig.show()"
   ]
  },
  {
   "cell_type": "code",
   "execution_count": null,
   "metadata": {
    "ExecuteTime": {
     "end_time": "2021-08-25T01:41:03.114564Z",
     "start_time": "2021-08-25T01:41:03.104649Z"
    }
   },
   "outputs": [],
   "source": [
    "np.linspace(-1,1,26)"
   ]
  },
  {
   "cell_type": "code",
   "execution_count": null,
   "metadata": {
    "ExecuteTime": {
     "end_time": "2021-08-25T01:30:14.073301Z",
     "start_time": "2021-08-25T01:30:14.063202Z"
    }
   },
   "outputs": [],
   "source": [
    "pp(np.logspace(0.01, 5.0, num=10))"
   ]
  },
  {
   "cell_type": "code",
   "execution_count": null,
   "metadata": {
    "ExecuteTime": {
     "end_time": "2021-08-24T19:23:10.471022Z",
     "start_time": "2021-08-24T19:23:10.427435Z"
    }
   },
   "outputs": [],
   "source": [
    "temp_df = results[results['1-point_corr'] == 0.0]\n",
    "temp_df"
   ]
  },
  {
   "cell_type": "code",
   "execution_count": null,
   "metadata": {
    "ExecuteTime": {
     "end_time": "2021-08-19T19:27:26.569958Z",
     "start_time": "2021-08-19T19:27:26.551540Z"
    }
   },
   "outputs": [],
   "source": [
    "a = np.array([-0.1089001,   0.3044507,   0.3749987,  -0.12499498, -0.05446074, -0.14107723])"
   ]
  },
  {
   "cell_type": "code",
   "execution_count": null,
   "metadata": {
    "ExecuteTime": {
     "end_time": "2021-08-19T20:32:29.937643Z",
     "start_time": "2021-08-19T20:32:29.905052Z"
    }
   },
   "outputs": [],
   "source": [
    "results['corrs'].values"
   ]
  },
  {
   "cell_type": "code",
   "execution_count": null,
   "metadata": {
    "ExecuteTime": {
     "end_time": "2021-08-19T21:17:47.274539Z",
     "start_time": "2021-08-19T21:17:47.265685Z"
    }
   },
   "outputs": [],
   "source": [
    "eci"
   ]
  },
  {
   "cell_type": "code",
   "execution_count": null,
   "metadata": {
    "ExecuteTime": {
     "end_time": "2021-08-19T21:18:59.110725Z",
     "start_time": "2021-08-19T21:18:59.078198Z"
    }
   },
   "outputs": [],
   "source": [
    "pp(clusters)"
   ]
  },
  {
   "cell_type": "code",
   "execution_count": null,
   "metadata": {
    "ExecuteTime": {
     "end_time": "2021-08-24T15:31:52.434731Z",
     "start_time": "2021-08-24T15:31:52.423345Z"
    }
   },
   "outputs": [],
   "source": [
    "np.linspace(-1,1,17)"
   ]
  },
  {
   "cell_type": "code",
   "execution_count": null,
   "metadata": {
    "ExecuteTime": {
     "end_time": "2021-08-24T20:49:23.939087Z",
     "start_time": "2021-08-24T20:49:23.933380Z"
    }
   },
   "outputs": [],
   "source": [
    "temp = next(corrs0)"
   ]
  },
  {
   "cell_type": "code",
   "execution_count": null,
   "metadata": {
    "ExecuteTime": {
     "end_time": "2021-08-24T20:49:26.113278Z",
     "start_time": "2021-08-24T20:49:26.107183Z"
    }
   },
   "outputs": [],
   "source": [
    "temp"
   ]
  },
  {
   "cell_type": "code",
   "execution_count": null,
   "metadata": {
    "ExecuteTime": {
     "end_time": "2021-08-24T20:49:39.604723Z",
     "start_time": "2021-08-24T20:49:39.575037Z"
    }
   },
   "outputs": [],
   "source": [
    "np.gradient(temp,F)"
   ]
  },
  {
   "cell_type": "code",
   "execution_count": null,
   "metadata": {
    "ExecuteTime": {
     "end_time": "2021-08-26T01:40:58.963256Z",
     "start_time": "2021-08-26T01:40:56.309799Z"
    }
   },
   "outputs": [],
   "source": [
    "next(get_random_corr())"
   ]
  },
  {
   "cell_type": "code",
   "execution_count": null,
   "metadata": {},
   "outputs": [],
   "source": []
  }
 ],
 "metadata": {
  "kernelspec": {
   "display_name": "Python 3",
   "language": "python",
   "name": "python3"
  },
  "language_info": {
   "codemirror_mode": {
    "name": "ipython",
    "version": 3
   },
   "file_extension": ".py",
   "mimetype": "text/x-python",
   "name": "python",
   "nbconvert_exporter": "python",
   "pygments_lexer": "ipython3",
   "version": "3.8.10"
  },
  "toc": {
   "base_numbering": 1,
   "nav_menu": {},
   "number_sections": true,
   "sideBar": true,
   "skip_h1_title": false,
   "title_cell": "Table of Contents",
   "title_sidebar": "Contents",
   "toc_cell": false,
   "toc_position": {},
   "toc_section_display": true,
   "toc_window_display": false
  },
  "varInspector": {
   "cols": {
    "lenName": 16,
    "lenType": 16,
    "lenVar": 40
   },
   "kernels_config": {
    "python": {
     "delete_cmd_postfix": "",
     "delete_cmd_prefix": "del ",
     "library": "var_list.py",
     "varRefreshCmd": "print(var_dic_list())"
    },
    "r": {
     "delete_cmd_postfix": ") ",
     "delete_cmd_prefix": "rm(",
     "library": "var_list.r",
     "varRefreshCmd": "cat(var_dic_list()) "
    }
   },
   "types_to_exclude": [
    "module",
    "function",
    "builtin_function_or_method",
    "instance",
    "_Feature"
   ],
   "window_display": false
  }
 },
 "nbformat": 4,
 "nbformat_minor": 4
}
