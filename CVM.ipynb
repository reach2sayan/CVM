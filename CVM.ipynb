{
 "cells": [
  {
   "cell_type": "code",
   "execution_count": 242,
   "metadata": {
    "ExecuteTime": {
     "end_time": "2021-08-19T02:31:31.732736Z",
     "start_time": "2021-08-19T02:31:31.708910Z"
    }
   },
   "outputs": [],
   "source": [
    "import numpy as np\n",
    "from pprint import pprint as pp\n",
    "import re\n",
    "import math as maths\n",
    "from scipy.optimize import minimize\n",
    "from scipy.optimize import Bounds\n",
    "from ase.units import kB\n",
    "\n",
    "pattern1 = re.compile(\"\\n\\n\\n\")\n",
    "pattern2 = re.compile(\"\\n\\n\")"
   ]
  },
  {
   "cell_type": "code",
   "execution_count": 2,
   "metadata": {
    "ExecuteTime": {
     "end_time": "2021-08-19T01:23:53.779019Z",
     "start_time": "2021-08-19T01:23:53.770188Z"
    }
   },
   "outputs": [],
   "source": [
    "# Read clusters.out\n",
    "clusters = {}\n",
    "\n",
    "\n",
    "with open('clusters.out','r') as fclusters:\n",
    "    temp_clusters = fclusters.read().split('\\n\\n')\n",
    "\n",
    "for idx, cluster in enumerate(temp_clusters):\n",
    "    if cluster == '':\n",
    "        continue\n",
    "    line = cluster.split('\\n')\n",
    "    multiplicity = int(line[0])\n",
    "    length = float(line[1])\n",
    "    num_points = int(line[2])\n",
    "    clusters[idx] = {'mult':multiplicity, 'length':length, 'type':num_points}\n",
    "    \n",
    "num_clusters = len(clusters)"
   ]
  },
  {
   "cell_type": "code",
   "execution_count": 3,
   "metadata": {
    "ExecuteTime": {
     "end_time": "2021-08-19T01:23:54.536245Z",
     "start_time": "2021-08-19T01:23:54.505307Z"
    }
   },
   "outputs": [],
   "source": [
    "# Read config.out\n",
    "configs = {}\n",
    "\n",
    "fconfig = open('config.out','r')\n",
    "_ = next(fconfig)\n",
    "temp_config = fconfig.read()#.split('\\n\\n')\n",
    "temp_config = pattern1.split(temp_config)\n",
    "\n",
    "for idx, config in enumerate(temp_config):\n",
    "    if config == '':\n",
    "        continue\n",
    "    num_points = int(config[0])\n",
    "    config = pattern2.split(config[2:])\n",
    "    min_coords = []\n",
    "    for _ in range(num_points):\n",
    "        min_coords.append(config[_].split('\\n')[0])\n",
    "    configs[idx] = {'subclus': list(map(int,min_coords)), 'num_of_subclus': len(min_coords)}"
   ]
  },
  {
   "cell_type": "code",
   "execution_count": 4,
   "metadata": {
    "ExecuteTime": {
     "end_time": "2021-08-19T01:23:54.844714Z",
     "start_time": "2021-08-19T01:23:54.838028Z"
    }
   },
   "outputs": [],
   "source": [
    "# Read kb.out\n",
    "\n",
    "kb = {}\n",
    "\n",
    "fkb = open('kb.out','r')\n",
    "_ = next(fkb)\n",
    "\n",
    "temp_kb = fkb.read()\n",
    "temp_kb = temp_kb.split('\\n')\n",
    "\n",
    "for idx, kbcoeff in enumerate(temp_kb):\n",
    "    if kbcoeff == '':\n",
    "        continue\n",
    "    kb[idx] = float(kbcoeff)\n",
    "\n",
    "fkb.close()"
   ]
  },
  {
   "cell_type": "code",
   "execution_count": 5,
   "metadata": {
    "ExecuteTime": {
     "end_time": "2021-08-19T01:23:55.664410Z",
     "start_time": "2021-08-19T01:23:55.641017Z"
    }
   },
   "outputs": [],
   "source": [
    "# Read configcoeff.out\n",
    "\n",
    "configcoef = {}\n",
    "\n",
    "with open('configcoef.out','r') as fsubmult:\n",
    "    _ = next(fsubmult)\n",
    "    temp_submult = fsubmult.read()\n",
    "    temp_submult = pattern2.split(temp_submult)\n",
    "    \n",
    "for idx, submult in enumerate(temp_submult):\n",
    "    submult = submult.split('\\n')\n",
    "    while(\"\" in submult) :\n",
    "        submult.remove(\"\")\n",
    "    configcoef[idx] = list(map(float,submult[1:]))"
   ]
  },
  {
   "cell_type": "code",
   "execution_count": 6,
   "metadata": {
    "ExecuteTime": {
     "end_time": "2021-08-19T01:23:56.009941Z",
     "start_time": "2021-08-19T01:23:55.983006Z"
    }
   },
   "outputs": [],
   "source": [
    "# Read vmat.out\n",
    "\n",
    "vmat = {}\n",
    "\n",
    "with open('vmat.out') as fvmat:\n",
    "    _ = next(fvmat)\n",
    "    temp_vmat = fvmat.read()\n",
    "    #temp_vmat = temp_vmat.split('\\n')\n",
    "    temp_vmat = pattern2.split(temp_vmat)\n",
    "    \n",
    "    while(\"\" in temp_vmat) :\n",
    "        temp_vmat.remove(\"\")\n",
    "    \n",
    "    for clus_idx, mat in enumerate(temp_vmat):\n",
    "        mat = mat.split('\\n')\n",
    "        mat_float = np.empty(list(map(int, mat[0].split(' '))))\n",
    "        for idx, row in enumerate(mat[1:]):\n",
    "            mat_float[idx] = list(map(float,row.split(' ')[:-1]))\n",
    "        \n",
    "        vmat[clus_idx] = mat_float"
   ]
  },
  {
   "cell_type": "code",
   "execution_count": 173,
   "metadata": {
    "ExecuteTime": {
     "end_time": "2021-08-19T02:06:18.280664Z",
     "start_time": "2021-08-19T02:06:18.270881Z"
    }
   },
   "outputs": [
    {
     "data": {
      "text/plain": [
       "{0: 0.006143, 1: -0.018951, 2: 0.01147, 3: -0.009881, 4: 2.3e-05, 5: 0.002117}"
      ]
     },
     "execution_count": 173,
     "metadata": {},
     "output_type": "execute_result"
    }
   ],
   "source": [
    "# Read eci\n",
    "eci = {}\n",
    "\n",
    "with open('eci.out') as feci:\n",
    "    _ = next(feci)\n",
    "    temp_eci = feci.read()\n",
    "    temp_eci = temp_eci.split('\\n')\n",
    "\n",
    "for idx, eci_val in enumerate(temp_eci):\n",
    "    if eci_val == '':\n",
    "        continue\n",
    "    eci[idx] = float(eci_val)\n",
    "\n",
    "eci"
   ]
  },
  {
   "cell_type": "code",
   "execution_count": 136,
   "metadata": {
    "ExecuteTime": {
     "end_time": "2021-08-19T01:58:55.820958Z",
     "start_time": "2021-08-19T01:58:55.810091Z"
    }
   },
   "outputs": [],
   "source": [
    "corrs = np.array([1.0,-0.14286,0.02041,0.02041,0.00292,0.0])"
   ]
  },
  {
   "cell_type": "markdown",
   "metadata": {},
   "source": [
    "## Doing the Optimisation"
   ]
  },
  {
   "cell_type": "code",
   "execution_count": 456,
   "metadata": {
    "ExecuteTime": {
     "end_time": "2021-08-19T03:52:09.195251Z",
     "start_time": "2021-08-19T03:52:09.117476Z"
    }
   },
   "outputs": [],
   "source": [
    "corrs = np.array([1.0,0.2,0.02041,0.02041,0.00292,0.0])\n",
    "\n",
    "#cluster_optim = []\n",
    "#for cluster_idx, cluster in clusters.items():\n",
    "#    cluster_optim.append(cluster['type'] >= 2)\n",
    "    \n",
    "#corrs_optim = corrs[cluster_optim]\n",
    "#corrs_fixed = corrs[[not elem for elem in cluster_optim]]\n",
    "FIXED_CORR_1 = 0.2\n",
    "\n",
    "bounds_corrs = Bounds(np.array([-1]*len(corrs)),np.array([1]*len(corrs)))\n",
    "\n",
    "def constraint_rhos(corrs, vmat, clusters, configcoef,):\n",
    "    \n",
    "    all_pos = []\n",
    "    rho_sum = []\n",
    "    \n",
    "    #corrs = np.concatenate((corrs_fixed,corrs_optim))\n",
    "    def clus_prob(cluster_idx):\n",
    "        rho = np.matmul(vmat[cluster_idx],corrs)\n",
    "        return rho\n",
    "    \n",
    "    for cluster_idx, _ in clusters.items():\n",
    "        rho = clus_prob(cluster_idx)\n",
    "        all_pos.append(((rho >= 0).all() and (rho <= 1).all()))\n",
    "        rho_sum.append(np.sum(configcoef[cluster_idx]*rho))\n",
    "    \n",
    "    return np.sum(1 - np.array(rho_sum)) + (1 - int(all(all_pos)))\n",
    "\n",
    "def constraint_singlet(corrs):\n",
    "    \n",
    "    return corrs[1] - FIXED_CORR_1\n",
    "                    \n",
    "       \n",
    "def calc_S(corrs, vmat, kb, clusters, configs, configcoef,):\n",
    "\n",
    "    S = 0\n",
    "    H = 0\n",
    "    #corrs = np.concatenate((corrs_fixed,corrs_optim))\n",
    "    \n",
    "    def clus_prob(cluster_idx):\n",
    "        rho = np.matmul(vmat[cluster_idx],corrs)\n",
    "\n",
    "        return rho\n",
    "    \n",
    "    def inner_sum(cluster_idx):\n",
    "        isum = 0\n",
    "        rho = clus_prob(cluster_idx)\n",
    "        #print(rho)\n",
    "        try:\n",
    "            for i in range(configs[cluster_idx]['num_of_subclus']):\n",
    "                isum += configcoef[cluster_idx][i] * rho[i] * maths.log(rho[i])\n",
    "        except ValueError as ve:\n",
    "            #print(ve)\n",
    "            pass\n",
    "        #for i in range(configs[cluster_idx]['num_of_subclus']):\n",
    "        #        isum += configcoef[cluster_idx][i] * rho[i] * np.log(rho[i])\n",
    "        return isum \n",
    "            \n",
    "    for cluster_idx, cluster in clusters.items():\n",
    "        H += cluster['mult']*eci[cluster_idx]*corrs[cluster_idx]\n",
    "        S += kb[cluster_idx]*inner_sum(cluster_idx)\n",
    "\n",
    "    T = 3000\n",
    "    \n",
    "    #print(corrs)\n",
    "    return S\n",
    "    #return H - T*kB*S"
   ]
  },
  {
   "cell_type": "code",
   "execution_count": 457,
   "metadata": {
    "ExecuteTime": {
     "end_time": "2021-08-19T03:52:10.543461Z",
     "start_time": "2021-08-19T03:52:10.072139Z"
    }
   },
   "outputs": [
    {
     "name": "stdout",
     "output_type": "stream",
     "text": [
      "| niter |f evals|CG iter|  obj func   |tr radius |   opt    |  c viol  | penalty  |barrier param|CG stop|\n",
      "|-------|-------|-------|-------------|----------|----------|----------|----------|-------------|-------|\n",
      "|   1   |  13   |   0   | -2.6909e+00 | 1.00e+00 | 4.12e-02 | 2.22e-16 | 1.00e+00 |  1.00e-01   |   0   |\n",
      "|   2   |  26   |   1   | -2.6700e+00 | 5.61e+00 | 2.44e-02 | 2.48e-02 | 1.00e+00 |  1.00e-01   |   4   |\n",
      "|   3   |  39   |   2   | -2.6815e+00 | 5.61e+00 | 5.55e-03 | 1.24e-02 | 1.00e+00 |  1.00e-01   |   4   |\n",
      "|   4   |  52   |   3   | -2.6869e+00 | 5.61e+00 | 2.16e-03 | 6.25e-03 | 1.00e+00 |  1.00e-01   |   4   |\n",
      "|   5   |  65   |   4   | -2.6895e+00 | 5.61e+00 | 6.71e-04 | 3.14e-03 | 1.00e+00 |  1.00e-01   |   4   |\n",
      "|   6   |  65   |   4   | -2.6895e+00 | 2.80e+01 | 2.66e-03 | 3.14e-03 | 1.00e+00 |  2.00e-02   |   0   |\n",
      "|   7   |  78   |   5   | -2.6908e+00 | 2.80e+01 | 1.93e-03 | 1.58e-03 | 1.00e+00 |  2.00e-02   |   4   |\n",
      "|   8   |  91   |   7   | -2.6914e+00 | 2.80e+01 | 1.81e-04 | 7.93e-04 | 1.00e+00 |  2.00e-02   |   4   |\n",
      "|   9   |  104  |   9   | -2.6917e+00 | 2.80e+01 | 1.08e-04 | 3.99e-04 | 1.10e+00 |  2.00e-02   |   4   |\n",
      "|  10   |  104  |   9   | -2.6917e+00 | 1.40e+02 | 4.52e-04 | 3.99e-04 | 1.00e+00 |  4.00e-03   |   0   |\n",
      "|  11   |  117  |  11   | -2.6919e+00 | 1.40e+02 | 8.78e-05 | 2.00e-04 | 1.00e+00 |  4.00e-03   |   4   |\n",
      "|  12   |  130  |  13   | -2.6920e+00 | 1.40e+02 | 5.11e-05 | 1.01e-04 | 1.00e+00 |  4.00e-03   |   4   |\n",
      "|  13   |  130  |  13   | -2.6920e+00 | 7.01e+02 | 9.65e-05 | 1.01e-04 | 1.00e+00 |  8.00e-04   |   0   |\n",
      "|  14   |  143  |  15   | -2.6920e+00 | 7.01e+02 | 1.98e-05 | 5.06e-05 | 1.00e+00 |  8.00e-04   |   4   |\n",
      "|  15   |  156  |  17   | -2.6920e+00 | 7.01e+02 | 8.53e-06 | 2.54e-05 | 1.00e+00 |  8.00e-04   |   4   |\n",
      "|  16   |  156  |  17   | -2.6920e+00 | 3.50e+03 | 2.56e-05 | 2.54e-05 | 1.00e+00 |  1.60e-04   |   0   |\n",
      "|  17   |  169  |  19   | -2.6920e+00 | 3.50e+03 | 6.12e-07 | 1.28e-05 | 1.00e+00 |  1.60e-04   |   4   |\n",
      "|  18   |  182  |  21   | -2.6920e+00 | 3.50e+03 | 1.66e-06 | 6.42e-06 | 1.00e+00 |  1.60e-04   |   4   |\n",
      "|  19   |  195  |  23   | -2.6920e+00 | 3.50e+03 | 1.72e-06 | 3.22e-06 | 1.02e+00 |  1.60e-04   |   4   |\n",
      "|  20   |  195  |  23   | -2.6920e+00 | 1.75e+04 | 4.19e-06 | 3.22e-06 | 1.00e+00 |  3.20e-05   |   0   |\n",
      "|  21   |  208  |  25   | -2.6920e+00 | 1.75e+04 | 7.46e-07 | 1.62e-06 | 1.00e+00 |  3.20e-05   |   4   |\n",
      "|  22   |  221  |  27   | -2.6920e+00 | 1.75e+04 | 2.02e-07 | 8.14e-07 | 1.00e+00 |  3.20e-05   |   4   |\n",
      "|  23   |  221  |  27   | -2.6920e+00 | 8.76e+04 | 8.03e-07 | 8.14e-07 | 1.00e+00 |  6.40e-06   |   0   |\n",
      "|  24   |  234  |  29   | -2.6920e+00 | 8.76e+04 | 3.95e-08 | 4.09e-07 | 1.00e+00 |  6.40e-06   |   4   |\n",
      "|  25   |  247  |  30   | -2.6920e+00 | 8.76e+04 | 2.43e-08 | 2.05e-07 | 1.00e+00 |  6.40e-06   |   4   |\n",
      "|  26   |  247  |  30   | -2.6920e+00 | 4.38e+05 | 1.59e-07 | 2.05e-07 | 1.00e+00 |  1.28e-06   |   0   |\n",
      "|  27   |  260  |  32   | -2.6920e+00 | 4.38e+05 | 3.78e-08 | 1.03e-07 | 1.00e+00 |  1.28e-06   |   4   |\n",
      "|  28   |  273  |  34   | -2.6920e+00 | 4.38e+05 | 1.48e-08 | 5.18e-08 | 1.00e+00 |  1.28e-06   |   4   |\n",
      "|  29   |  286  |  36   | -2.6920e+00 | 4.38e+05 | 1.84e-09 | 2.60e-08 | 1.01e+00 |  1.28e-06   |   4   |\n",
      "|  30   |  286  |  36   | -2.6920e+00 | 2.19e+06 | 2.91e-08 | 2.60e-08 | 1.00e+00 |  2.56e-07   |   0   |\n",
      "|  31   |  299  |  38   | -2.6920e+00 | 2.19e+06 | 3.85e-09 | 1.30e-08 | 1.00e+00 |  2.56e-07   |   4   |\n",
      "|  32   |  312  |  40   | -2.6920e+00 | 2.19e+06 | 7.99e-10 | 1.11e-08 | 1.00e+00 |  2.56e-07   |   4   |\n",
      "|  33   |  312  |  40   | -2.6920e+00 | 1.09e+07 | 6.25e-09 | 1.11e-08 | 1.00e+00 |  5.12e-08   |   0   |\n",
      "|  34   |  325  |  42   | -2.6920e+00 | 1.09e+07 | 8.50e-10 | 1.11e-08 | 1.00e+00 |  5.12e-08   |   4   |\n",
      "|  35   |  338  |  44   | -2.6920e+00 | 1.09e+07 | 1.96e-10 | 1.11e-08 | 1.00e+00 |  5.12e-08   |   4   |\n",
      "|  36   |  338  |  44   | -2.6920e+00 | 5.47e+07 | 1.29e-09 | 1.11e-08 | 1.00e+00 |  1.02e-08   |   0   |\n",
      "|  37   |  351  |  46   | -2.6920e+00 | 5.47e+07 | 1.60e-10 | 1.11e-08 | 1.00e+00 |  1.02e-08   |   4   |\n",
      "|  38   |  364  |  48   | -2.6920e+00 | 5.47e+07 | 4.11e-11 | 1.11e-08 | 1.00e+00 |  1.02e-08   |   4   |\n",
      "|  39   |  377  |  50   | -2.6920e+00 | 5.47e+06 | 4.11e-11 | 1.11e-08 | 1.00e+00 |  1.02e-08   |   4   |\n",
      "|  40   |  390  |  51   | -2.6920e+00 | 5.47e+05 | 4.11e-11 | 1.11e-08 | 1.00e+00 |  1.02e-08   |   4   |\n",
      "|  41   |  403  |  53   | -2.6920e+00 | 5.47e+04 | 4.11e-11 | 1.11e-08 | 1.00e+00 |  1.02e-08   |   4   |\n",
      "|  42   |  416  |  54   | -2.6920e+00 | 5.47e+03 | 4.11e-11 | 1.11e-08 | 1.00e+00 |  1.02e-08   |   4   |\n",
      "|  43   |  429  |  55   | -2.6920e+00 | 5.47e+02 | 4.11e-11 | 1.11e-08 | 1.00e+00 |  1.02e-08   |   4   |\n",
      "|  44   |  442  |  57   | -2.6920e+00 | 5.47e+01 | 4.11e-11 | 1.11e-08 | 1.00e+00 |  1.02e-08   |   4   |\n",
      "|  45   |  455  |  58   | -2.6920e+00 | 5.47e+00 | 4.11e-11 | 1.11e-08 | 1.00e+00 |  1.02e-08   |   4   |\n"
     ]
    },
    {
     "name": "stderr",
     "output_type": "stream",
     "text": [
      "/home/sayan/.local/lib/python3.8/site-packages/scipy/optimize/_hessian_update_strategy.py:182: UserWarning: delta_grad == 0.0. Check if the approximated function is linear. If the function is linear better results can be obtained by defining the Hessian as zero instead of using quasi-Newton approximations.\n",
      "  warn('delta_grad == 0.0. Check if the approximated '\n"
     ]
    },
    {
     "name": "stdout",
     "output_type": "stream",
     "text": [
      "|  46   |  468  |  60   | -2.6920e+00 | 5.47e-01 | 4.11e-11 | 1.11e-08 | 1.00e+00 |  1.02e-08   |   4   |\n",
      "|  47   |  481  |  62   | -2.6920e+00 | 2.74e-01 | 4.11e-11 | 1.11e-08 | 1.00e+00 |  1.02e-08   |   4   |\n",
      "|  48   |  494  |  66   | -2.6920e+00 | 2.74e-01 | 1.68e-09 | 1.11e-08 | 1.00e+00 |  1.02e-08   |   1   |\n",
      "|  49   |  507  |  68   | -2.6920e+00 | 1.37e-01 | 1.68e-09 | 1.11e-08 | 1.00e+00 |  1.02e-08   |   4   |\n",
      "|  50   |  520  |  70   | -2.6920e+00 | 6.84e-02 | 1.68e-09 | 1.11e-08 | 1.00e+00 |  1.02e-08   |   4   |\n",
      "|  51   |  533  |  72   | -2.6920e+00 | 3.42e-02 | 1.68e-09 | 1.11e-08 | 1.00e+00 |  1.02e-08   |   4   |\n",
      "|  52   |  546  |  74   | -2.6920e+00 | 1.71e-02 | 1.68e-09 | 1.11e-08 | 1.00e+00 |  1.02e-08   |   4   |\n",
      "|  53   |  559  |  76   | -2.6920e+00 | 8.55e-03 | 1.68e-09 | 1.11e-08 | 1.00e+00 |  1.02e-08   |   4   |\n",
      "|  54   |  572  |  79   | -2.6920e+00 | 4.28e-03 | 1.68e-09 | 1.11e-08 | 1.00e+00 |  1.02e-08   |   4   |\n",
      "|  55   |  585  |  81   | -2.6920e+00 | 2.14e-03 | 1.68e-09 | 1.11e-08 | 1.00e+00 |  1.02e-08   |   4   |\n",
      "|  56   |  598  |  83   | -2.6920e+00 | 1.07e-03 | 1.68e-09 | 1.11e-08 | 1.00e+00 |  1.02e-08   |   4   |\n",
      "|  57   |  611  |  85   | -2.6920e+00 | 5.35e-04 | 1.68e-09 | 1.11e-08 | 1.00e+00 |  1.02e-08   |   4   |\n",
      "|  58   |  624  |  88   | -2.6920e+00 | 2.67e-04 | 1.68e-09 | 1.11e-08 | 1.00e+00 |  1.02e-08   |   4   |\n",
      "|  59   |  637  |  90   | -2.6920e+00 | 1.34e-04 | 1.68e-09 | 1.11e-08 | 1.00e+00 |  1.02e-08   |   4   |\n",
      "|  60   |  650  |  92   | -2.6920e+00 | 6.68e-05 | 1.68e-09 | 1.11e-08 | 1.00e+00 |  1.02e-08   |   4   |\n",
      "|  61   |  663  |  93   | -2.6920e+00 | 3.34e-05 | 1.68e-09 | 1.11e-08 | 1.00e+00 |  1.02e-08   |   4   |\n",
      "|  62   |  676  |  95   | -2.6920e+00 | 1.67e-05 | 1.68e-09 | 1.11e-08 | 1.00e+00 |  1.02e-08   |   4   |\n",
      "|  63   |  689  |  97   | -2.6920e+00 | 8.35e-06 | 1.68e-09 | 1.11e-08 | 1.00e+00 |  1.02e-08   |   4   |\n",
      "|  64   |  702  |  99   | -2.6920e+00 | 4.18e-06 | 1.68e-09 | 1.11e-08 | 1.00e+00 |  1.02e-08   |   4   |\n",
      "|  65   |  715  |  101  | -2.6920e+00 | 2.09e-06 | 1.68e-09 | 1.11e-08 | 1.00e+00 |  1.02e-08   |   4   |\n",
      "|  66   |  728  |  103  | -2.6920e+00 | 1.04e-06 | 1.68e-09 | 1.11e-08 | 1.00e+00 |  1.02e-08   |   4   |\n",
      "|  67   |  741  |  105  | -2.6920e+00 | 5.22e-07 | 1.68e-09 | 1.11e-08 | 1.00e+00 |  1.02e-08   |   4   |\n",
      "|  68   |  754  |  107  | -2.6920e+00 | 2.61e-07 | 1.68e-09 | 1.11e-08 | 1.00e+00 |  1.02e-08   |   4   |\n",
      "|  69   |  767  |  109  | -2.6920e+00 | 1.31e-07 | 1.68e-09 | 1.11e-08 | 1.00e+00 |  1.02e-08   |   4   |\n",
      "|  70   |  780  |  111  | -2.6920e+00 | 6.53e-08 | 1.68e-09 | 1.11e-08 | 1.00e+00 |  1.02e-08   |   4   |\n",
      "|  71   |  793  |  113  | -2.6920e+00 | 6.53e-08 | 1.75e-10 | 1.11e-08 | 1.00e+00 |  1.02e-08   |   4   |\n",
      "|  72   |  806  |  115  | -2.6920e+00 | 3.26e-08 | 1.75e-10 | 1.11e-08 | 1.00e+00 |  1.02e-08   |   4   |\n",
      "|  73   |  819  |  117  | -2.6920e+00 | 1.63e-08 | 1.75e-10 | 1.11e-08 | 1.00e+00 |  1.02e-08   |   4   |\n",
      "|  74   |  832  |  119  | -2.6920e+00 | 8.16e-09 | 1.75e-10 | 1.11e-08 | 1.00e+00 |  1.02e-08   |   4   |\n",
      "|  75   |  845  |  119  | -2.6920e+00 | 1.00e+00 | 3.72e-10 | 1.11e-08 | 1.00e+00 |  2.05e-09   |   0   |\n",
      "|  76   |  858  |  120  | -2.6920e+00 | 1.00e+00 | 1.24e-10 | 1.11e-08 | 1.00e+00 |  2.05e-09   |   4   |\n",
      "|  77   |  871  |  122  | -2.6920e+00 | 4.66e-01 | 1.24e-10 | 1.11e-08 | 1.00e+00 |  2.05e-09   |   4   |\n",
      "|  78   |  884  |  125  | -2.6920e+00 | 2.33e-01 | 1.24e-10 | 1.11e-08 | 1.00e+00 |  2.05e-09   |   4   |\n",
      "|  79   |  897  |  128  | -2.6920e+00 | 1.17e-01 | 1.24e-10 | 1.11e-08 | 1.00e+00 |  2.05e-09   |   4   |\n",
      "|  80   |  910  |  131  | -2.6920e+00 | 1.17e-01 | 2.01e-10 | 1.11e-08 | 1.00e+00 |  2.05e-09   |   4   |\n",
      "|  81   |  923  |  134  | -2.6920e+00 | 5.83e-02 | 2.01e-10 | 1.11e-08 | 1.00e+00 |  2.05e-09   |   4   |\n",
      "|  82   |  936  |  137  | -2.6920e+00 | 2.91e-02 | 2.01e-10 | 1.11e-08 | 1.00e+00 |  2.05e-09   |   4   |\n",
      "|  83   |  949  |  141  | -2.6920e+00 | 1.46e-02 | 2.01e-10 | 1.11e-08 | 1.00e+00 |  2.05e-09   |   1   |\n",
      "|  84   |  962  |  144  | -2.6920e+00 | 7.29e-03 | 2.01e-10 | 1.11e-08 | 1.00e+00 |  2.05e-09   |   4   |\n",
      "|  85   |  975  |  147  | -2.6920e+00 | 3.64e-03 | 2.01e-10 | 1.11e-08 | 1.00e+00 |  2.05e-09   |   4   |\n",
      "|  86   |  988  |  151  | -2.6920e+00 | 1.82e-03 | 2.01e-10 | 1.11e-08 | 1.00e+00 |  2.05e-09   |   1   |\n",
      "|  87   | 1001  |  154  | -2.6920e+00 | 9.11e-04 | 2.01e-10 | 1.11e-08 | 1.00e+00 |  2.05e-09   |   4   |\n",
      "|  88   | 1014  |  157  | -2.6920e+00 | 4.55e-04 | 2.01e-10 | 1.11e-08 | 1.00e+00 |  2.05e-09   |   4   |\n",
      "|  89   | 1027  |  161  | -2.6920e+00 | 2.28e-04 | 2.01e-10 | 1.11e-08 | 1.00e+00 |  2.05e-09   |   1   |\n",
      "|  90   | 1040  |  164  | -2.6920e+00 | 1.14e-04 | 2.01e-10 | 1.11e-08 | 1.00e+00 |  2.05e-09   |   4   |\n",
      "|  91   | 1053  |  167  | -2.6920e+00 | 5.69e-05 | 2.01e-10 | 1.11e-08 | 1.00e+00 |  2.05e-09   |   4   |\n",
      "|  92   | 1066  |  171  | -2.6920e+00 | 2.85e-05 | 2.01e-10 | 1.11e-08 | 1.00e+00 |  2.05e-09   |   1   |\n",
      "|  93   | 1079  |  174  | -2.6920e+00 | 1.42e-05 | 2.01e-10 | 1.11e-08 | 1.00e+00 |  2.05e-09   |   4   |\n",
      "|  94   | 1092  |  177  | -2.6920e+00 | 7.12e-06 | 2.01e-10 | 1.11e-08 | 1.00e+00 |  2.05e-09   |   4   |\n",
      "|  95   | 1105  |  179  | -2.6920e+00 | 3.56e-06 | 2.01e-10 | 1.11e-08 | 1.00e+00 |  2.05e-09   |   4   |\n",
      "|  96   | 1118  |  181  | -2.6920e+00 | 1.78e-06 | 2.01e-10 | 1.11e-08 | 1.00e+00 |  2.05e-09   |   4   |\n",
      "|  97   | 1131  |  183  | -2.6920e+00 | 8.90e-07 | 2.01e-10 | 1.11e-08 | 1.00e+00 |  2.05e-09   |   4   |\n",
      "|  98   | 1144  |  185  | -2.6920e+00 | 4.45e-07 | 2.01e-10 | 1.11e-08 | 1.00e+00 |  2.05e-09   |   4   |\n",
      "|  99   | 1157  |  188  | -2.6920e+00 | 2.22e-07 | 2.01e-10 | 1.11e-08 | 1.00e+00 |  2.05e-09   |   4   |\n",
      "|  100  | 1170  |  191  | -2.6920e+00 | 1.11e-07 | 2.01e-10 | 1.11e-08 | 1.00e+00 |  2.05e-09   |   4   |\n",
      "|  101  | 1183  |  194  | -2.6920e+00 | 5.56e-08 | 2.01e-10 | 1.11e-08 | 1.00e+00 |  2.05e-09   |   4   |\n",
      "|  102  | 1196  |  198  | -2.6920e+00 | 2.78e-08 | 2.01e-10 | 1.11e-08 | 1.00e+00 |  2.05e-09   |   1   |\n",
      "|  103  | 1209  |  201  | -2.6920e+00 | 1.39e-08 | 2.01e-10 | 1.11e-08 | 1.00e+00 |  2.05e-09   |   4   |\n",
      "|  104  | 1222  |  204  | -2.6920e+00 | 6.95e-09 | 2.01e-10 | 1.11e-08 | 1.00e+00 |  2.05e-09   |   4   |\n",
      "\n",
      "`xtol` termination condition is satisfied.\n",
      "Number of iterations: 104, function evaluations: 1222, CG iterations: 204, optimality: 2.01e-10, constraint violation: 1.11e-08, execution time: 0.44 s.\n"
     ]
    }
   ],
   "source": [
    "res = minimize(calc_S, \n",
    "               corrs, \n",
    "               args=(vmat, kb, clusters, configs, configcoef,),\n",
    "               method='trust-constr', \n",
    "               options={'verbose': 3,},#'gtol': 1e-3, 'maxiter': 200},\n",
    "               jac='3-point',\n",
    "               constraints=[{\"fun\": constraint_rhos, \"type\": \"eq\", 'args': (vmat, clusters, configcoef,)},\n",
    "                            {\"fun\": constraint_singlet, \"type\": \"eq\"}\n",
    "                           ],\n",
    "               bounds=bounds_corrs\n",
    "              )"
   ]
  },
  {
   "cell_type": "code",
   "execution_count": 458,
   "metadata": {
    "ExecuteTime": {
     "end_time": "2021-08-19T03:52:16.826866Z",
     "start_time": "2021-08-19T03:52:16.797676Z"
    }
   },
   "outputs": [
    {
     "data": {
      "text/plain": [
       " barrier_parameter: 2.048000000000001e-09\n",
       " barrier_tolerance: 2.048000000000001e-09\n",
       "          cg_niter: 204\n",
       "      cg_stop_cond: 4\n",
       "            constr: [array([1.10653059e-08]), array([7.77159448e-11]), array([1.    , 0.2   , 0.04  , 0.04  , 0.008 , 0.0016])]\n",
       "       constr_nfev: [658, 658, 0]\n",
       "       constr_nhev: [0, 0, 0]\n",
       "       constr_njev: [0, 0, 0]\n",
       "    constr_penalty: 1.0\n",
       "  constr_violation: 1.106530589378707e-08\n",
       "    execution_time: 0.43779945373535156\n",
       "               fun: -2.692046664554395\n",
       "              grad: array([-1.85423271e+00,  8.10930218e-01,  4.40022344e-10, -1.46674115e-10,\n",
       "        2.20011172e-10,  2.93348229e-10])\n",
       "               jac: [array([[67108858.00000001,        0.        ,        0.        ,\n",
       "               0.        ,        0.        ,        0.        ]]), array([[0., 1., 0., 0., 0., 0.]]), array([[1., 0., 0., 0., 0., 0.],\n",
       "       [0., 1., 0., 0., 0., 0.],\n",
       "       [0., 0., 1., 0., 0., 0.],\n",
       "       [0., 0., 0., 1., 0., 0.],\n",
       "       [0., 0., 0., 0., 1., 0.],\n",
       "       [0., 0., 0., 0., 0., 1.]])]\n",
       "   lagrangian_grad: array([0.00000000e+00, 4.37553822e-17, 2.00730933e-10, 5.79089741e-12,\n",
       "       8.42496363e-11, 9.99667823e-11])\n",
       "           message: '`xtol` termination condition is satisfied.'\n",
       "            method: 'tr_interior_point'\n",
       "              nfev: 1222\n",
       "              nhev: 0\n",
       "               nit: 104\n",
       "             niter: 104\n",
       "              njev: 94\n",
       "        optimality: 2.0073093276656216e-10\n",
       "            status: 2\n",
       "           success: True\n",
       "         tr_radius: 6.949406559754134e-09\n",
       "                 v: [array([1.96889034e-08]), array([-0.81093022]), array([ 5.32932890e-01,  8.53333226e-10, -2.39291411e-10,  1.52465012e-10,\n",
       "       -1.35761535e-10, -1.93381447e-10])]\n",
       "                 x: array([1.    , 0.2   , 0.04  , 0.04  , 0.008 , 0.0016])"
      ]
     },
     "execution_count": 458,
     "metadata": {},
     "output_type": "execute_result"
    }
   ],
   "source": [
    "res"
   ]
  },
  {
   "cell_type": "code",
   "execution_count": 459,
   "metadata": {
    "ExecuteTime": {
     "end_time": "2021-08-19T03:52:20.917231Z",
     "start_time": "2021-08-19T03:52:20.887582Z"
    }
   },
   "outputs": [
    {
     "name": "stdout",
     "output_type": "stream",
     "text": [
      "[1.]\n",
      "[0.4 0.6]\n",
      "[0.16 0.24 0.36]\n",
      "[0.16 0.24 0.36]\n",
      "[0.064 0.096 0.144 0.096 0.144 0.216]\n",
      "[0.0256 0.0384 0.0576 0.0576 0.0864 0.1296]\n"
     ]
    }
   ],
   "source": [
    "for cluster_idx in clusters:\n",
    "    print(np.matmul(vmat[cluster_idx],res.x))"
   ]
  },
  {
   "cell_type": "code",
   "execution_count": null,
   "metadata": {},
   "outputs": [],
   "source": []
  }
 ],
 "metadata": {
  "kernelspec": {
   "display_name": "Python 3",
   "language": "python",
   "name": "python3"
  },
  "language_info": {
   "codemirror_mode": {
    "name": "ipython",
    "version": 3
   },
   "file_extension": ".py",
   "mimetype": "text/x-python",
   "name": "python",
   "nbconvert_exporter": "python",
   "pygments_lexer": "ipython3",
   "version": "3.8.10"
  },
  "toc": {
   "base_numbering": 1,
   "nav_menu": {},
   "number_sections": true,
   "sideBar": true,
   "skip_h1_title": false,
   "title_cell": "Table of Contents",
   "title_sidebar": "Contents",
   "toc_cell": false,
   "toc_position": {},
   "toc_section_display": true,
   "toc_window_display": false
  },
  "varInspector": {
   "cols": {
    "lenName": 16,
    "lenType": 16,
    "lenVar": 40
   },
   "kernels_config": {
    "python": {
     "delete_cmd_postfix": "",
     "delete_cmd_prefix": "del ",
     "library": "var_list.py",
     "varRefreshCmd": "print(var_dic_list())"
    },
    "r": {
     "delete_cmd_postfix": ") ",
     "delete_cmd_prefix": "rm(",
     "library": "var_list.r",
     "varRefreshCmd": "cat(var_dic_list()) "
    }
   },
   "types_to_exclude": [
    "module",
    "function",
    "builtin_function_or_method",
    "instance",
    "_Feature"
   ],
   "window_display": false
  }
 },
 "nbformat": 4,
 "nbformat_minor": 4
}
