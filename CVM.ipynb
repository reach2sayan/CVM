{
 "cells": [
  {
   "cell_type": "markdown",
   "metadata": {},
   "source": [
    "# Imports"
   ]
  },
  {
   "cell_type": "code",
   "execution_count": 36,
   "metadata": {
    "ExecuteTime": {
     "end_time": "2021-09-10T23:48:09.524461Z",
     "start_time": "2021-09-10T23:48:09.511001Z"
    }
   },
   "outputs": [],
   "source": [
    "import numpy as np\n",
    "from pprint import pprint as pp\n",
    "import re #Used to read chunks from the data files - clusters, vmat, etec.\n",
    "import math\n",
    "from tqdm.notebook import tqdm\n",
    "import pandas as pd\n",
    "import matplotlib.pyplot as plt\n",
    "import plotly.graph_objects as go\n",
    "from datetime import datetime\n",
    "import random\n",
    "from IPython.display import clear_output\n",
    "\n",
    "from scipy.optimize import minimize, basinhopping\n",
    "from scipy.optimize import SR1, BFGS\n",
    "from scipy.optimize import Bounds\n",
    "from scipy.optimize import LinearConstraint\n",
    "from scipy.optimize import NonlinearConstraint\n",
    "\n",
    "from ase import Atoms\n",
    "from ase.units import kB\n",
    "from ase.visualize import view\n",
    "from ase.build import bulk\n",
    "from ase.spacegroup import crystal\n",
    "from ase.build import make_supercell\n",
    "from ase.io.vasp import write_vasp\n",
    "\n",
    "import sys\n",
    "import subprocess\n",
    "import os\n",
    "\n",
    "pattern1 = re.compile(\"\\n\\n\\n\")\n",
    "pattern2 = re.compile(\"\\n\\n\")\n",
    "np.set_printoptions(suppress=True,precision=2)"
   ]
  },
  {
   "cell_type": "markdown",
   "metadata": {},
   "source": [
    "# Read all necessary files"
   ]
  },
  {
   "cell_type": "markdown",
   "metadata": {},
   "source": [
    "## Read Clusters.out"
   ]
  },
  {
   "cell_type": "code",
   "execution_count": 37,
   "metadata": {
    "ExecuteTime": {
     "end_time": "2021-09-10T23:48:09.891540Z",
     "start_time": "2021-09-10T23:48:09.883181Z"
    }
   },
   "outputs": [],
   "source": [
    "# Read clusters.out\n",
    "clusters = {}\n",
    "\n",
    "with open('clusters.out','r') as fclusters:\n",
    "    temp_clusters = fclusters.read().split('\\n\\n') #Read blocks separated by 1 empty line\n",
    "\n",
    "for idx, cluster in enumerate(temp_clusters):\n",
    "    if cluster == '': #Check for spurious empty blocks\n",
    "        continue \n",
    "    line = cluster.split('\\n') #If not empty split by lines\n",
    "    multiplicity = int(line[0]) #1st line\n",
    "    length = float(line[1]) #largest distance between two atoms\n",
    "    num_points = int(line[2]) #type of cluster\n",
    "    clusters[idx] = {'mult':multiplicity, 'length':length, 'type':num_points}"
   ]
  },
  {
   "cell_type": "code",
   "execution_count": 38,
   "metadata": {
    "ExecuteTime": {
     "end_time": "2021-09-10T23:48:11.163821Z",
     "start_time": "2021-09-10T23:48:11.155662Z"
    }
   },
   "outputs": [
    {
     "data": {
      "text/plain": [
       "{0: {'mult': 1, 'length': 0.0, 'type': 0},\n",
       " 1: {'mult': 1, 'length': 0.0, 'type': 1},\n",
       " 2: {'mult': 4, 'length': 0.86603, 'type': 2},\n",
       " 3: {'mult': 3, 'length': 1.0, 'type': 2},\n",
       " 4: {'mult': 12, 'length': 1.0, 'type': 3},\n",
       " 5: {'mult': 6, 'length': 1.0, 'type': 4}}"
      ]
     },
     "execution_count": 38,
     "metadata": {},
     "output_type": "execute_result"
    }
   ],
   "source": [
    "clusters"
   ]
  },
  {
   "cell_type": "markdown",
   "metadata": {},
   "source": [
    "## Read Config.out"
   ]
  },
  {
   "cell_type": "code",
   "execution_count": 39,
   "metadata": {
    "ExecuteTime": {
     "end_time": "2021-09-10T23:48:12.154325Z",
     "start_time": "2021-09-10T23:48:12.130631Z"
    }
   },
   "outputs": [],
   "source": [
    "# Read config.out\n",
    "configs = {}\n",
    "\n",
    "fconfig = open('config.out','r')\n",
    "_ = next(fconfig) #Ignore first line\n",
    "\n",
    "temp_config = fconfig.read()#.split('\\n\\n')\n",
    "temp_config = pattern1.split(temp_config) #split lines separated by 2 empty lines\n",
    "\n",
    "for idx, config in enumerate(temp_config):\n",
    "    if config == '': #Check for spurious empty blocks\n",
    "        continue\n",
    "    num_points = int(config[0]) #number of subclusters\n",
    "    config = pattern2.split(config[2:]) #now split individual subclusters separated by 1 blank line\n",
    "    min_coords = []\n",
    "    for _ in range(num_points):\n",
    "        min_coords.append(config[_].split('\\n')[0])\n",
    "    configs[idx] = {'subclus': list(map(int,min_coords)), 'num_of_subclus': len(min_coords)}"
   ]
  },
  {
   "cell_type": "code",
   "execution_count": 40,
   "metadata": {
    "ExecuteTime": {
     "end_time": "2021-09-10T23:48:12.494618Z",
     "start_time": "2021-09-10T23:48:12.482862Z"
    }
   },
   "outputs": [
    {
     "data": {
      "text/plain": [
       "{0: {'subclus': [0], 'num_of_subclus': 1},\n",
       " 1: {'subclus': [1, 1], 'num_of_subclus': 2},\n",
       " 2: {'subclus': [2, 2, 2], 'num_of_subclus': 3},\n",
       " 3: {'subclus': [2, 2, 2], 'num_of_subclus': 3},\n",
       " 4: {'subclus': [3, 3, 3, 3, 3, 3], 'num_of_subclus': 6},\n",
       " 5: {'subclus': [4, 4, 4, 4, 4, 4], 'num_of_subclus': 6}}"
      ]
     },
     "execution_count": 40,
     "metadata": {},
     "output_type": "execute_result"
    }
   ],
   "source": [
    "configs"
   ]
  },
  {
   "cell_type": "markdown",
   "metadata": {},
   "source": [
    "## Read Kikuchi-Barker Coefficients"
   ]
  },
  {
   "cell_type": "code",
   "execution_count": 41,
   "metadata": {
    "ExecuteTime": {
     "end_time": "2021-09-10T23:48:13.608520Z",
     "start_time": "2021-09-10T23:48:13.591018Z"
    }
   },
   "outputs": [],
   "source": [
    "# Read kb.out\n",
    "\n",
    "kb = {}\n",
    "fkb = open('kb.out','r')\n",
    "_ = next(fkb) #ignore first line\n",
    "\n",
    "temp_kb = fkb.read()\n",
    "temp_kb = temp_kb.split('\\n') #split file linewise\n",
    "\n",
    "for idx, kbcoeff in enumerate(temp_kb):\n",
    "    if kbcoeff == '': #check for spurious empty blocks\n",
    "        continue\n",
    "    kb[idx] = float(kbcoeff)\n",
    "\n",
    "fkb.close()"
   ]
  },
  {
   "cell_type": "code",
   "execution_count": 42,
   "metadata": {
    "ExecuteTime": {
     "end_time": "2021-09-10T23:48:14.597656Z",
     "start_time": "2021-09-10T23:48:14.582466Z"
    }
   },
   "outputs": [
    {
     "data": {
      "text/plain": [
       "{0: 0.0, 1: -1.0, 2: 1.0, 3: 1.0, 4: -1.0, 5: 1.0}"
      ]
     },
     "execution_count": 42,
     "metadata": {},
     "output_type": "execute_result"
    }
   ],
   "source": [
    "kb"
   ]
  },
  {
   "cell_type": "markdown",
   "metadata": {},
   "source": [
    "## Read Coefficient of subclusters"
   ]
  },
  {
   "cell_type": "code",
   "execution_count": 43,
   "metadata": {
    "ExecuteTime": {
     "end_time": "2021-09-10T23:48:16.103885Z",
     "start_time": "2021-09-10T23:48:16.088263Z"
    }
   },
   "outputs": [],
   "source": [
    "# Read configcoeff.out\n",
    "configcoef = {}\n",
    "\n",
    "with open('configcoef.out','r') as fsubmult:\n",
    "    _ = next(fsubmult) #ignore first line\n",
    "    temp_submult = fsubmult.read() \n",
    "    temp_submult = pattern2.split(temp_submult) #split lines into blocks separated by 2 empty lines\n",
    "    \n",
    "for idx, submult in enumerate(temp_submult):\n",
    "    submult = submult.split('\\n') #split into number of subclusters \n",
    "    while(\"\" in submult) :\n",
    "        submult.remove(\"\") #remove empty blocks\n",
    "    configcoef[idx] = list(map(float,submult[1:])) #also ignore 1st line of each block"
   ]
  },
  {
   "cell_type": "code",
   "execution_count": 44,
   "metadata": {
    "ExecuteTime": {
     "end_time": "2021-09-10T23:48:16.450904Z",
     "start_time": "2021-09-10T23:48:16.446185Z"
    }
   },
   "outputs": [
    {
     "data": {
      "text/plain": [
       "{0: [1.0],\n",
       " 1: [1.0, 1.0],\n",
       " 2: [1.0, 2.0, 1.0],\n",
       " 3: [1.0, 2.0, 1.0],\n",
       " 4: [1.0, 2.0, 1.0, 1.0, 2.0, 1.0],\n",
       " 5: [1.0, 4.0, 2.0, 4.0, 4.0, 1.0],\n",
       " 6: [0.0, -1.0, 1.0, 1.0, -1.0, 1.0]}"
      ]
     },
     "execution_count": 44,
     "metadata": {},
     "output_type": "execute_result"
    }
   ],
   "source": [
    "configcoef"
   ]
  },
  {
   "cell_type": "code",
   "execution_count": 45,
   "metadata": {
    "ExecuteTime": {
     "end_time": "2021-09-10T23:48:16.773596Z",
     "start_time": "2021-09-10T23:48:16.765604Z"
    }
   },
   "outputs": [],
   "source": [
    "# Read vmat.out\n",
    "vmat = {}\n",
    "with open('vmat.out') as fvmat:\n",
    "    _ = next(fvmat) #ignore first lie\n",
    "    temp_vmat = fvmat.read()\n",
    "    temp_vmat = pattern2.split(temp_vmat) #split by 2 empty lines i.e. maxclusters\n",
    "    \n",
    "    while(\"\" in temp_vmat) :\n",
    "        temp_vmat.remove(\"\") #remove empty blocks\n",
    "    \n",
    "    for clus_idx, mat in enumerate(temp_vmat):\n",
    "        mat = mat.split('\\n') #split by 1 empty line i.e. subclusters\n",
    "        mat_float = np.empty(list(map(int, mat[0].split(' '))))\n",
    "        for idx, row in enumerate(mat[1:]): #ignore first line\n",
    "            mat_float[idx] = list(map(float,row.split(' ')[:-1]))\n",
    "        \n",
    "        vmat[clus_idx] = mat_float"
   ]
  },
  {
   "cell_type": "code",
   "execution_count": 46,
   "metadata": {
    "ExecuteTime": {
     "end_time": "2021-09-10T23:48:17.491216Z",
     "start_time": "2021-09-10T23:48:17.478653Z"
    }
   },
   "outputs": [
    {
     "data": {
      "text/plain": [
       "{0: array([[1., 0., 0., 0., 0., 0.]]),\n",
       " 1: array([[ 0.5, -0.5,  0. ,  0. ,  0. ,  0. ],\n",
       "        [ 0.5,  0.5,  0. ,  0. ,  0. ,  0. ]]),\n",
       " 2: array([[ 0.25, -0.5 ,  0.25,  0.  ,  0.  ,  0.  ],\n",
       "        [ 0.25,  0.  , -0.25,  0.  ,  0.  ,  0.  ],\n",
       "        [ 0.25,  0.5 ,  0.25,  0.  ,  0.  ,  0.  ]]),\n",
       " 3: array([[ 0.25, -0.5 ,  0.  ,  0.25,  0.  ,  0.  ],\n",
       "        [ 0.25,  0.  ,  0.  , -0.25,  0.  ,  0.  ],\n",
       "        [ 0.25,  0.5 ,  0.  ,  0.25,  0.  ,  0.  ]]),\n",
       " 4: array([[ 0.12, -0.38,  0.25,  0.12, -0.12,  0.  ],\n",
       "        [ 0.12, -0.12,  0.  , -0.12,  0.12,  0.  ],\n",
       "        [ 0.12,  0.12, -0.25,  0.12, -0.12,  0.  ],\n",
       "        [ 0.12, -0.12, -0.25,  0.12,  0.12,  0.  ],\n",
       "        [ 0.12,  0.12,  0.  , -0.12, -0.12,  0.  ],\n",
       "        [ 0.12,  0.38,  0.25,  0.12,  0.12,  0.  ]]),\n",
       " 5: array([[ 0.06, -0.25,  0.25,  0.12, -0.25,  0.06],\n",
       "        [ 0.06, -0.12,  0.  ,  0.  ,  0.12, -0.06],\n",
       "        [ 0.06,  0.  , -0.25,  0.12,  0.  ,  0.06],\n",
       "        [ 0.06,  0.  ,  0.  , -0.12,  0.  ,  0.06],\n",
       "        [ 0.06,  0.12,  0.  ,  0.  , -0.12, -0.06],\n",
       "        [ 0.06,  0.25,  0.25,  0.12,  0.25,  0.06]])}"
      ]
     },
     "execution_count": 46,
     "metadata": {},
     "output_type": "execute_result"
    }
   ],
   "source": [
    "vmat"
   ]
  },
  {
   "cell_type": "markdown",
   "metadata": {},
   "source": [
    "## Read ECI"
   ]
  },
  {
   "cell_type": "code",
   "execution_count": 47,
   "metadata": {
    "ExecuteTime": {
     "end_time": "2021-09-10T23:48:18.855472Z",
     "start_time": "2021-09-10T23:48:18.840417Z"
    }
   },
   "outputs": [],
   "source": [
    "# Read eci\n",
    "eci = {}\n",
    "\n",
    "with open('eci.out') as feci:\n",
    "    _ = next(feci) #Ignore first line\n",
    "    temp_eci = feci.read()\n",
    "    temp_eci = temp_eci.split('\\n') #split by line\n",
    "\n",
    "for idx, eci_val in enumerate(temp_eci):\n",
    "    if eci_val == '':\n",
    "        continue\n",
    "    eci[idx] = float(eci_val)"
   ]
  },
  {
   "cell_type": "code",
   "execution_count": 48,
   "metadata": {
    "ExecuteTime": {
     "end_time": "2021-09-10T23:48:21.698445Z",
     "start_time": "2021-09-10T23:48:21.692267Z"
    }
   },
   "outputs": [],
   "source": [
    "#In this notebook ECI's are declared manually\n",
    "eci = {0: 0, 1: 0, 2: 0, 3: 0.0, 4: 0, 5: 0}"
   ]
  },
  {
   "cell_type": "code",
   "execution_count": 64,
   "metadata": {
    "ExecuteTime": {
     "end_time": "2021-09-11T00:44:33.061978Z",
     "start_time": "2021-09-11T00:44:33.052923Z"
    }
   },
   "outputs": [
    {
     "data": {
      "text/plain": [
       "{0: 0, 1: 0, 2: 0, 3: 0.0, 4: 0, 5: 0}"
      ]
     },
     "execution_count": 64,
     "metadata": {},
     "output_type": "execute_result"
    }
   ],
   "source": [
    "eci"
   ]
  },
  {
   "cell_type": "markdown",
   "metadata": {},
   "source": [
    "## Declaring test Correlations"
   ]
  },
  {
   "cell_type": "code",
   "execution_count": 49,
   "metadata": {
    "ExecuteTime": {
     "end_time": "2021-09-10T23:48:22.928070Z",
     "start_time": "2021-09-10T23:48:22.920127Z"
    }
   },
   "outputs": [],
   "source": [
    "#corrs = np.array([1.    , 0.0   , 0.25,0.25  , 0.125 , 0.0625])\n",
    "#corrs = np.array([ 1.0, 0,  0.08,  0.23,-0.00054,  0.165])\n",
    "#corrs = np.array([ 1.  , 0.0 ,  0.25 ,  -0.25 ,  0.125 ,  0.0])\n",
    "corrs1 = np.array([1., 1., 1., 1., 1., 1.]) #Pure B\n",
    "corrs0 = np.array([1., -1., 1., 1., -1., 1.]) #Pure A\n",
    "corrsrand = np.array([1.    , 0.0   , 0.25,0.25  , 0.125 , 0.0625]) # AB - sqs\n",
    "#np.array([1.0, 0.0, -0.01852, -0.1358, -0.01235, -0.06173])\n",
    "#np.array([ 1.,    0.,    0.04,  0.14, -0.07,  0.12])\n",
    "#np.array([1.    , 0.0   , 0.25,0.25  , 0.125 , 0.0625])"
   ]
  },
  {
   "cell_type": "markdown",
   "metadata": {},
   "source": [
    "# Optimisation"
   ]
  },
  {
   "cell_type": "markdown",
   "metadata": {},
   "source": [
    "## Setting up F, F Jacobian and F Hessian"
   ]
  },
  {
   "cell_type": "markdown",
   "metadata": {},
   "source": [
    "### Setup test temperature"
   ]
  },
  {
   "cell_type": "code",
   "execution_count": 50,
   "metadata": {
    "ExecuteTime": {
     "end_time": "2021-09-10T23:48:24.827599Z",
     "start_time": "2021-09-10T23:48:24.821047Z"
    }
   },
   "outputs": [],
   "source": [
    "T = 1/kB"
   ]
  },
  {
   "cell_type": "markdown",
   "metadata": {},
   "source": [
    "### Old Declaration (Kept for backup, Ignore)"
   ]
  },
  {
   "cell_type": "code",
   "execution_count": 17,
   "metadata": {
    "ExecuteTime": {
     "end_time": "2021-09-10T17:54:03.124603Z",
     "start_time": "2021-09-10T17:54:03.104548Z"
    },
    "code_folding": []
   },
   "outputs": [],
   "source": [
    "def F_old(corrs, vmat, kb, clusters, configs, configcoef,T,eci):\n",
    "\n",
    "    S = 0\n",
    "    H = 0\n",
    "    \n",
    "    def clus_prob(cluster_idx):\n",
    "        rho = np.matmul(vmat[cluster_idx],corrs)\n",
    "\n",
    "        return rho\n",
    "    \n",
    "    def inner_sum(cluster_idx):\n",
    "        isum = 0\n",
    "        rho = clus_prob(cluster_idx)\n",
    "        #print(rho)\n",
    "        for i in range(configs[cluster_idx]['num_of_subclus']):\n",
    "            try:\n",
    "                if rho[i] == 0:\n",
    "                    isum += configcoef[cluster_idx][i] * rho[i] * math.log(np.finfo(float).eps)\n",
    "                else:\n",
    "                    isum += configcoef[cluster_idx][i] * rho[i] * math.log(rho[i])\n",
    "            except ValueError as ve:\n",
    "                pass\n",
    "                #print('Math Domain Error. Check the validity of the correlations')\n",
    "                #print(f'corrs: {corrs} \\n Correlation Sum: {rho[i]}')\n",
    "        return isum \n",
    "            \n",
    "    for cluster_idx, cluster in clusters.items():\n",
    "        H += cluster['mult']*eci[cluster_idx]*corrs[cluster_idx]\n",
    "        S += kb[cluster_idx]*inner_sum(cluster_idx)\n",
    "        \n",
    "    #return kB*S\n",
    "    return H + kB*T*S"
   ]
  },
  {
   "cell_type": "code",
   "execution_count": 18,
   "metadata": {
    "ExecuteTime": {
     "end_time": "2021-09-10T17:54:03.995893Z",
     "start_time": "2021-09-10T17:54:03.981900Z"
    }
   },
   "outputs": [
    {
     "name": "stdout",
     "output_type": "stream",
     "text": [
      "Corrs 0: 4.00 -- Corrs 1: 4.00 -- Corrs Rand: -1.63\n"
     ]
    }
   ],
   "source": [
    "f_old0 = F_old(corrs0, vmat, kb, clusters, configs, configcoef,T,eci)\n",
    "f_old1 = F_old(corrs1, vmat, kb, clusters, configs, configcoef,T,eci)\n",
    "f_rand = F_old(corrsrand, vmat, kb, clusters, configs, configcoef,T,eci)\n",
    "print(f\"Corrs 0: {f_old0:.2f} -- Corrs 1: {f_old1:.2f} -- Corrs Rand: {f_rand:.2f}\")"
   ]
  },
  {
   "cell_type": "markdown",
   "metadata": {},
   "source": [
    "### Free Energy Function"
   ]
  },
  {
   "cell_type": "code",
   "execution_count": 51,
   "metadata": {
    "ExecuteTime": {
     "end_time": "2021-09-10T23:48:28.644857Z",
     "start_time": "2021-09-10T23:48:28.635552Z"
    }
   },
   "outputs": [],
   "source": [
    "def F(corrs, vmat, kb, clusters, configs, configcoef,T,eci):\n",
    "    \"\"\"\n",
    "    Input: \n",
    "    corrs - Correlations\n",
    "    vmat  - V-Matrix\n",
    "    clusters - Maximal Cluster Information (multiplicity, longest neighbor length, no. of points)\n",
    "    configs - Not used\n",
    "    configcoef - Coefficients of subclusters - array containing the coeff of each subcluster\n",
    "    T - Temperature\n",
    "    eci - ECI's\n",
    "    \n",
    "    Output:\n",
    "    F = H + kB*T*SUM(rho * log(rho))\n",
    "    \"\"\"\n",
    "    \n",
    "    H = 0\n",
    "    S = 0\n",
    "    \n",
    "    #Loop through all maximal clusters\n",
    "    for cluster_idx, cluster in clusters.items():\n",
    "        \n",
    "        H += cluster['mult']*eci[cluster_idx]*corrs[cluster_idx] #H is a func of maxclux only\n",
    "        \n",
    "        temp_S = 0\n",
    "        \n",
    "        #Loop through subclusters of each maximal cluster\n",
    "        for config_idx, config in enumerate(configcoef[cluster_idx]):\n",
    "            corrsum = np.inner(vmat[cluster_idx][config_idx],corrs)\n",
    "            try:\n",
    "                if corrsum == 0:\n",
    "                    #If rho is 0, then replace with smallest +ve number as per machine precision\n",
    "                    #The log doesn't matter, cuz, although log of a small number is a finite number, the 0multiplicative factor makes it 0 any\n",
    "                    temp_S += config*corrsum*math.log(np.finfo(float).tiny)\n",
    "                    #temp_S += config*corrsum*np.finfo(float).min\n",
    "                else:\n",
    "                    temp_S += config*corrsum*math.log(corrsum)\n",
    "            except ValueError as ve:\n",
    "                pass\n",
    "                #Exception handling retained for possible -ve rhos\n",
    "                #print('Math Domain Error. Check the validity of the correlations')\n",
    "                #print(f'corrs: {corrs} \\n Correlation Sum: {corrsum}')\n",
    "                \n",
    "        S += kb[cluster_idx]*temp_S\n",
    "    \n",
    "    return H + kB*T*S "
   ]
  },
  {
   "cell_type": "code",
   "execution_count": 52,
   "metadata": {
    "ExecuteTime": {
     "end_time": "2021-09-10T23:48:29.462553Z",
     "start_time": "2021-09-10T23:48:29.444816Z"
    }
   },
   "outputs": [
    {
     "name": "stdout",
     "output_type": "stream",
     "text": [
      "Corrs 0: 0.00 -- Corrs 1: 0.00 -- Corrs Rand: -2.63\n"
     ]
    }
   ],
   "source": [
    "f0 = F(corrs0, vmat, kb, clusters, configs, configcoef,T,eci)\n",
    "f1 = F(corrs1, vmat, kb, clusters, configs, configcoef,T,eci)\n",
    "frand = F(corrsrand, vmat, kb, clusters, configs, configcoef,T,eci)\n",
    "print(f\"Corrs 0: {f0:.2f} -- Corrs 1: {f1:.2f} -- Corrs Rand: {frand:.2f}\")"
   ]
  },
  {
   "cell_type": "markdown",
   "metadata": {},
   "source": [
    "### Free Energy Jacobian"
   ]
  },
  {
   "cell_type": "code",
   "execution_count": 53,
   "metadata": {
    "ExecuteTime": {
     "end_time": "2021-09-10T23:48:31.123943Z",
     "start_time": "2021-09-10T23:48:31.103496Z"
    }
   },
   "outputs": [],
   "source": [
    "def F_jacobian(corrs, vmat, kb, clusters, configs, configcoef,T,eci):\n",
    "    \"\"\"\n",
    "    Input: \n",
    "    corrs - Correlations\n",
    "    vmat  - V-Matrix\n",
    "    clusters - Maximal Cluster Information (multiplicity, longest neighbor length, no. of points)\n",
    "    configs - Not used\n",
    "    configcoef - Coefficients of subclusters - array containing the coeff of each subcluster\n",
    "    T - Temperature\n",
    "    eci - ECI's\n",
    "    \n",
    "    Output:\n",
    "    Vector representation gradient of F with Corrs\n",
    "    [dF/dcorr0, dF/dcorr1, ...]\n",
    "    \"\"\"     \n",
    "    \n",
    "    F_jac = []\n",
    "    #Loop through each correlation\n",
    "    for corr_idx, corr in enumerate(corrs):\n",
    "        \n",
    "        temp_S_jac = 0\n",
    "        \n",
    "        #Loop through all maxclus, since the rhos depend on the correlation\n",
    "        for cluster_idx, cluster in clusters.items():\n",
    "            \n",
    "            temp_config_sum = 0\n",
    "            #Loop through all subclusters in a maximal cluster\n",
    "            for config_idx, config in enumerate(configcoef[cluster_idx]):\n",
    "                corrsum = np.inner(vmat[cluster_idx][config_idx],corrs)\n",
    "                try:\n",
    "                    if corrsum == 0:\n",
    "                        #temp_config_sum += config*vmat[cluster_idx][config_idx][corr_idx]*(1 + np.log(corrsum))\n",
    "                        #^^ same line can be used since np.log(x) automaticaly returns -infty if x = 0\n",
    "                        #Can't use tiny, since it gives a very small value, but log of that value gives a finite value. Note that we took tiny in the F calculation but since it had another multiplicative factor which is also small, the finite log value didn't matter)\n",
    "                        #temp_config_sum += config*vmat[cluster_idx][config_idx][corr_idx]*(1 + np.finfo(float).min) #negative infinity\n",
    "                        temp_config_sum += np.NINF\n",
    "                    else:\n",
    "                        temp_config_sum += config*vmat[cluster_idx][config_idx][corr_idx]*(1 + np.log(corrsum))\n",
    "                except ValueError as ve:\n",
    "                    #Exception handling retained for possible -ve rhos\n",
    "                    #print('Math Domain Error. Check the validity of the correlations')\n",
    "                    #print(f'corrs: {corrs} \\n Correlation Sum: {corrsum}')\n",
    "                    pass\n",
    "            \n",
    "            temp_S_jac += kb[cluster_idx]*temp_config_sum\n",
    "        \n",
    "        F_jac.append(clusters[corr_idx]['mult']*eci[corr_idx] + kB*T*temp_S_jac)\n",
    "        \n",
    "    return np.array(F_jac)"
   ]
  },
  {
   "cell_type": "code",
   "execution_count": 54,
   "metadata": {
    "ExecuteTime": {
     "end_time": "2021-09-10T23:48:33.213090Z",
     "start_time": "2021-09-10T23:48:33.195991Z"
    }
   },
   "outputs": [
    {
     "name": "stdout",
     "output_type": "stream",
     "text": [
      "Corrs 0: [nan nan nan nan nan nan] \n",
      " Corrs 1: [nan nan nan nan nan nan] \n",
      " Corrs Rand [-1.9  -0.1   0.57  0.41  0.23 -0.05]\n"
     ]
    },
    {
     "name": "stderr",
     "output_type": "stream",
     "text": [
      "<ipython-input-53-a422d1714fd6>:45: RuntimeWarning:\n",
      "\n",
      "invalid value encountered in double_scalars\n",
      "\n"
     ]
    }
   ],
   "source": [
    "f_jaco0 = F_jacobian(corrs0, vmat, kb, clusters, configs, configcoef,T,eci)\n",
    "f_jaco1 = F_jacobian(corrs1, vmat, kb, clusters, configs, configcoef,T,eci)\n",
    "f_jacorand = F_jacobian(corrsrand, vmat, kb, clusters, configs, configcoef,T,eci)\n",
    "print(f\"Corrs 0: {f_jaco0} \\n Corrs 1: {f_jaco1} \\n Corrs Rand {f_jacorand}\")"
   ]
  },
  {
   "cell_type": "markdown",
   "metadata": {},
   "source": [
    "### Free Energy Hessian"
   ]
  },
  {
   "cell_type": "code",
   "execution_count": 55,
   "metadata": {
    "ExecuteTime": {
     "end_time": "2021-09-10T23:48:34.648193Z",
     "start_time": "2021-09-10T23:48:34.633461Z"
    }
   },
   "outputs": [],
   "source": [
    "def F_hessian(corrs, vmat, kb, clusters, configs, configcoef,T,eci):\n",
    "    \"\"\"\n",
    "    Input: \n",
    "    corrs - Correlations\n",
    "    vmat  - V-Matrix\n",
    "    clusters - Maximal Cluster Information (multiplicity, longest neighbor length, no. of points)\n",
    "    configs - Not used\n",
    "    configcoef - Coefficients of subclusters - array containing the coeff of each subcluster\n",
    "    T - Temperature\n",
    "    eci - ECI's\n",
    "    \n",
    "    Output:\n",
    "    Vector representation gradient of F with Corrs\n",
    "    [[d^2F/dcorr0 dcorr0, d^2F/dcorr0 dcorr1, ..., d^2F/dcorr0 dcorrn],\n",
    "     [d^2F/dcorr1 dcorr0, d^2F/dcorr1 dcorr1, ..., d^2F/dcorr1 dcorrn],\n",
    "     .\n",
    "     .\n",
    "     .\n",
    "     [d^2F/dcorrn dcorr0, d^2F/dcorrn dcorr1, ..., d^2F/dcorrn dcorrn],\n",
    "    ]\n",
    "    \"\"\"\n",
    "    \n",
    "    F_hess = np.empty([len(corrs),len(corrs)])\n",
    "\n",
    "    #Enuemrate through all possible correlation pairs\n",
    "    for corr_idx_1, corr_1 in enumerate(corrs):\n",
    "        for corr_idx_2, corr_2 in enumerate(corrs):\n",
    "            \n",
    "            temp_hess = 0\n",
    "            #loop through maximal clusters\n",
    "            for cluster_idx, cluster in clusters.items():\n",
    "                temp_config_sum = 0\n",
    "                #loop through subclustes for the present maximal cluster\n",
    "                for config_idx, config in enumerate(configcoef[cluster_idx]):\n",
    "                    corrsum = np.inner(vmat[cluster_idx][config_idx],corrs)\n",
    "                    try:\n",
    "                        if corrsum == 0:\n",
    "                            #temp_config_sum += config*vmat[cluster_idx][config_idx][corr_idx_1]*vmat[cluster_idx][config_idx][corr_idx_2]/np.finfo(float).tiny #dividing by a small number.\n",
    "                            #Note that you can also set the value as +ve infinity.\n",
    "                            temp_config_sum += np.PINF\n",
    "                        else:\n",
    "                            temp_config_sum += config*vmat[cluster_idx][config_idx][corr_idx_1]*vmat[cluster_idx][config_idx][corr_idx_2]/corrsum\n",
    "                    except ValueError as ve:\n",
    "                        #Exception handling retained for possible -ve rhos\n",
    "                        #print('Math Domain Error. Check the validity of the correlations')\n",
    "                        #print(f'corrs: {corrs} \\n Correlation Sum: {corrsum}')\n",
    "                        pass\n",
    "                temp_hess += kb[cluster_idx]*temp_config_sum\n",
    "            F_hess[corr_idx_1][corr_idx_2] = kB*T*temp_hess\n",
    "    \n",
    "    return F_hess"
   ]
  },
  {
   "cell_type": "code",
   "execution_count": 56,
   "metadata": {
    "ExecuteTime": {
     "end_time": "2021-09-10T23:48:36.305502Z",
     "start_time": "2021-09-10T23:48:36.272644Z"
    }
   },
   "outputs": [
    {
     "name": "stdout",
     "output_type": "stream",
     "text": [
      "Corrs 0:\n",
      " [[nan nan nan nan nan nan]\n",
      " [nan nan nan nan nan nan]\n",
      " [nan nan nan nan nan nan]\n",
      " [nan nan nan nan nan nan]\n",
      " [nan nan nan nan nan nan]\n",
      " [nan nan nan nan nan nan]] \n",
      " Corrs 1:\n",
      " [[nan nan nan nan nan nan]\n",
      " [nan nan nan nan nan nan]\n",
      " [nan nan nan nan nan nan]\n",
      " [nan nan nan nan nan nan]\n",
      " [nan nan nan nan nan nan]\n",
      " [nan nan nan nan nan nan]]\n",
      " Corrs Rand:\n",
      " [[ 1.25  0.13 -0.55 -0.41 -0.16  0.14]\n",
      " [ 0.13  2.99  0.02  0.01 -0.89 -0.35]\n",
      " [-0.55  0.02  3.49 -0.97 -0.25 -0.69]\n",
      " [-0.41  0.01 -0.97  2.76 -0.13 -0.34]\n",
      " [-0.16 -0.89 -0.25 -0.13  1.94  0.27]\n",
      " [ 0.14 -0.35 -0.69 -0.34  0.27  1.29]]\n"
     ]
    },
    {
     "name": "stderr",
     "output_type": "stream",
     "text": [
      "<ipython-input-55-5d0b24f7675c>:48: RuntimeWarning:\n",
      "\n",
      "invalid value encountered in double_scalars\n",
      "\n"
     ]
    }
   ],
   "source": [
    "f_hess0 = F_hessian(corrs0, vmat, kb, clusters, configs, configcoef,T,eci)\n",
    "f_hess1 = F_hessian(corrs1, vmat, kb, clusters, configs, configcoef,T,eci)\n",
    "f_hessrand = F_hessian(corrsrand, vmat, kb, clusters, configs, configcoef,T,eci)\n",
    "print(f\"Corrs 0:\\n {f_hess0} \\n Corrs 1:\\n {f_hess1}\\n Corrs Rand:\\n {f_hessrand}\")"
   ]
  },
  {
   "cell_type": "markdown",
   "metadata": {},
   "source": [
    "## Setting up Constraints"
   ]
  },
  {
   "cell_type": "code",
   "execution_count": 57,
   "metadata": {
    "ExecuteTime": {
     "end_time": "2021-09-10T23:48:37.826816Z",
     "start_time": "2021-09-10T23:48:37.809355Z"
    }
   },
   "outputs": [],
   "source": [
    "def constraint_rhos_sum(corrs, vmat, clusters, configcoef,):\n",
    "    \"\"\"\n",
    "    Constraints the sum of each rho. As of now, it's done in a weird way, where the total sum of the array:\n",
    "    [1 - sum(rho), .... ] is constrained to sum to 0. This along with the constraint that each rho is between\n",
    "    0 and 1, seems to make it work. I think that by the this might be a redundant constraint as well.\n",
    "    \"\"\"\n",
    "    rho_sum = []\n",
    "\n",
    "    def clus_prob(cluster_idx):\n",
    "        rho = np.matmul(vmat[cluster_idx],corrs)\n",
    "        return rho\n",
    "    \n",
    "    for cluster_idx, _ in clusters.items():\n",
    "        rho = clus_prob(cluster_idx)\n",
    "        rho_sum.append(np.sum(configcoef[cluster_idx]*rho))\n",
    "    \n",
    "    return np.sum(1 - np.array(rho_sum))\n",
    "\n",
    "def constraint_singlet(corrs,FIXED_CORR_1):\n",
    "    \"\"\"\n",
    "    constrains the 1-pt correlation:\n",
    "    corrs[1] = FIXED_CORR_1\n",
    "    \"\"\"\n",
    "    return corrs[1] - FIXED_CORR_1   \n",
    "\n",
    "def constraint_zero(corrs):\n",
    "    \"\"\"\n",
    "    constrains the 1-pt correlation:\n",
    "    corrs[0] = 1\n",
    "    \"\"\"\n",
    "    return 1 - corrs[0]  "
   ]
  },
  {
   "cell_type": "code",
   "execution_count": 26,
   "metadata": {
    "ExecuteTime": {
     "end_time": "2021-09-10T17:54:18.249443Z",
     "start_time": "2021-09-10T17:54:18.228049Z"
    },
    "code_folding": []
   },
   "outputs": [],
   "source": [
    "def get_random_corr(correlation):\n",
    "    \"\"\"\n",
    "    Returns a random set of correlations for a BCC binary alloy with a fixed 1-pt correlation\n",
    "    \"\"\"\n",
    "    concentration = (correlation - (-1))/(1 - (-1)) #scale factor\n",
    "    a=0.5\n",
    "    atoms = crystal(['Fe'], [(0,0,0)], spacegroup=229, \n",
    "                    cellpar=[1, 1, 1, 90, 90, 90])\n",
    "    \n",
    "    scell = make_supercell(atoms,np.eye(3)*3)\n",
    "    temp_atomic_nums = scell.get_atomic_numbers()\n",
    "    mask = np.zeros(len(temp_atomic_nums), dtype=int).astype(bool)\n",
    "    mask[:int(concentration*len(temp_atomic_nums))] = 1.0\n",
    "    np.random.shuffle(mask)\n",
    "    temp_atomic_nums[mask] = 13\n",
    "    scell.set_atomic_numbers(temp_atomic_nums)\n",
    "    \n",
    "    write_vasp('POSCAR.temp',scell,sort=True,direct=True)\n",
    "    _ = subprocess.call('./poscar2str',shell=True)\n",
    "    \n",
    "    corrs = subprocess.call('corrdump -c',shell=True)\n",
    "    \n",
    "    popen = subprocess.Popen('corrdump -c'.split(), stdout=subprocess.PIPE)\n",
    "    popen.wait()\n",
    "    return [float(corr) for corr in popen.stdout.read().decode(\"utf-8\").split('\\t')[:-1]]"
   ]
  },
  {
   "cell_type": "code",
   "execution_count": 27,
   "metadata": {
    "ExecuteTime": {
     "end_time": "2021-09-10T17:54:19.195405Z",
     "start_time": "2021-09-10T17:54:19.043943Z"
    }
   },
   "outputs": [
    {
     "data": {
      "text/plain": [
       "[1.0, -1.0, 1.0, 1.0, -1.0, 1.0]"
      ]
     },
     "execution_count": 27,
     "metadata": {},
     "output_type": "execute_result"
    }
   ],
   "source": [
    "get_random_corr(+1)"
   ]
  },
  {
   "cell_type": "code",
   "execution_count": 28,
   "metadata": {
    "ExecuteTime": {
     "end_time": "2021-09-10T17:54:19.607719Z",
     "start_time": "2021-09-10T17:54:19.596612Z"
    }
   },
   "outputs": [],
   "source": [
    "def basin_hopping_callback(corrs, G, accept):\n",
    "    \"\"\"\n",
    "    Function to print diagnostic while fitting. \n",
    "    Not being used right now\n",
    "    \"\"\"\n",
    "    if accept == True:\n",
    "        clear_output(wait=True)\n",
    "        print(f'1-pt Correlation: {corrs[1]:.2f}')\n",
    "        print(f'Concentation: {(corrs[1] - (-1))/(1 - (-1)):.2f}')\n",
    "        print(f'New Minima found --> G: {G:.2f}')\n",
    "        print('Current Rho:')\n",
    "        for cluster_idx in clusters:\n",
    "            print(np.matmul(vmat[cluster_idx],corrs))\n",
    "        print(\"===========================\")"
   ]
  },
  {
   "cell_type": "code",
   "execution_count": 29,
   "metadata": {
    "ExecuteTime": {
     "end_time": "2021-09-10T17:54:20.043233Z",
     "start_time": "2021-09-10T17:54:20.032178Z"
    }
   },
   "outputs": [
    {
     "data": {
      "text/plain": [
       "(array([   0.,  300.,  600.,  900., 1200., 1500., 1800., 2100., 2400.,\n",
       "        2700., 3000.]),\n",
       " array([   0.,  300.,  600.,  900., 1200., 1500., 1800., 2100., 2400.,\n",
       "        2700., 3000.]),\n",
       " array([-1.  , -0.88, -0.75, -0.62, -0.5 , -0.38, -0.25, -0.12,  0.  ,\n",
       "         0.12,  0.25,  0.38,  0.5 ,  0.62,  0.75,  0.88,  1.  ]))"
      ]
     },
     "execution_count": 29,
     "metadata": {},
     "output_type": "execute_result"
    }
   ],
   "source": [
    "np.linspace(0, 3000, num=11), np.linspace(0, 3000, num=11),np.linspace(-1,1,17)"
   ]
  },
  {
   "cell_type": "markdown",
   "metadata": {},
   "source": [
    "## Perform the Optimisation"
   ]
  },
  {
   "cell_type": "markdown",
   "metadata": {
    "heading_collapsed": true
   },
   "source": [
    "### Basin Hopping"
   ]
  },
  {
   "cell_type": "code",
   "execution_count": 30,
   "metadata": {
    "ExecuteTime": {
     "end_time": "2021-09-10T17:54:21.887513Z",
     "start_time": "2021-09-10T17:54:21.875803Z"
    },
    "hidden": true
   },
   "outputs": [],
   "source": [
    "class MyBounds:\n",
    "    \"\"\"\n",
    "    Class to constrain the trail correlations of Basin Hopping\n",
    "    \"\"\"\n",
    "    def __init__(self, xmax=[1]*6, xmin=[-1]*6):\n",
    "        self.xmax = np.array(xmax)\n",
    "        self.xmin = np.array(xmin)\n",
    "        \n",
    "    def __call__(self, **kwargs):\n",
    "        x = kwargs[\"x_new\"]\n",
    "        tmax = bool(np.all(x <= self.xmax))\n",
    "        tmin = bool(np.all(x >= self.xmin))\n",
    "\n",
    "        return tmax and tmin"
   ]
  },
  {
   "cell_type": "code",
   "execution_count": null,
   "metadata": {
    "ExecuteTime": {
     "end_time": "2021-09-10T17:54:27.750218Z",
     "start_time": "2021-09-10T17:54:22.823987Z"
    },
    "hidden": true,
    "scrolled": true
   },
   "outputs": [],
   "source": [
    "results_basinhopping = pd.DataFrame(columns = ['T', '1-point_corr', 'F','corrs'])\n",
    "\n",
    "now = datetime.now()\n",
    "now = now.strftime(\"%d-%m-%H-%M\")\n",
    "FNAME = f'results-{now}.txt'\n",
    "fout = open(FNAME,'w')\n",
    "\n",
    "for temp in tqdm(np.linspace(0, 10000, num=11)):\n",
    "    for x in [0]:#tqdm(np.linspace(-1,1,9)):\n",
    "        clear_output(wait=True)\n",
    "        fout.write(f\"ECI {eci}\\n\")\n",
    "        fout.write(f\"Optimising for T: {temp}, 1-pt corr: {x}\\n\")\n",
    "        FIXED_CORR_1 = x\n",
    "\n",
    "        rho_pair = np.array([None,None])\n",
    "        \n",
    "        #Make a first guess\n",
    "        corrs0 = np.array([1, *np.random.uniform(-1, 1, 5)])\n",
    "        linear_constraints = []\n",
    "\n",
    "        #Linear Constraint for each rho to be between 0 and 1\n",
    "        for cluster_idx, _ in clusters.items():\n",
    "            if cluster_idx == 0:\n",
    "                linear_constraints.append(LinearConstraint(vmat[cluster_idx],\n",
    "                                                           [1]*len(configcoef[cluster_idx]),\n",
    "                                                           [1]*len(configcoef[cluster_idx])))\n",
    "            else:\n",
    "                linear_constraints.append(LinearConstraint(vmat[cluster_idx],\n",
    "                                                           [0]*len(configcoef[cluster_idx]),\n",
    "                                                           [1]*len(configcoef[cluster_idx])))\n",
    "        \n",
    "        #Set bounds for the local minimisation \n",
    "        #limit correlations to [1, 1-pt, [-1,1], [-1,1], ...]\n",
    "        bounds_corrs = Bounds([1, FIXED_CORR_1,*[-1]*(len(clusters)-2)],\n",
    "                              [1, FIXED_CORR_1,*[1]*(len(clusters)-2)]\n",
    "                             )\n",
    "     \n",
    "        options = {'verbose' : 0,\n",
    "                   'maxiter' : 5000,\n",
    "                   'xtol'    : 1e-15,\n",
    "                   'initial_constr_penalty' : 10,\n",
    "                  }\n",
    "        \n",
    "        minimizer_kwargs = {'args':(vmat, kb, clusters, configs, configcoef,temp,eci),\n",
    "                            'method': 'trust-constr',\n",
    "                            'options': options,\n",
    "                            'jac': F_jacobian, 'hess': F_hessian,\n",
    "                            'constraints' : [{'fun': constraint_rhos_sum, 'type': 'eq', 'args': [vmat, clusters, configcoef,]},\n",
    "                                             *linear_constraints, \n",
    "                                             {'fun': constraint_singlet, 'type': 'eq', 'args': [FIXED_CORR_1]},\n",
    "                                             {'fun': constraint_zero, 'type':'eq',},\n",
    "                                            ],\n",
    "                            'bounds': bounds_corrs,\n",
    "                           }\n",
    "        \n",
    "        mybounds = MyBounds(xmax=[1, FIXED_CORR_1,*[1]*(len(clusters)-2)], xmin=[1, FIXED_CORR_1,*[-1]*(len(clusters)-2)])\n",
    "        \n",
    "        res = basinhopping(F, \n",
    "                           corrs0, #first guess\n",
    "                           niter=100, #total num of iterations\n",
    "                           T=1.0, #temp for Metropolis MC trial search\n",
    "                           stepsize=10,\n",
    "                           minimizer_kwargs=minimizer_kwargs,\n",
    "                           niter_success=20, #num iters to exit after no new minima found \n",
    "                           interval=5, #num iters to change step size\n",
    "                           disp=True,\n",
    "                           accept_test=mybounds,\n",
    "                           #callback=basin_hopping_callback\n",
    "                          )\n",
    "        \n",
    "        fout.write(f'1-pt Correlation: {res.x[1]:.2f}\\n')\n",
    "        fout.write(f'Concentation: {(res.x[1] - (-1))/(1 - (-1)):.2f}\\n')\n",
    "        fout.write(f'New Minima found --> G: {res.fun:.2f}\\n')\n",
    "        fout.write(f'Correlations: {res.x}\\n')\n",
    "        fout.write('Current Rho:\\n')\n",
    "        for cluster_idx in clusters:\n",
    "            fout.write(f'{np.matmul(vmat[cluster_idx],res.x)}\\n')\n",
    "        fout.write(\"===========================\\n\")\n",
    "        fout.flush()\n",
    "        os.fsync(fout.fileno())\n",
    "\n",
    "        #Code to extract rho for pair for sanity check. Not used.\n",
    "        for cluster_idx in clusters:\n",
    "            if cluster_idx == 2:\n",
    "                rho_pair = np.matmul(vmat[cluster_idx],res.x)\n",
    "                break\n",
    "        \n",
    "        results_basinhopping = results_basinhopping.append({'T' : temp, \n",
    "                                                     '1-point_corr' : x, \n",
    "                                                     'F' : res.fun, \n",
    "                                                     'corrs': res.x,\n",
    "                                                     'rhos': rho_pair\n",
    "                                                    }, \n",
    "                                                    ignore_index = True\n",
    "                                                   )\n",
    "\n",
    "#save results\n",
    "results_basinhopping.to_csv(f'phaseDiag_{now}.csv',index=False)"
   ]
  },
  {
   "cell_type": "code",
   "execution_count": null,
   "metadata": {
    "ExecuteTime": {
     "end_time": "2021-08-31T14:56:54.320728Z",
     "start_time": "2021-08-31T14:56:54.253359Z"
    },
    "hidden": true
   },
   "outputs": [],
   "source": [
    "fig = go.Figure()\n",
    "\n",
    "for T in results_basinhopping['T'].unique():\n",
    "    fig.add_trace(go.Scatter(x = results_basinhopping[results_basinhopping['T'] == T]['1-point_corr'],\n",
    "                             y = results_basinhopping[results_basinhopping['T'] == T]['F'],\n",
    "                             mode='markers+lines',\n",
    "                             name=f'T = {T}',\n",
    "                            )\n",
    "                 )\n",
    "\n",
    "fig.update_layout(\n",
    "    title=f\"F vs 1-point Corr - {eci}\",\n",
    "    xaxis_title=\"1-point Corr\",\n",
    "    yaxis_title=\"F\",\n",
    "    legend_title=\"Temperature\",\n",
    "    template='seaborn'\n",
    ")\n",
    "#fig.update_traces(texttemplate='%{text:.2s}', textposition='top center')\n",
    "fig.show()"
   ]
  },
  {
   "cell_type": "code",
   "execution_count": null,
   "metadata": {
    "ExecuteTime": {
     "end_time": "2021-08-31T14:56:35.931669Z",
     "start_time": "2021-08-31T14:56:35.856311Z"
    },
    "hidden": true
   },
   "outputs": [],
   "source": [
    "fig = go.Figure()\n",
    "#spec = \n",
    "for T in results_basinhopping['T'].unique():\n",
    "    fig.add_trace(go.Scatter(x = results_basinhopping[results_basinhopping['1-point_corr'] == 0.0]['T'],\n",
    "                             y = np.stack(results_basinhopping[results_basinhopping['1-point_corr'] == 0.0]['corrs'].values)[:,2],\n",
    "                             mode='markers+lines',\n",
    "                             name=f'T = {T}',\n",
    "                            )\n",
    "                 )\n",
    "\n",
    "fig.update_layout(\n",
    "    title=f\"T vs 2-point Corr: {eci}\",\n",
    "    xaxis_title=\"T\",\n",
    "    yaxis_title=\"2-point Corr\",\n",
    "    legend_title=\"Temperature\",\n",
    "    template='seaborn'\n",
    ")\n",
    "#fig.update_traces(texttemplate='%{text:.2s}', textposition='top center')\n",
    "fig.show()"
   ]
  },
  {
   "cell_type": "markdown",
   "metadata": {},
   "source": [
    "### Uniform Sampling"
   ]
  },
  {
   "cell_type": "code",
   "execution_count": 63,
   "metadata": {
    "ExecuteTime": {
     "end_time": "2021-09-11T00:42:10.313202Z",
     "start_time": "2021-09-11T00:01:26.974903Z"
    }
   },
   "outputs": [
    {
     "data": {
      "application/vnd.jupyter.widget-view+json": {
       "model_id": "189c530c3e2d415da7375e3f884222d8",
       "version_major": 2,
       "version_minor": 0
      },
      "text/plain": [
       "  0%|          | 0/9 [00:00<?, ?it/s]"
      ]
     },
     "metadata": {},
     "output_type": "display_data"
    },
    {
     "data": {
      "application/vnd.jupyter.widget-view+json": {
       "model_id": "c09a0389347347e49fc6dc7a591a479c",
       "version_major": 2,
       "version_minor": 0
      },
      "text/plain": [
       "  0%|          | 0/50 [00:00<?, ?it/s]"
      ]
     },
     "metadata": {},
     "output_type": "display_data"
    },
    {
     "name": "stderr",
     "output_type": "stream",
     "text": [
      "<ipython-input-53-a422d1714fd6>:38: RuntimeWarning:\n",
      "\n",
      "invalid value encountered in log\n",
      "\n",
      "/home/sayan/.local/lib/python3.8/site-packages/scipy/optimize/_trustregion_constr/projections.py:181: UserWarning:\n",
      "\n",
      "Singular Jacobian matrix. Using SVD decomposition to perform the factorizations.\n",
      "\n"
     ]
    },
    {
     "name": "stdout",
     "output_type": "stream",
     "text": [
      "Found new minimum for x:-1.0, T:3000 fun: -0.8371745799451407\n",
      "Found new minimum for x:-1.0, T:3000 fun: -0.8699018411961436\n",
      "Found new minimum for x:-1.0, T:3000 fun: -0.9941676853628784\n"
     ]
    },
    {
     "data": {
      "application/vnd.jupyter.widget-view+json": {
       "model_id": "6bb8bf622f204b1b8778c65e2d0acc64",
       "version_major": 2,
       "version_minor": 0
      },
      "text/plain": [
       "  0%|          | 0/50 [00:00<?, ?it/s]"
      ]
     },
     "metadata": {},
     "output_type": "display_data"
    },
    {
     "name": "stdout",
     "output_type": "stream",
     "text": [
      "Found new minimum for x:-0.75, T:3000 fun: -0.43972381357868745\n",
      "Found new minimum for x:-0.75, T:3000 fun: -0.668113853993154\n",
      "Found new minimum for x:-0.75, T:3000 fun: -0.798267830773953\n",
      "Found new minimum for x:-0.75, T:3000 fun: -0.8728297275942861\n"
     ]
    },
    {
     "data": {
      "application/vnd.jupyter.widget-view+json": {
       "model_id": "75bf2163f4ae481c9f8612d004e94946",
       "version_major": 2,
       "version_minor": 0
      },
      "text/plain": [
       "  0%|          | 0/50 [00:00<?, ?it/s]"
      ]
     },
     "metadata": {},
     "output_type": "display_data"
    },
    {
     "name": "stdout",
     "output_type": "stream",
     "text": [
      "Found new minimum for x:-0.5, T:3000 fun: -0.46030570986618485\n",
      "Found new minimum for x:-0.5, T:3000 fun: -0.6436130899893249\n",
      "Found new minimum for x:-0.5, T:3000 fun: -0.6849509497670644\n",
      "Found new minimum for x:-0.5, T:3000 fun: -0.8098267765709493\n"
     ]
    },
    {
     "data": {
      "application/vnd.jupyter.widget-view+json": {
       "model_id": "55ee315243064456b4f814ffd1992bc7",
       "version_major": 2,
       "version_minor": 0
      },
      "text/plain": [
       "  0%|          | 0/50 [00:00<?, ?it/s]"
      ]
     },
     "metadata": {},
     "output_type": "display_data"
    },
    {
     "name": "stdout",
     "output_type": "stream",
     "text": [
      "Found new minimum for x:-0.25, T:3000 fun: -0.7377743494115154\n",
      "Found new minimum for x:-0.25, T:3000 fun: -0.7714899621010953\n",
      "Found new minimum for x:-0.25, T:3000 fun: -0.8439989583500453\n"
     ]
    },
    {
     "name": "stderr",
     "output_type": "stream",
     "text": [
      "/home/sayan/.local/lib/python3.8/site-packages/scipy/optimize/_hessian_update_strategy.py:182: UserWarning:\n",
      "\n",
      "delta_grad == 0.0. Check if the approximated function is linear. If the function is linear better results can be obtained by defining the Hessian as zero instead of using quasi-Newton approximations.\n",
      "\n"
     ]
    },
    {
     "data": {
      "application/vnd.jupyter.widget-view+json": {
       "model_id": "c2d788c0f76a4125bc0d72cf9425d17c",
       "version_major": 2,
       "version_minor": 0
      },
      "text/plain": [
       "  0%|          | 0/50 [00:00<?, ?it/s]"
      ]
     },
     "metadata": {},
     "output_type": "display_data"
    },
    {
     "name": "stdout",
     "output_type": "stream",
     "text": [
      "Found new minimum for x:0.0, T:3000 fun: -0.5926488991135801\n",
      "Found new minimum for x:0.0, T:3000 fun: -0.6751796825005616\n",
      "Found new minimum for x:0.0, T:3000 fun: -0.7577983834813921\n",
      "Found new minimum for x:0.0, T:3000 fun: -0.8056806823150306\n"
     ]
    },
    {
     "data": {
      "application/vnd.jupyter.widget-view+json": {
       "model_id": "67069200a6694358961670850b0325e8",
       "version_major": 2,
       "version_minor": 0
      },
      "text/plain": [
       "  0%|          | 0/50 [00:00<?, ?it/s]"
      ]
     },
     "metadata": {},
     "output_type": "display_data"
    },
    {
     "name": "stdout",
     "output_type": "stream",
     "text": [
      "Found new minimum for x:0.25, T:3000 fun: -0.6379870517144643\n",
      "Found new minimum for x:0.25, T:3000 fun: -0.8739877790814587\n"
     ]
    },
    {
     "data": {
      "application/vnd.jupyter.widget-view+json": {
       "model_id": "a6b1c758999d4d97af962bf72563dab8",
       "version_major": 2,
       "version_minor": 0
      },
      "text/plain": [
       "  0%|          | 0/50 [00:00<?, ?it/s]"
      ]
     },
     "metadata": {},
     "output_type": "display_data"
    },
    {
     "name": "stdout",
     "output_type": "stream",
     "text": [
      "Found new minimum for x:0.5, T:3000 fun: -0.6601000051778196\n",
      "Found new minimum for x:0.5, T:3000 fun: -0.7148770658136181\n",
      "Found new minimum for x:0.5, T:3000 fun: -0.7835208689701947\n",
      "Found new minimum for x:0.5, T:3000 fun: -0.8394431751349213\n"
     ]
    },
    {
     "data": {
      "application/vnd.jupyter.widget-view+json": {
       "model_id": "95a0137f70a54363a3ac0bc1167254ce",
       "version_major": 2,
       "version_minor": 0
      },
      "text/plain": [
       "  0%|          | 0/50 [00:00<?, ?it/s]"
      ]
     },
     "metadata": {},
     "output_type": "display_data"
    },
    {
     "name": "stdout",
     "output_type": "stream",
     "text": [
      "Found new minimum for x:0.75, T:3000 fun: -0.7054457562712468\n",
      "Found new minimum for x:0.75, T:3000 fun: -0.708266102626717\n",
      "Found new minimum for x:0.75, T:3000 fun: -0.7249610005901522\n",
      "Found new minimum for x:0.75, T:3000 fun: -0.7259601787093262\n",
      "Found new minimum for x:0.75, T:3000 fun: -0.7505995393328695\n",
      "Found new minimum for x:0.75, T:3000 fun: -0.7522222809419465\n",
      "Found new minimum for x:0.75, T:3000 fun: -0.8453664144005198\n"
     ]
    },
    {
     "data": {
      "application/vnd.jupyter.widget-view+json": {
       "model_id": "20dc947039b742c7b14ca9d419b6ba3a",
       "version_major": 2,
       "version_minor": 0
      },
      "text/plain": [
       "  0%|          | 0/50 [00:00<?, ?it/s]"
      ]
     },
     "metadata": {},
     "output_type": "display_data"
    },
    {
     "name": "stdout",
     "output_type": "stream",
     "text": [
      "Found new minimum for x:1.0, T:3000 fun: -0.6786966220643118\n",
      "Found new minimum for x:1.0, T:3000 fun: -0.8027912879578887\n",
      "Found new minimum for x:1.0, T:3000 fun: -0.8471440928655438\n",
      "Found new minimum for x:1.0, T:3000 fun: -0.8681138632330945\n",
      "Found new minimum for x:1.0, T:3000 fun: -0.9185456767373296\n",
      "Found new minimum for x:1.0, T:3000 fun: -1.0001880746185248\n"
     ]
    }
   ],
   "source": [
    "results_uniform = pd.DataFrame(columns = ['T', '1-point_corr', 'F','corrs'])\n",
    "NUM_TRIALS = 50\n",
    "\n",
    "for temp in [3000]:#tqdm(np.linspace(0, 5000, num=21)):\n",
    "    for x in tqdm(np.linspace(-1,1,9)):\n",
    "        FIXED_CORR_1 = x\n",
    "        \n",
    "        MIN_RES_VAL = 1e5 #random large number\n",
    "        rho_pair = np.array([None,None])\n",
    "\n",
    "        MIN_RES = corrs0\n",
    "\n",
    "        linear_constraints = []\n",
    "\n",
    "        for cluster_idx, _ in clusters.items():\n",
    "            if cluster_idx == 0:\n",
    "                linear_constraints.append(LinearConstraint(vmat[cluster_idx],\n",
    "                                                           [1]*len(configcoef[cluster_idx]),\n",
    "                                                           [1]*len(configcoef[cluster_idx])))\n",
    "            else:\n",
    "                linear_constraints.append(LinearConstraint(vmat[cluster_idx],\n",
    "                                                           [0]*len(configcoef[cluster_idx]),\n",
    "                                                           [1]*len(configcoef[cluster_idx])))\n",
    "        \n",
    "        bounds_corrs = Bounds([1, FIXED_CORR_1,*[-1]*(len(clusters)-2)],\n",
    "                              [1, FIXED_CORR_1,*[1]*(len(clusters)-2)]\n",
    "                             )\n",
    "     \n",
    "        options = {'verbose' : 0,\n",
    "                   'maxiter' : 5000,\n",
    "                   'xtol'    : 1e-15,\n",
    "                   'initial_constr_penalty' : 10,\n",
    "                  }\n",
    "        \n",
    "        for _ in tqdm(range(NUM_TRIALS)):\n",
    "            \n",
    "            corrs0 = np.array([1, x, *np.random.uniform(-1, 1, 4)])\n",
    "            \n",
    "            res = minimize(F,\n",
    "                           corrs0,\n",
    "                           method='trust-constr',\n",
    "                           args=(vmat, kb, clusters, configs, configcoef,temp,eci),\n",
    "                           options=options,\n",
    "                           jac=F_jacobian, \n",
    "                           hess=F_hessian,\n",
    "                           #jac='3-point',\n",
    "                           #hess=BFGS(),\n",
    "                           constraints=[{'fun': constraint_rhos_sum, 'type': 'eq', 'args': [vmat, clusters, configcoef,]},\n",
    "                                        *linear_constraints, \n",
    "                                        {'fun': constraint_singlet, 'type': 'eq', 'args': [FIXED_CORR_1]},\n",
    "                                        {'fun': constraint_zero, 'type':'eq',},\n",
    "                                       ],\n",
    "                           bounds=bounds_corrs,\n",
    "                          )\n",
    "            \n",
    "            if res.fun < MIN_RES_VAL:\n",
    "                MIN_RES = res\n",
    "                MIN_RES_VAL = res.fun\n",
    "                print(f\"Found new minimum for x:{x}, T:{temp} fun: {MIN_RES_VAL}\")\n",
    "        \n",
    "            \n",
    "        for cluster_idx in clusters:\n",
    "            if cluster_idx == 2:\n",
    "                rho_pair = np.matmul(vmat[cluster_idx],MIN_RES.x)\n",
    "                break\n",
    "        \n",
    "        results_uniform = results_uniform.append({'T' : temp, \n",
    "                                           '1-point_corr' : x, \n",
    "                                           'F' : MIN_RES.fun, \n",
    "                                           'corrs': MIN_RES.x,\n",
    "                                           'rhos': rho_pair\n",
    "                                          }, \n",
    "                                          ignore_index = True\n",
    "                                         )\n",
    "now = datetime.now()\n",
    "now = now.strftime(\"%d-%m-%H:%M\")\n",
    "results_uniform.to_csv(f'phaseDiag_{now}_uniform.csv',index=False)"
   ]
  },
  {
   "cell_type": "code",
   "execution_count": 62,
   "metadata": {
    "ExecuteTime": {
     "end_time": "2021-09-10T23:59:35.836395Z",
     "start_time": "2021-09-10T23:59:35.781498Z"
    }
   },
   "outputs": [
    {
     "data": {
      "application/vnd.plotly.v1+json": {
       "config": {
        "plotlyServerURL": "https://plot.ly"
       },
       "data": [
        {
         "mode": "markers+lines",
         "name": "T = 3000",
         "type": "scatter",
         "x": [
          -1,
          -0.75,
          -0.5,
          -0.25,
          0,
          0.25,
          0.5,
          0.75,
          1
         ],
         "y": [
          -3.2352332791783286e-07,
          -0.3811863922322367,
          -0.5735843103077232,
          -0.6696525660528242,
          -0.7133012322509733,
          -0.6774390013935789,
          -0.5671800146582162,
          -0.38239761601009387,
          -1.4199934944674447e-06
         ]
        }
       ],
       "layout": {
        "legend": {
         "title": {
          "text": "Temperature"
         }
        },
        "template": {
         "data": {
          "bar": [
           {
            "error_x": {
             "color": "rgb(36,36,36)"
            },
            "error_y": {
             "color": "rgb(36,36,36)"
            },
            "marker": {
             "line": {
              "color": "rgb(234,234,242)",
              "width": 0.5
             },
             "pattern": {
              "fillmode": "overlay",
              "size": 10,
              "solidity": 0.2
             }
            },
            "type": "bar"
           }
          ],
          "barpolar": [
           {
            "marker": {
             "line": {
              "color": "rgb(234,234,242)",
              "width": 0.5
             },
             "pattern": {
              "fillmode": "overlay",
              "size": 10,
              "solidity": 0.2
             }
            },
            "type": "barpolar"
           }
          ],
          "carpet": [
           {
            "aaxis": {
             "endlinecolor": "rgb(36,36,36)",
             "gridcolor": "white",
             "linecolor": "white",
             "minorgridcolor": "white",
             "startlinecolor": "rgb(36,36,36)"
            },
            "baxis": {
             "endlinecolor": "rgb(36,36,36)",
             "gridcolor": "white",
             "linecolor": "white",
             "minorgridcolor": "white",
             "startlinecolor": "rgb(36,36,36)"
            },
            "type": "carpet"
           }
          ],
          "choropleth": [
           {
            "colorbar": {
             "outlinewidth": 0,
             "tickcolor": "rgb(36,36,36)",
             "ticklen": 8,
             "ticks": "outside",
             "tickwidth": 2
            },
            "type": "choropleth"
           }
          ],
          "contour": [
           {
            "colorbar": {
             "outlinewidth": 0,
             "tickcolor": "rgb(36,36,36)",
             "ticklen": 8,
             "ticks": "outside",
             "tickwidth": 2
            },
            "colorscale": [
             [
              0,
              "rgb(2,4,25)"
             ],
             [
              0.06274509803921569,
              "rgb(24,15,41)"
             ],
             [
              0.12549019607843137,
              "rgb(47,23,57)"
             ],
             [
              0.18823529411764706,
              "rgb(71,28,72)"
             ],
             [
              0.25098039215686274,
              "rgb(97,30,82)"
             ],
             [
              0.3137254901960784,
              "rgb(123,30,89)"
             ],
             [
              0.3764705882352941,
              "rgb(150,27,91)"
             ],
             [
              0.4392156862745098,
              "rgb(177,22,88)"
             ],
             [
              0.5019607843137255,
              "rgb(203,26,79)"
             ],
             [
              0.5647058823529412,
              "rgb(223,47,67)"
             ],
             [
              0.6274509803921569,
              "rgb(236,76,61)"
             ],
             [
              0.6901960784313725,
              "rgb(242,107,73)"
             ],
             [
              0.7529411764705882,
              "rgb(244,135,95)"
             ],
             [
              0.8156862745098039,
              "rgb(245,162,122)"
             ],
             [
              0.8784313725490196,
              "rgb(246,188,153)"
             ],
             [
              0.9411764705882353,
              "rgb(247,212,187)"
             ],
             [
              1,
              "rgb(250,234,220)"
             ]
            ],
            "type": "contour"
           }
          ],
          "contourcarpet": [
           {
            "colorbar": {
             "outlinewidth": 0,
             "tickcolor": "rgb(36,36,36)",
             "ticklen": 8,
             "ticks": "outside",
             "tickwidth": 2
            },
            "type": "contourcarpet"
           }
          ],
          "heatmap": [
           {
            "colorbar": {
             "outlinewidth": 0,
             "tickcolor": "rgb(36,36,36)",
             "ticklen": 8,
             "ticks": "outside",
             "tickwidth": 2
            },
            "colorscale": [
             [
              0,
              "rgb(2,4,25)"
             ],
             [
              0.06274509803921569,
              "rgb(24,15,41)"
             ],
             [
              0.12549019607843137,
              "rgb(47,23,57)"
             ],
             [
              0.18823529411764706,
              "rgb(71,28,72)"
             ],
             [
              0.25098039215686274,
              "rgb(97,30,82)"
             ],
             [
              0.3137254901960784,
              "rgb(123,30,89)"
             ],
             [
              0.3764705882352941,
              "rgb(150,27,91)"
             ],
             [
              0.4392156862745098,
              "rgb(177,22,88)"
             ],
             [
              0.5019607843137255,
              "rgb(203,26,79)"
             ],
             [
              0.5647058823529412,
              "rgb(223,47,67)"
             ],
             [
              0.6274509803921569,
              "rgb(236,76,61)"
             ],
             [
              0.6901960784313725,
              "rgb(242,107,73)"
             ],
             [
              0.7529411764705882,
              "rgb(244,135,95)"
             ],
             [
              0.8156862745098039,
              "rgb(245,162,122)"
             ],
             [
              0.8784313725490196,
              "rgb(246,188,153)"
             ],
             [
              0.9411764705882353,
              "rgb(247,212,187)"
             ],
             [
              1,
              "rgb(250,234,220)"
             ]
            ],
            "type": "heatmap"
           }
          ],
          "heatmapgl": [
           {
            "colorbar": {
             "outlinewidth": 0,
             "tickcolor": "rgb(36,36,36)",
             "ticklen": 8,
             "ticks": "outside",
             "tickwidth": 2
            },
            "colorscale": [
             [
              0,
              "rgb(2,4,25)"
             ],
             [
              0.06274509803921569,
              "rgb(24,15,41)"
             ],
             [
              0.12549019607843137,
              "rgb(47,23,57)"
             ],
             [
              0.18823529411764706,
              "rgb(71,28,72)"
             ],
             [
              0.25098039215686274,
              "rgb(97,30,82)"
             ],
             [
              0.3137254901960784,
              "rgb(123,30,89)"
             ],
             [
              0.3764705882352941,
              "rgb(150,27,91)"
             ],
             [
              0.4392156862745098,
              "rgb(177,22,88)"
             ],
             [
              0.5019607843137255,
              "rgb(203,26,79)"
             ],
             [
              0.5647058823529412,
              "rgb(223,47,67)"
             ],
             [
              0.6274509803921569,
              "rgb(236,76,61)"
             ],
             [
              0.6901960784313725,
              "rgb(242,107,73)"
             ],
             [
              0.7529411764705882,
              "rgb(244,135,95)"
             ],
             [
              0.8156862745098039,
              "rgb(245,162,122)"
             ],
             [
              0.8784313725490196,
              "rgb(246,188,153)"
             ],
             [
              0.9411764705882353,
              "rgb(247,212,187)"
             ],
             [
              1,
              "rgb(250,234,220)"
             ]
            ],
            "type": "heatmapgl"
           }
          ],
          "histogram": [
           {
            "marker": {
             "pattern": {
              "fillmode": "overlay",
              "size": 10,
              "solidity": 0.2
             }
            },
            "type": "histogram"
           }
          ],
          "histogram2d": [
           {
            "colorbar": {
             "outlinewidth": 0,
             "tickcolor": "rgb(36,36,36)",
             "ticklen": 8,
             "ticks": "outside",
             "tickwidth": 2
            },
            "colorscale": [
             [
              0,
              "rgb(2,4,25)"
             ],
             [
              0.06274509803921569,
              "rgb(24,15,41)"
             ],
             [
              0.12549019607843137,
              "rgb(47,23,57)"
             ],
             [
              0.18823529411764706,
              "rgb(71,28,72)"
             ],
             [
              0.25098039215686274,
              "rgb(97,30,82)"
             ],
             [
              0.3137254901960784,
              "rgb(123,30,89)"
             ],
             [
              0.3764705882352941,
              "rgb(150,27,91)"
             ],
             [
              0.4392156862745098,
              "rgb(177,22,88)"
             ],
             [
              0.5019607843137255,
              "rgb(203,26,79)"
             ],
             [
              0.5647058823529412,
              "rgb(223,47,67)"
             ],
             [
              0.6274509803921569,
              "rgb(236,76,61)"
             ],
             [
              0.6901960784313725,
              "rgb(242,107,73)"
             ],
             [
              0.7529411764705882,
              "rgb(244,135,95)"
             ],
             [
              0.8156862745098039,
              "rgb(245,162,122)"
             ],
             [
              0.8784313725490196,
              "rgb(246,188,153)"
             ],
             [
              0.9411764705882353,
              "rgb(247,212,187)"
             ],
             [
              1,
              "rgb(250,234,220)"
             ]
            ],
            "type": "histogram2d"
           }
          ],
          "histogram2dcontour": [
           {
            "colorbar": {
             "outlinewidth": 0,
             "tickcolor": "rgb(36,36,36)",
             "ticklen": 8,
             "ticks": "outside",
             "tickwidth": 2
            },
            "colorscale": [
             [
              0,
              "rgb(2,4,25)"
             ],
             [
              0.06274509803921569,
              "rgb(24,15,41)"
             ],
             [
              0.12549019607843137,
              "rgb(47,23,57)"
             ],
             [
              0.18823529411764706,
              "rgb(71,28,72)"
             ],
             [
              0.25098039215686274,
              "rgb(97,30,82)"
             ],
             [
              0.3137254901960784,
              "rgb(123,30,89)"
             ],
             [
              0.3764705882352941,
              "rgb(150,27,91)"
             ],
             [
              0.4392156862745098,
              "rgb(177,22,88)"
             ],
             [
              0.5019607843137255,
              "rgb(203,26,79)"
             ],
             [
              0.5647058823529412,
              "rgb(223,47,67)"
             ],
             [
              0.6274509803921569,
              "rgb(236,76,61)"
             ],
             [
              0.6901960784313725,
              "rgb(242,107,73)"
             ],
             [
              0.7529411764705882,
              "rgb(244,135,95)"
             ],
             [
              0.8156862745098039,
              "rgb(245,162,122)"
             ],
             [
              0.8784313725490196,
              "rgb(246,188,153)"
             ],
             [
              0.9411764705882353,
              "rgb(247,212,187)"
             ],
             [
              1,
              "rgb(250,234,220)"
             ]
            ],
            "type": "histogram2dcontour"
           }
          ],
          "mesh3d": [
           {
            "colorbar": {
             "outlinewidth": 0,
             "tickcolor": "rgb(36,36,36)",
             "ticklen": 8,
             "ticks": "outside",
             "tickwidth": 2
            },
            "type": "mesh3d"
           }
          ],
          "parcoords": [
           {
            "line": {
             "colorbar": {
              "outlinewidth": 0,
              "tickcolor": "rgb(36,36,36)",
              "ticklen": 8,
              "ticks": "outside",
              "tickwidth": 2
             }
            },
            "type": "parcoords"
           }
          ],
          "pie": [
           {
            "automargin": true,
            "type": "pie"
           }
          ],
          "scatter": [
           {
            "marker": {
             "colorbar": {
              "outlinewidth": 0,
              "tickcolor": "rgb(36,36,36)",
              "ticklen": 8,
              "ticks": "outside",
              "tickwidth": 2
             }
            },
            "type": "scatter"
           }
          ],
          "scatter3d": [
           {
            "line": {
             "colorbar": {
              "outlinewidth": 0,
              "tickcolor": "rgb(36,36,36)",
              "ticklen": 8,
              "ticks": "outside",
              "tickwidth": 2
             }
            },
            "marker": {
             "colorbar": {
              "outlinewidth": 0,
              "tickcolor": "rgb(36,36,36)",
              "ticklen": 8,
              "ticks": "outside",
              "tickwidth": 2
             }
            },
            "type": "scatter3d"
           }
          ],
          "scattercarpet": [
           {
            "marker": {
             "colorbar": {
              "outlinewidth": 0,
              "tickcolor": "rgb(36,36,36)",
              "ticklen": 8,
              "ticks": "outside",
              "tickwidth": 2
             }
            },
            "type": "scattercarpet"
           }
          ],
          "scattergeo": [
           {
            "marker": {
             "colorbar": {
              "outlinewidth": 0,
              "tickcolor": "rgb(36,36,36)",
              "ticklen": 8,
              "ticks": "outside",
              "tickwidth": 2
             }
            },
            "type": "scattergeo"
           }
          ],
          "scattergl": [
           {
            "marker": {
             "colorbar": {
              "outlinewidth": 0,
              "tickcolor": "rgb(36,36,36)",
              "ticklen": 8,
              "ticks": "outside",
              "tickwidth": 2
             }
            },
            "type": "scattergl"
           }
          ],
          "scattermapbox": [
           {
            "marker": {
             "colorbar": {
              "outlinewidth": 0,
              "tickcolor": "rgb(36,36,36)",
              "ticklen": 8,
              "ticks": "outside",
              "tickwidth": 2
             }
            },
            "type": "scattermapbox"
           }
          ],
          "scatterpolar": [
           {
            "marker": {
             "colorbar": {
              "outlinewidth": 0,
              "tickcolor": "rgb(36,36,36)",
              "ticklen": 8,
              "ticks": "outside",
              "tickwidth": 2
             }
            },
            "type": "scatterpolar"
           }
          ],
          "scatterpolargl": [
           {
            "marker": {
             "colorbar": {
              "outlinewidth": 0,
              "tickcolor": "rgb(36,36,36)",
              "ticklen": 8,
              "ticks": "outside",
              "tickwidth": 2
             }
            },
            "type": "scatterpolargl"
           }
          ],
          "scatterternary": [
           {
            "marker": {
             "colorbar": {
              "outlinewidth": 0,
              "tickcolor": "rgb(36,36,36)",
              "ticklen": 8,
              "ticks": "outside",
              "tickwidth": 2
             }
            },
            "type": "scatterternary"
           }
          ],
          "surface": [
           {
            "colorbar": {
             "outlinewidth": 0,
             "tickcolor": "rgb(36,36,36)",
             "ticklen": 8,
             "ticks": "outside",
             "tickwidth": 2
            },
            "colorscale": [
             [
              0,
              "rgb(2,4,25)"
             ],
             [
              0.06274509803921569,
              "rgb(24,15,41)"
             ],
             [
              0.12549019607843137,
              "rgb(47,23,57)"
             ],
             [
              0.18823529411764706,
              "rgb(71,28,72)"
             ],
             [
              0.25098039215686274,
              "rgb(97,30,82)"
             ],
             [
              0.3137254901960784,
              "rgb(123,30,89)"
             ],
             [
              0.3764705882352941,
              "rgb(150,27,91)"
             ],
             [
              0.4392156862745098,
              "rgb(177,22,88)"
             ],
             [
              0.5019607843137255,
              "rgb(203,26,79)"
             ],
             [
              0.5647058823529412,
              "rgb(223,47,67)"
             ],
             [
              0.6274509803921569,
              "rgb(236,76,61)"
             ],
             [
              0.6901960784313725,
              "rgb(242,107,73)"
             ],
             [
              0.7529411764705882,
              "rgb(244,135,95)"
             ],
             [
              0.8156862745098039,
              "rgb(245,162,122)"
             ],
             [
              0.8784313725490196,
              "rgb(246,188,153)"
             ],
             [
              0.9411764705882353,
              "rgb(247,212,187)"
             ],
             [
              1,
              "rgb(250,234,220)"
             ]
            ],
            "type": "surface"
           }
          ],
          "table": [
           {
            "cells": {
             "fill": {
              "color": "rgb(231,231,240)"
             },
             "line": {
              "color": "white"
             }
            },
            "header": {
             "fill": {
              "color": "rgb(183,183,191)"
             },
             "line": {
              "color": "white"
             }
            },
            "type": "table"
           }
          ]
         },
         "layout": {
          "annotationdefaults": {
           "arrowcolor": "rgb(67,103,167)"
          },
          "autotypenumbers": "strict",
          "coloraxis": {
           "colorbar": {
            "outlinewidth": 0,
            "tickcolor": "rgb(36,36,36)",
            "ticklen": 8,
            "ticks": "outside",
            "tickwidth": 2
           }
          },
          "colorscale": {
           "sequential": [
            [
             0,
             "rgb(2,4,25)"
            ],
            [
             0.06274509803921569,
             "rgb(24,15,41)"
            ],
            [
             0.12549019607843137,
             "rgb(47,23,57)"
            ],
            [
             0.18823529411764706,
             "rgb(71,28,72)"
            ],
            [
             0.25098039215686274,
             "rgb(97,30,82)"
            ],
            [
             0.3137254901960784,
             "rgb(123,30,89)"
            ],
            [
             0.3764705882352941,
             "rgb(150,27,91)"
            ],
            [
             0.4392156862745098,
             "rgb(177,22,88)"
            ],
            [
             0.5019607843137255,
             "rgb(203,26,79)"
            ],
            [
             0.5647058823529412,
             "rgb(223,47,67)"
            ],
            [
             0.6274509803921569,
             "rgb(236,76,61)"
            ],
            [
             0.6901960784313725,
             "rgb(242,107,73)"
            ],
            [
             0.7529411764705882,
             "rgb(244,135,95)"
            ],
            [
             0.8156862745098039,
             "rgb(245,162,122)"
            ],
            [
             0.8784313725490196,
             "rgb(246,188,153)"
            ],
            [
             0.9411764705882353,
             "rgb(247,212,187)"
            ],
            [
             1,
             "rgb(250,234,220)"
            ]
           ],
           "sequentialminus": [
            [
             0,
             "rgb(2,4,25)"
            ],
            [
             0.06274509803921569,
             "rgb(24,15,41)"
            ],
            [
             0.12549019607843137,
             "rgb(47,23,57)"
            ],
            [
             0.18823529411764706,
             "rgb(71,28,72)"
            ],
            [
             0.25098039215686274,
             "rgb(97,30,82)"
            ],
            [
             0.3137254901960784,
             "rgb(123,30,89)"
            ],
            [
             0.3764705882352941,
             "rgb(150,27,91)"
            ],
            [
             0.4392156862745098,
             "rgb(177,22,88)"
            ],
            [
             0.5019607843137255,
             "rgb(203,26,79)"
            ],
            [
             0.5647058823529412,
             "rgb(223,47,67)"
            ],
            [
             0.6274509803921569,
             "rgb(236,76,61)"
            ],
            [
             0.6901960784313725,
             "rgb(242,107,73)"
            ],
            [
             0.7529411764705882,
             "rgb(244,135,95)"
            ],
            [
             0.8156862745098039,
             "rgb(245,162,122)"
            ],
            [
             0.8784313725490196,
             "rgb(246,188,153)"
            ],
            [
             0.9411764705882353,
             "rgb(247,212,187)"
            ],
            [
             1,
             "rgb(250,234,220)"
            ]
           ]
          },
          "colorway": [
           "rgb(76,114,176)",
           "rgb(221,132,82)",
           "rgb(85,168,104)",
           "rgb(196,78,82)",
           "rgb(129,114,179)",
           "rgb(147,120,96)",
           "rgb(218,139,195)",
           "rgb(140,140,140)",
           "rgb(204,185,116)",
           "rgb(100,181,205)"
          ],
          "font": {
           "color": "rgb(36,36,36)"
          },
          "geo": {
           "bgcolor": "white",
           "lakecolor": "white",
           "landcolor": "rgb(234,234,242)",
           "showlakes": true,
           "showland": true,
           "subunitcolor": "white"
          },
          "hoverlabel": {
           "align": "left"
          },
          "hovermode": "closest",
          "paper_bgcolor": "white",
          "plot_bgcolor": "rgb(234,234,242)",
          "polar": {
           "angularaxis": {
            "gridcolor": "white",
            "linecolor": "white",
            "showgrid": true,
            "ticks": ""
           },
           "bgcolor": "rgb(234,234,242)",
           "radialaxis": {
            "gridcolor": "white",
            "linecolor": "white",
            "showgrid": true,
            "ticks": ""
           }
          },
          "scene": {
           "xaxis": {
            "backgroundcolor": "rgb(234,234,242)",
            "gridcolor": "white",
            "gridwidth": 2,
            "linecolor": "white",
            "showbackground": true,
            "showgrid": true,
            "ticks": "",
            "zerolinecolor": "white"
           },
           "yaxis": {
            "backgroundcolor": "rgb(234,234,242)",
            "gridcolor": "white",
            "gridwidth": 2,
            "linecolor": "white",
            "showbackground": true,
            "showgrid": true,
            "ticks": "",
            "zerolinecolor": "white"
           },
           "zaxis": {
            "backgroundcolor": "rgb(234,234,242)",
            "gridcolor": "white",
            "gridwidth": 2,
            "linecolor": "white",
            "showbackground": true,
            "showgrid": true,
            "ticks": "",
            "zerolinecolor": "white"
           }
          },
          "shapedefaults": {
           "fillcolor": "rgb(67,103,167)",
           "line": {
            "width": 0
           },
           "opacity": 0.5
          },
          "ternary": {
           "aaxis": {
            "gridcolor": "white",
            "linecolor": "white",
            "showgrid": true,
            "ticks": ""
           },
           "baxis": {
            "gridcolor": "white",
            "linecolor": "white",
            "showgrid": true,
            "ticks": ""
           },
           "bgcolor": "rgb(234,234,242)",
           "caxis": {
            "gridcolor": "white",
            "linecolor": "white",
            "showgrid": true,
            "ticks": ""
           }
          },
          "xaxis": {
           "automargin": true,
           "gridcolor": "white",
           "linecolor": "white",
           "showgrid": true,
           "ticks": "",
           "title": {
            "standoff": 15
           },
           "zerolinecolor": "white"
          },
          "yaxis": {
           "automargin": true,
           "gridcolor": "white",
           "linecolor": "white",
           "showgrid": true,
           "ticks": "",
           "title": {
            "standoff": 15
           },
           "zerolinecolor": "white"
          }
         }
        },
        "title": {
         "text": "F vs 1-point Corr"
        },
        "xaxis": {
         "title": {
          "text": "1-point Corr"
         }
        },
        "yaxis": {
         "title": {
          "text": "F"
         }
        }
       }
      },
      "text/html": [
       "<div>                            <div id=\"d1423de4-c250-42b2-bc30-a28e880ed3ef\" class=\"plotly-graph-div\" style=\"height:525px; width:100%;\"></div>            <script type=\"text/javascript\">                require([\"plotly\"], function(Plotly) {                    window.PLOTLYENV=window.PLOTLYENV || {};                                    if (document.getElementById(\"d1423de4-c250-42b2-bc30-a28e880ed3ef\")) {                    Plotly.newPlot(                        \"d1423de4-c250-42b2-bc30-a28e880ed3ef\",                        [{\"mode\":\"markers+lines\",\"name\":\"T = 3000\",\"type\":\"scatter\",\"x\":[-1.0,-0.75,-0.5,-0.25,0.0,0.25,0.5,0.75,1.0],\"y\":[-3.2352332791783286e-07,-0.3811863922322367,-0.5735843103077232,-0.6696525660528242,-0.7133012322509733,-0.6774390013935789,-0.5671800146582162,-0.38239761601009387,-1.4199934944674447e-06]}],                        {\"legend\":{\"title\":{\"text\":\"Temperature\"}},\"template\":{\"data\":{\"bar\":[{\"error_x\":{\"color\":\"rgb(36,36,36)\"},\"error_y\":{\"color\":\"rgb(36,36,36)\"},\"marker\":{\"line\":{\"color\":\"rgb(234,234,242)\",\"width\":0.5},\"pattern\":{\"fillmode\":\"overlay\",\"size\":10,\"solidity\":0.2}},\"type\":\"bar\"}],\"barpolar\":[{\"marker\":{\"line\":{\"color\":\"rgb(234,234,242)\",\"width\":0.5},\"pattern\":{\"fillmode\":\"overlay\",\"size\":10,\"solidity\":0.2}},\"type\":\"barpolar\"}],\"carpet\":[{\"aaxis\":{\"endlinecolor\":\"rgb(36,36,36)\",\"gridcolor\":\"white\",\"linecolor\":\"white\",\"minorgridcolor\":\"white\",\"startlinecolor\":\"rgb(36,36,36)\"},\"baxis\":{\"endlinecolor\":\"rgb(36,36,36)\",\"gridcolor\":\"white\",\"linecolor\":\"white\",\"minorgridcolor\":\"white\",\"startlinecolor\":\"rgb(36,36,36)\"},\"type\":\"carpet\"}],\"choropleth\":[{\"colorbar\":{\"outlinewidth\":0,\"tickcolor\":\"rgb(36,36,36)\",\"ticklen\":8,\"ticks\":\"outside\",\"tickwidth\":2},\"type\":\"choropleth\"}],\"contour\":[{\"colorbar\":{\"outlinewidth\":0,\"tickcolor\":\"rgb(36,36,36)\",\"ticklen\":8,\"ticks\":\"outside\",\"tickwidth\":2},\"colorscale\":[[0.0,\"rgb(2,4,25)\"],[0.06274509803921569,\"rgb(24,15,41)\"],[0.12549019607843137,\"rgb(47,23,57)\"],[0.18823529411764706,\"rgb(71,28,72)\"],[0.25098039215686274,\"rgb(97,30,82)\"],[0.3137254901960784,\"rgb(123,30,89)\"],[0.3764705882352941,\"rgb(150,27,91)\"],[0.4392156862745098,\"rgb(177,22,88)\"],[0.5019607843137255,\"rgb(203,26,79)\"],[0.5647058823529412,\"rgb(223,47,67)\"],[0.6274509803921569,\"rgb(236,76,61)\"],[0.6901960784313725,\"rgb(242,107,73)\"],[0.7529411764705882,\"rgb(244,135,95)\"],[0.8156862745098039,\"rgb(245,162,122)\"],[0.8784313725490196,\"rgb(246,188,153)\"],[0.9411764705882353,\"rgb(247,212,187)\"],[1.0,\"rgb(250,234,220)\"]],\"type\":\"contour\"}],\"contourcarpet\":[{\"colorbar\":{\"outlinewidth\":0,\"tickcolor\":\"rgb(36,36,36)\",\"ticklen\":8,\"ticks\":\"outside\",\"tickwidth\":2},\"type\":\"contourcarpet\"}],\"heatmap\":[{\"colorbar\":{\"outlinewidth\":0,\"tickcolor\":\"rgb(36,36,36)\",\"ticklen\":8,\"ticks\":\"outside\",\"tickwidth\":2},\"colorscale\":[[0.0,\"rgb(2,4,25)\"],[0.06274509803921569,\"rgb(24,15,41)\"],[0.12549019607843137,\"rgb(47,23,57)\"],[0.18823529411764706,\"rgb(71,28,72)\"],[0.25098039215686274,\"rgb(97,30,82)\"],[0.3137254901960784,\"rgb(123,30,89)\"],[0.3764705882352941,\"rgb(150,27,91)\"],[0.4392156862745098,\"rgb(177,22,88)\"],[0.5019607843137255,\"rgb(203,26,79)\"],[0.5647058823529412,\"rgb(223,47,67)\"],[0.6274509803921569,\"rgb(236,76,61)\"],[0.6901960784313725,\"rgb(242,107,73)\"],[0.7529411764705882,\"rgb(244,135,95)\"],[0.8156862745098039,\"rgb(245,162,122)\"],[0.8784313725490196,\"rgb(246,188,153)\"],[0.9411764705882353,\"rgb(247,212,187)\"],[1.0,\"rgb(250,234,220)\"]],\"type\":\"heatmap\"}],\"heatmapgl\":[{\"colorbar\":{\"outlinewidth\":0,\"tickcolor\":\"rgb(36,36,36)\",\"ticklen\":8,\"ticks\":\"outside\",\"tickwidth\":2},\"colorscale\":[[0.0,\"rgb(2,4,25)\"],[0.06274509803921569,\"rgb(24,15,41)\"],[0.12549019607843137,\"rgb(47,23,57)\"],[0.18823529411764706,\"rgb(71,28,72)\"],[0.25098039215686274,\"rgb(97,30,82)\"],[0.3137254901960784,\"rgb(123,30,89)\"],[0.3764705882352941,\"rgb(150,27,91)\"],[0.4392156862745098,\"rgb(177,22,88)\"],[0.5019607843137255,\"rgb(203,26,79)\"],[0.5647058823529412,\"rgb(223,47,67)\"],[0.6274509803921569,\"rgb(236,76,61)\"],[0.6901960784313725,\"rgb(242,107,73)\"],[0.7529411764705882,\"rgb(244,135,95)\"],[0.8156862745098039,\"rgb(245,162,122)\"],[0.8784313725490196,\"rgb(246,188,153)\"],[0.9411764705882353,\"rgb(247,212,187)\"],[1.0,\"rgb(250,234,220)\"]],\"type\":\"heatmapgl\"}],\"histogram\":[{\"marker\":{\"pattern\":{\"fillmode\":\"overlay\",\"size\":10,\"solidity\":0.2}},\"type\":\"histogram\"}],\"histogram2d\":[{\"colorbar\":{\"outlinewidth\":0,\"tickcolor\":\"rgb(36,36,36)\",\"ticklen\":8,\"ticks\":\"outside\",\"tickwidth\":2},\"colorscale\":[[0.0,\"rgb(2,4,25)\"],[0.06274509803921569,\"rgb(24,15,41)\"],[0.12549019607843137,\"rgb(47,23,57)\"],[0.18823529411764706,\"rgb(71,28,72)\"],[0.25098039215686274,\"rgb(97,30,82)\"],[0.3137254901960784,\"rgb(123,30,89)\"],[0.3764705882352941,\"rgb(150,27,91)\"],[0.4392156862745098,\"rgb(177,22,88)\"],[0.5019607843137255,\"rgb(203,26,79)\"],[0.5647058823529412,\"rgb(223,47,67)\"],[0.6274509803921569,\"rgb(236,76,61)\"],[0.6901960784313725,\"rgb(242,107,73)\"],[0.7529411764705882,\"rgb(244,135,95)\"],[0.8156862745098039,\"rgb(245,162,122)\"],[0.8784313725490196,\"rgb(246,188,153)\"],[0.9411764705882353,\"rgb(247,212,187)\"],[1.0,\"rgb(250,234,220)\"]],\"type\":\"histogram2d\"}],\"histogram2dcontour\":[{\"colorbar\":{\"outlinewidth\":0,\"tickcolor\":\"rgb(36,36,36)\",\"ticklen\":8,\"ticks\":\"outside\",\"tickwidth\":2},\"colorscale\":[[0.0,\"rgb(2,4,25)\"],[0.06274509803921569,\"rgb(24,15,41)\"],[0.12549019607843137,\"rgb(47,23,57)\"],[0.18823529411764706,\"rgb(71,28,72)\"],[0.25098039215686274,\"rgb(97,30,82)\"],[0.3137254901960784,\"rgb(123,30,89)\"],[0.3764705882352941,\"rgb(150,27,91)\"],[0.4392156862745098,\"rgb(177,22,88)\"],[0.5019607843137255,\"rgb(203,26,79)\"],[0.5647058823529412,\"rgb(223,47,67)\"],[0.6274509803921569,\"rgb(236,76,61)\"],[0.6901960784313725,\"rgb(242,107,73)\"],[0.7529411764705882,\"rgb(244,135,95)\"],[0.8156862745098039,\"rgb(245,162,122)\"],[0.8784313725490196,\"rgb(246,188,153)\"],[0.9411764705882353,\"rgb(247,212,187)\"],[1.0,\"rgb(250,234,220)\"]],\"type\":\"histogram2dcontour\"}],\"mesh3d\":[{\"colorbar\":{\"outlinewidth\":0,\"tickcolor\":\"rgb(36,36,36)\",\"ticklen\":8,\"ticks\":\"outside\",\"tickwidth\":2},\"type\":\"mesh3d\"}],\"parcoords\":[{\"line\":{\"colorbar\":{\"outlinewidth\":0,\"tickcolor\":\"rgb(36,36,36)\",\"ticklen\":8,\"ticks\":\"outside\",\"tickwidth\":2}},\"type\":\"parcoords\"}],\"pie\":[{\"automargin\":true,\"type\":\"pie\"}],\"scatter\":[{\"marker\":{\"colorbar\":{\"outlinewidth\":0,\"tickcolor\":\"rgb(36,36,36)\",\"ticklen\":8,\"ticks\":\"outside\",\"tickwidth\":2}},\"type\":\"scatter\"}],\"scatter3d\":[{\"line\":{\"colorbar\":{\"outlinewidth\":0,\"tickcolor\":\"rgb(36,36,36)\",\"ticklen\":8,\"ticks\":\"outside\",\"tickwidth\":2}},\"marker\":{\"colorbar\":{\"outlinewidth\":0,\"tickcolor\":\"rgb(36,36,36)\",\"ticklen\":8,\"ticks\":\"outside\",\"tickwidth\":2}},\"type\":\"scatter3d\"}],\"scattercarpet\":[{\"marker\":{\"colorbar\":{\"outlinewidth\":0,\"tickcolor\":\"rgb(36,36,36)\",\"ticklen\":8,\"ticks\":\"outside\",\"tickwidth\":2}},\"type\":\"scattercarpet\"}],\"scattergeo\":[{\"marker\":{\"colorbar\":{\"outlinewidth\":0,\"tickcolor\":\"rgb(36,36,36)\",\"ticklen\":8,\"ticks\":\"outside\",\"tickwidth\":2}},\"type\":\"scattergeo\"}],\"scattergl\":[{\"marker\":{\"colorbar\":{\"outlinewidth\":0,\"tickcolor\":\"rgb(36,36,36)\",\"ticklen\":8,\"ticks\":\"outside\",\"tickwidth\":2}},\"type\":\"scattergl\"}],\"scattermapbox\":[{\"marker\":{\"colorbar\":{\"outlinewidth\":0,\"tickcolor\":\"rgb(36,36,36)\",\"ticklen\":8,\"ticks\":\"outside\",\"tickwidth\":2}},\"type\":\"scattermapbox\"}],\"scatterpolar\":[{\"marker\":{\"colorbar\":{\"outlinewidth\":0,\"tickcolor\":\"rgb(36,36,36)\",\"ticklen\":8,\"ticks\":\"outside\",\"tickwidth\":2}},\"type\":\"scatterpolar\"}],\"scatterpolargl\":[{\"marker\":{\"colorbar\":{\"outlinewidth\":0,\"tickcolor\":\"rgb(36,36,36)\",\"ticklen\":8,\"ticks\":\"outside\",\"tickwidth\":2}},\"type\":\"scatterpolargl\"}],\"scatterternary\":[{\"marker\":{\"colorbar\":{\"outlinewidth\":0,\"tickcolor\":\"rgb(36,36,36)\",\"ticklen\":8,\"ticks\":\"outside\",\"tickwidth\":2}},\"type\":\"scatterternary\"}],\"surface\":[{\"colorbar\":{\"outlinewidth\":0,\"tickcolor\":\"rgb(36,36,36)\",\"ticklen\":8,\"ticks\":\"outside\",\"tickwidth\":2},\"colorscale\":[[0.0,\"rgb(2,4,25)\"],[0.06274509803921569,\"rgb(24,15,41)\"],[0.12549019607843137,\"rgb(47,23,57)\"],[0.18823529411764706,\"rgb(71,28,72)\"],[0.25098039215686274,\"rgb(97,30,82)\"],[0.3137254901960784,\"rgb(123,30,89)\"],[0.3764705882352941,\"rgb(150,27,91)\"],[0.4392156862745098,\"rgb(177,22,88)\"],[0.5019607843137255,\"rgb(203,26,79)\"],[0.5647058823529412,\"rgb(223,47,67)\"],[0.6274509803921569,\"rgb(236,76,61)\"],[0.6901960784313725,\"rgb(242,107,73)\"],[0.7529411764705882,\"rgb(244,135,95)\"],[0.8156862745098039,\"rgb(245,162,122)\"],[0.8784313725490196,\"rgb(246,188,153)\"],[0.9411764705882353,\"rgb(247,212,187)\"],[1.0,\"rgb(250,234,220)\"]],\"type\":\"surface\"}],\"table\":[{\"cells\":{\"fill\":{\"color\":\"rgb(231,231,240)\"},\"line\":{\"color\":\"white\"}},\"header\":{\"fill\":{\"color\":\"rgb(183,183,191)\"},\"line\":{\"color\":\"white\"}},\"type\":\"table\"}]},\"layout\":{\"annotationdefaults\":{\"arrowcolor\":\"rgb(67,103,167)\"},\"autotypenumbers\":\"strict\",\"coloraxis\":{\"colorbar\":{\"outlinewidth\":0,\"tickcolor\":\"rgb(36,36,36)\",\"ticklen\":8,\"ticks\":\"outside\",\"tickwidth\":2}},\"colorscale\":{\"sequential\":[[0.0,\"rgb(2,4,25)\"],[0.06274509803921569,\"rgb(24,15,41)\"],[0.12549019607843137,\"rgb(47,23,57)\"],[0.18823529411764706,\"rgb(71,28,72)\"],[0.25098039215686274,\"rgb(97,30,82)\"],[0.3137254901960784,\"rgb(123,30,89)\"],[0.3764705882352941,\"rgb(150,27,91)\"],[0.4392156862745098,\"rgb(177,22,88)\"],[0.5019607843137255,\"rgb(203,26,79)\"],[0.5647058823529412,\"rgb(223,47,67)\"],[0.6274509803921569,\"rgb(236,76,61)\"],[0.6901960784313725,\"rgb(242,107,73)\"],[0.7529411764705882,\"rgb(244,135,95)\"],[0.8156862745098039,\"rgb(245,162,122)\"],[0.8784313725490196,\"rgb(246,188,153)\"],[0.9411764705882353,\"rgb(247,212,187)\"],[1.0,\"rgb(250,234,220)\"]],\"sequentialminus\":[[0.0,\"rgb(2,4,25)\"],[0.06274509803921569,\"rgb(24,15,41)\"],[0.12549019607843137,\"rgb(47,23,57)\"],[0.18823529411764706,\"rgb(71,28,72)\"],[0.25098039215686274,\"rgb(97,30,82)\"],[0.3137254901960784,\"rgb(123,30,89)\"],[0.3764705882352941,\"rgb(150,27,91)\"],[0.4392156862745098,\"rgb(177,22,88)\"],[0.5019607843137255,\"rgb(203,26,79)\"],[0.5647058823529412,\"rgb(223,47,67)\"],[0.6274509803921569,\"rgb(236,76,61)\"],[0.6901960784313725,\"rgb(242,107,73)\"],[0.7529411764705882,\"rgb(244,135,95)\"],[0.8156862745098039,\"rgb(245,162,122)\"],[0.8784313725490196,\"rgb(246,188,153)\"],[0.9411764705882353,\"rgb(247,212,187)\"],[1.0,\"rgb(250,234,220)\"]]},\"colorway\":[\"rgb(76,114,176)\",\"rgb(221,132,82)\",\"rgb(85,168,104)\",\"rgb(196,78,82)\",\"rgb(129,114,179)\",\"rgb(147,120,96)\",\"rgb(218,139,195)\",\"rgb(140,140,140)\",\"rgb(204,185,116)\",\"rgb(100,181,205)\"],\"font\":{\"color\":\"rgb(36,36,36)\"},\"geo\":{\"bgcolor\":\"white\",\"lakecolor\":\"white\",\"landcolor\":\"rgb(234,234,242)\",\"showlakes\":true,\"showland\":true,\"subunitcolor\":\"white\"},\"hoverlabel\":{\"align\":\"left\"},\"hovermode\":\"closest\",\"paper_bgcolor\":\"white\",\"plot_bgcolor\":\"rgb(234,234,242)\",\"polar\":{\"angularaxis\":{\"gridcolor\":\"white\",\"linecolor\":\"white\",\"showgrid\":true,\"ticks\":\"\"},\"bgcolor\":\"rgb(234,234,242)\",\"radialaxis\":{\"gridcolor\":\"white\",\"linecolor\":\"white\",\"showgrid\":true,\"ticks\":\"\"}},\"scene\":{\"xaxis\":{\"backgroundcolor\":\"rgb(234,234,242)\",\"gridcolor\":\"white\",\"gridwidth\":2,\"linecolor\":\"white\",\"showbackground\":true,\"showgrid\":true,\"ticks\":\"\",\"zerolinecolor\":\"white\"},\"yaxis\":{\"backgroundcolor\":\"rgb(234,234,242)\",\"gridcolor\":\"white\",\"gridwidth\":2,\"linecolor\":\"white\",\"showbackground\":true,\"showgrid\":true,\"ticks\":\"\",\"zerolinecolor\":\"white\"},\"zaxis\":{\"backgroundcolor\":\"rgb(234,234,242)\",\"gridcolor\":\"white\",\"gridwidth\":2,\"linecolor\":\"white\",\"showbackground\":true,\"showgrid\":true,\"ticks\":\"\",\"zerolinecolor\":\"white\"}},\"shapedefaults\":{\"fillcolor\":\"rgb(67,103,167)\",\"line\":{\"width\":0},\"opacity\":0.5},\"ternary\":{\"aaxis\":{\"gridcolor\":\"white\",\"linecolor\":\"white\",\"showgrid\":true,\"ticks\":\"\"},\"baxis\":{\"gridcolor\":\"white\",\"linecolor\":\"white\",\"showgrid\":true,\"ticks\":\"\"},\"bgcolor\":\"rgb(234,234,242)\",\"caxis\":{\"gridcolor\":\"white\",\"linecolor\":\"white\",\"showgrid\":true,\"ticks\":\"\"}},\"xaxis\":{\"automargin\":true,\"gridcolor\":\"white\",\"linecolor\":\"white\",\"showgrid\":true,\"ticks\":\"\",\"title\":{\"standoff\":15},\"zerolinecolor\":\"white\"},\"yaxis\":{\"automargin\":true,\"gridcolor\":\"white\",\"linecolor\":\"white\",\"showgrid\":true,\"ticks\":\"\",\"title\":{\"standoff\":15},\"zerolinecolor\":\"white\"}}},\"title\":{\"text\":\"F vs 1-point Corr\"},\"xaxis\":{\"title\":{\"text\":\"1-point Corr\"}},\"yaxis\":{\"title\":{\"text\":\"F\"}}},                        {\"responsive\": true}                    ).then(function(){\n",
       "                            \n",
       "var gd = document.getElementById('d1423de4-c250-42b2-bc30-a28e880ed3ef');\n",
       "var x = new MutationObserver(function (mutations, observer) {{\n",
       "        var display = window.getComputedStyle(gd).display;\n",
       "        if (!display || display === 'none') {{\n",
       "            console.log([gd, 'removed!']);\n",
       "            Plotly.purge(gd);\n",
       "            observer.disconnect();\n",
       "        }}\n",
       "}});\n",
       "\n",
       "// Listen for the removal of the full notebook cells\n",
       "var notebookContainer = gd.closest('#notebook-container');\n",
       "if (notebookContainer) {{\n",
       "    x.observe(notebookContainer, {childList: true});\n",
       "}}\n",
       "\n",
       "// Listen for the clearing of the current output cell\n",
       "var outputEl = gd.closest('.output');\n",
       "if (outputEl) {{\n",
       "    x.observe(outputEl, {childList: true});\n",
       "}}\n",
       "\n",
       "                        })                };                });            </script>        </div>"
      ]
     },
     "metadata": {},
     "output_type": "display_data"
    }
   ],
   "source": [
    "fig = go.Figure()\n",
    "\n",
    "for T in results_uniform['T'].unique():\n",
    "    fig.add_trace(go.Scatter(x = results_uniform[results_uniform['T'] == T]['1-point_corr'],\n",
    "                             y = results_uniform[results_uniform['T'] == T]['F'],\n",
    "                             mode='markers+lines',\n",
    "                             name=f'T = {T}',\n",
    "                            )\n",
    "                 )\n",
    "\n",
    "fig.update_layout(\n",
    "    title=\"F vs 1-point Corr\",\n",
    "    xaxis_title=\"1-point Corr\",\n",
    "    yaxis_title=\"F\",\n",
    "    legend_title=\"Temperature\",\n",
    "    template='seaborn'\n",
    ")\n",
    "#fig.update_traces(texttemplate='%{text:.2s}', textposition='top center')\n",
    "fig.show()"
   ]
  },
  {
   "cell_type": "code",
   "execution_count": 35,
   "metadata": {
    "ExecuteTime": {
     "end_time": "2021-09-10T21:59:00.135446Z",
     "start_time": "2021-09-10T21:59:00.086753Z"
    }
   },
   "outputs": [
    {
     "data": {
      "application/vnd.plotly.v1+json": {
       "config": {
        "plotlyServerURL": "https://plot.ly"
       },
       "data": [
        {
         "mode": "markers+lines",
         "type": "scatter",
         "x": [
          0,
          250,
          500,
          750,
          1000,
          1250,
          1500,
          1750,
          2000,
          2250,
          2500,
          2750,
          3000,
          3250,
          3500,
          3750,
          4000,
          4250,
          4500,
          4750,
          5000
         ],
         "y": [
          -0.9716659917868193,
          -0.9798048700716406,
          -0.9806344989694009,
          -0.9691013727339148,
          -0.9908008859568225,
          -0.9999889264470343,
          -0.9967184400916769,
          -0.9978545714558422,
          -0.9468783447984008,
          -0.9167211797261992,
          -0.9379404995219431,
          -0.9910104181146575,
          -0.9890300449176532,
          -0.9640716637494995,
          -0.9983774044180913,
          -0.9031087337261046,
          -0.8306163363142098,
          -0.9655886255496751,
          -0.9883959891365441,
          -0.9730780549393343,
          -0.9515621046066791
         ]
        }
       ],
       "layout": {
        "template": {
         "data": {
          "bar": [
           {
            "error_x": {
             "color": "rgb(36,36,36)"
            },
            "error_y": {
             "color": "rgb(36,36,36)"
            },
            "marker": {
             "line": {
              "color": "rgb(234,234,242)",
              "width": 0.5
             },
             "pattern": {
              "fillmode": "overlay",
              "size": 10,
              "solidity": 0.2
             }
            },
            "type": "bar"
           }
          ],
          "barpolar": [
           {
            "marker": {
             "line": {
              "color": "rgb(234,234,242)",
              "width": 0.5
             },
             "pattern": {
              "fillmode": "overlay",
              "size": 10,
              "solidity": 0.2
             }
            },
            "type": "barpolar"
           }
          ],
          "carpet": [
           {
            "aaxis": {
             "endlinecolor": "rgb(36,36,36)",
             "gridcolor": "white",
             "linecolor": "white",
             "minorgridcolor": "white",
             "startlinecolor": "rgb(36,36,36)"
            },
            "baxis": {
             "endlinecolor": "rgb(36,36,36)",
             "gridcolor": "white",
             "linecolor": "white",
             "minorgridcolor": "white",
             "startlinecolor": "rgb(36,36,36)"
            },
            "type": "carpet"
           }
          ],
          "choropleth": [
           {
            "colorbar": {
             "outlinewidth": 0,
             "tickcolor": "rgb(36,36,36)",
             "ticklen": 8,
             "ticks": "outside",
             "tickwidth": 2
            },
            "type": "choropleth"
           }
          ],
          "contour": [
           {
            "colorbar": {
             "outlinewidth": 0,
             "tickcolor": "rgb(36,36,36)",
             "ticklen": 8,
             "ticks": "outside",
             "tickwidth": 2
            },
            "colorscale": [
             [
              0,
              "rgb(2,4,25)"
             ],
             [
              0.06274509803921569,
              "rgb(24,15,41)"
             ],
             [
              0.12549019607843137,
              "rgb(47,23,57)"
             ],
             [
              0.18823529411764706,
              "rgb(71,28,72)"
             ],
             [
              0.25098039215686274,
              "rgb(97,30,82)"
             ],
             [
              0.3137254901960784,
              "rgb(123,30,89)"
             ],
             [
              0.3764705882352941,
              "rgb(150,27,91)"
             ],
             [
              0.4392156862745098,
              "rgb(177,22,88)"
             ],
             [
              0.5019607843137255,
              "rgb(203,26,79)"
             ],
             [
              0.5647058823529412,
              "rgb(223,47,67)"
             ],
             [
              0.6274509803921569,
              "rgb(236,76,61)"
             ],
             [
              0.6901960784313725,
              "rgb(242,107,73)"
             ],
             [
              0.7529411764705882,
              "rgb(244,135,95)"
             ],
             [
              0.8156862745098039,
              "rgb(245,162,122)"
             ],
             [
              0.8784313725490196,
              "rgb(246,188,153)"
             ],
             [
              0.9411764705882353,
              "rgb(247,212,187)"
             ],
             [
              1,
              "rgb(250,234,220)"
             ]
            ],
            "type": "contour"
           }
          ],
          "contourcarpet": [
           {
            "colorbar": {
             "outlinewidth": 0,
             "tickcolor": "rgb(36,36,36)",
             "ticklen": 8,
             "ticks": "outside",
             "tickwidth": 2
            },
            "type": "contourcarpet"
           }
          ],
          "heatmap": [
           {
            "colorbar": {
             "outlinewidth": 0,
             "tickcolor": "rgb(36,36,36)",
             "ticklen": 8,
             "ticks": "outside",
             "tickwidth": 2
            },
            "colorscale": [
             [
              0,
              "rgb(2,4,25)"
             ],
             [
              0.06274509803921569,
              "rgb(24,15,41)"
             ],
             [
              0.12549019607843137,
              "rgb(47,23,57)"
             ],
             [
              0.18823529411764706,
              "rgb(71,28,72)"
             ],
             [
              0.25098039215686274,
              "rgb(97,30,82)"
             ],
             [
              0.3137254901960784,
              "rgb(123,30,89)"
             ],
             [
              0.3764705882352941,
              "rgb(150,27,91)"
             ],
             [
              0.4392156862745098,
              "rgb(177,22,88)"
             ],
             [
              0.5019607843137255,
              "rgb(203,26,79)"
             ],
             [
              0.5647058823529412,
              "rgb(223,47,67)"
             ],
             [
              0.6274509803921569,
              "rgb(236,76,61)"
             ],
             [
              0.6901960784313725,
              "rgb(242,107,73)"
             ],
             [
              0.7529411764705882,
              "rgb(244,135,95)"
             ],
             [
              0.8156862745098039,
              "rgb(245,162,122)"
             ],
             [
              0.8784313725490196,
              "rgb(246,188,153)"
             ],
             [
              0.9411764705882353,
              "rgb(247,212,187)"
             ],
             [
              1,
              "rgb(250,234,220)"
             ]
            ],
            "type": "heatmap"
           }
          ],
          "heatmapgl": [
           {
            "colorbar": {
             "outlinewidth": 0,
             "tickcolor": "rgb(36,36,36)",
             "ticklen": 8,
             "ticks": "outside",
             "tickwidth": 2
            },
            "colorscale": [
             [
              0,
              "rgb(2,4,25)"
             ],
             [
              0.06274509803921569,
              "rgb(24,15,41)"
             ],
             [
              0.12549019607843137,
              "rgb(47,23,57)"
             ],
             [
              0.18823529411764706,
              "rgb(71,28,72)"
             ],
             [
              0.25098039215686274,
              "rgb(97,30,82)"
             ],
             [
              0.3137254901960784,
              "rgb(123,30,89)"
             ],
             [
              0.3764705882352941,
              "rgb(150,27,91)"
             ],
             [
              0.4392156862745098,
              "rgb(177,22,88)"
             ],
             [
              0.5019607843137255,
              "rgb(203,26,79)"
             ],
             [
              0.5647058823529412,
              "rgb(223,47,67)"
             ],
             [
              0.6274509803921569,
              "rgb(236,76,61)"
             ],
             [
              0.6901960784313725,
              "rgb(242,107,73)"
             ],
             [
              0.7529411764705882,
              "rgb(244,135,95)"
             ],
             [
              0.8156862745098039,
              "rgb(245,162,122)"
             ],
             [
              0.8784313725490196,
              "rgb(246,188,153)"
             ],
             [
              0.9411764705882353,
              "rgb(247,212,187)"
             ],
             [
              1,
              "rgb(250,234,220)"
             ]
            ],
            "type": "heatmapgl"
           }
          ],
          "histogram": [
           {
            "marker": {
             "pattern": {
              "fillmode": "overlay",
              "size": 10,
              "solidity": 0.2
             }
            },
            "type": "histogram"
           }
          ],
          "histogram2d": [
           {
            "colorbar": {
             "outlinewidth": 0,
             "tickcolor": "rgb(36,36,36)",
             "ticklen": 8,
             "ticks": "outside",
             "tickwidth": 2
            },
            "colorscale": [
             [
              0,
              "rgb(2,4,25)"
             ],
             [
              0.06274509803921569,
              "rgb(24,15,41)"
             ],
             [
              0.12549019607843137,
              "rgb(47,23,57)"
             ],
             [
              0.18823529411764706,
              "rgb(71,28,72)"
             ],
             [
              0.25098039215686274,
              "rgb(97,30,82)"
             ],
             [
              0.3137254901960784,
              "rgb(123,30,89)"
             ],
             [
              0.3764705882352941,
              "rgb(150,27,91)"
             ],
             [
              0.4392156862745098,
              "rgb(177,22,88)"
             ],
             [
              0.5019607843137255,
              "rgb(203,26,79)"
             ],
             [
              0.5647058823529412,
              "rgb(223,47,67)"
             ],
             [
              0.6274509803921569,
              "rgb(236,76,61)"
             ],
             [
              0.6901960784313725,
              "rgb(242,107,73)"
             ],
             [
              0.7529411764705882,
              "rgb(244,135,95)"
             ],
             [
              0.8156862745098039,
              "rgb(245,162,122)"
             ],
             [
              0.8784313725490196,
              "rgb(246,188,153)"
             ],
             [
              0.9411764705882353,
              "rgb(247,212,187)"
             ],
             [
              1,
              "rgb(250,234,220)"
             ]
            ],
            "type": "histogram2d"
           }
          ],
          "histogram2dcontour": [
           {
            "colorbar": {
             "outlinewidth": 0,
             "tickcolor": "rgb(36,36,36)",
             "ticklen": 8,
             "ticks": "outside",
             "tickwidth": 2
            },
            "colorscale": [
             [
              0,
              "rgb(2,4,25)"
             ],
             [
              0.06274509803921569,
              "rgb(24,15,41)"
             ],
             [
              0.12549019607843137,
              "rgb(47,23,57)"
             ],
             [
              0.18823529411764706,
              "rgb(71,28,72)"
             ],
             [
              0.25098039215686274,
              "rgb(97,30,82)"
             ],
             [
              0.3137254901960784,
              "rgb(123,30,89)"
             ],
             [
              0.3764705882352941,
              "rgb(150,27,91)"
             ],
             [
              0.4392156862745098,
              "rgb(177,22,88)"
             ],
             [
              0.5019607843137255,
              "rgb(203,26,79)"
             ],
             [
              0.5647058823529412,
              "rgb(223,47,67)"
             ],
             [
              0.6274509803921569,
              "rgb(236,76,61)"
             ],
             [
              0.6901960784313725,
              "rgb(242,107,73)"
             ],
             [
              0.7529411764705882,
              "rgb(244,135,95)"
             ],
             [
              0.8156862745098039,
              "rgb(245,162,122)"
             ],
             [
              0.8784313725490196,
              "rgb(246,188,153)"
             ],
             [
              0.9411764705882353,
              "rgb(247,212,187)"
             ],
             [
              1,
              "rgb(250,234,220)"
             ]
            ],
            "type": "histogram2dcontour"
           }
          ],
          "mesh3d": [
           {
            "colorbar": {
             "outlinewidth": 0,
             "tickcolor": "rgb(36,36,36)",
             "ticklen": 8,
             "ticks": "outside",
             "tickwidth": 2
            },
            "type": "mesh3d"
           }
          ],
          "parcoords": [
           {
            "line": {
             "colorbar": {
              "outlinewidth": 0,
              "tickcolor": "rgb(36,36,36)",
              "ticklen": 8,
              "ticks": "outside",
              "tickwidth": 2
             }
            },
            "type": "parcoords"
           }
          ],
          "pie": [
           {
            "automargin": true,
            "type": "pie"
           }
          ],
          "scatter": [
           {
            "marker": {
             "colorbar": {
              "outlinewidth": 0,
              "tickcolor": "rgb(36,36,36)",
              "ticklen": 8,
              "ticks": "outside",
              "tickwidth": 2
             }
            },
            "type": "scatter"
           }
          ],
          "scatter3d": [
           {
            "line": {
             "colorbar": {
              "outlinewidth": 0,
              "tickcolor": "rgb(36,36,36)",
              "ticklen": 8,
              "ticks": "outside",
              "tickwidth": 2
             }
            },
            "marker": {
             "colorbar": {
              "outlinewidth": 0,
              "tickcolor": "rgb(36,36,36)",
              "ticklen": 8,
              "ticks": "outside",
              "tickwidth": 2
             }
            },
            "type": "scatter3d"
           }
          ],
          "scattercarpet": [
           {
            "marker": {
             "colorbar": {
              "outlinewidth": 0,
              "tickcolor": "rgb(36,36,36)",
              "ticklen": 8,
              "ticks": "outside",
              "tickwidth": 2
             }
            },
            "type": "scattercarpet"
           }
          ],
          "scattergeo": [
           {
            "marker": {
             "colorbar": {
              "outlinewidth": 0,
              "tickcolor": "rgb(36,36,36)",
              "ticklen": 8,
              "ticks": "outside",
              "tickwidth": 2
             }
            },
            "type": "scattergeo"
           }
          ],
          "scattergl": [
           {
            "marker": {
             "colorbar": {
              "outlinewidth": 0,
              "tickcolor": "rgb(36,36,36)",
              "ticklen": 8,
              "ticks": "outside",
              "tickwidth": 2
             }
            },
            "type": "scattergl"
           }
          ],
          "scattermapbox": [
           {
            "marker": {
             "colorbar": {
              "outlinewidth": 0,
              "tickcolor": "rgb(36,36,36)",
              "ticklen": 8,
              "ticks": "outside",
              "tickwidth": 2
             }
            },
            "type": "scattermapbox"
           }
          ],
          "scatterpolar": [
           {
            "marker": {
             "colorbar": {
              "outlinewidth": 0,
              "tickcolor": "rgb(36,36,36)",
              "ticklen": 8,
              "ticks": "outside",
              "tickwidth": 2
             }
            },
            "type": "scatterpolar"
           }
          ],
          "scatterpolargl": [
           {
            "marker": {
             "colorbar": {
              "outlinewidth": 0,
              "tickcolor": "rgb(36,36,36)",
              "ticklen": 8,
              "ticks": "outside",
              "tickwidth": 2
             }
            },
            "type": "scatterpolargl"
           }
          ],
          "scatterternary": [
           {
            "marker": {
             "colorbar": {
              "outlinewidth": 0,
              "tickcolor": "rgb(36,36,36)",
              "ticklen": 8,
              "ticks": "outside",
              "tickwidth": 2
             }
            },
            "type": "scatterternary"
           }
          ],
          "surface": [
           {
            "colorbar": {
             "outlinewidth": 0,
             "tickcolor": "rgb(36,36,36)",
             "ticklen": 8,
             "ticks": "outside",
             "tickwidth": 2
            },
            "colorscale": [
             [
              0,
              "rgb(2,4,25)"
             ],
             [
              0.06274509803921569,
              "rgb(24,15,41)"
             ],
             [
              0.12549019607843137,
              "rgb(47,23,57)"
             ],
             [
              0.18823529411764706,
              "rgb(71,28,72)"
             ],
             [
              0.25098039215686274,
              "rgb(97,30,82)"
             ],
             [
              0.3137254901960784,
              "rgb(123,30,89)"
             ],
             [
              0.3764705882352941,
              "rgb(150,27,91)"
             ],
             [
              0.4392156862745098,
              "rgb(177,22,88)"
             ],
             [
              0.5019607843137255,
              "rgb(203,26,79)"
             ],
             [
              0.5647058823529412,
              "rgb(223,47,67)"
             ],
             [
              0.6274509803921569,
              "rgb(236,76,61)"
             ],
             [
              0.6901960784313725,
              "rgb(242,107,73)"
             ],
             [
              0.7529411764705882,
              "rgb(244,135,95)"
             ],
             [
              0.8156862745098039,
              "rgb(245,162,122)"
             ],
             [
              0.8784313725490196,
              "rgb(246,188,153)"
             ],
             [
              0.9411764705882353,
              "rgb(247,212,187)"
             ],
             [
              1,
              "rgb(250,234,220)"
             ]
            ],
            "type": "surface"
           }
          ],
          "table": [
           {
            "cells": {
             "fill": {
              "color": "rgb(231,231,240)"
             },
             "line": {
              "color": "white"
             }
            },
            "header": {
             "fill": {
              "color": "rgb(183,183,191)"
             },
             "line": {
              "color": "white"
             }
            },
            "type": "table"
           }
          ]
         },
         "layout": {
          "annotationdefaults": {
           "arrowcolor": "rgb(67,103,167)"
          },
          "autotypenumbers": "strict",
          "coloraxis": {
           "colorbar": {
            "outlinewidth": 0,
            "tickcolor": "rgb(36,36,36)",
            "ticklen": 8,
            "ticks": "outside",
            "tickwidth": 2
           }
          },
          "colorscale": {
           "sequential": [
            [
             0,
             "rgb(2,4,25)"
            ],
            [
             0.06274509803921569,
             "rgb(24,15,41)"
            ],
            [
             0.12549019607843137,
             "rgb(47,23,57)"
            ],
            [
             0.18823529411764706,
             "rgb(71,28,72)"
            ],
            [
             0.25098039215686274,
             "rgb(97,30,82)"
            ],
            [
             0.3137254901960784,
             "rgb(123,30,89)"
            ],
            [
             0.3764705882352941,
             "rgb(150,27,91)"
            ],
            [
             0.4392156862745098,
             "rgb(177,22,88)"
            ],
            [
             0.5019607843137255,
             "rgb(203,26,79)"
            ],
            [
             0.5647058823529412,
             "rgb(223,47,67)"
            ],
            [
             0.6274509803921569,
             "rgb(236,76,61)"
            ],
            [
             0.6901960784313725,
             "rgb(242,107,73)"
            ],
            [
             0.7529411764705882,
             "rgb(244,135,95)"
            ],
            [
             0.8156862745098039,
             "rgb(245,162,122)"
            ],
            [
             0.8784313725490196,
             "rgb(246,188,153)"
            ],
            [
             0.9411764705882353,
             "rgb(247,212,187)"
            ],
            [
             1,
             "rgb(250,234,220)"
            ]
           ],
           "sequentialminus": [
            [
             0,
             "rgb(2,4,25)"
            ],
            [
             0.06274509803921569,
             "rgb(24,15,41)"
            ],
            [
             0.12549019607843137,
             "rgb(47,23,57)"
            ],
            [
             0.18823529411764706,
             "rgb(71,28,72)"
            ],
            [
             0.25098039215686274,
             "rgb(97,30,82)"
            ],
            [
             0.3137254901960784,
             "rgb(123,30,89)"
            ],
            [
             0.3764705882352941,
             "rgb(150,27,91)"
            ],
            [
             0.4392156862745098,
             "rgb(177,22,88)"
            ],
            [
             0.5019607843137255,
             "rgb(203,26,79)"
            ],
            [
             0.5647058823529412,
             "rgb(223,47,67)"
            ],
            [
             0.6274509803921569,
             "rgb(236,76,61)"
            ],
            [
             0.6901960784313725,
             "rgb(242,107,73)"
            ],
            [
             0.7529411764705882,
             "rgb(244,135,95)"
            ],
            [
             0.8156862745098039,
             "rgb(245,162,122)"
            ],
            [
             0.8784313725490196,
             "rgb(246,188,153)"
            ],
            [
             0.9411764705882353,
             "rgb(247,212,187)"
            ],
            [
             1,
             "rgb(250,234,220)"
            ]
           ]
          },
          "colorway": [
           "rgb(76,114,176)",
           "rgb(221,132,82)",
           "rgb(85,168,104)",
           "rgb(196,78,82)",
           "rgb(129,114,179)",
           "rgb(147,120,96)",
           "rgb(218,139,195)",
           "rgb(140,140,140)",
           "rgb(204,185,116)",
           "rgb(100,181,205)"
          ],
          "font": {
           "color": "rgb(36,36,36)"
          },
          "geo": {
           "bgcolor": "white",
           "lakecolor": "white",
           "landcolor": "rgb(234,234,242)",
           "showlakes": true,
           "showland": true,
           "subunitcolor": "white"
          },
          "hoverlabel": {
           "align": "left"
          },
          "hovermode": "closest",
          "paper_bgcolor": "white",
          "plot_bgcolor": "rgb(234,234,242)",
          "polar": {
           "angularaxis": {
            "gridcolor": "white",
            "linecolor": "white",
            "showgrid": true,
            "ticks": ""
           },
           "bgcolor": "rgb(234,234,242)",
           "radialaxis": {
            "gridcolor": "white",
            "linecolor": "white",
            "showgrid": true,
            "ticks": ""
           }
          },
          "scene": {
           "xaxis": {
            "backgroundcolor": "rgb(234,234,242)",
            "gridcolor": "white",
            "gridwidth": 2,
            "linecolor": "white",
            "showbackground": true,
            "showgrid": true,
            "ticks": "",
            "zerolinecolor": "white"
           },
           "yaxis": {
            "backgroundcolor": "rgb(234,234,242)",
            "gridcolor": "white",
            "gridwidth": 2,
            "linecolor": "white",
            "showbackground": true,
            "showgrid": true,
            "ticks": "",
            "zerolinecolor": "white"
           },
           "zaxis": {
            "backgroundcolor": "rgb(234,234,242)",
            "gridcolor": "white",
            "gridwidth": 2,
            "linecolor": "white",
            "showbackground": true,
            "showgrid": true,
            "ticks": "",
            "zerolinecolor": "white"
           }
          },
          "shapedefaults": {
           "fillcolor": "rgb(67,103,167)",
           "line": {
            "width": 0
           },
           "opacity": 0.5
          },
          "ternary": {
           "aaxis": {
            "gridcolor": "white",
            "linecolor": "white",
            "showgrid": true,
            "ticks": ""
           },
           "baxis": {
            "gridcolor": "white",
            "linecolor": "white",
            "showgrid": true,
            "ticks": ""
           },
           "bgcolor": "rgb(234,234,242)",
           "caxis": {
            "gridcolor": "white",
            "linecolor": "white",
            "showgrid": true,
            "ticks": ""
           }
          },
          "xaxis": {
           "automargin": true,
           "gridcolor": "white",
           "linecolor": "white",
           "showgrid": true,
           "ticks": "",
           "title": {
            "standoff": 15
           },
           "zerolinecolor": "white"
          },
          "yaxis": {
           "automargin": true,
           "gridcolor": "white",
           "linecolor": "white",
           "showgrid": true,
           "ticks": "",
           "title": {
            "standoff": 15
           },
           "zerolinecolor": "white"
          }
         }
        },
        "title": {
         "text": "T vs 2-point Corr"
        },
        "xaxis": {
         "title": {
          "text": "T"
         }
        },
        "yaxis": {
         "title": {
          "text": "2-point Corr"
         }
        }
       }
      },
      "text/html": [
       "<div>                            <div id=\"c7c84b5a-67c8-400f-832e-83b0f1f9e856\" class=\"plotly-graph-div\" style=\"height:525px; width:100%;\"></div>            <script type=\"text/javascript\">                require([\"plotly\"], function(Plotly) {                    window.PLOTLYENV=window.PLOTLYENV || {};                                    if (document.getElementById(\"c7c84b5a-67c8-400f-832e-83b0f1f9e856\")) {                    Plotly.newPlot(                        \"c7c84b5a-67c8-400f-832e-83b0f1f9e856\",                        [{\"mode\":\"markers+lines\",\"type\":\"scatter\",\"x\":[0.0,250.0,500.0,750.0,1000.0,1250.0,1500.0,1750.0,2000.0,2250.0,2500.0,2750.0,3000.0,3250.0,3500.0,3750.0,4000.0,4250.0,4500.0,4750.0,5000.0],\"y\":[-0.9716659917868193,-0.9798048700716406,-0.9806344989694009,-0.9691013727339148,-0.9908008859568225,-0.9999889264470343,-0.9967184400916769,-0.9978545714558422,-0.9468783447984008,-0.9167211797261992,-0.9379404995219431,-0.9910104181146575,-0.9890300449176532,-0.9640716637494995,-0.9983774044180913,-0.9031087337261046,-0.8306163363142098,-0.9655886255496751,-0.9883959891365441,-0.9730780549393343,-0.9515621046066791]}],                        {\"template\":{\"data\":{\"bar\":[{\"error_x\":{\"color\":\"rgb(36,36,36)\"},\"error_y\":{\"color\":\"rgb(36,36,36)\"},\"marker\":{\"line\":{\"color\":\"rgb(234,234,242)\",\"width\":0.5},\"pattern\":{\"fillmode\":\"overlay\",\"size\":10,\"solidity\":0.2}},\"type\":\"bar\"}],\"barpolar\":[{\"marker\":{\"line\":{\"color\":\"rgb(234,234,242)\",\"width\":0.5},\"pattern\":{\"fillmode\":\"overlay\",\"size\":10,\"solidity\":0.2}},\"type\":\"barpolar\"}],\"carpet\":[{\"aaxis\":{\"endlinecolor\":\"rgb(36,36,36)\",\"gridcolor\":\"white\",\"linecolor\":\"white\",\"minorgridcolor\":\"white\",\"startlinecolor\":\"rgb(36,36,36)\"},\"baxis\":{\"endlinecolor\":\"rgb(36,36,36)\",\"gridcolor\":\"white\",\"linecolor\":\"white\",\"minorgridcolor\":\"white\",\"startlinecolor\":\"rgb(36,36,36)\"},\"type\":\"carpet\"}],\"choropleth\":[{\"colorbar\":{\"outlinewidth\":0,\"tickcolor\":\"rgb(36,36,36)\",\"ticklen\":8,\"ticks\":\"outside\",\"tickwidth\":2},\"type\":\"choropleth\"}],\"contour\":[{\"colorbar\":{\"outlinewidth\":0,\"tickcolor\":\"rgb(36,36,36)\",\"ticklen\":8,\"ticks\":\"outside\",\"tickwidth\":2},\"colorscale\":[[0.0,\"rgb(2,4,25)\"],[0.06274509803921569,\"rgb(24,15,41)\"],[0.12549019607843137,\"rgb(47,23,57)\"],[0.18823529411764706,\"rgb(71,28,72)\"],[0.25098039215686274,\"rgb(97,30,82)\"],[0.3137254901960784,\"rgb(123,30,89)\"],[0.3764705882352941,\"rgb(150,27,91)\"],[0.4392156862745098,\"rgb(177,22,88)\"],[0.5019607843137255,\"rgb(203,26,79)\"],[0.5647058823529412,\"rgb(223,47,67)\"],[0.6274509803921569,\"rgb(236,76,61)\"],[0.6901960784313725,\"rgb(242,107,73)\"],[0.7529411764705882,\"rgb(244,135,95)\"],[0.8156862745098039,\"rgb(245,162,122)\"],[0.8784313725490196,\"rgb(246,188,153)\"],[0.9411764705882353,\"rgb(247,212,187)\"],[1.0,\"rgb(250,234,220)\"]],\"type\":\"contour\"}],\"contourcarpet\":[{\"colorbar\":{\"outlinewidth\":0,\"tickcolor\":\"rgb(36,36,36)\",\"ticklen\":8,\"ticks\":\"outside\",\"tickwidth\":2},\"type\":\"contourcarpet\"}],\"heatmap\":[{\"colorbar\":{\"outlinewidth\":0,\"tickcolor\":\"rgb(36,36,36)\",\"ticklen\":8,\"ticks\":\"outside\",\"tickwidth\":2},\"colorscale\":[[0.0,\"rgb(2,4,25)\"],[0.06274509803921569,\"rgb(24,15,41)\"],[0.12549019607843137,\"rgb(47,23,57)\"],[0.18823529411764706,\"rgb(71,28,72)\"],[0.25098039215686274,\"rgb(97,30,82)\"],[0.3137254901960784,\"rgb(123,30,89)\"],[0.3764705882352941,\"rgb(150,27,91)\"],[0.4392156862745098,\"rgb(177,22,88)\"],[0.5019607843137255,\"rgb(203,26,79)\"],[0.5647058823529412,\"rgb(223,47,67)\"],[0.6274509803921569,\"rgb(236,76,61)\"],[0.6901960784313725,\"rgb(242,107,73)\"],[0.7529411764705882,\"rgb(244,135,95)\"],[0.8156862745098039,\"rgb(245,162,122)\"],[0.8784313725490196,\"rgb(246,188,153)\"],[0.9411764705882353,\"rgb(247,212,187)\"],[1.0,\"rgb(250,234,220)\"]],\"type\":\"heatmap\"}],\"heatmapgl\":[{\"colorbar\":{\"outlinewidth\":0,\"tickcolor\":\"rgb(36,36,36)\",\"ticklen\":8,\"ticks\":\"outside\",\"tickwidth\":2},\"colorscale\":[[0.0,\"rgb(2,4,25)\"],[0.06274509803921569,\"rgb(24,15,41)\"],[0.12549019607843137,\"rgb(47,23,57)\"],[0.18823529411764706,\"rgb(71,28,72)\"],[0.25098039215686274,\"rgb(97,30,82)\"],[0.3137254901960784,\"rgb(123,30,89)\"],[0.3764705882352941,\"rgb(150,27,91)\"],[0.4392156862745098,\"rgb(177,22,88)\"],[0.5019607843137255,\"rgb(203,26,79)\"],[0.5647058823529412,\"rgb(223,47,67)\"],[0.6274509803921569,\"rgb(236,76,61)\"],[0.6901960784313725,\"rgb(242,107,73)\"],[0.7529411764705882,\"rgb(244,135,95)\"],[0.8156862745098039,\"rgb(245,162,122)\"],[0.8784313725490196,\"rgb(246,188,153)\"],[0.9411764705882353,\"rgb(247,212,187)\"],[1.0,\"rgb(250,234,220)\"]],\"type\":\"heatmapgl\"}],\"histogram\":[{\"marker\":{\"pattern\":{\"fillmode\":\"overlay\",\"size\":10,\"solidity\":0.2}},\"type\":\"histogram\"}],\"histogram2d\":[{\"colorbar\":{\"outlinewidth\":0,\"tickcolor\":\"rgb(36,36,36)\",\"ticklen\":8,\"ticks\":\"outside\",\"tickwidth\":2},\"colorscale\":[[0.0,\"rgb(2,4,25)\"],[0.06274509803921569,\"rgb(24,15,41)\"],[0.12549019607843137,\"rgb(47,23,57)\"],[0.18823529411764706,\"rgb(71,28,72)\"],[0.25098039215686274,\"rgb(97,30,82)\"],[0.3137254901960784,\"rgb(123,30,89)\"],[0.3764705882352941,\"rgb(150,27,91)\"],[0.4392156862745098,\"rgb(177,22,88)\"],[0.5019607843137255,\"rgb(203,26,79)\"],[0.5647058823529412,\"rgb(223,47,67)\"],[0.6274509803921569,\"rgb(236,76,61)\"],[0.6901960784313725,\"rgb(242,107,73)\"],[0.7529411764705882,\"rgb(244,135,95)\"],[0.8156862745098039,\"rgb(245,162,122)\"],[0.8784313725490196,\"rgb(246,188,153)\"],[0.9411764705882353,\"rgb(247,212,187)\"],[1.0,\"rgb(250,234,220)\"]],\"type\":\"histogram2d\"}],\"histogram2dcontour\":[{\"colorbar\":{\"outlinewidth\":0,\"tickcolor\":\"rgb(36,36,36)\",\"ticklen\":8,\"ticks\":\"outside\",\"tickwidth\":2},\"colorscale\":[[0.0,\"rgb(2,4,25)\"],[0.06274509803921569,\"rgb(24,15,41)\"],[0.12549019607843137,\"rgb(47,23,57)\"],[0.18823529411764706,\"rgb(71,28,72)\"],[0.25098039215686274,\"rgb(97,30,82)\"],[0.3137254901960784,\"rgb(123,30,89)\"],[0.3764705882352941,\"rgb(150,27,91)\"],[0.4392156862745098,\"rgb(177,22,88)\"],[0.5019607843137255,\"rgb(203,26,79)\"],[0.5647058823529412,\"rgb(223,47,67)\"],[0.6274509803921569,\"rgb(236,76,61)\"],[0.6901960784313725,\"rgb(242,107,73)\"],[0.7529411764705882,\"rgb(244,135,95)\"],[0.8156862745098039,\"rgb(245,162,122)\"],[0.8784313725490196,\"rgb(246,188,153)\"],[0.9411764705882353,\"rgb(247,212,187)\"],[1.0,\"rgb(250,234,220)\"]],\"type\":\"histogram2dcontour\"}],\"mesh3d\":[{\"colorbar\":{\"outlinewidth\":0,\"tickcolor\":\"rgb(36,36,36)\",\"ticklen\":8,\"ticks\":\"outside\",\"tickwidth\":2},\"type\":\"mesh3d\"}],\"parcoords\":[{\"line\":{\"colorbar\":{\"outlinewidth\":0,\"tickcolor\":\"rgb(36,36,36)\",\"ticklen\":8,\"ticks\":\"outside\",\"tickwidth\":2}},\"type\":\"parcoords\"}],\"pie\":[{\"automargin\":true,\"type\":\"pie\"}],\"scatter\":[{\"marker\":{\"colorbar\":{\"outlinewidth\":0,\"tickcolor\":\"rgb(36,36,36)\",\"ticklen\":8,\"ticks\":\"outside\",\"tickwidth\":2}},\"type\":\"scatter\"}],\"scatter3d\":[{\"line\":{\"colorbar\":{\"outlinewidth\":0,\"tickcolor\":\"rgb(36,36,36)\",\"ticklen\":8,\"ticks\":\"outside\",\"tickwidth\":2}},\"marker\":{\"colorbar\":{\"outlinewidth\":0,\"tickcolor\":\"rgb(36,36,36)\",\"ticklen\":8,\"ticks\":\"outside\",\"tickwidth\":2}},\"type\":\"scatter3d\"}],\"scattercarpet\":[{\"marker\":{\"colorbar\":{\"outlinewidth\":0,\"tickcolor\":\"rgb(36,36,36)\",\"ticklen\":8,\"ticks\":\"outside\",\"tickwidth\":2}},\"type\":\"scattercarpet\"}],\"scattergeo\":[{\"marker\":{\"colorbar\":{\"outlinewidth\":0,\"tickcolor\":\"rgb(36,36,36)\",\"ticklen\":8,\"ticks\":\"outside\",\"tickwidth\":2}},\"type\":\"scattergeo\"}],\"scattergl\":[{\"marker\":{\"colorbar\":{\"outlinewidth\":0,\"tickcolor\":\"rgb(36,36,36)\",\"ticklen\":8,\"ticks\":\"outside\",\"tickwidth\":2}},\"type\":\"scattergl\"}],\"scattermapbox\":[{\"marker\":{\"colorbar\":{\"outlinewidth\":0,\"tickcolor\":\"rgb(36,36,36)\",\"ticklen\":8,\"ticks\":\"outside\",\"tickwidth\":2}},\"type\":\"scattermapbox\"}],\"scatterpolar\":[{\"marker\":{\"colorbar\":{\"outlinewidth\":0,\"tickcolor\":\"rgb(36,36,36)\",\"ticklen\":8,\"ticks\":\"outside\",\"tickwidth\":2}},\"type\":\"scatterpolar\"}],\"scatterpolargl\":[{\"marker\":{\"colorbar\":{\"outlinewidth\":0,\"tickcolor\":\"rgb(36,36,36)\",\"ticklen\":8,\"ticks\":\"outside\",\"tickwidth\":2}},\"type\":\"scatterpolargl\"}],\"scatterternary\":[{\"marker\":{\"colorbar\":{\"outlinewidth\":0,\"tickcolor\":\"rgb(36,36,36)\",\"ticklen\":8,\"ticks\":\"outside\",\"tickwidth\":2}},\"type\":\"scatterternary\"}],\"surface\":[{\"colorbar\":{\"outlinewidth\":0,\"tickcolor\":\"rgb(36,36,36)\",\"ticklen\":8,\"ticks\":\"outside\",\"tickwidth\":2},\"colorscale\":[[0.0,\"rgb(2,4,25)\"],[0.06274509803921569,\"rgb(24,15,41)\"],[0.12549019607843137,\"rgb(47,23,57)\"],[0.18823529411764706,\"rgb(71,28,72)\"],[0.25098039215686274,\"rgb(97,30,82)\"],[0.3137254901960784,\"rgb(123,30,89)\"],[0.3764705882352941,\"rgb(150,27,91)\"],[0.4392156862745098,\"rgb(177,22,88)\"],[0.5019607843137255,\"rgb(203,26,79)\"],[0.5647058823529412,\"rgb(223,47,67)\"],[0.6274509803921569,\"rgb(236,76,61)\"],[0.6901960784313725,\"rgb(242,107,73)\"],[0.7529411764705882,\"rgb(244,135,95)\"],[0.8156862745098039,\"rgb(245,162,122)\"],[0.8784313725490196,\"rgb(246,188,153)\"],[0.9411764705882353,\"rgb(247,212,187)\"],[1.0,\"rgb(250,234,220)\"]],\"type\":\"surface\"}],\"table\":[{\"cells\":{\"fill\":{\"color\":\"rgb(231,231,240)\"},\"line\":{\"color\":\"white\"}},\"header\":{\"fill\":{\"color\":\"rgb(183,183,191)\"},\"line\":{\"color\":\"white\"}},\"type\":\"table\"}]},\"layout\":{\"annotationdefaults\":{\"arrowcolor\":\"rgb(67,103,167)\"},\"autotypenumbers\":\"strict\",\"coloraxis\":{\"colorbar\":{\"outlinewidth\":0,\"tickcolor\":\"rgb(36,36,36)\",\"ticklen\":8,\"ticks\":\"outside\",\"tickwidth\":2}},\"colorscale\":{\"sequential\":[[0.0,\"rgb(2,4,25)\"],[0.06274509803921569,\"rgb(24,15,41)\"],[0.12549019607843137,\"rgb(47,23,57)\"],[0.18823529411764706,\"rgb(71,28,72)\"],[0.25098039215686274,\"rgb(97,30,82)\"],[0.3137254901960784,\"rgb(123,30,89)\"],[0.3764705882352941,\"rgb(150,27,91)\"],[0.4392156862745098,\"rgb(177,22,88)\"],[0.5019607843137255,\"rgb(203,26,79)\"],[0.5647058823529412,\"rgb(223,47,67)\"],[0.6274509803921569,\"rgb(236,76,61)\"],[0.6901960784313725,\"rgb(242,107,73)\"],[0.7529411764705882,\"rgb(244,135,95)\"],[0.8156862745098039,\"rgb(245,162,122)\"],[0.8784313725490196,\"rgb(246,188,153)\"],[0.9411764705882353,\"rgb(247,212,187)\"],[1.0,\"rgb(250,234,220)\"]],\"sequentialminus\":[[0.0,\"rgb(2,4,25)\"],[0.06274509803921569,\"rgb(24,15,41)\"],[0.12549019607843137,\"rgb(47,23,57)\"],[0.18823529411764706,\"rgb(71,28,72)\"],[0.25098039215686274,\"rgb(97,30,82)\"],[0.3137254901960784,\"rgb(123,30,89)\"],[0.3764705882352941,\"rgb(150,27,91)\"],[0.4392156862745098,\"rgb(177,22,88)\"],[0.5019607843137255,\"rgb(203,26,79)\"],[0.5647058823529412,\"rgb(223,47,67)\"],[0.6274509803921569,\"rgb(236,76,61)\"],[0.6901960784313725,\"rgb(242,107,73)\"],[0.7529411764705882,\"rgb(244,135,95)\"],[0.8156862745098039,\"rgb(245,162,122)\"],[0.8784313725490196,\"rgb(246,188,153)\"],[0.9411764705882353,\"rgb(247,212,187)\"],[1.0,\"rgb(250,234,220)\"]]},\"colorway\":[\"rgb(76,114,176)\",\"rgb(221,132,82)\",\"rgb(85,168,104)\",\"rgb(196,78,82)\",\"rgb(129,114,179)\",\"rgb(147,120,96)\",\"rgb(218,139,195)\",\"rgb(140,140,140)\",\"rgb(204,185,116)\",\"rgb(100,181,205)\"],\"font\":{\"color\":\"rgb(36,36,36)\"},\"geo\":{\"bgcolor\":\"white\",\"lakecolor\":\"white\",\"landcolor\":\"rgb(234,234,242)\",\"showlakes\":true,\"showland\":true,\"subunitcolor\":\"white\"},\"hoverlabel\":{\"align\":\"left\"},\"hovermode\":\"closest\",\"paper_bgcolor\":\"white\",\"plot_bgcolor\":\"rgb(234,234,242)\",\"polar\":{\"angularaxis\":{\"gridcolor\":\"white\",\"linecolor\":\"white\",\"showgrid\":true,\"ticks\":\"\"},\"bgcolor\":\"rgb(234,234,242)\",\"radialaxis\":{\"gridcolor\":\"white\",\"linecolor\":\"white\",\"showgrid\":true,\"ticks\":\"\"}},\"scene\":{\"xaxis\":{\"backgroundcolor\":\"rgb(234,234,242)\",\"gridcolor\":\"white\",\"gridwidth\":2,\"linecolor\":\"white\",\"showbackground\":true,\"showgrid\":true,\"ticks\":\"\",\"zerolinecolor\":\"white\"},\"yaxis\":{\"backgroundcolor\":\"rgb(234,234,242)\",\"gridcolor\":\"white\",\"gridwidth\":2,\"linecolor\":\"white\",\"showbackground\":true,\"showgrid\":true,\"ticks\":\"\",\"zerolinecolor\":\"white\"},\"zaxis\":{\"backgroundcolor\":\"rgb(234,234,242)\",\"gridcolor\":\"white\",\"gridwidth\":2,\"linecolor\":\"white\",\"showbackground\":true,\"showgrid\":true,\"ticks\":\"\",\"zerolinecolor\":\"white\"}},\"shapedefaults\":{\"fillcolor\":\"rgb(67,103,167)\",\"line\":{\"width\":0},\"opacity\":0.5},\"ternary\":{\"aaxis\":{\"gridcolor\":\"white\",\"linecolor\":\"white\",\"showgrid\":true,\"ticks\":\"\"},\"baxis\":{\"gridcolor\":\"white\",\"linecolor\":\"white\",\"showgrid\":true,\"ticks\":\"\"},\"bgcolor\":\"rgb(234,234,242)\",\"caxis\":{\"gridcolor\":\"white\",\"linecolor\":\"white\",\"showgrid\":true,\"ticks\":\"\"}},\"xaxis\":{\"automargin\":true,\"gridcolor\":\"white\",\"linecolor\":\"white\",\"showgrid\":true,\"ticks\":\"\",\"title\":{\"standoff\":15},\"zerolinecolor\":\"white\"},\"yaxis\":{\"automargin\":true,\"gridcolor\":\"white\",\"linecolor\":\"white\",\"showgrid\":true,\"ticks\":\"\",\"title\":{\"standoff\":15},\"zerolinecolor\":\"white\"}}},\"title\":{\"text\":\"T vs 2-point Corr\"},\"xaxis\":{\"title\":{\"text\":\"T\"}},\"yaxis\":{\"title\":{\"text\":\"2-point Corr\"}}},                        {\"responsive\": true}                    ).then(function(){\n",
       "                            \n",
       "var gd = document.getElementById('c7c84b5a-67c8-400f-832e-83b0f1f9e856');\n",
       "var x = new MutationObserver(function (mutations, observer) {{\n",
       "        var display = window.getComputedStyle(gd).display;\n",
       "        if (!display || display === 'none') {{\n",
       "            console.log([gd, 'removed!']);\n",
       "            Plotly.purge(gd);\n",
       "            observer.disconnect();\n",
       "        }}\n",
       "}});\n",
       "\n",
       "// Listen for the removal of the full notebook cells\n",
       "var notebookContainer = gd.closest('#notebook-container');\n",
       "if (notebookContainer) {{\n",
       "    x.observe(notebookContainer, {childList: true});\n",
       "}}\n",
       "\n",
       "// Listen for the clearing of the current output cell\n",
       "var outputEl = gd.closest('.output');\n",
       "if (outputEl) {{\n",
       "    x.observe(outputEl, {childList: true});\n",
       "}}\n",
       "\n",
       "                        })                };                });            </script>        </div>"
      ]
     },
     "metadata": {},
     "output_type": "display_data"
    }
   ],
   "source": [
    "fig = go.Figure()\n",
    "\n",
    "fig.add_trace(go.Scatter(x = results_uniform[results_uniform['1-point_corr'] == 0.0]['T'],\n",
    "                         y = results_uniform[results_uniform['1-point_corr'] == 0.0]['corrs'].str[2],\n",
    "                         mode='markers+lines',\n",
    "                        )\n",
    "             )\n",
    "\n",
    "fig.update_layout(\n",
    "    title=\"T vs 2-point Corr\",\n",
    "    xaxis_title=\"T\",\n",
    "    yaxis_title=\"2-point Corr\",\n",
    "    template='seaborn'\n",
    ")\n",
    "#fig.update_traces(texttemplate='%{text:.2s}', textposition='top center')\n",
    "fig.show()"
   ]
  },
  {
   "cell_type": "code",
   "execution_count": null,
   "metadata": {},
   "outputs": [],
   "source": []
  }
 ],
 "metadata": {
  "kernelspec": {
   "display_name": "Python 3",
   "language": "python",
   "name": "python3"
  },
  "language_info": {
   "codemirror_mode": {
    "name": "ipython",
    "version": 3
   },
   "file_extension": ".py",
   "mimetype": "text/x-python",
   "name": "python",
   "nbconvert_exporter": "python",
   "pygments_lexer": "ipython3",
   "version": "3.8.10"
  },
  "toc": {
   "base_numbering": 1,
   "nav_menu": {},
   "number_sections": true,
   "sideBar": true,
   "skip_h1_title": false,
   "title_cell": "Table of Contents",
   "title_sidebar": "Contents",
   "toc_cell": false,
   "toc_position": {},
   "toc_section_display": true,
   "toc_window_display": false
  },
  "varInspector": {
   "cols": {
    "lenName": 16,
    "lenType": 16,
    "lenVar": 40
   },
   "kernels_config": {
    "python": {
     "delete_cmd_postfix": "",
     "delete_cmd_prefix": "del ",
     "library": "var_list.py",
     "varRefreshCmd": "print(var_dic_list())"
    },
    "r": {
     "delete_cmd_postfix": ") ",
     "delete_cmd_prefix": "rm(",
     "library": "var_list.r",
     "varRefreshCmd": "cat(var_dic_list()) "
    }
   },
   "types_to_exclude": [
    "module",
    "function",
    "builtin_function_or_method",
    "instance",
    "_Feature"
   ],
   "window_display": false
  }
 },
 "nbformat": 4,
 "nbformat_minor": 4
}
