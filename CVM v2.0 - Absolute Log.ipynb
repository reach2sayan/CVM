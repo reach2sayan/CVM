{
 "cells": [
  {
   "cell_type": "markdown",
   "metadata": {},
   "source": [
    "# Imports"
   ]
  },
  {
   "cell_type": "code",
   "execution_count": 1,
   "metadata": {
    "ExecuteTime": {
     "end_time": "2021-09-12T22:19:15.969170Z",
     "start_time": "2021-09-12T22:19:14.276499Z"
    }
   },
   "outputs": [],
   "source": [
    "import numpy as np\n",
    "from pprint import pprint as pp\n",
    "import re #Used to read chunks from the data files - clusters, vmat, etec.\n",
    "import math\n",
    "from tqdm.notebook import tqdm\n",
    "import pandas as pd\n",
    "import matplotlib.pyplot as plt\n",
    "import plotly.graph_objects as go\n",
    "from datetime import datetime\n",
    "import random\n",
    "from IPython.display import clear_output\n",
    "\n",
    "from scipy.optimize import minimize, basinhopping\n",
    "from scipy.optimize import SR1, BFGS\n",
    "from scipy.optimize import Bounds\n",
    "from scipy.optimize import LinearConstraint\n",
    "from scipy.optimize import NonlinearConstraint\n",
    "\n",
    "from ase import Atoms\n",
    "from ase.units import kB\n",
    "from ase.visualize import view\n",
    "from ase.build import bulk\n",
    "from ase.spacegroup import crystal\n",
    "from ase.build import make_supercell\n",
    "from ase.io.vasp import write_vasp\n",
    "\n",
    "import sys\n",
    "import subprocess\n",
    "import os\n",
    "\n",
    "pattern1 = re.compile(\"\\n\\n\\n\")\n",
    "pattern2 = re.compile(\"\\n\\n\")\n",
    "np.set_printoptions(suppress=True,precision=2)"
   ]
  },
  {
   "cell_type": "markdown",
   "metadata": {},
   "source": [
    "# Read all necessary files"
   ]
  },
  {
   "cell_type": "markdown",
   "metadata": {},
   "source": [
    "## Read clusters.out"
   ]
  },
  {
   "cell_type": "code",
   "execution_count": 2,
   "metadata": {
    "ExecuteTime": {
     "end_time": "2021-09-12T22:19:17.466469Z",
     "start_time": "2021-09-12T22:19:17.458534Z"
    }
   },
   "outputs": [],
   "source": [
    "# Read clusters.out\n",
    "clusters = {}\n",
    "\n",
    "with open('clusters.out','r') as fclusters:\n",
    "    temp_clusters = fclusters.read().split('\\n\\n') #Read blocks separated by 1 empty line\n",
    "\n",
    "for idx, cluster in enumerate(temp_clusters):\n",
    "    if cluster == '': #Check for spurious empty blocks\n",
    "        continue \n",
    "    line = cluster.split('\\n') #If not empty split by lines\n",
    "    multiplicity = int(line[0]) #1st line\n",
    "    length = float(line[1]) #largest distance between two atoms\n",
    "    num_points = int(line[2]) #type of cluster\n",
    "    clusters[idx] = {'mult':multiplicity, 'length':length, 'type':num_points}"
   ]
  },
  {
   "cell_type": "markdown",
   "metadata": {},
   "source": [
    "## Read config.out"
   ]
  },
  {
   "cell_type": "code",
   "execution_count": 3,
   "metadata": {
    "ExecuteTime": {
     "end_time": "2021-09-12T22:19:18.791247Z",
     "start_time": "2021-09-12T22:19:18.781867Z"
    }
   },
   "outputs": [],
   "source": [
    "# Read config.out\n",
    "configs = {}\n",
    "\n",
    "fconfig = open('config.out','r')\n",
    "_ = next(fconfig) #Ignore first line\n",
    "\n",
    "temp_config = fconfig.read()#.split('\\n\\n')\n",
    "temp_config = pattern1.split(temp_config) #split lines separated by 2 empty lines\n",
    "\n",
    "for idx, config in enumerate(temp_config):\n",
    "    if config == '': #Check for spurious empty blocks\n",
    "        continue\n",
    "    num_points = int(config[0]) #number of subclusters\n",
    "    config = pattern2.split(config[2:]) #now split individual subclusters separated by 1 blank line\n",
    "    min_coords = []\n",
    "    for _ in range(num_points):\n",
    "        min_coords.append(config[_].split('\\n')[0])\n",
    "    configs[idx] = {'subclus': list(map(int,min_coords)), 'num_of_subclus': len(min_coords)}"
   ]
  },
  {
   "cell_type": "markdown",
   "metadata": {},
   "source": [
    "## Read Kikuchi-Baker coefficients"
   ]
  },
  {
   "cell_type": "code",
   "execution_count": 4,
   "metadata": {
    "ExecuteTime": {
     "end_time": "2021-09-12T22:19:20.045866Z",
     "start_time": "2021-09-12T22:19:20.034637Z"
    }
   },
   "outputs": [],
   "source": [
    "# Read kb.out\n",
    "\n",
    "kb = {}\n",
    "fkb = open('kb.out','r')\n",
    "_ = next(fkb) #ignore first line\n",
    "\n",
    "temp_kb = fkb.read()\n",
    "temp_kb = temp_kb.split('\\n') #split file linewise\n",
    "\n",
    "for idx, kbcoeff in enumerate(temp_kb):\n",
    "    if kbcoeff == '': #check for spurious empty blocks\n",
    "        continue\n",
    "    kb[idx] = float(kbcoeff)\n",
    "\n",
    "fkb.close()"
   ]
  },
  {
   "cell_type": "markdown",
   "metadata": {},
   "source": [
    "## Read coefficients of subclusters"
   ]
  },
  {
   "cell_type": "code",
   "execution_count": 5,
   "metadata": {
    "ExecuteTime": {
     "end_time": "2021-09-12T22:19:21.219947Z",
     "start_time": "2021-09-12T22:19:21.211589Z"
    }
   },
   "outputs": [],
   "source": [
    "# Read configcoeff.out\n",
    "configcoef = {}\n",
    "\n",
    "with open('configcoef.out','r') as fsubmult:\n",
    "    _ = next(fsubmult) #ignore first line\n",
    "    temp_submult = fsubmult.read() \n",
    "    temp_submult = pattern2.split(temp_submult) #split lines into blocks separated by 2 empty lines\n",
    "    \n",
    "for idx, submult in enumerate(temp_submult):\n",
    "    submult = submult.split('\\n') #split into number of subclusters \n",
    "    while(\"\" in submult) :\n",
    "        submult.remove(\"\") #remove empty blocks\n",
    "    configcoef[idx] = list(map(float,submult[1:])) #also ignore 1st line of each block"
   ]
  },
  {
   "cell_type": "markdown",
   "metadata": {},
   "source": [
    "## Read V-Matrix"
   ]
  },
  {
   "cell_type": "code",
   "execution_count": 6,
   "metadata": {
    "ExecuteTime": {
     "end_time": "2021-09-12T22:19:22.316287Z",
     "start_time": "2021-09-12T22:19:22.304216Z"
    }
   },
   "outputs": [],
   "source": [
    "# Read vmat.out\n",
    "vmat = {}\n",
    "with open('vmat.out') as fvmat:\n",
    "    _ = next(fvmat) #ignore first lie\n",
    "    temp_vmat = fvmat.read()\n",
    "    temp_vmat = pattern2.split(temp_vmat) #split by 2 empty lines i.e. maxclusters\n",
    "    \n",
    "    while(\"\" in temp_vmat):\n",
    "        temp_vmat.remove(\"\") #remove empty blocks\n",
    "    \n",
    "    for clus_idx, mat in enumerate(temp_vmat):\n",
    "        mat = mat.split('\\n') #split by 1 empty line i.e. subclusters\n",
    "        mat_float = np.empty(list(map(int, mat[0].split(' '))))\n",
    "        for idx, row in enumerate(mat[1:]): #ignore first line\n",
    "            mat_float[idx] = list(map(float,row.split(' ')[:-1]))\n",
    "        \n",
    "        vmat[clus_idx] = mat_float"
   ]
  },
  {
   "cell_type": "markdown",
   "metadata": {},
   "source": [
    "## Read ECI"
   ]
  },
  {
   "cell_type": "code",
   "execution_count": 7,
   "metadata": {
    "ExecuteTime": {
     "end_time": "2021-09-12T22:19:23.349188Z",
     "start_time": "2021-09-12T22:19:23.338925Z"
    }
   },
   "outputs": [],
   "source": [
    "# Read eci\n",
    "eci = {}\n",
    "\n",
    "with open('eci.out') as feci:\n",
    "    _ = next(feci) #Ignore first line\n",
    "    temp_eci = feci.read()\n",
    "    temp_eci = temp_eci.split('\\n') #split by line\n",
    "\n",
    "for idx, eci_val in enumerate(temp_eci):\n",
    "    if eci_val == '':\n",
    "        continue\n",
    "    eci[idx] = float(eci_val)"
   ]
  },
  {
   "cell_type": "code",
   "execution_count": 8,
   "metadata": {
    "ExecuteTime": {
     "end_time": "2021-09-12T22:19:24.174133Z",
     "start_time": "2021-09-12T22:19:24.170836Z"
    }
   },
   "outputs": [],
   "source": [
    "#In this notebook ECI's are declared manually\n",
    "eci = {0: 0, 1: 0, 2: 0.1, 3: 0.0, 4: 0, 5: 0}"
   ]
  },
  {
   "cell_type": "code",
   "execution_count": 9,
   "metadata": {
    "ExecuteTime": {
     "end_time": "2021-09-12T22:19:25.363983Z",
     "start_time": "2021-09-12T22:19:25.346972Z"
    }
   },
   "outputs": [
    {
     "data": {
      "text/plain": [
       "{0: 0, 1: 0, 2: 0.1, 3: 0.0, 4: 0, 5: 0}"
      ]
     },
     "execution_count": 9,
     "metadata": {},
     "output_type": "execute_result"
    }
   ],
   "source": [
    "eci"
   ]
  },
  {
   "cell_type": "code",
   "execution_count": 10,
   "metadata": {
    "ExecuteTime": {
     "end_time": "2021-09-12T22:19:26.521225Z",
     "start_time": "2021-09-12T22:19:26.489871Z"
    }
   },
   "outputs": [
    {
     "name": "stdout",
     "output_type": "stream",
     "text": [
      "[ 1.   -0.52 -0.13 -0.42 -0.9  -0.57]\n"
     ]
    }
   ],
   "source": [
    "corrs1 = np.array([1., 1., 1., 1., 1., 1.]) #Pure B\n",
    "corrs0 = np.array([1., -1., 1., 1., -1., 1.]) #Pure A\n",
    "corrssqs = np.array([1.    , 0.0   , 0.25,0.25  , 0.125 , 0.0625]) # AB - sqs\n",
    "corrsrand = np.array([1.   , *np.random.uniform(-1, 1, 5)]) \n",
    "T = 1/kB\n",
    "print(corrsrand)"
   ]
  },
  {
   "cell_type": "markdown",
   "metadata": {},
   "source": [
    "# Setting up Log Absolute functions"
   ]
  },
  {
   "cell_type": "markdown",
   "metadata": {},
   "source": [
    "## Set up F"
   ]
  },
  {
   "cell_type": "code",
   "execution_count": 11,
   "metadata": {
    "ExecuteTime": {
     "end_time": "2021-09-12T22:19:30.250949Z",
     "start_time": "2021-09-12T22:19:30.239595Z"
    }
   },
   "outputs": [],
   "source": [
    "def F(corrs, vmat, kb, clusters, configs, configcoef,T,eci):\n",
    "    \"\"\"\n",
    "    Input: \n",
    "    corrs - Correlations\n",
    "    vmat  - V-Matrix\n",
    "    clusters - Maximal Cluster Information (multiplicity, longest neighbor length, no. of points)\n",
    "    configs - Not used\n",
    "    configcoef - Coefficients of subclusters - array containing the coeff of each subcluster\n",
    "    T - Temperature\n",
    "    eci - ECI's\n",
    "    \n",
    "    Output:\n",
    "    F = H + kB*T*SUM(rho * log(rho))\n",
    "    \"\"\"\n",
    "    \n",
    "    def get_corrsum(vmat,corrs):\n",
    "        assert len(vmat) == len(corrs)\n",
    "        corrsum = np.inner(vmat,corrs)\n",
    "        if corrsum == 0:\n",
    "            return 0\n",
    "            #corrsum = np.finfo(float).tiny\n",
    "\n",
    "        return corrsum * math.log(np.abs(corrsum))\n",
    "    \n",
    "    def per_cluster_sum(corrs,vmat,configcoef):\n",
    "        config_sum = np.sum([coef * get_corrsum(vmat[config_idx],corrs) for config_idx, coef in enumerate(configcoef)\n",
    "                            ])\n",
    "                      \n",
    "        return config_sum\n",
    "    \n",
    "    H = np.sum([cluster['mult']*eci[cluster_idx]*corrs[cluster_idx] \n",
    "                for cluster_idx, cluster in clusters.items()\n",
    "               ])\n",
    "    \n",
    "    S = np.sum([kb[cluster_idx]*per_cluster_sum(corrs,\n",
    "                                                vmat[cluster_idx],\n",
    "                                                configcoef[cluster_idx],)\n",
    "                for cluster_idx in clusters.keys()\n",
    "               ])\n",
    "    \n",
    "    return H + kB*T*S"
   ]
  },
  {
   "cell_type": "code",
   "execution_count": 12,
   "metadata": {
    "ExecuteTime": {
     "end_time": "2021-09-12T22:19:31.684149Z",
     "start_time": "2021-09-12T22:19:31.664300Z"
    }
   },
   "outputs": [
    {
     "name": "stdout",
     "output_type": "stream",
     "text": [
      "Corrs 0: 0.40 -- Corrs 1: 0.40 -- Corrs Rand: -2.22 -- Corrs SQS: -2.53\n"
     ]
    }
   ],
   "source": [
    "f0 = F(corrs0, vmat, kb, clusters, configs, configcoef,T,eci)\n",
    "f1 = F(corrs1, vmat, kb, clusters, configs, configcoef,T,eci)\n",
    "fsqs = F(corrssqs, vmat, kb, clusters, configs, configcoef,T,eci)\n",
    "frand = F(corrsrand, vmat, kb, clusters, configs, configcoef,T,eci)\n",
    "print(f\"Corrs 0: {f0:.2f} -- Corrs 1: {f1:.2f} -- Corrs Rand: {frand:.2f} -- Corrs SQS: {fsqs:.2f}\")"
   ]
  },
  {
   "cell_type": "markdown",
   "metadata": {},
   "source": [
    "## Set up F Jacobian"
   ]
  },
  {
   "cell_type": "code",
   "execution_count": 13,
   "metadata": {
    "ExecuteTime": {
     "end_time": "2021-09-12T22:19:33.659555Z",
     "start_time": "2021-09-12T22:19:33.645657Z"
    }
   },
   "outputs": [],
   "source": [
    "def F_jacobian(corrs, vmat, kb, clusters, configs, configcoef,T,eci):\n",
    "    \"\"\"\n",
    "    Input: \n",
    "    corrs - Correlations\n",
    "    vmat  - V-Matrix\n",
    "    clusters - Maximal Cluster Information (multiplicity, longest neighbor length, no. of points)\n",
    "    configs - Not used\n",
    "    configcoef - Coefficients of subclusters - array containing the coeff of each subcluster\n",
    "    T - Temperature\n",
    "    eci - ECI's\n",
    "    \n",
    "    Output:\n",
    "    Vector representation gradient of F with Corrs\n",
    "    [dF/dcorr0, dF/dcorr1, ...]\n",
    "    \"\"\"\n",
    "    \n",
    "    def get_kth_elem_jac(corrs, vmat, kb, clusters, configs, configcoef,corr_idx):\n",
    "        \n",
    "        dS_k = np.sum([kb[cluster_idx]*per_cluster_sum_jac(corrs,\n",
    "                                                           vmat[cluster_idx],\n",
    "                                                           configcoef[cluster_idx],\n",
    "                                                           corr_idx,) \n",
    "                       for cluster_idx in clusters.keys()\n",
    "                      ])\n",
    "        return dS_k\n",
    "    \n",
    "    def get_corrsum_jac(vmat,corrs):\n",
    "        assert len(vmat) == len(corrs)\n",
    "        corrsum = np.inner(vmat,corrs)\n",
    "        if corrsum == 0:\n",
    "            return np.NINF\n",
    "            #corrsum = np.finfo(float).tiny\n",
    "\n",
    "        return 1 + math.log(np.abs(corrsum))\n",
    "\n",
    "    def per_cluster_sum_jac(corrs,vmat,configcoef,corr_idx):\n",
    "        \n",
    "        config_sum = np.sum([coef * vmat[config_idx][corr_idx] * get_corrsum_jac(vmat[config_idx],corrs) for config_idx, coef in enumerate(configcoef)\n",
    "                            ])\n",
    "\n",
    "        \n",
    "        return config_sum\n",
    "    \n",
    "    dH = np.array([cluster['mult']*eci[cluster_idx] for cluster_idx, cluster in clusters.items()])\n",
    "    \n",
    "    dS = np.array([get_kth_elem_jac(corrs, vmat, kb, clusters, configs, configcoef,corr_idx) for corr_idx, _ in enumerate(corrs)])\n",
    "    \n",
    "    return dH + kB*T*dS"
   ]
  },
  {
   "cell_type": "code",
   "execution_count": 14,
   "metadata": {
    "ExecuteTime": {
     "end_time": "2021-09-12T22:19:35.542155Z",
     "start_time": "2021-09-12T22:19:35.524776Z"
    }
   },
   "outputs": [
    {
     "name": "stdout",
     "output_type": "stream",
     "text": [
      "Corrs 0: [nan nan nan nan nan nan] \n",
      "Corrs 1: [nan nan nan nan nan nan] \n",
      "Corrs Rand [-1.88 -0.83  1.37 -0.46 -0.16 -0.14] \n",
      "Corrs SQS [-1.9  -0.1   0.97  0.41  0.23 -0.05]\n"
     ]
    },
    {
     "name": "stderr",
     "output_type": "stream",
     "text": [
      "/home/sayan/.local/lib/python3.8/site-packages/numpy/core/fromnumeric.py:86: RuntimeWarning: invalid value encountered in reduce\n",
      "  return ufunc.reduce(obj, axis, dtype, out, **passkwargs)\n",
      "<ipython-input-13-873df088579e>:38: RuntimeWarning: invalid value encountered in double_scalars\n",
      "  config_sum = np.sum([coef * vmat[config_idx][corr_idx] * get_corrsum_jac(vmat[config_idx],corrs) for config_idx, coef in enumerate(configcoef)\n"
     ]
    }
   ],
   "source": [
    "f_jaco0 = F_jacobian(corrs0, vmat, kb, clusters, configs, configcoef,T,eci)\n",
    "f_jaco1 = F_jacobian(corrs1, vmat, kb, clusters, configs, configcoef,T,eci)\n",
    "f_jacosqs = F_jacobian(corrssqs, vmat, kb, clusters, configs, configcoef,T,eci)\n",
    "f_jacorand = F_jacobian(corrsrand, vmat, kb, clusters, configs, configcoef,T,eci)\n",
    "print(f\"Corrs 0: {f_jaco0} \\nCorrs 1: {f_jaco1} \\nCorrs Rand {f_jacorand} \\nCorrs SQS {f_jacosqs}\")"
   ]
  },
  {
   "cell_type": "markdown",
   "metadata": {},
   "source": [
    "## Set up Hessian"
   ]
  },
  {
   "cell_type": "code",
   "execution_count": 15,
   "metadata": {
    "ExecuteTime": {
     "end_time": "2021-09-12T22:19:36.960554Z",
     "start_time": "2021-09-12T22:19:36.951473Z"
    }
   },
   "outputs": [],
   "source": [
    "def F_hessian(corrs, vmat, kb, clusters, configs, configcoef,T,eci):\n",
    "    \"\"\"\n",
    "    Input: \n",
    "    corrs - Correlations\n",
    "    vmat  - V-Matrix\n",
    "    clusters - Maximal Cluster Information (multiplicity, longest neighbor length, no. of points)\n",
    "    configs - Not used\n",
    "    configcoef - Coefficients of subclusters - array containing the coeff of each subcluster\n",
    "    T - Temperature\n",
    "    eci - ECI's\n",
    "    \n",
    "    Output:\n",
    "    Vector representation gradient of F with Corrs\n",
    "    [[d^2F/dcorr0 dcorr0, d^2F/dcorr0 dcorr1, ..., d^2F/dcorr0 dcorrn],\n",
    "     [d^2F/dcorr1 dcorr0, d^2F/dcorr1 dcorr1, ..., d^2F/dcorr1 dcorrn],\n",
    "     .\n",
    "     .\n",
    "     .\n",
    "     [d^2F/dcorrn dcorr0, d^2F/dcorrn dcorr1, ..., d^2F/dcorrn dcorrn],\n",
    "    ]\n",
    "    \"\"\"\n",
    "    \n",
    "    def get_corrsum_hess(vmat,corrs):\n",
    "        assert len(vmat) == len(corrs)\n",
    "        \n",
    "        corrsum = np.inner(vmat,corrs)\n",
    "        if corrsum == 0:\n",
    "            return 1/np.PINF\n",
    "            #corrsum = np.finfo(float).tiny\n",
    "\n",
    "        return corrsum\n",
    "    \n",
    "    def get_config_val(corrs,vmat,configcoef,corr_idx_1,corr_idx_2):\n",
    "        \n",
    "        config_val = np.sum([coef * vmat[config_idx][corr_idx_1] * vmat[config_idx][corr_idx_2] / get_corrsum_hess(vmat[config_idx],corrs) \n",
    "                             for config_idx, coef in enumerate(configcoef)\n",
    "                            ])\n",
    "        \n",
    "        return config_val\n",
    "    \n",
    "    def get_hessian_elem(corrs, vmat, kb, clusters, configs, configcoef,T,eci,corr_idx_1,corr_idx_2):\n",
    "        \n",
    "        hess_elem = np.sum([kb[cluster_idx] * get_config_val(corrs,\n",
    "                                                             vmat[cluster_idx],\n",
    "                                                             configcoef[cluster_idx],\n",
    "                                                             corr_idx_1,\n",
    "                                                             corr_idx_2\n",
    "                                                            ) \n",
    "                            for cluster_idx in clusters.keys()\n",
    "                           ])\n",
    "        return hess_elem\n",
    "    \n",
    "    d2F = np.empty([len(corrs),len(corrs)])\n",
    "    \n",
    "    d2F = np.array([[get_hessian_elem(corrs, vmat, kb, clusters, configs, configcoef, T, eci, corr_idx_1, corr_idx_2) for corr_idx_2, _ in enumerate(corrs)] for corr_idx_1, _ in enumerate(corrs)])\n",
    "    \n",
    "    return d2F"
   ]
  },
  {
   "cell_type": "code",
   "execution_count": 16,
   "metadata": {
    "ExecuteTime": {
     "end_time": "2021-09-12T22:19:38.034649Z",
     "start_time": "2021-09-12T22:19:37.959383Z"
    }
   },
   "outputs": [
    {
     "name": "stdout",
     "output_type": "stream",
     "text": [
      "Corrs 0:\n",
      " [[nan nan nan nan nan nan]\n",
      " [nan nan nan nan nan nan]\n",
      " [nan nan nan nan nan nan]\n",
      " [nan nan nan nan nan nan]\n",
      " [nan nan nan nan nan nan]\n",
      " [nan nan nan nan nan nan]] \n",
      " Corrs 1:\n",
      " [[nan nan nan nan nan nan]\n",
      " [nan nan nan nan nan nan]\n",
      " [nan nan nan nan nan nan]\n",
      " [nan nan nan nan nan nan]\n",
      " [nan nan nan nan nan nan]\n",
      " [nan nan nan nan nan nan]]\n",
      " Corrs Rand:\n",
      " [[-1.46 -5.33 -5.08  0.91  0.15  0.79]\n",
      " [-5.33 -7.38 -3.37 -1.22 -0.82  0.31]\n",
      " [-5.08 -3.37 13.83 -7.27  0.18 -4.02]\n",
      " [ 0.91 -1.22 -7.27  4.05 -0.14  1.63]\n",
      " [ 0.15 -0.82  0.18 -0.14  0.99 -0.5 ]\n",
      " [ 0.79  0.31 -4.02  1.63 -0.5   1.63]] \n",
      " Corrs SQS:\n",
      " [[ 1.25  0.13 -0.55 -0.41 -0.16  0.14]\n",
      " [ 0.13  2.99  0.02  0.01 -0.89 -0.35]\n",
      " [-0.55  0.02  3.49 -0.97 -0.25 -0.69]\n",
      " [-0.41  0.01 -0.97  2.76 -0.13 -0.34]\n",
      " [-0.16 -0.89 -0.25 -0.13  1.94  0.27]\n",
      " [ 0.14 -0.35 -0.69 -0.34  0.27  1.29]]\n"
     ]
    },
    {
     "name": "stderr",
     "output_type": "stream",
     "text": [
      "<ipython-input-15-d4a292fd34bd>:35: RuntimeWarning: divide by zero encountered in double_scalars\n",
      "  config_val = np.sum([coef * vmat[config_idx][corr_idx_1] * vmat[config_idx][corr_idx_2] / get_corrsum_hess(vmat[config_idx],corrs)\n",
      "<ipython-input-15-d4a292fd34bd>:35: RuntimeWarning: invalid value encountered in double_scalars\n",
      "  config_val = np.sum([coef * vmat[config_idx][corr_idx_1] * vmat[config_idx][corr_idx_2] / get_corrsum_hess(vmat[config_idx],corrs)\n"
     ]
    }
   ],
   "source": [
    "f_hess0 = F_hessian(corrs0, vmat, kb, clusters, configs, configcoef,T,eci)\n",
    "f_hess1 = F_hessian(corrs1, vmat, kb, clusters, configs, configcoef,T,eci)\n",
    "f_hessrand = F_hessian(corrsrand, vmat, kb, clusters, configs, configcoef,T,eci)\n",
    "f_hesssqs = F_hessian(corrssqs, vmat, kb, clusters, configs, configcoef,T,eci)\n",
    "print(f\"Corrs 0:\\n {f_hess0} \\n Corrs 1:\\n {f_hess1}\\n Corrs Rand:\\n {f_hessrand} \\n Corrs SQS:\\n {f_hesssqs}\")"
   ]
  },
  {
   "cell_type": "markdown",
   "metadata": {},
   "source": [
    "# Constraints"
   ]
  },
  {
   "cell_type": "code",
   "execution_count": 70,
   "metadata": {
    "ExecuteTime": {
     "end_time": "2021-09-13T03:28:21.756255Z",
     "start_time": "2021-09-13T03:28:21.694983Z"
    }
   },
   "outputs": [],
   "source": [
    "def constraint_rhos_sum(corrs, vmat, clusters, configcoef,):\n",
    "    \"\"\"\n",
    "    Constraints the sum of each rho. As of now, it's done in a weird way, where the total sum of the array:\n",
    "    [1 - sum(rho), .... ] is constrained to sum to 0. This along with the constraint that each rho is between\n",
    "    0 and 1, seems to make it work. I think that by the this might be a redundant constraint as well.\n",
    "    \"\"\"\n",
    "    rho_sum = []\n",
    "\n",
    "    def clus_prob(cluster_idx):\n",
    "        rho = np.matmul(vmat[cluster_idx],corrs)\n",
    "        return rho\n",
    "    \n",
    "    for cluster_idx, _ in clusters.items():\n",
    "        rho = clus_prob(cluster_idx)\n",
    "        rho_sum.append(np.sum(configcoef[cluster_idx]*rho))\n",
    "    \n",
    "    return np.sum(1 - np.array(rho_sum))\n",
    "\n",
    "# def constrain_rhos_sum(corrs,vmat_sub,configcoef_sub):\n",
    "    \n",
    "#     rho_sub = np.matmul(vmat_sub,corrs)\n",
    "#     assert len(rho) == len(configcoef_sub)\n",
    "    \n",
    "#     return np.sum(1 - np.inner(configcoef_sub,rho_sub))\n",
    "    \n",
    "\n",
    "def constraint_singlet(corrs,FIXED_CORR_1):\n",
    "    \"\"\"\n",
    "    constrains the 1-pt correlation:\n",
    "    corrs[1] = FIXED_CORR_1\n",
    "    \"\"\"\n",
    "    return corrs[1] - FIXED_CORR_1   \n",
    "\n",
    "def constraint_zero(corrs):\n",
    "    \"\"\"\n",
    "    constrains the 1-pt correlation:\n",
    "    corrs[0] = 1\n",
    "    \"\"\"\n",
    "    return 1 - corrs[0] \n",
    "\n",
    "class MyBounds:\n",
    "    \"\"\"\n",
    "    Class to constrain the trial correlations of Basin Hopping\n",
    "    \"\"\"\n",
    "    def __init__(self, xmax=[1]*6, xmin=[-1]*6):\n",
    "        self.xmax = np.array(xmax)\n",
    "        self.xmin = np.array(xmin)\n",
    "        \n",
    "    def __call__(self, **kwargs):\n",
    "        x = kwargs[\"x_new\"]\n",
    "        tmax = bool(np.all(x <= self.xmax))\n",
    "        tmin = bool(np.all(x >= self.xmin))\n",
    "\n",
    "        return tmax and tmin"
   ]
  },
  {
   "cell_type": "code",
   "execution_count": 85,
   "metadata": {
    "ExecuteTime": {
     "end_time": "2021-09-14T00:58:20.659201Z",
     "start_time": "2021-09-14T00:58:20.652172Z"
    }
   },
   "outputs": [
    {
     "data": {
      "text/plain": [
       "array([   0.,  100.,  200.,  300.,  400.,  500.,  600.,  700.,  800.,\n",
       "        900., 1000., 1100., 1200., 1300., 1400., 1500., 1600., 1700.,\n",
       "       1800., 1900., 2000.])"
      ]
     },
     "execution_count": 85,
     "metadata": {},
     "output_type": "execute_result"
    }
   ],
   "source": [
    "np.linspace(0, 2000, num=21)"
   ]
  },
  {
   "cell_type": "code",
   "execution_count": 79,
   "metadata": {
    "ExecuteTime": {
     "end_time": "2021-09-13T11:23:47.229162Z",
     "start_time": "2021-09-13T11:23:47.215425Z"
    }
   },
   "outputs": [
    {
     "data": {
      "text/plain": [
       "array([-1. , -0.9, -0.8, -0.7, -0.6, -0.5, -0.4, -0.3, -0.2, -0.1,  0. ,\n",
       "        0.1,  0.2,  0.3,  0.4,  0.5,  0.6,  0.7,  0.8,  0.9,  1. ])"
      ]
     },
     "execution_count": 79,
     "metadata": {},
     "output_type": "execute_result"
    }
   ],
   "source": [
    "np.linspace(-1+np.finfo(float).eps,1-np.finfo(float).eps,21)"
   ]
  },
  {
   "cell_type": "code",
   "execution_count": null,
   "metadata": {},
   "outputs": [],
   "source": [
    "#{'fun': constraint_rhos_sum, 'type': 'eq', 'args': [vmat, clusters, configcoef,]},"
   ]
  },
  {
   "cell_type": "markdown",
   "metadata": {
    "heading_collapsed": true
   },
   "source": [
    "# Uniform Sampling"
   ]
  },
  {
   "cell_type": "code",
   "execution_count": 58,
   "metadata": {
    "ExecuteTime": {
     "end_time": "2021-09-13T02:50:09.686186Z",
     "start_time": "2021-09-13T02:43:16.003326Z"
    },
    "hidden": true,
    "scrolled": true
   },
   "outputs": [
    {
     "data": {
      "application/vnd.jupyter.widget-view+json": {
       "model_id": "b5647000e0ba453fbe70d5be5d601b78",
       "version_major": 2,
       "version_minor": 0
      },
      "text/plain": [
       "  0%|          | 0/9 [00:00<?, ?it/s]"
      ]
     },
     "metadata": {},
     "output_type": "display_data"
    },
    {
     "data": {
      "application/vnd.jupyter.widget-view+json": {
       "model_id": "992afbe9905047c683eea9a9f2c29503",
       "version_major": 2,
       "version_minor": 0
      },
      "text/plain": [
       "  0%|          | 0/10 [00:00<?, ?it/s]"
      ]
     },
     "metadata": {},
     "output_type": "display_data"
    },
    {
     "name": "stderr",
     "output_type": "stream",
     "text": [
      "/home/sayan/.local/lib/python3.8/site-packages/scipy/optimize/_trustregion_constr/projections.py:181: UserWarning:\n",
      "\n",
      "Singular Jacobian matrix. Using SVD decomposition to perform the factorizations.\n",
      "\n",
      "/home/sayan/.local/lib/python3.8/site-packages/scipy/optimize/_hessian_update_strategy.py:182: UserWarning:\n",
      "\n",
      "delta_grad == 0.0. Check if the approximated function is linear. If the function is linear better results can be obtained by defining the Hessian as zero instead of using quasi-Newton approximations.\n",
      "\n"
     ]
    },
    {
     "name": "stdout",
     "output_type": "stream",
     "text": [
      "Found new minimum for x:-0.9999999999999998, T:0 fun: 0.3999999888292458\n",
      "Found new minimum for x:-0.9999999999999998, T:0 fun: 0.3999999862329245\n",
      "Found new minimum for x:-0.9999999999999998, T:0 fun: 0.39999998537663684\n",
      "Found new minimum for x:-0.9999999999999998, T:0 fun: 0.3999999831831035\n"
     ]
    },
    {
     "data": {
      "application/vnd.jupyter.widget-view+json": {
       "model_id": "1017b651fd2f461fabf6f8633d0eda70",
       "version_major": 2,
       "version_minor": 0
      },
      "text/plain": [
       "  0%|          | 0/10 [00:00<?, ?it/s]"
      ]
     },
     "metadata": {},
     "output_type": "display_data"
    },
    {
     "name": "stdout",
     "output_type": "stream",
     "text": [
      "Found new minimum for x:-0.7499999999999998, T:0 fun: 0.25059513013939255\n",
      "Found new minimum for x:-0.7499999999999998, T:0 fun: 0.2292771617302797\n",
      "Found new minimum for x:-0.7499999999999998, T:0 fun: 0.2251270659544077\n"
     ]
    },
    {
     "data": {
      "application/vnd.jupyter.widget-view+json": {
       "model_id": "46a59f23c0e74a6f88558c3343ce6729",
       "version_major": 2,
       "version_minor": 0
      },
      "text/plain": [
       "  0%|          | 0/10 [00:00<?, ?it/s]"
      ]
     },
     "metadata": {},
     "output_type": "display_data"
    },
    {
     "name": "stdout",
     "output_type": "stream",
     "text": [
      "Found new minimum for x:-0.4999999999999999, T:0 fun: 0.1584362149515072\n",
      "Found new minimum for x:-0.4999999999999999, T:0 fun: 0.11187040286632709\n",
      "Found new minimum for x:-0.4999999999999999, T:0 fun: 0.05455099656822085\n"
     ]
    },
    {
     "data": {
      "application/vnd.jupyter.widget-view+json": {
       "model_id": "2ae281ae222a4468852e21ee14fbd112",
       "version_major": 2,
       "version_minor": 0
      },
      "text/plain": [
       "  0%|          | 0/10 [00:00<?, ?it/s]"
      ]
     },
     "metadata": {},
     "output_type": "display_data"
    },
    {
     "name": "stdout",
     "output_type": "stream",
     "text": [
      "Found new minimum for x:-0.25, T:0 fun: 0.16597500067771062\n",
      "Found new minimum for x:-0.25, T:0 fun: 0.12218760471360131\n",
      "Found new minimum for x:-0.25, T:0 fun: 0.0824630488242053\n",
      "Found new minimum for x:-0.25, T:0 fun: 0.008234873352174559\n"
     ]
    },
    {
     "data": {
      "application/vnd.jupyter.widget-view+json": {
       "model_id": "2729cf0fa7a44c0ba79a09028f244b26",
       "version_major": 2,
       "version_minor": 0
      },
      "text/plain": [
       "  0%|          | 0/10 [00:00<?, ?it/s]"
      ]
     },
     "metadata": {},
     "output_type": "display_data"
    },
    {
     "name": "stdout",
     "output_type": "stream",
     "text": [
      "Found new minimum for x:0.0, T:0 fun: 0.09672608843742642\n",
      "Found new minimum for x:0.0, T:0 fun: 0.01319906467785764\n",
      "Found new minimum for x:0.0, T:0 fun: -0.03404655585881945\n"
     ]
    },
    {
     "data": {
      "application/vnd.jupyter.widget-view+json": {
       "model_id": "122050e50c4648fd98402d42c80c2db0",
       "version_major": 2,
       "version_minor": 0
      },
      "text/plain": [
       "  0%|          | 0/10 [00:00<?, ?it/s]"
      ]
     },
     "metadata": {},
     "output_type": "display_data"
    },
    {
     "name": "stdout",
     "output_type": "stream",
     "text": [
      "Found new minimum for x:0.25, T:0 fun: 0.03341124653031103\n",
      "Found new minimum for x:0.25, T:0 fun: -0.02660156892973753\n"
     ]
    },
    {
     "data": {
      "application/vnd.jupyter.widget-view+json": {
       "model_id": "20a2451d7e884441958eafe94bf576f3",
       "version_major": 2,
       "version_minor": 0
      },
      "text/plain": [
       "  0%|          | 0/10 [00:00<?, ?it/s]"
      ]
     },
     "metadata": {},
     "output_type": "display_data"
    },
    {
     "name": "stdout",
     "output_type": "stream",
     "text": [
      "Found new minimum for x:0.4999999999999998, T:0 fun: 0.11792892287433641\n",
      "Found new minimum for x:0.4999999999999998, T:0 fun: 0.09925224121728965\n"
     ]
    },
    {
     "data": {
      "application/vnd.jupyter.widget-view+json": {
       "model_id": "3a60f69b5a6e4dd283ca5781b613ad90",
       "version_major": 2,
       "version_minor": 0
      },
      "text/plain": [
       "  0%|          | 0/10 [00:00<?, ?it/s]"
      ]
     },
     "metadata": {},
     "output_type": "display_data"
    },
    {
     "name": "stdout",
     "output_type": "stream",
     "text": [
      "Found new minimum for x:0.7499999999999998, T:0 fun: 0.25594737943308604\n",
      "Found new minimum for x:0.7499999999999998, T:0 fun: 0.2376646323302931\n",
      "Found new minimum for x:0.7499999999999998, T:0 fun: 0.2001008209184657\n"
     ]
    },
    {
     "data": {
      "application/vnd.jupyter.widget-view+json": {
       "model_id": "e8ea8cb83d8d402795775cc47c1d49d6",
       "version_major": 2,
       "version_minor": 0
      },
      "text/plain": [
       "  0%|          | 0/10 [00:00<?, ?it/s]"
      ]
     },
     "metadata": {},
     "output_type": "display_data"
    },
    {
     "name": "stdout",
     "output_type": "stream",
     "text": [
      "Found new minimum for x:0.9999999999999998, T:0 fun: 0.3999999830967478\n",
      "Found new minimum for x:0.9999999999999998, T:0 fun: 0.39999998229099726\n"
     ]
    },
    {
     "data": {
      "application/vnd.jupyter.widget-view+json": {
       "model_id": "06e0a8d4a4aa4fb6afe8f5fe60565740",
       "version_major": 2,
       "version_minor": 0
      },
      "text/plain": [
       "  0%|          | 0/9 [00:00<?, ?it/s]"
      ]
     },
     "metadata": {},
     "output_type": "display_data"
    },
    {
     "data": {
      "application/vnd.jupyter.widget-view+json": {
       "model_id": "6691016593a14dfc82a5e7323e4ee905",
       "version_major": 2,
       "version_minor": 0
      },
      "text/plain": [
       "  0%|          | 0/10 [00:00<?, ?it/s]"
      ]
     },
     "metadata": {},
     "output_type": "display_data"
    },
    {
     "name": "stdout",
     "output_type": "stream",
     "text": [
      "Found new minimum for x:-0.9999999999999998, T:100 fun: 0.3999999806964264\n",
      "Found new minimum for x:-0.9999999999999998, T:100 fun: 0.399999979934152\n",
      "Found new minimum for x:-0.9999999999999998, T:100 fun: 0.3999999789659417\n"
     ]
    },
    {
     "data": {
      "application/vnd.jupyter.widget-view+json": {
       "model_id": "ffa741c76b274f9b8a2d74103aba5a64",
       "version_major": 2,
       "version_minor": 0
      },
      "text/plain": [
       "  0%|          | 0/10 [00:00<?, ?it/s]"
      ]
     },
     "metadata": {},
     "output_type": "display_data"
    },
    {
     "name": "stdout",
     "output_type": "stream",
     "text": [
      "Found new minimum for x:-0.7499999999999998, T:100 fun: 0.2364753974861181\n",
      "Found new minimum for x:-0.7499999999999998, T:100 fun: 0.23101291945763722\n",
      "Found new minimum for x:-0.7499999999999998, T:100 fun: 0.23011494011989164\n"
     ]
    },
    {
     "data": {
      "application/vnd.jupyter.widget-view+json": {
       "model_id": "4381924b792d469f9ec6d0e9362ae923",
       "version_major": 2,
       "version_minor": 0
      },
      "text/plain": [
       "  0%|          | 0/10 [00:00<?, ?it/s]"
      ]
     },
     "metadata": {},
     "output_type": "display_data"
    },
    {
     "name": "stdout",
     "output_type": "stream",
     "text": [
      "Found new minimum for x:-0.4999999999999999, T:100 fun: 0.1479845563459568\n",
      "Found new minimum for x:-0.4999999999999999, T:100 fun: 0.08780795389304796\n",
      "Found new minimum for x:-0.4999999999999999, T:100 fun: 0.07808233113093604\n"
     ]
    },
    {
     "data": {
      "application/vnd.jupyter.widget-view+json": {
       "model_id": "0cef34e51e184a04bf744b49e294907d",
       "version_major": 2,
       "version_minor": 0
      },
      "text/plain": [
       "  0%|          | 0/10 [00:00<?, ?it/s]"
      ]
     },
     "metadata": {},
     "output_type": "display_data"
    },
    {
     "name": "stdout",
     "output_type": "stream",
     "text": [
      "Found new minimum for x:-0.25, T:100 fun: 0.03596624123595531\n",
      "Found new minimum for x:-0.25, T:100 fun: 0.014218062921039682\n",
      "Found new minimum for x:-0.25, T:100 fun: -0.004091520041084536\n"
     ]
    },
    {
     "data": {
      "application/vnd.jupyter.widget-view+json": {
       "model_id": "f1dacfebf8a34955b0c0fb039c8f1763",
       "version_major": 2,
       "version_minor": 0
      },
      "text/plain": [
       "  0%|          | 0/10 [00:00<?, ?it/s]"
      ]
     },
     "metadata": {},
     "output_type": "display_data"
    },
    {
     "name": "stdout",
     "output_type": "stream",
     "text": [
      "Found new minimum for x:0.0, T:100 fun: -0.08683081885545012\n",
      "Found new minimum for x:0.0, T:100 fun: -0.09642376337996057\n"
     ]
    },
    {
     "data": {
      "application/vnd.jupyter.widget-view+json": {
       "model_id": "b88a36e5e63b4dbf9255527b20cc082c",
       "version_major": 2,
       "version_minor": 0
      },
      "text/plain": [
       "  0%|          | 0/10 [00:00<?, ?it/s]"
      ]
     },
     "metadata": {},
     "output_type": "display_data"
    },
    {
     "name": "stdout",
     "output_type": "stream",
     "text": [
      "Found new minimum for x:0.25, T:100 fun: 0.05331346822294526\n",
      "Found new minimum for x:0.25, T:100 fun: -0.0614040227172043\n"
     ]
    },
    {
     "data": {
      "application/vnd.jupyter.widget-view+json": {
       "model_id": "7734aa37fb2949488d30fd4508e77c3b",
       "version_major": 2,
       "version_minor": 0
      },
      "text/plain": [
       "  0%|          | 0/10 [00:00<?, ?it/s]"
      ]
     },
     "metadata": {},
     "output_type": "display_data"
    },
    {
     "name": "stdout",
     "output_type": "stream",
     "text": [
      "Found new minimum for x:0.4999999999999998, T:100 fun: 0.2860878296278203\n",
      "Found new minimum for x:0.4999999999999998, T:100 fun: 0.08222316410532007\n",
      "Found new minimum for x:0.4999999999999998, T:100 fun: 0.07585974600482265\n",
      "Found new minimum for x:0.4999999999999998, T:100 fun: 0.05134713757826967\n"
     ]
    },
    {
     "data": {
      "application/vnd.jupyter.widget-view+json": {
       "model_id": "bc01371bb54446688b62755120d210b6",
       "version_major": 2,
       "version_minor": 0
      },
      "text/plain": [
       "  0%|          | 0/10 [00:00<?, ?it/s]"
      ]
     },
     "metadata": {},
     "output_type": "display_data"
    },
    {
     "name": "stdout",
     "output_type": "stream",
     "text": [
      "Found new minimum for x:0.7499999999999998, T:100 fun: 0.24986948917866109\n",
      "Found new minimum for x:0.7499999999999998, T:100 fun: 0.2381736631801699\n",
      "Found new minimum for x:0.7499999999999998, T:100 fun: 0.2338114721163124\n"
     ]
    },
    {
     "data": {
      "application/vnd.jupyter.widget-view+json": {
       "model_id": "0a557a3dc0454137974657359929f653",
       "version_major": 2,
       "version_minor": 0
      },
      "text/plain": [
       "  0%|          | 0/10 [00:00<?, ?it/s]"
      ]
     },
     "metadata": {},
     "output_type": "display_data"
    },
    {
     "name": "stdout",
     "output_type": "stream",
     "text": [
      "Found new minimum for x:0.9999999999999998, T:100 fun: 0.39999998651212637\n",
      "Found new minimum for x:0.9999999999999998, T:100 fun: 0.39999997681076754\n"
     ]
    },
    {
     "data": {
      "application/vnd.jupyter.widget-view+json": {
       "model_id": "b8d30a56a03e47e2914de85b3ed02f7b",
       "version_major": 2,
       "version_minor": 0
      },
      "text/plain": [
       "  0%|          | 0/9 [00:00<?, ?it/s]"
      ]
     },
     "metadata": {},
     "output_type": "display_data"
    },
    {
     "data": {
      "application/vnd.jupyter.widget-view+json": {
       "model_id": "161b71c3f0e94b1a96e04127ae7ccf3f",
       "version_major": 2,
       "version_minor": 0
      },
      "text/plain": [
       "  0%|          | 0/10 [00:00<?, ?it/s]"
      ]
     },
     "metadata": {},
     "output_type": "display_data"
    },
    {
     "name": "stdout",
     "output_type": "stream",
     "text": [
      "Found new minimum for x:-0.9999999999999998, T:500 fun: 0.3999999630632644\n",
      "Found new minimum for x:-0.9999999999999998, T:500 fun: 0.39999996250263914\n",
      "Found new minimum for x:-0.9999999999999998, T:500 fun: 0.39999996217416167\n",
      "Found new minimum for x:-0.9999999999999998, T:500 fun: 0.39999996081213285\n",
      "Found new minimum for x:-0.9999999999999998, T:500 fun: 0.39999995110846215\n"
     ]
    },
    {
     "data": {
      "application/vnd.jupyter.widget-view+json": {
       "model_id": "4a1d8f5f62c642cfaf153343113803da",
       "version_major": 2,
       "version_minor": 0
      },
      "text/plain": [
       "  0%|          | 0/10 [00:00<?, ?it/s]"
      ]
     },
     "metadata": {},
     "output_type": "display_data"
    },
    {
     "name": "stdout",
     "output_type": "stream",
     "text": [
      "Found new minimum for x:-0.7499999999999998, T:500 fun: 0.1883587754401429\n",
      "Found new minimum for x:-0.7499999999999998, T:500 fun: 0.18807899958194657\n",
      "Found new minimum for x:-0.7499999999999998, T:500 fun: 0.18257953637166424\n"
     ]
    },
    {
     "data": {
      "application/vnd.jupyter.widget-view+json": {
       "model_id": "b305cdd8c61b44fda4ff18ca49ad970c",
       "version_major": 2,
       "version_minor": 0
      },
      "text/plain": [
       "  0%|          | 0/10 [00:00<?, ?it/s]"
      ]
     },
     "metadata": {},
     "output_type": "display_data"
    },
    {
     "name": "stdout",
     "output_type": "stream",
     "text": [
      "Found new minimum for x:-0.4999999999999999, T:500 fun: 0.0448653501202234\n",
      "Found new minimum for x:-0.4999999999999999, T:500 fun: 0.004069025907475918\n",
      "Found new minimum for x:-0.4999999999999999, T:500 fun: 0.001983158243879596\n"
     ]
    },
    {
     "data": {
      "application/vnd.jupyter.widget-view+json": {
       "model_id": "06c4baa95f5b482ab97df46d0983f4cf",
       "version_major": 2,
       "version_minor": 0
      },
      "text/plain": [
       "  0%|          | 0/10 [00:00<?, ?it/s]"
      ]
     },
     "metadata": {},
     "output_type": "display_data"
    },
    {
     "name": "stdout",
     "output_type": "stream",
     "text": [
      "Found new minimum for x:-0.25, T:500 fun: 0.01192177690658551\n",
      "Found new minimum for x:-0.25, T:500 fun: -0.06613206577118504\n",
      "Found new minimum for x:-0.25, T:500 fun: -0.07795328551686398\n",
      "Found new minimum for x:-0.25, T:500 fun: -0.08624527408680986\n"
     ]
    },
    {
     "data": {
      "application/vnd.jupyter.widget-view+json": {
       "model_id": "5183ac2b00b44ed88d69cf4831327954",
       "version_major": 2,
       "version_minor": 0
      },
      "text/plain": [
       "  0%|          | 0/10 [00:00<?, ?it/s]"
      ]
     },
     "metadata": {},
     "output_type": "display_data"
    },
    {
     "name": "stdout",
     "output_type": "stream",
     "text": [
      "Found new minimum for x:0.0, T:500 fun: -0.043834797089680744\n",
      "Found new minimum for x:0.0, T:500 fun: -0.09313842552506141\n",
      "Found new minimum for x:0.0, T:500 fun: -0.16391888905452978\n",
      "Found new minimum for x:0.0, T:500 fun: -0.17071937098802062\n"
     ]
    },
    {
     "data": {
      "application/vnd.jupyter.widget-view+json": {
       "model_id": "5a89111612a5468ab7709801feef291b",
       "version_major": 2,
       "version_minor": 0
      },
      "text/plain": [
       "  0%|          | 0/10 [00:00<?, ?it/s]"
      ]
     },
     "metadata": {},
     "output_type": "display_data"
    },
    {
     "name": "stdout",
     "output_type": "stream",
     "text": [
      "Found new minimum for x:0.25, T:500 fun: -0.01930381764351441\n",
      "Found new minimum for x:0.25, T:500 fun: -0.06495501203602426\n",
      "Found new minimum for x:0.25, T:500 fun: -0.0781212831943946\n",
      "Found new minimum for x:0.25, T:500 fun: -0.109353505356164\n"
     ]
    },
    {
     "data": {
      "application/vnd.jupyter.widget-view+json": {
       "model_id": "7638a5018e6048c2bd9f1e7f15db6af8",
       "version_major": 2,
       "version_minor": 0
      },
      "text/plain": [
       "  0%|          | 0/10 [00:00<?, ?it/s]"
      ]
     },
     "metadata": {},
     "output_type": "display_data"
    },
    {
     "name": "stdout",
     "output_type": "stream",
     "text": [
      "Found new minimum for x:0.4999999999999998, T:500 fun: 0.06281913070454911\n",
      "Found new minimum for x:0.4999999999999998, T:500 fun: 0.05847879308197519\n",
      "Found new minimum for x:0.4999999999999998, T:500 fun: 0.034331118614792294\n",
      "Found new minimum for x:0.4999999999999998, T:500 fun: 0.026672070381542054\n",
      "Found new minimum for x:0.4999999999999998, T:500 fun: 0.010233487624123669\n"
     ]
    },
    {
     "data": {
      "application/vnd.jupyter.widget-view+json": {
       "model_id": "ffb7b2779a604ad08132cfdb948dd59b",
       "version_major": 2,
       "version_minor": 0
      },
      "text/plain": [
       "  0%|          | 0/10 [00:00<?, ?it/s]"
      ]
     },
     "metadata": {},
     "output_type": "display_data"
    },
    {
     "name": "stdout",
     "output_type": "stream",
     "text": [
      "Found new minimum for x:0.7499999999999998, T:500 fun: 0.2086834929657639\n",
      "Found new minimum for x:0.7499999999999998, T:500 fun: 0.2023757979950987\n",
      "Found new minimum for x:0.7499999999999998, T:500 fun: 0.1833183767545652\n",
      "Found new minimum for x:0.7499999999999998, T:500 fun: 0.17470864884401327\n",
      "Found new minimum for x:0.7499999999999998, T:500 fun: 0.1700765702915389\n"
     ]
    },
    {
     "data": {
      "application/vnd.jupyter.widget-view+json": {
       "model_id": "c6a43aae608e4c60a706ba405a3d10d2",
       "version_major": 2,
       "version_minor": 0
      },
      "text/plain": [
       "  0%|          | 0/10 [00:00<?, ?it/s]"
      ]
     },
     "metadata": {},
     "output_type": "display_data"
    },
    {
     "name": "stdout",
     "output_type": "stream",
     "text": [
      "Found new minimum for x:0.9999999999999998, T:500 fun: 0.3999999716242509\n",
      "Found new minimum for x:0.9999999999999998, T:500 fun: 0.39999995410599526\n"
     ]
    },
    {
     "data": {
      "application/vnd.jupyter.widget-view+json": {
       "model_id": "90fc262daa0b4228b7b3d8fa66cd8bd4",
       "version_major": 2,
       "version_minor": 0
      },
      "text/plain": [
       "  0%|          | 0/9 [00:00<?, ?it/s]"
      ]
     },
     "metadata": {},
     "output_type": "display_data"
    },
    {
     "data": {
      "application/vnd.jupyter.widget-view+json": {
       "model_id": "39652b0aa50d42dbb43a55f5803b143a",
       "version_major": 2,
       "version_minor": 0
      },
      "text/plain": [
       "  0%|          | 0/10 [00:00<?, ?it/s]"
      ]
     },
     "metadata": {},
     "output_type": "display_data"
    },
    {
     "name": "stdout",
     "output_type": "stream",
     "text": [
      "Found new minimum for x:-0.9999999999999998, T:1000 fun: 0.3999999566020468\n",
      "Found new minimum for x:-0.9999999999999998, T:1000 fun: 0.3999999320765661\n",
      "Found new minimum for x:-0.9999999999999998, T:1000 fun: 0.3999999303380169\n",
      "Found new minimum for x:-0.9999999999999998, T:1000 fun: 0.3999999263246779\n"
     ]
    },
    {
     "data": {
      "application/vnd.jupyter.widget-view+json": {
       "model_id": "c5e4688e8098416d850f8219ce13c34d",
       "version_major": 2,
       "version_minor": 0
      },
      "text/plain": [
       "  0%|          | 0/10 [00:00<?, ?it/s]"
      ]
     },
     "metadata": {},
     "output_type": "display_data"
    },
    {
     "name": "stdout",
     "output_type": "stream",
     "text": [
      "Found new minimum for x:-0.7499999999999998, T:1000 fun: 0.13820383695444888\n",
      "Found new minimum for x:-0.7499999999999998, T:1000 fun: 0.1283128255952083\n"
     ]
    },
    {
     "data": {
      "application/vnd.jupyter.widget-view+json": {
       "model_id": "e6019755685949e4b5b3e9f7c8826ea9",
       "version_major": 2,
       "version_minor": 0
      },
      "text/plain": [
       "  0%|          | 0/10 [00:00<?, ?it/s]"
      ]
     },
     "metadata": {},
     "output_type": "display_data"
    },
    {
     "name": "stdout",
     "output_type": "stream",
     "text": [
      "Found new minimum for x:-0.4999999999999999, T:1000 fun: -0.01928051836797995\n",
      "Found new minimum for x:-0.4999999999999999, T:1000 fun: -0.12640549200582957\n",
      "Found new minimum for x:-0.4999999999999999, T:1000 fun: -0.12659076269252825\n",
      "Found new minimum for x:-0.4999999999999999, T:1000 fun: -0.17108447679935027\n"
     ]
    },
    {
     "data": {
      "application/vnd.jupyter.widget-view+json": {
       "model_id": "71f7305656c94537ab7aea2fe0dbc1b1",
       "version_major": 2,
       "version_minor": 0
      },
      "text/plain": [
       "  0%|          | 0/10 [00:00<?, ?it/s]"
      ]
     },
     "metadata": {},
     "output_type": "display_data"
    },
    {
     "name": "stdout",
     "output_type": "stream",
     "text": [
      "Found new minimum for x:-0.25, T:1000 fun: -0.19132063662199036\n",
      "Found new minimum for x:-0.25, T:1000 fun: -0.203564268818698\n",
      "Found new minimum for x:-0.25, T:1000 fun: -0.23248921573569753\n"
     ]
    },
    {
     "data": {
      "application/vnd.jupyter.widget-view+json": {
       "model_id": "0a12a583b8194bd08518c835b8434196",
       "version_major": 2,
       "version_minor": 0
      },
      "text/plain": [
       "  0%|          | 0/10 [00:00<?, ?it/s]"
      ]
     },
     "metadata": {},
     "output_type": "display_data"
    },
    {
     "name": "stdout",
     "output_type": "stream",
     "text": [
      "Found new minimum for x:0.0, T:1000 fun: -0.1842450799878577\n",
      "Found new minimum for x:0.0, T:1000 fun: -0.19586976497348452\n",
      "Found new minimum for x:0.0, T:1000 fun: -0.2077333403901027\n",
      "Found new minimum for x:0.0, T:1000 fun: -0.2167904475286431\n",
      "Found new minimum for x:0.0, T:1000 fun: -0.22114645378427486\n"
     ]
    },
    {
     "data": {
      "application/vnd.jupyter.widget-view+json": {
       "model_id": "2b0a513a94eb4e03bb8a46666abacec9",
       "version_major": 2,
       "version_minor": 0
      },
      "text/plain": [
       "  0%|          | 0/10 [00:00<?, ?it/s]"
      ]
     },
     "metadata": {},
     "output_type": "display_data"
    },
    {
     "name": "stdout",
     "output_type": "stream",
     "text": [
      "Found new minimum for x:0.25, T:1000 fun: -0.11600160637713623\n",
      "Found new minimum for x:0.25, T:1000 fun: -0.1926880448179478\n",
      "Found new minimum for x:0.25, T:1000 fun: -0.1975739952541796\n"
     ]
    },
    {
     "data": {
      "application/vnd.jupyter.widget-view+json": {
       "model_id": "95d91e6f17d94020ba8fcfaff1682dda",
       "version_major": 2,
       "version_minor": 0
      },
      "text/plain": [
       "  0%|          | 0/10 [00:00<?, ?it/s]"
      ]
     },
     "metadata": {},
     "output_type": "display_data"
    },
    {
     "name": "stdout",
     "output_type": "stream",
     "text": [
      "Found new minimum for x:0.4999999999999998, T:1000 fun: -0.061905156348563084\n",
      "Found new minimum for x:0.4999999999999998, T:1000 fun: -0.08917929277484726\n"
     ]
    },
    {
     "data": {
      "application/vnd.jupyter.widget-view+json": {
       "model_id": "3faf22fb6e05415ab0c3c26e199233f8",
       "version_major": 2,
       "version_minor": 0
      },
      "text/plain": [
       "  0%|          | 0/10 [00:00<?, ?it/s]"
      ]
     },
     "metadata": {},
     "output_type": "display_data"
    },
    {
     "name": "stdout",
     "output_type": "stream",
     "text": [
      "Found new minimum for x:0.7499999999999998, T:1000 fun: 0.13439809527885566\n",
      "Found new minimum for x:0.7499999999999998, T:1000 fun: 0.12422400392156305\n",
      "Found new minimum for x:0.7499999999999998, T:1000 fun: 0.11730369265039656\n",
      "Found new minimum for x:0.7499999999999998, T:1000 fun: 0.10331565100384726\n"
     ]
    },
    {
     "data": {
      "application/vnd.jupyter.widget-view+json": {
       "model_id": "13597ec2357849779db7f9d65ddf7b04",
       "version_major": 2,
       "version_minor": 0
      },
      "text/plain": [
       "  0%|          | 0/10 [00:00<?, ?it/s]"
      ]
     },
     "metadata": {},
     "output_type": "display_data"
    },
    {
     "name": "stdout",
     "output_type": "stream",
     "text": [
      "Found new minimum for x:0.9999999999999998, T:1000 fun: 0.39999994919683907\n",
      "Found new minimum for x:0.9999999999999998, T:1000 fun: 0.3999999303507799\n",
      "Found new minimum for x:0.9999999999999998, T:1000 fun: 0.3999999255577899\n",
      "Found new minimum for x:0.9999999999999998, T:1000 fun: 0.39999992344749324\n"
     ]
    },
    {
     "data": {
      "application/vnd.jupyter.widget-view+json": {
       "model_id": "eee2e71d455e4fec8d409175a9fa91da",
       "version_major": 2,
       "version_minor": 0
      },
      "text/plain": [
       "  0%|          | 0/9 [00:00<?, ?it/s]"
      ]
     },
     "metadata": {},
     "output_type": "display_data"
    },
    {
     "data": {
      "application/vnd.jupyter.widget-view+json": {
       "model_id": "8882626fb69148368cd8a78948df35d2",
       "version_major": 2,
       "version_minor": 0
      },
      "text/plain": [
       "  0%|          | 0/10 [00:00<?, ?it/s]"
      ]
     },
     "metadata": {},
     "output_type": "display_data"
    },
    {
     "name": "stdout",
     "output_type": "stream",
     "text": [
      "Found new minimum for x:-0.9999999999999998, T:3000 fun: 0.39999983071894046\n",
      "Found new minimum for x:-0.9999999999999998, T:3000 fun: 0.39999982245461724\n",
      "Found new minimum for x:-0.9999999999999998, T:3000 fun: 0.3999998223132896\n",
      "Found new minimum for x:-0.9999999999999998, T:3000 fun: 0.39999980653026806\n",
      "Found new minimum for x:-0.9999999999999998, T:3000 fun: 0.39999980487486453\n",
      "Found new minimum for x:-0.9999999999999998, T:3000 fun: 0.39999980023671133\n"
     ]
    },
    {
     "data": {
      "application/vnd.jupyter.widget-view+json": {
       "model_id": "1eda8afd0a1a49a4904671c5babd4b59",
       "version_major": 2,
       "version_minor": 0
      },
      "text/plain": [
       "  0%|          | 0/10 [00:00<?, ?it/s]"
      ]
     },
     "metadata": {},
     "output_type": "display_data"
    },
    {
     "name": "stdout",
     "output_type": "stream",
     "text": [
      "Found new minimum for x:-0.7499999999999998, T:3000 fun: -0.09714076173255753\n",
      "Found new minimum for x:-0.7499999999999998, T:3000 fun: -0.12194142954434278\n",
      "Found new minimum for x:-0.7499999999999998, T:3000 fun: -0.13317116074582863\n",
      "Found new minimum for x:-0.7499999999999998, T:3000 fun: -0.13323045653325377\n"
     ]
    },
    {
     "data": {
      "application/vnd.jupyter.widget-view+json": {
       "model_id": "32257ffcc7df40fa988a06bb9ddfe1a0",
       "version_major": 2,
       "version_minor": 0
      },
      "text/plain": [
       "  0%|          | 0/10 [00:00<?, ?it/s]"
      ]
     },
     "metadata": {},
     "output_type": "display_data"
    },
    {
     "name": "stdout",
     "output_type": "stream",
     "text": [
      "Found new minimum for x:-0.4999999999999999, T:3000 fun: -0.4535629399923578\n",
      "Found new minimum for x:-0.4999999999999999, T:3000 fun: -0.4634182591368814\n",
      "Found new minimum for x:-0.4999999999999999, T:3000 fun: -0.4712109175933117\n"
     ]
    },
    {
     "data": {
      "application/vnd.jupyter.widget-view+json": {
       "model_id": "ae914caa79294be98b5ec68110b33ddd",
       "version_major": 2,
       "version_minor": 0
      },
      "text/plain": [
       "  0%|          | 0/10 [00:00<?, ?it/s]"
      ]
     },
     "metadata": {},
     "output_type": "display_data"
    },
    {
     "name": "stdout",
     "output_type": "stream",
     "text": [
      "Found new minimum for x:-0.25, T:3000 fun: -0.67123490354133\n"
     ]
    },
    {
     "data": {
      "application/vnd.jupyter.widget-view+json": {
       "model_id": "7e65a35075474ffcbd21d2741daacd4d",
       "version_major": 2,
       "version_minor": 0
      },
      "text/plain": [
       "  0%|          | 0/10 [00:00<?, ?it/s]"
      ]
     },
     "metadata": {},
     "output_type": "display_data"
    },
    {
     "name": "stdout",
     "output_type": "stream",
     "text": [
      "Found new minimum for x:0.0, T:3000 fun: -0.6169901652564401\n",
      "Found new minimum for x:0.0, T:3000 fun: -0.6988504901276452\n"
     ]
    },
    {
     "data": {
      "application/vnd.jupyter.widget-view+json": {
       "model_id": "76e3baac401e490080bc153b03947ae2",
       "version_major": 2,
       "version_minor": 0
      },
      "text/plain": [
       "  0%|          | 0/10 [00:00<?, ?it/s]"
      ]
     },
     "metadata": {},
     "output_type": "display_data"
    },
    {
     "name": "stdout",
     "output_type": "stream",
     "text": [
      "Found new minimum for x:0.25, T:3000 fun: -0.5440124721006114\n",
      "Found new minimum for x:0.25, T:3000 fun: -0.6311872232255533\n",
      "Found new minimum for x:0.25, T:3000 fun: -0.708818721703263\n"
     ]
    },
    {
     "data": {
      "application/vnd.jupyter.widget-view+json": {
       "model_id": "ce7e6072a65140e5b12ba08490ff570c",
       "version_major": 2,
       "version_minor": 0
      },
      "text/plain": [
       "  0%|          | 0/10 [00:00<?, ?it/s]"
      ]
     },
     "metadata": {},
     "output_type": "display_data"
    },
    {
     "name": "stdout",
     "output_type": "stream",
     "text": [
      "Found new minimum for x:0.4999999999999998, T:3000 fun: -0.3670200191317903\n",
      "Found new minimum for x:0.4999999999999998, T:3000 fun: -0.4836140672876081\n"
     ]
    },
    {
     "data": {
      "application/vnd.jupyter.widget-view+json": {
       "model_id": "0d7e95dba121408dac05f18fa4f95c3d",
       "version_major": 2,
       "version_minor": 0
      },
      "text/plain": [
       "  0%|          | 0/10 [00:00<?, ?it/s]"
      ]
     },
     "metadata": {},
     "output_type": "display_data"
    },
    {
     "name": "stdout",
     "output_type": "stream",
     "text": [
      "Found new minimum for x:0.7499999999999998, T:3000 fun: -0.12104714156824148\n",
      "Found new minimum for x:0.7499999999999998, T:3000 fun: -0.1254229439976237\n",
      "Found new minimum for x:0.7499999999999998, T:3000 fun: -0.12756776696307706\n",
      "Found new minimum for x:0.7499999999999998, T:3000 fun: -0.13124717844704278\n",
      "Found new minimum for x:0.7499999999999998, T:3000 fun: -0.1354572464880901\n"
     ]
    },
    {
     "data": {
      "application/vnd.jupyter.widget-view+json": {
       "model_id": "2fa129f8c63747a89743628cd4dd7050",
       "version_major": 2,
       "version_minor": 0
      },
      "text/plain": [
       "  0%|          | 0/10 [00:00<?, ?it/s]"
      ]
     },
     "metadata": {},
     "output_type": "display_data"
    },
    {
     "name": "stdout",
     "output_type": "stream",
     "text": [
      "Found new minimum for x:0.9999999999999998, T:3000 fun: 0.3999999128433328\n",
      "Found new minimum for x:0.9999999999999998, T:3000 fun: 0.3999998341141116\n",
      "Found new minimum for x:0.9999999999999998, T:3000 fun: 0.3999998199879255\n"
     ]
    }
   ],
   "source": [
    "results_uniform = pd.DataFrame(columns = ['T', '1-point_corr', 'F','corrs'])\n",
    "NUM_TRIALS = 10\n",
    "\n",
    "for temp in [0,100,500,1000,3000]:#tqdm(np.linspace(0, 2000, num=20)):\n",
    "    for x in tqdm(np.linspace(-1+np.finfo(float).eps,1-np.finfo(float).eps,9)):\n",
    "        FIXED_CORR_1 = x\n",
    "        \n",
    "        MIN_RES_VAL = 1e5 #random large number\n",
    "        rho_pair = np.array([None,None])\n",
    "        #corrs0 = np.array([1, *np.random.uniform(-1, 1, 2)])\n",
    "        MIN_RES = corrs0\n",
    "\n",
    "        linear_constraints = []\n",
    "\n",
    "        for cluster_idx, _ in clusters.items():\n",
    "            \n",
    "            if cluster_idx == 0:\n",
    "                linear_constraints.append(LinearConstraint(vmat[cluster_idx],\n",
    "                                                           [1]*len(configcoef[cluster_idx]),\n",
    "                                                           [1]*len(configcoef[cluster_idx])))\n",
    "            else:\n",
    "                linear_constraints.append(LinearConstraint(vmat[cluster_idx],\n",
    "                                                           [0]*len(configcoef[cluster_idx]),\n",
    "                                                           [1]*len(configcoef[cluster_idx])))\n",
    "        \n",
    "        bounds_corrs = Bounds([1, FIXED_CORR_1,*[-1]*(len(clusters)-2)],\n",
    "                              [1, FIXED_CORR_1,*[1]*(len(clusters)-2)]\n",
    "                             )\n",
    "     \n",
    "        options = {'verbose' : 0,\n",
    "                   'maxiter' : 5000,\n",
    "                   'xtol'    : 1e-9,\n",
    "                   'initial_constr_penalty' : 10,\n",
    "                  }\n",
    "        \n",
    "        for _ in tqdm(range(NUM_TRIALS)):\n",
    "            \n",
    "            corrs0 = np.array([1, x, *np.random.uniform(-1, 1, 4)])\n",
    "            res = minimize(F,\n",
    "                           corrs0,\n",
    "                           method='trust-constr',\n",
    "                           args=(vmat, kb, clusters, configs, configcoef,temp,eci),\n",
    "                           options=options,\n",
    "                           #jac='3-point',\n",
    "                           #hess=BFGS(),\n",
    "                           jac=F_jacobian,\n",
    "                           hess=F_hessian,\n",
    "                           constraints=[*linear_constraints, \n",
    "                                        {'fun': constraint_singlet, 'type': 'eq', 'args': [FIXED_CORR_1]},\n",
    "                                        {'fun': constraint_zero, 'type':'eq',},\n",
    "                                        #{'fun': constraint_rhos_sum, 'type': 'eq', 'args': [vmat, clusters, configcoef,]},\n",
    "                                       ],\n",
    "                           bounds=bounds_corrs,\n",
    "                          )\n",
    "            \n",
    "            if res.fun < MIN_RES_VAL:\n",
    "                MIN_RES = res\n",
    "                MIN_RES_VAL = res.fun\n",
    "                print(f\"Found new minimum for x:{x}, T:{temp} fun: {MIN_RES_VAL}\")\n",
    "        \n",
    "            \n",
    "        for cluster_idx in clusters.keys():\n",
    "                assert np.isclose(np.inner(configcoef[cluster_idx],np.matmul(vmat[cluster_idx],res.x)),1.0)\n",
    "        \n",
    "        results_uniform = results_uniform.append({'T' : temp, \n",
    "                                           '1-point_corr' : x, \n",
    "                                           'F' : MIN_RES.fun, \n",
    "                                           'corrs': MIN_RES.x,\n",
    "                                          }, \n",
    "                                          ignore_index = True\n",
    "                                         )\n",
    "now = datetime.now()\n",
    "now = now.strftime(\"%d-%m-%H:%M\")\n",
    "results_uniform.to_pickle(f'phaseDiag_{now}_uniform.pickle')"
   ]
  },
  {
   "cell_type": "markdown",
   "metadata": {
    "heading_collapsed": true,
    "hidden": true
   },
   "source": [
    "## Plot Phase Diagram"
   ]
  },
  {
   "cell_type": "code",
   "execution_count": 60,
   "metadata": {
    "ExecuteTime": {
     "end_time": "2021-09-13T02:50:18.543825Z",
     "start_time": "2021-09-13T02:50:18.477466Z"
    },
    "hidden": true
   },
   "outputs": [
    {
     "data": {
      "application/vnd.plotly.v1+json": {
       "config": {
        "plotlyServerURL": "https://plot.ly"
       },
       "data": [
        {
         "mode": "markers+lines",
         "name": "T = 0",
         "type": "scatter",
         "x": [
          -0.9999999999999998,
          -0.7499999999999998,
          -0.4999999999999999,
          -0.25,
          0,
          0.25,
          0.4999999999999998,
          0.7499999999999998,
          0.9999999999999998
         ],
         "y": [
          0.3999999831831035,
          0.2251270659544077,
          0.05455099656822085,
          0.008234873352174559,
          -0.03404655585881945,
          -0.02660156892973753,
          0.09925224121728965,
          0.2001008209184657,
          0.39999998229099726
         ]
        },
        {
         "mode": "markers+lines",
         "name": "T = 100",
         "type": "scatter",
         "x": [
          -0.9999999999999998,
          -0.7499999999999998,
          -0.4999999999999999,
          -0.25,
          0,
          0.25,
          0.4999999999999998,
          0.7499999999999998,
          0.9999999999999998
         ],
         "y": [
          0.3999999789659417,
          0.23011494011989164,
          0.07808233113093604,
          -0.004091520041084536,
          -0.09642376337996057,
          -0.0614040227172043,
          0.05134713757826967,
          0.2338114721163124,
          0.39999997681076754
         ]
        },
        {
         "mode": "markers+lines",
         "name": "T = 500",
         "type": "scatter",
         "x": [
          -0.9999999999999998,
          -0.7499999999999998,
          -0.4999999999999999,
          -0.25,
          0,
          0.25,
          0.4999999999999998,
          0.7499999999999998,
          0.9999999999999998
         ],
         "y": [
          0.39999995110846215,
          0.18257953637166424,
          0.001983158243879596,
          -0.08624527408680986,
          -0.17071937098802062,
          -0.109353505356164,
          0.010233487624123669,
          0.1700765702915389,
          0.39999995410599526
         ]
        },
        {
         "mode": "markers+lines",
         "name": "T = 1000",
         "type": "scatter",
         "x": [
          -0.9999999999999998,
          -0.7499999999999998,
          -0.4999999999999999,
          -0.25,
          0,
          0.25,
          0.4999999999999998,
          0.7499999999999998,
          0.9999999999999998
         ],
         "y": [
          0.3999999263246779,
          0.1283128255952083,
          -0.17108447679935027,
          -0.23248921573569753,
          -0.22114645378427486,
          -0.1975739952541796,
          -0.08917929277484726,
          0.10331565100384726,
          0.39999992344749324
         ]
        },
        {
         "mode": "markers+lines",
         "name": "T = 3000",
         "type": "scatter",
         "x": [
          -0.9999999999999998,
          -0.7499999999999998,
          -0.4999999999999999,
          -0.25,
          0,
          0.25,
          0.4999999999999998,
          0.7499999999999998,
          0.9999999999999998
         ],
         "y": [
          0.39999980023671133,
          -0.13323045653325377,
          -0.4712109175933117,
          -0.67123490354133,
          -0.6988504901276452,
          -0.708818721703263,
          -0.4836140672876081,
          -0.1354572464880901,
          0.3999998199879255
         ]
        }
       ],
       "layout": {
        "legend": {
         "title": {
          "text": "Temperature"
         }
        },
        "template": {
         "data": {
          "bar": [
           {
            "error_x": {
             "color": "rgb(36,36,36)"
            },
            "error_y": {
             "color": "rgb(36,36,36)"
            },
            "marker": {
             "line": {
              "color": "rgb(234,234,242)",
              "width": 0.5
             },
             "pattern": {
              "fillmode": "overlay",
              "size": 10,
              "solidity": 0.2
             }
            },
            "type": "bar"
           }
          ],
          "barpolar": [
           {
            "marker": {
             "line": {
              "color": "rgb(234,234,242)",
              "width": 0.5
             },
             "pattern": {
              "fillmode": "overlay",
              "size": 10,
              "solidity": 0.2
             }
            },
            "type": "barpolar"
           }
          ],
          "carpet": [
           {
            "aaxis": {
             "endlinecolor": "rgb(36,36,36)",
             "gridcolor": "white",
             "linecolor": "white",
             "minorgridcolor": "white",
             "startlinecolor": "rgb(36,36,36)"
            },
            "baxis": {
             "endlinecolor": "rgb(36,36,36)",
             "gridcolor": "white",
             "linecolor": "white",
             "minorgridcolor": "white",
             "startlinecolor": "rgb(36,36,36)"
            },
            "type": "carpet"
           }
          ],
          "choropleth": [
           {
            "colorbar": {
             "outlinewidth": 0,
             "tickcolor": "rgb(36,36,36)",
             "ticklen": 8,
             "ticks": "outside",
             "tickwidth": 2
            },
            "type": "choropleth"
           }
          ],
          "contour": [
           {
            "colorbar": {
             "outlinewidth": 0,
             "tickcolor": "rgb(36,36,36)",
             "ticklen": 8,
             "ticks": "outside",
             "tickwidth": 2
            },
            "colorscale": [
             [
              0,
              "rgb(2,4,25)"
             ],
             [
              0.06274509803921569,
              "rgb(24,15,41)"
             ],
             [
              0.12549019607843137,
              "rgb(47,23,57)"
             ],
             [
              0.18823529411764706,
              "rgb(71,28,72)"
             ],
             [
              0.25098039215686274,
              "rgb(97,30,82)"
             ],
             [
              0.3137254901960784,
              "rgb(123,30,89)"
             ],
             [
              0.3764705882352941,
              "rgb(150,27,91)"
             ],
             [
              0.4392156862745098,
              "rgb(177,22,88)"
             ],
             [
              0.5019607843137255,
              "rgb(203,26,79)"
             ],
             [
              0.5647058823529412,
              "rgb(223,47,67)"
             ],
             [
              0.6274509803921569,
              "rgb(236,76,61)"
             ],
             [
              0.6901960784313725,
              "rgb(242,107,73)"
             ],
             [
              0.7529411764705882,
              "rgb(244,135,95)"
             ],
             [
              0.8156862745098039,
              "rgb(245,162,122)"
             ],
             [
              0.8784313725490196,
              "rgb(246,188,153)"
             ],
             [
              0.9411764705882353,
              "rgb(247,212,187)"
             ],
             [
              1,
              "rgb(250,234,220)"
             ]
            ],
            "type": "contour"
           }
          ],
          "contourcarpet": [
           {
            "colorbar": {
             "outlinewidth": 0,
             "tickcolor": "rgb(36,36,36)",
             "ticklen": 8,
             "ticks": "outside",
             "tickwidth": 2
            },
            "type": "contourcarpet"
           }
          ],
          "heatmap": [
           {
            "colorbar": {
             "outlinewidth": 0,
             "tickcolor": "rgb(36,36,36)",
             "ticklen": 8,
             "ticks": "outside",
             "tickwidth": 2
            },
            "colorscale": [
             [
              0,
              "rgb(2,4,25)"
             ],
             [
              0.06274509803921569,
              "rgb(24,15,41)"
             ],
             [
              0.12549019607843137,
              "rgb(47,23,57)"
             ],
             [
              0.18823529411764706,
              "rgb(71,28,72)"
             ],
             [
              0.25098039215686274,
              "rgb(97,30,82)"
             ],
             [
              0.3137254901960784,
              "rgb(123,30,89)"
             ],
             [
              0.3764705882352941,
              "rgb(150,27,91)"
             ],
             [
              0.4392156862745098,
              "rgb(177,22,88)"
             ],
             [
              0.5019607843137255,
              "rgb(203,26,79)"
             ],
             [
              0.5647058823529412,
              "rgb(223,47,67)"
             ],
             [
              0.6274509803921569,
              "rgb(236,76,61)"
             ],
             [
              0.6901960784313725,
              "rgb(242,107,73)"
             ],
             [
              0.7529411764705882,
              "rgb(244,135,95)"
             ],
             [
              0.8156862745098039,
              "rgb(245,162,122)"
             ],
             [
              0.8784313725490196,
              "rgb(246,188,153)"
             ],
             [
              0.9411764705882353,
              "rgb(247,212,187)"
             ],
             [
              1,
              "rgb(250,234,220)"
             ]
            ],
            "type": "heatmap"
           }
          ],
          "heatmapgl": [
           {
            "colorbar": {
             "outlinewidth": 0,
             "tickcolor": "rgb(36,36,36)",
             "ticklen": 8,
             "ticks": "outside",
             "tickwidth": 2
            },
            "colorscale": [
             [
              0,
              "rgb(2,4,25)"
             ],
             [
              0.06274509803921569,
              "rgb(24,15,41)"
             ],
             [
              0.12549019607843137,
              "rgb(47,23,57)"
             ],
             [
              0.18823529411764706,
              "rgb(71,28,72)"
             ],
             [
              0.25098039215686274,
              "rgb(97,30,82)"
             ],
             [
              0.3137254901960784,
              "rgb(123,30,89)"
             ],
             [
              0.3764705882352941,
              "rgb(150,27,91)"
             ],
             [
              0.4392156862745098,
              "rgb(177,22,88)"
             ],
             [
              0.5019607843137255,
              "rgb(203,26,79)"
             ],
             [
              0.5647058823529412,
              "rgb(223,47,67)"
             ],
             [
              0.6274509803921569,
              "rgb(236,76,61)"
             ],
             [
              0.6901960784313725,
              "rgb(242,107,73)"
             ],
             [
              0.7529411764705882,
              "rgb(244,135,95)"
             ],
             [
              0.8156862745098039,
              "rgb(245,162,122)"
             ],
             [
              0.8784313725490196,
              "rgb(246,188,153)"
             ],
             [
              0.9411764705882353,
              "rgb(247,212,187)"
             ],
             [
              1,
              "rgb(250,234,220)"
             ]
            ],
            "type": "heatmapgl"
           }
          ],
          "histogram": [
           {
            "marker": {
             "pattern": {
              "fillmode": "overlay",
              "size": 10,
              "solidity": 0.2
             }
            },
            "type": "histogram"
           }
          ],
          "histogram2d": [
           {
            "colorbar": {
             "outlinewidth": 0,
             "tickcolor": "rgb(36,36,36)",
             "ticklen": 8,
             "ticks": "outside",
             "tickwidth": 2
            },
            "colorscale": [
             [
              0,
              "rgb(2,4,25)"
             ],
             [
              0.06274509803921569,
              "rgb(24,15,41)"
             ],
             [
              0.12549019607843137,
              "rgb(47,23,57)"
             ],
             [
              0.18823529411764706,
              "rgb(71,28,72)"
             ],
             [
              0.25098039215686274,
              "rgb(97,30,82)"
             ],
             [
              0.3137254901960784,
              "rgb(123,30,89)"
             ],
             [
              0.3764705882352941,
              "rgb(150,27,91)"
             ],
             [
              0.4392156862745098,
              "rgb(177,22,88)"
             ],
             [
              0.5019607843137255,
              "rgb(203,26,79)"
             ],
             [
              0.5647058823529412,
              "rgb(223,47,67)"
             ],
             [
              0.6274509803921569,
              "rgb(236,76,61)"
             ],
             [
              0.6901960784313725,
              "rgb(242,107,73)"
             ],
             [
              0.7529411764705882,
              "rgb(244,135,95)"
             ],
             [
              0.8156862745098039,
              "rgb(245,162,122)"
             ],
             [
              0.8784313725490196,
              "rgb(246,188,153)"
             ],
             [
              0.9411764705882353,
              "rgb(247,212,187)"
             ],
             [
              1,
              "rgb(250,234,220)"
             ]
            ],
            "type": "histogram2d"
           }
          ],
          "histogram2dcontour": [
           {
            "colorbar": {
             "outlinewidth": 0,
             "tickcolor": "rgb(36,36,36)",
             "ticklen": 8,
             "ticks": "outside",
             "tickwidth": 2
            },
            "colorscale": [
             [
              0,
              "rgb(2,4,25)"
             ],
             [
              0.06274509803921569,
              "rgb(24,15,41)"
             ],
             [
              0.12549019607843137,
              "rgb(47,23,57)"
             ],
             [
              0.18823529411764706,
              "rgb(71,28,72)"
             ],
             [
              0.25098039215686274,
              "rgb(97,30,82)"
             ],
             [
              0.3137254901960784,
              "rgb(123,30,89)"
             ],
             [
              0.3764705882352941,
              "rgb(150,27,91)"
             ],
             [
              0.4392156862745098,
              "rgb(177,22,88)"
             ],
             [
              0.5019607843137255,
              "rgb(203,26,79)"
             ],
             [
              0.5647058823529412,
              "rgb(223,47,67)"
             ],
             [
              0.6274509803921569,
              "rgb(236,76,61)"
             ],
             [
              0.6901960784313725,
              "rgb(242,107,73)"
             ],
             [
              0.7529411764705882,
              "rgb(244,135,95)"
             ],
             [
              0.8156862745098039,
              "rgb(245,162,122)"
             ],
             [
              0.8784313725490196,
              "rgb(246,188,153)"
             ],
             [
              0.9411764705882353,
              "rgb(247,212,187)"
             ],
             [
              1,
              "rgb(250,234,220)"
             ]
            ],
            "type": "histogram2dcontour"
           }
          ],
          "mesh3d": [
           {
            "colorbar": {
             "outlinewidth": 0,
             "tickcolor": "rgb(36,36,36)",
             "ticklen": 8,
             "ticks": "outside",
             "tickwidth": 2
            },
            "type": "mesh3d"
           }
          ],
          "parcoords": [
           {
            "line": {
             "colorbar": {
              "outlinewidth": 0,
              "tickcolor": "rgb(36,36,36)",
              "ticklen": 8,
              "ticks": "outside",
              "tickwidth": 2
             }
            },
            "type": "parcoords"
           }
          ],
          "pie": [
           {
            "automargin": true,
            "type": "pie"
           }
          ],
          "scatter": [
           {
            "marker": {
             "colorbar": {
              "outlinewidth": 0,
              "tickcolor": "rgb(36,36,36)",
              "ticklen": 8,
              "ticks": "outside",
              "tickwidth": 2
             }
            },
            "type": "scatter"
           }
          ],
          "scatter3d": [
           {
            "line": {
             "colorbar": {
              "outlinewidth": 0,
              "tickcolor": "rgb(36,36,36)",
              "ticklen": 8,
              "ticks": "outside",
              "tickwidth": 2
             }
            },
            "marker": {
             "colorbar": {
              "outlinewidth": 0,
              "tickcolor": "rgb(36,36,36)",
              "ticklen": 8,
              "ticks": "outside",
              "tickwidth": 2
             }
            },
            "type": "scatter3d"
           }
          ],
          "scattercarpet": [
           {
            "marker": {
             "colorbar": {
              "outlinewidth": 0,
              "tickcolor": "rgb(36,36,36)",
              "ticklen": 8,
              "ticks": "outside",
              "tickwidth": 2
             }
            },
            "type": "scattercarpet"
           }
          ],
          "scattergeo": [
           {
            "marker": {
             "colorbar": {
              "outlinewidth": 0,
              "tickcolor": "rgb(36,36,36)",
              "ticklen": 8,
              "ticks": "outside",
              "tickwidth": 2
             }
            },
            "type": "scattergeo"
           }
          ],
          "scattergl": [
           {
            "marker": {
             "colorbar": {
              "outlinewidth": 0,
              "tickcolor": "rgb(36,36,36)",
              "ticklen": 8,
              "ticks": "outside",
              "tickwidth": 2
             }
            },
            "type": "scattergl"
           }
          ],
          "scattermapbox": [
           {
            "marker": {
             "colorbar": {
              "outlinewidth": 0,
              "tickcolor": "rgb(36,36,36)",
              "ticklen": 8,
              "ticks": "outside",
              "tickwidth": 2
             }
            },
            "type": "scattermapbox"
           }
          ],
          "scatterpolar": [
           {
            "marker": {
             "colorbar": {
              "outlinewidth": 0,
              "tickcolor": "rgb(36,36,36)",
              "ticklen": 8,
              "ticks": "outside",
              "tickwidth": 2
             }
            },
            "type": "scatterpolar"
           }
          ],
          "scatterpolargl": [
           {
            "marker": {
             "colorbar": {
              "outlinewidth": 0,
              "tickcolor": "rgb(36,36,36)",
              "ticklen": 8,
              "ticks": "outside",
              "tickwidth": 2
             }
            },
            "type": "scatterpolargl"
           }
          ],
          "scatterternary": [
           {
            "marker": {
             "colorbar": {
              "outlinewidth": 0,
              "tickcolor": "rgb(36,36,36)",
              "ticklen": 8,
              "ticks": "outside",
              "tickwidth": 2
             }
            },
            "type": "scatterternary"
           }
          ],
          "surface": [
           {
            "colorbar": {
             "outlinewidth": 0,
             "tickcolor": "rgb(36,36,36)",
             "ticklen": 8,
             "ticks": "outside",
             "tickwidth": 2
            },
            "colorscale": [
             [
              0,
              "rgb(2,4,25)"
             ],
             [
              0.06274509803921569,
              "rgb(24,15,41)"
             ],
             [
              0.12549019607843137,
              "rgb(47,23,57)"
             ],
             [
              0.18823529411764706,
              "rgb(71,28,72)"
             ],
             [
              0.25098039215686274,
              "rgb(97,30,82)"
             ],
             [
              0.3137254901960784,
              "rgb(123,30,89)"
             ],
             [
              0.3764705882352941,
              "rgb(150,27,91)"
             ],
             [
              0.4392156862745098,
              "rgb(177,22,88)"
             ],
             [
              0.5019607843137255,
              "rgb(203,26,79)"
             ],
             [
              0.5647058823529412,
              "rgb(223,47,67)"
             ],
             [
              0.6274509803921569,
              "rgb(236,76,61)"
             ],
             [
              0.6901960784313725,
              "rgb(242,107,73)"
             ],
             [
              0.7529411764705882,
              "rgb(244,135,95)"
             ],
             [
              0.8156862745098039,
              "rgb(245,162,122)"
             ],
             [
              0.8784313725490196,
              "rgb(246,188,153)"
             ],
             [
              0.9411764705882353,
              "rgb(247,212,187)"
             ],
             [
              1,
              "rgb(250,234,220)"
             ]
            ],
            "type": "surface"
           }
          ],
          "table": [
           {
            "cells": {
             "fill": {
              "color": "rgb(231,231,240)"
             },
             "line": {
              "color": "white"
             }
            },
            "header": {
             "fill": {
              "color": "rgb(183,183,191)"
             },
             "line": {
              "color": "white"
             }
            },
            "type": "table"
           }
          ]
         },
         "layout": {
          "annotationdefaults": {
           "arrowcolor": "rgb(67,103,167)"
          },
          "autotypenumbers": "strict",
          "coloraxis": {
           "colorbar": {
            "outlinewidth": 0,
            "tickcolor": "rgb(36,36,36)",
            "ticklen": 8,
            "ticks": "outside",
            "tickwidth": 2
           }
          },
          "colorscale": {
           "sequential": [
            [
             0,
             "rgb(2,4,25)"
            ],
            [
             0.06274509803921569,
             "rgb(24,15,41)"
            ],
            [
             0.12549019607843137,
             "rgb(47,23,57)"
            ],
            [
             0.18823529411764706,
             "rgb(71,28,72)"
            ],
            [
             0.25098039215686274,
             "rgb(97,30,82)"
            ],
            [
             0.3137254901960784,
             "rgb(123,30,89)"
            ],
            [
             0.3764705882352941,
             "rgb(150,27,91)"
            ],
            [
             0.4392156862745098,
             "rgb(177,22,88)"
            ],
            [
             0.5019607843137255,
             "rgb(203,26,79)"
            ],
            [
             0.5647058823529412,
             "rgb(223,47,67)"
            ],
            [
             0.6274509803921569,
             "rgb(236,76,61)"
            ],
            [
             0.6901960784313725,
             "rgb(242,107,73)"
            ],
            [
             0.7529411764705882,
             "rgb(244,135,95)"
            ],
            [
             0.8156862745098039,
             "rgb(245,162,122)"
            ],
            [
             0.8784313725490196,
             "rgb(246,188,153)"
            ],
            [
             0.9411764705882353,
             "rgb(247,212,187)"
            ],
            [
             1,
             "rgb(250,234,220)"
            ]
           ],
           "sequentialminus": [
            [
             0,
             "rgb(2,4,25)"
            ],
            [
             0.06274509803921569,
             "rgb(24,15,41)"
            ],
            [
             0.12549019607843137,
             "rgb(47,23,57)"
            ],
            [
             0.18823529411764706,
             "rgb(71,28,72)"
            ],
            [
             0.25098039215686274,
             "rgb(97,30,82)"
            ],
            [
             0.3137254901960784,
             "rgb(123,30,89)"
            ],
            [
             0.3764705882352941,
             "rgb(150,27,91)"
            ],
            [
             0.4392156862745098,
             "rgb(177,22,88)"
            ],
            [
             0.5019607843137255,
             "rgb(203,26,79)"
            ],
            [
             0.5647058823529412,
             "rgb(223,47,67)"
            ],
            [
             0.6274509803921569,
             "rgb(236,76,61)"
            ],
            [
             0.6901960784313725,
             "rgb(242,107,73)"
            ],
            [
             0.7529411764705882,
             "rgb(244,135,95)"
            ],
            [
             0.8156862745098039,
             "rgb(245,162,122)"
            ],
            [
             0.8784313725490196,
             "rgb(246,188,153)"
            ],
            [
             0.9411764705882353,
             "rgb(247,212,187)"
            ],
            [
             1,
             "rgb(250,234,220)"
            ]
           ]
          },
          "colorway": [
           "rgb(76,114,176)",
           "rgb(221,132,82)",
           "rgb(85,168,104)",
           "rgb(196,78,82)",
           "rgb(129,114,179)",
           "rgb(147,120,96)",
           "rgb(218,139,195)",
           "rgb(140,140,140)",
           "rgb(204,185,116)",
           "rgb(100,181,205)"
          ],
          "font": {
           "color": "rgb(36,36,36)"
          },
          "geo": {
           "bgcolor": "white",
           "lakecolor": "white",
           "landcolor": "rgb(234,234,242)",
           "showlakes": true,
           "showland": true,
           "subunitcolor": "white"
          },
          "hoverlabel": {
           "align": "left"
          },
          "hovermode": "closest",
          "paper_bgcolor": "white",
          "plot_bgcolor": "rgb(234,234,242)",
          "polar": {
           "angularaxis": {
            "gridcolor": "white",
            "linecolor": "white",
            "showgrid": true,
            "ticks": ""
           },
           "bgcolor": "rgb(234,234,242)",
           "radialaxis": {
            "gridcolor": "white",
            "linecolor": "white",
            "showgrid": true,
            "ticks": ""
           }
          },
          "scene": {
           "xaxis": {
            "backgroundcolor": "rgb(234,234,242)",
            "gridcolor": "white",
            "gridwidth": 2,
            "linecolor": "white",
            "showbackground": true,
            "showgrid": true,
            "ticks": "",
            "zerolinecolor": "white"
           },
           "yaxis": {
            "backgroundcolor": "rgb(234,234,242)",
            "gridcolor": "white",
            "gridwidth": 2,
            "linecolor": "white",
            "showbackground": true,
            "showgrid": true,
            "ticks": "",
            "zerolinecolor": "white"
           },
           "zaxis": {
            "backgroundcolor": "rgb(234,234,242)",
            "gridcolor": "white",
            "gridwidth": 2,
            "linecolor": "white",
            "showbackground": true,
            "showgrid": true,
            "ticks": "",
            "zerolinecolor": "white"
           }
          },
          "shapedefaults": {
           "fillcolor": "rgb(67,103,167)",
           "line": {
            "width": 0
           },
           "opacity": 0.5
          },
          "ternary": {
           "aaxis": {
            "gridcolor": "white",
            "linecolor": "white",
            "showgrid": true,
            "ticks": ""
           },
           "baxis": {
            "gridcolor": "white",
            "linecolor": "white",
            "showgrid": true,
            "ticks": ""
           },
           "bgcolor": "rgb(234,234,242)",
           "caxis": {
            "gridcolor": "white",
            "linecolor": "white",
            "showgrid": true,
            "ticks": ""
           }
          },
          "xaxis": {
           "automargin": true,
           "gridcolor": "white",
           "linecolor": "white",
           "showgrid": true,
           "ticks": "",
           "title": {
            "standoff": 15
           },
           "zerolinecolor": "white"
          },
          "yaxis": {
           "automargin": true,
           "gridcolor": "white",
           "linecolor": "white",
           "showgrid": true,
           "ticks": "",
           "title": {
            "standoff": 15
           },
           "zerolinecolor": "white"
          }
         }
        },
        "title": {
         "text": "F vs 1-point Corr"
        },
        "xaxis": {
         "title": {
          "text": "1-point Corr"
         }
        },
        "yaxis": {
         "title": {
          "text": "F"
         }
        }
       }
      },
      "text/html": [
       "<div>                            <div id=\"8731506a-c428-4afa-ae35-8cb992a4948f\" class=\"plotly-graph-div\" style=\"height:525px; width:100%;\"></div>            <script type=\"text/javascript\">                require([\"plotly\"], function(Plotly) {                    window.PLOTLYENV=window.PLOTLYENV || {};                                    if (document.getElementById(\"8731506a-c428-4afa-ae35-8cb992a4948f\")) {                    Plotly.newPlot(                        \"8731506a-c428-4afa-ae35-8cb992a4948f\",                        [{\"mode\":\"markers+lines\",\"name\":\"T = 0\",\"type\":\"scatter\",\"x\":[-0.9999999999999998,-0.7499999999999998,-0.4999999999999999,-0.25,0.0,0.25,0.4999999999999998,0.7499999999999998,0.9999999999999998],\"y\":[0.3999999831831035,0.2251270659544077,0.05455099656822085,0.008234873352174559,-0.03404655585881945,-0.02660156892973753,0.09925224121728965,0.2001008209184657,0.39999998229099726]},{\"mode\":\"markers+lines\",\"name\":\"T = 100\",\"type\":\"scatter\",\"x\":[-0.9999999999999998,-0.7499999999999998,-0.4999999999999999,-0.25,0.0,0.25,0.4999999999999998,0.7499999999999998,0.9999999999999998],\"y\":[0.3999999789659417,0.23011494011989164,0.07808233113093604,-0.004091520041084536,-0.09642376337996057,-0.0614040227172043,0.05134713757826967,0.2338114721163124,0.39999997681076754]},{\"mode\":\"markers+lines\",\"name\":\"T = 500\",\"type\":\"scatter\",\"x\":[-0.9999999999999998,-0.7499999999999998,-0.4999999999999999,-0.25,0.0,0.25,0.4999999999999998,0.7499999999999998,0.9999999999999998],\"y\":[0.39999995110846215,0.18257953637166424,0.001983158243879596,-0.08624527408680986,-0.17071937098802062,-0.109353505356164,0.010233487624123669,0.1700765702915389,0.39999995410599526]},{\"mode\":\"markers+lines\",\"name\":\"T = 1000\",\"type\":\"scatter\",\"x\":[-0.9999999999999998,-0.7499999999999998,-0.4999999999999999,-0.25,0.0,0.25,0.4999999999999998,0.7499999999999998,0.9999999999999998],\"y\":[0.3999999263246779,0.1283128255952083,-0.17108447679935027,-0.23248921573569753,-0.22114645378427486,-0.1975739952541796,-0.08917929277484726,0.10331565100384726,0.39999992344749324]},{\"mode\":\"markers+lines\",\"name\":\"T = 3000\",\"type\":\"scatter\",\"x\":[-0.9999999999999998,-0.7499999999999998,-0.4999999999999999,-0.25,0.0,0.25,0.4999999999999998,0.7499999999999998,0.9999999999999998],\"y\":[0.39999980023671133,-0.13323045653325377,-0.4712109175933117,-0.67123490354133,-0.6988504901276452,-0.708818721703263,-0.4836140672876081,-0.1354572464880901,0.3999998199879255]}],                        {\"legend\":{\"title\":{\"text\":\"Temperature\"}},\"template\":{\"data\":{\"bar\":[{\"error_x\":{\"color\":\"rgb(36,36,36)\"},\"error_y\":{\"color\":\"rgb(36,36,36)\"},\"marker\":{\"line\":{\"color\":\"rgb(234,234,242)\",\"width\":0.5},\"pattern\":{\"fillmode\":\"overlay\",\"size\":10,\"solidity\":0.2}},\"type\":\"bar\"}],\"barpolar\":[{\"marker\":{\"line\":{\"color\":\"rgb(234,234,242)\",\"width\":0.5},\"pattern\":{\"fillmode\":\"overlay\",\"size\":10,\"solidity\":0.2}},\"type\":\"barpolar\"}],\"carpet\":[{\"aaxis\":{\"endlinecolor\":\"rgb(36,36,36)\",\"gridcolor\":\"white\",\"linecolor\":\"white\",\"minorgridcolor\":\"white\",\"startlinecolor\":\"rgb(36,36,36)\"},\"baxis\":{\"endlinecolor\":\"rgb(36,36,36)\",\"gridcolor\":\"white\",\"linecolor\":\"white\",\"minorgridcolor\":\"white\",\"startlinecolor\":\"rgb(36,36,36)\"},\"type\":\"carpet\"}],\"choropleth\":[{\"colorbar\":{\"outlinewidth\":0,\"tickcolor\":\"rgb(36,36,36)\",\"ticklen\":8,\"ticks\":\"outside\",\"tickwidth\":2},\"type\":\"choropleth\"}],\"contour\":[{\"colorbar\":{\"outlinewidth\":0,\"tickcolor\":\"rgb(36,36,36)\",\"ticklen\":8,\"ticks\":\"outside\",\"tickwidth\":2},\"colorscale\":[[0.0,\"rgb(2,4,25)\"],[0.06274509803921569,\"rgb(24,15,41)\"],[0.12549019607843137,\"rgb(47,23,57)\"],[0.18823529411764706,\"rgb(71,28,72)\"],[0.25098039215686274,\"rgb(97,30,82)\"],[0.3137254901960784,\"rgb(123,30,89)\"],[0.3764705882352941,\"rgb(150,27,91)\"],[0.4392156862745098,\"rgb(177,22,88)\"],[0.5019607843137255,\"rgb(203,26,79)\"],[0.5647058823529412,\"rgb(223,47,67)\"],[0.6274509803921569,\"rgb(236,76,61)\"],[0.6901960784313725,\"rgb(242,107,73)\"],[0.7529411764705882,\"rgb(244,135,95)\"],[0.8156862745098039,\"rgb(245,162,122)\"],[0.8784313725490196,\"rgb(246,188,153)\"],[0.9411764705882353,\"rgb(247,212,187)\"],[1.0,\"rgb(250,234,220)\"]],\"type\":\"contour\"}],\"contourcarpet\":[{\"colorbar\":{\"outlinewidth\":0,\"tickcolor\":\"rgb(36,36,36)\",\"ticklen\":8,\"ticks\":\"outside\",\"tickwidth\":2},\"type\":\"contourcarpet\"}],\"heatmap\":[{\"colorbar\":{\"outlinewidth\":0,\"tickcolor\":\"rgb(36,36,36)\",\"ticklen\":8,\"ticks\":\"outside\",\"tickwidth\":2},\"colorscale\":[[0.0,\"rgb(2,4,25)\"],[0.06274509803921569,\"rgb(24,15,41)\"],[0.12549019607843137,\"rgb(47,23,57)\"],[0.18823529411764706,\"rgb(71,28,72)\"],[0.25098039215686274,\"rgb(97,30,82)\"],[0.3137254901960784,\"rgb(123,30,89)\"],[0.3764705882352941,\"rgb(150,27,91)\"],[0.4392156862745098,\"rgb(177,22,88)\"],[0.5019607843137255,\"rgb(203,26,79)\"],[0.5647058823529412,\"rgb(223,47,67)\"],[0.6274509803921569,\"rgb(236,76,61)\"],[0.6901960784313725,\"rgb(242,107,73)\"],[0.7529411764705882,\"rgb(244,135,95)\"],[0.8156862745098039,\"rgb(245,162,122)\"],[0.8784313725490196,\"rgb(246,188,153)\"],[0.9411764705882353,\"rgb(247,212,187)\"],[1.0,\"rgb(250,234,220)\"]],\"type\":\"heatmap\"}],\"heatmapgl\":[{\"colorbar\":{\"outlinewidth\":0,\"tickcolor\":\"rgb(36,36,36)\",\"ticklen\":8,\"ticks\":\"outside\",\"tickwidth\":2},\"colorscale\":[[0.0,\"rgb(2,4,25)\"],[0.06274509803921569,\"rgb(24,15,41)\"],[0.12549019607843137,\"rgb(47,23,57)\"],[0.18823529411764706,\"rgb(71,28,72)\"],[0.25098039215686274,\"rgb(97,30,82)\"],[0.3137254901960784,\"rgb(123,30,89)\"],[0.3764705882352941,\"rgb(150,27,91)\"],[0.4392156862745098,\"rgb(177,22,88)\"],[0.5019607843137255,\"rgb(203,26,79)\"],[0.5647058823529412,\"rgb(223,47,67)\"],[0.6274509803921569,\"rgb(236,76,61)\"],[0.6901960784313725,\"rgb(242,107,73)\"],[0.7529411764705882,\"rgb(244,135,95)\"],[0.8156862745098039,\"rgb(245,162,122)\"],[0.8784313725490196,\"rgb(246,188,153)\"],[0.9411764705882353,\"rgb(247,212,187)\"],[1.0,\"rgb(250,234,220)\"]],\"type\":\"heatmapgl\"}],\"histogram\":[{\"marker\":{\"pattern\":{\"fillmode\":\"overlay\",\"size\":10,\"solidity\":0.2}},\"type\":\"histogram\"}],\"histogram2d\":[{\"colorbar\":{\"outlinewidth\":0,\"tickcolor\":\"rgb(36,36,36)\",\"ticklen\":8,\"ticks\":\"outside\",\"tickwidth\":2},\"colorscale\":[[0.0,\"rgb(2,4,25)\"],[0.06274509803921569,\"rgb(24,15,41)\"],[0.12549019607843137,\"rgb(47,23,57)\"],[0.18823529411764706,\"rgb(71,28,72)\"],[0.25098039215686274,\"rgb(97,30,82)\"],[0.3137254901960784,\"rgb(123,30,89)\"],[0.3764705882352941,\"rgb(150,27,91)\"],[0.4392156862745098,\"rgb(177,22,88)\"],[0.5019607843137255,\"rgb(203,26,79)\"],[0.5647058823529412,\"rgb(223,47,67)\"],[0.6274509803921569,\"rgb(236,76,61)\"],[0.6901960784313725,\"rgb(242,107,73)\"],[0.7529411764705882,\"rgb(244,135,95)\"],[0.8156862745098039,\"rgb(245,162,122)\"],[0.8784313725490196,\"rgb(246,188,153)\"],[0.9411764705882353,\"rgb(247,212,187)\"],[1.0,\"rgb(250,234,220)\"]],\"type\":\"histogram2d\"}],\"histogram2dcontour\":[{\"colorbar\":{\"outlinewidth\":0,\"tickcolor\":\"rgb(36,36,36)\",\"ticklen\":8,\"ticks\":\"outside\",\"tickwidth\":2},\"colorscale\":[[0.0,\"rgb(2,4,25)\"],[0.06274509803921569,\"rgb(24,15,41)\"],[0.12549019607843137,\"rgb(47,23,57)\"],[0.18823529411764706,\"rgb(71,28,72)\"],[0.25098039215686274,\"rgb(97,30,82)\"],[0.3137254901960784,\"rgb(123,30,89)\"],[0.3764705882352941,\"rgb(150,27,91)\"],[0.4392156862745098,\"rgb(177,22,88)\"],[0.5019607843137255,\"rgb(203,26,79)\"],[0.5647058823529412,\"rgb(223,47,67)\"],[0.6274509803921569,\"rgb(236,76,61)\"],[0.6901960784313725,\"rgb(242,107,73)\"],[0.7529411764705882,\"rgb(244,135,95)\"],[0.8156862745098039,\"rgb(245,162,122)\"],[0.8784313725490196,\"rgb(246,188,153)\"],[0.9411764705882353,\"rgb(247,212,187)\"],[1.0,\"rgb(250,234,220)\"]],\"type\":\"histogram2dcontour\"}],\"mesh3d\":[{\"colorbar\":{\"outlinewidth\":0,\"tickcolor\":\"rgb(36,36,36)\",\"ticklen\":8,\"ticks\":\"outside\",\"tickwidth\":2},\"type\":\"mesh3d\"}],\"parcoords\":[{\"line\":{\"colorbar\":{\"outlinewidth\":0,\"tickcolor\":\"rgb(36,36,36)\",\"ticklen\":8,\"ticks\":\"outside\",\"tickwidth\":2}},\"type\":\"parcoords\"}],\"pie\":[{\"automargin\":true,\"type\":\"pie\"}],\"scatter\":[{\"marker\":{\"colorbar\":{\"outlinewidth\":0,\"tickcolor\":\"rgb(36,36,36)\",\"ticklen\":8,\"ticks\":\"outside\",\"tickwidth\":2}},\"type\":\"scatter\"}],\"scatter3d\":[{\"line\":{\"colorbar\":{\"outlinewidth\":0,\"tickcolor\":\"rgb(36,36,36)\",\"ticklen\":8,\"ticks\":\"outside\",\"tickwidth\":2}},\"marker\":{\"colorbar\":{\"outlinewidth\":0,\"tickcolor\":\"rgb(36,36,36)\",\"ticklen\":8,\"ticks\":\"outside\",\"tickwidth\":2}},\"type\":\"scatter3d\"}],\"scattercarpet\":[{\"marker\":{\"colorbar\":{\"outlinewidth\":0,\"tickcolor\":\"rgb(36,36,36)\",\"ticklen\":8,\"ticks\":\"outside\",\"tickwidth\":2}},\"type\":\"scattercarpet\"}],\"scattergeo\":[{\"marker\":{\"colorbar\":{\"outlinewidth\":0,\"tickcolor\":\"rgb(36,36,36)\",\"ticklen\":8,\"ticks\":\"outside\",\"tickwidth\":2}},\"type\":\"scattergeo\"}],\"scattergl\":[{\"marker\":{\"colorbar\":{\"outlinewidth\":0,\"tickcolor\":\"rgb(36,36,36)\",\"ticklen\":8,\"ticks\":\"outside\",\"tickwidth\":2}},\"type\":\"scattergl\"}],\"scattermapbox\":[{\"marker\":{\"colorbar\":{\"outlinewidth\":0,\"tickcolor\":\"rgb(36,36,36)\",\"ticklen\":8,\"ticks\":\"outside\",\"tickwidth\":2}},\"type\":\"scattermapbox\"}],\"scatterpolar\":[{\"marker\":{\"colorbar\":{\"outlinewidth\":0,\"tickcolor\":\"rgb(36,36,36)\",\"ticklen\":8,\"ticks\":\"outside\",\"tickwidth\":2}},\"type\":\"scatterpolar\"}],\"scatterpolargl\":[{\"marker\":{\"colorbar\":{\"outlinewidth\":0,\"tickcolor\":\"rgb(36,36,36)\",\"ticklen\":8,\"ticks\":\"outside\",\"tickwidth\":2}},\"type\":\"scatterpolargl\"}],\"scatterternary\":[{\"marker\":{\"colorbar\":{\"outlinewidth\":0,\"tickcolor\":\"rgb(36,36,36)\",\"ticklen\":8,\"ticks\":\"outside\",\"tickwidth\":2}},\"type\":\"scatterternary\"}],\"surface\":[{\"colorbar\":{\"outlinewidth\":0,\"tickcolor\":\"rgb(36,36,36)\",\"ticklen\":8,\"ticks\":\"outside\",\"tickwidth\":2},\"colorscale\":[[0.0,\"rgb(2,4,25)\"],[0.06274509803921569,\"rgb(24,15,41)\"],[0.12549019607843137,\"rgb(47,23,57)\"],[0.18823529411764706,\"rgb(71,28,72)\"],[0.25098039215686274,\"rgb(97,30,82)\"],[0.3137254901960784,\"rgb(123,30,89)\"],[0.3764705882352941,\"rgb(150,27,91)\"],[0.4392156862745098,\"rgb(177,22,88)\"],[0.5019607843137255,\"rgb(203,26,79)\"],[0.5647058823529412,\"rgb(223,47,67)\"],[0.6274509803921569,\"rgb(236,76,61)\"],[0.6901960784313725,\"rgb(242,107,73)\"],[0.7529411764705882,\"rgb(244,135,95)\"],[0.8156862745098039,\"rgb(245,162,122)\"],[0.8784313725490196,\"rgb(246,188,153)\"],[0.9411764705882353,\"rgb(247,212,187)\"],[1.0,\"rgb(250,234,220)\"]],\"type\":\"surface\"}],\"table\":[{\"cells\":{\"fill\":{\"color\":\"rgb(231,231,240)\"},\"line\":{\"color\":\"white\"}},\"header\":{\"fill\":{\"color\":\"rgb(183,183,191)\"},\"line\":{\"color\":\"white\"}},\"type\":\"table\"}]},\"layout\":{\"annotationdefaults\":{\"arrowcolor\":\"rgb(67,103,167)\"},\"autotypenumbers\":\"strict\",\"coloraxis\":{\"colorbar\":{\"outlinewidth\":0,\"tickcolor\":\"rgb(36,36,36)\",\"ticklen\":8,\"ticks\":\"outside\",\"tickwidth\":2}},\"colorscale\":{\"sequential\":[[0.0,\"rgb(2,4,25)\"],[0.06274509803921569,\"rgb(24,15,41)\"],[0.12549019607843137,\"rgb(47,23,57)\"],[0.18823529411764706,\"rgb(71,28,72)\"],[0.25098039215686274,\"rgb(97,30,82)\"],[0.3137254901960784,\"rgb(123,30,89)\"],[0.3764705882352941,\"rgb(150,27,91)\"],[0.4392156862745098,\"rgb(177,22,88)\"],[0.5019607843137255,\"rgb(203,26,79)\"],[0.5647058823529412,\"rgb(223,47,67)\"],[0.6274509803921569,\"rgb(236,76,61)\"],[0.6901960784313725,\"rgb(242,107,73)\"],[0.7529411764705882,\"rgb(244,135,95)\"],[0.8156862745098039,\"rgb(245,162,122)\"],[0.8784313725490196,\"rgb(246,188,153)\"],[0.9411764705882353,\"rgb(247,212,187)\"],[1.0,\"rgb(250,234,220)\"]],\"sequentialminus\":[[0.0,\"rgb(2,4,25)\"],[0.06274509803921569,\"rgb(24,15,41)\"],[0.12549019607843137,\"rgb(47,23,57)\"],[0.18823529411764706,\"rgb(71,28,72)\"],[0.25098039215686274,\"rgb(97,30,82)\"],[0.3137254901960784,\"rgb(123,30,89)\"],[0.3764705882352941,\"rgb(150,27,91)\"],[0.4392156862745098,\"rgb(177,22,88)\"],[0.5019607843137255,\"rgb(203,26,79)\"],[0.5647058823529412,\"rgb(223,47,67)\"],[0.6274509803921569,\"rgb(236,76,61)\"],[0.6901960784313725,\"rgb(242,107,73)\"],[0.7529411764705882,\"rgb(244,135,95)\"],[0.8156862745098039,\"rgb(245,162,122)\"],[0.8784313725490196,\"rgb(246,188,153)\"],[0.9411764705882353,\"rgb(247,212,187)\"],[1.0,\"rgb(250,234,220)\"]]},\"colorway\":[\"rgb(76,114,176)\",\"rgb(221,132,82)\",\"rgb(85,168,104)\",\"rgb(196,78,82)\",\"rgb(129,114,179)\",\"rgb(147,120,96)\",\"rgb(218,139,195)\",\"rgb(140,140,140)\",\"rgb(204,185,116)\",\"rgb(100,181,205)\"],\"font\":{\"color\":\"rgb(36,36,36)\"},\"geo\":{\"bgcolor\":\"white\",\"lakecolor\":\"white\",\"landcolor\":\"rgb(234,234,242)\",\"showlakes\":true,\"showland\":true,\"subunitcolor\":\"white\"},\"hoverlabel\":{\"align\":\"left\"},\"hovermode\":\"closest\",\"paper_bgcolor\":\"white\",\"plot_bgcolor\":\"rgb(234,234,242)\",\"polar\":{\"angularaxis\":{\"gridcolor\":\"white\",\"linecolor\":\"white\",\"showgrid\":true,\"ticks\":\"\"},\"bgcolor\":\"rgb(234,234,242)\",\"radialaxis\":{\"gridcolor\":\"white\",\"linecolor\":\"white\",\"showgrid\":true,\"ticks\":\"\"}},\"scene\":{\"xaxis\":{\"backgroundcolor\":\"rgb(234,234,242)\",\"gridcolor\":\"white\",\"gridwidth\":2,\"linecolor\":\"white\",\"showbackground\":true,\"showgrid\":true,\"ticks\":\"\",\"zerolinecolor\":\"white\"},\"yaxis\":{\"backgroundcolor\":\"rgb(234,234,242)\",\"gridcolor\":\"white\",\"gridwidth\":2,\"linecolor\":\"white\",\"showbackground\":true,\"showgrid\":true,\"ticks\":\"\",\"zerolinecolor\":\"white\"},\"zaxis\":{\"backgroundcolor\":\"rgb(234,234,242)\",\"gridcolor\":\"white\",\"gridwidth\":2,\"linecolor\":\"white\",\"showbackground\":true,\"showgrid\":true,\"ticks\":\"\",\"zerolinecolor\":\"white\"}},\"shapedefaults\":{\"fillcolor\":\"rgb(67,103,167)\",\"line\":{\"width\":0},\"opacity\":0.5},\"ternary\":{\"aaxis\":{\"gridcolor\":\"white\",\"linecolor\":\"white\",\"showgrid\":true,\"ticks\":\"\"},\"baxis\":{\"gridcolor\":\"white\",\"linecolor\":\"white\",\"showgrid\":true,\"ticks\":\"\"},\"bgcolor\":\"rgb(234,234,242)\",\"caxis\":{\"gridcolor\":\"white\",\"linecolor\":\"white\",\"showgrid\":true,\"ticks\":\"\"}},\"xaxis\":{\"automargin\":true,\"gridcolor\":\"white\",\"linecolor\":\"white\",\"showgrid\":true,\"ticks\":\"\",\"title\":{\"standoff\":15},\"zerolinecolor\":\"white\"},\"yaxis\":{\"automargin\":true,\"gridcolor\":\"white\",\"linecolor\":\"white\",\"showgrid\":true,\"ticks\":\"\",\"title\":{\"standoff\":15},\"zerolinecolor\":\"white\"}}},\"title\":{\"text\":\"F vs 1-point Corr\"},\"xaxis\":{\"title\":{\"text\":\"1-point Corr\"}},\"yaxis\":{\"title\":{\"text\":\"F\"}}},                        {\"responsive\": true}                    ).then(function(){\n",
       "                            \n",
       "var gd = document.getElementById('8731506a-c428-4afa-ae35-8cb992a4948f');\n",
       "var x = new MutationObserver(function (mutations, observer) {{\n",
       "        var display = window.getComputedStyle(gd).display;\n",
       "        if (!display || display === 'none') {{\n",
       "            console.log([gd, 'removed!']);\n",
       "            Plotly.purge(gd);\n",
       "            observer.disconnect();\n",
       "        }}\n",
       "}});\n",
       "\n",
       "// Listen for the removal of the full notebook cells\n",
       "var notebookContainer = gd.closest('#notebook-container');\n",
       "if (notebookContainer) {{\n",
       "    x.observe(notebookContainer, {childList: true});\n",
       "}}\n",
       "\n",
       "// Listen for the clearing of the current output cell\n",
       "var outputEl = gd.closest('.output');\n",
       "if (outputEl) {{\n",
       "    x.observe(outputEl, {childList: true});\n",
       "}}\n",
       "\n",
       "                        })                };                });            </script>        </div>"
      ]
     },
     "metadata": {},
     "output_type": "display_data"
    }
   ],
   "source": [
    "fig = go.Figure()\n",
    "\n",
    "for T in results_uniform['T'].unique():\n",
    "    fig.add_trace(go.Scatter(x = results_uniform[results_uniform['T'] == T]['1-point_corr'],\n",
    "                             y = results_uniform[results_uniform['T'] == T]['F'],\n",
    "                             mode='markers+lines',\n",
    "                             name=f'T = {T}',\n",
    "                            )\n",
    "                 )\n",
    "\n",
    "fig.update_layout(\n",
    "    title=\"F vs 1-point Corr\",\n",
    "    xaxis_title=\"1-point Corr\",\n",
    "    yaxis_title=\"F\",\n",
    "    legend_title=\"Temperature\",\n",
    "    template='seaborn'\n",
    ")\n",
    "#fig.update_traces(texttemplate='%{text:.2s}', textposition='top center')\n",
    "fig.show()"
   ]
  },
  {
   "cell_type": "markdown",
   "metadata": {
    "heading_collapsed": true,
    "hidden": true
   },
   "source": [
    "## Plot Pair Correlation"
   ]
  },
  {
   "cell_type": "code",
   "execution_count": 61,
   "metadata": {
    "ExecuteTime": {
     "end_time": "2021-09-13T02:53:46.764975Z",
     "start_time": "2021-09-13T02:53:46.683988Z"
    },
    "hidden": true,
    "scrolled": false
   },
   "outputs": [
    {
     "data": {
      "application/vnd.plotly.v1+json": {
       "config": {
        "plotlyServerURL": "https://plot.ly"
       },
       "data": [
        {
         "mode": "markers+lines",
         "type": "scatter",
         "x": [
          0,
          100,
          500,
          1000,
          3000
         ],
         "y": [
          -0.08511638964704862,
          -0.19869697402337586,
          -0.14314890948348138,
          0.024967744517599987,
          0.004263221091616195
         ]
        }
       ],
       "layout": {
        "template": {
         "data": {
          "bar": [
           {
            "error_x": {
             "color": "rgb(36,36,36)"
            },
            "error_y": {
             "color": "rgb(36,36,36)"
            },
            "marker": {
             "line": {
              "color": "rgb(234,234,242)",
              "width": 0.5
             },
             "pattern": {
              "fillmode": "overlay",
              "size": 10,
              "solidity": 0.2
             }
            },
            "type": "bar"
           }
          ],
          "barpolar": [
           {
            "marker": {
             "line": {
              "color": "rgb(234,234,242)",
              "width": 0.5
             },
             "pattern": {
              "fillmode": "overlay",
              "size": 10,
              "solidity": 0.2
             }
            },
            "type": "barpolar"
           }
          ],
          "carpet": [
           {
            "aaxis": {
             "endlinecolor": "rgb(36,36,36)",
             "gridcolor": "white",
             "linecolor": "white",
             "minorgridcolor": "white",
             "startlinecolor": "rgb(36,36,36)"
            },
            "baxis": {
             "endlinecolor": "rgb(36,36,36)",
             "gridcolor": "white",
             "linecolor": "white",
             "minorgridcolor": "white",
             "startlinecolor": "rgb(36,36,36)"
            },
            "type": "carpet"
           }
          ],
          "choropleth": [
           {
            "colorbar": {
             "outlinewidth": 0,
             "tickcolor": "rgb(36,36,36)",
             "ticklen": 8,
             "ticks": "outside",
             "tickwidth": 2
            },
            "type": "choropleth"
           }
          ],
          "contour": [
           {
            "colorbar": {
             "outlinewidth": 0,
             "tickcolor": "rgb(36,36,36)",
             "ticklen": 8,
             "ticks": "outside",
             "tickwidth": 2
            },
            "colorscale": [
             [
              0,
              "rgb(2,4,25)"
             ],
             [
              0.06274509803921569,
              "rgb(24,15,41)"
             ],
             [
              0.12549019607843137,
              "rgb(47,23,57)"
             ],
             [
              0.18823529411764706,
              "rgb(71,28,72)"
             ],
             [
              0.25098039215686274,
              "rgb(97,30,82)"
             ],
             [
              0.3137254901960784,
              "rgb(123,30,89)"
             ],
             [
              0.3764705882352941,
              "rgb(150,27,91)"
             ],
             [
              0.4392156862745098,
              "rgb(177,22,88)"
             ],
             [
              0.5019607843137255,
              "rgb(203,26,79)"
             ],
             [
              0.5647058823529412,
              "rgb(223,47,67)"
             ],
             [
              0.6274509803921569,
              "rgb(236,76,61)"
             ],
             [
              0.6901960784313725,
              "rgb(242,107,73)"
             ],
             [
              0.7529411764705882,
              "rgb(244,135,95)"
             ],
             [
              0.8156862745098039,
              "rgb(245,162,122)"
             ],
             [
              0.8784313725490196,
              "rgb(246,188,153)"
             ],
             [
              0.9411764705882353,
              "rgb(247,212,187)"
             ],
             [
              1,
              "rgb(250,234,220)"
             ]
            ],
            "type": "contour"
           }
          ],
          "contourcarpet": [
           {
            "colorbar": {
             "outlinewidth": 0,
             "tickcolor": "rgb(36,36,36)",
             "ticklen": 8,
             "ticks": "outside",
             "tickwidth": 2
            },
            "type": "contourcarpet"
           }
          ],
          "heatmap": [
           {
            "colorbar": {
             "outlinewidth": 0,
             "tickcolor": "rgb(36,36,36)",
             "ticklen": 8,
             "ticks": "outside",
             "tickwidth": 2
            },
            "colorscale": [
             [
              0,
              "rgb(2,4,25)"
             ],
             [
              0.06274509803921569,
              "rgb(24,15,41)"
             ],
             [
              0.12549019607843137,
              "rgb(47,23,57)"
             ],
             [
              0.18823529411764706,
              "rgb(71,28,72)"
             ],
             [
              0.25098039215686274,
              "rgb(97,30,82)"
             ],
             [
              0.3137254901960784,
              "rgb(123,30,89)"
             ],
             [
              0.3764705882352941,
              "rgb(150,27,91)"
             ],
             [
              0.4392156862745098,
              "rgb(177,22,88)"
             ],
             [
              0.5019607843137255,
              "rgb(203,26,79)"
             ],
             [
              0.5647058823529412,
              "rgb(223,47,67)"
             ],
             [
              0.6274509803921569,
              "rgb(236,76,61)"
             ],
             [
              0.6901960784313725,
              "rgb(242,107,73)"
             ],
             [
              0.7529411764705882,
              "rgb(244,135,95)"
             ],
             [
              0.8156862745098039,
              "rgb(245,162,122)"
             ],
             [
              0.8784313725490196,
              "rgb(246,188,153)"
             ],
             [
              0.9411764705882353,
              "rgb(247,212,187)"
             ],
             [
              1,
              "rgb(250,234,220)"
             ]
            ],
            "type": "heatmap"
           }
          ],
          "heatmapgl": [
           {
            "colorbar": {
             "outlinewidth": 0,
             "tickcolor": "rgb(36,36,36)",
             "ticklen": 8,
             "ticks": "outside",
             "tickwidth": 2
            },
            "colorscale": [
             [
              0,
              "rgb(2,4,25)"
             ],
             [
              0.06274509803921569,
              "rgb(24,15,41)"
             ],
             [
              0.12549019607843137,
              "rgb(47,23,57)"
             ],
             [
              0.18823529411764706,
              "rgb(71,28,72)"
             ],
             [
              0.25098039215686274,
              "rgb(97,30,82)"
             ],
             [
              0.3137254901960784,
              "rgb(123,30,89)"
             ],
             [
              0.3764705882352941,
              "rgb(150,27,91)"
             ],
             [
              0.4392156862745098,
              "rgb(177,22,88)"
             ],
             [
              0.5019607843137255,
              "rgb(203,26,79)"
             ],
             [
              0.5647058823529412,
              "rgb(223,47,67)"
             ],
             [
              0.6274509803921569,
              "rgb(236,76,61)"
             ],
             [
              0.6901960784313725,
              "rgb(242,107,73)"
             ],
             [
              0.7529411764705882,
              "rgb(244,135,95)"
             ],
             [
              0.8156862745098039,
              "rgb(245,162,122)"
             ],
             [
              0.8784313725490196,
              "rgb(246,188,153)"
             ],
             [
              0.9411764705882353,
              "rgb(247,212,187)"
             ],
             [
              1,
              "rgb(250,234,220)"
             ]
            ],
            "type": "heatmapgl"
           }
          ],
          "histogram": [
           {
            "marker": {
             "pattern": {
              "fillmode": "overlay",
              "size": 10,
              "solidity": 0.2
             }
            },
            "type": "histogram"
           }
          ],
          "histogram2d": [
           {
            "colorbar": {
             "outlinewidth": 0,
             "tickcolor": "rgb(36,36,36)",
             "ticklen": 8,
             "ticks": "outside",
             "tickwidth": 2
            },
            "colorscale": [
             [
              0,
              "rgb(2,4,25)"
             ],
             [
              0.06274509803921569,
              "rgb(24,15,41)"
             ],
             [
              0.12549019607843137,
              "rgb(47,23,57)"
             ],
             [
              0.18823529411764706,
              "rgb(71,28,72)"
             ],
             [
              0.25098039215686274,
              "rgb(97,30,82)"
             ],
             [
              0.3137254901960784,
              "rgb(123,30,89)"
             ],
             [
              0.3764705882352941,
              "rgb(150,27,91)"
             ],
             [
              0.4392156862745098,
              "rgb(177,22,88)"
             ],
             [
              0.5019607843137255,
              "rgb(203,26,79)"
             ],
             [
              0.5647058823529412,
              "rgb(223,47,67)"
             ],
             [
              0.6274509803921569,
              "rgb(236,76,61)"
             ],
             [
              0.6901960784313725,
              "rgb(242,107,73)"
             ],
             [
              0.7529411764705882,
              "rgb(244,135,95)"
             ],
             [
              0.8156862745098039,
              "rgb(245,162,122)"
             ],
             [
              0.8784313725490196,
              "rgb(246,188,153)"
             ],
             [
              0.9411764705882353,
              "rgb(247,212,187)"
             ],
             [
              1,
              "rgb(250,234,220)"
             ]
            ],
            "type": "histogram2d"
           }
          ],
          "histogram2dcontour": [
           {
            "colorbar": {
             "outlinewidth": 0,
             "tickcolor": "rgb(36,36,36)",
             "ticklen": 8,
             "ticks": "outside",
             "tickwidth": 2
            },
            "colorscale": [
             [
              0,
              "rgb(2,4,25)"
             ],
             [
              0.06274509803921569,
              "rgb(24,15,41)"
             ],
             [
              0.12549019607843137,
              "rgb(47,23,57)"
             ],
             [
              0.18823529411764706,
              "rgb(71,28,72)"
             ],
             [
              0.25098039215686274,
              "rgb(97,30,82)"
             ],
             [
              0.3137254901960784,
              "rgb(123,30,89)"
             ],
             [
              0.3764705882352941,
              "rgb(150,27,91)"
             ],
             [
              0.4392156862745098,
              "rgb(177,22,88)"
             ],
             [
              0.5019607843137255,
              "rgb(203,26,79)"
             ],
             [
              0.5647058823529412,
              "rgb(223,47,67)"
             ],
             [
              0.6274509803921569,
              "rgb(236,76,61)"
             ],
             [
              0.6901960784313725,
              "rgb(242,107,73)"
             ],
             [
              0.7529411764705882,
              "rgb(244,135,95)"
             ],
             [
              0.8156862745098039,
              "rgb(245,162,122)"
             ],
             [
              0.8784313725490196,
              "rgb(246,188,153)"
             ],
             [
              0.9411764705882353,
              "rgb(247,212,187)"
             ],
             [
              1,
              "rgb(250,234,220)"
             ]
            ],
            "type": "histogram2dcontour"
           }
          ],
          "mesh3d": [
           {
            "colorbar": {
             "outlinewidth": 0,
             "tickcolor": "rgb(36,36,36)",
             "ticklen": 8,
             "ticks": "outside",
             "tickwidth": 2
            },
            "type": "mesh3d"
           }
          ],
          "parcoords": [
           {
            "line": {
             "colorbar": {
              "outlinewidth": 0,
              "tickcolor": "rgb(36,36,36)",
              "ticklen": 8,
              "ticks": "outside",
              "tickwidth": 2
             }
            },
            "type": "parcoords"
           }
          ],
          "pie": [
           {
            "automargin": true,
            "type": "pie"
           }
          ],
          "scatter": [
           {
            "marker": {
             "colorbar": {
              "outlinewidth": 0,
              "tickcolor": "rgb(36,36,36)",
              "ticklen": 8,
              "ticks": "outside",
              "tickwidth": 2
             }
            },
            "type": "scatter"
           }
          ],
          "scatter3d": [
           {
            "line": {
             "colorbar": {
              "outlinewidth": 0,
              "tickcolor": "rgb(36,36,36)",
              "ticklen": 8,
              "ticks": "outside",
              "tickwidth": 2
             }
            },
            "marker": {
             "colorbar": {
              "outlinewidth": 0,
              "tickcolor": "rgb(36,36,36)",
              "ticklen": 8,
              "ticks": "outside",
              "tickwidth": 2
             }
            },
            "type": "scatter3d"
           }
          ],
          "scattercarpet": [
           {
            "marker": {
             "colorbar": {
              "outlinewidth": 0,
              "tickcolor": "rgb(36,36,36)",
              "ticklen": 8,
              "ticks": "outside",
              "tickwidth": 2
             }
            },
            "type": "scattercarpet"
           }
          ],
          "scattergeo": [
           {
            "marker": {
             "colorbar": {
              "outlinewidth": 0,
              "tickcolor": "rgb(36,36,36)",
              "ticklen": 8,
              "ticks": "outside",
              "tickwidth": 2
             }
            },
            "type": "scattergeo"
           }
          ],
          "scattergl": [
           {
            "marker": {
             "colorbar": {
              "outlinewidth": 0,
              "tickcolor": "rgb(36,36,36)",
              "ticklen": 8,
              "ticks": "outside",
              "tickwidth": 2
             }
            },
            "type": "scattergl"
           }
          ],
          "scattermapbox": [
           {
            "marker": {
             "colorbar": {
              "outlinewidth": 0,
              "tickcolor": "rgb(36,36,36)",
              "ticklen": 8,
              "ticks": "outside",
              "tickwidth": 2
             }
            },
            "type": "scattermapbox"
           }
          ],
          "scatterpolar": [
           {
            "marker": {
             "colorbar": {
              "outlinewidth": 0,
              "tickcolor": "rgb(36,36,36)",
              "ticklen": 8,
              "ticks": "outside",
              "tickwidth": 2
             }
            },
            "type": "scatterpolar"
           }
          ],
          "scatterpolargl": [
           {
            "marker": {
             "colorbar": {
              "outlinewidth": 0,
              "tickcolor": "rgb(36,36,36)",
              "ticklen": 8,
              "ticks": "outside",
              "tickwidth": 2
             }
            },
            "type": "scatterpolargl"
           }
          ],
          "scatterternary": [
           {
            "marker": {
             "colorbar": {
              "outlinewidth": 0,
              "tickcolor": "rgb(36,36,36)",
              "ticklen": 8,
              "ticks": "outside",
              "tickwidth": 2
             }
            },
            "type": "scatterternary"
           }
          ],
          "surface": [
           {
            "colorbar": {
             "outlinewidth": 0,
             "tickcolor": "rgb(36,36,36)",
             "ticklen": 8,
             "ticks": "outside",
             "tickwidth": 2
            },
            "colorscale": [
             [
              0,
              "rgb(2,4,25)"
             ],
             [
              0.06274509803921569,
              "rgb(24,15,41)"
             ],
             [
              0.12549019607843137,
              "rgb(47,23,57)"
             ],
             [
              0.18823529411764706,
              "rgb(71,28,72)"
             ],
             [
              0.25098039215686274,
              "rgb(97,30,82)"
             ],
             [
              0.3137254901960784,
              "rgb(123,30,89)"
             ],
             [
              0.3764705882352941,
              "rgb(150,27,91)"
             ],
             [
              0.4392156862745098,
              "rgb(177,22,88)"
             ],
             [
              0.5019607843137255,
              "rgb(203,26,79)"
             ],
             [
              0.5647058823529412,
              "rgb(223,47,67)"
             ],
             [
              0.6274509803921569,
              "rgb(236,76,61)"
             ],
             [
              0.6901960784313725,
              "rgb(242,107,73)"
             ],
             [
              0.7529411764705882,
              "rgb(244,135,95)"
             ],
             [
              0.8156862745098039,
              "rgb(245,162,122)"
             ],
             [
              0.8784313725490196,
              "rgb(246,188,153)"
             ],
             [
              0.9411764705882353,
              "rgb(247,212,187)"
             ],
             [
              1,
              "rgb(250,234,220)"
             ]
            ],
            "type": "surface"
           }
          ],
          "table": [
           {
            "cells": {
             "fill": {
              "color": "rgb(231,231,240)"
             },
             "line": {
              "color": "white"
             }
            },
            "header": {
             "fill": {
              "color": "rgb(183,183,191)"
             },
             "line": {
              "color": "white"
             }
            },
            "type": "table"
           }
          ]
         },
         "layout": {
          "annotationdefaults": {
           "arrowcolor": "rgb(67,103,167)"
          },
          "autotypenumbers": "strict",
          "coloraxis": {
           "colorbar": {
            "outlinewidth": 0,
            "tickcolor": "rgb(36,36,36)",
            "ticklen": 8,
            "ticks": "outside",
            "tickwidth": 2
           }
          },
          "colorscale": {
           "sequential": [
            [
             0,
             "rgb(2,4,25)"
            ],
            [
             0.06274509803921569,
             "rgb(24,15,41)"
            ],
            [
             0.12549019607843137,
             "rgb(47,23,57)"
            ],
            [
             0.18823529411764706,
             "rgb(71,28,72)"
            ],
            [
             0.25098039215686274,
             "rgb(97,30,82)"
            ],
            [
             0.3137254901960784,
             "rgb(123,30,89)"
            ],
            [
             0.3764705882352941,
             "rgb(150,27,91)"
            ],
            [
             0.4392156862745098,
             "rgb(177,22,88)"
            ],
            [
             0.5019607843137255,
             "rgb(203,26,79)"
            ],
            [
             0.5647058823529412,
             "rgb(223,47,67)"
            ],
            [
             0.6274509803921569,
             "rgb(236,76,61)"
            ],
            [
             0.6901960784313725,
             "rgb(242,107,73)"
            ],
            [
             0.7529411764705882,
             "rgb(244,135,95)"
            ],
            [
             0.8156862745098039,
             "rgb(245,162,122)"
            ],
            [
             0.8784313725490196,
             "rgb(246,188,153)"
            ],
            [
             0.9411764705882353,
             "rgb(247,212,187)"
            ],
            [
             1,
             "rgb(250,234,220)"
            ]
           ],
           "sequentialminus": [
            [
             0,
             "rgb(2,4,25)"
            ],
            [
             0.06274509803921569,
             "rgb(24,15,41)"
            ],
            [
             0.12549019607843137,
             "rgb(47,23,57)"
            ],
            [
             0.18823529411764706,
             "rgb(71,28,72)"
            ],
            [
             0.25098039215686274,
             "rgb(97,30,82)"
            ],
            [
             0.3137254901960784,
             "rgb(123,30,89)"
            ],
            [
             0.3764705882352941,
             "rgb(150,27,91)"
            ],
            [
             0.4392156862745098,
             "rgb(177,22,88)"
            ],
            [
             0.5019607843137255,
             "rgb(203,26,79)"
            ],
            [
             0.5647058823529412,
             "rgb(223,47,67)"
            ],
            [
             0.6274509803921569,
             "rgb(236,76,61)"
            ],
            [
             0.6901960784313725,
             "rgb(242,107,73)"
            ],
            [
             0.7529411764705882,
             "rgb(244,135,95)"
            ],
            [
             0.8156862745098039,
             "rgb(245,162,122)"
            ],
            [
             0.8784313725490196,
             "rgb(246,188,153)"
            ],
            [
             0.9411764705882353,
             "rgb(247,212,187)"
            ],
            [
             1,
             "rgb(250,234,220)"
            ]
           ]
          },
          "colorway": [
           "rgb(76,114,176)",
           "rgb(221,132,82)",
           "rgb(85,168,104)",
           "rgb(196,78,82)",
           "rgb(129,114,179)",
           "rgb(147,120,96)",
           "rgb(218,139,195)",
           "rgb(140,140,140)",
           "rgb(204,185,116)",
           "rgb(100,181,205)"
          ],
          "font": {
           "color": "rgb(36,36,36)"
          },
          "geo": {
           "bgcolor": "white",
           "lakecolor": "white",
           "landcolor": "rgb(234,234,242)",
           "showlakes": true,
           "showland": true,
           "subunitcolor": "white"
          },
          "hoverlabel": {
           "align": "left"
          },
          "hovermode": "closest",
          "paper_bgcolor": "white",
          "plot_bgcolor": "rgb(234,234,242)",
          "polar": {
           "angularaxis": {
            "gridcolor": "white",
            "linecolor": "white",
            "showgrid": true,
            "ticks": ""
           },
           "bgcolor": "rgb(234,234,242)",
           "radialaxis": {
            "gridcolor": "white",
            "linecolor": "white",
            "showgrid": true,
            "ticks": ""
           }
          },
          "scene": {
           "xaxis": {
            "backgroundcolor": "rgb(234,234,242)",
            "gridcolor": "white",
            "gridwidth": 2,
            "linecolor": "white",
            "showbackground": true,
            "showgrid": true,
            "ticks": "",
            "zerolinecolor": "white"
           },
           "yaxis": {
            "backgroundcolor": "rgb(234,234,242)",
            "gridcolor": "white",
            "gridwidth": 2,
            "linecolor": "white",
            "showbackground": true,
            "showgrid": true,
            "ticks": "",
            "zerolinecolor": "white"
           },
           "zaxis": {
            "backgroundcolor": "rgb(234,234,242)",
            "gridcolor": "white",
            "gridwidth": 2,
            "linecolor": "white",
            "showbackground": true,
            "showgrid": true,
            "ticks": "",
            "zerolinecolor": "white"
           }
          },
          "shapedefaults": {
           "fillcolor": "rgb(67,103,167)",
           "line": {
            "width": 0
           },
           "opacity": 0.5
          },
          "ternary": {
           "aaxis": {
            "gridcolor": "white",
            "linecolor": "white",
            "showgrid": true,
            "ticks": ""
           },
           "baxis": {
            "gridcolor": "white",
            "linecolor": "white",
            "showgrid": true,
            "ticks": ""
           },
           "bgcolor": "rgb(234,234,242)",
           "caxis": {
            "gridcolor": "white",
            "linecolor": "white",
            "showgrid": true,
            "ticks": ""
           }
          },
          "xaxis": {
           "automargin": true,
           "gridcolor": "white",
           "linecolor": "white",
           "showgrid": true,
           "ticks": "",
           "title": {
            "standoff": 15
           },
           "zerolinecolor": "white"
          },
          "yaxis": {
           "automargin": true,
           "gridcolor": "white",
           "linecolor": "white",
           "showgrid": true,
           "ticks": "",
           "title": {
            "standoff": 15
           },
           "zerolinecolor": "white"
          }
         }
        },
        "title": {
         "text": "T vs 2-point Corr"
        },
        "xaxis": {
         "title": {
          "text": "T"
         }
        },
        "yaxis": {
         "title": {
          "text": "2-point Corr"
         }
        }
       }
      },
      "text/html": [
       "<div>                            <div id=\"bd2a4e93-d96d-4801-8fbd-55e4c38ae201\" class=\"plotly-graph-div\" style=\"height:525px; width:100%;\"></div>            <script type=\"text/javascript\">                require([\"plotly\"], function(Plotly) {                    window.PLOTLYENV=window.PLOTLYENV || {};                                    if (document.getElementById(\"bd2a4e93-d96d-4801-8fbd-55e4c38ae201\")) {                    Plotly.newPlot(                        \"bd2a4e93-d96d-4801-8fbd-55e4c38ae201\",                        [{\"mode\":\"markers+lines\",\"type\":\"scatter\",\"x\":[0,100,500,1000,3000],\"y\":[-0.08511638964704862,-0.19869697402337586,-0.14314890948348138,0.024967744517599987,0.004263221091616195]}],                        {\"template\":{\"data\":{\"bar\":[{\"error_x\":{\"color\":\"rgb(36,36,36)\"},\"error_y\":{\"color\":\"rgb(36,36,36)\"},\"marker\":{\"line\":{\"color\":\"rgb(234,234,242)\",\"width\":0.5},\"pattern\":{\"fillmode\":\"overlay\",\"size\":10,\"solidity\":0.2}},\"type\":\"bar\"}],\"barpolar\":[{\"marker\":{\"line\":{\"color\":\"rgb(234,234,242)\",\"width\":0.5},\"pattern\":{\"fillmode\":\"overlay\",\"size\":10,\"solidity\":0.2}},\"type\":\"barpolar\"}],\"carpet\":[{\"aaxis\":{\"endlinecolor\":\"rgb(36,36,36)\",\"gridcolor\":\"white\",\"linecolor\":\"white\",\"minorgridcolor\":\"white\",\"startlinecolor\":\"rgb(36,36,36)\"},\"baxis\":{\"endlinecolor\":\"rgb(36,36,36)\",\"gridcolor\":\"white\",\"linecolor\":\"white\",\"minorgridcolor\":\"white\",\"startlinecolor\":\"rgb(36,36,36)\"},\"type\":\"carpet\"}],\"choropleth\":[{\"colorbar\":{\"outlinewidth\":0,\"tickcolor\":\"rgb(36,36,36)\",\"ticklen\":8,\"ticks\":\"outside\",\"tickwidth\":2},\"type\":\"choropleth\"}],\"contour\":[{\"colorbar\":{\"outlinewidth\":0,\"tickcolor\":\"rgb(36,36,36)\",\"ticklen\":8,\"ticks\":\"outside\",\"tickwidth\":2},\"colorscale\":[[0.0,\"rgb(2,4,25)\"],[0.06274509803921569,\"rgb(24,15,41)\"],[0.12549019607843137,\"rgb(47,23,57)\"],[0.18823529411764706,\"rgb(71,28,72)\"],[0.25098039215686274,\"rgb(97,30,82)\"],[0.3137254901960784,\"rgb(123,30,89)\"],[0.3764705882352941,\"rgb(150,27,91)\"],[0.4392156862745098,\"rgb(177,22,88)\"],[0.5019607843137255,\"rgb(203,26,79)\"],[0.5647058823529412,\"rgb(223,47,67)\"],[0.6274509803921569,\"rgb(236,76,61)\"],[0.6901960784313725,\"rgb(242,107,73)\"],[0.7529411764705882,\"rgb(244,135,95)\"],[0.8156862745098039,\"rgb(245,162,122)\"],[0.8784313725490196,\"rgb(246,188,153)\"],[0.9411764705882353,\"rgb(247,212,187)\"],[1.0,\"rgb(250,234,220)\"]],\"type\":\"contour\"}],\"contourcarpet\":[{\"colorbar\":{\"outlinewidth\":0,\"tickcolor\":\"rgb(36,36,36)\",\"ticklen\":8,\"ticks\":\"outside\",\"tickwidth\":2},\"type\":\"contourcarpet\"}],\"heatmap\":[{\"colorbar\":{\"outlinewidth\":0,\"tickcolor\":\"rgb(36,36,36)\",\"ticklen\":8,\"ticks\":\"outside\",\"tickwidth\":2},\"colorscale\":[[0.0,\"rgb(2,4,25)\"],[0.06274509803921569,\"rgb(24,15,41)\"],[0.12549019607843137,\"rgb(47,23,57)\"],[0.18823529411764706,\"rgb(71,28,72)\"],[0.25098039215686274,\"rgb(97,30,82)\"],[0.3137254901960784,\"rgb(123,30,89)\"],[0.3764705882352941,\"rgb(150,27,91)\"],[0.4392156862745098,\"rgb(177,22,88)\"],[0.5019607843137255,\"rgb(203,26,79)\"],[0.5647058823529412,\"rgb(223,47,67)\"],[0.6274509803921569,\"rgb(236,76,61)\"],[0.6901960784313725,\"rgb(242,107,73)\"],[0.7529411764705882,\"rgb(244,135,95)\"],[0.8156862745098039,\"rgb(245,162,122)\"],[0.8784313725490196,\"rgb(246,188,153)\"],[0.9411764705882353,\"rgb(247,212,187)\"],[1.0,\"rgb(250,234,220)\"]],\"type\":\"heatmap\"}],\"heatmapgl\":[{\"colorbar\":{\"outlinewidth\":0,\"tickcolor\":\"rgb(36,36,36)\",\"ticklen\":8,\"ticks\":\"outside\",\"tickwidth\":2},\"colorscale\":[[0.0,\"rgb(2,4,25)\"],[0.06274509803921569,\"rgb(24,15,41)\"],[0.12549019607843137,\"rgb(47,23,57)\"],[0.18823529411764706,\"rgb(71,28,72)\"],[0.25098039215686274,\"rgb(97,30,82)\"],[0.3137254901960784,\"rgb(123,30,89)\"],[0.3764705882352941,\"rgb(150,27,91)\"],[0.4392156862745098,\"rgb(177,22,88)\"],[0.5019607843137255,\"rgb(203,26,79)\"],[0.5647058823529412,\"rgb(223,47,67)\"],[0.6274509803921569,\"rgb(236,76,61)\"],[0.6901960784313725,\"rgb(242,107,73)\"],[0.7529411764705882,\"rgb(244,135,95)\"],[0.8156862745098039,\"rgb(245,162,122)\"],[0.8784313725490196,\"rgb(246,188,153)\"],[0.9411764705882353,\"rgb(247,212,187)\"],[1.0,\"rgb(250,234,220)\"]],\"type\":\"heatmapgl\"}],\"histogram\":[{\"marker\":{\"pattern\":{\"fillmode\":\"overlay\",\"size\":10,\"solidity\":0.2}},\"type\":\"histogram\"}],\"histogram2d\":[{\"colorbar\":{\"outlinewidth\":0,\"tickcolor\":\"rgb(36,36,36)\",\"ticklen\":8,\"ticks\":\"outside\",\"tickwidth\":2},\"colorscale\":[[0.0,\"rgb(2,4,25)\"],[0.06274509803921569,\"rgb(24,15,41)\"],[0.12549019607843137,\"rgb(47,23,57)\"],[0.18823529411764706,\"rgb(71,28,72)\"],[0.25098039215686274,\"rgb(97,30,82)\"],[0.3137254901960784,\"rgb(123,30,89)\"],[0.3764705882352941,\"rgb(150,27,91)\"],[0.4392156862745098,\"rgb(177,22,88)\"],[0.5019607843137255,\"rgb(203,26,79)\"],[0.5647058823529412,\"rgb(223,47,67)\"],[0.6274509803921569,\"rgb(236,76,61)\"],[0.6901960784313725,\"rgb(242,107,73)\"],[0.7529411764705882,\"rgb(244,135,95)\"],[0.8156862745098039,\"rgb(245,162,122)\"],[0.8784313725490196,\"rgb(246,188,153)\"],[0.9411764705882353,\"rgb(247,212,187)\"],[1.0,\"rgb(250,234,220)\"]],\"type\":\"histogram2d\"}],\"histogram2dcontour\":[{\"colorbar\":{\"outlinewidth\":0,\"tickcolor\":\"rgb(36,36,36)\",\"ticklen\":8,\"ticks\":\"outside\",\"tickwidth\":2},\"colorscale\":[[0.0,\"rgb(2,4,25)\"],[0.06274509803921569,\"rgb(24,15,41)\"],[0.12549019607843137,\"rgb(47,23,57)\"],[0.18823529411764706,\"rgb(71,28,72)\"],[0.25098039215686274,\"rgb(97,30,82)\"],[0.3137254901960784,\"rgb(123,30,89)\"],[0.3764705882352941,\"rgb(150,27,91)\"],[0.4392156862745098,\"rgb(177,22,88)\"],[0.5019607843137255,\"rgb(203,26,79)\"],[0.5647058823529412,\"rgb(223,47,67)\"],[0.6274509803921569,\"rgb(236,76,61)\"],[0.6901960784313725,\"rgb(242,107,73)\"],[0.7529411764705882,\"rgb(244,135,95)\"],[0.8156862745098039,\"rgb(245,162,122)\"],[0.8784313725490196,\"rgb(246,188,153)\"],[0.9411764705882353,\"rgb(247,212,187)\"],[1.0,\"rgb(250,234,220)\"]],\"type\":\"histogram2dcontour\"}],\"mesh3d\":[{\"colorbar\":{\"outlinewidth\":0,\"tickcolor\":\"rgb(36,36,36)\",\"ticklen\":8,\"ticks\":\"outside\",\"tickwidth\":2},\"type\":\"mesh3d\"}],\"parcoords\":[{\"line\":{\"colorbar\":{\"outlinewidth\":0,\"tickcolor\":\"rgb(36,36,36)\",\"ticklen\":8,\"ticks\":\"outside\",\"tickwidth\":2}},\"type\":\"parcoords\"}],\"pie\":[{\"automargin\":true,\"type\":\"pie\"}],\"scatter\":[{\"marker\":{\"colorbar\":{\"outlinewidth\":0,\"tickcolor\":\"rgb(36,36,36)\",\"ticklen\":8,\"ticks\":\"outside\",\"tickwidth\":2}},\"type\":\"scatter\"}],\"scatter3d\":[{\"line\":{\"colorbar\":{\"outlinewidth\":0,\"tickcolor\":\"rgb(36,36,36)\",\"ticklen\":8,\"ticks\":\"outside\",\"tickwidth\":2}},\"marker\":{\"colorbar\":{\"outlinewidth\":0,\"tickcolor\":\"rgb(36,36,36)\",\"ticklen\":8,\"ticks\":\"outside\",\"tickwidth\":2}},\"type\":\"scatter3d\"}],\"scattercarpet\":[{\"marker\":{\"colorbar\":{\"outlinewidth\":0,\"tickcolor\":\"rgb(36,36,36)\",\"ticklen\":8,\"ticks\":\"outside\",\"tickwidth\":2}},\"type\":\"scattercarpet\"}],\"scattergeo\":[{\"marker\":{\"colorbar\":{\"outlinewidth\":0,\"tickcolor\":\"rgb(36,36,36)\",\"ticklen\":8,\"ticks\":\"outside\",\"tickwidth\":2}},\"type\":\"scattergeo\"}],\"scattergl\":[{\"marker\":{\"colorbar\":{\"outlinewidth\":0,\"tickcolor\":\"rgb(36,36,36)\",\"ticklen\":8,\"ticks\":\"outside\",\"tickwidth\":2}},\"type\":\"scattergl\"}],\"scattermapbox\":[{\"marker\":{\"colorbar\":{\"outlinewidth\":0,\"tickcolor\":\"rgb(36,36,36)\",\"ticklen\":8,\"ticks\":\"outside\",\"tickwidth\":2}},\"type\":\"scattermapbox\"}],\"scatterpolar\":[{\"marker\":{\"colorbar\":{\"outlinewidth\":0,\"tickcolor\":\"rgb(36,36,36)\",\"ticklen\":8,\"ticks\":\"outside\",\"tickwidth\":2}},\"type\":\"scatterpolar\"}],\"scatterpolargl\":[{\"marker\":{\"colorbar\":{\"outlinewidth\":0,\"tickcolor\":\"rgb(36,36,36)\",\"ticklen\":8,\"ticks\":\"outside\",\"tickwidth\":2}},\"type\":\"scatterpolargl\"}],\"scatterternary\":[{\"marker\":{\"colorbar\":{\"outlinewidth\":0,\"tickcolor\":\"rgb(36,36,36)\",\"ticklen\":8,\"ticks\":\"outside\",\"tickwidth\":2}},\"type\":\"scatterternary\"}],\"surface\":[{\"colorbar\":{\"outlinewidth\":0,\"tickcolor\":\"rgb(36,36,36)\",\"ticklen\":8,\"ticks\":\"outside\",\"tickwidth\":2},\"colorscale\":[[0.0,\"rgb(2,4,25)\"],[0.06274509803921569,\"rgb(24,15,41)\"],[0.12549019607843137,\"rgb(47,23,57)\"],[0.18823529411764706,\"rgb(71,28,72)\"],[0.25098039215686274,\"rgb(97,30,82)\"],[0.3137254901960784,\"rgb(123,30,89)\"],[0.3764705882352941,\"rgb(150,27,91)\"],[0.4392156862745098,\"rgb(177,22,88)\"],[0.5019607843137255,\"rgb(203,26,79)\"],[0.5647058823529412,\"rgb(223,47,67)\"],[0.6274509803921569,\"rgb(236,76,61)\"],[0.6901960784313725,\"rgb(242,107,73)\"],[0.7529411764705882,\"rgb(244,135,95)\"],[0.8156862745098039,\"rgb(245,162,122)\"],[0.8784313725490196,\"rgb(246,188,153)\"],[0.9411764705882353,\"rgb(247,212,187)\"],[1.0,\"rgb(250,234,220)\"]],\"type\":\"surface\"}],\"table\":[{\"cells\":{\"fill\":{\"color\":\"rgb(231,231,240)\"},\"line\":{\"color\":\"white\"}},\"header\":{\"fill\":{\"color\":\"rgb(183,183,191)\"},\"line\":{\"color\":\"white\"}},\"type\":\"table\"}]},\"layout\":{\"annotationdefaults\":{\"arrowcolor\":\"rgb(67,103,167)\"},\"autotypenumbers\":\"strict\",\"coloraxis\":{\"colorbar\":{\"outlinewidth\":0,\"tickcolor\":\"rgb(36,36,36)\",\"ticklen\":8,\"ticks\":\"outside\",\"tickwidth\":2}},\"colorscale\":{\"sequential\":[[0.0,\"rgb(2,4,25)\"],[0.06274509803921569,\"rgb(24,15,41)\"],[0.12549019607843137,\"rgb(47,23,57)\"],[0.18823529411764706,\"rgb(71,28,72)\"],[0.25098039215686274,\"rgb(97,30,82)\"],[0.3137254901960784,\"rgb(123,30,89)\"],[0.3764705882352941,\"rgb(150,27,91)\"],[0.4392156862745098,\"rgb(177,22,88)\"],[0.5019607843137255,\"rgb(203,26,79)\"],[0.5647058823529412,\"rgb(223,47,67)\"],[0.6274509803921569,\"rgb(236,76,61)\"],[0.6901960784313725,\"rgb(242,107,73)\"],[0.7529411764705882,\"rgb(244,135,95)\"],[0.8156862745098039,\"rgb(245,162,122)\"],[0.8784313725490196,\"rgb(246,188,153)\"],[0.9411764705882353,\"rgb(247,212,187)\"],[1.0,\"rgb(250,234,220)\"]],\"sequentialminus\":[[0.0,\"rgb(2,4,25)\"],[0.06274509803921569,\"rgb(24,15,41)\"],[0.12549019607843137,\"rgb(47,23,57)\"],[0.18823529411764706,\"rgb(71,28,72)\"],[0.25098039215686274,\"rgb(97,30,82)\"],[0.3137254901960784,\"rgb(123,30,89)\"],[0.3764705882352941,\"rgb(150,27,91)\"],[0.4392156862745098,\"rgb(177,22,88)\"],[0.5019607843137255,\"rgb(203,26,79)\"],[0.5647058823529412,\"rgb(223,47,67)\"],[0.6274509803921569,\"rgb(236,76,61)\"],[0.6901960784313725,\"rgb(242,107,73)\"],[0.7529411764705882,\"rgb(244,135,95)\"],[0.8156862745098039,\"rgb(245,162,122)\"],[0.8784313725490196,\"rgb(246,188,153)\"],[0.9411764705882353,\"rgb(247,212,187)\"],[1.0,\"rgb(250,234,220)\"]]},\"colorway\":[\"rgb(76,114,176)\",\"rgb(221,132,82)\",\"rgb(85,168,104)\",\"rgb(196,78,82)\",\"rgb(129,114,179)\",\"rgb(147,120,96)\",\"rgb(218,139,195)\",\"rgb(140,140,140)\",\"rgb(204,185,116)\",\"rgb(100,181,205)\"],\"font\":{\"color\":\"rgb(36,36,36)\"},\"geo\":{\"bgcolor\":\"white\",\"lakecolor\":\"white\",\"landcolor\":\"rgb(234,234,242)\",\"showlakes\":true,\"showland\":true,\"subunitcolor\":\"white\"},\"hoverlabel\":{\"align\":\"left\"},\"hovermode\":\"closest\",\"paper_bgcolor\":\"white\",\"plot_bgcolor\":\"rgb(234,234,242)\",\"polar\":{\"angularaxis\":{\"gridcolor\":\"white\",\"linecolor\":\"white\",\"showgrid\":true,\"ticks\":\"\"},\"bgcolor\":\"rgb(234,234,242)\",\"radialaxis\":{\"gridcolor\":\"white\",\"linecolor\":\"white\",\"showgrid\":true,\"ticks\":\"\"}},\"scene\":{\"xaxis\":{\"backgroundcolor\":\"rgb(234,234,242)\",\"gridcolor\":\"white\",\"gridwidth\":2,\"linecolor\":\"white\",\"showbackground\":true,\"showgrid\":true,\"ticks\":\"\",\"zerolinecolor\":\"white\"},\"yaxis\":{\"backgroundcolor\":\"rgb(234,234,242)\",\"gridcolor\":\"white\",\"gridwidth\":2,\"linecolor\":\"white\",\"showbackground\":true,\"showgrid\":true,\"ticks\":\"\",\"zerolinecolor\":\"white\"},\"zaxis\":{\"backgroundcolor\":\"rgb(234,234,242)\",\"gridcolor\":\"white\",\"gridwidth\":2,\"linecolor\":\"white\",\"showbackground\":true,\"showgrid\":true,\"ticks\":\"\",\"zerolinecolor\":\"white\"}},\"shapedefaults\":{\"fillcolor\":\"rgb(67,103,167)\",\"line\":{\"width\":0},\"opacity\":0.5},\"ternary\":{\"aaxis\":{\"gridcolor\":\"white\",\"linecolor\":\"white\",\"showgrid\":true,\"ticks\":\"\"},\"baxis\":{\"gridcolor\":\"white\",\"linecolor\":\"white\",\"showgrid\":true,\"ticks\":\"\"},\"bgcolor\":\"rgb(234,234,242)\",\"caxis\":{\"gridcolor\":\"white\",\"linecolor\":\"white\",\"showgrid\":true,\"ticks\":\"\"}},\"xaxis\":{\"automargin\":true,\"gridcolor\":\"white\",\"linecolor\":\"white\",\"showgrid\":true,\"ticks\":\"\",\"title\":{\"standoff\":15},\"zerolinecolor\":\"white\"},\"yaxis\":{\"automargin\":true,\"gridcolor\":\"white\",\"linecolor\":\"white\",\"showgrid\":true,\"ticks\":\"\",\"title\":{\"standoff\":15},\"zerolinecolor\":\"white\"}}},\"title\":{\"text\":\"T vs 2-point Corr\"},\"xaxis\":{\"title\":{\"text\":\"T\"}},\"yaxis\":{\"title\":{\"text\":\"2-point Corr\"}}},                        {\"responsive\": true}                    ).then(function(){\n",
       "                            \n",
       "var gd = document.getElementById('bd2a4e93-d96d-4801-8fbd-55e4c38ae201');\n",
       "var x = new MutationObserver(function (mutations, observer) {{\n",
       "        var display = window.getComputedStyle(gd).display;\n",
       "        if (!display || display === 'none') {{\n",
       "            console.log([gd, 'removed!']);\n",
       "            Plotly.purge(gd);\n",
       "            observer.disconnect();\n",
       "        }}\n",
       "}});\n",
       "\n",
       "// Listen for the removal of the full notebook cells\n",
       "var notebookContainer = gd.closest('#notebook-container');\n",
       "if (notebookContainer) {{\n",
       "    x.observe(notebookContainer, {childList: true});\n",
       "}}\n",
       "\n",
       "// Listen for the clearing of the current output cell\n",
       "var outputEl = gd.closest('.output');\n",
       "if (outputEl) {{\n",
       "    x.observe(outputEl, {childList: true});\n",
       "}}\n",
       "\n",
       "                        })                };                });            </script>        </div>"
      ]
     },
     "metadata": {},
     "output_type": "display_data"
    }
   ],
   "source": [
    "fig = go.Figure()\n",
    "\n",
    "fig.add_trace(go.Scatter(x = results_uniform[results_uniform['1-point_corr'] == 0.0]['T'],\n",
    "                         y = results_uniform[results_uniform['1-point_corr'] == 0.0]['corrs'].str[2],\n",
    "                         mode='markers+lines',\n",
    "                        )\n",
    "             )\n",
    "\n",
    "fig.update_layout(\n",
    "    title=\"T vs 2-point Corr\",\n",
    "    xaxis_title=\"T\",\n",
    "    yaxis_title=\"2-point Corr\",\n",
    "    template='seaborn'\n",
    ")\n",
    "#fig.update_traces(texttemplate='%{text:.2s}', textposition='top center')\n",
    "fig.show()"
   ]
  },
  {
   "cell_type": "code",
   "execution_count": 128,
   "metadata": {
    "ExecuteTime": {
     "end_time": "2021-09-12T18:58:05.529681Z",
     "start_time": "2021-09-12T18:58:05.511796Z"
    },
    "hidden": true
   },
   "outputs": [
    {
     "data": {
      "text/plain": [
       "array([-1.  , -0.89, -0.78, -0.67, -0.56, -0.44, -0.33, -0.22, -0.11,\n",
       "        0.  ,  0.11,  0.22,  0.33,  0.44,  0.56,  0.67,  0.78,  0.89,\n",
       "        1.  ])"
      ]
     },
     "execution_count": 128,
     "metadata": {},
     "output_type": "execute_result"
    }
   ],
   "source": [
    "np.linspace(-1+np.finfo(float).eps,1-np.finfo(float).eps,19)"
   ]
  },
  {
   "cell_type": "markdown",
   "metadata": {},
   "source": [
    "# Basin Hopping"
   ]
  },
  {
   "cell_type": "code",
   "execution_count": null,
   "metadata": {
    "ExecuteTime": {
     "start_time": "2021-09-14T00:58:47.438Z"
    },
    "scrolled": true
   },
   "outputs": [
    {
     "data": {
      "application/vnd.jupyter.widget-view+json": {
       "model_id": "8a11dc5e0eac444db1f15569b5aaaabf",
       "version_major": 2,
       "version_minor": 0
      },
      "text/plain": [
       "  0%|          | 0/21 [00:00<?, ?it/s]"
      ]
     },
     "metadata": {},
     "output_type": "display_data"
    },
    {
     "data": {
      "application/vnd.jupyter.widget-view+json": {
       "model_id": "014bdb4afccd40fca286badfb6158966",
       "version_major": 2,
       "version_minor": 0
      },
      "text/plain": [
       "  0%|          | 0/21 [00:00<?, ?it/s]"
      ]
     },
     "metadata": {},
     "output_type": "display_data"
    },
    {
     "name": "stderr",
     "output_type": "stream",
     "text": [
      "/home/sayan/.local/lib/python3.8/site-packages/scipy/optimize/_trustregion_constr/projections.py:181: UserWarning:\n",
      "\n",
      "Singular Jacobian matrix. Using SVD decomposition to perform the factorizations.\n",
      "\n",
      "/home/sayan/.local/lib/python3.8/site-packages/scipy/optimize/_hessian_update_strategy.py:182: UserWarning:\n",
      "\n",
      "delta_grad == 0.0. Check if the approximated function is linear. If the function is linear better results can be obtained by defining the Hessian as zero instead of using quasi-Newton approximations.\n",
      "\n"
     ]
    },
    {
     "name": "stdout",
     "output_type": "stream",
     "text": [
      "basinhopping step 0: f 0.4\n",
      "basinhopping step 1: f 0.4 trial_f 0.4 accepted 0  lowest_f 0.4\n",
      "basinhopping step 2: f 0.4 trial_f 0.4 accepted 0  lowest_f 0.4\n",
      "basinhopping step 3: f 0.4 trial_f 0.4 accepted 0  lowest_f 0.4\n",
      "basinhopping step 4: f 0.4 trial_f 0.4 accepted 0  lowest_f 0.4\n",
      "adaptive stepsize: acceptance rate 0.000000 target 0.500000 new stepsize 4.5 old stepsize 5\n",
      "basinhopping step 5: f 0.4 trial_f 0.4 accepted 0  lowest_f 0.4\n",
      "basinhopping step 6: f 0.4 trial_f 0.4 accepted 0  lowest_f 0.4\n",
      "basinhopping step 0: f 0.320015\n",
      "warning: basinhopping: local minimization failure\n",
      "basinhopping step 1: f 0.36533 trial_f 0.36533 accepted 1  lowest_f 0.320015\n",
      "basinhopping step 2: f 0.320023 trial_f 0.320023 accepted 1  lowest_f 0.320015\n",
      "basinhopping step 3: f 0.320034 trial_f 0.320034 accepted 1  lowest_f 0.320015\n",
      "basinhopping step 4: f 0.320015 trial_f 0.320015 accepted 1  lowest_f 0.320015\n",
      "adaptive stepsize: acceptance rate 0.800000 target 0.500000 new stepsize 5.55556 old stepsize 5\n",
      "basinhopping step 5: f 0.320015 trial_f 0.320015 accepted 1  lowest_f 0.320015\n",
      "basinhopping step 6: f 0.320015 trial_f 0.320015 accepted 1  lowest_f 0.320015\n",
      "found new global minimum on step 6 with function value 0.320015\n",
      "basinhopping step 7: f 0.320001 trial_f 0.320001 accepted 1  lowest_f 0.320001\n",
      "found new global minimum on step 7 with function value 0.320001\n",
      "warning: basinhopping: local minimization failure\n",
      "basinhopping step 8: f 0.32131 trial_f 0.32131 accepted 1  lowest_f 0.320001\n",
      "basinhopping step 9: f 0.320317 trial_f 0.320317 accepted 1  lowest_f 0.320001\n",
      "adaptive stepsize: acceptance rate 0.900000 target 0.500000 new stepsize 6.17284 old stepsize 5.55556\n",
      "basinhopping step 10: f 0.32012 trial_f 0.32012 accepted 1  lowest_f 0.320001\n",
      "basinhopping step 11: f 0.320119 trial_f 0.320119 accepted 1  lowest_f 0.320001\n",
      "warning: basinhopping: local minimization failure\n",
      "basinhopping step 12: f 0.32105 trial_f 0.32105 accepted 1  lowest_f 0.320001\n",
      "basinhopping step 13: f 0.320015 trial_f 0.320015 accepted 1  lowest_f 0.320001\n",
      "basinhopping step 0: f 0.24007\n",
      "basinhopping step 1: f 0.240015 trial_f 0.240015 accepted 1  lowest_f 0.240015\n",
      "found new global minimum on step 1 with function value 0.240015\n",
      "basinhopping step 2: f 0.240119 trial_f 0.240119 accepted 1  lowest_f 0.240015\n",
      "warning: basinhopping: local minimization failure\n",
      "basinhopping step 3: f 0.262264 trial_f 0.262264 accepted 1  lowest_f 0.240015\n",
      "basinhopping step 4: f 0.240015 trial_f 0.240015 accepted 1  lowest_f 0.240015\n",
      "adaptive stepsize: acceptance rate 0.800000 target 0.500000 new stepsize 5.55556 old stepsize 5\n",
      "basinhopping step 5: f 0.240015 trial_f 0.240015 accepted 1  lowest_f 0.240015\n",
      "found new global minimum on step 5 with function value 0.240015\n",
      "basinhopping step 6: f 0.240015 trial_f 0.240015 accepted 1  lowest_f 0.240015\n",
      "warning: basinhopping: local minimization failure\n",
      "basinhopping step 7: f 0.240527 trial_f 0.240527 accepted 1  lowest_f 0.240015\n",
      "basinhopping step 8: f 0.240015 trial_f 0.240015 accepted 1  lowest_f 0.240015\n",
      "found new global minimum on step 8 with function value 0.240015\n",
      "warning: basinhopping: local minimization failure\n",
      "basinhopping step 9: f 0.241776 trial_f 0.241776 accepted 1  lowest_f 0.240015\n",
      "adaptive stepsize: acceptance rate 0.900000 target 0.500000 new stepsize 6.17284 old stepsize 5.55556\n",
      "warning: basinhopping: local minimization failure\n",
      "basinhopping step 10: f 0.240005 trial_f 0.240005 accepted 1  lowest_f 0.240005\n",
      "found new global minimum on step 10 with function value 0.240005\n",
      "basinhopping step 11: f 0.240015 trial_f 0.240015 accepted 1  lowest_f 0.240005\n",
      "warning: basinhopping: local minimization failure\n",
      "basinhopping step 12: f 0.240018 trial_f 0.240018 accepted 1  lowest_f 0.240005\n",
      "basinhopping step 13: f 0.240066 trial_f 0.240066 accepted 1  lowest_f 0.240005\n",
      "basinhopping step 14: f 0.240074 trial_f 0.240074 accepted 1  lowest_f 0.240005\n",
      "adaptive stepsize: acceptance rate 0.933333 target 0.500000 new stepsize 6.85871 old stepsize 6.17284\n",
      "warning: basinhopping: local minimization failure\n",
      "basinhopping step 15: f 0.242411 trial_f 0.242411 accepted 1  lowest_f 0.240005\n",
      "warning: basinhopping: local minimization failure\n",
      "basinhopping step 16: f 0.287727 trial_f 0.287727 accepted 1  lowest_f 0.240005\n",
      "warning: basinhopping: local minimization failure\n",
      "basinhopping step 0: f 0.160017\n",
      "warning: basinhopping: local minimization failure\n",
      "basinhopping step 1: f 0.189603 trial_f 0.189603 accepted 1  lowest_f 0.160017\n",
      "warning: basinhopping: local minimization failure\n",
      "basinhopping step 2: f 0.160009 trial_f 0.160009 accepted 1  lowest_f 0.160009\n",
      "found new global minimum on step 2 with function value 0.160009\n",
      "basinhopping step 3: f 0.160007 trial_f 0.160007 accepted 1  lowest_f 0.160007\n",
      "found new global minimum on step 3 with function value 0.160007\n",
      "warning: basinhopping: local minimization failure\n",
      "basinhopping step 4: f 0.16206 trial_f 0.16206 accepted 1  lowest_f 0.160007\n",
      "adaptive stepsize: acceptance rate 0.800000 target 0.500000 new stepsize 5.55556 old stepsize 5\n",
      "basinhopping step 5: f 0.160069 trial_f 0.160069 accepted 1  lowest_f 0.160007\n",
      "basinhopping step 6: f 0.160015 trial_f 0.160015 accepted 1  lowest_f 0.160007\n",
      "warning: basinhopping: local minimization failure\n",
      "basinhopping step 7: f 0.198236 trial_f 0.198236 accepted 1  lowest_f 0.160007\n",
      "basinhopping step 8: f 0.160117 trial_f 0.160117 accepted 1  lowest_f 0.160007\n",
      "warning: basinhopping: local minimization failure\n",
      "basinhopping step 9: f 0.168318 trial_f 0.168318 accepted 1  lowest_f 0.160007\n",
      "warning: basinhopping: local minimization failure\n",
      "basinhopping step 0: f 0.223539\n",
      "warning: basinhopping: local minimization failure\n",
      "basinhopping step 1: f 0.262293 trial_f 0.262293 accepted 1  lowest_f 0.223539\n",
      "basinhopping step 2: f 0.0800153 trial_f 0.0800153 accepted 1  lowest_f 0.0800153\n",
      "found new global minimum on step 2 with function value 0.0800153\n",
      "warning: basinhopping: local minimization failure\n",
      "basinhopping step 3: f 0.080169 trial_f 0.080169 accepted 1  lowest_f 0.0800153\n",
      "basinhopping step 4: f 0.0800636 trial_f 0.0800636 accepted 1  lowest_f 0.0800153\n",
      "adaptive stepsize: acceptance rate 0.800000 target 0.500000 new stepsize 5.55556 old stepsize 5\n",
      "basinhopping step 5: f 0.0800153 trial_f 0.0800153 accepted 1  lowest_f 0.0800153\n",
      "found new global minimum on step 5 with function value 0.0800153\n",
      "basinhopping step 6: f 0.0800003 trial_f 0.0800003 accepted 1  lowest_f 0.0800003\n",
      "found new global minimum on step 6 with function value 0.0800003\n",
      "warning: basinhopping: local minimization failure\n",
      "basinhopping step 7: f 0.179576 trial_f 0.179576 accepted 1  lowest_f 0.0800003\n",
      "basinhopping step 8: f 0.0800154 trial_f 0.0800154 accepted 1  lowest_f 0.0800003\n",
      "warning: basinhopping: local minimization failure\n",
      "basinhopping step 9: f 0.0996005 trial_f 0.0996005 accepted 1  lowest_f 0.0800003\n",
      "adaptive stepsize: acceptance rate 0.900000 target 0.500000 new stepsize 6.17284 old stepsize 5.55556\n",
      "warning: basinhopping: local minimization failure\n",
      "basinhopping step 10: f 0.0839546 trial_f 0.0839546 accepted 1  lowest_f 0.0800003\n",
      "basinhopping step 11: f 0.0800153 trial_f 0.0800153 accepted 1  lowest_f 0.0800003\n",
      "warning: basinhopping: local minimization failure\n",
      "basinhopping step 12: f 0.109895 trial_f 0.109895 accepted 1  lowest_f 0.0800003\n",
      "basinhopping step 0: f 7.64789e-05\n",
      "warning: basinhopping: local minimization failure\n",
      "basinhopping step 1: f 0.232799 trial_f 0.232799 accepted 1  lowest_f 7.64789e-05\n",
      "basinhopping step 2: f 6.63411e-05 trial_f 6.63411e-05 accepted 1  lowest_f 6.63411e-05\n",
      "found new global minimum on step 2 with function value 6.63411e-05\n",
      "basinhopping step 3: f 2.88963e-05 trial_f 2.88963e-05 accepted 1  lowest_f 2.88963e-05\n",
      "found new global minimum on step 3 with function value 2.88963e-05\n",
      "basinhopping step 4: f 0.000118986 trial_f 0.000118986 accepted 1  lowest_f 2.88963e-05\n",
      "adaptive stepsize: acceptance rate 0.800000 target 0.500000 new stepsize 5.55556 old stepsize 5\n",
      "basinhopping step 5: f 6.14984e-05 trial_f 6.14984e-05 accepted 1  lowest_f 2.88963e-05\n",
      "basinhopping step 6: f 1.53126e-05 trial_f 1.53126e-05 accepted 1  lowest_f 1.53126e-05\n",
      "found new global minimum on step 6 with function value 1.53126e-05\n",
      "basinhopping step 7: f 0.00111147 trial_f 0.00111147 accepted 1  lowest_f 1.53126e-05\n"
     ]
    },
    {
     "name": "stdout",
     "output_type": "stream",
     "text": [
      "warning: basinhopping: local minimization failure\n",
      "basinhopping step 8: f 0.00111147 trial_f 0.373865 accepted 0  lowest_f 1.53126e-05\n"
     ]
    }
   ],
   "source": [
    "results_basinhopping = pd.DataFrame(columns = ['T', '1-point_corr', 'F','corrs'])\n",
    "\n",
    "now = datetime.now()\n",
    "now = now.strftime(\"%d-%m-%H-%M\")\n",
    "\n",
    "for temp in tqdm(np.linspace(0, 2000, num=21)):\n",
    "    for x in tqdm(np.linspace(-1+np.finfo(float).eps,1-np.finfo(float).eps,21)):\n",
    "\n",
    "        FIXED_CORR_1 = x\n",
    "\n",
    "        rho_pair = np.array([None,None])\n",
    "        \n",
    "        #Make a first guess\n",
    "        corrs0 = np.array([1, x, *np.random.uniform(-1, 1, 4)])\n",
    "        linear_constraints = []\n",
    "\n",
    "        #Linear Constraint for each rho to be between 0 and 1\n",
    "        for cluster_idx, _ in clusters.items():\n",
    "            if cluster_idx == 0:\n",
    "                linear_constraints.append(LinearConstraint(vmat[cluster_idx],\n",
    "                                                           [1]*len(configcoef[cluster_idx]),\n",
    "                                                           [1]*len(configcoef[cluster_idx])))\n",
    "            else:\n",
    "                linear_constraints.append(LinearConstraint(vmat[cluster_idx],\n",
    "                                                           [0]*len(configcoef[cluster_idx]),\n",
    "                                                           [1]*len(configcoef[cluster_idx])))\n",
    "        \n",
    "        #Set bounds for the local minimisation \n",
    "        #limit correlations to [1, 1-pt, [-1,1], [-1,1], ...]\n",
    "        bounds_corrs = Bounds([1, FIXED_CORR_1,*[-1]*(len(clusters)-2)],\n",
    "                              [1, FIXED_CORR_1,*[1]*(len(clusters)-2)]\n",
    "                             )\n",
    "     \n",
    "        options = {'verbose' : 0,\n",
    "                   'maxiter' : 1000,\n",
    "                   'xtol'    : 1e-6,\n",
    "                   'initial_constr_penalty' : 10,\n",
    "                  }\n",
    "        \n",
    "        minimizer_kwargs = {'args':(vmat, kb, clusters, configs, configcoef,temp,eci),\n",
    "                            'method': 'trust-constr',\n",
    "                            'options': options,\n",
    "                            'jac': F_jacobian, 'hess': F_hessian,\n",
    "                            'constraints' : [*linear_constraints, \n",
    "                                             {'fun': constraint_singlet, 'type': 'eq', 'args': [FIXED_CORR_1]},\n",
    "                                             {'fun': constraint_zero, 'type':'eq',},\n",
    "                                             #{'fun': constraint_rhos_sum, 'type': 'eq', 'args': [vmat, clusters, configcoef,]},\n",
    "                                            ],\n",
    "                            'bounds': bounds_corrs,\n",
    "                           }\n",
    "        \n",
    "        mybounds = MyBounds(xmax=[1, FIXED_CORR_1,*[1]*(len(clusters)-2)], xmin=[1, FIXED_CORR_1,*[-1]*(len(clusters)-2)])\n",
    "        \n",
    "        res = basinhopping(F, \n",
    "                           corrs0, #first guess\n",
    "                           niter=200, #total num of iterations\n",
    "                           T=1.0, #temp for Metropolis MC trial search\n",
    "                           stepsize=5,\n",
    "                           minimizer_kwargs=minimizer_kwargs,\n",
    "                           niter_success=5, #num iters to exit after no new minima found \n",
    "                           interval=5, #num iters to change step size\n",
    "                           disp=True,\n",
    "                           accept_test=mybounds,\n",
    "                           seed=42,\n",
    "                           #callback=basin_hopping_callback\n",
    "                          )\n",
    "\n",
    "        #Code to extract rhos and check if they sum them to 1 for sanity. Not used.\n",
    "        for cluster_idx in clusters.keys():\n",
    "                assert np.isclose(np.inner(configcoef[cluster_idx],np.matmul(vmat[cluster_idx],res.x)),1.0)\n",
    "        \n",
    "        results_basinhopping = results_basinhopping.append({'T' : temp, \n",
    "                                                     '1-point_corr' : x, \n",
    "                                                     'F' : res.fun, \n",
    "                                                     'corrs': res.x,\n",
    "                                                    }, \n",
    "                                                    ignore_index = True\n",
    "                                                   )\n",
    "\n",
    "#save results\n",
    "results_basinhopping.to_pickle(f'phaseDiag_{now}_basinhopping.pickle')"
   ]
  },
  {
   "cell_type": "markdown",
   "metadata": {},
   "source": [
    "## Plot Phase Diagram"
   ]
  },
  {
   "cell_type": "code",
   "execution_count": 82,
   "metadata": {
    "ExecuteTime": {
     "end_time": "2021-09-14T00:57:09.941863Z",
     "start_time": "2021-09-14T00:57:09.838124Z"
    }
   },
   "outputs": [
    {
     "data": {
      "application/vnd.plotly.v1+json": {
       "config": {
        "plotlyServerURL": "https://plot.ly"
       },
       "data": [
        {
         "mode": "lines",
         "name": "T = 0.0",
         "type": "scatter",
         "x": [
          -0.9999999999999998,
          -0.8999999999999998,
          -0.7999999999999998,
          -0.6999999999999998,
          -0.5999999999999999,
          -0.4999999999999999,
          -0.3999999999999999,
          -0.29999999999999993,
          -0.19999999999999996,
          -0.09999999999999998,
          0,
          0.09999999999999987,
          0.19999999999999996,
          0.30000000000000004,
          0.3999999999999999,
          0.4999999999999998,
          0.5999999999999999,
          0.7,
          0.7999999999999998,
          0.8999999999999997,
          0.9999999999999998
         ],
         "y": [
          0.3999999739406645,
          0.3200152966532884,
          0.24000514898685982,
          0.16000004981417684,
          0.08001530451854841,
          2.2561794807506107e-06,
          -0.07998468313292645,
          -0.15998481879756277,
          -0.23998226544362256,
          -0.3199332396111978,
          -0.38998970475633493,
          -0.3199260886678354,
          -0.23998477494742346,
          -0.1599849003519402,
          -0.07999388395022611,
          1.5126336077241906e-05,
          0.08001517611783865,
          0.16000406118305183,
          0.24001524165661212,
          0.3200149226898939,
          0.39999996423892115
         ]
        },
        {
         "mode": "lines",
         "name": "T = 500.0",
         "type": "scatter",
         "x": [
          -0.9999999999999998,
          -0.8999999999999998,
          -0.7999999999999998,
          -0.6999999999999998,
          -0.5999999999999999,
          -0.4999999999999999,
          -0.3999999999999999,
          -0.29999999999999993,
          -0.19999999999999996,
          -0.09999999999999998,
          0,
          0.09999999999999987,
          0.19999999999999996,
          0.30000000000000004,
          0.3999999999999999,
          0.4999999999999998,
          0.5999999999999999,
          0.7,
          0.7999999999999998,
          0.8999999999999997,
          0.9999999999999998
         ],
         "y": [
          0.3999999639059389,
          0.286231769076556,
          0.18543204534558438,
          0.09061476881027943,
          0.00035588587845923614,
          -0.08578388452766866,
          -0.16774334069604474,
          -0.24512075234372382,
          -0.3170621682123652,
          -0.38164740254167756,
          -0.43003870885497913,
          -0.38164965785800387,
          -0.31706800073875424,
          -0.24512524632044358,
          -0.16773125661799937,
          -0.08577662574194714,
          0.00035796272267810125,
          0.09061518789162193,
          0.185449024870833,
          0.28622853885712407,
          0.39999984991406007
         ]
        },
        {
         "mode": "lines",
         "name": "T = 1000.0",
         "type": "scatter",
         "x": [
          -0.9999999999999998,
          -0.8999999999999998,
          -0.7999999999999998,
          -0.6999999999999998,
          -0.5999999999999999,
          -0.4999999999999999,
          -0.3999999999999999,
          -0.29999999999999993,
          -0.19999999999999996,
          -0.09999999999999998,
          0,
          0.09999999999999987,
          0.19999999999999996,
          0.30000000000000004,
          0.3999999999999999,
          0.4999999999999998,
          0.5999999999999999,
          0.7,
          0.7999999999999998,
          0.8999999999999997,
          0.9999999999999998
         ],
         "y": [
          0.39999882556553085,
          0.25227121455488577,
          0.13084471743272963,
          0.021189046653170146,
          -0.07935631165244537,
          -0.17165292993262612,
          -0.25563950821435616,
          -0.3305395548505886,
          -0.3947255722064993,
          -0.44485563480927215,
          -0.46981237687564803,
          -0.4448594781970866,
          -0.3947253795777098,
          -0.33053370261214554,
          -0.25564159488958704,
          -0.1716554431569747,
          -0.07935757340455103,
          0.021189915168095902,
          0.1308328266122799,
          0.2522802030123763,
          0.39999965038796886
         ]
        },
        {
         "mode": "lines",
         "name": "T = 1500.0",
         "type": "scatter",
         "x": [
          -0.9999999999999998,
          -0.8999999999999998,
          -0.7999999999999998,
          -0.6999999999999998,
          -0.5999999999999999,
          -0.4999999999999999,
          -0.3999999999999999,
          -0.29999999999999993,
          -0.19999999999999996,
          -0.09999999999999998,
          0,
          0.09999999999999987,
          0.19999999999999996,
          0.30000000000000004,
          0.3999999999999999,
          0.4999999999999998,
          0.5999999999999999,
          0.7,
          0.7999999999999998,
          0.8999999999999997,
          0.9999999999999998
         ],
         "y": [
          0.39999928693725084,
          0.21837533749047885,
          0.076180539474523,
          -0.04839834190675854,
          -0.15941906167371034,
          -0.25821591188684123,
          -0.3448287506858982,
          -0.41840004336407555,
          -0.4771509117304711,
          -0.5178330178584198,
          -0.5335719059004849,
          -0.5178325488311674,
          -0.4771562716437612,
          -0.4184050801491453,
          -0.34483264384597867,
          -0.2582103957781446,
          -0.15941712231478136,
          -0.04840205560742397,
          0.07617366584489466,
          0.21837993739647707,
          0.3999999008599629
         ]
        },
        {
         "mode": "lines",
         "name": "T = 2000.0",
         "type": "scatter",
         "x": [
          -0.9999999999999998,
          -0.8999999999999998,
          -0.7999999999999998,
          -0.6999999999999998,
          -0.5999999999999999,
          -0.4999999999999999,
          -0.3999999999999999,
          -0.29999999999999993,
          -0.19999999999999996,
          -0.09999999999999998,
          0,
          0.09999999999999987,
          0.19999999999999996,
          0.30000000000000004,
          0.3999999999999999,
          0.4999999999999998,
          0.5999999999999999,
          0.7,
          0.7999999999999998,
          0.8999999999999997,
          0.9999999999999998
         ],
         "y": [
          0.3999999074429041,
          0.18445929429987595,
          0.021376788788095652,
          -0.11835708291473035,
          -0.24024234075702372,
          -0.34621500782826686,
          -0.43662516464625467,
          -0.5108365606689993,
          -0.5673959003964906,
          -0.6038795976401061,
          -0.6167515413178453,
          -0.6038800849476958,
          -0.5674002775024616,
          -0.5108347018491909,
          -0.43662553775600554,
          -0.34621467472365014,
          -0.24024287772824443,
          -0.11835581389329791,
          0.021377567832030958,
          0.18445829642117142,
          0.3999998487577567
         ]
        },
        {
         "mode": "lines",
         "name": "T = 2500.0",
         "type": "scatter",
         "x": [
          -0.9999999999999998,
          -0.8999999999999998,
          -0.7999999999999998,
          -0.6999999999999998,
          -0.5999999999999999,
          -0.4999999999999999,
          -0.3999999999999999,
          -0.29999999999999993,
          -0.19999999999999996,
          -0.09999999999999998,
          0,
          0.09999999999999987,
          0.19999999999999996,
          0.30000000000000004,
          0.3999999999999999,
          0.4999999999999998,
          0.5999999999999999,
          0.7,
          0.7999999999999998,
          0.8999999999999997,
          0.9999999999999998
         ],
         "y": [
          0.3999988247972139,
          0.15050779793438077,
          -0.03359591743529042,
          -0.18874132556310982,
          -0.3219378741306527,
          -0.4358067859553884,
          -0.5311334192329774,
          -0.6076534994382892,
          -0.6643792553011107,
          -0.6997134353177666,
          -0.7090670602199782,
          -0.6997132517017876,
          -0.6643795329492184,
          -0.6076526894456025,
          -0.5311320432486761,
          -0.4358008252226983,
          -0.32193887160407786,
          -0.18873750203153752,
          -0.03359988506685607,
          0.1504971877805347,
          0.3999998035060979
         ]
        },
        {
         "mode": "lines",
         "name": "T = 3000.0",
         "type": "scatter",
         "x": [
          -0.9999999999999998,
          -0.8999999999999998,
          -0.7999999999999998,
          -0.6999999999999998,
          -0.5999999999999999,
          -0.4999999999999999,
          -0.3999999999999999,
          -0.29999999999999993,
          -0.19999999999999996,
          -0.09999999999999998,
          0,
          0.09999999999999987,
          0.19999999999999996,
          0.30000000000000004,
          0.3999999999999999,
          0.4999999999999998,
          0.5999999999999999,
          0.7,
          0.7999999999999998,
          0.8999999999999997,
          0.9999999999999998
         ],
         "y": [
          0.3999989287100742,
          0.11650023321112152,
          -0.08872830852736521,
          -0.25952000902109307,
          -0.40442280321602814,
          -0.5267881862424609,
          -0.6278839412559872,
          -0.7078632455831301,
          -0.7661898742266167,
          -0.8018813701977158,
          -0.8139562570688441,
          -0.8018913233379154,
          -0.7661905826392814,
          -0.707863089418866,
          -0.6278840149742188,
          -0.5267821509925787,
          -0.40442315287214875,
          -0.25951996727114324,
          -0.08872684277106771,
          0.11650567939231574,
          0.3999997723881305
         ]
        },
        {
         "mode": "lines",
         "name": "T = 3500.0",
         "type": "scatter",
         "x": [
          -0.9999999999999998,
          -0.8999999999999998,
          -0.7999999999999998,
          -0.6999999999999998,
          -0.5999999999999999,
          -0.4999999999999999,
          -0.3999999999999999,
          -0.29999999999999993,
          -0.19999999999999996,
          -0.09999999999999998,
          0,
          0.09999999999999987,
          0.19999999999999996,
          0.30000000000000004,
          0.3999999999999999,
          0.4999999999999998,
          0.5999999999999999,
          0.7,
          0.7999999999999998,
          0.8999999999999997,
          0.9999999999999998
         ],
         "y": [
          0.3999971088458619,
          0.08247721861787585,
          -0.14399282185189827,
          -0.3306350187168216,
          -0.4875587030133806,
          -0.6188758723256055,
          -0.7263535101901769,
          -0.8105539614595494,
          -0.8713431352184003,
          -0.9082080161139156,
          -0.9205809997146376,
          -0.9082008196256467,
          -0.8713435136822211,
          -0.8105539591738706,
          -0.7263534685199987,
          -0.618873057471892,
          -0.4875534866525339,
          -0.330634307674502,
          -0.14399153861162342,
          0.08248155559949177,
          0.39999944383119296
         ]
        },
        {
         "mode": "lines",
         "name": "T = 4000.0",
         "type": "scatter",
         "x": [
          -0.9999999999999998,
          -0.8999999999999998,
          -0.7999999999999998,
          -0.6999999999999998,
          -0.5999999999999999,
          -0.4999999999999999,
          -0.3999999999999999,
          -0.29999999999999993,
          -0.19999999999999996,
          -0.09999999999999998,
          0,
          0.09999999999999987,
          0.19999999999999996,
          0.30000000000000004,
          0.3999999999999999,
          0.4999999999999998,
          0.5999999999999999,
          0.7,
          0.7999999999999998,
          0.8999999999999997,
          0.9999999999999998
         ],
         "y": [
          0.39999968780852874,
          0.048418423480279804,
          -0.1993699878666269,
          -0.4020226617244915,
          -0.5712138271085765,
          -0.7118241342879588,
          -0.826119248195106,
          -0.9150505684778996,
          -0.978833391167071,
          -1.0172828223243837,
          -1.0301617403413899,
          -1.017193436477078,
          -0.9788328317489212,
          -0.9150505817298842,
          -0.8261192962011451,
          -0.7118236231056769,
          -0.5712137201489731,
          -0.4020231337565149,
          -0.1993712957590427,
          0.04842431104025691,
          0.39999941874664163
         ]
        },
        {
         "mode": "lines",
         "name": "T = 4500.0",
         "type": "scatter",
         "x": [
          -0.9999999999999998,
          -0.8999999999999998,
          -0.7999999999999998,
          -0.6999999999999998,
          -0.5999999999999999,
          -0.4999999999999999,
          -0.3999999999999999,
          -0.29999999999999993,
          -0.19999999999999996,
          -0.09999999999999998,
          0,
          0.09999999999999987,
          0.19999999999999996,
          0.30000000000000004,
          0.3999999999999999,
          0.4999999999999998,
          0.5999999999999999,
          0.7,
          0.7999999999999998,
          0.8999999999999997,
          0.9999999999999998
         ],
         "y": [
          0.399997451627918,
          0.014343978349239839,
          -0.254840282953381,
          -0.4736308095909152,
          -0.6552800887798176,
          -0.8054404081100877,
          -0.9268672802076121,
          -1.0208798033861075,
          -1.0880027448308718,
          -1.1283298822985919,
          -1.1417905281748923,
          -1.1283255411286477,
          -1.0879995045149284,
          -1.02087980247604,
          -0.9268672889653904,
          -0.8054403953953669,
          -0.6552746021682201,
          -0.4736306731678966,
          -0.25484170807004397,
          0.014348568264872796,
          0.39999813564614256
         ]
        },
        {
         "mode": "lines",
         "name": "T = 5000.0",
         "type": "scatter",
         "x": [
          -0.9999999999999998,
          -0.8999999999999998,
          -0.7999999999999998,
          -0.6999999999999998,
          -0.5999999999999999,
          -0.4999999999999999,
          -0.3999999999999999,
          -0.29999999999999993,
          -0.19999999999999996,
          -0.09999999999999998,
          0,
          0.09999999999999987,
          0.19999999999999996,
          0.30000000000000004,
          0.3999999999999999,
          0.4999999999999998,
          0.5999999999999999,
          0.7,
          0.7999999999999998,
          0.8999999999999997,
          0.9999999999999998
         ],
         "y": [
          0.39999844823869113,
          -0.019747469488757108,
          -0.31038808487965647,
          -0.5454173829299965,
          -0.7396741520643624,
          -0.8995792444593863,
          -1.0283689305143158,
          -1.1277110628248102,
          -1.198406985540397,
          -1.240774126409202,
          -1.254894047618749,
          -1.2407737646509212,
          -1.198406901933397,
          -1.1277110627673634,
          -1.028368929036894,
          -0.8995791004913624,
          -0.739673746360853,
          -0.5454172591890547,
          -0.3103886573835003,
          -0.019749697037678537,
          0.39999696120092326
         ]
        },
        {
         "mode": "lines",
         "name": "T = 5500.0",
         "type": "scatter",
         "x": [
          -0.9999999999999998,
          -0.8999999999999998,
          -0.7999999999999998,
          -0.6999999999999998,
          -0.5999999999999999,
          -0.4999999999999999,
          -0.3999999999999999,
          -0.29999999999999993,
          -0.19999999999999996,
          -0.09999999999999998,
          0,
          0.09999999999999987,
          0.19999999999999996,
          0.30000000000000004,
          0.3999999999999999,
          0.4999999999999998,
          0.5999999999999999,
          0.7,
          0.7999999999999998,
          0.8999999999999997,
          0.9999999999999998
         ],
         "y": [
          0.39999771926108385,
          -0.05385744859840513,
          -0.36599727102415025,
          -0.6173481166260018,
          -0.8243305574766371,
          -0.9941310984930515,
          -1.130457487432087,
          -1.2353105945861493,
          -1.3096004941330612,
          -1.3542695718916236,
          -1.3690937795335794,
          -1.354268509033232,
          -1.3097447097253272,
          -1.2353105942766622,
          -1.1304574972815102,
          -0.9941310954913105,
          -0.824330609337647,
          -0.6173479256821554,
          -0.36599417353159497,
          -0.05385729522375232,
          0.3999990533383027
         ]
        },
        {
         "mode": "lines",
         "name": "T = 6000.0",
         "type": "scatter",
         "x": [
          -0.9999999999999998,
          -0.8999999999999998,
          -0.7999999999999998,
          -0.6999999999999998,
          -0.5999999999999999,
          -0.4999999999999999,
          -0.3999999999999999,
          -0.29999999999999993,
          -0.19999999999999996,
          -0.09999999999999998,
          0,
          0.09999999999999987,
          0.19999999999999996,
          0.30000000000000004,
          0.3999999999999999,
          0.4999999999999998,
          0.5999999999999999,
          0.7,
          0.7999999999999998,
          0.8999999999999997,
          0.9999999999999998
         ],
         "y": [
          0.39999671626792704,
          -0.08797550033746154,
          -0.42165710855867494,
          -0.6893970987163623,
          -0.9091998365731729,
          -1.089013600963422,
          -1.2330100714034962,
          -1.3435100681970886,
          -1.4218033287572942,
          -1.4685709889087033,
          -1.4841301356887495,
          -1.4685710331968982,
          -1.4218033413198752,
          -1.3435100681881227,
          -1.2330100716440822,
          -1.0890135922703577,
          -0.9091998195449673,
          -0.6893970676345853,
          -0.4216571775197382,
          -0.08797627402506653,
          0.3999988907868913
         ]
        },
        {
         "mode": "lines",
         "name": "T = 6500.0",
         "type": "scatter",
         "x": [
          -0.9999999999999998,
          -0.8999999999999998,
          -0.7999999999999998,
          -0.6999999999999998,
          -0.5999999999999999,
          -0.4999999999999999,
          -0.3999999999999999,
          -0.29999999999999993,
          -0.19999999999999996,
          -0.09999999999999998,
          0,
          0.09999999999999987,
          0.19999999999999996,
          0.30000000000000004,
          0.3999999999999999,
          0.4999999999999998,
          0.5999999999999999,
          0.7,
          0.7999999999999998,
          0.8999999999999997,
          0.9999999999999998
         ],
         "y": [
          0.3999990321625276,
          -0.12210551045111517,
          -0.47736070653110835,
          -0.7615446290432706,
          -0.9942431737981328,
          -1.1841640126195188,
          -1.3359347457647532,
          -1.4521859159928914,
          -1.5344281298788942,
          -1.5835025760198655,
          -1.5998192766750772,
          -1.5835025752028615,
          -1.5344292240418305,
          -1.4521859159567978,
          -1.3359347458609756,
          -1.1841640100144153,
          -0.9942431772942713,
          -0.7615443814281124,
          -0.4773594211450266,
          -0.12211012842745672,
          0.3999994422791197
         ]
        },
        {
         "mode": "lines",
         "name": "T = 7000.0",
         "type": "scatter",
         "x": [
          -0.9999999999999998,
          -0.8999999999999998,
          -0.7999999999999998,
          -0.6999999999999998,
          -0.5999999999999999,
          -0.4999999999999999,
          -0.3999999999999999,
          -0.29999999999999993,
          -0.19999999999999996,
          -0.09999999999999998,
          0,
          0.09999999999999987,
          0.19999999999999996,
          0.30000000000000004,
          0.3999999999999999,
          0.4999999999999998,
          0.5999999999999999,
          0.7,
          0.7999999999999998,
          0.8999999999999997,
          0.9999999999999998
         ],
         "y": [
          0.3999991256099183,
          -0.15624559905072727,
          -0.5330996043927587,
          -0.8337732764526482,
          -1.079430470000994,
          -1.2795339395135177,
          -1.439161778060529,
          -1.5612457318568822,
          -1.6475091703688303,
          -1.6989360458081952,
          -1.7160274089365477,
          -1.6989360456333134,
          -1.64750917286095,
          -1.5612457318357411,
          -1.4391617781867845,
          -1.2795339337251233,
          -1.0794305008036886,
          -0.8337733095372616,
          -0.5330992042521935,
          -0.15624745943467272,
          0.3999995305806826
         ]
        },
        {
         "mode": "lines",
         "name": "T = 7500.0",
         "type": "scatter",
         "x": [
          -0.9999999999999998,
          -0.8999999999999998,
          -0.7999999999999998,
          -0.6999999999999998,
          -0.5999999999999999,
          -0.4999999999999999,
          -0.3999999999999999,
          -0.29999999999999993,
          -0.19999999999999996,
          -0.09999999999999998,
          0,
          0.09999999999999987,
          0.19999999999999996,
          0.30000000000000004,
          0.3999999999999999,
          0.4999999999999998,
          0.5999999999999999,
          0.7,
          0.7999999999999998,
          0.8999999999999997,
          0.9999999999999998
         ],
         "y": [
          0.39999517074731195,
          -0.19039621439529975,
          -0.5888690944317106,
          -0.9060705769101017,
          -1.164737896188068,
          -1.3750857262297502,
          -1.5426374710394137,
          -1.6706192095744061,
          -1.760957946529508,
          -1.8147756242774578,
          -1.8326548642255587,
          -1.814775624267106,
          -1.760957944063278,
          -1.6706192093917354,
          -1.5426374711610198,
          -1.3750857247931332,
          -1.1647378469819754,
          -0.9060705531582592,
          -0.5888693462337067,
          -0.19039089734687675,
          0.39999872020397387
         ]
        },
        {
         "mode": "lines",
         "name": "T = 8000.0",
         "type": "scatter",
         "x": [
          -0.9999999999999998,
          -0.8999999999999998,
          -0.7999999999999998,
          -0.6999999999999998,
          -0.5999999999999999,
          -0.4999999999999999,
          -0.3999999999999999,
          -0.29999999999999993,
          -0.19999999999999996,
          -0.09999999999999998,
          0,
          0.09999999999999987,
          0.19999999999999996,
          0.30000000000000004,
          0.3999999999999999,
          0.4999999999999998,
          0.5999999999999999,
          0.7,
          0.7999999999999998,
          0.8999999999999997,
          0.9999999999999998
         ],
         "y": [
          0.3999991944412817,
          -0.2245482404281765,
          -0.6446649359935217,
          -0.9784258771757014,
          -1.2501464511048468,
          -1.4707896569766303,
          -1.6463199114424156,
          -1.780252007006653,
          -1.8747063368164145,
          -1.93094831929827,
          -1.9496258864735307,
          -1.930948319217052,
          -1.8747102164249754,
          -1.780252006987852,
          -1.6463199113434013,
          -1.4707896579002708,
          -1.2501464307967978,
          -0.9784258586625184,
          -0.644664923249117,
          -0.22454965469850252,
          0.3999995267556702
         ]
        },
        {
         "mode": "lines",
         "name": "T = 8500.0",
         "type": "scatter",
         "x": [
          -0.9999999999999998,
          -0.8999999999999998,
          -0.7999999999999998,
          -0.6999999999999998,
          -0.5999999999999999,
          -0.4999999999999999,
          -0.3999999999999999,
          -0.29999999999999993,
          -0.19999999999999996,
          -0.09999999999999998,
          0,
          0.09999999999999987,
          0.19999999999999996,
          0.30000000000000004,
          0.3999999999999999,
          0.4999999999999998,
          0.5999999999999999,
          0.7,
          0.7999999999999998,
          0.8999999999999997,
          0.9999999999999998
         ],
         "y": [
          0.3999993832349252,
          -0.2587087816099102,
          -0.7004831080463889,
          -1.0508308428312605,
          -1.3356408782059228,
          -1.5666220396709742,
          -1.750175964376753,
          -1.8901015137698842,
          -1.9887151150883178,
          -2.047397571148926,
          -2.0668818768625714,
          -2.047397571151665,
          -1.988715115100913,
          -1.890101513803278,
          -1.750175964551636,
          -1.56662203898224,
          -1.3356408530502415,
          -1.0508308189748137,
          -0.7004828905823354,
          -0.25870725618185736,
          0.3999968165034836
         ]
        },
        {
         "mode": "lines",
         "name": "T = 9000.0",
         "type": "scatter",
         "x": [
          -0.9999999999999998,
          -0.8999999999999998,
          -0.7999999999999998,
          -0.6999999999999998,
          -0.5999999999999999,
          -0.4999999999999999,
          -0.3999999999999999,
          -0.29999999999999993,
          -0.19999999999999996,
          -0.09999999999999998,
          0,
          0.09999999999999987,
          0.19999999999999996,
          0.30000000000000004,
          0.3999999999999999,
          0.4999999999999998,
          0.5999999999999999,
          0.7,
          0.7999999999999998,
          0.8999999999999997,
          0.9999999999999998
         ],
         "y": [
          0.3999973464481938,
          -0.2928724884848155,
          -0.7563203278900377,
          -1.1232784813173282,
          -1.4212087373254763,
          -1.662563774433259,
          -1.8541791255083526,
          -2.000133881311063,
          -2.102932469033708,
          -2.16407888772372,
          -2.18437680470844,
          -2.1640788877261046,
          -2.10293246904384,
          -2.000133881295989,
          -1.854179125619145,
          -1.6625637744175605,
          -1.421208779455701,
          -1.1232783118576948,
          -0.7563199181182901,
          -0.2928732305442436,
          0.39999942207324507
         ]
        },
        {
         "mode": "lines",
         "name": "T = 9500.0",
         "type": "scatter",
         "x": [
          -0.9999999999999998,
          -0.8999999999999998,
          -0.7999999999999998,
          -0.6999999999999998,
          -0.5999999999999999,
          -0.4999999999999999,
          -0.3999999999999999,
          -0.29999999999999993,
          -0.19999999999999996,
          -0.09999999999999998,
          0,
          0.09999999999999987,
          0.19999999999999996,
          0.30000000000000004,
          0.3999999999999999,
          0.4999999999999998,
          0.5999999999999999,
          0.7,
          0.7999999999999998,
          0.8999999999999997,
          0.9999999999999998
         ],
         "y": [
          0.3999971142154411,
          -0.32704187329179746,
          -0.8121739273605463,
          -1.1957631126463997,
          -1.5068399983103895,
          -1.7585993186704745,
          -1.958307962166086,
          -2.1103219011216514,
          -2.2173301441359503,
          -2.280956797997463,
          -2.3020740154790795,
          -2.2809567980208825,
          -2.217330144156613,
          -2.110321901137758,
          -1.9583079621604524,
          -1.7585993187205262,
          -1.5068399979448865,
          -1.195763031363323,
          -0.8121743004925858,
          -0.32703953542079034,
          0.3999980349779305
         ]
        },
        {
         "mode": "lines",
         "name": "T = 10000.0",
         "type": "scatter",
         "x": [
          -0.9999999999999998,
          -0.8999999999999998,
          -0.7999999999999998,
          -0.6999999999999998,
          -0.5999999999999999,
          -0.4999999999999999,
          -0.3999999999999999,
          -0.29999999999999993,
          -0.19999999999999996,
          -0.09999999999999998,
          0,
          0.09999999999999987,
          0.19999999999999996,
          0.30000000000000004,
          0.3999999999999999,
          0.4999999999999998,
          0.5999999999999999,
          0.7,
          0.7999999999999998,
          0.8999999999999997,
          0.9999999999999998
         ],
         "y": [
          0.3999975796397958,
          -0.361213003802001,
          -0.8680436353883515,
          -1.268279896468997,
          -1.5925261310218923,
          -1.8547159039794348,
          -2.06254497004537,
          -2.220643466310169,
          -2.3318821404850145,
          -2.3980026804543737,
          -2.419354483587476,
          -2.3980026823481797,
          -2.3318821406276533,
          -2.2206434663408223,
          -2.0625449700338856,
          -1.8547159038521313,
          -1.5925261310208008,
          -1.2682798850864256,
          -0.8680434693030776,
          -0.3612115955998126,
          0.39999922151575684
         ]
        }
       ],
       "layout": {
        "legend": {
         "title": {
          "text": "Temperature"
         }
        },
        "template": {
         "data": {
          "bar": [
           {
            "error_x": {
             "color": "rgb(36,36,36)"
            },
            "error_y": {
             "color": "rgb(36,36,36)"
            },
            "marker": {
             "line": {
              "color": "rgb(234,234,242)",
              "width": 0.5
             },
             "pattern": {
              "fillmode": "overlay",
              "size": 10,
              "solidity": 0.2
             }
            },
            "type": "bar"
           }
          ],
          "barpolar": [
           {
            "marker": {
             "line": {
              "color": "rgb(234,234,242)",
              "width": 0.5
             },
             "pattern": {
              "fillmode": "overlay",
              "size": 10,
              "solidity": 0.2
             }
            },
            "type": "barpolar"
           }
          ],
          "carpet": [
           {
            "aaxis": {
             "endlinecolor": "rgb(36,36,36)",
             "gridcolor": "white",
             "linecolor": "white",
             "minorgridcolor": "white",
             "startlinecolor": "rgb(36,36,36)"
            },
            "baxis": {
             "endlinecolor": "rgb(36,36,36)",
             "gridcolor": "white",
             "linecolor": "white",
             "minorgridcolor": "white",
             "startlinecolor": "rgb(36,36,36)"
            },
            "type": "carpet"
           }
          ],
          "choropleth": [
           {
            "colorbar": {
             "outlinewidth": 0,
             "tickcolor": "rgb(36,36,36)",
             "ticklen": 8,
             "ticks": "outside",
             "tickwidth": 2
            },
            "type": "choropleth"
           }
          ],
          "contour": [
           {
            "colorbar": {
             "outlinewidth": 0,
             "tickcolor": "rgb(36,36,36)",
             "ticklen": 8,
             "ticks": "outside",
             "tickwidth": 2
            },
            "colorscale": [
             [
              0,
              "rgb(2,4,25)"
             ],
             [
              0.06274509803921569,
              "rgb(24,15,41)"
             ],
             [
              0.12549019607843137,
              "rgb(47,23,57)"
             ],
             [
              0.18823529411764706,
              "rgb(71,28,72)"
             ],
             [
              0.25098039215686274,
              "rgb(97,30,82)"
             ],
             [
              0.3137254901960784,
              "rgb(123,30,89)"
             ],
             [
              0.3764705882352941,
              "rgb(150,27,91)"
             ],
             [
              0.4392156862745098,
              "rgb(177,22,88)"
             ],
             [
              0.5019607843137255,
              "rgb(203,26,79)"
             ],
             [
              0.5647058823529412,
              "rgb(223,47,67)"
             ],
             [
              0.6274509803921569,
              "rgb(236,76,61)"
             ],
             [
              0.6901960784313725,
              "rgb(242,107,73)"
             ],
             [
              0.7529411764705882,
              "rgb(244,135,95)"
             ],
             [
              0.8156862745098039,
              "rgb(245,162,122)"
             ],
             [
              0.8784313725490196,
              "rgb(246,188,153)"
             ],
             [
              0.9411764705882353,
              "rgb(247,212,187)"
             ],
             [
              1,
              "rgb(250,234,220)"
             ]
            ],
            "type": "contour"
           }
          ],
          "contourcarpet": [
           {
            "colorbar": {
             "outlinewidth": 0,
             "tickcolor": "rgb(36,36,36)",
             "ticklen": 8,
             "ticks": "outside",
             "tickwidth": 2
            },
            "type": "contourcarpet"
           }
          ],
          "heatmap": [
           {
            "colorbar": {
             "outlinewidth": 0,
             "tickcolor": "rgb(36,36,36)",
             "ticklen": 8,
             "ticks": "outside",
             "tickwidth": 2
            },
            "colorscale": [
             [
              0,
              "rgb(2,4,25)"
             ],
             [
              0.06274509803921569,
              "rgb(24,15,41)"
             ],
             [
              0.12549019607843137,
              "rgb(47,23,57)"
             ],
             [
              0.18823529411764706,
              "rgb(71,28,72)"
             ],
             [
              0.25098039215686274,
              "rgb(97,30,82)"
             ],
             [
              0.3137254901960784,
              "rgb(123,30,89)"
             ],
             [
              0.3764705882352941,
              "rgb(150,27,91)"
             ],
             [
              0.4392156862745098,
              "rgb(177,22,88)"
             ],
             [
              0.5019607843137255,
              "rgb(203,26,79)"
             ],
             [
              0.5647058823529412,
              "rgb(223,47,67)"
             ],
             [
              0.6274509803921569,
              "rgb(236,76,61)"
             ],
             [
              0.6901960784313725,
              "rgb(242,107,73)"
             ],
             [
              0.7529411764705882,
              "rgb(244,135,95)"
             ],
             [
              0.8156862745098039,
              "rgb(245,162,122)"
             ],
             [
              0.8784313725490196,
              "rgb(246,188,153)"
             ],
             [
              0.9411764705882353,
              "rgb(247,212,187)"
             ],
             [
              1,
              "rgb(250,234,220)"
             ]
            ],
            "type": "heatmap"
           }
          ],
          "heatmapgl": [
           {
            "colorbar": {
             "outlinewidth": 0,
             "tickcolor": "rgb(36,36,36)",
             "ticklen": 8,
             "ticks": "outside",
             "tickwidth": 2
            },
            "colorscale": [
             [
              0,
              "rgb(2,4,25)"
             ],
             [
              0.06274509803921569,
              "rgb(24,15,41)"
             ],
             [
              0.12549019607843137,
              "rgb(47,23,57)"
             ],
             [
              0.18823529411764706,
              "rgb(71,28,72)"
             ],
             [
              0.25098039215686274,
              "rgb(97,30,82)"
             ],
             [
              0.3137254901960784,
              "rgb(123,30,89)"
             ],
             [
              0.3764705882352941,
              "rgb(150,27,91)"
             ],
             [
              0.4392156862745098,
              "rgb(177,22,88)"
             ],
             [
              0.5019607843137255,
              "rgb(203,26,79)"
             ],
             [
              0.5647058823529412,
              "rgb(223,47,67)"
             ],
             [
              0.6274509803921569,
              "rgb(236,76,61)"
             ],
             [
              0.6901960784313725,
              "rgb(242,107,73)"
             ],
             [
              0.7529411764705882,
              "rgb(244,135,95)"
             ],
             [
              0.8156862745098039,
              "rgb(245,162,122)"
             ],
             [
              0.8784313725490196,
              "rgb(246,188,153)"
             ],
             [
              0.9411764705882353,
              "rgb(247,212,187)"
             ],
             [
              1,
              "rgb(250,234,220)"
             ]
            ],
            "type": "heatmapgl"
           }
          ],
          "histogram": [
           {
            "marker": {
             "pattern": {
              "fillmode": "overlay",
              "size": 10,
              "solidity": 0.2
             }
            },
            "type": "histogram"
           }
          ],
          "histogram2d": [
           {
            "colorbar": {
             "outlinewidth": 0,
             "tickcolor": "rgb(36,36,36)",
             "ticklen": 8,
             "ticks": "outside",
             "tickwidth": 2
            },
            "colorscale": [
             [
              0,
              "rgb(2,4,25)"
             ],
             [
              0.06274509803921569,
              "rgb(24,15,41)"
             ],
             [
              0.12549019607843137,
              "rgb(47,23,57)"
             ],
             [
              0.18823529411764706,
              "rgb(71,28,72)"
             ],
             [
              0.25098039215686274,
              "rgb(97,30,82)"
             ],
             [
              0.3137254901960784,
              "rgb(123,30,89)"
             ],
             [
              0.3764705882352941,
              "rgb(150,27,91)"
             ],
             [
              0.4392156862745098,
              "rgb(177,22,88)"
             ],
             [
              0.5019607843137255,
              "rgb(203,26,79)"
             ],
             [
              0.5647058823529412,
              "rgb(223,47,67)"
             ],
             [
              0.6274509803921569,
              "rgb(236,76,61)"
             ],
             [
              0.6901960784313725,
              "rgb(242,107,73)"
             ],
             [
              0.7529411764705882,
              "rgb(244,135,95)"
             ],
             [
              0.8156862745098039,
              "rgb(245,162,122)"
             ],
             [
              0.8784313725490196,
              "rgb(246,188,153)"
             ],
             [
              0.9411764705882353,
              "rgb(247,212,187)"
             ],
             [
              1,
              "rgb(250,234,220)"
             ]
            ],
            "type": "histogram2d"
           }
          ],
          "histogram2dcontour": [
           {
            "colorbar": {
             "outlinewidth": 0,
             "tickcolor": "rgb(36,36,36)",
             "ticklen": 8,
             "ticks": "outside",
             "tickwidth": 2
            },
            "colorscale": [
             [
              0,
              "rgb(2,4,25)"
             ],
             [
              0.06274509803921569,
              "rgb(24,15,41)"
             ],
             [
              0.12549019607843137,
              "rgb(47,23,57)"
             ],
             [
              0.18823529411764706,
              "rgb(71,28,72)"
             ],
             [
              0.25098039215686274,
              "rgb(97,30,82)"
             ],
             [
              0.3137254901960784,
              "rgb(123,30,89)"
             ],
             [
              0.3764705882352941,
              "rgb(150,27,91)"
             ],
             [
              0.4392156862745098,
              "rgb(177,22,88)"
             ],
             [
              0.5019607843137255,
              "rgb(203,26,79)"
             ],
             [
              0.5647058823529412,
              "rgb(223,47,67)"
             ],
             [
              0.6274509803921569,
              "rgb(236,76,61)"
             ],
             [
              0.6901960784313725,
              "rgb(242,107,73)"
             ],
             [
              0.7529411764705882,
              "rgb(244,135,95)"
             ],
             [
              0.8156862745098039,
              "rgb(245,162,122)"
             ],
             [
              0.8784313725490196,
              "rgb(246,188,153)"
             ],
             [
              0.9411764705882353,
              "rgb(247,212,187)"
             ],
             [
              1,
              "rgb(250,234,220)"
             ]
            ],
            "type": "histogram2dcontour"
           }
          ],
          "mesh3d": [
           {
            "colorbar": {
             "outlinewidth": 0,
             "tickcolor": "rgb(36,36,36)",
             "ticklen": 8,
             "ticks": "outside",
             "tickwidth": 2
            },
            "type": "mesh3d"
           }
          ],
          "parcoords": [
           {
            "line": {
             "colorbar": {
              "outlinewidth": 0,
              "tickcolor": "rgb(36,36,36)",
              "ticklen": 8,
              "ticks": "outside",
              "tickwidth": 2
             }
            },
            "type": "parcoords"
           }
          ],
          "pie": [
           {
            "automargin": true,
            "type": "pie"
           }
          ],
          "scatter": [
           {
            "marker": {
             "colorbar": {
              "outlinewidth": 0,
              "tickcolor": "rgb(36,36,36)",
              "ticklen": 8,
              "ticks": "outside",
              "tickwidth": 2
             }
            },
            "type": "scatter"
           }
          ],
          "scatter3d": [
           {
            "line": {
             "colorbar": {
              "outlinewidth": 0,
              "tickcolor": "rgb(36,36,36)",
              "ticklen": 8,
              "ticks": "outside",
              "tickwidth": 2
             }
            },
            "marker": {
             "colorbar": {
              "outlinewidth": 0,
              "tickcolor": "rgb(36,36,36)",
              "ticklen": 8,
              "ticks": "outside",
              "tickwidth": 2
             }
            },
            "type": "scatter3d"
           }
          ],
          "scattercarpet": [
           {
            "marker": {
             "colorbar": {
              "outlinewidth": 0,
              "tickcolor": "rgb(36,36,36)",
              "ticklen": 8,
              "ticks": "outside",
              "tickwidth": 2
             }
            },
            "type": "scattercarpet"
           }
          ],
          "scattergeo": [
           {
            "marker": {
             "colorbar": {
              "outlinewidth": 0,
              "tickcolor": "rgb(36,36,36)",
              "ticklen": 8,
              "ticks": "outside",
              "tickwidth": 2
             }
            },
            "type": "scattergeo"
           }
          ],
          "scattergl": [
           {
            "marker": {
             "colorbar": {
              "outlinewidth": 0,
              "tickcolor": "rgb(36,36,36)",
              "ticklen": 8,
              "ticks": "outside",
              "tickwidth": 2
             }
            },
            "type": "scattergl"
           }
          ],
          "scattermapbox": [
           {
            "marker": {
             "colorbar": {
              "outlinewidth": 0,
              "tickcolor": "rgb(36,36,36)",
              "ticklen": 8,
              "ticks": "outside",
              "tickwidth": 2
             }
            },
            "type": "scattermapbox"
           }
          ],
          "scatterpolar": [
           {
            "marker": {
             "colorbar": {
              "outlinewidth": 0,
              "tickcolor": "rgb(36,36,36)",
              "ticklen": 8,
              "ticks": "outside",
              "tickwidth": 2
             }
            },
            "type": "scatterpolar"
           }
          ],
          "scatterpolargl": [
           {
            "marker": {
             "colorbar": {
              "outlinewidth": 0,
              "tickcolor": "rgb(36,36,36)",
              "ticklen": 8,
              "ticks": "outside",
              "tickwidth": 2
             }
            },
            "type": "scatterpolargl"
           }
          ],
          "scatterternary": [
           {
            "marker": {
             "colorbar": {
              "outlinewidth": 0,
              "tickcolor": "rgb(36,36,36)",
              "ticklen": 8,
              "ticks": "outside",
              "tickwidth": 2
             }
            },
            "type": "scatterternary"
           }
          ],
          "surface": [
           {
            "colorbar": {
             "outlinewidth": 0,
             "tickcolor": "rgb(36,36,36)",
             "ticklen": 8,
             "ticks": "outside",
             "tickwidth": 2
            },
            "colorscale": [
             [
              0,
              "rgb(2,4,25)"
             ],
             [
              0.06274509803921569,
              "rgb(24,15,41)"
             ],
             [
              0.12549019607843137,
              "rgb(47,23,57)"
             ],
             [
              0.18823529411764706,
              "rgb(71,28,72)"
             ],
             [
              0.25098039215686274,
              "rgb(97,30,82)"
             ],
             [
              0.3137254901960784,
              "rgb(123,30,89)"
             ],
             [
              0.3764705882352941,
              "rgb(150,27,91)"
             ],
             [
              0.4392156862745098,
              "rgb(177,22,88)"
             ],
             [
              0.5019607843137255,
              "rgb(203,26,79)"
             ],
             [
              0.5647058823529412,
              "rgb(223,47,67)"
             ],
             [
              0.6274509803921569,
              "rgb(236,76,61)"
             ],
             [
              0.6901960784313725,
              "rgb(242,107,73)"
             ],
             [
              0.7529411764705882,
              "rgb(244,135,95)"
             ],
             [
              0.8156862745098039,
              "rgb(245,162,122)"
             ],
             [
              0.8784313725490196,
              "rgb(246,188,153)"
             ],
             [
              0.9411764705882353,
              "rgb(247,212,187)"
             ],
             [
              1,
              "rgb(250,234,220)"
             ]
            ],
            "type": "surface"
           }
          ],
          "table": [
           {
            "cells": {
             "fill": {
              "color": "rgb(231,231,240)"
             },
             "line": {
              "color": "white"
             }
            },
            "header": {
             "fill": {
              "color": "rgb(183,183,191)"
             },
             "line": {
              "color": "white"
             }
            },
            "type": "table"
           }
          ]
         },
         "layout": {
          "annotationdefaults": {
           "arrowcolor": "rgb(67,103,167)"
          },
          "autotypenumbers": "strict",
          "coloraxis": {
           "colorbar": {
            "outlinewidth": 0,
            "tickcolor": "rgb(36,36,36)",
            "ticklen": 8,
            "ticks": "outside",
            "tickwidth": 2
           }
          },
          "colorscale": {
           "sequential": [
            [
             0,
             "rgb(2,4,25)"
            ],
            [
             0.06274509803921569,
             "rgb(24,15,41)"
            ],
            [
             0.12549019607843137,
             "rgb(47,23,57)"
            ],
            [
             0.18823529411764706,
             "rgb(71,28,72)"
            ],
            [
             0.25098039215686274,
             "rgb(97,30,82)"
            ],
            [
             0.3137254901960784,
             "rgb(123,30,89)"
            ],
            [
             0.3764705882352941,
             "rgb(150,27,91)"
            ],
            [
             0.4392156862745098,
             "rgb(177,22,88)"
            ],
            [
             0.5019607843137255,
             "rgb(203,26,79)"
            ],
            [
             0.5647058823529412,
             "rgb(223,47,67)"
            ],
            [
             0.6274509803921569,
             "rgb(236,76,61)"
            ],
            [
             0.6901960784313725,
             "rgb(242,107,73)"
            ],
            [
             0.7529411764705882,
             "rgb(244,135,95)"
            ],
            [
             0.8156862745098039,
             "rgb(245,162,122)"
            ],
            [
             0.8784313725490196,
             "rgb(246,188,153)"
            ],
            [
             0.9411764705882353,
             "rgb(247,212,187)"
            ],
            [
             1,
             "rgb(250,234,220)"
            ]
           ],
           "sequentialminus": [
            [
             0,
             "rgb(2,4,25)"
            ],
            [
             0.06274509803921569,
             "rgb(24,15,41)"
            ],
            [
             0.12549019607843137,
             "rgb(47,23,57)"
            ],
            [
             0.18823529411764706,
             "rgb(71,28,72)"
            ],
            [
             0.25098039215686274,
             "rgb(97,30,82)"
            ],
            [
             0.3137254901960784,
             "rgb(123,30,89)"
            ],
            [
             0.3764705882352941,
             "rgb(150,27,91)"
            ],
            [
             0.4392156862745098,
             "rgb(177,22,88)"
            ],
            [
             0.5019607843137255,
             "rgb(203,26,79)"
            ],
            [
             0.5647058823529412,
             "rgb(223,47,67)"
            ],
            [
             0.6274509803921569,
             "rgb(236,76,61)"
            ],
            [
             0.6901960784313725,
             "rgb(242,107,73)"
            ],
            [
             0.7529411764705882,
             "rgb(244,135,95)"
            ],
            [
             0.8156862745098039,
             "rgb(245,162,122)"
            ],
            [
             0.8784313725490196,
             "rgb(246,188,153)"
            ],
            [
             0.9411764705882353,
             "rgb(247,212,187)"
            ],
            [
             1,
             "rgb(250,234,220)"
            ]
           ]
          },
          "colorway": [
           "rgb(76,114,176)",
           "rgb(221,132,82)",
           "rgb(85,168,104)",
           "rgb(196,78,82)",
           "rgb(129,114,179)",
           "rgb(147,120,96)",
           "rgb(218,139,195)",
           "rgb(140,140,140)",
           "rgb(204,185,116)",
           "rgb(100,181,205)"
          ],
          "font": {
           "color": "rgb(36,36,36)"
          },
          "geo": {
           "bgcolor": "white",
           "lakecolor": "white",
           "landcolor": "rgb(234,234,242)",
           "showlakes": true,
           "showland": true,
           "subunitcolor": "white"
          },
          "hoverlabel": {
           "align": "left"
          },
          "hovermode": "closest",
          "paper_bgcolor": "white",
          "plot_bgcolor": "rgb(234,234,242)",
          "polar": {
           "angularaxis": {
            "gridcolor": "white",
            "linecolor": "white",
            "showgrid": true,
            "ticks": ""
           },
           "bgcolor": "rgb(234,234,242)",
           "radialaxis": {
            "gridcolor": "white",
            "linecolor": "white",
            "showgrid": true,
            "ticks": ""
           }
          },
          "scene": {
           "xaxis": {
            "backgroundcolor": "rgb(234,234,242)",
            "gridcolor": "white",
            "gridwidth": 2,
            "linecolor": "white",
            "showbackground": true,
            "showgrid": true,
            "ticks": "",
            "zerolinecolor": "white"
           },
           "yaxis": {
            "backgroundcolor": "rgb(234,234,242)",
            "gridcolor": "white",
            "gridwidth": 2,
            "linecolor": "white",
            "showbackground": true,
            "showgrid": true,
            "ticks": "",
            "zerolinecolor": "white"
           },
           "zaxis": {
            "backgroundcolor": "rgb(234,234,242)",
            "gridcolor": "white",
            "gridwidth": 2,
            "linecolor": "white",
            "showbackground": true,
            "showgrid": true,
            "ticks": "",
            "zerolinecolor": "white"
           }
          },
          "shapedefaults": {
           "fillcolor": "rgb(67,103,167)",
           "line": {
            "width": 0
           },
           "opacity": 0.5
          },
          "ternary": {
           "aaxis": {
            "gridcolor": "white",
            "linecolor": "white",
            "showgrid": true,
            "ticks": ""
           },
           "baxis": {
            "gridcolor": "white",
            "linecolor": "white",
            "showgrid": true,
            "ticks": ""
           },
           "bgcolor": "rgb(234,234,242)",
           "caxis": {
            "gridcolor": "white",
            "linecolor": "white",
            "showgrid": true,
            "ticks": ""
           }
          },
          "xaxis": {
           "automargin": true,
           "gridcolor": "white",
           "linecolor": "white",
           "showgrid": true,
           "ticks": "",
           "title": {
            "standoff": 15
           },
           "zerolinecolor": "white"
          },
          "yaxis": {
           "automargin": true,
           "gridcolor": "white",
           "linecolor": "white",
           "showgrid": true,
           "ticks": "",
           "title": {
            "standoff": 15
           },
           "zerolinecolor": "white"
          }
         }
        },
        "title": {
         "text": "F vs 1-point Corr"
        },
        "xaxis": {
         "title": {
          "text": "1-point Corr"
         }
        },
        "yaxis": {
         "title": {
          "text": "F"
         }
        }
       }
      },
      "text/html": [
       "<div>                            <div id=\"76d3f852-ef5d-4791-a7e4-44d3d0265d9b\" class=\"plotly-graph-div\" style=\"height:525px; width:100%;\"></div>            <script type=\"text/javascript\">                require([\"plotly\"], function(Plotly) {                    window.PLOTLYENV=window.PLOTLYENV || {};                                    if (document.getElementById(\"76d3f852-ef5d-4791-a7e4-44d3d0265d9b\")) {                    Plotly.newPlot(                        \"76d3f852-ef5d-4791-a7e4-44d3d0265d9b\",                        [{\"mode\":\"lines\",\"name\":\"T = 0.0\",\"type\":\"scatter\",\"x\":[-0.9999999999999998,-0.8999999999999998,-0.7999999999999998,-0.6999999999999998,-0.5999999999999999,-0.4999999999999999,-0.3999999999999999,-0.29999999999999993,-0.19999999999999996,-0.09999999999999998,0.0,0.09999999999999987,0.19999999999999996,0.30000000000000004,0.3999999999999999,0.4999999999999998,0.5999999999999999,0.7,0.7999999999999998,0.8999999999999997,0.9999999999999998],\"y\":[0.3999999739406645,0.3200152966532884,0.24000514898685982,0.16000004981417684,0.08001530451854841,2.2561794807506107e-06,-0.07998468313292645,-0.15998481879756277,-0.23998226544362256,-0.3199332396111978,-0.38998970475633493,-0.3199260886678354,-0.23998477494742346,-0.1599849003519402,-0.07999388395022611,1.5126336077241906e-05,0.08001517611783865,0.16000406118305183,0.24001524165661212,0.3200149226898939,0.39999996423892115]},{\"mode\":\"lines\",\"name\":\"T = 500.0\",\"type\":\"scatter\",\"x\":[-0.9999999999999998,-0.8999999999999998,-0.7999999999999998,-0.6999999999999998,-0.5999999999999999,-0.4999999999999999,-0.3999999999999999,-0.29999999999999993,-0.19999999999999996,-0.09999999999999998,0.0,0.09999999999999987,0.19999999999999996,0.30000000000000004,0.3999999999999999,0.4999999999999998,0.5999999999999999,0.7,0.7999999999999998,0.8999999999999997,0.9999999999999998],\"y\":[0.3999999639059389,0.286231769076556,0.18543204534558438,0.09061476881027943,0.00035588587845923614,-0.08578388452766866,-0.16774334069604474,-0.24512075234372382,-0.3170621682123652,-0.38164740254167756,-0.43003870885497913,-0.38164965785800387,-0.31706800073875424,-0.24512524632044358,-0.16773125661799937,-0.08577662574194714,0.00035796272267810125,0.09061518789162193,0.185449024870833,0.28622853885712407,0.39999984991406007]},{\"mode\":\"lines\",\"name\":\"T = 1000.0\",\"type\":\"scatter\",\"x\":[-0.9999999999999998,-0.8999999999999998,-0.7999999999999998,-0.6999999999999998,-0.5999999999999999,-0.4999999999999999,-0.3999999999999999,-0.29999999999999993,-0.19999999999999996,-0.09999999999999998,0.0,0.09999999999999987,0.19999999999999996,0.30000000000000004,0.3999999999999999,0.4999999999999998,0.5999999999999999,0.7,0.7999999999999998,0.8999999999999997,0.9999999999999998],\"y\":[0.39999882556553085,0.25227121455488577,0.13084471743272963,0.021189046653170146,-0.07935631165244537,-0.17165292993262612,-0.25563950821435616,-0.3305395548505886,-0.3947255722064993,-0.44485563480927215,-0.46981237687564803,-0.4448594781970866,-0.3947253795777098,-0.33053370261214554,-0.25564159488958704,-0.1716554431569747,-0.07935757340455103,0.021189915168095902,0.1308328266122799,0.2522802030123763,0.39999965038796886]},{\"mode\":\"lines\",\"name\":\"T = 1500.0\",\"type\":\"scatter\",\"x\":[-0.9999999999999998,-0.8999999999999998,-0.7999999999999998,-0.6999999999999998,-0.5999999999999999,-0.4999999999999999,-0.3999999999999999,-0.29999999999999993,-0.19999999999999996,-0.09999999999999998,0.0,0.09999999999999987,0.19999999999999996,0.30000000000000004,0.3999999999999999,0.4999999999999998,0.5999999999999999,0.7,0.7999999999999998,0.8999999999999997,0.9999999999999998],\"y\":[0.39999928693725084,0.21837533749047885,0.076180539474523,-0.04839834190675854,-0.15941906167371034,-0.25821591188684123,-0.3448287506858982,-0.41840004336407555,-0.4771509117304711,-0.5178330178584198,-0.5335719059004849,-0.5178325488311674,-0.4771562716437612,-0.4184050801491453,-0.34483264384597867,-0.2582103957781446,-0.15941712231478136,-0.04840205560742397,0.07617366584489466,0.21837993739647707,0.3999999008599629]},{\"mode\":\"lines\",\"name\":\"T = 2000.0\",\"type\":\"scatter\",\"x\":[-0.9999999999999998,-0.8999999999999998,-0.7999999999999998,-0.6999999999999998,-0.5999999999999999,-0.4999999999999999,-0.3999999999999999,-0.29999999999999993,-0.19999999999999996,-0.09999999999999998,0.0,0.09999999999999987,0.19999999999999996,0.30000000000000004,0.3999999999999999,0.4999999999999998,0.5999999999999999,0.7,0.7999999999999998,0.8999999999999997,0.9999999999999998],\"y\":[0.3999999074429041,0.18445929429987595,0.021376788788095652,-0.11835708291473035,-0.24024234075702372,-0.34621500782826686,-0.43662516464625467,-0.5108365606689993,-0.5673959003964906,-0.6038795976401061,-0.6167515413178453,-0.6038800849476958,-0.5674002775024616,-0.5108347018491909,-0.43662553775600554,-0.34621467472365014,-0.24024287772824443,-0.11835581389329791,0.021377567832030958,0.18445829642117142,0.3999998487577567]},{\"mode\":\"lines\",\"name\":\"T = 2500.0\",\"type\":\"scatter\",\"x\":[-0.9999999999999998,-0.8999999999999998,-0.7999999999999998,-0.6999999999999998,-0.5999999999999999,-0.4999999999999999,-0.3999999999999999,-0.29999999999999993,-0.19999999999999996,-0.09999999999999998,0.0,0.09999999999999987,0.19999999999999996,0.30000000000000004,0.3999999999999999,0.4999999999999998,0.5999999999999999,0.7,0.7999999999999998,0.8999999999999997,0.9999999999999998],\"y\":[0.3999988247972139,0.15050779793438077,-0.03359591743529042,-0.18874132556310982,-0.3219378741306527,-0.4358067859553884,-0.5311334192329774,-0.6076534994382892,-0.6643792553011107,-0.6997134353177666,-0.7090670602199782,-0.6997132517017876,-0.6643795329492184,-0.6076526894456025,-0.5311320432486761,-0.4358008252226983,-0.32193887160407786,-0.18873750203153752,-0.03359988506685607,0.1504971877805347,0.3999998035060979]},{\"mode\":\"lines\",\"name\":\"T = 3000.0\",\"type\":\"scatter\",\"x\":[-0.9999999999999998,-0.8999999999999998,-0.7999999999999998,-0.6999999999999998,-0.5999999999999999,-0.4999999999999999,-0.3999999999999999,-0.29999999999999993,-0.19999999999999996,-0.09999999999999998,0.0,0.09999999999999987,0.19999999999999996,0.30000000000000004,0.3999999999999999,0.4999999999999998,0.5999999999999999,0.7,0.7999999999999998,0.8999999999999997,0.9999999999999998],\"y\":[0.3999989287100742,0.11650023321112152,-0.08872830852736521,-0.25952000902109307,-0.40442280321602814,-0.5267881862424609,-0.6278839412559872,-0.7078632455831301,-0.7661898742266167,-0.8018813701977158,-0.8139562570688441,-0.8018913233379154,-0.7661905826392814,-0.707863089418866,-0.6278840149742188,-0.5267821509925787,-0.40442315287214875,-0.25951996727114324,-0.08872684277106771,0.11650567939231574,0.3999997723881305]},{\"mode\":\"lines\",\"name\":\"T = 3500.0\",\"type\":\"scatter\",\"x\":[-0.9999999999999998,-0.8999999999999998,-0.7999999999999998,-0.6999999999999998,-0.5999999999999999,-0.4999999999999999,-0.3999999999999999,-0.29999999999999993,-0.19999999999999996,-0.09999999999999998,0.0,0.09999999999999987,0.19999999999999996,0.30000000000000004,0.3999999999999999,0.4999999999999998,0.5999999999999999,0.7,0.7999999999999998,0.8999999999999997,0.9999999999999998],\"y\":[0.3999971088458619,0.08247721861787585,-0.14399282185189827,-0.3306350187168216,-0.4875587030133806,-0.6188758723256055,-0.7263535101901769,-0.8105539614595494,-0.8713431352184003,-0.9082080161139156,-0.9205809997146376,-0.9082008196256467,-0.8713435136822211,-0.8105539591738706,-0.7263534685199987,-0.618873057471892,-0.4875534866525339,-0.330634307674502,-0.14399153861162342,0.08248155559949177,0.39999944383119296]},{\"mode\":\"lines\",\"name\":\"T = 4000.0\",\"type\":\"scatter\",\"x\":[-0.9999999999999998,-0.8999999999999998,-0.7999999999999998,-0.6999999999999998,-0.5999999999999999,-0.4999999999999999,-0.3999999999999999,-0.29999999999999993,-0.19999999999999996,-0.09999999999999998,0.0,0.09999999999999987,0.19999999999999996,0.30000000000000004,0.3999999999999999,0.4999999999999998,0.5999999999999999,0.7,0.7999999999999998,0.8999999999999997,0.9999999999999998],\"y\":[0.39999968780852874,0.048418423480279804,-0.1993699878666269,-0.4020226617244915,-0.5712138271085765,-0.7118241342879588,-0.826119248195106,-0.9150505684778996,-0.978833391167071,-1.0172828223243837,-1.0301617403413899,-1.017193436477078,-0.9788328317489212,-0.9150505817298842,-0.8261192962011451,-0.7118236231056769,-0.5712137201489731,-0.4020231337565149,-0.1993712957590427,0.04842431104025691,0.39999941874664163]},{\"mode\":\"lines\",\"name\":\"T = 4500.0\",\"type\":\"scatter\",\"x\":[-0.9999999999999998,-0.8999999999999998,-0.7999999999999998,-0.6999999999999998,-0.5999999999999999,-0.4999999999999999,-0.3999999999999999,-0.29999999999999993,-0.19999999999999996,-0.09999999999999998,0.0,0.09999999999999987,0.19999999999999996,0.30000000000000004,0.3999999999999999,0.4999999999999998,0.5999999999999999,0.7,0.7999999999999998,0.8999999999999997,0.9999999999999998],\"y\":[0.399997451627918,0.014343978349239839,-0.254840282953381,-0.4736308095909152,-0.6552800887798176,-0.8054404081100877,-0.9268672802076121,-1.0208798033861075,-1.0880027448308718,-1.1283298822985919,-1.1417905281748923,-1.1283255411286477,-1.0879995045149284,-1.02087980247604,-0.9268672889653904,-0.8054403953953669,-0.6552746021682201,-0.4736306731678966,-0.25484170807004397,0.014348568264872796,0.39999813564614256]},{\"mode\":\"lines\",\"name\":\"T = 5000.0\",\"type\":\"scatter\",\"x\":[-0.9999999999999998,-0.8999999999999998,-0.7999999999999998,-0.6999999999999998,-0.5999999999999999,-0.4999999999999999,-0.3999999999999999,-0.29999999999999993,-0.19999999999999996,-0.09999999999999998,0.0,0.09999999999999987,0.19999999999999996,0.30000000000000004,0.3999999999999999,0.4999999999999998,0.5999999999999999,0.7,0.7999999999999998,0.8999999999999997,0.9999999999999998],\"y\":[0.39999844823869113,-0.019747469488757108,-0.31038808487965647,-0.5454173829299965,-0.7396741520643624,-0.8995792444593863,-1.0283689305143158,-1.1277110628248102,-1.198406985540397,-1.240774126409202,-1.254894047618749,-1.2407737646509212,-1.198406901933397,-1.1277110627673634,-1.028368929036894,-0.8995791004913624,-0.739673746360853,-0.5454172591890547,-0.3103886573835003,-0.019749697037678537,0.39999696120092326]},{\"mode\":\"lines\",\"name\":\"T = 5500.0\",\"type\":\"scatter\",\"x\":[-0.9999999999999998,-0.8999999999999998,-0.7999999999999998,-0.6999999999999998,-0.5999999999999999,-0.4999999999999999,-0.3999999999999999,-0.29999999999999993,-0.19999999999999996,-0.09999999999999998,0.0,0.09999999999999987,0.19999999999999996,0.30000000000000004,0.3999999999999999,0.4999999999999998,0.5999999999999999,0.7,0.7999999999999998,0.8999999999999997,0.9999999999999998],\"y\":[0.39999771926108385,-0.05385744859840513,-0.36599727102415025,-0.6173481166260018,-0.8243305574766371,-0.9941310984930515,-1.130457487432087,-1.2353105945861493,-1.3096004941330612,-1.3542695718916236,-1.3690937795335794,-1.354268509033232,-1.3097447097253272,-1.2353105942766622,-1.1304574972815102,-0.9941310954913105,-0.824330609337647,-0.6173479256821554,-0.36599417353159497,-0.05385729522375232,0.3999990533383027]},{\"mode\":\"lines\",\"name\":\"T = 6000.0\",\"type\":\"scatter\",\"x\":[-0.9999999999999998,-0.8999999999999998,-0.7999999999999998,-0.6999999999999998,-0.5999999999999999,-0.4999999999999999,-0.3999999999999999,-0.29999999999999993,-0.19999999999999996,-0.09999999999999998,0.0,0.09999999999999987,0.19999999999999996,0.30000000000000004,0.3999999999999999,0.4999999999999998,0.5999999999999999,0.7,0.7999999999999998,0.8999999999999997,0.9999999999999998],\"y\":[0.39999671626792704,-0.08797550033746154,-0.42165710855867494,-0.6893970987163623,-0.9091998365731729,-1.089013600963422,-1.2330100714034962,-1.3435100681970886,-1.4218033287572942,-1.4685709889087033,-1.4841301356887495,-1.4685710331968982,-1.4218033413198752,-1.3435100681881227,-1.2330100716440822,-1.0890135922703577,-0.9091998195449673,-0.6893970676345853,-0.4216571775197382,-0.08797627402506653,0.3999988907868913]},{\"mode\":\"lines\",\"name\":\"T = 6500.0\",\"type\":\"scatter\",\"x\":[-0.9999999999999998,-0.8999999999999998,-0.7999999999999998,-0.6999999999999998,-0.5999999999999999,-0.4999999999999999,-0.3999999999999999,-0.29999999999999993,-0.19999999999999996,-0.09999999999999998,0.0,0.09999999999999987,0.19999999999999996,0.30000000000000004,0.3999999999999999,0.4999999999999998,0.5999999999999999,0.7,0.7999999999999998,0.8999999999999997,0.9999999999999998],\"y\":[0.3999990321625276,-0.12210551045111517,-0.47736070653110835,-0.7615446290432706,-0.9942431737981328,-1.1841640126195188,-1.3359347457647532,-1.4521859159928914,-1.5344281298788942,-1.5835025760198655,-1.5998192766750772,-1.5835025752028615,-1.5344292240418305,-1.4521859159567978,-1.3359347458609756,-1.1841640100144153,-0.9942431772942713,-0.7615443814281124,-0.4773594211450266,-0.12211012842745672,0.3999994422791197]},{\"mode\":\"lines\",\"name\":\"T = 7000.0\",\"type\":\"scatter\",\"x\":[-0.9999999999999998,-0.8999999999999998,-0.7999999999999998,-0.6999999999999998,-0.5999999999999999,-0.4999999999999999,-0.3999999999999999,-0.29999999999999993,-0.19999999999999996,-0.09999999999999998,0.0,0.09999999999999987,0.19999999999999996,0.30000000000000004,0.3999999999999999,0.4999999999999998,0.5999999999999999,0.7,0.7999999999999998,0.8999999999999997,0.9999999999999998],\"y\":[0.3999991256099183,-0.15624559905072727,-0.5330996043927587,-0.8337732764526482,-1.079430470000994,-1.2795339395135177,-1.439161778060529,-1.5612457318568822,-1.6475091703688303,-1.6989360458081952,-1.7160274089365477,-1.6989360456333134,-1.64750917286095,-1.5612457318357411,-1.4391617781867845,-1.2795339337251233,-1.0794305008036886,-0.8337733095372616,-0.5330992042521935,-0.15624745943467272,0.3999995305806826]},{\"mode\":\"lines\",\"name\":\"T = 7500.0\",\"type\":\"scatter\",\"x\":[-0.9999999999999998,-0.8999999999999998,-0.7999999999999998,-0.6999999999999998,-0.5999999999999999,-0.4999999999999999,-0.3999999999999999,-0.29999999999999993,-0.19999999999999996,-0.09999999999999998,0.0,0.09999999999999987,0.19999999999999996,0.30000000000000004,0.3999999999999999,0.4999999999999998,0.5999999999999999,0.7,0.7999999999999998,0.8999999999999997,0.9999999999999998],\"y\":[0.39999517074731195,-0.19039621439529975,-0.5888690944317106,-0.9060705769101017,-1.164737896188068,-1.3750857262297502,-1.5426374710394137,-1.6706192095744061,-1.760957946529508,-1.8147756242774578,-1.8326548642255587,-1.814775624267106,-1.760957944063278,-1.6706192093917354,-1.5426374711610198,-1.3750857247931332,-1.1647378469819754,-0.9060705531582592,-0.5888693462337067,-0.19039089734687675,0.39999872020397387]},{\"mode\":\"lines\",\"name\":\"T = 8000.0\",\"type\":\"scatter\",\"x\":[-0.9999999999999998,-0.8999999999999998,-0.7999999999999998,-0.6999999999999998,-0.5999999999999999,-0.4999999999999999,-0.3999999999999999,-0.29999999999999993,-0.19999999999999996,-0.09999999999999998,0.0,0.09999999999999987,0.19999999999999996,0.30000000000000004,0.3999999999999999,0.4999999999999998,0.5999999999999999,0.7,0.7999999999999998,0.8999999999999997,0.9999999999999998],\"y\":[0.3999991944412817,-0.2245482404281765,-0.6446649359935217,-0.9784258771757014,-1.2501464511048468,-1.4707896569766303,-1.6463199114424156,-1.780252007006653,-1.8747063368164145,-1.93094831929827,-1.9496258864735307,-1.930948319217052,-1.8747102164249754,-1.780252006987852,-1.6463199113434013,-1.4707896579002708,-1.2501464307967978,-0.9784258586625184,-0.644664923249117,-0.22454965469850252,0.3999995267556702]},{\"mode\":\"lines\",\"name\":\"T = 8500.0\",\"type\":\"scatter\",\"x\":[-0.9999999999999998,-0.8999999999999998,-0.7999999999999998,-0.6999999999999998,-0.5999999999999999,-0.4999999999999999,-0.3999999999999999,-0.29999999999999993,-0.19999999999999996,-0.09999999999999998,0.0,0.09999999999999987,0.19999999999999996,0.30000000000000004,0.3999999999999999,0.4999999999999998,0.5999999999999999,0.7,0.7999999999999998,0.8999999999999997,0.9999999999999998],\"y\":[0.3999993832349252,-0.2587087816099102,-0.7004831080463889,-1.0508308428312605,-1.3356408782059228,-1.5666220396709742,-1.750175964376753,-1.8901015137698842,-1.9887151150883178,-2.047397571148926,-2.0668818768625714,-2.047397571151665,-1.988715115100913,-1.890101513803278,-1.750175964551636,-1.56662203898224,-1.3356408530502415,-1.0508308189748137,-0.7004828905823354,-0.25870725618185736,0.3999968165034836]},{\"mode\":\"lines\",\"name\":\"T = 9000.0\",\"type\":\"scatter\",\"x\":[-0.9999999999999998,-0.8999999999999998,-0.7999999999999998,-0.6999999999999998,-0.5999999999999999,-0.4999999999999999,-0.3999999999999999,-0.29999999999999993,-0.19999999999999996,-0.09999999999999998,0.0,0.09999999999999987,0.19999999999999996,0.30000000000000004,0.3999999999999999,0.4999999999999998,0.5999999999999999,0.7,0.7999999999999998,0.8999999999999997,0.9999999999999998],\"y\":[0.3999973464481938,-0.2928724884848155,-0.7563203278900377,-1.1232784813173282,-1.4212087373254763,-1.662563774433259,-1.8541791255083526,-2.000133881311063,-2.102932469033708,-2.16407888772372,-2.18437680470844,-2.1640788877261046,-2.10293246904384,-2.000133881295989,-1.854179125619145,-1.6625637744175605,-1.421208779455701,-1.1232783118576948,-0.7563199181182901,-0.2928732305442436,0.39999942207324507]},{\"mode\":\"lines\",\"name\":\"T = 9500.0\",\"type\":\"scatter\",\"x\":[-0.9999999999999998,-0.8999999999999998,-0.7999999999999998,-0.6999999999999998,-0.5999999999999999,-0.4999999999999999,-0.3999999999999999,-0.29999999999999993,-0.19999999999999996,-0.09999999999999998,0.0,0.09999999999999987,0.19999999999999996,0.30000000000000004,0.3999999999999999,0.4999999999999998,0.5999999999999999,0.7,0.7999999999999998,0.8999999999999997,0.9999999999999998],\"y\":[0.3999971142154411,-0.32704187329179746,-0.8121739273605463,-1.1957631126463997,-1.5068399983103895,-1.7585993186704745,-1.958307962166086,-2.1103219011216514,-2.2173301441359503,-2.280956797997463,-2.3020740154790795,-2.2809567980208825,-2.217330144156613,-2.110321901137758,-1.9583079621604524,-1.7585993187205262,-1.5068399979448865,-1.195763031363323,-0.8121743004925858,-0.32703953542079034,0.3999980349779305]},{\"mode\":\"lines\",\"name\":\"T = 10000.0\",\"type\":\"scatter\",\"x\":[-0.9999999999999998,-0.8999999999999998,-0.7999999999999998,-0.6999999999999998,-0.5999999999999999,-0.4999999999999999,-0.3999999999999999,-0.29999999999999993,-0.19999999999999996,-0.09999999999999998,0.0,0.09999999999999987,0.19999999999999996,0.30000000000000004,0.3999999999999999,0.4999999999999998,0.5999999999999999,0.7,0.7999999999999998,0.8999999999999997,0.9999999999999998],\"y\":[0.3999975796397958,-0.361213003802001,-0.8680436353883515,-1.268279896468997,-1.5925261310218923,-1.8547159039794348,-2.06254497004537,-2.220643466310169,-2.3318821404850145,-2.3980026804543737,-2.419354483587476,-2.3980026823481797,-2.3318821406276533,-2.2206434663408223,-2.0625449700338856,-1.8547159038521313,-1.5925261310208008,-1.2682798850864256,-0.8680434693030776,-0.3612115955998126,0.39999922151575684]}],                        {\"legend\":{\"title\":{\"text\":\"Temperature\"}},\"template\":{\"data\":{\"bar\":[{\"error_x\":{\"color\":\"rgb(36,36,36)\"},\"error_y\":{\"color\":\"rgb(36,36,36)\"},\"marker\":{\"line\":{\"color\":\"rgb(234,234,242)\",\"width\":0.5},\"pattern\":{\"fillmode\":\"overlay\",\"size\":10,\"solidity\":0.2}},\"type\":\"bar\"}],\"barpolar\":[{\"marker\":{\"line\":{\"color\":\"rgb(234,234,242)\",\"width\":0.5},\"pattern\":{\"fillmode\":\"overlay\",\"size\":10,\"solidity\":0.2}},\"type\":\"barpolar\"}],\"carpet\":[{\"aaxis\":{\"endlinecolor\":\"rgb(36,36,36)\",\"gridcolor\":\"white\",\"linecolor\":\"white\",\"minorgridcolor\":\"white\",\"startlinecolor\":\"rgb(36,36,36)\"},\"baxis\":{\"endlinecolor\":\"rgb(36,36,36)\",\"gridcolor\":\"white\",\"linecolor\":\"white\",\"minorgridcolor\":\"white\",\"startlinecolor\":\"rgb(36,36,36)\"},\"type\":\"carpet\"}],\"choropleth\":[{\"colorbar\":{\"outlinewidth\":0,\"tickcolor\":\"rgb(36,36,36)\",\"ticklen\":8,\"ticks\":\"outside\",\"tickwidth\":2},\"type\":\"choropleth\"}],\"contour\":[{\"colorbar\":{\"outlinewidth\":0,\"tickcolor\":\"rgb(36,36,36)\",\"ticklen\":8,\"ticks\":\"outside\",\"tickwidth\":2},\"colorscale\":[[0.0,\"rgb(2,4,25)\"],[0.06274509803921569,\"rgb(24,15,41)\"],[0.12549019607843137,\"rgb(47,23,57)\"],[0.18823529411764706,\"rgb(71,28,72)\"],[0.25098039215686274,\"rgb(97,30,82)\"],[0.3137254901960784,\"rgb(123,30,89)\"],[0.3764705882352941,\"rgb(150,27,91)\"],[0.4392156862745098,\"rgb(177,22,88)\"],[0.5019607843137255,\"rgb(203,26,79)\"],[0.5647058823529412,\"rgb(223,47,67)\"],[0.6274509803921569,\"rgb(236,76,61)\"],[0.6901960784313725,\"rgb(242,107,73)\"],[0.7529411764705882,\"rgb(244,135,95)\"],[0.8156862745098039,\"rgb(245,162,122)\"],[0.8784313725490196,\"rgb(246,188,153)\"],[0.9411764705882353,\"rgb(247,212,187)\"],[1.0,\"rgb(250,234,220)\"]],\"type\":\"contour\"}],\"contourcarpet\":[{\"colorbar\":{\"outlinewidth\":0,\"tickcolor\":\"rgb(36,36,36)\",\"ticklen\":8,\"ticks\":\"outside\",\"tickwidth\":2},\"type\":\"contourcarpet\"}],\"heatmap\":[{\"colorbar\":{\"outlinewidth\":0,\"tickcolor\":\"rgb(36,36,36)\",\"ticklen\":8,\"ticks\":\"outside\",\"tickwidth\":2},\"colorscale\":[[0.0,\"rgb(2,4,25)\"],[0.06274509803921569,\"rgb(24,15,41)\"],[0.12549019607843137,\"rgb(47,23,57)\"],[0.18823529411764706,\"rgb(71,28,72)\"],[0.25098039215686274,\"rgb(97,30,82)\"],[0.3137254901960784,\"rgb(123,30,89)\"],[0.3764705882352941,\"rgb(150,27,91)\"],[0.4392156862745098,\"rgb(177,22,88)\"],[0.5019607843137255,\"rgb(203,26,79)\"],[0.5647058823529412,\"rgb(223,47,67)\"],[0.6274509803921569,\"rgb(236,76,61)\"],[0.6901960784313725,\"rgb(242,107,73)\"],[0.7529411764705882,\"rgb(244,135,95)\"],[0.8156862745098039,\"rgb(245,162,122)\"],[0.8784313725490196,\"rgb(246,188,153)\"],[0.9411764705882353,\"rgb(247,212,187)\"],[1.0,\"rgb(250,234,220)\"]],\"type\":\"heatmap\"}],\"heatmapgl\":[{\"colorbar\":{\"outlinewidth\":0,\"tickcolor\":\"rgb(36,36,36)\",\"ticklen\":8,\"ticks\":\"outside\",\"tickwidth\":2},\"colorscale\":[[0.0,\"rgb(2,4,25)\"],[0.06274509803921569,\"rgb(24,15,41)\"],[0.12549019607843137,\"rgb(47,23,57)\"],[0.18823529411764706,\"rgb(71,28,72)\"],[0.25098039215686274,\"rgb(97,30,82)\"],[0.3137254901960784,\"rgb(123,30,89)\"],[0.3764705882352941,\"rgb(150,27,91)\"],[0.4392156862745098,\"rgb(177,22,88)\"],[0.5019607843137255,\"rgb(203,26,79)\"],[0.5647058823529412,\"rgb(223,47,67)\"],[0.6274509803921569,\"rgb(236,76,61)\"],[0.6901960784313725,\"rgb(242,107,73)\"],[0.7529411764705882,\"rgb(244,135,95)\"],[0.8156862745098039,\"rgb(245,162,122)\"],[0.8784313725490196,\"rgb(246,188,153)\"],[0.9411764705882353,\"rgb(247,212,187)\"],[1.0,\"rgb(250,234,220)\"]],\"type\":\"heatmapgl\"}],\"histogram\":[{\"marker\":{\"pattern\":{\"fillmode\":\"overlay\",\"size\":10,\"solidity\":0.2}},\"type\":\"histogram\"}],\"histogram2d\":[{\"colorbar\":{\"outlinewidth\":0,\"tickcolor\":\"rgb(36,36,36)\",\"ticklen\":8,\"ticks\":\"outside\",\"tickwidth\":2},\"colorscale\":[[0.0,\"rgb(2,4,25)\"],[0.06274509803921569,\"rgb(24,15,41)\"],[0.12549019607843137,\"rgb(47,23,57)\"],[0.18823529411764706,\"rgb(71,28,72)\"],[0.25098039215686274,\"rgb(97,30,82)\"],[0.3137254901960784,\"rgb(123,30,89)\"],[0.3764705882352941,\"rgb(150,27,91)\"],[0.4392156862745098,\"rgb(177,22,88)\"],[0.5019607843137255,\"rgb(203,26,79)\"],[0.5647058823529412,\"rgb(223,47,67)\"],[0.6274509803921569,\"rgb(236,76,61)\"],[0.6901960784313725,\"rgb(242,107,73)\"],[0.7529411764705882,\"rgb(244,135,95)\"],[0.8156862745098039,\"rgb(245,162,122)\"],[0.8784313725490196,\"rgb(246,188,153)\"],[0.9411764705882353,\"rgb(247,212,187)\"],[1.0,\"rgb(250,234,220)\"]],\"type\":\"histogram2d\"}],\"histogram2dcontour\":[{\"colorbar\":{\"outlinewidth\":0,\"tickcolor\":\"rgb(36,36,36)\",\"ticklen\":8,\"ticks\":\"outside\",\"tickwidth\":2},\"colorscale\":[[0.0,\"rgb(2,4,25)\"],[0.06274509803921569,\"rgb(24,15,41)\"],[0.12549019607843137,\"rgb(47,23,57)\"],[0.18823529411764706,\"rgb(71,28,72)\"],[0.25098039215686274,\"rgb(97,30,82)\"],[0.3137254901960784,\"rgb(123,30,89)\"],[0.3764705882352941,\"rgb(150,27,91)\"],[0.4392156862745098,\"rgb(177,22,88)\"],[0.5019607843137255,\"rgb(203,26,79)\"],[0.5647058823529412,\"rgb(223,47,67)\"],[0.6274509803921569,\"rgb(236,76,61)\"],[0.6901960784313725,\"rgb(242,107,73)\"],[0.7529411764705882,\"rgb(244,135,95)\"],[0.8156862745098039,\"rgb(245,162,122)\"],[0.8784313725490196,\"rgb(246,188,153)\"],[0.9411764705882353,\"rgb(247,212,187)\"],[1.0,\"rgb(250,234,220)\"]],\"type\":\"histogram2dcontour\"}],\"mesh3d\":[{\"colorbar\":{\"outlinewidth\":0,\"tickcolor\":\"rgb(36,36,36)\",\"ticklen\":8,\"ticks\":\"outside\",\"tickwidth\":2},\"type\":\"mesh3d\"}],\"parcoords\":[{\"line\":{\"colorbar\":{\"outlinewidth\":0,\"tickcolor\":\"rgb(36,36,36)\",\"ticklen\":8,\"ticks\":\"outside\",\"tickwidth\":2}},\"type\":\"parcoords\"}],\"pie\":[{\"automargin\":true,\"type\":\"pie\"}],\"scatter\":[{\"marker\":{\"colorbar\":{\"outlinewidth\":0,\"tickcolor\":\"rgb(36,36,36)\",\"ticklen\":8,\"ticks\":\"outside\",\"tickwidth\":2}},\"type\":\"scatter\"}],\"scatter3d\":[{\"line\":{\"colorbar\":{\"outlinewidth\":0,\"tickcolor\":\"rgb(36,36,36)\",\"ticklen\":8,\"ticks\":\"outside\",\"tickwidth\":2}},\"marker\":{\"colorbar\":{\"outlinewidth\":0,\"tickcolor\":\"rgb(36,36,36)\",\"ticklen\":8,\"ticks\":\"outside\",\"tickwidth\":2}},\"type\":\"scatter3d\"}],\"scattercarpet\":[{\"marker\":{\"colorbar\":{\"outlinewidth\":0,\"tickcolor\":\"rgb(36,36,36)\",\"ticklen\":8,\"ticks\":\"outside\",\"tickwidth\":2}},\"type\":\"scattercarpet\"}],\"scattergeo\":[{\"marker\":{\"colorbar\":{\"outlinewidth\":0,\"tickcolor\":\"rgb(36,36,36)\",\"ticklen\":8,\"ticks\":\"outside\",\"tickwidth\":2}},\"type\":\"scattergeo\"}],\"scattergl\":[{\"marker\":{\"colorbar\":{\"outlinewidth\":0,\"tickcolor\":\"rgb(36,36,36)\",\"ticklen\":8,\"ticks\":\"outside\",\"tickwidth\":2}},\"type\":\"scattergl\"}],\"scattermapbox\":[{\"marker\":{\"colorbar\":{\"outlinewidth\":0,\"tickcolor\":\"rgb(36,36,36)\",\"ticklen\":8,\"ticks\":\"outside\",\"tickwidth\":2}},\"type\":\"scattermapbox\"}],\"scatterpolar\":[{\"marker\":{\"colorbar\":{\"outlinewidth\":0,\"tickcolor\":\"rgb(36,36,36)\",\"ticklen\":8,\"ticks\":\"outside\",\"tickwidth\":2}},\"type\":\"scatterpolar\"}],\"scatterpolargl\":[{\"marker\":{\"colorbar\":{\"outlinewidth\":0,\"tickcolor\":\"rgb(36,36,36)\",\"ticklen\":8,\"ticks\":\"outside\",\"tickwidth\":2}},\"type\":\"scatterpolargl\"}],\"scatterternary\":[{\"marker\":{\"colorbar\":{\"outlinewidth\":0,\"tickcolor\":\"rgb(36,36,36)\",\"ticklen\":8,\"ticks\":\"outside\",\"tickwidth\":2}},\"type\":\"scatterternary\"}],\"surface\":[{\"colorbar\":{\"outlinewidth\":0,\"tickcolor\":\"rgb(36,36,36)\",\"ticklen\":8,\"ticks\":\"outside\",\"tickwidth\":2},\"colorscale\":[[0.0,\"rgb(2,4,25)\"],[0.06274509803921569,\"rgb(24,15,41)\"],[0.12549019607843137,\"rgb(47,23,57)\"],[0.18823529411764706,\"rgb(71,28,72)\"],[0.25098039215686274,\"rgb(97,30,82)\"],[0.3137254901960784,\"rgb(123,30,89)\"],[0.3764705882352941,\"rgb(150,27,91)\"],[0.4392156862745098,\"rgb(177,22,88)\"],[0.5019607843137255,\"rgb(203,26,79)\"],[0.5647058823529412,\"rgb(223,47,67)\"],[0.6274509803921569,\"rgb(236,76,61)\"],[0.6901960784313725,\"rgb(242,107,73)\"],[0.7529411764705882,\"rgb(244,135,95)\"],[0.8156862745098039,\"rgb(245,162,122)\"],[0.8784313725490196,\"rgb(246,188,153)\"],[0.9411764705882353,\"rgb(247,212,187)\"],[1.0,\"rgb(250,234,220)\"]],\"type\":\"surface\"}],\"table\":[{\"cells\":{\"fill\":{\"color\":\"rgb(231,231,240)\"},\"line\":{\"color\":\"white\"}},\"header\":{\"fill\":{\"color\":\"rgb(183,183,191)\"},\"line\":{\"color\":\"white\"}},\"type\":\"table\"}]},\"layout\":{\"annotationdefaults\":{\"arrowcolor\":\"rgb(67,103,167)\"},\"autotypenumbers\":\"strict\",\"coloraxis\":{\"colorbar\":{\"outlinewidth\":0,\"tickcolor\":\"rgb(36,36,36)\",\"ticklen\":8,\"ticks\":\"outside\",\"tickwidth\":2}},\"colorscale\":{\"sequential\":[[0.0,\"rgb(2,4,25)\"],[0.06274509803921569,\"rgb(24,15,41)\"],[0.12549019607843137,\"rgb(47,23,57)\"],[0.18823529411764706,\"rgb(71,28,72)\"],[0.25098039215686274,\"rgb(97,30,82)\"],[0.3137254901960784,\"rgb(123,30,89)\"],[0.3764705882352941,\"rgb(150,27,91)\"],[0.4392156862745098,\"rgb(177,22,88)\"],[0.5019607843137255,\"rgb(203,26,79)\"],[0.5647058823529412,\"rgb(223,47,67)\"],[0.6274509803921569,\"rgb(236,76,61)\"],[0.6901960784313725,\"rgb(242,107,73)\"],[0.7529411764705882,\"rgb(244,135,95)\"],[0.8156862745098039,\"rgb(245,162,122)\"],[0.8784313725490196,\"rgb(246,188,153)\"],[0.9411764705882353,\"rgb(247,212,187)\"],[1.0,\"rgb(250,234,220)\"]],\"sequentialminus\":[[0.0,\"rgb(2,4,25)\"],[0.06274509803921569,\"rgb(24,15,41)\"],[0.12549019607843137,\"rgb(47,23,57)\"],[0.18823529411764706,\"rgb(71,28,72)\"],[0.25098039215686274,\"rgb(97,30,82)\"],[0.3137254901960784,\"rgb(123,30,89)\"],[0.3764705882352941,\"rgb(150,27,91)\"],[0.4392156862745098,\"rgb(177,22,88)\"],[0.5019607843137255,\"rgb(203,26,79)\"],[0.5647058823529412,\"rgb(223,47,67)\"],[0.6274509803921569,\"rgb(236,76,61)\"],[0.6901960784313725,\"rgb(242,107,73)\"],[0.7529411764705882,\"rgb(244,135,95)\"],[0.8156862745098039,\"rgb(245,162,122)\"],[0.8784313725490196,\"rgb(246,188,153)\"],[0.9411764705882353,\"rgb(247,212,187)\"],[1.0,\"rgb(250,234,220)\"]]},\"colorway\":[\"rgb(76,114,176)\",\"rgb(221,132,82)\",\"rgb(85,168,104)\",\"rgb(196,78,82)\",\"rgb(129,114,179)\",\"rgb(147,120,96)\",\"rgb(218,139,195)\",\"rgb(140,140,140)\",\"rgb(204,185,116)\",\"rgb(100,181,205)\"],\"font\":{\"color\":\"rgb(36,36,36)\"},\"geo\":{\"bgcolor\":\"white\",\"lakecolor\":\"white\",\"landcolor\":\"rgb(234,234,242)\",\"showlakes\":true,\"showland\":true,\"subunitcolor\":\"white\"},\"hoverlabel\":{\"align\":\"left\"},\"hovermode\":\"closest\",\"paper_bgcolor\":\"white\",\"plot_bgcolor\":\"rgb(234,234,242)\",\"polar\":{\"angularaxis\":{\"gridcolor\":\"white\",\"linecolor\":\"white\",\"showgrid\":true,\"ticks\":\"\"},\"bgcolor\":\"rgb(234,234,242)\",\"radialaxis\":{\"gridcolor\":\"white\",\"linecolor\":\"white\",\"showgrid\":true,\"ticks\":\"\"}},\"scene\":{\"xaxis\":{\"backgroundcolor\":\"rgb(234,234,242)\",\"gridcolor\":\"white\",\"gridwidth\":2,\"linecolor\":\"white\",\"showbackground\":true,\"showgrid\":true,\"ticks\":\"\",\"zerolinecolor\":\"white\"},\"yaxis\":{\"backgroundcolor\":\"rgb(234,234,242)\",\"gridcolor\":\"white\",\"gridwidth\":2,\"linecolor\":\"white\",\"showbackground\":true,\"showgrid\":true,\"ticks\":\"\",\"zerolinecolor\":\"white\"},\"zaxis\":{\"backgroundcolor\":\"rgb(234,234,242)\",\"gridcolor\":\"white\",\"gridwidth\":2,\"linecolor\":\"white\",\"showbackground\":true,\"showgrid\":true,\"ticks\":\"\",\"zerolinecolor\":\"white\"}},\"shapedefaults\":{\"fillcolor\":\"rgb(67,103,167)\",\"line\":{\"width\":0},\"opacity\":0.5},\"ternary\":{\"aaxis\":{\"gridcolor\":\"white\",\"linecolor\":\"white\",\"showgrid\":true,\"ticks\":\"\"},\"baxis\":{\"gridcolor\":\"white\",\"linecolor\":\"white\",\"showgrid\":true,\"ticks\":\"\"},\"bgcolor\":\"rgb(234,234,242)\",\"caxis\":{\"gridcolor\":\"white\",\"linecolor\":\"white\",\"showgrid\":true,\"ticks\":\"\"}},\"xaxis\":{\"automargin\":true,\"gridcolor\":\"white\",\"linecolor\":\"white\",\"showgrid\":true,\"ticks\":\"\",\"title\":{\"standoff\":15},\"zerolinecolor\":\"white\"},\"yaxis\":{\"automargin\":true,\"gridcolor\":\"white\",\"linecolor\":\"white\",\"showgrid\":true,\"ticks\":\"\",\"title\":{\"standoff\":15},\"zerolinecolor\":\"white\"}}},\"title\":{\"text\":\"F vs 1-point Corr\"},\"xaxis\":{\"title\":{\"text\":\"1-point Corr\"}},\"yaxis\":{\"title\":{\"text\":\"F\"}}},                        {\"responsive\": true}                    ).then(function(){\n",
       "                            \n",
       "var gd = document.getElementById('76d3f852-ef5d-4791-a7e4-44d3d0265d9b');\n",
       "var x = new MutationObserver(function (mutations, observer) {{\n",
       "        var display = window.getComputedStyle(gd).display;\n",
       "        if (!display || display === 'none') {{\n",
       "            console.log([gd, 'removed!']);\n",
       "            Plotly.purge(gd);\n",
       "            observer.disconnect();\n",
       "        }}\n",
       "}});\n",
       "\n",
       "// Listen for the removal of the full notebook cells\n",
       "var notebookContainer = gd.closest('#notebook-container');\n",
       "if (notebookContainer) {{\n",
       "    x.observe(notebookContainer, {childList: true});\n",
       "}}\n",
       "\n",
       "// Listen for the clearing of the current output cell\n",
       "var outputEl = gd.closest('.output');\n",
       "if (outputEl) {{\n",
       "    x.observe(outputEl, {childList: true});\n",
       "}}\n",
       "\n",
       "                        })                };                });            </script>        </div>"
      ]
     },
     "metadata": {},
     "output_type": "display_data"
    }
   ],
   "source": [
    "fig = go.Figure()\n",
    "\n",
    "for T in results_basinhopping['T'].unique():\n",
    "    fig.add_trace(go.Scatter(x = results_basinhopping[results_basinhopping['T'] == T]['1-point_corr'],\n",
    "                             y = results_basinhopping[results_basinhopping['T'] == T]['F'],\n",
    "                             mode='lines',\n",
    "                             name=f'T = {T}',\n",
    "                            )\n",
    "                 )\n",
    "\n",
    "fig.update_layout(\n",
    "    title=\"F vs 1-point Corr\",\n",
    "    xaxis_title=\"1-point Corr\",\n",
    "    yaxis_title=\"F\",\n",
    "    legend_title=\"Temperature\",\n",
    "    template='seaborn'\n",
    ")\n",
    "#fig.update_traces(texttemplate='%{text:.2s}', textposition='top center')\n",
    "fig.show()"
   ]
  },
  {
   "cell_type": "markdown",
   "metadata": {},
   "source": [
    "## Plot Pair Correlation\n",
    "\n"
   ]
  },
  {
   "cell_type": "code",
   "execution_count": null,
   "metadata": {
    "ExecuteTime": {
     "start_time": "2021-09-14T01:08:44.001Z"
    }
   },
   "outputs": [],
   "source": [
    "fig = go.Figure()\n",
    "\n",
    "fig.add_trace(go.Scatter(x = results_basinhopping[results_basinhopping['1-point_corr'] == 0.0]['T'],\n",
    "                         y = results_basinhopping[results_basinhopping['1-point_corr'] == 0.0]['corrs'].str[2],\n",
    "                         mode='markers+lines',\n",
    "                        )\n",
    "             )\n",
    "\n",
    "fig.update_layout(\n",
    "    title=\"T vs 2-point Corr\",\n",
    "    xaxis_title=\"T\",\n",
    "    yaxis_title=\"2-point Corr\",\n",
    "    template='seaborn'\n",
    ")\n",
    "#fig.update_traces(texttemplate='%{text:.2s}', textposition='top center')\n",
    "fig.show()"
   ]
  },
  {
   "cell_type": "code",
   "execution_count": null,
   "metadata": {},
   "outputs": [],
   "source": []
  }
 ],
 "metadata": {
  "kernelspec": {
   "display_name": "Python 3",
   "language": "python",
   "name": "python3"
  },
  "language_info": {
   "codemirror_mode": {
    "name": "ipython",
    "version": 3
   },
   "file_extension": ".py",
   "mimetype": "text/x-python",
   "name": "python",
   "nbconvert_exporter": "python",
   "pygments_lexer": "ipython3",
   "version": "3.8.10"
  },
  "toc": {
   "base_numbering": 1,
   "nav_menu": {},
   "number_sections": true,
   "sideBar": true,
   "skip_h1_title": false,
   "title_cell": "Table of Contents",
   "title_sidebar": "Contents",
   "toc_cell": false,
   "toc_position": {},
   "toc_section_display": true,
   "toc_window_display": false
  },
  "varInspector": {
   "cols": {
    "lenName": 16,
    "lenType": 16,
    "lenVar": 40
   },
   "kernels_config": {
    "python": {
     "delete_cmd_postfix": "",
     "delete_cmd_prefix": "del ",
     "library": "var_list.py",
     "varRefreshCmd": "print(var_dic_list())"
    },
    "r": {
     "delete_cmd_postfix": ") ",
     "delete_cmd_prefix": "rm(",
     "library": "var_list.r",
     "varRefreshCmd": "cat(var_dic_list()) "
    }
   },
   "types_to_exclude": [
    "module",
    "function",
    "builtin_function_or_method",
    "instance",
    "_Feature"
   ],
   "window_display": false
  }
 },
 "nbformat": 4,
 "nbformat_minor": 4
}
