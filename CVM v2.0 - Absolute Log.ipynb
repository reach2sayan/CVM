{
 "cells": [
  {
   "cell_type": "markdown",
   "metadata": {},
   "source": [
    "# Imports"
   ]
  },
  {
   "cell_type": "code",
   "execution_count": 27,
   "metadata": {
    "ExecuteTime": {
     "end_time": "2021-09-10T23:12:24.257036Z",
     "start_time": "2021-09-10T23:12:24.246184Z"
    }
   },
   "outputs": [],
   "source": [
    "import numpy as np\n",
    "from pprint import pprint as pp\n",
    "import re #Used to read chunks from the data files - clusters, vmat, etec.\n",
    "import math\n",
    "from tqdm.notebook import tqdm\n",
    "import pandas as pd\n",
    "import matplotlib.pyplot as plt\n",
    "import plotly.graph_objects as go\n",
    "from datetime import datetime\n",
    "import random\n",
    "from IPython.display import clear_output\n",
    "\n",
    "from scipy.optimize import minimize, basinhopping\n",
    "from scipy.optimize import SR1, BFGS\n",
    "from scipy.optimize import Bounds\n",
    "from scipy.optimize import LinearConstraint\n",
    "from scipy.optimize import NonlinearConstraint\n",
    "\n",
    "from ase import Atoms\n",
    "from ase.units import kB\n",
    "from ase.visualize import view\n",
    "from ase.build import bulk\n",
    "from ase.spacegroup import crystal\n",
    "from ase.build import make_supercell\n",
    "from ase.io.vasp import write_vasp\n",
    "\n",
    "import sys\n",
    "import subprocess\n",
    "import os\n",
    "\n",
    "pattern1 = re.compile(\"\\n\\n\\n\")\n",
    "pattern2 = re.compile(\"\\n\\n\")\n",
    "np.set_printoptions(suppress=True,precision=2)"
   ]
  },
  {
   "cell_type": "markdown",
   "metadata": {},
   "source": [
    "# Read all necessary files"
   ]
  },
  {
   "cell_type": "markdown",
   "metadata": {},
   "source": [
    "## Read clusters.out"
   ]
  },
  {
   "cell_type": "code",
   "execution_count": 28,
   "metadata": {
    "ExecuteTime": {
     "end_time": "2021-09-10T23:12:27.045735Z",
     "start_time": "2021-09-10T23:12:27.024612Z"
    }
   },
   "outputs": [],
   "source": [
    "# Read clusters.out\n",
    "clusters = {}\n",
    "\n",
    "with open('clusters.out','r') as fclusters:\n",
    "    temp_clusters = fclusters.read().split('\\n\\n') #Read blocks separated by 1 empty line\n",
    "\n",
    "for idx, cluster in enumerate(temp_clusters):\n",
    "    if cluster == '': #Check for spurious empty blocks\n",
    "        continue \n",
    "    line = cluster.split('\\n') #If not empty split by lines\n",
    "    multiplicity = int(line[0]) #1st line\n",
    "    length = float(line[1]) #largest distance between two atoms\n",
    "    num_points = int(line[2]) #type of cluster\n",
    "    clusters[idx] = {'mult':multiplicity, 'length':length, 'type':num_points}"
   ]
  },
  {
   "cell_type": "markdown",
   "metadata": {},
   "source": [
    "## Read config.out"
   ]
  },
  {
   "cell_type": "code",
   "execution_count": 29,
   "metadata": {
    "ExecuteTime": {
     "end_time": "2021-09-10T23:12:28.191183Z",
     "start_time": "2021-09-10T23:12:28.174662Z"
    }
   },
   "outputs": [],
   "source": [
    "# Read config.out\n",
    "configs = {}\n",
    "\n",
    "fconfig = open('config.out','r')\n",
    "_ = next(fconfig) #Ignore first line\n",
    "\n",
    "temp_config = fconfig.read()#.split('\\n\\n')\n",
    "temp_config = pattern1.split(temp_config) #split lines separated by 2 empty lines\n",
    "\n",
    "for idx, config in enumerate(temp_config):\n",
    "    if config == '': #Check for spurious empty blocks\n",
    "        continue\n",
    "    num_points = int(config[0]) #number of subclusters\n",
    "    config = pattern2.split(config[2:]) #now split individual subclusters separated by 1 blank line\n",
    "    min_coords = []\n",
    "    for _ in range(num_points):\n",
    "        min_coords.append(config[_].split('\\n')[0])\n",
    "    configs[idx] = {'subclus': list(map(int,min_coords)), 'num_of_subclus': len(min_coords)}"
   ]
  },
  {
   "cell_type": "markdown",
   "metadata": {},
   "source": [
    "## Read Kikuchi-Baker coefficients"
   ]
  },
  {
   "cell_type": "code",
   "execution_count": 30,
   "metadata": {
    "ExecuteTime": {
     "end_time": "2021-09-10T23:12:30.747280Z",
     "start_time": "2021-09-10T23:12:30.732041Z"
    }
   },
   "outputs": [],
   "source": [
    "# Read kb.out\n",
    "\n",
    "kb = {}\n",
    "fkb = open('kb.out','r')\n",
    "_ = next(fkb) #ignore first line\n",
    "\n",
    "temp_kb = fkb.read()\n",
    "temp_kb = temp_kb.split('\\n') #split file linewise\n",
    "\n",
    "for idx, kbcoeff in enumerate(temp_kb):\n",
    "    if kbcoeff == '': #check for spurious empty blocks\n",
    "        continue\n",
    "    kb[idx] = float(kbcoeff)\n",
    "\n",
    "fkb.close()"
   ]
  },
  {
   "cell_type": "markdown",
   "metadata": {},
   "source": [
    "## Read coefficients of subclusters"
   ]
  },
  {
   "cell_type": "code",
   "execution_count": 31,
   "metadata": {
    "ExecuteTime": {
     "end_time": "2021-09-10T23:12:32.859080Z",
     "start_time": "2021-09-10T23:12:32.838204Z"
    }
   },
   "outputs": [],
   "source": [
    "# Read configcoeff.out\n",
    "configcoef = {}\n",
    "\n",
    "with open('configcoef.out','r') as fsubmult:\n",
    "    _ = next(fsubmult) #ignore first line\n",
    "    temp_submult = fsubmult.read() \n",
    "    temp_submult = pattern2.split(temp_submult) #split lines into blocks separated by 2 empty lines\n",
    "    \n",
    "for idx, submult in enumerate(temp_submult):\n",
    "    submult = submult.split('\\n') #split into number of subclusters \n",
    "    while(\"\" in submult) :\n",
    "        submult.remove(\"\") #remove empty blocks\n",
    "    configcoef[idx] = list(map(float,submult[1:])) #also ignore 1st line of each block"
   ]
  },
  {
   "cell_type": "markdown",
   "metadata": {},
   "source": [
    "## Read V-Matrix"
   ]
  },
  {
   "cell_type": "code",
   "execution_count": 32,
   "metadata": {
    "ExecuteTime": {
     "end_time": "2021-09-10T23:12:34.902275Z",
     "start_time": "2021-09-10T23:12:34.865115Z"
    }
   },
   "outputs": [],
   "source": [
    "# Read vmat.out\n",
    "vmat = {}\n",
    "with open('vmat.out') as fvmat:\n",
    "    _ = next(fvmat) #ignore first lie\n",
    "    temp_vmat = fvmat.read()\n",
    "    temp_vmat = pattern2.split(temp_vmat) #split by 2 empty lines i.e. maxclusters\n",
    "    \n",
    "    while(\"\" in temp_vmat):\n",
    "        temp_vmat.remove(\"\") #remove empty blocks\n",
    "    \n",
    "    for clus_idx, mat in enumerate(temp_vmat):\n",
    "        mat = mat.split('\\n') #split by 1 empty line i.e. subclusters\n",
    "        mat_float = np.empty(list(map(int, mat[0].split(' '))))\n",
    "        for idx, row in enumerate(mat[1:]): #ignore first line\n",
    "            mat_float[idx] = list(map(float,row.split(' ')[:-1]))\n",
    "        \n",
    "        vmat[clus_idx] = mat_float"
   ]
  },
  {
   "cell_type": "markdown",
   "metadata": {},
   "source": [
    "## Read ECI"
   ]
  },
  {
   "cell_type": "code",
   "execution_count": 33,
   "metadata": {
    "ExecuteTime": {
     "end_time": "2021-09-10T23:12:36.295102Z",
     "start_time": "2021-09-10T23:12:36.284053Z"
    }
   },
   "outputs": [],
   "source": [
    "# Read eci\n",
    "eci = {}\n",
    "\n",
    "with open('eci.out') as feci:\n",
    "    _ = next(feci) #Ignore first line\n",
    "    temp_eci = feci.read()\n",
    "    temp_eci = temp_eci.split('\\n') #split by line\n",
    "\n",
    "for idx, eci_val in enumerate(temp_eci):\n",
    "    if eci_val == '':\n",
    "        continue\n",
    "    eci[idx] = float(eci_val)"
   ]
  },
  {
   "cell_type": "code",
   "execution_count": 120,
   "metadata": {
    "ExecuteTime": {
     "end_time": "2021-09-12T18:48:34.381395Z",
     "start_time": "2021-09-12T18:48:34.364556Z"
    }
   },
   "outputs": [],
   "source": [
    "#In this notebook ECI's are declared manually\n",
    "eci = {0: 0, 1: 0, 2: 0.1, 3: 0.0, 4: 0, 5: 0}"
   ]
  },
  {
   "cell_type": "code",
   "execution_count": 121,
   "metadata": {
    "ExecuteTime": {
     "end_time": "2021-09-12T18:48:35.195649Z",
     "start_time": "2021-09-12T18:48:35.160664Z"
    }
   },
   "outputs": [
    {
     "data": {
      "text/plain": [
       "{0: 0, 1: 0, 2: 0.1, 3: 0.0, 4: 0, 5: 0}"
      ]
     },
     "execution_count": 121,
     "metadata": {},
     "output_type": "execute_result"
    }
   ],
   "source": [
    "eci"
   ]
  },
  {
   "cell_type": "code",
   "execution_count": 62,
   "metadata": {
    "ExecuteTime": {
     "end_time": "2021-09-10T23:44:46.093242Z",
     "start_time": "2021-09-10T23:44:46.061472Z"
    }
   },
   "outputs": [
    {
     "name": "stdout",
     "output_type": "stream",
     "text": [
      "[ 1.    0.79 -0.87  0.61  0.11 -0.7 ]\n"
     ]
    }
   ],
   "source": [
    "corrs1 = np.array([1., 1., 1., 1., 1., 1.]) #Pure B\n",
    "corrs0 = np.array([1., -1., 1., 1., -1., 1.]) #Pure A\n",
    "corrssqs = np.array([1.    , 0.0   , 0.25,0.25  , 0.125 , 0.0625]) # AB - sqs\n",
    "corrsrand = np.array([1.   , *np.random.uniform(-1, 1, 5)]) \n",
    "T = 1/kB\n",
    "print(corrsrand)"
   ]
  },
  {
   "cell_type": "markdown",
   "metadata": {},
   "source": [
    "# Setting up Log Absolute functions"
   ]
  },
  {
   "cell_type": "markdown",
   "metadata": {},
   "source": [
    "## Set up F"
   ]
  },
  {
   "cell_type": "code",
   "execution_count": 36,
   "metadata": {
    "ExecuteTime": {
     "end_time": "2021-09-10T23:12:50.933804Z",
     "start_time": "2021-09-10T23:12:50.911655Z"
    }
   },
   "outputs": [],
   "source": [
    "def F(corrs, vmat, kb, clusters, configs, configcoef,T,eci):\n",
    "    \"\"\"\n",
    "    Input: \n",
    "    corrs - Correlations\n",
    "    vmat  - V-Matrix\n",
    "    clusters - Maximal Cluster Information (multiplicity, longest neighbor length, no. of points)\n",
    "    configs - Not used\n",
    "    configcoef - Coefficients of subclusters - array containing the coeff of each subcluster\n",
    "    T - Temperature\n",
    "    eci - ECI's\n",
    "    \n",
    "    Output:\n",
    "    F = H + kB*T*SUM(rho * log(rho))\n",
    "    \"\"\"\n",
    "    \n",
    "    def get_corrsum(vmat,corrs):\n",
    "        assert len(vmat) == len(corrs)\n",
    "        corrsum = np.inner(vmat,corrs)\n",
    "        if corrsum == 0:\n",
    "            return 0\n",
    "            #corrsum = np.finfo(float).tiny\n",
    "\n",
    "        return corrsum * math.log(np.abs(corrsum))\n",
    "    \n",
    "    def per_cluster_sum(corrs,vmat,configcoef):\n",
    "        config_sum = np.sum([coef * get_corrsum(vmat[config_idx],corrs) for config_idx, coef in enumerate(configcoef)\n",
    "                            ])\n",
    "                      \n",
    "        return config_sum\n",
    "    \n",
    "    H = np.sum([cluster['mult']*eci[cluster_idx]*corrs[cluster_idx] \n",
    "                for cluster_idx, cluster in clusters.items()\n",
    "               ])\n",
    "    \n",
    "    S = np.sum([kb[cluster_idx]*per_cluster_sum(corrs,\n",
    "                                                vmat[cluster_idx],\n",
    "                                                configcoef[cluster_idx],)\n",
    "                for cluster_idx in clusters.keys()\n",
    "               ])\n",
    "    \n",
    "    return H + kB*T*S"
   ]
  },
  {
   "cell_type": "code",
   "execution_count": 37,
   "metadata": {
    "ExecuteTime": {
     "end_time": "2021-09-10T23:12:52.753204Z",
     "start_time": "2021-09-10T23:12:52.726958Z"
    }
   },
   "outputs": [
    {
     "name": "stdout",
     "output_type": "stream",
     "text": [
      "Corrs 0: 4.00 -- Corrs 1: 4.00 -- Corrs Rand: 0.56 -- Corrs SQS: -1.63\n"
     ]
    }
   ],
   "source": [
    "f0 = F(corrs0, vmat, kb, clusters, configs, configcoef,T,eci)\n",
    "f1 = F(corrs1, vmat, kb, clusters, configs, configcoef,T,eci)\n",
    "fsqs = F(corrssqs, vmat, kb, clusters, configs, configcoef,T,eci)\n",
    "frand = F(corrsrand, vmat, kb, clusters, configs, configcoef,T,eci)\n",
    "print(f\"Corrs 0: {f0:.2f} -- Corrs 1: {f1:.2f} -- Corrs Rand: {frand:.2f} -- Corrs SQS: {fsqs:.2f}\")"
   ]
  },
  {
   "cell_type": "markdown",
   "metadata": {},
   "source": [
    "## Set up F Jacobian"
   ]
  },
  {
   "cell_type": "code",
   "execution_count": 67,
   "metadata": {
    "ExecuteTime": {
     "end_time": "2021-09-10T23:45:33.271793Z",
     "start_time": "2021-09-10T23:45:33.244795Z"
    }
   },
   "outputs": [],
   "source": [
    "def F_jacobian(corrs, vmat, kb, clusters, configs, configcoef,T,eci):\n",
    "    \"\"\"\n",
    "    Input: \n",
    "    corrs - Correlations\n",
    "    vmat  - V-Matrix\n",
    "    clusters - Maximal Cluster Information (multiplicity, longest neighbor length, no. of points)\n",
    "    configs - Not used\n",
    "    configcoef - Coefficients of subclusters - array containing the coeff of each subcluster\n",
    "    T - Temperature\n",
    "    eci - ECI's\n",
    "    \n",
    "    Output:\n",
    "    Vector representation gradient of F with Corrs\n",
    "    [dF/dcorr0, dF/dcorr1, ...]\n",
    "    \"\"\"\n",
    "    \n",
    "    def get_kth_elem_jac(corrs, vmat, kb, clusters, configs, configcoef,corr_idx):\n",
    "        \n",
    "        dS_k = np.sum([kb[cluster_idx]*per_cluster_sum_jac(corrs,\n",
    "                                                           vmat[cluster_idx],\n",
    "                                                           configcoef[cluster_idx],\n",
    "                                                           corr_idx,) \n",
    "                       for cluster_idx in clusters.keys()\n",
    "                      ])\n",
    "        return dS_k\n",
    "    \n",
    "    def get_corrsum_jac(vmat,corrs):\n",
    "        assert len(vmat) == len(corrs)\n",
    "        corrsum = np.inner(vmat,corrs)\n",
    "        if corrsum == 0:\n",
    "            return np.NINF\n",
    "            #corrsum = np.finfo(float).tiny\n",
    "\n",
    "        return 1 + math.log(np.abs(corrsum))\n",
    "\n",
    "    def per_cluster_sum_jac(corrs,vmat,configcoef,corr_idx):\n",
    "        \n",
    "        config_sum = np.sum([coef * vmat[config_idx][corr_idx] * get_corrsum_jac(vmat[config_idx],corrs) for config_idx, coef in enumerate(configcoef)\n",
    "                            ])\n",
    "\n",
    "        \n",
    "        return config_sum\n",
    "    \n",
    "    dH = np.array([cluster['mult']*eci[cluster_idx] for cluster_idx, cluster in clusters.items()])\n",
    "    \n",
    "    dS = np.array([get_kth_elem_jac(corrs, vmat, kb, clusters, configs, configcoef,corr_idx) for corr_idx, _ in enumerate(corrs)])\n",
    "    \n",
    "    return dH + kB*T*dS"
   ]
  },
  {
   "cell_type": "code",
   "execution_count": 68,
   "metadata": {
    "ExecuteTime": {
     "end_time": "2021-09-10T23:45:34.309881Z",
     "start_time": "2021-09-10T23:45:34.274798Z"
    }
   },
   "outputs": [
    {
     "name": "stdout",
     "output_type": "stream",
     "text": [
      "Corrs 0: [nan nan nan nan nan nan] \n",
      "Corrs 1: [nan nan nan nan nan nan] \n",
      "Corrs Rand [-1.73  1.86 -0.2  -0.24 -1.02  0.31] \n",
      "Corrs SQS [-1.9  -0.1   0.57  0.41  0.23 -0.05]\n"
     ]
    },
    {
     "name": "stderr",
     "output_type": "stream",
     "text": [
      "/home/sayan/.local/lib/python3.8/site-packages/numpy/core/fromnumeric.py:86: RuntimeWarning:\n",
      "\n",
      "invalid value encountered in reduce\n",
      "\n",
      "<ipython-input-67-873df088579e>:38: RuntimeWarning:\n",
      "\n",
      "invalid value encountered in double_scalars\n",
      "\n"
     ]
    }
   ],
   "source": [
    "f_jaco0 = F_jacobian(corrs0, vmat, kb, clusters, configs, configcoef,T,eci)\n",
    "f_jaco1 = F_jacobian(corrs1, vmat, kb, clusters, configs, configcoef,T,eci)\n",
    "f_jacosqs = F_jacobian(corrssqs, vmat, kb, clusters, configs, configcoef,T,eci)\n",
    "f_jacorand = F_jacobian(corrsrand, vmat, kb, clusters, configs, configcoef,T,eci)\n",
    "print(f\"Corrs 0: {f_jaco0} \\nCorrs 1: {f_jaco1} \\nCorrs Rand {f_jacorand} \\nCorrs SQS {f_jacosqs}\")"
   ]
  },
  {
   "cell_type": "markdown",
   "metadata": {},
   "source": [
    "## Set up Hessian"
   ]
  },
  {
   "cell_type": "code",
   "execution_count": 69,
   "metadata": {
    "ExecuteTime": {
     "end_time": "2021-09-10T23:45:39.784666Z",
     "start_time": "2021-09-10T23:45:39.760705Z"
    }
   },
   "outputs": [],
   "source": [
    "def F_hessian(corrs, vmat, kb, clusters, configs, configcoef,T,eci):\n",
    "    \"\"\"\n",
    "    Input: \n",
    "    corrs - Correlations\n",
    "    vmat  - V-Matrix\n",
    "    clusters - Maximal Cluster Information (multiplicity, longest neighbor length, no. of points)\n",
    "    configs - Not used\n",
    "    configcoef - Coefficients of subclusters - array containing the coeff of each subcluster\n",
    "    T - Temperature\n",
    "    eci - ECI's\n",
    "    \n",
    "    Output:\n",
    "    Vector representation gradient of F with Corrs\n",
    "    [[d^2F/dcorr0 dcorr0, d^2F/dcorr0 dcorr1, ..., d^2F/dcorr0 dcorrn],\n",
    "     [d^2F/dcorr1 dcorr0, d^2F/dcorr1 dcorr1, ..., d^2F/dcorr1 dcorrn],\n",
    "     .\n",
    "     .\n",
    "     .\n",
    "     [d^2F/dcorrn dcorr0, d^2F/dcorrn dcorr1, ..., d^2F/dcorrn dcorrn],\n",
    "    ]\n",
    "    \"\"\"\n",
    "    \n",
    "    def get_corrsum_hess(vmat,corrs):\n",
    "        assert len(vmat) == len(corrs)\n",
    "        \n",
    "        corrsum = np.inner(vmat,corrs)\n",
    "        if corrsum == 0:\n",
    "            return 1/np.PINF\n",
    "            #corrsum = np.finfo(float).tiny\n",
    "\n",
    "        return corrsum\n",
    "    \n",
    "    def get_config_val(corrs,vmat,configcoef,corr_idx_1,corr_idx_2):\n",
    "        \n",
    "        config_val = np.sum([coef * vmat[config_idx][corr_idx_1] * vmat[config_idx][corr_idx_2] / get_corrsum_hess(vmat[config_idx],corrs) \n",
    "                             for config_idx, coef in enumerate(configcoef)\n",
    "                            ])\n",
    "        \n",
    "        return config_val\n",
    "    \n",
    "    def get_hessian_elem(corrs, vmat, kb, clusters, configs, configcoef,T,eci,corr_idx_1,corr_idx_2):\n",
    "        \n",
    "        hess_elem = np.sum([kb[cluster_idx] * get_config_val(corrs,\n",
    "                                                             vmat[cluster_idx],\n",
    "                                                             configcoef[cluster_idx],\n",
    "                                                             corr_idx_1,\n",
    "                                                             corr_idx_2\n",
    "                                                            ) \n",
    "                            for cluster_idx in clusters.keys()\n",
    "                           ])\n",
    "        return hess_elem\n",
    "    \n",
    "    d2F = np.empty([len(corrs),len(corrs)])\n",
    "    \n",
    "    d2F = np.array([[get_hessian_elem(corrs, vmat, kb, clusters, configs, configcoef, T, eci, corr_idx_1, corr_idx_2) for corr_idx_2, _ in enumerate(corrs)] for corr_idx_1, _ in enumerate(corrs)])\n",
    "    \n",
    "    return d2F"
   ]
  },
  {
   "cell_type": "code",
   "execution_count": 70,
   "metadata": {
    "ExecuteTime": {
     "end_time": "2021-09-10T23:45:40.094916Z",
     "start_time": "2021-09-10T23:45:40.022201Z"
    }
   },
   "outputs": [
    {
     "name": "stdout",
     "output_type": "stream",
     "text": [
      "Corrs 0:\n",
      " [[nan nan nan nan nan nan]\n",
      " [nan nan nan nan nan nan]\n",
      " [nan nan nan nan nan nan]\n",
      " [nan nan nan nan nan nan]\n",
      " [nan nan nan nan nan nan]\n",
      " [nan nan nan nan nan nan]] \n",
      " Corrs 1:\n",
      " [[nan nan nan nan nan nan]\n",
      " [nan nan nan nan nan nan]\n",
      " [nan nan nan nan nan nan]\n",
      " [nan nan nan nan nan nan]\n",
      " [nan nan nan nan nan nan]\n",
      " [nan nan nan nan nan nan]]\n",
      " Corrs Rand:\n",
      " [[  9.39 -18.22  -0.14   8.06   2.49  -1.04]\n",
      " [-18.22  39.03   0.79 -17.28  -3.42   1.52]\n",
      " [ -0.14   0.79   0.74   0.16   0.63   0.01]\n",
      " [  8.06 -17.28   0.16  10.34  -0.81   0.65]\n",
      " [  2.49  -3.42   0.63  -0.81   4.27  -1.12]\n",
      " [ -1.04   1.52   0.01   0.65  -1.12   0.6 ]] \n",
      " Corrs SQS:\n",
      " [[ 1.25  0.13 -0.55 -0.41 -0.16  0.14]\n",
      " [ 0.13  2.99  0.02  0.01 -0.89 -0.35]\n",
      " [-0.55  0.02  3.49 -0.97 -0.25 -0.69]\n",
      " [-0.41  0.01 -0.97  2.76 -0.13 -0.34]\n",
      " [-0.16 -0.89 -0.25 -0.13  1.94  0.27]\n",
      " [ 0.14 -0.35 -0.69 -0.34  0.27  1.29]]\n"
     ]
    },
    {
     "name": "stderr",
     "output_type": "stream",
     "text": [
      "<ipython-input-69-d4a292fd34bd>:35: RuntimeWarning:\n",
      "\n",
      "divide by zero encountered in double_scalars\n",
      "\n",
      "/home/sayan/.local/lib/python3.8/site-packages/numpy/core/fromnumeric.py:86: RuntimeWarning:\n",
      "\n",
      "invalid value encountered in reduce\n",
      "\n",
      "<ipython-input-69-d4a292fd34bd>:35: RuntimeWarning:\n",
      "\n",
      "invalid value encountered in double_scalars\n",
      "\n"
     ]
    }
   ],
   "source": [
    "f_hess0 = F_hessian(corrs0, vmat, kb, clusters, configs, configcoef,T,eci)\n",
    "f_hess1 = F_hessian(corrs1, vmat, kb, clusters, configs, configcoef,T,eci)\n",
    "f_hessrand = F_hessian(corrsrand, vmat, kb, clusters, configs, configcoef,T,eci)\n",
    "f_hesssqs = F_hessian(corrssqs, vmat, kb, clusters, configs, configcoef,T,eci)\n",
    "print(f\"Corrs 0:\\n {f_hess0} \\n Corrs 1:\\n {f_hess1}\\n Corrs Rand:\\n {f_hessrand} \\n Corrs SQS:\\n {f_hesssqs}\")"
   ]
  },
  {
   "cell_type": "markdown",
   "metadata": {},
   "source": [
    "# Constraints"
   ]
  },
  {
   "cell_type": "code",
   "execution_count": 71,
   "metadata": {
    "ExecuteTime": {
     "end_time": "2021-09-10T23:45:41.215024Z",
     "start_time": "2021-09-10T23:45:41.192647Z"
    }
   },
   "outputs": [],
   "source": [
    "def constraint_rhos_sum(corrs, vmat, clusters, configcoef,):\n",
    "    \"\"\"\n",
    "    Constraints the sum of each rho. As of now, it's done in a weird way, where the total sum of the array:\n",
    "    [1 - sum(rho), .... ] is constrained to sum to 0. This along with the constraint that each rho is between\n",
    "    0 and 1, seems to make it work. I think that by the this might be a redundant constraint as well.\n",
    "    \"\"\"\n",
    "    rho_sum = []\n",
    "\n",
    "    def clus_prob(cluster_idx):\n",
    "        rho = np.matmul(vmat[cluster_idx],corrs)\n",
    "        return rho\n",
    "    \n",
    "    for cluster_idx, _ in clusters.items():\n",
    "        rho = clus_prob(cluster_idx)\n",
    "        rho_sum.append(np.sum(configcoef[cluster_idx]*rho))\n",
    "    \n",
    "    return np.sum(1 - np.array(rho_sum))\n",
    "\n",
    "def constraint_singlet(corrs,FIXED_CORR_1):\n",
    "    \"\"\"\n",
    "    constrains the 1-pt correlation:\n",
    "    corrs[1] = FIXED_CORR_1\n",
    "    \"\"\"\n",
    "    return corrs[1] - FIXED_CORR_1   \n",
    "\n",
    "def constraint_zero(corrs):\n",
    "    \"\"\"\n",
    "    constrains the 1-pt correlation:\n",
    "    corrs[0] = 1\n",
    "    \"\"\"\n",
    "    return 1 - corrs[0] \n",
    "\n",
    "class MyBounds:\n",
    "    \"\"\"\n",
    "    Class to constrain the trial correlations of Basin Hopping\n",
    "    \"\"\"\n",
    "    def __init__(self, xmax=[1]*6, xmin=[-1]*6):\n",
    "        self.xmax = np.array(xmax)\n",
    "        self.xmin = np.array(xmin)\n",
    "        \n",
    "    def __call__(self, **kwargs):\n",
    "        x = kwargs[\"x_new\"]\n",
    "        tmax = bool(np.all(x <= self.xmax))\n",
    "        tmin = bool(np.all(x >= self.xmin))\n",
    "\n",
    "        return tmax and tmin"
   ]
  },
  {
   "cell_type": "code",
   "execution_count": 160,
   "metadata": {
    "ExecuteTime": {
     "end_time": "2021-09-12T22:09:12.017004Z",
     "start_time": "2021-09-12T22:09:12.004606Z"
    }
   },
   "outputs": [
    {
     "data": {
      "text/plain": [
       "array([    0.,  1000.,  2000.,  3000.,  4000.,  5000.,  6000.,  7000.,\n",
       "        8000.,  9000., 10000., 11000., 12000., 13000., 14000., 15000.,\n",
       "       16000., 17000., 18000., 19000., 20000.])"
      ]
     },
     "execution_count": 160,
     "metadata": {},
     "output_type": "execute_result"
    }
   ],
   "source": [
    "np.linspace(0, 20000, num=21)"
   ]
  },
  {
   "cell_type": "code",
   "execution_count": 163,
   "metadata": {
    "ExecuteTime": {
     "end_time": "2021-09-12T22:09:46.218768Z",
     "start_time": "2021-09-12T22:09:46.211697Z"
    }
   },
   "outputs": [
    {
     "data": {
      "text/plain": [
       "array([-1. , -0.9, -0.8, -0.7, -0.6, -0.5, -0.4, -0.3, -0.2, -0.1,  0. ,\n",
       "        0.1,  0.2,  0.3,  0.4,  0.5,  0.6,  0.7,  0.8,  0.9,  1. ])"
      ]
     },
     "execution_count": 163,
     "metadata": {},
     "output_type": "execute_result"
    }
   ],
   "source": [
    "np.linspace(-1+np.finfo(float).eps,1-np.finfo(float).eps,21)"
   ]
  },
  {
   "cell_type": "markdown",
   "metadata": {
    "heading_collapsed": true
   },
   "source": [
    "# Uniform Sampling"
   ]
  },
  {
   "cell_type": "code",
   "execution_count": 95,
   "metadata": {
    "ExecuteTime": {
     "end_time": "2021-09-12T08:54:44.838220Z",
     "start_time": "2021-09-11T11:53:55.933240Z"
    },
    "hidden": true
   },
   "outputs": [
    {
     "data": {
      "application/vnd.jupyter.widget-view+json": {
       "model_id": "abceebfde8de4916a8e046b1a426d237",
       "version_major": 2,
       "version_minor": 0
      },
      "text/plain": [
       "  0%|          | 0/20 [00:00<?, ?it/s]"
      ]
     },
     "metadata": {},
     "output_type": "display_data"
    },
    {
     "data": {
      "application/vnd.jupyter.widget-view+json": {
       "model_id": "fa5efa129ed74cf1932bc3913ed8b367",
       "version_major": 2,
       "version_minor": 0
      },
      "text/plain": [
       "  0%|          | 0/9 [00:00<?, ?it/s]"
      ]
     },
     "metadata": {},
     "output_type": "display_data"
    },
    {
     "data": {
      "application/vnd.jupyter.widget-view+json": {
       "model_id": "c32cff0e6e0946849cbfe3b9dd9de559",
       "version_major": 2,
       "version_minor": 0
      },
      "text/plain": [
       "  0%|          | 0/500 [00:00<?, ?it/s]"
      ]
     },
     "metadata": {},
     "output_type": "display_data"
    },
    {
     "name": "stderr",
     "output_type": "stream",
     "text": [
      "/home/sayan/.local/lib/python3.8/site-packages/scipy/optimize/_trustregion_constr/projections.py:181: UserWarning:\n",
      "\n",
      "Singular Jacobian matrix. Using SVD decomposition to perform the factorizations.\n",
      "\n",
      "/home/sayan/.local/lib/python3.8/site-packages/scipy/optimize/_hessian_update_strategy.py:182: UserWarning:\n",
      "\n",
      "delta_grad == 0.0. Check if the approximated function is linear. If the function is linear better results can be obtained by defining the Hessian as zero instead of using quasi-Newton approximations.\n",
      "\n"
     ]
    },
    {
     "name": "stdout",
     "output_type": "stream",
     "text": [
      "Found new minimum for x:-0.9999999999999998, T:0.0 fun: 3.9999998641266847\n",
      "Found new minimum for x:-0.9999999999999998, T:0.0 fun: 3.9999998391442793\n",
      "Found new minimum for x:-0.9999999999999998, T:0.0 fun: 3.999999819523672\n",
      "Found new minimum for x:-0.9999999999999998, T:0.0 fun: 3.999999818856451\n",
      "Found new minimum for x:-0.9999999999999998, T:0.0 fun: 3.999999818752014\n"
     ]
    },
    {
     "data": {
      "application/vnd.jupyter.widget-view+json": {
       "model_id": "de2a39724508431a8413fcfd60e5604f",
       "version_major": 2,
       "version_minor": 0
      },
      "text/plain": [
       "  0%|          | 0/500 [00:00<?, ?it/s]"
      ]
     },
     "metadata": {},
     "output_type": "display_data"
    },
    {
     "name": "stdout",
     "output_type": "stream",
     "text": [
      "Found new minimum for x:-0.7499999999999998, T:0.0 fun: 2.571860121493258\n",
      "Found new minimum for x:-0.7499999999999998, T:0.0 fun: 2.3521335602876787\n",
      "Found new minimum for x:-0.7499999999999998, T:0.0 fun: 2.1160112461529472\n",
      "Found new minimum for x:-0.7499999999999998, T:0.0 fun: 2.069901176351243\n",
      "Found new minimum for x:-0.7499999999999998, T:0.0 fun: 2.068248395746487\n",
      "Found new minimum for x:-0.7499999999999998, T:0.0 fun: 2.000000338874256\n"
     ]
    },
    {
     "data": {
      "application/vnd.jupyter.widget-view+json": {
       "model_id": "c7bd0a89ff7548d48cfeaf0be4c6b800",
       "version_major": 2,
       "version_minor": 0
      },
      "text/plain": [
       "  0%|          | 0/500 [00:00<?, ?it/s]"
      ]
     },
     "metadata": {},
     "output_type": "display_data"
    },
    {
     "name": "stdout",
     "output_type": "stream",
     "text": [
      "Found new minimum for x:-0.4999999999999999, T:0.0 fun: 1.1358554909130067\n",
      "Found new minimum for x:-0.4999999999999999, T:0.0 fun: 1.0364069564172267\n",
      "Found new minimum for x:-0.4999999999999999, T:0.0 fun: 0.992716559802102\n",
      "Found new minimum for x:-0.4999999999999999, T:0.0 fun: 0.9556777175791338\n",
      "Found new minimum for x:-0.4999999999999999, T:0.0 fun: 0.7669395005003814\n",
      "Found new minimum for x:-0.4999999999999999, T:0.0 fun: 0.46841372066134424\n",
      "Found new minimum for x:-0.4999999999999999, T:0.0 fun: 0.4669837574014718\n",
      "Found new minimum for x:-0.4999999999999999, T:0.0 fun: 0.3490247084711936\n",
      "Found new minimum for x:-0.4999999999999999, T:0.0 fun: 0.028176290662634763\n"
     ]
    },
    {
     "data": {
      "application/vnd.jupyter.widget-view+json": {
       "model_id": "84244d3b2357417c8511b3ceb5ef8bdc",
       "version_major": 2,
       "version_minor": 0
      },
      "text/plain": [
       "  0%|          | 0/500 [00:00<?, ?it/s]"
      ]
     },
     "metadata": {},
     "output_type": "display_data"
    },
    {
     "name": "stdout",
     "output_type": "stream",
     "text": [
      "Found new minimum for x:-0.25, T:0.0 fun: 0.12563130329249073\n",
      "Found new minimum for x:-0.25, T:0.0 fun: -0.23689176494421715\n",
      "Found new minimum for x:-0.25, T:0.0 fun: -0.3930140314410336\n",
      "Found new minimum for x:-0.25, T:0.0 fun: -0.6728216502229064\n",
      "Found new minimum for x:-0.25, T:0.0 fun: -0.6948554539914376\n",
      "Found new minimum for x:-0.25, T:0.0 fun: -1.2271303141321448\n",
      "Found new minimum for x:-0.25, T:0.0 fun: -1.3659516909389182\n"
     ]
    },
    {
     "data": {
      "application/vnd.jupyter.widget-view+json": {
       "model_id": "78a6d03d592748ecab2e1fe59a52d52c",
       "version_major": 2,
       "version_minor": 0
      },
      "text/plain": [
       "  0%|          | 0/500 [00:00<?, ?it/s]"
      ]
     },
     "metadata": {},
     "output_type": "display_data"
    },
    {
     "name": "stdout",
     "output_type": "stream",
     "text": [
      "Found new minimum for x:0.0, T:0.0 fun: -1.1832057696687543\n",
      "Found new minimum for x:0.0, T:0.0 fun: -1.7110070089777873\n",
      "Found new minimum for x:0.0, T:0.0 fun: -3.2419584221351188\n",
      "Found new minimum for x:0.0, T:0.0 fun: -3.999933956136038\n"
     ]
    },
    {
     "data": {
      "application/vnd.jupyter.widget-view+json": {
       "model_id": "ce304c55957a477baa215fd828053dce",
       "version_major": 2,
       "version_minor": 0
      },
      "text/plain": [
       "  0%|          | 0/500 [00:00<?, ?it/s]"
      ]
     },
     "metadata": {},
     "output_type": "display_data"
    },
    {
     "name": "stdout",
     "output_type": "stream",
     "text": [
      "Found new minimum for x:0.25, T:0.0 fun: 0.5375193906108431\n",
      "Found new minimum for x:0.25, T:0.0 fun: -0.10371443156145466\n",
      "Found new minimum for x:0.25, T:0.0 fun: -0.28692729818387913\n",
      "Found new minimum for x:0.25, T:0.0 fun: -0.9020206562287812\n",
      "Found new minimum for x:0.25, T:0.0 fun: -1.0766547723582196\n"
     ]
    },
    {
     "data": {
      "application/vnd.jupyter.widget-view+json": {
       "model_id": "b237fc5732ff4b7d9b7aa71c383fe558",
       "version_major": 2,
       "version_minor": 0
      },
      "text/plain": [
       "  0%|          | 0/500 [00:00<?, ?it/s]"
      ]
     },
     "metadata": {},
     "output_type": "display_data"
    },
    {
     "name": "stdout",
     "output_type": "stream",
     "text": [
      "Found new minimum for x:0.4999999999999998, T:0.0 fun: 1.2489997950174945\n",
      "Found new minimum for x:0.4999999999999998, T:0.0 fun: 0.84940853197759\n",
      "Found new minimum for x:0.4999999999999998, T:0.0 fun: 0.8121384369926394\n",
      "Found new minimum for x:0.4999999999999998, T:0.0 fun: 0.7908662189079043\n",
      "Found new minimum for x:0.4999999999999998, T:0.0 fun: 0.7520742654328445\n",
      "Found new minimum for x:0.4999999999999998, T:0.0 fun: 0.6269405454074972\n",
      "Found new minimum for x:0.4999999999999998, T:0.0 fun: 0.25532423214932204\n",
      "Found new minimum for x:0.4999999999999998, T:0.0 fun: 0.19500858561869824\n",
      "Found new minimum for x:0.4999999999999998, T:0.0 fun: 0.12676656034479214\n"
     ]
    },
    {
     "data": {
      "application/vnd.jupyter.widget-view+json": {
       "model_id": "bcd756b745d34666abf1d7d485bb612d",
       "version_major": 2,
       "version_minor": 0
      },
      "text/plain": [
       "  0%|          | 0/500 [00:00<?, ?it/s]"
      ]
     },
     "metadata": {},
     "output_type": "display_data"
    },
    {
     "name": "stdout",
     "output_type": "stream",
     "text": [
      "Found new minimum for x:0.7499999999999998, T:0.0 fun: 2.5573443669248674\n",
      "Found new minimum for x:0.7499999999999998, T:0.0 fun: 2.485108866420099\n",
      "Found new minimum for x:0.7499999999999998, T:0.0 fun: 2.4461643146803946\n",
      "Found new minimum for x:0.7499999999999998, T:0.0 fun: 2.4414802528465187\n",
      "Found new minimum for x:0.7499999999999998, T:0.0 fun: 2.0069935000417414\n"
     ]
    },
    {
     "data": {
      "application/vnd.jupyter.widget-view+json": {
       "model_id": "a964217ef0f945338b153f39a81a1ad2",
       "version_major": 2,
       "version_minor": 0
      },
      "text/plain": [
       "  0%|          | 0/500 [00:00<?, ?it/s]"
      ]
     },
     "metadata": {},
     "output_type": "display_data"
    },
    {
     "name": "stdout",
     "output_type": "stream",
     "text": [
      "Found new minimum for x:0.9999999999999998, T:0.0 fun: 3.999999853912436\n",
      "Found new minimum for x:0.9999999999999998, T:0.0 fun: 3.9999998220430237\n",
      "Found new minimum for x:0.9999999999999998, T:0.0 fun: 3.9999998196705824\n",
      "Found new minimum for x:0.9999999999999998, T:0.0 fun: 3.9999998173039035\n"
     ]
    },
    {
     "data": {
      "application/vnd.jupyter.widget-view+json": {
       "model_id": "c6b221178ef443a38ba08d3cedb4dc7c",
       "version_major": 2,
       "version_minor": 0
      },
      "text/plain": [
       "  0%|          | 0/9 [00:00<?, ?it/s]"
      ]
     },
     "metadata": {},
     "output_type": "display_data"
    },
    {
     "data": {
      "application/vnd.jupyter.widget-view+json": {
       "model_id": "c25b0948a9784eb48b5044a70f8a00cd",
       "version_major": 2,
       "version_minor": 0
      },
      "text/plain": [
       "  0%|          | 0/500 [00:00<?, ?it/s]"
      ]
     },
     "metadata": {},
     "output_type": "display_data"
    },
    {
     "name": "stdout",
     "output_type": "stream",
     "text": [
      "Found new minimum for x:-0.9999999999999998, T:105.26315789473684 fun: 3.9999998994370496\n",
      "Found new minimum for x:-0.9999999999999998, T:105.26315789473684 fun: 3.9999998713187623\n",
      "Found new minimum for x:-0.9999999999999998, T:105.26315789473684 fun: 3.9999998683184383\n",
      "Found new minimum for x:-0.9999999999999998, T:105.26315789473684 fun: 3.999999851723754\n",
      "Found new minimum for x:-0.9999999999999998, T:105.26315789473684 fun: 3.9999998431142605\n",
      "Found new minimum for x:-0.9999999999999998, T:105.26315789473684 fun: 3.999999828510569\n",
      "Found new minimum for x:-0.9999999999999998, T:105.26315789473684 fun: 3.999999827887341\n",
      "Found new minimum for x:-0.9999999999999998, T:105.26315789473684 fun: 3.9999998204135307\n",
      "Found new minimum for x:-0.9999999999999998, T:105.26315789473684 fun: 3.99999982013751\n",
      "Found new minimum for x:-0.9999999999999998, T:105.26315789473684 fun: 3.999999801767529\n"
     ]
    },
    {
     "data": {
      "application/vnd.jupyter.widget-view+json": {
       "model_id": "070a60262e264b518b5740856ea40b60",
       "version_major": 2,
       "version_minor": 0
      },
      "text/plain": [
       "  0%|          | 0/500 [00:00<?, ?it/s]"
      ]
     },
     "metadata": {},
     "output_type": "display_data"
    },
    {
     "name": "stdout",
     "output_type": "stream",
     "text": [
      "Found new minimum for x:-0.7499999999999998, T:105.26315789473684 fun: 2.7603984899524616\n",
      "Found new minimum for x:-0.7499999999999998, T:105.26315789473684 fun: 2.5337697548235734\n",
      "Found new minimum for x:-0.7499999999999998, T:105.26315789473684 fun: 2.4714436857875137\n",
      "Found new minimum for x:-0.7499999999999998, T:105.26315789473684 fun: 2.469637553601567\n",
      "Found new minimum for x:-0.7499999999999998, T:105.26315789473684 fun: 2.4642047193725505\n",
      "Found new minimum for x:-0.7499999999999998, T:105.26315789473684 fun: 2.3848994658256064\n",
      "Found new minimum for x:-0.7499999999999998, T:105.26315789473684 fun: 2.3737438045911747\n",
      "Found new minimum for x:-0.7499999999999998, T:105.26315789473684 fun: 2.299945813329521\n",
      "Found new minimum for x:-0.7499999999999998, T:105.26315789473684 fun: 1.987235241688604\n",
      "Found new minimum for x:-0.7499999999999998, T:105.26315789473684 fun: 1.9872352379279679\n",
      "Found new minimum for x:-0.7499999999999998, T:105.26315789473684 fun: 1.9872351053832673\n",
      "Found new minimum for x:-0.7499999999999998, T:105.26315789473684 fun: 1.9872350697841275\n"
     ]
    },
    {
     "data": {
      "application/vnd.jupyter.widget-view+json": {
       "model_id": "1dea035d2032425eb28b527c6d35a7ea",
       "version_major": 2,
       "version_minor": 0
      },
      "text/plain": [
       "  0%|          | 0/500 [00:00<?, ?it/s]"
      ]
     },
     "metadata": {},
     "output_type": "display_data"
    },
    {
     "name": "stdout",
     "output_type": "stream",
     "text": [
      "Found new minimum for x:-0.4999999999999999, T:105.26315789473684 fun: 1.598318671756898\n",
      "Found new minimum for x:-0.4999999999999999, T:105.26315789473684 fun: 1.4584083496606621\n",
      "Found new minimum for x:-0.4999999999999999, T:105.26315789473684 fun: 1.3033974515638285\n",
      "Found new minimum for x:-0.4999999999999999, T:105.26315789473684 fun: 1.0198674943215102\n",
      "Found new minimum for x:-0.4999999999999999, T:105.26315789473684 fun: 0.8866455895370777\n",
      "Found new minimum for x:-0.4999999999999999, T:105.26315789473684 fun: 0.797776597563625\n",
      "Found new minimum for x:-0.4999999999999999, T:105.26315789473684 fun: 0.5522521577549543\n",
      "Found new minimum for x:-0.4999999999999999, T:105.26315789473684 fun: 0.05210252396553702\n",
      "Found new minimum for x:-0.4999999999999999, T:105.26315789473684 fun: -0.013760287806593335\n",
      "Found new minimum for x:-0.4999999999999999, T:105.26315789473684 fun: -0.014827169366538436\n"
     ]
    },
    {
     "data": {
      "application/vnd.jupyter.widget-view+json": {
       "model_id": "6c2dc64f372a4d19a304f36532682faf",
       "version_major": 2,
       "version_minor": 0
      },
      "text/plain": [
       "  0%|          | 0/500 [00:00<?, ?it/s]"
      ]
     },
     "metadata": {},
     "output_type": "display_data"
    },
    {
     "name": "stdout",
     "output_type": "stream",
     "text": [
      "Found new minimum for x:-0.25, T:105.26315789473684 fun: -0.06297035042910672\n",
      "Found new minimum for x:-0.25, T:105.26315789473684 fun: -0.2305834196413281\n",
      "Found new minimum for x:-0.25, T:105.26315789473684 fun: -0.4697393370924591\n",
      "Found new minimum for x:-0.25, T:105.26315789473684 fun: -0.761217695307857\n",
      "Found new minimum for x:-0.25, T:105.26315789473684 fun: -0.9900029401876885\n",
      "Found new minimum for x:-0.25, T:105.26315789473684 fun: -1.5830765984408883\n"
     ]
    },
    {
     "data": {
      "application/vnd.jupyter.widget-view+json": {
       "model_id": "dc020f8e11914f079fd03221e32fd8bb",
       "version_major": 2,
       "version_minor": 0
      },
      "text/plain": [
       "  0%|          | 0/500 [00:00<?, ?it/s]"
      ]
     },
     "metadata": {},
     "output_type": "display_data"
    },
    {
     "name": "stdout",
     "output_type": "stream",
     "text": [
      "Found new minimum for x:0.0, T:105.26315789473684 fun: 0.980303836884057\n",
      "Found new minimum for x:0.0, T:105.26315789473684 fun: 0.22152417169541716\n",
      "Found new minimum for x:0.0, T:105.26315789473684 fun: -0.10072339084849372\n",
      "Found new minimum for x:0.0, T:105.26315789473684 fun: -0.7827810498827014\n",
      "Found new minimum for x:0.0, T:105.26315789473684 fun: -0.998214597686634\n",
      "Found new minimum for x:0.0, T:105.26315789473684 fun: -1.6481066843317054\n",
      "Found new minimum for x:0.0, T:105.26315789473684 fun: -2.5883935747320352\n",
      "Found new minimum for x:0.0, T:105.26315789473684 fun: -2.8248878590999995\n"
     ]
    },
    {
     "data": {
      "application/vnd.jupyter.widget-view+json": {
       "model_id": "668def6caaee4f6bb5f4a7556546f9d5",
       "version_major": 2,
       "version_minor": 0
      },
      "text/plain": [
       "  0%|          | 0/500 [00:00<?, ?it/s]"
      ]
     },
     "metadata": {},
     "output_type": "display_data"
    },
    {
     "name": "stdout",
     "output_type": "stream",
     "text": [
      "Found new minimum for x:0.25, T:105.26315789473684 fun: 0.1538303075289763\n",
      "Found new minimum for x:0.25, T:105.26315789473684 fun: -0.3178531891849808\n",
      "Found new minimum for x:0.25, T:105.26315789473684 fun: -0.4112919789575232\n",
      "Found new minimum for x:0.25, T:105.26315789473684 fun: -0.7100112018137152\n",
      "Found new minimum for x:0.25, T:105.26315789473684 fun: -1.2538209013679682\n",
      "Found new minimum for x:0.25, T:105.26315789473684 fun: -1.3168088705066179\n"
     ]
    },
    {
     "data": {
      "application/vnd.jupyter.widget-view+json": {
       "model_id": "c517feb9b7bb46b7aef8adc388ddea22",
       "version_major": 2,
       "version_minor": 0
      },
      "text/plain": [
       "  0%|          | 0/500 [00:00<?, ?it/s]"
      ]
     },
     "metadata": {},
     "output_type": "display_data"
    },
    {
     "name": "stdout",
     "output_type": "stream",
     "text": [
      "Found new minimum for x:0.4999999999999998, T:105.26315789473684 fun: 1.3730623803491337\n",
      "Found new minimum for x:0.4999999999999998, T:105.26315789473684 fun: 1.2154305851121427\n",
      "Found new minimum for x:0.4999999999999998, T:105.26315789473684 fun: 1.062996798792852\n",
      "Found new minimum for x:0.4999999999999998, T:105.26315789473684 fun: 0.9789925339327403\n",
      "Found new minimum for x:0.4999999999999998, T:105.26315789473684 fun: 0.5424845151996605\n",
      "Found new minimum for x:0.4999999999999998, T:105.26315789473684 fun: 0.47146007075957486\n",
      "Found new minimum for x:0.4999999999999998, T:105.26315789473684 fun: 0.021407077152358144\n",
      "Found new minimum for x:0.4999999999999998, T:105.26315789473684 fun: 0.004817877869823791\n"
     ]
    },
    {
     "data": {
      "application/vnd.jupyter.widget-view+json": {
       "model_id": "784f75ad6a824e88ae361daa21ea7b24",
       "version_major": 2,
       "version_minor": 0
      },
      "text/plain": [
       "  0%|          | 0/500 [00:00<?, ?it/s]"
      ]
     },
     "metadata": {},
     "output_type": "display_data"
    },
    {
     "name": "stdout",
     "output_type": "stream",
     "text": [
      "Found new minimum for x:0.7499999999999998, T:105.26315789473684 fun: 2.593656156397841\n",
      "Found new minimum for x:0.7499999999999998, T:105.26315789473684 fun: 2.4851562698693783\n",
      "Found new minimum for x:0.7499999999999998, T:105.26315789473684 fun: 2.4024171991987777\n",
      "Found new minimum for x:0.7499999999999998, T:105.26315789473684 fun: 2.397866978576658\n",
      "Found new minimum for x:0.7499999999999998, T:105.26315789473684 fun: 2.2896650683423108\n",
      "Found new minimum for x:0.7499999999999998, T:105.26315789473684 fun: 2.0154055794855803\n",
      "Found new minimum for x:0.7499999999999998, T:105.26315789473684 fun: 1.9942539164722526\n"
     ]
    },
    {
     "data": {
      "application/vnd.jupyter.widget-view+json": {
       "model_id": "9864adfde897481f83842d9658d3c3ca",
       "version_major": 2,
       "version_minor": 0
      },
      "text/plain": [
       "  0%|          | 0/500 [00:00<?, ?it/s]"
      ]
     },
     "metadata": {},
     "output_type": "display_data"
    },
    {
     "name": "stdout",
     "output_type": "stream",
     "text": [
      "Found new minimum for x:0.9999999999999998, T:105.26315789473684 fun: 3.9999998204830542\n",
      "Found new minimum for x:0.9999999999999998, T:105.26315789473684 fun: 3.9999998069702905\n"
     ]
    },
    {
     "data": {
      "application/vnd.jupyter.widget-view+json": {
       "model_id": "d1af1b8117104221bbd434cc6dfc3d69",
       "version_major": 2,
       "version_minor": 0
      },
      "text/plain": [
       "  0%|          | 0/9 [00:00<?, ?it/s]"
      ]
     },
     "metadata": {},
     "output_type": "display_data"
    },
    {
     "data": {
      "application/vnd.jupyter.widget-view+json": {
       "model_id": "f55521fb3fbc467185133658e1b0828d",
       "version_major": 2,
       "version_minor": 0
      },
      "text/plain": [
       "  0%|          | 0/500 [00:00<?, ?it/s]"
      ]
     },
     "metadata": {},
     "output_type": "display_data"
    },
    {
     "name": "stdout",
     "output_type": "stream",
     "text": [
      "Found new minimum for x:-0.9999999999999998, T:210.52631578947367 fun: 3.9999998551297997\n",
      "Found new minimum for x:-0.9999999999999998, T:210.52631578947367 fun: 3.99999980256096\n",
      "Found new minimum for x:-0.9999999999999998, T:210.52631578947367 fun: 3.99999980156271\n"
     ]
    },
    {
     "data": {
      "application/vnd.jupyter.widget-view+json": {
       "model_id": "0ba23ba8ad2c49aa8514b3e371051f5e",
       "version_major": 2,
       "version_minor": 0
      },
      "text/plain": [
       "  0%|          | 0/500 [00:00<?, ?it/s]"
      ]
     },
     "metadata": {},
     "output_type": "display_data"
    },
    {
     "name": "stdout",
     "output_type": "stream",
     "text": [
      "Found new minimum for x:-0.7499999999999998, T:210.52631578947367 fun: 2.4129701840772046\n",
      "Found new minimum for x:-0.7499999999999998, T:210.52631578947367 fun: 2.354900274384004\n",
      "Found new minimum for x:-0.7499999999999998, T:210.52631578947367 fun: 2.2753414798312352\n",
      "Found new minimum for x:-0.7499999999999998, T:210.52631578947367 fun: 2.127277804944105\n",
      "Found new minimum for x:-0.7499999999999998, T:210.52631578947367 fun: 2.0819881547837285\n",
      "Found new minimum for x:-0.7499999999999998, T:210.52631578947367 fun: 1.9744704751685183\n",
      "Found new minimum for x:-0.7499999999999998, T:210.52631578947367 fun: 1.974470474692916\n",
      "Found new minimum for x:-0.7499999999999998, T:210.52631578947367 fun: 1.974470457660097\n",
      "Found new minimum for x:-0.7499999999999998, T:210.52631578947367 fun: 1.9744703665126069\n",
      "Found new minimum for x:-0.7499999999999998, T:210.52631578947367 fun: 1.9744702978744675\n"
     ]
    },
    {
     "data": {
      "application/vnd.jupyter.widget-view+json": {
       "model_id": "1897cadb4aaf48e284120a6a761e5dcf",
       "version_major": 2,
       "version_minor": 0
      },
      "text/plain": [
       "  0%|          | 0/500 [00:00<?, ?it/s]"
      ]
     },
     "metadata": {},
     "output_type": "display_data"
    },
    {
     "name": "stdout",
     "output_type": "stream",
     "text": [
      "Found new minimum for x:-0.4999999999999999, T:210.52631578947367 fun: 1.4027257839744494\n",
      "Found new minimum for x:-0.4999999999999999, T:210.52631578947367 fun: 1.008951170566289\n",
      "Found new minimum for x:-0.4999999999999999, T:210.52631578947367 fun: 0.9392643803540551\n",
      "Found new minimum for x:-0.4999999999999999, T:210.52631578947367 fun: 0.841560136382195\n",
      "Found new minimum for x:-0.4999999999999999, T:210.52631578947367 fun: 0.8371202270665986\n",
      "Found new minimum for x:-0.4999999999999999, T:210.52631578947367 fun: 0.5949664181108544\n",
      "Found new minimum for x:-0.4999999999999999, T:210.52631578947367 fun: 0.038650008046608675\n",
      "Found new minimum for x:-0.4999999999999999, T:210.52631578947367 fun: -0.022543367670787573\n",
      "Found new minimum for x:-0.4999999999999999, T:210.52631578947367 fun: -0.03610935429415888\n"
     ]
    },
    {
     "data": {
      "application/vnd.jupyter.widget-view+json": {
       "model_id": "d6fac667b16d4cb08c4b10c26d1a07c9",
       "version_major": 2,
       "version_minor": 0
      },
      "text/plain": [
       "  0%|          | 0/500 [00:00<?, ?it/s]"
      ]
     },
     "metadata": {},
     "output_type": "display_data"
    },
    {
     "name": "stdout",
     "output_type": "stream",
     "text": [
      "Found new minimum for x:-0.25, T:210.52631578947367 fun: -0.02739475975213714\n",
      "Found new minimum for x:-0.25, T:210.52631578947367 fun: -1.3550525149364225\n",
      "Found new minimum for x:-0.25, T:210.52631578947367 fun: -1.4704209304110853\n",
      "Found new minimum for x:-0.25, T:210.52631578947367 fun: -1.5567549387579152\n"
     ]
    },
    {
     "data": {
      "application/vnd.jupyter.widget-view+json": {
       "model_id": "1d3b7024314e4195a3a98c50df3d30b0",
       "version_major": 2,
       "version_minor": 0
      },
      "text/plain": [
       "  0%|          | 0/500 [00:00<?, ?it/s]"
      ]
     },
     "metadata": {},
     "output_type": "display_data"
    },
    {
     "name": "stdout",
     "output_type": "stream",
     "text": [
      "Found new minimum for x:0.0, T:210.52631578947367 fun: 0.5062920097202195\n",
      "Found new minimum for x:0.0, T:210.52631578947367 fun: 0.35153089407628724\n",
      "Found new minimum for x:0.0, T:210.52631578947367 fun: -0.049735327721500085\n",
      "Found new minimum for x:0.0, T:210.52631578947367 fun: -0.30166550373543105\n",
      "Found new minimum for x:0.0, T:210.52631578947367 fun: -0.3986823901038352\n",
      "Found new minimum for x:0.0, T:210.52631578947367 fun: -1.518906361761167\n",
      "Found new minimum for x:0.0, T:210.52631578947367 fun: -1.6820723783957345\n",
      "Found new minimum for x:0.0, T:210.52631578947367 fun: -3.1410163679606273\n",
      "Found new minimum for x:0.0, T:210.52631578947367 fun: -4.0124827075833\n"
     ]
    },
    {
     "data": {
      "application/vnd.jupyter.widget-view+json": {
       "model_id": "7d6dbad0601b4041a04ee1cd11f32a03",
       "version_major": 2,
       "version_minor": 0
      },
      "text/plain": [
       "  0%|          | 0/500 [00:00<?, ?it/s]"
      ]
     },
     "metadata": {},
     "output_type": "display_data"
    },
    {
     "name": "stdout",
     "output_type": "stream",
     "text": [
      "Found new minimum for x:0.25, T:210.52631578947367 fun: 0.5082222971925271\n",
      "Found new minimum for x:0.25, T:210.52631578947367 fun: 0.5076971001742846\n",
      "Found new minimum for x:0.25, T:210.52631578947367 fun: -0.05321058186093163\n",
      "Found new minimum for x:0.25, T:210.52631578947367 fun: -0.6114652964792628\n",
      "Found new minimum for x:0.25, T:210.52631578947367 fun: -1.1194148527692833\n",
      "Found new minimum for x:0.25, T:210.52631578947367 fun: -1.9432603225972565\n"
     ]
    },
    {
     "data": {
      "application/vnd.jupyter.widget-view+json": {
       "model_id": "49043e56d29e4dcdac9a5cb31b4f33ee",
       "version_major": 2,
       "version_minor": 0
      },
      "text/plain": [
       "  0%|          | 0/500 [00:00<?, ?it/s]"
      ]
     },
     "metadata": {},
     "output_type": "display_data"
    },
    {
     "name": "stdout",
     "output_type": "stream",
     "text": [
      "Found new minimum for x:0.4999999999999998, T:210.52631578947367 fun: 1.486012938253701\n",
      "Found new minimum for x:0.4999999999999998, T:210.52631578947367 fun: 1.3600302717189707\n",
      "Found new minimum for x:0.4999999999999998, T:210.52631578947367 fun: 0.92654457450206\n",
      "Found new minimum for x:0.4999999999999998, T:210.52631578947367 fun: 0.09292161475783027\n",
      "Found new minimum for x:0.4999999999999998, T:210.52631578947367 fun: 0.019693927703245205\n"
     ]
    },
    {
     "data": {
      "application/vnd.jupyter.widget-view+json": {
       "model_id": "69e478b9905141f5b05ffaa3cd63b9f2",
       "version_major": 2,
       "version_minor": 0
      },
      "text/plain": [
       "  0%|          | 0/500 [00:00<?, ?it/s]"
      ]
     },
     "metadata": {},
     "output_type": "display_data"
    },
    {
     "name": "stdout",
     "output_type": "stream",
     "text": [
      "Found new minimum for x:0.7499999999999998, T:210.52631578947367 fun: 2.549269901000283\n",
      "Found new minimum for x:0.7499999999999998, T:210.52631578947367 fun: 2.476836467601089\n",
      "Found new minimum for x:0.7499999999999998, T:210.52631578947367 fun: 2.459850274549867\n",
      "Found new minimum for x:0.7499999999999998, T:210.52631578947367 fun: 2.4406993306723397\n",
      "Found new minimum for x:0.7499999999999998, T:210.52631578947367 fun: 2.422136585772843\n",
      "Found new minimum for x:0.7499999999999998, T:210.52631578947367 fun: 2.3915350724924487\n",
      "Found new minimum for x:0.7499999999999998, T:210.52631578947367 fun: 2.360548695577699\n",
      "Found new minimum for x:0.7499999999999998, T:210.52631578947367 fun: 2.258307687374097\n",
      "Found new minimum for x:0.7499999999999998, T:210.52631578947367 fun: 1.9744711239488317\n"
     ]
    },
    {
     "data": {
      "application/vnd.jupyter.widget-view+json": {
       "model_id": "41b74bcc4890414cac638c8997ddf947",
       "version_major": 2,
       "version_minor": 0
      },
      "text/plain": [
       "  0%|          | 0/500 [00:00<?, ?it/s]"
      ]
     },
     "metadata": {},
     "output_type": "display_data"
    },
    {
     "name": "stdout",
     "output_type": "stream",
     "text": [
      "Found new minimum for x:0.9999999999999998, T:210.52631578947367 fun: 3.9999998856531374\n",
      "Found new minimum for x:0.9999999999999998, T:210.52631578947367 fun: 3.9999998799085947\n",
      "Found new minimum for x:0.9999999999999998, T:210.52631578947367 fun: 3.9999998591856696\n",
      "Found new minimum for x:0.9999999999999998, T:210.52631578947367 fun: 3.9999998371145002\n",
      "Found new minimum for x:0.9999999999999998, T:210.52631578947367 fun: 3.9999998256034597\n",
      "Found new minimum for x:0.9999999999999998, T:210.52631578947367 fun: 3.999999810102204\n",
      "Found new minimum for x:0.9999999999999998, T:210.52631578947367 fun: 3.999999808377275\n",
      "Found new minimum for x:0.9999999999999998, T:210.52631578947367 fun: 3.999999807447369\n",
      "Found new minimum for x:0.9999999999999998, T:210.52631578947367 fun: 3.999999806087648\n",
      "Found new minimum for x:0.9999999999999998, T:210.52631578947367 fun: 3.99999980553557\n"
     ]
    },
    {
     "data": {
      "application/vnd.jupyter.widget-view+json": {
       "model_id": "6f8d7aefcbe445caaae432e15a4243ef",
       "version_major": 2,
       "version_minor": 0
      },
      "text/plain": [
       "  0%|          | 0/9 [00:00<?, ?it/s]"
      ]
     },
     "metadata": {},
     "output_type": "display_data"
    },
    {
     "data": {
      "application/vnd.jupyter.widget-view+json": {
       "model_id": "1e3996eb9f054b0c9cc96854dfc37cc2",
       "version_major": 2,
       "version_minor": 0
      },
      "text/plain": [
       "  0%|          | 0/500 [00:00<?, ?it/s]"
      ]
     },
     "metadata": {},
     "output_type": "display_data"
    },
    {
     "name": "stdout",
     "output_type": "stream",
     "text": [
      "Found new minimum for x:-0.9999999999999998, T:315.7894736842105 fun: 3.9999998760148787\n",
      "Found new minimum for x:-0.9999999999999998, T:315.7894736842105 fun: 3.9999998755171977\n",
      "Found new minimum for x:-0.9999999999999998, T:315.7894736842105 fun: 3.9999998220302\n",
      "Found new minimum for x:-0.9999999999999998, T:315.7894736842105 fun: 3.9999998084243336\n",
      "Found new minimum for x:-0.9999999999999998, T:315.7894736842105 fun: 3.999999801562146\n",
      "Found new minimum for x:-0.9999999999999998, T:315.7894736842105 fun: 3.9999997969547794\n"
     ]
    },
    {
     "data": {
      "application/vnd.jupyter.widget-view+json": {
       "model_id": "d4ff2fbb248a424490c1c84a2b4e2635",
       "version_major": 2,
       "version_minor": 0
      },
      "text/plain": [
       "  0%|          | 0/500 [00:00<?, ?it/s]"
      ]
     },
     "metadata": {},
     "output_type": "display_data"
    },
    {
     "name": "stdout",
     "output_type": "stream",
     "text": [
      "Found new minimum for x:-0.7499999999999998, T:315.7894736842105 fun: 2.443848953947219\n",
      "Found new minimum for x:-0.7499999999999998, T:315.7894736842105 fun: 2.38319196443739\n",
      "Found new minimum for x:-0.7499999999999998, T:315.7894736842105 fun: 2.377430213371487\n",
      "Found new minimum for x:-0.7499999999999998, T:315.7894736842105 fun: 2.358358436471733\n",
      "Found new minimum for x:-0.7499999999999998, T:315.7894736842105 fun: 2.325884709012232\n",
      "Found new minimum for x:-0.7499999999999998, T:315.7894736842105 fun: 1.9617056214321482\n"
     ]
    },
    {
     "data": {
      "application/vnd.jupyter.widget-view+json": {
       "model_id": "81a88676ba164fc392ac6a2cf695aa6b",
       "version_major": 2,
       "version_minor": 0
      },
      "text/plain": [
       "  0%|          | 0/500 [00:00<?, ?it/s]"
      ]
     },
     "metadata": {},
     "output_type": "display_data"
    },
    {
     "name": "stdout",
     "output_type": "stream",
     "text": [
      "Found new minimum for x:-0.4999999999999999, T:315.7894736842105 fun: 1.7183170564070096\n",
      "Found new minimum for x:-0.4999999999999999, T:315.7894736842105 fun: 1.666752701479417\n",
      "Found new minimum for x:-0.4999999999999999, T:315.7894736842105 fun: 1.2718393963444141\n",
      "Found new minimum for x:-0.4999999999999999, T:315.7894736842105 fun: 1.071980598182836\n",
      "Found new minimum for x:-0.4999999999999999, T:315.7894736842105 fun: 0.3835988492709458\n",
      "Found new minimum for x:-0.4999999999999999, T:315.7894736842105 fun: -0.04114342215191859\n",
      "Found new minimum for x:-0.4999999999999999, T:315.7894736842105 fun: -0.041284442770460505\n"
     ]
    },
    {
     "data": {
      "application/vnd.jupyter.widget-view+json": {
       "model_id": "209ea55645144cb1a1f8290e5e8d62f6",
       "version_major": 2,
       "version_minor": 0
      },
      "text/plain": [
       "  0%|          | 0/500 [00:00<?, ?it/s]"
      ]
     },
     "metadata": {},
     "output_type": "display_data"
    },
    {
     "name": "stdout",
     "output_type": "stream",
     "text": [
      "Found new minimum for x:-0.25, T:315.7894736842105 fun: 0.24013241211387343\n",
      "Found new minimum for x:-0.25, T:315.7894736842105 fun: 0.08194838748095452\n",
      "Found new minimum for x:-0.25, T:315.7894736842105 fun: -0.08082645970626831\n",
      "Found new minimum for x:-0.25, T:315.7894736842105 fun: -2.0148000651078584\n"
     ]
    },
    {
     "data": {
      "application/vnd.jupyter.widget-view+json": {
       "model_id": "59d9c4cae70c4a76b156100a76736804",
       "version_major": 2,
       "version_minor": 0
      },
      "text/plain": [
       "  0%|          | 0/500 [00:00<?, ?it/s]"
      ]
     },
     "metadata": {},
     "output_type": "display_data"
    },
    {
     "name": "stdout",
     "output_type": "stream",
     "text": [
      "Found new minimum for x:0.0, T:315.7894736842105 fun: -0.0006602729387003015\n",
      "Found new minimum for x:0.0, T:315.7894736842105 fun: -0.35171677366470244\n",
      "Found new minimum for x:0.0, T:315.7894736842105 fun: -1.2368030543972162\n",
      "Found new minimum for x:0.0, T:315.7894736842105 fun: -1.2781799006059065\n",
      "Found new minimum for x:0.0, T:315.7894736842105 fun: -1.6765026640374001\n",
      "Found new minimum for x:0.0, T:315.7894736842105 fun: -2.298343470336965\n",
      "Found new minimum for x:0.0, T:315.7894736842105 fun: -3.253334561685022\n",
      "Found new minimum for x:0.0, T:315.7894736842105 fun: -3.6349678991586005\n"
     ]
    },
    {
     "data": {
      "application/vnd.jupyter.widget-view+json": {
       "model_id": "9ce9b29a2f39449995a997d975159ff0",
       "version_major": 2,
       "version_minor": 0
      },
      "text/plain": [
       "  0%|          | 0/500 [00:00<?, ?it/s]"
      ]
     },
     "metadata": {},
     "output_type": "display_data"
    },
    {
     "name": "stdout",
     "output_type": "stream",
     "text": [
      "Found new minimum for x:0.25, T:315.7894736842105 fun: 0.49147432204300057\n",
      "Found new minimum for x:0.25, T:315.7894736842105 fun: 0.04960811766210882\n",
      "Found new minimum for x:0.25, T:315.7894736842105 fun: -0.5489938415367167\n",
      "Found new minimum for x:0.25, T:315.7894736842105 fun: -0.8543347419711915\n"
     ]
    },
    {
     "data": {
      "application/vnd.jupyter.widget-view+json": {
       "model_id": "05ce5071f0d84606949c8be753d03472",
       "version_major": 2,
       "version_minor": 0
      },
      "text/plain": [
       "  0%|          | 0/500 [00:00<?, ?it/s]"
      ]
     },
     "metadata": {},
     "output_type": "display_data"
    },
    {
     "name": "stdout",
     "output_type": "stream",
     "text": [
      "Found new minimum for x:0.4999999999999998, T:315.7894736842105 fun: 0.8069732762674721\n",
      "Found new minimum for x:0.4999999999999998, T:315.7894736842105 fun: 0.725930693686111\n",
      "Found new minimum for x:0.4999999999999998, T:315.7894736842105 fun: 0.5533141799006356\n",
      "Found new minimum for x:0.4999999999999998, T:315.7894736842105 fun: 0.2737276846478702\n",
      "Found new minimum for x:0.4999999999999998, T:315.7894736842105 fun: 0.11362318794579933\n",
      "Found new minimum for x:0.4999999999999998, T:315.7894736842105 fun: 0.01415057035889103\n"
     ]
    },
    {
     "data": {
      "application/vnd.jupyter.widget-view+json": {
       "model_id": "6f857bdcdaf84c6fb85b2f050e991950",
       "version_major": 2,
       "version_minor": 0
      },
      "text/plain": [
       "  0%|          | 0/500 [00:00<?, ?it/s]"
      ]
     },
     "metadata": {},
     "output_type": "display_data"
    },
    {
     "name": "stdout",
     "output_type": "stream",
     "text": [
      "Found new minimum for x:0.7499999999999998, T:315.7894736842105 fun: 2.4542595738260093\n",
      "Found new minimum for x:0.7499999999999998, T:315.7894736842105 fun: 2.444618457016542\n",
      "Found new minimum for x:0.7499999999999998, T:315.7894736842105 fun: 2.4277843356173157\n",
      "Found new minimum for x:0.7499999999999998, T:315.7894736842105 fun: 2.3941308227524534\n",
      "Found new minimum for x:0.7499999999999998, T:315.7894736842105 fun: 2.308281619816784\n",
      "Found new minimum for x:0.7499999999999998, T:315.7894736842105 fun: 2.24769826690206\n",
      "Found new minimum for x:0.7499999999999998, T:315.7894736842105 fun: 2.017960556804902\n",
      "Found new minimum for x:0.7499999999999998, T:315.7894736842105 fun: 1.9617056125850245\n"
     ]
    },
    {
     "data": {
      "application/vnd.jupyter.widget-view+json": {
       "model_id": "3a0c621eca3547ec9c48f455225a3d39",
       "version_major": 2,
       "version_minor": 0
      },
      "text/plain": [
       "  0%|          | 0/500 [00:00<?, ?it/s]"
      ]
     },
     "metadata": {},
     "output_type": "display_data"
    },
    {
     "name": "stdout",
     "output_type": "stream",
     "text": [
      "Found new minimum for x:0.9999999999999998, T:315.7894736842105 fun: 3.9999998913230828\n",
      "Found new minimum for x:0.9999999999999998, T:315.7894736842105 fun: 3.999999813957866\n",
      "Found new minimum for x:0.9999999999999998, T:315.7894736842105 fun: 3.9999998060944426\n",
      "Found new minimum for x:0.9999999999999998, T:315.7894736842105 fun: 3.9999998024148904\n",
      "Found new minimum for x:0.9999999999999998, T:315.7894736842105 fun: 3.9999998012222737\n",
      "Found new minimum for x:0.9999999999999998, T:315.7894736842105 fun: 3.9999997974349943\n",
      "Found new minimum for x:0.9999999999999998, T:315.7894736842105 fun: 3.9999997971789836\n",
      "Found new minimum for x:0.9999999999999998, T:315.7894736842105 fun: 3.9999997918423014\n"
     ]
    },
    {
     "data": {
      "application/vnd.jupyter.widget-view+json": {
       "model_id": "30c307c29ae643cb8d63eba9a7c74a6f",
       "version_major": 2,
       "version_minor": 0
      },
      "text/plain": [
       "  0%|          | 0/9 [00:00<?, ?it/s]"
      ]
     },
     "metadata": {},
     "output_type": "display_data"
    },
    {
     "data": {
      "application/vnd.jupyter.widget-view+json": {
       "model_id": "1f5f509d93cd49019286c70461bf7d3e",
       "version_major": 2,
       "version_minor": 0
      },
      "text/plain": [
       "  0%|          | 0/500 [00:00<?, ?it/s]"
      ]
     },
     "metadata": {},
     "output_type": "display_data"
    },
    {
     "name": "stdout",
     "output_type": "stream",
     "text": [
      "Found new minimum for x:-0.9999999999999998, T:421.05263157894734 fun: 3.999999825938754\n",
      "Found new minimum for x:-0.9999999999999998, T:421.05263157894734 fun: 3.999999817381552\n",
      "Found new minimum for x:-0.9999999999999998, T:421.05263157894734 fun: 3.999999805953378\n",
      "Found new minimum for x:-0.9999999999999998, T:421.05263157894734 fun: 3.9999997974779054\n",
      "Found new minimum for x:-0.9999999999999998, T:421.05263157894734 fun: 3.999999793585185\n",
      "Found new minimum for x:-0.9999999999999998, T:421.05263157894734 fun: 3.9999997876896636\n"
     ]
    },
    {
     "data": {
      "application/vnd.jupyter.widget-view+json": {
       "model_id": "6ad6f81c64594ac9b1a3775e77479550",
       "version_major": 2,
       "version_minor": 0
      },
      "text/plain": [
       "  0%|          | 0/500 [00:00<?, ?it/s]"
      ]
     },
     "metadata": {},
     "output_type": "display_data"
    },
    {
     "name": "stdout",
     "output_type": "stream",
     "text": [
      "Found new minimum for x:-0.7499999999999998, T:421.05263157894734 fun: 2.592120830261999\n",
      "Found new minimum for x:-0.7499999999999998, T:421.05263157894734 fun: 2.4979290827277976\n",
      "Found new minimum for x:-0.7499999999999998, T:421.05263157894734 fun: 2.4798201205720103\n",
      "Found new minimum for x:-0.7499999999999998, T:421.05263157894734 fun: 2.4141694860397824\n",
      "Found new minimum for x:-0.7499999999999998, T:421.05263157894734 fun: 2.4039140532956123\n",
      "Found new minimum for x:-0.7499999999999998, T:421.05263157894734 fun: 2.3582723442744498\n",
      "Found new minimum for x:-0.7499999999999998, T:421.05263157894734 fun: 2.062161192326227\n",
      "Found new minimum for x:-0.7499999999999998, T:421.05263157894734 fun: 1.9489409245185754\n"
     ]
    },
    {
     "data": {
      "application/vnd.jupyter.widget-view+json": {
       "model_id": "78059e1181cc4b28910a401f44c60e1f",
       "version_major": 2,
       "version_minor": 0
      },
      "text/plain": [
       "  0%|          | 0/500 [00:00<?, ?it/s]"
      ]
     },
     "metadata": {},
     "output_type": "display_data"
    },
    {
     "name": "stdout",
     "output_type": "stream",
     "text": [
      "Found new minimum for x:-0.4999999999999999, T:421.05263157894734 fun: 0.7484541495586858\n",
      "Found new minimum for x:-0.4999999999999999, T:421.05263157894734 fun: 0.45502688960994014\n",
      "Found new minimum for x:-0.4999999999999999, T:421.05263157894734 fun: 0.4241282635384258\n",
      "Found new minimum for x:-0.4999999999999999, T:421.05263157894734 fun: 0.4103750474392324\n",
      "Found new minimum for x:-0.4999999999999999, T:421.05263157894734 fun: 0.3995511008216227\n",
      "Found new minimum for x:-0.4999999999999999, T:421.05263157894734 fun: -0.05499136254531959\n",
      "Found new minimum for x:-0.4999999999999999, T:421.05263157894734 fun: -0.0676719017123504\n"
     ]
    },
    {
     "data": {
      "application/vnd.jupyter.widget-view+json": {
       "model_id": "063c4db8abf8437d8abb4a5e2a4f6319",
       "version_major": 2,
       "version_minor": 0
      },
      "text/plain": [
       "  0%|          | 0/500 [00:00<?, ?it/s]"
      ]
     },
     "metadata": {},
     "output_type": "display_data"
    },
    {
     "name": "stdout",
     "output_type": "stream",
     "text": [
      "Found new minimum for x:-0.25, T:421.05263157894734 fun: 0.5981340564621055\n",
      "Found new minimum for x:-0.25, T:421.05263157894734 fun: 0.006940785701923427\n",
      "Found new minimum for x:-0.25, T:421.05263157894734 fun: -0.5167310850225497\n",
      "Found new minimum for x:-0.25, T:421.05263157894734 fun: -0.7762038140144503\n",
      "Found new minimum for x:-0.25, T:421.05263157894734 fun: -1.058814313491951\n",
      "Found new minimum for x:-0.25, T:421.05263157894734 fun: -1.211461423160466\n"
     ]
    },
    {
     "data": {
      "application/vnd.jupyter.widget-view+json": {
       "model_id": "22c4c629147b48cb807436bdcf0565c2",
       "version_major": 2,
       "version_minor": 0
      },
      "text/plain": [
       "  0%|          | 0/500 [00:00<?, ?it/s]"
      ]
     },
     "metadata": {},
     "output_type": "display_data"
    },
    {
     "name": "stdout",
     "output_type": "stream",
     "text": [
      "Found new minimum for x:0.0, T:421.05263157894734 fun: 1.7635761273963506\n",
      "Found new minimum for x:0.0, T:421.05263157894734 fun: -0.6383878224135693\n",
      "Found new minimum for x:0.0, T:421.05263157894734 fun: -0.8721406944838724\n",
      "Found new minimum for x:0.0, T:421.05263157894734 fun: -1.0159568137433634\n",
      "Found new minimum for x:0.0, T:421.05263157894734 fun: -1.889491750489284\n",
      "Found new minimum for x:0.0, T:421.05263157894734 fun: -3.5225418430616022\n"
     ]
    },
    {
     "data": {
      "application/vnd.jupyter.widget-view+json": {
       "model_id": "f743f3e4739541f79e1256b51b6bb893",
       "version_major": 2,
       "version_minor": 0
      },
      "text/plain": [
       "  0%|          | 0/500 [00:00<?, ?it/s]"
      ]
     },
     "metadata": {},
     "output_type": "display_data"
    },
    {
     "name": "stdout",
     "output_type": "stream",
     "text": [
      "Found new minimum for x:0.25, T:421.05263157894734 fun: 0.6778659299060804\n",
      "Found new minimum for x:0.25, T:421.05263157894734 fun: -0.5624399744619267\n",
      "Found new minimum for x:0.25, T:421.05263157894734 fun: -0.7526265444926129\n",
      "Found new minimum for x:0.25, T:421.05263157894734 fun: -0.8255773284325526\n",
      "Found new minimum for x:0.25, T:421.05263157894734 fun: -0.900166859226506\n",
      "Found new minimum for x:0.25, T:421.05263157894734 fun: -1.1422218455280349\n",
      "Found new minimum for x:0.25, T:421.05263157894734 fun: -2.0678745992545124\n"
     ]
    },
    {
     "data": {
      "application/vnd.jupyter.widget-view+json": {
       "model_id": "81f360e506184c209a6d517cad9165c1",
       "version_major": 2,
       "version_minor": 0
      },
      "text/plain": [
       "  0%|          | 0/500 [00:00<?, ?it/s]"
      ]
     },
     "metadata": {},
     "output_type": "display_data"
    },
    {
     "name": "stdout",
     "output_type": "stream",
     "text": [
      "Found new minimum for x:0.4999999999999998, T:421.05263157894734 fun: 1.4135483804854676\n",
      "Found new minimum for x:0.4999999999999998, T:421.05263157894734 fun: 1.1755820546114064\n",
      "Found new minimum for x:0.4999999999999998, T:421.05263157894734 fun: 1.0972232221810931\n",
      "Found new minimum for x:0.4999999999999998, T:421.05263157894734 fun: 1.0511638147597804\n",
      "Found new minimum for x:0.4999999999999998, T:421.05263157894734 fun: 0.9656903129292201\n",
      "Found new minimum for x:0.4999999999999998, T:421.05263157894734 fun: 0.674304788188702\n",
      "Found new minimum for x:0.4999999999999998, T:421.05263157894734 fun: 0.40927437705015257\n",
      "Found new minimum for x:0.4999999999999998, T:421.05263157894734 fun: 0.35114696260941963\n",
      "Found new minimum for x:0.4999999999999998, T:421.05263157894734 fun: 0.33072165537890813\n",
      "Found new minimum for x:0.4999999999999998, T:421.05263157894734 fun: 0.22442107078484375\n",
      "Found new minimum for x:0.4999999999999998, T:421.05263157894734 fun: -0.002432100971925144\n"
     ]
    },
    {
     "data": {
      "application/vnd.jupyter.widget-view+json": {
       "model_id": "15c77af9d28c4f3593b3ec6e9123eacc",
       "version_major": 2,
       "version_minor": 0
      },
      "text/plain": [
       "  0%|          | 0/500 [00:00<?, ?it/s]"
      ]
     },
     "metadata": {},
     "output_type": "display_data"
    },
    {
     "name": "stdout",
     "output_type": "stream",
     "text": [
      "Found new minimum for x:0.7499999999999998, T:421.05263157894734 fun: 2.5472440317405374\n",
      "Found new minimum for x:0.7499999999999998, T:421.05263157894734 fun: 2.456513797010471\n",
      "Found new minimum for x:0.7499999999999998, T:421.05263157894734 fun: 2.344840748238217\n",
      "Found new minimum for x:0.7499999999999998, T:421.05263157894734 fun: 2.1826957567057366\n",
      "Found new minimum for x:0.7499999999999998, T:421.05263157894734 fun: 2.0569509094333474\n",
      "Found new minimum for x:0.7499999999999998, T:421.05263157894734 fun: 1.9849409558495559\n"
     ]
    },
    {
     "data": {
      "application/vnd.jupyter.widget-view+json": {
       "model_id": "dff3c766fdec43ce92306afeb5bfdbd1",
       "version_major": 2,
       "version_minor": 0
      },
      "text/plain": [
       "  0%|          | 0/500 [00:00<?, ?it/s]"
      ]
     },
     "metadata": {},
     "output_type": "display_data"
    },
    {
     "name": "stdout",
     "output_type": "stream",
     "text": [
      "Found new minimum for x:0.9999999999999998, T:421.05263157894734 fun: 3.9999998719478826\n",
      "Found new minimum for x:0.9999999999999998, T:421.05263157894734 fun: 3.999999841749159\n",
      "Found new minimum for x:0.9999999999999998, T:421.05263157894734 fun: 3.9999998263641445\n",
      "Found new minimum for x:0.9999999999999998, T:421.05263157894734 fun: 3.9999998097812113\n",
      "Found new minimum for x:0.9999999999999998, T:421.05263157894734 fun: 3.999999787613946\n"
     ]
    },
    {
     "data": {
      "application/vnd.jupyter.widget-view+json": {
       "model_id": "9815522d0cac4f8e98576161b1972242",
       "version_major": 2,
       "version_minor": 0
      },
      "text/plain": [
       "  0%|          | 0/9 [00:00<?, ?it/s]"
      ]
     },
     "metadata": {},
     "output_type": "display_data"
    },
    {
     "data": {
      "application/vnd.jupyter.widget-view+json": {
       "model_id": "d9ca3dfd06804779991771476aac18a6",
       "version_major": 2,
       "version_minor": 0
      },
      "text/plain": [
       "  0%|          | 0/500 [00:00<?, ?it/s]"
      ]
     },
     "metadata": {},
     "output_type": "display_data"
    },
    {
     "name": "stdout",
     "output_type": "stream",
     "text": [
      "Found new minimum for x:-0.9999999999999998, T:526.3157894736842 fun: 3.9999998825515837\n",
      "Found new minimum for x:-0.9999999999999998, T:526.3157894736842 fun: 3.9999997855028955\n",
      "Found new minimum for x:-0.9999999999999998, T:526.3157894736842 fun: 3.9999997818456516\n",
      "Found new minimum for x:-0.9999999999999998, T:526.3157894736842 fun: 3.9999997794444915\n"
     ]
    },
    {
     "data": {
      "application/vnd.jupyter.widget-view+json": {
       "model_id": "889b2b1ae8af41e3afd3fddc64dbda9b",
       "version_major": 2,
       "version_minor": 0
      },
      "text/plain": [
       "  0%|          | 0/500 [00:00<?, ?it/s]"
      ]
     },
     "metadata": {},
     "output_type": "display_data"
    },
    {
     "name": "stdout",
     "output_type": "stream",
     "text": [
      "Found new minimum for x:-0.7499999999999998, T:526.3157894736842 fun: 2.480841475642543\n",
      "Found new minimum for x:-0.7499999999999998, T:526.3157894736842 fun: 2.4150378961427776\n",
      "Found new minimum for x:-0.7499999999999998, T:526.3157894736842 fun: 2.3869129896196277\n",
      "Found new minimum for x:-0.7499999999999998, T:526.3157894736842 fun: 2.274952175184242\n",
      "Found new minimum for x:-0.7499999999999998, T:526.3157894736842 fun: 2.268800901295011\n",
      "Found new minimum for x:-0.7499999999999998, T:526.3157894736842 fun: 2.2549651387854523\n",
      "Found new minimum for x:-0.7499999999999998, T:526.3157894736842 fun: 2.0929756201368086\n",
      "Found new minimum for x:-0.7499999999999998, T:526.3157894736842 fun: 1.937264323830726\n",
      "Found new minimum for x:-0.7499999999999998, T:526.3157894736842 fun: 1.9361761040529761\n"
     ]
    },
    {
     "data": {
      "application/vnd.jupyter.widget-view+json": {
       "model_id": "1acb4150b0e04878b23f3f8719092c36",
       "version_major": 2,
       "version_minor": 0
      },
      "text/plain": [
       "  0%|          | 0/500 [00:00<?, ?it/s]"
      ]
     },
     "metadata": {},
     "output_type": "display_data"
    },
    {
     "name": "stdout",
     "output_type": "stream",
     "text": [
      "Found new minimum for x:-0.4999999999999999, T:526.3157894736842 fun: 1.068459122055876\n",
      "Found new minimum for x:-0.4999999999999999, T:526.3157894736842 fun: 1.0232601230333755\n",
      "Found new minimum for x:-0.4999999999999999, T:526.3157894736842 fun: 0.6834353303532299\n",
      "Found new minimum for x:-0.4999999999999999, T:526.3157894736842 fun: 0.5611842257435693\n",
      "Found new minimum for x:-0.4999999999999999, T:526.3157894736842 fun: 0.4973805556467987\n",
      "Found new minimum for x:-0.4999999999999999, T:526.3157894736842 fun: 0.3335466862268267\n",
      "Found new minimum for x:-0.4999999999999999, T:526.3157894736842 fun: -0.004183151456529602\n",
      "Found new minimum for x:-0.4999999999999999, T:526.3157894736842 fun: -0.060815296955462284\n"
     ]
    },
    {
     "data": {
      "application/vnd.jupyter.widget-view+json": {
       "model_id": "dc8f7dd1e17043049c10009bbb129782",
       "version_major": 2,
       "version_minor": 0
      },
      "text/plain": [
       "  0%|          | 0/500 [00:00<?, ?it/s]"
      ]
     },
     "metadata": {},
     "output_type": "display_data"
    },
    {
     "name": "stdout",
     "output_type": "stream",
     "text": [
      "Found new minimum for x:-0.25, T:526.3157894736842 fun: 0.36597652809729575\n",
      "Found new minimum for x:-0.25, T:526.3157894736842 fun: 0.2680331520803504\n",
      "Found new minimum for x:-0.25, T:526.3157894736842 fun: -0.12044029075903079\n",
      "Found new minimum for x:-0.25, T:526.3157894736842 fun: -0.39906225102016074\n",
      "Found new minimum for x:-0.25, T:526.3157894736842 fun: -1.1121984843689814\n",
      "Found new minimum for x:-0.25, T:526.3157894736842 fun: -1.1141511635330226\n",
      "Found new minimum for x:-0.25, T:526.3157894736842 fun: -2.0835643225231566\n"
     ]
    },
    {
     "data": {
      "application/vnd.jupyter.widget-view+json": {
       "model_id": "f0f2a26dda1247a4aace9ed5f333dbf1",
       "version_major": 2,
       "version_minor": 0
      },
      "text/plain": [
       "  0%|          | 0/500 [00:00<?, ?it/s]"
      ]
     },
     "metadata": {},
     "output_type": "display_data"
    },
    {
     "name": "stdout",
     "output_type": "stream",
     "text": [
      "Found new minimum for x:0.0, T:526.3157894736842 fun: 0.15419822912804076\n",
      "Found new minimum for x:0.0, T:526.3157894736842 fun: -0.00813319736972773\n",
      "Found new minimum for x:0.0, T:526.3157894736842 fun: -3.1222361274527715\n"
     ]
    },
    {
     "data": {
      "application/vnd.jupyter.widget-view+json": {
       "model_id": "8e491555aaf84ec6b23d3fefe8e4446c",
       "version_major": 2,
       "version_minor": 0
      },
      "text/plain": [
       "  0%|          | 0/500 [00:00<?, ?it/s]"
      ]
     },
     "metadata": {},
     "output_type": "display_data"
    },
    {
     "name": "stdout",
     "output_type": "stream",
     "text": [
      "Found new minimum for x:0.25, T:526.3157894736842 fun: 0.4739250120308237\n",
      "Found new minimum for x:0.25, T:526.3157894736842 fun: 0.34252211598378934\n",
      "Found new minimum for x:0.25, T:526.3157894736842 fun: 0.321818473434305\n",
      "Found new minimum for x:0.25, T:526.3157894736842 fun: 0.1183201175473425\n",
      "Found new minimum for x:0.25, T:526.3157894736842 fun: 0.012669650518249878\n",
      "Found new minimum for x:0.25, T:526.3157894736842 fun: 0.006015133705128475\n",
      "Found new minimum for x:0.25, T:526.3157894736842 fun: -0.6760516889359232\n",
      "Found new minimum for x:0.25, T:526.3157894736842 fun: -1.0096340563684518\n",
      "Found new minimum for x:0.25, T:526.3157894736842 fun: -1.0828465892767998\n"
     ]
    },
    {
     "data": {
      "application/vnd.jupyter.widget-view+json": {
       "model_id": "f7f4f173ada142f19d04e01f692e19dc",
       "version_major": 2,
       "version_minor": 0
      },
      "text/plain": [
       "  0%|          | 0/500 [00:00<?, ?it/s]"
      ]
     },
     "metadata": {},
     "output_type": "display_data"
    },
    {
     "name": "stdout",
     "output_type": "stream",
     "text": [
      "Found new minimum for x:0.4999999999999998, T:526.3157894736842 fun: 1.1750996442127175\n",
      "Found new minimum for x:0.4999999999999998, T:526.3157894736842 fun: 1.1106979462926865\n",
      "Found new minimum for x:0.4999999999999998, T:526.3157894736842 fun: 1.0761407448616842\n",
      "Found new minimum for x:0.4999999999999998, T:526.3157894736842 fun: 0.9845418625565519\n",
      "Found new minimum for x:0.4999999999999998, T:526.3157894736842 fun: 0.9457804207934569\n",
      "Found new minimum for x:0.4999999999999998, T:526.3157894736842 fun: 0.860415648572771\n",
      "Found new minimum for x:0.4999999999999998, T:526.3157894736842 fun: 0.7346309290421806\n",
      "Found new minimum for x:0.4999999999999998, T:526.3157894736842 fun: 0.17399489036416155\n",
      "Found new minimum for x:0.4999999999999998, T:526.3157894736842 fun: -0.08968617205467459\n"
     ]
    },
    {
     "data": {
      "application/vnd.jupyter.widget-view+json": {
       "model_id": "1b41801812ca480ea62ade222b7a4f01",
       "version_major": 2,
       "version_minor": 0
      },
      "text/plain": [
       "  0%|          | 0/500 [00:00<?, ?it/s]"
      ]
     },
     "metadata": {},
     "output_type": "display_data"
    },
    {
     "name": "stdout",
     "output_type": "stream",
     "text": [
      "Found new minimum for x:0.7499999999999998, T:526.3157894736842 fun: 2.450025014231122\n",
      "Found new minimum for x:0.7499999999999998, T:526.3157894736842 fun: 2.380508625890632\n",
      "Found new minimum for x:0.7499999999999998, T:526.3157894736842 fun: 2.252005353916682\n",
      "Found new minimum for x:0.7499999999999998, T:526.3157894736842 fun: 2.2113022613815767\n",
      "Found new minimum for x:0.7499999999999998, T:526.3157894736842 fun: 1.9365953673815848\n"
     ]
    },
    {
     "data": {
      "application/vnd.jupyter.widget-view+json": {
       "model_id": "c057d60b2abd472183070df7a30f97e5",
       "version_major": 2,
       "version_minor": 0
      },
      "text/plain": [
       "  0%|          | 0/500 [00:00<?, ?it/s]"
      ]
     },
     "metadata": {},
     "output_type": "display_data"
    },
    {
     "name": "stdout",
     "output_type": "stream",
     "text": [
      "Found new minimum for x:0.9999999999999998, T:526.3157894736842 fun: 3.9999998925234985\n",
      "Found new minimum for x:0.9999999999999998, T:526.3157894736842 fun: 3.999999861139392\n",
      "Found new minimum for x:0.9999999999999998, T:526.3157894736842 fun: 3.9999998284931357\n",
      "Found new minimum for x:0.9999999999999998, T:526.3157894736842 fun: 3.9999998161807624\n",
      "Found new minimum for x:0.9999999999999998, T:526.3157894736842 fun: 3.9999997890976275\n",
      "Found new minimum for x:0.9999999999999998, T:526.3157894736842 fun: 3.999999787471212\n",
      "Found new minimum for x:0.9999999999999998, T:526.3157894736842 fun: 3.9999997856406457\n",
      "Found new minimum for x:0.9999999999999998, T:526.3157894736842 fun: 3.9999997769135933\n",
      "Found new minimum for x:0.9999999999999998, T:526.3157894736842 fun: 3.9999997764496618\n"
     ]
    },
    {
     "data": {
      "application/vnd.jupyter.widget-view+json": {
       "model_id": "329a7e0d496e41b8b0142ac803fd59af",
       "version_major": 2,
       "version_minor": 0
      },
      "text/plain": [
       "  0%|          | 0/9 [00:00<?, ?it/s]"
      ]
     },
     "metadata": {},
     "output_type": "display_data"
    },
    {
     "data": {
      "application/vnd.jupyter.widget-view+json": {
       "model_id": "4b92995f4c214c1890c3f05dd80e8253",
       "version_major": 2,
       "version_minor": 0
      },
      "text/plain": [
       "  0%|          | 0/500 [00:00<?, ?it/s]"
      ]
     },
     "metadata": {},
     "output_type": "display_data"
    },
    {
     "name": "stdout",
     "output_type": "stream",
     "text": [
      "Found new minimum for x:-0.9999999999999998, T:631.578947368421 fun: 3.999999880818032\n",
      "Found new minimum for x:-0.9999999999999998, T:631.578947368421 fun: 3.9999998690961505\n",
      "Found new minimum for x:-0.9999999999999998, T:631.578947368421 fun: 3.9999998318164014\n",
      "Found new minimum for x:-0.9999999999999998, T:631.578947368421 fun: 3.999999822769371\n",
      "Found new minimum for x:-0.9999999999999998, T:631.578947368421 fun: 3.999999789086232\n",
      "Found new minimum for x:-0.9999999999999998, T:631.578947368421 fun: 3.999999782100259\n",
      "Found new minimum for x:-0.9999999999999998, T:631.578947368421 fun: 3.9999997813398913\n",
      "Found new minimum for x:-0.9999999999999998, T:631.578947368421 fun: 3.9999997781696965\n",
      "Found new minimum for x:-0.9999999999999998, T:631.578947368421 fun: 3.99999977783694\n",
      "Found new minimum for x:-0.9999999999999998, T:631.578947368421 fun: 3.999999771352719\n"
     ]
    },
    {
     "data": {
      "application/vnd.jupyter.widget-view+json": {
       "model_id": "b7d4fc5f156a4e239c142718a13f0cd2",
       "version_major": 2,
       "version_minor": 0
      },
      "text/plain": [
       "  0%|          | 0/500 [00:00<?, ?it/s]"
      ]
     },
     "metadata": {},
     "output_type": "display_data"
    },
    {
     "name": "stdout",
     "output_type": "stream",
     "text": [
      "Found new minimum for x:-0.7499999999999998, T:631.578947368421 fun: 2.601281320309628\n",
      "Found new minimum for x:-0.7499999999999998, T:631.578947368421 fun: 2.452031552540542\n",
      "Found new minimum for x:-0.7499999999999998, T:631.578947368421 fun: 2.419998494222805\n",
      "Found new minimum for x:-0.7499999999999998, T:631.578947368421 fun: 2.3591052132145727\n",
      "Found new minimum for x:-0.7499999999999998, T:631.578947368421 fun: 2.359104604223859\n",
      "Found new minimum for x:-0.7499999999999998, T:631.578947368421 fun: 2.2565793391616586\n",
      "Found new minimum for x:-0.7499999999999998, T:631.578947368421 fun: 2.1444204047956967\n",
      "Found new minimum for x:-0.7499999999999998, T:631.578947368421 fun: 1.9493735385557143\n",
      "Found new minimum for x:-0.7499999999999998, T:631.578947368421 fun: 1.9277322202102598\n",
      "Found new minimum for x:-0.7499999999999998, T:631.578947368421 fun: 1.9234115490983001\n"
     ]
    },
    {
     "data": {
      "application/vnd.jupyter.widget-view+json": {
       "model_id": "4b6f83fd20a24fddba7248426f304736",
       "version_major": 2,
       "version_minor": 0
      },
      "text/plain": [
       "  0%|          | 0/500 [00:00<?, ?it/s]"
      ]
     },
     "metadata": {},
     "output_type": "display_data"
    },
    {
     "name": "stdout",
     "output_type": "stream",
     "text": [
      "Found new minimum for x:-0.4999999999999999, T:631.578947368421 fun: 0.7154594894429004\n",
      "Found new minimum for x:-0.4999999999999999, T:631.578947368421 fun: 0.36893357727249665\n",
      "Found new minimum for x:-0.4999999999999999, T:631.578947368421 fun: 0.3202770394017671\n",
      "Found new minimum for x:-0.4999999999999999, T:631.578947368421 fun: 0.09196395722037079\n",
      "Found new minimum for x:-0.4999999999999999, T:631.578947368421 fun: -0.0698304261005939\n",
      "Found new minimum for x:-0.4999999999999999, T:631.578947368421 fun: -0.07351799519384986\n"
     ]
    },
    {
     "data": {
      "application/vnd.jupyter.widget-view+json": {
       "model_id": "05b2c992915647819f1f64013c59a6d7",
       "version_major": 2,
       "version_minor": 0
      },
      "text/plain": [
       "  0%|          | 0/500 [00:00<?, ?it/s]"
      ]
     },
     "metadata": {},
     "output_type": "display_data"
    },
    {
     "name": "stdout",
     "output_type": "stream",
     "text": [
      "Found new minimum for x:-0.25, T:631.578947368421 fun: 1.2909512162490986\n",
      "Found new minimum for x:-0.25, T:631.578947368421 fun: 0.2591669046894351\n",
      "Found new minimum for x:-0.25, T:631.578947368421 fun: -0.3063399551504985\n",
      "Found new minimum for x:-0.25, T:631.578947368421 fun: -0.42610743047796384\n",
      "Found new minimum for x:-0.25, T:631.578947368421 fun: -1.4150035362093802\n"
     ]
    },
    {
     "data": {
      "application/vnd.jupyter.widget-view+json": {
       "model_id": "1b84c1de8aa348ffab58dc5aff5a70b7",
       "version_major": 2,
       "version_minor": 0
      },
      "text/plain": [
       "  0%|          | 0/500 [00:00<?, ?it/s]"
      ]
     },
     "metadata": {},
     "output_type": "display_data"
    },
    {
     "name": "stdout",
     "output_type": "stream",
     "text": [
      "Found new minimum for x:0.0, T:631.578947368421 fun: 0.5050290514179218\n",
      "Found new minimum for x:0.0, T:631.578947368421 fun: 0.2632350458449568\n",
      "Found new minimum for x:0.0, T:631.578947368421 fun: -0.5317556099515565\n",
      "Found new minimum for x:0.0, T:631.578947368421 fun: -0.7437491262136585\n",
      "Found new minimum for x:0.0, T:631.578947368421 fun: -0.8183280026612498\n",
      "Found new minimum for x:0.0, T:631.578947368421 fun: -1.473237230522654\n",
      "Found new minimum for x:0.0, T:631.578947368421 fun: -1.6542447716655895\n",
      "Found new minimum for x:0.0, T:631.578947368421 fun: -2.4570451843322134\n",
      "Found new minimum for x:0.0, T:631.578947368421 fun: -2.9095130354594736\n"
     ]
    },
    {
     "data": {
      "application/vnd.jupyter.widget-view+json": {
       "model_id": "8c954286d55d4eda91368ce37db9198d",
       "version_major": 2,
       "version_minor": 0
      },
      "text/plain": [
       "  0%|          | 0/500 [00:00<?, ?it/s]"
      ]
     },
     "metadata": {},
     "output_type": "display_data"
    },
    {
     "name": "stdout",
     "output_type": "stream",
     "text": [
      "Found new minimum for x:0.25, T:631.578947368421 fun: 0.12388247182291656\n",
      "Found new minimum for x:0.25, T:631.578947368421 fun: -0.1656264545594974\n",
      "Found new minimum for x:0.25, T:631.578947368421 fun: -0.213703945802955\n",
      "Found new minimum for x:0.25, T:631.578947368421 fun: -0.8725407692108202\n",
      "Found new minimum for x:0.25, T:631.578947368421 fun: -0.8726233698629204\n",
      "Found new minimum for x:0.25, T:631.578947368421 fun: -0.9666515569163001\n",
      "Found new minimum for x:0.25, T:631.578947368421 fun: -1.333194409423753\n"
     ]
    },
    {
     "data": {
      "application/vnd.jupyter.widget-view+json": {
       "model_id": "6de617e53af842c99ab522c14c0068b9",
       "version_major": 2,
       "version_minor": 0
      },
      "text/plain": [
       "  0%|          | 0/500 [00:00<?, ?it/s]"
      ]
     },
     "metadata": {},
     "output_type": "display_data"
    },
    {
     "name": "stdout",
     "output_type": "stream",
     "text": [
      "Found new minimum for x:0.4999999999999998, T:631.578947368421 fun: 1.7044547457060237\n",
      "Found new minimum for x:0.4999999999999998, T:631.578947368421 fun: 0.9979156152286155\n",
      "Found new minimum for x:0.4999999999999998, T:631.578947368421 fun: 0.7381279049262971\n",
      "Found new minimum for x:0.4999999999999998, T:631.578947368421 fun: 0.7034982227140578\n",
      "Found new minimum for x:0.4999999999999998, T:631.578947368421 fun: 0.5286121478218975\n",
      "Found new minimum for x:0.4999999999999998, T:631.578947368421 fun: 0.5010705776489444\n",
      "Found new minimum for x:0.4999999999999998, T:631.578947368421 fun: 0.13340402672966997\n",
      "Found new minimum for x:0.4999999999999998, T:631.578947368421 fun: -0.007184403047379953\n",
      "Found new minimum for x:0.4999999999999998, T:631.578947368421 fun: -0.10190227602509229\n"
     ]
    },
    {
     "data": {
      "application/vnd.jupyter.widget-view+json": {
       "model_id": "391dceb31c064481a7a18d6cc117ac19",
       "version_major": 2,
       "version_minor": 0
      },
      "text/plain": [
       "  0%|          | 0/500 [00:00<?, ?it/s]"
      ]
     },
     "metadata": {},
     "output_type": "display_data"
    },
    {
     "name": "stdout",
     "output_type": "stream",
     "text": [
      "Found new minimum for x:0.7499999999999998, T:631.578947368421 fun: 2.5511987278348958\n",
      "Found new minimum for x:0.7499999999999998, T:631.578947368421 fun: 2.434040391848716\n",
      "Found new minimum for x:0.7499999999999998, T:631.578947368421 fun: 2.4325373085069972\n",
      "Found new minimum for x:0.7499999999999998, T:631.578947368421 fun: 2.3949657000867512\n",
      "Found new minimum for x:0.7499999999999998, T:631.578947368421 fun: 2.1807519085865548\n",
      "Found new minimum for x:0.7499999999999998, T:631.578947368421 fun: 2.0478341225793666\n",
      "Found new minimum for x:0.7499999999999998, T:631.578947368421 fun: 1.9239651894253942\n",
      "Found new minimum for x:0.7499999999999998, T:631.578947368421 fun: 1.9234114701804677\n"
     ]
    },
    {
     "data": {
      "application/vnd.jupyter.widget-view+json": {
       "model_id": "b48f7f95a2a94a7c8651da58a3cd8e97",
       "version_major": 2,
       "version_minor": 0
      },
      "text/plain": [
       "  0%|          | 0/500 [00:00<?, ?it/s]"
      ]
     },
     "metadata": {},
     "output_type": "display_data"
    },
    {
     "name": "stdout",
     "output_type": "stream",
     "text": [
      "Found new minimum for x:0.9999999999999998, T:631.578947368421 fun: 3.9999998220193644\n",
      "Found new minimum for x:0.9999999999999998, T:631.578947368421 fun: 3.9999997955431628\n",
      "Found new minimum for x:0.9999999999999998, T:631.578947368421 fun: 3.9999997951272706\n",
      "Found new minimum for x:0.9999999999999998, T:631.578947368421 fun: 3.9999997848694617\n",
      "Found new minimum for x:0.9999999999999998, T:631.578947368421 fun: 3.9999997751810867\n"
     ]
    },
    {
     "data": {
      "application/vnd.jupyter.widget-view+json": {
       "model_id": "482193dd0ef047cb931a5bc2d202a92d",
       "version_major": 2,
       "version_minor": 0
      },
      "text/plain": [
       "  0%|          | 0/9 [00:00<?, ?it/s]"
      ]
     },
     "metadata": {},
     "output_type": "display_data"
    },
    {
     "data": {
      "application/vnd.jupyter.widget-view+json": {
       "model_id": "a206d9cf8144462e81351946c94b2661",
       "version_major": 2,
       "version_minor": 0
      },
      "text/plain": [
       "  0%|          | 0/500 [00:00<?, ?it/s]"
      ]
     },
     "metadata": {},
     "output_type": "display_data"
    },
    {
     "name": "stdout",
     "output_type": "stream",
     "text": [
      "Found new minimum for x:-0.9999999999999998, T:736.8421052631578 fun: 3.9999998738654976\n",
      "Found new minimum for x:-0.9999999999999998, T:736.8421052631578 fun: 3.9999998515844983\n",
      "Found new minimum for x:-0.9999999999999998, T:736.8421052631578 fun: 3.999999816099189\n",
      "Found new minimum for x:-0.9999999999999998, T:736.8421052631578 fun: 3.999999798617907\n",
      "Found new minimum for x:-0.9999999999999998, T:736.8421052631578 fun: 3.999999783616294\n",
      "Found new minimum for x:-0.9999999999999998, T:736.8421052631578 fun: 3.999999782763565\n",
      "Found new minimum for x:-0.9999999999999998, T:736.8421052631578 fun: 3.999999781087093\n",
      "Found new minimum for x:-0.9999999999999998, T:736.8421052631578 fun: 3.999999769819305\n",
      "Found new minimum for x:-0.9999999999999998, T:736.8421052631578 fun: 3.9999997654070243\n"
     ]
    },
    {
     "data": {
      "application/vnd.jupyter.widget-view+json": {
       "model_id": "97c9a9ca5bd245359bd9ca427b5d2f0e",
       "version_major": 2,
       "version_minor": 0
      },
      "text/plain": [
       "  0%|          | 0/500 [00:00<?, ?it/s]"
      ]
     },
     "metadata": {},
     "output_type": "display_data"
    },
    {
     "name": "stdout",
     "output_type": "stream",
     "text": [
      "Found new minimum for x:-0.7499999999999998, T:736.8421052631578 fun: 2.2705320753971137\n",
      "Found new minimum for x:-0.7499999999999998, T:736.8421052631578 fun: 1.9197386628651152\n",
      "Found new minimum for x:-0.7499999999999998, T:736.8421052631578 fun: 1.9106474582923774\n",
      "Found new minimum for x:-0.7499999999999998, T:736.8421052631578 fun: 1.9106466622934213\n",
      "Found new minimum for x:-0.7499999999999998, T:736.8421052631578 fun: 1.9106466605113273\n"
     ]
    },
    {
     "data": {
      "application/vnd.jupyter.widget-view+json": {
       "model_id": "b869f73fd657474a897bd2c635e8cd3b",
       "version_major": 2,
       "version_minor": 0
      },
      "text/plain": [
       "  0%|          | 0/500 [00:00<?, ?it/s]"
      ]
     },
     "metadata": {},
     "output_type": "display_data"
    },
    {
     "name": "stdout",
     "output_type": "stream",
     "text": [
      "Found new minimum for x:-0.4999999999999999, T:736.8421052631578 fun: 0.7341245911093915\n",
      "Found new minimum for x:-0.4999999999999999, T:736.8421052631578 fun: 0.6282077478528008\n",
      "Found new minimum for x:-0.4999999999999999, T:736.8421052631578 fun: 0.5219681214280578\n",
      "Found new minimum for x:-0.4999999999999999, T:736.8421052631578 fun: 0.5059411136921694\n",
      "Found new minimum for x:-0.4999999999999999, T:736.8421052631578 fun: -0.04033953422118848\n",
      "Found new minimum for x:-0.4999999999999999, T:736.8421052631578 fun: -0.04711168418375737\n"
     ]
    },
    {
     "data": {
      "application/vnd.jupyter.widget-view+json": {
       "model_id": "45c8b14f6de6430d8765b38db29209c9",
       "version_major": 2,
       "version_minor": 0
      },
      "text/plain": [
       "  0%|          | 0/500 [00:00<?, ?it/s]"
      ]
     },
     "metadata": {},
     "output_type": "display_data"
    },
    {
     "name": "stdout",
     "output_type": "stream",
     "text": [
      "Found new minimum for x:-0.25, T:736.8421052631578 fun: 0.31664108102319605\n",
      "Found new minimum for x:-0.25, T:736.8421052631578 fun: 0.22119261720584577\n",
      "Found new minimum for x:-0.25, T:736.8421052631578 fun: -0.08298377161737273\n",
      "Found new minimum for x:-0.25, T:736.8421052631578 fun: -1.0756352936253804\n",
      "Found new minimum for x:-0.25, T:736.8421052631578 fun: -1.4367754745713313\n",
      "Found new minimum for x:-0.25, T:736.8421052631578 fun: -1.602603834734697\n",
      "Found new minimum for x:-0.25, T:736.8421052631578 fun: -2.1084810941924914\n",
      "Found new minimum for x:-0.25, T:736.8421052631578 fun: -2.1191491305937196\n"
     ]
    },
    {
     "data": {
      "application/vnd.jupyter.widget-view+json": {
       "model_id": "979a804fa7c141178b6e99a51324a316",
       "version_major": 2,
       "version_minor": 0
      },
      "text/plain": [
       "  0%|          | 0/500 [00:00<?, ?it/s]"
      ]
     },
     "metadata": {},
     "output_type": "display_data"
    },
    {
     "name": "stdout",
     "output_type": "stream",
     "text": [
      "Found new minimum for x:0.0, T:736.8421052631578 fun: -0.34231422199951766\n",
      "Found new minimum for x:0.0, T:736.8421052631578 fun: -0.3852947454321848\n",
      "Found new minimum for x:0.0, T:736.8421052631578 fun: -0.430356744147185\n",
      "Found new minimum for x:0.0, T:736.8421052631578 fun: -0.7910790351185956\n",
      "Found new minimum for x:0.0, T:736.8421052631578 fun: -1.2020788448880801\n",
      "Found new minimum for x:0.0, T:736.8421052631578 fun: -1.3169998693236733\n",
      "Found new minimum for x:0.0, T:736.8421052631578 fun: -1.9470116413858918\n",
      "Found new minimum for x:0.0, T:736.8421052631578 fun: -2.1131798081307074\n",
      "Found new minimum for x:0.0, T:736.8421052631578 fun: -2.5201012490216455\n"
     ]
    },
    {
     "data": {
      "application/vnd.jupyter.widget-view+json": {
       "model_id": "ba4f4462cc184f8e9734707873a3bac1",
       "version_major": 2,
       "version_minor": 0
      },
      "text/plain": [
       "  0%|          | 0/500 [00:00<?, ?it/s]"
      ]
     },
     "metadata": {},
     "output_type": "display_data"
    },
    {
     "name": "stdout",
     "output_type": "stream",
     "text": [
      "Found new minimum for x:0.25, T:736.8421052631578 fun: -0.4708800497615322\n",
      "Found new minimum for x:0.25, T:736.8421052631578 fun: -0.5565980917695219\n",
      "Found new minimum for x:0.25, T:736.8421052631578 fun: -0.9063874652967316\n",
      "Found new minimum for x:0.25, T:736.8421052631578 fun: -1.0664446240100007\n",
      "Found new minimum for x:0.25, T:736.8421052631578 fun: -1.4669056264386615\n"
     ]
    },
    {
     "data": {
      "application/vnd.jupyter.widget-view+json": {
       "model_id": "a363537849584bfea4b711f6a28884f1",
       "version_major": 2,
       "version_minor": 0
      },
      "text/plain": [
       "  0%|          | 0/500 [00:00<?, ?it/s]"
      ]
     },
     "metadata": {},
     "output_type": "display_data"
    },
    {
     "name": "stdout",
     "output_type": "stream",
     "text": [
      "Found new minimum for x:0.4999999999999998, T:736.8421052631578 fun: 2.195926428706917\n",
      "Found new minimum for x:0.4999999999999998, T:736.8421052631578 fun: 0.6843164554350025\n",
      "Found new minimum for x:0.4999999999999998, T:736.8421052631578 fun: 0.3903156815945351\n",
      "Found new minimum for x:0.4999999999999998, T:736.8421052631578 fun: 0.2710501033687659\n",
      "Found new minimum for x:0.4999999999999998, T:736.8421052631578 fun: -0.06310340194265963\n"
     ]
    },
    {
     "data": {
      "application/vnd.jupyter.widget-view+json": {
       "model_id": "78cb368a2b334c3e9f0a0f036a3cac38",
       "version_major": 2,
       "version_minor": 0
      },
      "text/plain": [
       "  0%|          | 0/500 [00:00<?, ?it/s]"
      ]
     },
     "metadata": {},
     "output_type": "display_data"
    },
    {
     "name": "stdout",
     "output_type": "stream",
     "text": [
      "Found new minimum for x:0.7499999999999998, T:736.8421052631578 fun: 2.4336784337512603\n",
      "Found new minimum for x:0.7499999999999998, T:736.8421052631578 fun: 2.429468212846154\n",
      "Found new minimum for x:0.7499999999999998, T:736.8421052631578 fun: 2.365375540063132\n",
      "Found new minimum for x:0.7499999999999998, T:736.8421052631578 fun: 2.2772914504682094\n",
      "Found new minimum for x:0.7499999999999998, T:736.8421052631578 fun: 2.1768037591914626\n",
      "Found new minimum for x:0.7499999999999998, T:736.8421052631578 fun: 2.1069143738224745\n"
     ]
    },
    {
     "data": {
      "application/vnd.jupyter.widget-view+json": {
       "model_id": "e7ae69691f6d4918aafccdc271b82c6b",
       "version_major": 2,
       "version_minor": 0
      },
      "text/plain": [
       "  0%|          | 0/500 [00:00<?, ?it/s]"
      ]
     },
     "metadata": {},
     "output_type": "display_data"
    },
    {
     "name": "stdout",
     "output_type": "stream",
     "text": [
      "Found new minimum for x:0.9999999999999998, T:736.8421052631578 fun: 3.9999998250881834\n",
      "Found new minimum for x:0.9999999999999998, T:736.8421052631578 fun: 3.999999802324133\n",
      "Found new minimum for x:0.9999999999999998, T:736.8421052631578 fun: 3.9999997884028025\n",
      "Found new minimum for x:0.9999999999999998, T:736.8421052631578 fun: 3.999999785671233\n",
      "Found new minimum for x:0.9999999999999998, T:736.8421052631578 fun: 3.9999997850452367\n",
      "Found new minimum for x:0.9999999999999998, T:736.8421052631578 fun: 3.999999777135721\n",
      "Found new minimum for x:0.9999999999999998, T:736.8421052631578 fun: 3.9999997690977858\n",
      "Found new minimum for x:0.9999999999999998, T:736.8421052631578 fun: 3.9999997620207792\n"
     ]
    },
    {
     "data": {
      "application/vnd.jupyter.widget-view+json": {
       "model_id": "324be36eeb3c46f8b23257770404a066",
       "version_major": 2,
       "version_minor": 0
      },
      "text/plain": [
       "  0%|          | 0/9 [00:00<?, ?it/s]"
      ]
     },
     "metadata": {},
     "output_type": "display_data"
    },
    {
     "data": {
      "application/vnd.jupyter.widget-view+json": {
       "model_id": "bddaf48ba7cb4c12bff4d106bc73cd2d",
       "version_major": 2,
       "version_minor": 0
      },
      "text/plain": [
       "  0%|          | 0/500 [00:00<?, ?it/s]"
      ]
     },
     "metadata": {},
     "output_type": "display_data"
    },
    {
     "name": "stdout",
     "output_type": "stream",
     "text": [
      "Found new minimum for x:-0.9999999999999998, T:842.1052631578947 fun: 3.999999775305107\n",
      "Found new minimum for x:-0.9999999999999998, T:842.1052631578947 fun: 3.999999772875754\n",
      "Found new minimum for x:-0.9999999999999998, T:842.1052631578947 fun: 3.999999769290085\n",
      "Found new minimum for x:-0.9999999999999998, T:842.1052631578947 fun: 3.999999768943911\n",
      "Found new minimum for x:-0.9999999999999998, T:842.1052631578947 fun: 3.999999765149025\n",
      "Found new minimum for x:-0.9999999999999998, T:842.1052631578947 fun: 3.9999997604696493\n"
     ]
    },
    {
     "data": {
      "application/vnd.jupyter.widget-view+json": {
       "model_id": "e1d1c4ef8ca84286b485ce5dfae6bf0b",
       "version_major": 2,
       "version_minor": 0
      },
      "text/plain": [
       "  0%|          | 0/500 [00:00<?, ?it/s]"
      ]
     },
     "metadata": {},
     "output_type": "display_data"
    },
    {
     "name": "stdout",
     "output_type": "stream",
     "text": [
      "Found new minimum for x:-0.7499999999999998, T:842.1052631578947 fun: 2.5242600309746126\n",
      "Found new minimum for x:-0.7499999999999998, T:842.1052631578947 fun: 2.299704671300123\n",
      "Found new minimum for x:-0.7499999999999998, T:842.1052631578947 fun: 1.897881898344273\n",
      "Found new minimum for x:-0.7499999999999998, T:842.1052631578947 fun: 1.8978817561414743\n"
     ]
    },
    {
     "data": {
      "application/vnd.jupyter.widget-view+json": {
       "model_id": "91d5a67981a2481cbc00651692a69653",
       "version_major": 2,
       "version_minor": 0
      },
      "text/plain": [
       "  0%|          | 0/500 [00:00<?, ?it/s]"
      ]
     },
     "metadata": {},
     "output_type": "display_data"
    },
    {
     "name": "stdout",
     "output_type": "stream",
     "text": [
      "Found new minimum for x:-0.4999999999999999, T:842.1052631578947 fun: 0.9192915988197866\n",
      "Found new minimum for x:-0.4999999999999999, T:842.1052631578947 fun: 0.7013093973940941\n",
      "Found new minimum for x:-0.4999999999999999, T:842.1052631578947 fun: 0.651696893556434\n",
      "Found new minimum for x:-0.4999999999999999, T:842.1052631578947 fun: 0.5554808810964441\n",
      "Found new minimum for x:-0.4999999999999999, T:842.1052631578947 fun: 0.389377640020544\n",
      "Found new minimum for x:-0.4999999999999999, T:842.1052631578947 fun: -0.0917702775884879\n"
     ]
    },
    {
     "data": {
      "application/vnd.jupyter.widget-view+json": {
       "model_id": "9d05bd35876a4ca5bcaf2432fb3bad19",
       "version_major": 2,
       "version_minor": 0
      },
      "text/plain": [
       "  0%|          | 0/500 [00:00<?, ?it/s]"
      ]
     },
     "metadata": {},
     "output_type": "display_data"
    },
    {
     "name": "stdout",
     "output_type": "stream",
     "text": [
      "Found new minimum for x:-0.25, T:842.1052631578947 fun: 1.3378814371442351\n",
      "Found new minimum for x:-0.25, T:842.1052631578947 fun: 0.7054012464353762\n",
      "Found new minimum for x:-0.25, T:842.1052631578947 fun: 0.04733791686028313\n",
      "Found new minimum for x:-0.25, T:842.1052631578947 fun: -0.515416357797265\n",
      "Found new minimum for x:-0.25, T:842.1052631578947 fun: -1.4181023275266875\n",
      "Found new minimum for x:-0.25, T:842.1052631578947 fun: -1.526729090923632\n"
     ]
    },
    {
     "data": {
      "application/vnd.jupyter.widget-view+json": {
       "model_id": "afa439a5686645db8536d11023330af2",
       "version_major": 2,
       "version_minor": 0
      },
      "text/plain": [
       "  0%|          | 0/500 [00:00<?, ?it/s]"
      ]
     },
     "metadata": {},
     "output_type": "display_data"
    },
    {
     "name": "stdout",
     "output_type": "stream",
     "text": [
      "Found new minimum for x:0.0, T:842.1052631578947 fun: 0.45166592530473587\n",
      "Found new minimum for x:0.0, T:842.1052631578947 fun: 0.25059961228335403\n",
      "Found new minimum for x:0.0, T:842.1052631578947 fun: 0.1496902896213606\n",
      "Found new minimum for x:0.0, T:842.1052631578947 fun: -0.15171586921701108\n",
      "Found new minimum for x:0.0, T:842.1052631578947 fun: -1.4265707144147581\n",
      "Found new minimum for x:0.0, T:842.1052631578947 fun: -1.9508137293136074\n",
      "Found new minimum for x:0.0, T:842.1052631578947 fun: -2.086047522827573\n",
      "Found new minimum for x:0.0, T:842.1052631578947 fun: -2.328727674973261\n",
      "Found new minimum for x:0.0, T:842.1052631578947 fun: -2.674510258772925\n"
     ]
    },
    {
     "data": {
      "application/vnd.jupyter.widget-view+json": {
       "model_id": "249f37b348ec4f559e53abe64bbfc899",
       "version_major": 2,
       "version_minor": 0
      },
      "text/plain": [
       "  0%|          | 0/500 [00:00<?, ?it/s]"
      ]
     },
     "metadata": {},
     "output_type": "display_data"
    },
    {
     "name": "stdout",
     "output_type": "stream",
     "text": [
      "Found new minimum for x:0.25, T:842.1052631578947 fun: 0.2348981870652539\n",
      "Found new minimum for x:0.25, T:842.1052631578947 fun: -0.7049402627480804\n",
      "Found new minimum for x:0.25, T:842.1052631578947 fun: -0.798158469216479\n",
      "Found new minimum for x:0.25, T:842.1052631578947 fun: -0.8082019361032071\n",
      "Found new minimum for x:0.25, T:842.1052631578947 fun: -1.5586534155782574\n"
     ]
    },
    {
     "data": {
      "application/vnd.jupyter.widget-view+json": {
       "model_id": "ac8ef216c86b41c9849eea3a5a793ca4",
       "version_major": 2,
       "version_minor": 0
      },
      "text/plain": [
       "  0%|          | 0/500 [00:00<?, ?it/s]"
      ]
     },
     "metadata": {},
     "output_type": "display_data"
    },
    {
     "name": "stdout",
     "output_type": "stream",
     "text": [
      "Found new minimum for x:0.4999999999999998, T:842.1052631578947 fun: 1.1419467168237092\n",
      "Found new minimum for x:0.4999999999999998, T:842.1052631578947 fun: 1.0160376389049506\n",
      "Found new minimum for x:0.4999999999999998, T:842.1052631578947 fun: 1.0012440266642053\n",
      "Found new minimum for x:0.4999999999999998, T:842.1052631578947 fun: 0.9652586746526363\n",
      "Found new minimum for x:0.4999999999999998, T:842.1052631578947 fun: 0.6685306214921728\n",
      "Found new minimum for x:0.4999999999999998, T:842.1052631578947 fun: 0.05444217209098051\n",
      "Found new minimum for x:0.4999999999999998, T:842.1052631578947 fun: -0.1182092257412198\n"
     ]
    },
    {
     "data": {
      "application/vnd.jupyter.widget-view+json": {
       "model_id": "0c363e6ee21747d188db0d11b36c50ae",
       "version_major": 2,
       "version_minor": 0
      },
      "text/plain": [
       "  0%|          | 0/500 [00:00<?, ?it/s]"
      ]
     },
     "metadata": {},
     "output_type": "display_data"
    },
    {
     "name": "stdout",
     "output_type": "stream",
     "text": [
      "Found new minimum for x:0.7499999999999998, T:842.1052631578947 fun: 2.178267247465859\n",
      "Found new minimum for x:0.7499999999999998, T:842.1052631578947 fun: 1.9218924262002737\n",
      "Found new minimum for x:0.7499999999999998, T:842.1052631578947 fun: 1.8982585785737405\n",
      "Found new minimum for x:0.7499999999999998, T:842.1052631578947 fun: 1.8978817419716516\n"
     ]
    },
    {
     "data": {
      "application/vnd.jupyter.widget-view+json": {
       "model_id": "2c58b126e9b94852abda15fb854027a4",
       "version_major": 2,
       "version_minor": 0
      },
      "text/plain": [
       "  0%|          | 0/500 [00:00<?, ?it/s]"
      ]
     },
     "metadata": {},
     "output_type": "display_data"
    },
    {
     "name": "stdout",
     "output_type": "stream",
     "text": [
      "Found new minimum for x:0.9999999999999998, T:842.1052631578947 fun: 3.999999855073744\n",
      "Found new minimum for x:0.9999999999999998, T:842.1052631578947 fun: 3.9999998459593415\n",
      "Found new minimum for x:0.9999999999999998, T:842.1052631578947 fun: 3.999999790013086\n",
      "Found new minimum for x:0.9999999999999998, T:842.1052631578947 fun: 3.999999775248715\n",
      "Found new minimum for x:0.9999999999999998, T:842.1052631578947 fun: 3.999999773077609\n",
      "Found new minimum for x:0.9999999999999998, T:842.1052631578947 fun: 3.999999767598943\n",
      "Found new minimum for x:0.9999999999999998, T:842.1052631578947 fun: 3.9999997626307815\n",
      "Found new minimum for x:0.9999999999999998, T:842.1052631578947 fun: 3.999999762378836\n",
      "Found new minimum for x:0.9999999999999998, T:842.1052631578947 fun: 3.999999761836163\n"
     ]
    },
    {
     "data": {
      "application/vnd.jupyter.widget-view+json": {
       "model_id": "bb033c5fa4ba4d1194ea459745aa6d72",
       "version_major": 2,
       "version_minor": 0
      },
      "text/plain": [
       "  0%|          | 0/9 [00:00<?, ?it/s]"
      ]
     },
     "metadata": {},
     "output_type": "display_data"
    },
    {
     "data": {
      "application/vnd.jupyter.widget-view+json": {
       "model_id": "eda12de7b9924886b1ca00df88cdd0ed",
       "version_major": 2,
       "version_minor": 0
      },
      "text/plain": [
       "  0%|          | 0/500 [00:00<?, ?it/s]"
      ]
     },
     "metadata": {},
     "output_type": "display_data"
    },
    {
     "name": "stdout",
     "output_type": "stream",
     "text": [
      "Found new minimum for x:-0.9999999999999998, T:947.3684210526316 fun: 3.9999998591750887\n",
      "Found new minimum for x:-0.9999999999999998, T:947.3684210526316 fun: 3.9999997834690464\n",
      "Found new minimum for x:-0.9999999999999998, T:947.3684210526316 fun: 3.999999772242794\n",
      "Found new minimum for x:-0.9999999999999998, T:947.3684210526316 fun: 3.999999765038095\n",
      "Found new minimum for x:-0.9999999999999998, T:947.3684210526316 fun: 3.9999997623111723\n",
      "Found new minimum for x:-0.9999999999999998, T:947.3684210526316 fun: 3.999999756899662\n",
      "Found new minimum for x:-0.9999999999999998, T:947.3684210526316 fun: 3.9999997543687527\n"
     ]
    },
    {
     "data": {
      "application/vnd.jupyter.widget-view+json": {
       "model_id": "41539302dc014e66b6b48c0081874374",
       "version_major": 2,
       "version_minor": 0
      },
      "text/plain": [
       "  0%|          | 0/500 [00:00<?, ?it/s]"
      ]
     },
     "metadata": {},
     "output_type": "display_data"
    },
    {
     "name": "stdout",
     "output_type": "stream",
     "text": [
      "Found new minimum for x:-0.7499999999999998, T:947.3684210526316 fun: 2.404616008399182\n",
      "Found new minimum for x:-0.7499999999999998, T:947.3684210526316 fun: 2.354285415018896\n",
      "Found new minimum for x:-0.7499999999999998, T:947.3684210526316 fun: 1.8851170562772337\n"
     ]
    },
    {
     "data": {
      "application/vnd.jupyter.widget-view+json": {
       "model_id": "14996db765634a34adc41cc3efece353",
       "version_major": 2,
       "version_minor": 0
      },
      "text/plain": [
       "  0%|          | 0/500 [00:00<?, ?it/s]"
      ]
     },
     "metadata": {},
     "output_type": "display_data"
    },
    {
     "name": "stdout",
     "output_type": "stream",
     "text": [
      "Found new minimum for x:-0.4999999999999999, T:947.3684210526316 fun: 1.3100910967456592\n",
      "Found new minimum for x:-0.4999999999999999, T:947.3684210526316 fun: 1.2986035799950149\n",
      "Found new minimum for x:-0.4999999999999999, T:947.3684210526316 fun: 0.9592149358776674\n",
      "Found new minimum for x:-0.4999999999999999, T:947.3684210526316 fun: 0.6589530969374308\n",
      "Found new minimum for x:-0.4999999999999999, T:947.3684210526316 fun: 0.5788437769675927\n",
      "Found new minimum for x:-0.4999999999999999, T:947.3684210526316 fun: 0.48282501547280543\n",
      "Found new minimum for x:-0.4999999999999999, T:947.3684210526316 fun: -0.07029594513867213\n",
      "Found new minimum for x:-0.4999999999999999, T:947.3684210526316 fun: -0.14905788335330022\n",
      "Found new minimum for x:-0.4999999999999999, T:947.3684210526316 fun: -0.1493569521410542\n",
      "Found new minimum for x:-0.4999999999999999, T:947.3684210526316 fun: -0.1604361067509955\n"
     ]
    },
    {
     "data": {
      "application/vnd.jupyter.widget-view+json": {
       "model_id": "84420cbee8334c2f9f65100dd897bf2d",
       "version_major": 2,
       "version_minor": 0
      },
      "text/plain": [
       "  0%|          | 0/500 [00:00<?, ?it/s]"
      ]
     },
     "metadata": {},
     "output_type": "display_data"
    },
    {
     "name": "stdout",
     "output_type": "stream",
     "text": [
      "Found new minimum for x:-0.25, T:947.3684210526316 fun: 0.6797992046612651\n",
      "Found new minimum for x:-0.25, T:947.3684210526316 fun: -0.6383146607143904\n",
      "Found new minimum for x:-0.25, T:947.3684210526316 fun: -0.8437394457432171\n",
      "Found new minimum for x:-0.25, T:947.3684210526316 fun: -2.1388842553738843\n",
      "Found new minimum for x:-0.25, T:947.3684210526316 fun: -2.1525735813806803\n",
      "Found new minimum for x:-0.25, T:947.3684210526316 fun: -2.1535577223756692\n"
     ]
    },
    {
     "data": {
      "application/vnd.jupyter.widget-view+json": {
       "model_id": "89769cdfae264498827ac1bf446feb3b",
       "version_major": 2,
       "version_minor": 0
      },
      "text/plain": [
       "  0%|          | 0/500 [00:00<?, ?it/s]"
      ]
     },
     "metadata": {},
     "output_type": "display_data"
    },
    {
     "name": "stdout",
     "output_type": "stream",
     "text": [
      "Found new minimum for x:0.0, T:947.3684210526316 fun: 1.3071966283567225\n",
      "Found new minimum for x:0.0, T:947.3684210526316 fun: -0.041914023401407235\n",
      "Found new minimum for x:0.0, T:947.3684210526316 fun: -2.458433381433083\n",
      "Found new minimum for x:0.0, T:947.3684210526316 fun: -2.4966956254557475\n"
     ]
    },
    {
     "data": {
      "application/vnd.jupyter.widget-view+json": {
       "model_id": "3de25714283245c4b4028013f1cd4046",
       "version_major": 2,
       "version_minor": 0
      },
      "text/plain": [
       "  0%|          | 0/500 [00:00<?, ?it/s]"
      ]
     },
     "metadata": {},
     "output_type": "display_data"
    },
    {
     "name": "stdout",
     "output_type": "stream",
     "text": [
      "Found new minimum for x:0.25, T:947.3684210526316 fun: -0.497839768683524\n",
      "Found new minimum for x:0.25, T:947.3684210526316 fun: -1.0150056505072118\n",
      "Found new minimum for x:0.25, T:947.3684210526316 fun: -1.3048915869762316\n"
     ]
    },
    {
     "data": {
      "application/vnd.jupyter.widget-view+json": {
       "model_id": "aa7f3eed42694515be76754cafb15a0d",
       "version_major": 2,
       "version_minor": 0
      },
      "text/plain": [
       "  0%|          | 0/500 [00:00<?, ?it/s]"
      ]
     },
     "metadata": {},
     "output_type": "display_data"
    },
    {
     "name": "stdout",
     "output_type": "stream",
     "text": [
      "Found new minimum for x:0.4999999999999998, T:947.3684210526316 fun: 0.9936178533867377\n",
      "Found new minimum for x:0.4999999999999998, T:947.3684210526316 fun: 0.9609267828642781\n",
      "Found new minimum for x:0.4999999999999998, T:947.3684210526316 fun: 0.9014860630321012\n",
      "Found new minimum for x:0.4999999999999998, T:947.3684210526316 fun: 0.8106894524063368\n",
      "Found new minimum for x:0.4999999999999998, T:947.3684210526316 fun: 0.6835348907421092\n",
      "Found new minimum for x:0.4999999999999998, T:947.3684210526316 fun: 0.4932715262674898\n",
      "Found new minimum for x:0.4999999999999998, T:947.3684210526316 fun: 0.34480934706302213\n",
      "Found new minimum for x:0.4999999999999998, T:947.3684210526316 fun: 0.18350678433636386\n",
      "Found new minimum for x:0.4999999999999998, T:947.3684210526316 fun: -0.043791873365324294\n",
      "Found new minimum for x:0.4999999999999998, T:947.3684210526316 fun: -0.12384651882677405\n",
      "Found new minimum for x:0.4999999999999998, T:947.3684210526316 fun: -0.13718041583551796\n"
     ]
    },
    {
     "data": {
      "application/vnd.jupyter.widget-view+json": {
       "model_id": "8d2cae9663be4bbc969e007ea352d6bc",
       "version_major": 2,
       "version_minor": 0
      },
      "text/plain": [
       "  0%|          | 0/500 [00:00<?, ?it/s]"
      ]
     },
     "metadata": {},
     "output_type": "display_data"
    },
    {
     "name": "stdout",
     "output_type": "stream",
     "text": [
      "Found new minimum for x:0.7499999999999998, T:947.3684210526316 fun: 2.5141693954824285\n",
      "Found new minimum for x:0.7499999999999998, T:947.3684210526316 fun: 2.423102021730795\n",
      "Found new minimum for x:0.7499999999999998, T:947.3684210526316 fun: 2.3082038269478486\n",
      "Found new minimum for x:0.7499999999999998, T:947.3684210526316 fun: 2.28114138184749\n",
      "Found new minimum for x:0.7499999999999998, T:947.3684210526316 fun: 2.2262826401022933\n",
      "Found new minimum for x:0.7499999999999998, T:947.3684210526316 fun: 1.9691792091475266\n",
      "Found new minimum for x:0.7499999999999998, T:947.3684210526316 fun: 1.9387349675652163\n"
     ]
    },
    {
     "data": {
      "application/vnd.jupyter.widget-view+json": {
       "model_id": "059086d38c5b45698002e5445aebc5eb",
       "version_major": 2,
       "version_minor": 0
      },
      "text/plain": [
       "  0%|          | 0/500 [00:00<?, ?it/s]"
      ]
     },
     "metadata": {},
     "output_type": "display_data"
    },
    {
     "name": "stdout",
     "output_type": "stream",
     "text": [
      "Found new minimum for x:0.9999999999999998, T:947.3684210526316 fun: 3.9999998402889645\n",
      "Found new minimum for x:0.9999999999999998, T:947.3684210526316 fun: 3.9999998197566735\n",
      "Found new minimum for x:0.9999999999999998, T:947.3684210526316 fun: 3.99999978971682\n",
      "Found new minimum for x:0.9999999999999998, T:947.3684210526316 fun: 3.999999774861415\n",
      "Found new minimum for x:0.9999999999999998, T:947.3684210526316 fun: 3.999999760546625\n",
      "Found new minimum for x:0.9999999999999998, T:947.3684210526316 fun: 3.999999754405089\n"
     ]
    },
    {
     "data": {
      "application/vnd.jupyter.widget-view+json": {
       "model_id": "5e4859837abd49e2b9298a900f5e6f19",
       "version_major": 2,
       "version_minor": 0
      },
      "text/plain": [
       "  0%|          | 0/9 [00:00<?, ?it/s]"
      ]
     },
     "metadata": {},
     "output_type": "display_data"
    },
    {
     "data": {
      "application/vnd.jupyter.widget-view+json": {
       "model_id": "51ea6b2498e8475f895c1d5d821b7d9e",
       "version_major": 2,
       "version_minor": 0
      },
      "text/plain": [
       "  0%|          | 0/500 [00:00<?, ?it/s]"
      ]
     },
     "metadata": {},
     "output_type": "display_data"
    },
    {
     "name": "stdout",
     "output_type": "stream",
     "text": [
      "Found new minimum for x:-0.9999999999999998, T:1052.6315789473683 fun: 3.999999826638052\n",
      "Found new minimum for x:-0.9999999999999998, T:1052.6315789473683 fun: 3.999999791841375\n",
      "Found new minimum for x:-0.9999999999999998, T:1052.6315789473683 fun: 3.999999778777568\n",
      "Found new minimum for x:-0.9999999999999998, T:1052.6315789473683 fun: 3.9999997733597943\n",
      "Found new minimum for x:-0.9999999999999998, T:1052.6315789473683 fun: 3.999999755136647\n",
      "Found new minimum for x:-0.9999999999999998, T:1052.6315789473683 fun: 3.999999744258134\n",
      "Found new minimum for x:-0.9999999999999998, T:1052.6315789473683 fun: 3.9999997440580235\n",
      "Found new minimum for x:-0.9999999999999998, T:1052.6315789473683 fun: 3.9999997376208665\n"
     ]
    },
    {
     "data": {
      "application/vnd.jupyter.widget-view+json": {
       "model_id": "4921bb9558ce4d33adaf6649d6ce9c58",
       "version_major": 2,
       "version_minor": 0
      },
      "text/plain": [
       "  0%|          | 0/500 [00:00<?, ?it/s]"
      ]
     },
     "metadata": {},
     "output_type": "display_data"
    },
    {
     "name": "stdout",
     "output_type": "stream",
     "text": [
      "Found new minimum for x:-0.7499999999999998, T:1052.6315789473683 fun: 2.4377983406763257\n",
      "Found new minimum for x:-0.7499999999999998, T:1052.6315789473683 fun: 2.396805942038787\n",
      "Found new minimum for x:-0.7499999999999998, T:1052.6315789473683 fun: 2.3919641103288236\n",
      "Found new minimum for x:-0.7499999999999998, T:1052.6315789473683 fun: 2.3598894950215477\n",
      "Found new minimum for x:-0.7499999999999998, T:1052.6315789473683 fun: 2.339802153432381\n",
      "Found new minimum for x:-0.7499999999999998, T:1052.6315789473683 fun: 2.336424146607734\n",
      "Found new minimum for x:-0.7499999999999998, T:1052.6315789473683 fun: 2.291546357078269\n",
      "Found new minimum for x:-0.7499999999999998, T:1052.6315789473683 fun: 1.872352372381175\n",
      "Found new minimum for x:-0.7499999999999998, T:1052.6315789473683 fun: 1.87235235429697\n",
      "Found new minimum for x:-0.7499999999999998, T:1052.6315789473683 fun: 1.8723523043508306\n",
      "Found new minimum for x:-0.7499999999999998, T:1052.6315789473683 fun: 1.8723522387412352\n"
     ]
    },
    {
     "data": {
      "application/vnd.jupyter.widget-view+json": {
       "model_id": "4756e4e236a847c081f410fdd84beb01",
       "version_major": 2,
       "version_minor": 0
      },
      "text/plain": [
       "  0%|          | 0/500 [00:00<?, ?it/s]"
      ]
     },
     "metadata": {},
     "output_type": "display_data"
    },
    {
     "name": "stdout",
     "output_type": "stream",
     "text": [
      "Found new minimum for x:-0.4999999999999999, T:1052.6315789473683 fun: 0.8482720849001228\n",
      "Found new minimum for x:-0.4999999999999999, T:1052.6315789473683 fun: 0.721795147779803\n",
      "Found new minimum for x:-0.4999999999999999, T:1052.6315789473683 fun: 0.3747758349826757\n",
      "Found new minimum for x:-0.4999999999999999, T:1052.6315789473683 fun: 0.3207553179431231\n",
      "Found new minimum for x:-0.4999999999999999, T:1052.6315789473683 fun: 0.28884864443908037\n",
      "Found new minimum for x:-0.4999999999999999, T:1052.6315789473683 fun: 0.20864467042090576\n",
      "Found new minimum for x:-0.4999999999999999, T:1052.6315789473683 fun: -0.11085993902623269\n",
      "Found new minimum for x:-0.4999999999999999, T:1052.6315789473683 fun: -0.1376148001798778\n"
     ]
    },
    {
     "data": {
      "application/vnd.jupyter.widget-view+json": {
       "model_id": "d1023de85050479d87d023656a41a563",
       "version_major": 2,
       "version_minor": 0
      },
      "text/plain": [
       "  0%|          | 0/500 [00:00<?, ?it/s]"
      ]
     },
     "metadata": {},
     "output_type": "display_data"
    },
    {
     "name": "stdout",
     "output_type": "stream",
     "text": [
      "Found new minimum for x:-0.25, T:1052.6315789473683 fun: 0.14884349050037216\n",
      "Found new minimum for x:-0.25, T:1052.6315789473683 fun: -0.09134121137753509\n",
      "Found new minimum for x:-0.25, T:1052.6315789473683 fun: -0.5437603223943693\n",
      "Found new minimum for x:-0.25, T:1052.6315789473683 fun: -0.8592112723074837\n",
      "Found new minimum for x:-0.25, T:1052.6315789473683 fun: -1.162713244418137\n",
      "Found new minimum for x:-0.25, T:1052.6315789473683 fun: -1.242679278623624\n",
      "Found new minimum for x:-0.25, T:1052.6315789473683 fun: -1.2563241083117056\n",
      "Found new minimum for x:-0.25, T:1052.6315789473683 fun: -1.3161149865788686\n",
      "Found new minimum for x:-0.25, T:1052.6315789473683 fun: -1.3335746247556812\n",
      "Found new minimum for x:-0.25, T:1052.6315789473683 fun: -1.8523215047597001\n"
     ]
    },
    {
     "data": {
      "application/vnd.jupyter.widget-view+json": {
       "model_id": "68f987421dfd4e3d8846fcdf6af6e558",
       "version_major": 2,
       "version_minor": 0
      },
      "text/plain": [
       "  0%|          | 0/500 [00:00<?, ?it/s]"
      ]
     },
     "metadata": {},
     "output_type": "display_data"
    },
    {
     "name": "stdout",
     "output_type": "stream",
     "text": [
      "Found new minimum for x:0.0, T:1052.6315789473683 fun: -1.16028610017856\n",
      "Found new minimum for x:0.0, T:1052.6315789473683 fun: -1.4140136676499881\n",
      "Found new minimum for x:0.0, T:1052.6315789473683 fun: -2.987978341271081\n",
      "Found new minimum for x:0.0, T:1052.6315789473683 fun: -3.4394330560160635\n"
     ]
    },
    {
     "data": {
      "application/vnd.jupyter.widget-view+json": {
       "model_id": "a422810945c2498c9e2b85749e9ed8ea",
       "version_major": 2,
       "version_minor": 0
      },
      "text/plain": [
       "  0%|          | 0/500 [00:00<?, ?it/s]"
      ]
     },
     "metadata": {},
     "output_type": "display_data"
    },
    {
     "name": "stdout",
     "output_type": "stream",
     "text": [
      "Found new minimum for x:0.25, T:1052.6315789473683 fun: 0.4763436696313246\n",
      "Found new minimum for x:0.25, T:1052.6315789473683 fun: -1.4332133126687636\n"
     ]
    },
    {
     "data": {
      "application/vnd.jupyter.widget-view+json": {
       "model_id": "8a10d048b0514845a08038f55a8a83f9",
       "version_major": 2,
       "version_minor": 0
      },
      "text/plain": [
       "  0%|          | 0/500 [00:00<?, ?it/s]"
      ]
     },
     "metadata": {},
     "output_type": "display_data"
    },
    {
     "name": "stdout",
     "output_type": "stream",
     "text": [
      "Found new minimum for x:0.4999999999999998, T:1052.6315789473683 fun: 1.2216818720229048\n",
      "Found new minimum for x:0.4999999999999998, T:1052.6315789473683 fun: 0.8781046254554795\n",
      "Found new minimum for x:0.4999999999999998, T:1052.6315789473683 fun: 0.14114757313342427\n",
      "Found new minimum for x:0.4999999999999998, T:1052.6315789473683 fun: 0.1124665599112546\n",
      "Found new minimum for x:0.4999999999999998, T:1052.6315789473683 fun: -0.14972777887940647\n"
     ]
    },
    {
     "data": {
      "application/vnd.jupyter.widget-view+json": {
       "model_id": "bec9c1006b6b44308d7a71e01fe5718a",
       "version_major": 2,
       "version_minor": 0
      },
      "text/plain": [
       "  0%|          | 0/500 [00:00<?, ?it/s]"
      ]
     },
     "metadata": {},
     "output_type": "display_data"
    },
    {
     "name": "stdout",
     "output_type": "stream",
     "text": [
      "Found new minimum for x:0.7499999999999998, T:1052.6315789473683 fun: 2.3882075846566555\n",
      "Found new minimum for x:0.7499999999999998, T:1052.6315789473683 fun: 1.87235237219218\n",
      "Found new minimum for x:0.7499999999999998, T:1052.6315789473683 fun: 1.8723523721391524\n",
      "Found new minimum for x:0.7499999999999998, T:1052.6315789473683 fun: 1.8723522783937625\n"
     ]
    },
    {
     "data": {
      "application/vnd.jupyter.widget-view+json": {
       "model_id": "a2cae8e06fdf4dfcb899d585b247035b",
       "version_major": 2,
       "version_minor": 0
      },
      "text/plain": [
       "  0%|          | 0/500 [00:00<?, ?it/s]"
      ]
     },
     "metadata": {},
     "output_type": "display_data"
    },
    {
     "name": "stdout",
     "output_type": "stream",
     "text": [
      "Found new minimum for x:0.9999999999999998, T:1052.6315789473683 fun: 3.9999997705107893\n",
      "Found new minimum for x:0.9999999999999998, T:1052.6315789473683 fun: 3.99999977038104\n",
      "Found new minimum for x:0.9999999999999998, T:1052.6315789473683 fun: 3.9999997683422954\n",
      "Found new minimum for x:0.9999999999999998, T:1052.6315789473683 fun: 3.999999761903905\n",
      "Found new minimum for x:0.9999999999999998, T:1052.6315789473683 fun: 3.9999997570046744\n",
      "Found new minimum for x:0.9999999999999998, T:1052.6315789473683 fun: 3.9999997545052994\n",
      "Found new minimum for x:0.9999999999999998, T:1052.6315789473683 fun: 3.999999753650848\n",
      "Found new minimum for x:0.9999999999999998, T:1052.6315789473683 fun: 3.9999997512148497\n",
      "Found new minimum for x:0.9999999999999998, T:1052.6315789473683 fun: 3.9999997506491525\n"
     ]
    },
    {
     "data": {
      "application/vnd.jupyter.widget-view+json": {
       "model_id": "5b8573618c97413ab91ced1d24967aaa",
       "version_major": 2,
       "version_minor": 0
      },
      "text/plain": [
       "  0%|          | 0/9 [00:00<?, ?it/s]"
      ]
     },
     "metadata": {},
     "output_type": "display_data"
    },
    {
     "data": {
      "application/vnd.jupyter.widget-view+json": {
       "model_id": "8f6100669edd4efab7a639bb7e369caf",
       "version_major": 2,
       "version_minor": 0
      },
      "text/plain": [
       "  0%|          | 0/500 [00:00<?, ?it/s]"
      ]
     },
     "metadata": {},
     "output_type": "display_data"
    },
    {
     "name": "stdout",
     "output_type": "stream",
     "text": [
      "Found new minimum for x:-0.9999999999999998, T:1157.8947368421052 fun: 3.999999750323107\n",
      "Found new minimum for x:-0.9999999999999998, T:1157.8947368421052 fun: 3.999999744729434\n",
      "Found new minimum for x:-0.9999999999999998, T:1157.8947368421052 fun: 3.9999997427509135\n",
      "Found new minimum for x:-0.9999999999999998, T:1157.8947368421052 fun: 3.9999997406947307\n"
     ]
    },
    {
     "data": {
      "application/vnd.jupyter.widget-view+json": {
       "model_id": "a3d802525783441cb07b2b3df1fb2e4a",
       "version_major": 2,
       "version_minor": 0
      },
      "text/plain": [
       "  0%|          | 0/500 [00:00<?, ?it/s]"
      ]
     },
     "metadata": {},
     "output_type": "display_data"
    },
    {
     "name": "stdout",
     "output_type": "stream",
     "text": [
      "Found new minimum for x:-0.7499999999999998, T:1157.8947368421052 fun: 2.4052030756432052\n",
      "Found new minimum for x:-0.7499999999999998, T:1157.8947368421052 fun: 2.3382164847248608\n",
      "Found new minimum for x:-0.7499999999999998, T:1157.8947368421052 fun: 1.8965941541475095\n",
      "Found new minimum for x:-0.7499999999999998, T:1157.8947368421052 fun: 1.8595878606561347\n",
      "Found new minimum for x:-0.7499999999999998, T:1157.8947368421052 fun: 1.8595875176272403\n"
     ]
    },
    {
     "data": {
      "application/vnd.jupyter.widget-view+json": {
       "model_id": "fa08598afeb04219ae08cdb3cf83292f",
       "version_major": 2,
       "version_minor": 0
      },
      "text/plain": [
       "  0%|          | 0/500 [00:00<?, ?it/s]"
      ]
     },
     "metadata": {},
     "output_type": "display_data"
    },
    {
     "name": "stdout",
     "output_type": "stream",
     "text": [
      "Found new minimum for x:-0.4999999999999999, T:1157.8947368421052 fun: -0.15134499509378885\n",
      "Found new minimum for x:-0.4999999999999999, T:1157.8947368421052 fun: -0.18774106283727476\n",
      "Found new minimum for x:-0.4999999999999999, T:1157.8947368421052 fun: -0.19249844155339396\n"
     ]
    },
    {
     "data": {
      "application/vnd.jupyter.widget-view+json": {
       "model_id": "25b2ab2c2ab6455a93e930df23000752",
       "version_major": 2,
       "version_minor": 0
      },
      "text/plain": [
       "  0%|          | 0/500 [00:00<?, ?it/s]"
      ]
     },
     "metadata": {},
     "output_type": "display_data"
    },
    {
     "name": "stdout",
     "output_type": "stream",
     "text": [
      "Found new minimum for x:-0.25, T:1157.8947368421052 fun: 1.364888514498166\n",
      "Found new minimum for x:-0.25, T:1157.8947368421052 fun: 1.0051067121567494\n",
      "Found new minimum for x:-0.25, T:1157.8947368421052 fun: -0.32959072140449963\n",
      "Found new minimum for x:-0.25, T:1157.8947368421052 fun: -0.9608135851559915\n",
      "Found new minimum for x:-0.25, T:1157.8947368421052 fun: -2.1143836606148105\n"
     ]
    },
    {
     "data": {
      "application/vnd.jupyter.widget-view+json": {
       "model_id": "5ff4509d872144f68ddfede653c64059",
       "version_major": 2,
       "version_minor": 0
      },
      "text/plain": [
       "  0%|          | 0/500 [00:00<?, ?it/s]"
      ]
     },
     "metadata": {},
     "output_type": "display_data"
    },
    {
     "name": "stdout",
     "output_type": "stream",
     "text": [
      "Found new minimum for x:0.0, T:1157.8947368421052 fun: 0.04655238287521524\n",
      "Found new minimum for x:0.0, T:1157.8947368421052 fun: -0.37584431122025946\n",
      "Found new minimum for x:0.0, T:1157.8947368421052 fun: -0.3925744382534471\n",
      "Found new minimum for x:0.0, T:1157.8947368421052 fun: -0.7043851048618883\n",
      "Found new minimum for x:0.0, T:1157.8947368421052 fun: -1.4021499552018462\n",
      "Found new minimum for x:0.0, T:1157.8947368421052 fun: -1.6328131074154677\n",
      "Found new minimum for x:0.0, T:1157.8947368421052 fun: -1.6421372605925848\n",
      "Found new minimum for x:0.0, T:1157.8947368421052 fun: -2.4519847270229667\n",
      "Found new minimum for x:0.0, T:1157.8947368421052 fun: -3.830566918780108\n"
     ]
    },
    {
     "data": {
      "application/vnd.jupyter.widget-view+json": {
       "model_id": "77f3aef0c6e2475381ebfa9c5676201e",
       "version_major": 2,
       "version_minor": 0
      },
      "text/plain": [
       "  0%|          | 0/500 [00:00<?, ?it/s]"
      ]
     },
     "metadata": {},
     "output_type": "display_data"
    },
    {
     "name": "stdout",
     "output_type": "stream",
     "text": [
      "Found new minimum for x:0.25, T:1157.8947368421052 fun: 0.09083239854349745\n",
      "Found new minimum for x:0.25, T:1157.8947368421052 fun: -0.36657231670904733\n",
      "Found new minimum for x:0.25, T:1157.8947368421052 fun: -0.8036031737627871\n",
      "Found new minimum for x:0.25, T:1157.8947368421052 fun: -0.9529749119054469\n",
      "Found new minimum for x:0.25, T:1157.8947368421052 fun: -1.0459792639134071\n",
      "Found new minimum for x:0.25, T:1157.8947368421052 fun: -1.1076128702876131\n"
     ]
    },
    {
     "data": {
      "application/vnd.jupyter.widget-view+json": {
       "model_id": "63498ce436aa44a9beea944ec0f8e507",
       "version_major": 2,
       "version_minor": 0
      },
      "text/plain": [
       "  0%|          | 0/500 [00:00<?, ?it/s]"
      ]
     },
     "metadata": {},
     "output_type": "display_data"
    },
    {
     "name": "stdout",
     "output_type": "stream",
     "text": [
      "Found new minimum for x:0.4999999999999998, T:1157.8947368421052 fun: 0.7543694362993705\n",
      "Found new minimum for x:0.4999999999999998, T:1157.8947368421052 fun: 0.6524673300219938\n",
      "Found new minimum for x:0.4999999999999998, T:1157.8947368421052 fun: 0.46728004964296416\n",
      "Found new minimum for x:0.4999999999999998, T:1157.8947368421052 fun: 0.41872298787086454\n",
      "Found new minimum for x:0.4999999999999998, T:1157.8947368421052 fun: 0.3823183826417451\n",
      "Found new minimum for x:0.4999999999999998, T:1157.8947368421052 fun: 0.22376649515320188\n"
     ]
    },
    {
     "data": {
      "application/vnd.jupyter.widget-view+json": {
       "model_id": "d56c875516c94102a63d7ef7a387d263",
       "version_major": 2,
       "version_minor": 0
      },
      "text/plain": [
       "  0%|          | 0/500 [00:00<?, ?it/s]"
      ]
     },
     "metadata": {},
     "output_type": "display_data"
    },
    {
     "name": "stdout",
     "output_type": "stream",
     "text": [
      "Found new minimum for x:0.7499999999999998, T:1157.8947368421052 fun: 2.414305308591061\n",
      "Found new minimum for x:0.7499999999999998, T:1157.8947368421052 fun: 2.3962701845137886\n",
      "Found new minimum for x:0.7499999999999998, T:1157.8947368421052 fun: 2.377322082159666\n",
      "Found new minimum for x:0.7499999999999998, T:1157.8947368421052 fun: 2.360128046227591\n",
      "Found new minimum for x:0.7499999999999998, T:1157.8947368421052 fun: 2.257104202791465\n",
      "Found new minimum for x:0.7499999999999998, T:1157.8947368421052 fun: 2.2169967744415464\n",
      "Found new minimum for x:0.7499999999999998, T:1157.8947368421052 fun: 1.894351680084239\n",
      "Found new minimum for x:0.7499999999999998, T:1157.8947368421052 fun: 1.8700505132671386\n",
      "Found new minimum for x:0.7499999999999998, T:1157.8947368421052 fun: 1.8595888199412893\n"
     ]
    },
    {
     "data": {
      "application/vnd.jupyter.widget-view+json": {
       "model_id": "e822835bdd1b49468df9de34ae5fbefd",
       "version_major": 2,
       "version_minor": 0
      },
      "text/plain": [
       "  0%|          | 0/500 [00:00<?, ?it/s]"
      ]
     },
     "metadata": {},
     "output_type": "display_data"
    },
    {
     "name": "stdout",
     "output_type": "stream",
     "text": [
      "Found new minimum for x:0.9999999999999998, T:1157.8947368421052 fun: 3.999999844227488\n",
      "Found new minimum for x:0.9999999999999998, T:1157.8947368421052 fun: 3.999999840103244\n",
      "Found new minimum for x:0.9999999999999998, T:1157.8947368421052 fun: 3.9999998292626815\n",
      "Found new minimum for x:0.9999999999999998, T:1157.8947368421052 fun: 3.9999998191489334\n",
      "Found new minimum for x:0.9999999999999998, T:1157.8947368421052 fun: 3.999999770012941\n",
      "Found new minimum for x:0.9999999999999998, T:1157.8947368421052 fun: 3.9999997581988884\n",
      "Found new minimum for x:0.9999999999999998, T:1157.8947368421052 fun: 3.999999749953651\n",
      "Found new minimum for x:0.9999999999999998, T:1157.8947368421052 fun: 3.999999748996531\n",
      "Found new minimum for x:0.9999999999999998, T:1157.8947368421052 fun: 3.99999974169079\n",
      "Found new minimum for x:0.9999999999999998, T:1157.8947368421052 fun: 3.9999997379807595\n"
     ]
    },
    {
     "data": {
      "application/vnd.jupyter.widget-view+json": {
       "model_id": "f9e033e85c064597813da10c5b6c892e",
       "version_major": 2,
       "version_minor": 0
      },
      "text/plain": [
       "  0%|          | 0/9 [00:00<?, ?it/s]"
      ]
     },
     "metadata": {},
     "output_type": "display_data"
    },
    {
     "data": {
      "application/vnd.jupyter.widget-view+json": {
       "model_id": "b4d32dcde3054273b2109d977e8270b2",
       "version_major": 2,
       "version_minor": 0
      },
      "text/plain": [
       "  0%|          | 0/500 [00:00<?, ?it/s]"
      ]
     },
     "metadata": {},
     "output_type": "display_data"
    },
    {
     "name": "stdout",
     "output_type": "stream",
     "text": [
      "Found new minimum for x:-0.9999999999999998, T:1263.157894736842 fun: 3.99999984583885\n",
      "Found new minimum for x:-0.9999999999999998, T:1263.157894736842 fun: 3.999999818710351\n",
      "Found new minimum for x:-0.9999999999999998, T:1263.157894736842 fun: 3.9999997489353287\n",
      "Found new minimum for x:-0.9999999999999998, T:1263.157894736842 fun: 3.9999997419864144\n",
      "Found new minimum for x:-0.9999999999999998, T:1263.157894736842 fun: 3.999999724028006\n"
     ]
    },
    {
     "data": {
      "application/vnd.jupyter.widget-view+json": {
       "model_id": "b37c18bc338f4f79869bec731e3326e8",
       "version_major": 2,
       "version_minor": 0
      },
      "text/plain": [
       "  0%|          | 0/500 [00:00<?, ?it/s]"
      ]
     },
     "metadata": {},
     "output_type": "display_data"
    },
    {
     "name": "stdout",
     "output_type": "stream",
     "text": [
      "Found new minimum for x:-0.7499999999999998, T:1263.157894736842 fun: 2.382202734436119\n",
      "Found new minimum for x:-0.7499999999999998, T:1263.157894736842 fun: 2.3404184916979425\n",
      "Found new minimum for x:-0.7499999999999998, T:1263.157894736842 fun: 1.846822851056387\n",
      "Found new minimum for x:-0.7499999999999998, T:1263.157894736842 fun: 1.846822752560064\n",
      "Found new minimum for x:-0.7499999999999998, T:1263.157894736842 fun: 1.8427216209999517\n"
     ]
    },
    {
     "data": {
      "application/vnd.jupyter.widget-view+json": {
       "model_id": "a9215d8dcf1842438e9d631f8808cd7e",
       "version_major": 2,
       "version_minor": 0
      },
      "text/plain": [
       "  0%|          | 0/500 [00:00<?, ?it/s]"
      ]
     },
     "metadata": {},
     "output_type": "display_data"
    },
    {
     "name": "stdout",
     "output_type": "stream",
     "text": [
      "Found new minimum for x:-0.4999999999999999, T:1263.157894736842 fun: 1.12800435262498\n",
      "Found new minimum for x:-0.4999999999999999, T:1263.157894736842 fun: 0.5969154931627545\n",
      "Found new minimum for x:-0.4999999999999999, T:1263.157894736842 fun: -0.11013238339433015\n",
      "Found new minimum for x:-0.4999999999999999, T:1263.157894736842 fun: -0.16152013542658222\n",
      "Found new minimum for x:-0.4999999999999999, T:1263.157894736842 fun: -0.21440162124926185\n"
     ]
    },
    {
     "data": {
      "application/vnd.jupyter.widget-view+json": {
       "model_id": "f1140d5cd2c44c57925f9eb824b8b73e",
       "version_major": 2,
       "version_minor": 0
      },
      "text/plain": [
       "  0%|          | 0/500 [00:00<?, ?it/s]"
      ]
     },
     "metadata": {},
     "output_type": "display_data"
    },
    {
     "name": "stdout",
     "output_type": "stream",
     "text": [
      "Found new minimum for x:-0.25, T:1263.157894736842 fun: 0.595260405214497\n",
      "Found new minimum for x:-0.25, T:1263.157894736842 fun: 0.5278971975157589\n",
      "Found new minimum for x:-0.25, T:1263.157894736842 fun: -0.010015156280807735\n",
      "Found new minimum for x:-0.25, T:1263.157894736842 fun: -0.7600769152981215\n",
      "Found new minimum for x:-0.25, T:1263.157894736842 fun: -1.3659127216923856\n",
      "Found new minimum for x:-0.25, T:1263.157894736842 fun: -1.9820130834055378\n"
     ]
    },
    {
     "data": {
      "application/vnd.jupyter.widget-view+json": {
       "model_id": "b447dc2bd53f40f986b07a1b5e4d9da7",
       "version_major": 2,
       "version_minor": 0
      },
      "text/plain": [
       "  0%|          | 0/500 [00:00<?, ?it/s]"
      ]
     },
     "metadata": {},
     "output_type": "display_data"
    },
    {
     "name": "stdout",
     "output_type": "stream",
     "text": [
      "Found new minimum for x:0.0, T:1263.157894736842 fun: 0.5162790156955706\n",
      "Found new minimum for x:0.0, T:1263.157894736842 fun: -0.945609424965359\n",
      "Found new minimum for x:0.0, T:1263.157894736842 fun: -2.282351932440531\n",
      "Found new minimum for x:0.0, T:1263.157894736842 fun: -2.7892318892919015\n"
     ]
    },
    {
     "data": {
      "application/vnd.jupyter.widget-view+json": {
       "model_id": "9541a341a8f146dfb9d4300f2f784ee7",
       "version_major": 2,
       "version_minor": 0
      },
      "text/plain": [
       "  0%|          | 0/500 [00:00<?, ?it/s]"
      ]
     },
     "metadata": {},
     "output_type": "display_data"
    },
    {
     "name": "stdout",
     "output_type": "stream",
     "text": [
      "Found new minimum for x:0.25, T:1263.157894736842 fun: 0.34485503621951036\n",
      "Found new minimum for x:0.25, T:1263.157894736842 fun: 0.19550736902284077\n",
      "Found new minimum for x:0.25, T:1263.157894736842 fun: 0.09188685869973628\n",
      "Found new minimum for x:0.25, T:1263.157894736842 fun: 0.04660993139535441\n",
      "Found new minimum for x:0.25, T:1263.157894736842 fun: -0.2361913242508622\n",
      "Found new minimum for x:0.25, T:1263.157894736842 fun: -0.24394156843617715\n",
      "Found new minimum for x:0.25, T:1263.157894736842 fun: -0.38977488707550445\n",
      "Found new minimum for x:0.25, T:1263.157894736842 fun: -0.4148288146947067\n",
      "Found new minimum for x:0.25, T:1263.157894736842 fun: -0.5679597560160721\n",
      "Found new minimum for x:0.25, T:1263.157894736842 fun: -0.7219373127910922\n",
      "Found new minimum for x:0.25, T:1263.157894736842 fun: -1.0718224633759625\n",
      "Found new minimum for x:0.25, T:1263.157894736842 fun: -2.1345811973299575\n"
     ]
    },
    {
     "data": {
      "application/vnd.jupyter.widget-view+json": {
       "model_id": "bd75f577af4f4ae8a501232100a7625d",
       "version_major": 2,
       "version_minor": 0
      },
      "text/plain": [
       "  0%|          | 0/500 [00:00<?, ?it/s]"
      ]
     },
     "metadata": {},
     "output_type": "display_data"
    },
    {
     "name": "stdout",
     "output_type": "stream",
     "text": [
      "Found new minimum for x:0.4999999999999998, T:1263.157894736842 fun: 1.929641372100141\n",
      "Found new minimum for x:0.4999999999999998, T:1263.157894736842 fun: 1.5200596137424396\n",
      "Found new minimum for x:0.4999999999999998, T:1263.157894736842 fun: 0.91660780328316\n",
      "Found new minimum for x:0.4999999999999998, T:1263.157894736842 fun: 0.4391615799664713\n",
      "Found new minimum for x:0.4999999999999998, T:1263.157894736842 fun: -0.030433934421374986\n",
      "Found new minimum for x:0.4999999999999998, T:1263.157894736842 fun: -0.14647741904121062\n"
     ]
    },
    {
     "data": {
      "application/vnd.jupyter.widget-view+json": {
       "model_id": "57c674bddf8940c0b6975b371545f636",
       "version_major": 2,
       "version_minor": 0
      },
      "text/plain": [
       "  0%|          | 0/500 [00:00<?, ?it/s]"
      ]
     },
     "metadata": {},
     "output_type": "display_data"
    },
    {
     "name": "stdout",
     "output_type": "stream",
     "text": [
      "Found new minimum for x:0.7499999999999998, T:1263.157894736842 fun: 2.3792526958345834\n",
      "Found new minimum for x:0.7499999999999998, T:1263.157894736842 fun: 2.3071452902790797\n",
      "Found new minimum for x:0.7499999999999998, T:1263.157894736842 fun: 2.261532105621967\n",
      "Found new minimum for x:0.7499999999999998, T:1263.157894736842 fun: 2.225993796263004\n",
      "Found new minimum for x:0.7499999999999998, T:1263.157894736842 fun: 1.9334946113449551\n"
     ]
    },
    {
     "data": {
      "application/vnd.jupyter.widget-view+json": {
       "model_id": "10a93fb23d7e4788801cfa8c0fb40b4c",
       "version_major": 2,
       "version_minor": 0
      },
      "text/plain": [
       "  0%|          | 0/500 [00:00<?, ?it/s]"
      ]
     },
     "metadata": {},
     "output_type": "display_data"
    },
    {
     "name": "stdout",
     "output_type": "stream",
     "text": [
      "Found new minimum for x:0.9999999999999998, T:1263.157894736842 fun: 3.9999998703084203\n",
      "Found new minimum for x:0.9999999999999998, T:1263.157894736842 fun: 3.9999997672904213\n",
      "Found new minimum for x:0.9999999999999998, T:1263.157894736842 fun: 3.9999997527060263\n",
      "Found new minimum for x:0.9999999999999998, T:1263.157894736842 fun: 3.999999745355399\n",
      "Found new minimum for x:0.9999999999999998, T:1263.157894736842 fun: 3.999999743420715\n",
      "Found new minimum for x:0.9999999999999998, T:1263.157894736842 fun: 3.9999997397472975\n",
      "Found new minimum for x:0.9999999999999998, T:1263.157894736842 fun: 3.9999997370743694\n",
      "Found new minimum for x:0.9999999999999998, T:1263.157894736842 fun: 3.9999997340381945\n"
     ]
    },
    {
     "data": {
      "application/vnd.jupyter.widget-view+json": {
       "model_id": "f0371467d27341a995bd9f89d7937a24",
       "version_major": 2,
       "version_minor": 0
      },
      "text/plain": [
       "  0%|          | 0/9 [00:00<?, ?it/s]"
      ]
     },
     "metadata": {},
     "output_type": "display_data"
    },
    {
     "data": {
      "application/vnd.jupyter.widget-view+json": {
       "model_id": "3463b3bd2b2b4483aa1feb5353ebb319",
       "version_major": 2,
       "version_minor": 0
      },
      "text/plain": [
       "  0%|          | 0/500 [00:00<?, ?it/s]"
      ]
     },
     "metadata": {},
     "output_type": "display_data"
    },
    {
     "name": "stdout",
     "output_type": "stream",
     "text": [
      "Found new minimum for x:-0.9999999999999998, T:1368.421052631579 fun: 3.9999998130512435\n",
      "Found new minimum for x:-0.9999999999999998, T:1368.421052631579 fun: 3.9999997855001554\n",
      "Found new minimum for x:-0.9999999999999998, T:1368.421052631579 fun: 3.9999997760344317\n",
      "Found new minimum for x:-0.9999999999999998, T:1368.421052631579 fun: 3.9999997732354586\n",
      "Found new minimum for x:-0.9999999999999998, T:1368.421052631579 fun: 3.999999750579459\n",
      "Found new minimum for x:-0.9999999999999998, T:1368.421052631579 fun: 3.999999740868647\n",
      "Found new minimum for x:-0.9999999999999998, T:1368.421052631579 fun: 3.9999997367111577\n",
      "Found new minimum for x:-0.9999999999999998, T:1368.421052631579 fun: 3.999999730385766\n",
      "Found new minimum for x:-0.9999999999999998, T:1368.421052631579 fun: 3.9999997263392357\n",
      "Found new minimum for x:-0.9999999999999998, T:1368.421052631579 fun: 3.9999997261689337\n",
      "Found new minimum for x:-0.9999999999999998, T:1368.421052631579 fun: 3.9999997251821866\n"
     ]
    },
    {
     "data": {
      "application/vnd.jupyter.widget-view+json": {
       "model_id": "e80970e436a14871b23d17d9875cbfa8",
       "version_major": 2,
       "version_minor": 0
      },
      "text/plain": [
       "  0%|          | 0/500 [00:00<?, ?it/s]"
      ]
     },
     "metadata": {},
     "output_type": "display_data"
    },
    {
     "name": "stdout",
     "output_type": "stream",
     "text": [
      "Found new minimum for x:-0.7499999999999998, T:1368.421052631579 fun: 2.4264528725388486\n",
      "Found new minimum for x:-0.7499999999999998, T:1368.421052631579 fun: 2.2893735925783445\n",
      "Found new minimum for x:-0.7499999999999998, T:1368.421052631579 fun: 2.27552972042297\n",
      "Found new minimum for x:-0.7499999999999998, T:1368.421052631579 fun: 2.0938427359911347\n",
      "Found new minimum for x:-0.7499999999999998, T:1368.421052631579 fun: 1.8340580836688698\n",
      "Found new minimum for x:-0.7499999999999998, T:1368.421052631579 fun: 1.8340580835978577\n",
      "Found new minimum for x:-0.7499999999999998, T:1368.421052631579 fun: 1.8327217390422461\n"
     ]
    },
    {
     "data": {
      "application/vnd.jupyter.widget-view+json": {
       "model_id": "1e966aafae2942c1928c16a87f40e8f9",
       "version_major": 2,
       "version_minor": 0
      },
      "text/plain": [
       "  0%|          | 0/500 [00:00<?, ?it/s]"
      ]
     },
     "metadata": {},
     "output_type": "display_data"
    },
    {
     "name": "stdout",
     "output_type": "stream",
     "text": [
      "Found new minimum for x:-0.4999999999999999, T:1368.421052631579 fun: 1.216739738695888\n",
      "Found new minimum for x:-0.4999999999999999, T:1368.421052631579 fun: 0.7842116930500238\n",
      "Found new minimum for x:-0.4999999999999999, T:1368.421052631579 fun: 0.5006778133447017\n",
      "Found new minimum for x:-0.4999999999999999, T:1368.421052631579 fun: 0.4102906700522618\n",
      "Found new minimum for x:-0.4999999999999999, T:1368.421052631579 fun: 0.3909396250918141\n",
      "Found new minimum for x:-0.4999999999999999, T:1368.421052631579 fun: 0.14349451030085458\n",
      "Found new minimum for x:-0.4999999999999999, T:1368.421052631579 fun: -0.155892385786584\n",
      "Found new minimum for x:-0.4999999999999999, T:1368.421052631579 fun: -0.17889924509757754\n",
      "Found new minimum for x:-0.4999999999999999, T:1368.421052631579 fun: -0.22290278947816705\n"
     ]
    },
    {
     "data": {
      "application/vnd.jupyter.widget-view+json": {
       "model_id": "7f79028a86bb4f7fa4be93dc2a552e26",
       "version_major": 2,
       "version_minor": 0
      },
      "text/plain": [
       "  0%|          | 0/500 [00:00<?, ?it/s]"
      ]
     },
     "metadata": {},
     "output_type": "display_data"
    },
    {
     "name": "stdout",
     "output_type": "stream",
     "text": [
      "Found new minimum for x:-0.25, T:1368.421052631579 fun: 0.43551032111310173\n",
      "Found new minimum for x:-0.25, T:1368.421052631579 fun: -0.1522563882638869\n",
      "Found new minimum for x:-0.25, T:1368.421052631579 fun: -0.42353636770272873\n",
      "Found new minimum for x:-0.25, T:1368.421052631579 fun: -0.48169968418790066\n",
      "Found new minimum for x:-0.25, T:1368.421052631579 fun: -0.9122408823552592\n",
      "Found new minimum for x:-0.25, T:1368.421052631579 fun: -1.0702376556791426\n",
      "Found new minimum for x:-0.25, T:1368.421052631579 fun: -1.6271142003050647\n"
     ]
    },
    {
     "data": {
      "application/vnd.jupyter.widget-view+json": {
       "model_id": "c512f35fea4047df9e01c89e68cbb154",
       "version_major": 2,
       "version_minor": 0
      },
      "text/plain": [
       "  0%|          | 0/500 [00:00<?, ?it/s]"
      ]
     },
     "metadata": {},
     "output_type": "display_data"
    },
    {
     "name": "stdout",
     "output_type": "stream",
     "text": [
      "Found new minimum for x:0.0, T:1368.421052631579 fun: 0.5431918580261426\n",
      "Found new minimum for x:0.0, T:1368.421052631579 fun: -0.9169871193829429\n",
      "Found new minimum for x:0.0, T:1368.421052631579 fun: -1.0801228930357505\n",
      "Found new minimum for x:0.0, T:1368.421052631579 fun: -1.2802939099408517\n",
      "Found new minimum for x:0.0, T:1368.421052631579 fun: -2.2269488203270535\n",
      "Found new minimum for x:0.0, T:1368.421052631579 fun: -2.613866418519906\n"
     ]
    },
    {
     "data": {
      "application/vnd.jupyter.widget-view+json": {
       "model_id": "91eff4bad46e4460a961452070141564",
       "version_major": 2,
       "version_minor": 0
      },
      "text/plain": [
       "  0%|          | 0/500 [00:00<?, ?it/s]"
      ]
     },
     "metadata": {},
     "output_type": "display_data"
    },
    {
     "name": "stdout",
     "output_type": "stream",
     "text": [
      "Found new minimum for x:0.25, T:1368.421052631579 fun: 0.06395588279945663\n",
      "Found new minimum for x:0.25, T:1368.421052631579 fun: -0.9812192173795506\n",
      "Found new minimum for x:0.25, T:1368.421052631579 fun: -1.232937968441303\n",
      "Found new minimum for x:0.25, T:1368.421052631579 fun: -1.4439371137756212\n"
     ]
    },
    {
     "data": {
      "application/vnd.jupyter.widget-view+json": {
       "model_id": "b1723049175845069003d1e90e4cd963",
       "version_major": 2,
       "version_minor": 0
      },
      "text/plain": [
       "  0%|          | 0/500 [00:00<?, ?it/s]"
      ]
     },
     "metadata": {},
     "output_type": "display_data"
    },
    {
     "name": "stdout",
     "output_type": "stream",
     "text": [
      "Found new minimum for x:0.4999999999999998, T:1368.421052631579 fun: 2.554042404967616\n",
      "Found new minimum for x:0.4999999999999998, T:1368.421052631579 fun: 0.8220050901708909\n",
      "Found new minimum for x:0.4999999999999998, T:1368.421052631579 fun: 0.8124882490411274\n",
      "Found new minimum for x:0.4999999999999998, T:1368.421052631579 fun: 0.4256155740851161\n",
      "Found new minimum for x:0.4999999999999998, T:1368.421052631579 fun: 0.40147803717206204\n",
      "Found new minimum for x:0.4999999999999998, T:1368.421052631579 fun: 0.3827073111512622\n",
      "Found new minimum for x:0.4999999999999998, T:1368.421052631579 fun: 0.31752203222260567\n",
      "Found new minimum for x:0.4999999999999998, T:1368.421052631579 fun: 0.19244204895149158\n",
      "Found new minimum for x:0.4999999999999998, T:1368.421052631579 fun: -0.22599058737647185\n"
     ]
    },
    {
     "data": {
      "application/vnd.jupyter.widget-view+json": {
       "model_id": "80ff5ceee8134818808bbfa233fafe0b",
       "version_major": 2,
       "version_minor": 0
      },
      "text/plain": [
       "  0%|          | 0/500 [00:00<?, ?it/s]"
      ]
     },
     "metadata": {},
     "output_type": "display_data"
    },
    {
     "name": "stdout",
     "output_type": "stream",
     "text": [
      "Found new minimum for x:0.7499999999999998, T:1368.421052631579 fun: 2.3217606203677525\n",
      "Found new minimum for x:0.7499999999999998, T:1368.421052631579 fun: 2.1497881770436162\n",
      "Found new minimum for x:0.7499999999999998, T:1368.421052631579 fun: 2.124929459802191\n",
      "Found new minimum for x:0.7499999999999998, T:1368.421052631579 fun: 2.1120535213647567\n",
      "Found new minimum for x:0.7499999999999998, T:1368.421052631579 fun: 1.8352250157147394\n"
     ]
    },
    {
     "data": {
      "application/vnd.jupyter.widget-view+json": {
       "model_id": "5c262369c9f247a7be1eab6e0a19e906",
       "version_major": 2,
       "version_minor": 0
      },
      "text/plain": [
       "  0%|          | 0/500 [00:00<?, ?it/s]"
      ]
     },
     "metadata": {},
     "output_type": "display_data"
    },
    {
     "name": "stdout",
     "output_type": "stream",
     "text": [
      "Found new minimum for x:0.9999999999999998, T:1368.421052631579 fun: 3.999999854100606\n",
      "Found new minimum for x:0.9999999999999998, T:1368.421052631579 fun: 3.9999997859983423\n",
      "Found new minimum for x:0.9999999999999998, T:1368.421052631579 fun: 3.999999756706499\n",
      "Found new minimum for x:0.9999999999999998, T:1368.421052631579 fun: 3.9999997509176235\n",
      "Found new minimum for x:0.9999999999999998, T:1368.421052631579 fun: 3.999999731395422\n",
      "Found new minimum for x:0.9999999999999998, T:1368.421052631579 fun: 3.9999997253502224\n"
     ]
    },
    {
     "data": {
      "application/vnd.jupyter.widget-view+json": {
       "model_id": "2a341872df79498fbf682e80f174cda6",
       "version_major": 2,
       "version_minor": 0
      },
      "text/plain": [
       "  0%|          | 0/9 [00:00<?, ?it/s]"
      ]
     },
     "metadata": {},
     "output_type": "display_data"
    },
    {
     "data": {
      "application/vnd.jupyter.widget-view+json": {
       "model_id": "8fcbe8762f384c53aa0156885bb762f5",
       "version_major": 2,
       "version_minor": 0
      },
      "text/plain": [
       "  0%|          | 0/500 [00:00<?, ?it/s]"
      ]
     },
     "metadata": {},
     "output_type": "display_data"
    },
    {
     "name": "stdout",
     "output_type": "stream",
     "text": [
      "Found new minimum for x:-0.9999999999999998, T:1473.6842105263156 fun: 3.9999998006074637\n",
      "Found new minimum for x:-0.9999999999999998, T:1473.6842105263156 fun: 3.999999794692312\n",
      "Found new minimum for x:-0.9999999999999998, T:1473.6842105263156 fun: 3.9999997839791432\n",
      "Found new minimum for x:-0.9999999999999998, T:1473.6842105263156 fun: 3.999999749786631\n",
      "Found new minimum for x:-0.9999999999999998, T:1473.6842105263156 fun: 3.9999997490879435\n",
      "Found new minimum for x:-0.9999999999999998, T:1473.6842105263156 fun: 3.9999997338073654\n",
      "Found new minimum for x:-0.9999999999999998, T:1473.6842105263156 fun: 3.9999997250661465\n",
      "Found new minimum for x:-0.9999999999999998, T:1473.6842105263156 fun: 3.99999970535368\n"
     ]
    },
    {
     "data": {
      "application/vnd.jupyter.widget-view+json": {
       "model_id": "4038238687d84301933b1278d99b02fd",
       "version_major": 2,
       "version_minor": 0
      },
      "text/plain": [
       "  0%|          | 0/500 [00:00<?, ?it/s]"
      ]
     },
     "metadata": {},
     "output_type": "display_data"
    },
    {
     "name": "stdout",
     "output_type": "stream",
     "text": [
      "Found new minimum for x:-0.7499999999999998, T:1473.6842105263156 fun: 2.5349120304891817\n",
      "Found new minimum for x:-0.7499999999999998, T:1473.6842105263156 fun: 2.360855932329184\n",
      "Found new minimum for x:-0.7499999999999998, T:1473.6842105263156 fun: 2.2930557477253846\n",
      "Found new minimum for x:-0.7499999999999998, T:1473.6842105263156 fun: 2.157539904306459\n",
      "Found new minimum for x:-0.7499999999999998, T:1473.6842105263156 fun: 1.866262700620785\n",
      "Found new minimum for x:-0.7499999999999998, T:1473.6842105263156 fun: 1.8302202954697346\n",
      "Found new minimum for x:-0.7499999999999998, T:1473.6842105263156 fun: 1.8212932858850885\n",
      "Found new minimum for x:-0.7499999999999998, T:1473.6842105263156 fun: 1.8212931916813884\n"
     ]
    },
    {
     "data": {
      "application/vnd.jupyter.widget-view+json": {
       "model_id": "656fc0e645de4943a8eb134473a1eeca",
       "version_major": 2,
       "version_minor": 0
      },
      "text/plain": [
       "  0%|          | 0/500 [00:00<?, ?it/s]"
      ]
     },
     "metadata": {},
     "output_type": "display_data"
    },
    {
     "name": "stdout",
     "output_type": "stream",
     "text": [
      "Found new minimum for x:-0.4999999999999999, T:1473.6842105263156 fun: 1.1535827886238783\n",
      "Found new minimum for x:-0.4999999999999999, T:1473.6842105263156 fun: 0.7299317078176466\n",
      "Found new minimum for x:-0.4999999999999999, T:1473.6842105263156 fun: 0.6439050574998909\n",
      "Found new minimum for x:-0.4999999999999999, T:1473.6842105263156 fun: 0.4545996356257326\n",
      "Found new minimum for x:-0.4999999999999999, T:1473.6842105263156 fun: 0.37162438815630466\n",
      "Found new minimum for x:-0.4999999999999999, T:1473.6842105263156 fun: 0.28526240501587047\n",
      "Found new minimum for x:-0.4999999999999999, T:1473.6842105263156 fun: 0.21654557712304084\n",
      "Found new minimum for x:-0.4999999999999999, T:1473.6842105263156 fun: -0.19266073488431906\n"
     ]
    },
    {
     "data": {
      "application/vnd.jupyter.widget-view+json": {
       "model_id": "803afecdaaea48baa22d516b1943d425",
       "version_major": 2,
       "version_minor": 0
      },
      "text/plain": [
       "  0%|          | 0/500 [00:00<?, ?it/s]"
      ]
     },
     "metadata": {},
     "output_type": "display_data"
    },
    {
     "name": "stdout",
     "output_type": "stream",
     "text": [
      "Found new minimum for x:-0.25, T:1473.6842105263156 fun: 0.2282233298154877\n",
      "Found new minimum for x:-0.25, T:1473.6842105263156 fun: -0.18863403691106612\n",
      "Found new minimum for x:-0.25, T:1473.6842105263156 fun: -0.31274522095117757\n",
      "Found new minimum for x:-0.25, T:1473.6842105263156 fun: -0.5513621880713925\n",
      "Found new minimum for x:-0.25, T:1473.6842105263156 fun: -0.6861513940510785\n",
      "Found new minimum for x:-0.25, T:1473.6842105263156 fun: -1.0047786325513541\n",
      "Found new minimum for x:-0.25, T:1473.6842105263156 fun: -1.6557395662636978\n"
     ]
    },
    {
     "data": {
      "application/vnd.jupyter.widget-view+json": {
       "model_id": "9b5251557425482fae97e93f6d132771",
       "version_major": 2,
       "version_minor": 0
      },
      "text/plain": [
       "  0%|          | 0/500 [00:00<?, ?it/s]"
      ]
     },
     "metadata": {},
     "output_type": "display_data"
    },
    {
     "name": "stdout",
     "output_type": "stream",
     "text": [
      "Found new minimum for x:0.0, T:1473.6842105263156 fun: -1.2413357790850414\n",
      "Found new minimum for x:0.0, T:1473.6842105263156 fun: -1.6687168872543143\n",
      "Found new minimum for x:0.0, T:1473.6842105263156 fun: -2.736561588931843\n"
     ]
    },
    {
     "data": {
      "application/vnd.jupyter.widget-view+json": {
       "model_id": "492c254870644aca95093b413e29e3ce",
       "version_major": 2,
       "version_minor": 0
      },
      "text/plain": [
       "  0%|          | 0/500 [00:00<?, ?it/s]"
      ]
     },
     "metadata": {},
     "output_type": "display_data"
    },
    {
     "name": "stdout",
     "output_type": "stream",
     "text": [
      "Found new minimum for x:0.25, T:1473.6842105263156 fun: 0.2657752614343861\n",
      "Found new minimum for x:0.25, T:1473.6842105263156 fun: -0.04974825529873711\n",
      "Found new minimum for x:0.25, T:1473.6842105263156 fun: -0.05038196071494522\n",
      "Found new minimum for x:0.25, T:1473.6842105263156 fun: -0.18701975364285084\n",
      "Found new minimum for x:0.25, T:1473.6842105263156 fun: -0.5860067436504294\n",
      "Found new minimum for x:0.25, T:1473.6842105263156 fun: -1.2934042562276928\n",
      "Found new minimum for x:0.25, T:1473.6842105263156 fun: -1.3193618078160312\n"
     ]
    },
    {
     "data": {
      "application/vnd.jupyter.widget-view+json": {
       "model_id": "e87c8124b8f64a35a94d8097396a7f99",
       "version_major": 2,
       "version_minor": 0
      },
      "text/plain": [
       "  0%|          | 0/500 [00:00<?, ?it/s]"
      ]
     },
     "metadata": {},
     "output_type": "display_data"
    },
    {
     "name": "stdout",
     "output_type": "stream",
     "text": [
      "Found new minimum for x:0.4999999999999998, T:1473.6842105263156 fun: 1.1161182620150156\n",
      "Found new minimum for x:0.4999999999999998, T:1473.6842105263156 fun: 0.9965906559199316\n",
      "Found new minimum for x:0.4999999999999998, T:1473.6842105263156 fun: 0.912766785796356\n",
      "Found new minimum for x:0.4999999999999998, T:1473.6842105263156 fun: 0.8600416453042881\n",
      "Found new minimum for x:0.4999999999999998, T:1473.6842105263156 fun: 0.7620240912007021\n",
      "Found new minimum for x:0.4999999999999998, T:1473.6842105263156 fun: 0.5680015184655001\n",
      "Found new minimum for x:0.4999999999999998, T:1473.6842105263156 fun: 0.08262074374007947\n",
      "Found new minimum for x:0.4999999999999998, T:1473.6842105263156 fun: -0.18348786177573884\n"
     ]
    },
    {
     "data": {
      "application/vnd.jupyter.widget-view+json": {
       "model_id": "90dc3fa00beb42d7a0b70d1b0807b40a",
       "version_major": 2,
       "version_minor": 0
      },
      "text/plain": [
       "  0%|          | 0/500 [00:00<?, ?it/s]"
      ]
     },
     "metadata": {},
     "output_type": "display_data"
    },
    {
     "name": "stdout",
     "output_type": "stream",
     "text": [
      "Found new minimum for x:0.7499999999999998, T:1473.6842105263156 fun: 2.4650445822208784\n",
      "Found new minimum for x:0.7499999999999998, T:1473.6842105263156 fun: 2.3261307342117363\n",
      "Found new minimum for x:0.7499999999999998, T:1473.6842105263156 fun: 2.1797691144126325\n",
      "Found new minimum for x:0.7499999999999998, T:1473.6842105263156 fun: 2.094523756784503\n",
      "Found new minimum for x:0.7499999999999998, T:1473.6842105263156 fun: 1.9752433217559475\n",
      "Found new minimum for x:0.7499999999999998, T:1473.6842105263156 fun: 1.9485933171363006\n",
      "Found new minimum for x:0.7499999999999998, T:1473.6842105263156 fun: 1.8330527119529565\n"
     ]
    },
    {
     "data": {
      "application/vnd.jupyter.widget-view+json": {
       "model_id": "1c3a537f645447d1bbd05401d492d354",
       "version_major": 2,
       "version_minor": 0
      },
      "text/plain": [
       "  0%|          | 0/500 [00:00<?, ?it/s]"
      ]
     },
     "metadata": {},
     "output_type": "display_data"
    },
    {
     "name": "stdout",
     "output_type": "stream",
     "text": [
      "Found new minimum for x:0.9999999999999998, T:1473.6842105263156 fun: 3.999999811590253\n",
      "Found new minimum for x:0.9999999999999998, T:1473.6842105263156 fun: 3.9999998086161295\n",
      "Found new minimum for x:0.9999999999999998, T:1473.6842105263156 fun: 3.999999748448423\n",
      "Found new minimum for x:0.9999999999999998, T:1473.6842105263156 fun: 3.9999997352977976\n",
      "Found new minimum for x:0.9999999999999998, T:1473.6842105263156 fun: 3.9999997312245394\n",
      "Found new minimum for x:0.9999999999999998, T:1473.6842105263156 fun: 3.999999727954212\n",
      "Found new minimum for x:0.9999999999999998, T:1473.6842105263156 fun: 3.9999997218975305\n",
      "Found new minimum for x:0.9999999999999998, T:1473.6842105263156 fun: 3.999999720923286\n",
      "Found new minimum for x:0.9999999999999998, T:1473.6842105263156 fun: 3.999999718336821\n"
     ]
    },
    {
     "data": {
      "application/vnd.jupyter.widget-view+json": {
       "model_id": "303e8e488dab49cba6262b1c1a1c2db7",
       "version_major": 2,
       "version_minor": 0
      },
      "text/plain": [
       "  0%|          | 0/9 [00:00<?, ?it/s]"
      ]
     },
     "metadata": {},
     "output_type": "display_data"
    },
    {
     "data": {
      "application/vnd.jupyter.widget-view+json": {
       "model_id": "8f3c1e04945041eba6d749ff57ad180d",
       "version_major": 2,
       "version_minor": 0
      },
      "text/plain": [
       "  0%|          | 0/500 [00:00<?, ?it/s]"
      ]
     },
     "metadata": {},
     "output_type": "display_data"
    },
    {
     "name": "stdout",
     "output_type": "stream",
     "text": [
      "Found new minimum for x:-0.9999999999999998, T:1578.9473684210525 fun: 3.999999813991588\n",
      "Found new minimum for x:-0.9999999999999998, T:1578.9473684210525 fun: 3.9999997663337377\n",
      "Found new minimum for x:-0.9999999999999998, T:1578.9473684210525 fun: 3.9999997502190965\n",
      "Found new minimum for x:-0.9999999999999998, T:1578.9473684210525 fun: 3.9999997291765714\n",
      "Found new minimum for x:-0.9999999999999998, T:1578.9473684210525 fun: 3.999999714835263\n",
      "Found new minimum for x:-0.9999999999999998, T:1578.9473684210525 fun: 3.9999997092088093\n"
     ]
    },
    {
     "data": {
      "application/vnd.jupyter.widget-view+json": {
       "model_id": "ee27cd3f87af424f810a14f0adc32aae",
       "version_major": 2,
       "version_minor": 0
      },
      "text/plain": [
       "  0%|          | 0/500 [00:00<?, ?it/s]"
      ]
     },
     "metadata": {},
     "output_type": "display_data"
    },
    {
     "name": "stdout",
     "output_type": "stream",
     "text": [
      "Found new minimum for x:-0.7499999999999998, T:1578.9473684210525 fun: 2.4555267998098462\n",
      "Found new minimum for x:-0.7499999999999998, T:1578.9473684210525 fun: 2.418001249305801\n",
      "Found new minimum for x:-0.7499999999999998, T:1578.9473684210525 fun: 2.3095200928776807\n",
      "Found new minimum for x:-0.7499999999999998, T:1578.9473684210525 fun: 2.2969552395406208\n",
      "Found new minimum for x:-0.7499999999999998, T:1578.9473684210525 fun: 2.274553357690576\n",
      "Found new minimum for x:-0.7499999999999998, T:1578.9473684210525 fun: 2.2046567079437827\n",
      "Found new minimum for x:-0.7499999999999998, T:1578.9473684210525 fun: 2.162826805294003\n",
      "Found new minimum for x:-0.7499999999999998, T:1578.9473684210525 fun: 1.955432663165121\n",
      "Found new minimum for x:-0.7499999999999998, T:1578.9473684210525 fun: 1.887143334840463\n",
      "Found new minimum for x:-0.7499999999999998, T:1578.9473684210525 fun: 1.808528557774142\n"
     ]
    },
    {
     "data": {
      "application/vnd.jupyter.widget-view+json": {
       "model_id": "63b5022c32c1442f9f2ca2be4f950523",
       "version_major": 2,
       "version_minor": 0
      },
      "text/plain": [
       "  0%|          | 0/500 [00:00<?, ?it/s]"
      ]
     },
     "metadata": {},
     "output_type": "display_data"
    },
    {
     "name": "stdout",
     "output_type": "stream",
     "text": [
      "Found new minimum for x:-0.4999999999999999, T:1578.9473684210525 fun: 0.6923559435812296\n",
      "Found new minimum for x:-0.4999999999999999, T:1578.9473684210525 fun: 0.6915879528594548\n",
      "Found new minimum for x:-0.4999999999999999, T:1578.9473684210525 fun: 0.6253465027705734\n",
      "Found new minimum for x:-0.4999999999999999, T:1578.9473684210525 fun: 0.34292785939487985\n",
      "Found new minimum for x:-0.4999999999999999, T:1578.9473684210525 fun: 0.2291043477181794\n",
      "Found new minimum for x:-0.4999999999999999, T:1578.9473684210525 fun: 0.12760239650155558\n",
      "Found new minimum for x:-0.4999999999999999, T:1578.9473684210525 fun: 0.026956829521961045\n",
      "Found new minimum for x:-0.4999999999999999, T:1578.9473684210525 fun: -0.2599964777485009\n"
     ]
    },
    {
     "data": {
      "application/vnd.jupyter.widget-view+json": {
       "model_id": "9436b75707b346bb8fa5b18054a6db3e",
       "version_major": 2,
       "version_minor": 0
      },
      "text/plain": [
       "  0%|          | 0/500 [00:00<?, ?it/s]"
      ]
     },
     "metadata": {},
     "output_type": "display_data"
    },
    {
     "name": "stdout",
     "output_type": "stream",
     "text": [
      "Found new minimum for x:-0.25, T:1578.9473684210525 fun: 0.0901490479995693\n",
      "Found new minimum for x:-0.25, T:1578.9473684210525 fun: -0.35641133898444916\n",
      "Found new minimum for x:-0.25, T:1578.9473684210525 fun: -0.8111655425524542\n",
      "Found new minimum for x:-0.25, T:1578.9473684210525 fun: -1.3876252601381363\n",
      "Found new minimum for x:-0.25, T:1578.9473684210525 fun: -1.6729250491162904\n",
      "Found new minimum for x:-0.25, T:1578.9473684210525 fun: -2.2561836655911196\n"
     ]
    },
    {
     "data": {
      "application/vnd.jupyter.widget-view+json": {
       "model_id": "8258089d619d49b69c77d993f92ab890",
       "version_major": 2,
       "version_minor": 0
      },
      "text/plain": [
       "  0%|          | 0/500 [00:00<?, ?it/s]"
      ]
     },
     "metadata": {},
     "output_type": "display_data"
    },
    {
     "name": "stdout",
     "output_type": "stream",
     "text": [
      "Found new minimum for x:0.0, T:1578.9473684210525 fun: -0.0763857500379404\n",
      "Found new minimum for x:0.0, T:1578.9473684210525 fun: -0.08313805007068814\n",
      "Found new minimum for x:0.0, T:1578.9473684210525 fun: -0.2497317408664793\n",
      "Found new minimum for x:0.0, T:1578.9473684210525 fun: -0.26390445490046677\n",
      "Found new minimum for x:0.0, T:1578.9473684210525 fun: -0.31732859760996124\n",
      "Found new minimum for x:0.0, T:1578.9473684210525 fun: -1.4190180483023056\n",
      "Found new minimum for x:0.0, T:1578.9473684210525 fun: -2.0336121950607504\n",
      "Found new minimum for x:0.0, T:1578.9473684210525 fun: -2.3386425241900133\n"
     ]
    },
    {
     "data": {
      "application/vnd.jupyter.widget-view+json": {
       "model_id": "d244546e69824d77a09bdacf819db783",
       "version_major": 2,
       "version_minor": 0
      },
      "text/plain": [
       "  0%|          | 0/500 [00:00<?, ?it/s]"
      ]
     },
     "metadata": {},
     "output_type": "display_data"
    },
    {
     "name": "stdout",
     "output_type": "stream",
     "text": [
      "Found new minimum for x:0.25, T:1578.9473684210525 fun: 0.6435158279861806\n",
      "Found new minimum for x:0.25, T:1578.9473684210525 fun: 0.32154872628951586\n",
      "Found new minimum for x:0.25, T:1578.9473684210525 fun: 0.14194006368732798\n",
      "Found new minimum for x:0.25, T:1578.9473684210525 fun: 0.05558085197926349\n",
      "Found new minimum for x:0.25, T:1578.9473684210525 fun: -0.09583242453509269\n",
      "Found new minimum for x:0.25, T:1578.9473684210525 fun: -0.8445698953339058\n",
      "Found new minimum for x:0.25, T:1578.9473684210525 fun: -0.9436166862979238\n",
      "Found new minimum for x:0.25, T:1578.9473684210525 fun: -1.5852870290511742\n"
     ]
    },
    {
     "data": {
      "application/vnd.jupyter.widget-view+json": {
       "model_id": "7abae3211b0f426b8f67840bd33289c4",
       "version_major": 2,
       "version_minor": 0
      },
      "text/plain": [
       "  0%|          | 0/500 [00:00<?, ?it/s]"
      ]
     },
     "metadata": {},
     "output_type": "display_data"
    },
    {
     "name": "stdout",
     "output_type": "stream",
     "text": [
      "Found new minimum for x:0.4999999999999998, T:1578.9473684210525 fun: 1.194782961375175\n",
      "Found new minimum for x:0.4999999999999998, T:1578.9473684210525 fun: 0.9504706370871043\n",
      "Found new minimum for x:0.4999999999999998, T:1578.9473684210525 fun: 0.7348736749816237\n",
      "Found new minimum for x:0.4999999999999998, T:1578.9473684210525 fun: 0.7152233173914468\n",
      "Found new minimum for x:0.4999999999999998, T:1578.9473684210525 fun: 0.684471481339364\n",
      "Found new minimum for x:0.4999999999999998, T:1578.9473684210525 fun: 0.5910044430283985\n",
      "Found new minimum for x:0.4999999999999998, T:1578.9473684210525 fun: 0.5188535364336003\n",
      "Found new minimum for x:0.4999999999999998, T:1578.9473684210525 fun: 0.41583576202722666\n",
      "Found new minimum for x:0.4999999999999998, T:1578.9473684210525 fun: 0.41190544766327564\n",
      "Found new minimum for x:0.4999999999999998, T:1578.9473684210525 fun: 0.284357724437586\n",
      "Found new minimum for x:0.4999999999999998, T:1578.9473684210525 fun: 0.28093446480513157\n",
      "Found new minimum for x:0.4999999999999998, T:1578.9473684210525 fun: 0.2724840774157663\n"
     ]
    },
    {
     "data": {
      "application/vnd.jupyter.widget-view+json": {
       "model_id": "db6307cb1ca44ea9800d26ab243dffe1",
       "version_major": 2,
       "version_minor": 0
      },
      "text/plain": [
       "  0%|          | 0/500 [00:00<?, ?it/s]"
      ]
     },
     "metadata": {},
     "output_type": "display_data"
    },
    {
     "name": "stdout",
     "output_type": "stream",
     "text": [
      "Found new minimum for x:0.7499999999999998, T:1578.9473684210525 fun: 2.3464039369889207\n",
      "Found new minimum for x:0.7499999999999998, T:1578.9473684210525 fun: 2.137533970437274\n",
      "Found new minimum for x:0.7499999999999998, T:1578.9473684210525 fun: 2.093003957254238\n",
      "Found new minimum for x:0.7499999999999998, T:1578.9473684210525 fun: 2.008448014291867\n",
      "Found new minimum for x:0.7499999999999998, T:1578.9473684210525 fun: 1.808602707982345\n"
     ]
    },
    {
     "data": {
      "application/vnd.jupyter.widget-view+json": {
       "model_id": "12697476302f4882bcb8513079e9b612",
       "version_major": 2,
       "version_minor": 0
      },
      "text/plain": [
       "  0%|          | 0/500 [00:00<?, ?it/s]"
      ]
     },
     "metadata": {},
     "output_type": "display_data"
    },
    {
     "name": "stdout",
     "output_type": "stream",
     "text": [
      "Found new minimum for x:0.9999999999999998, T:1578.9473684210525 fun: 3.999999725002076\n",
      "Found new minimum for x:0.9999999999999998, T:1578.9473684210525 fun: 3.9999997184268166\n",
      "Found new minimum for x:0.9999999999999998, T:1578.9473684210525 fun: 3.999999714397374\n"
     ]
    },
    {
     "data": {
      "application/vnd.jupyter.widget-view+json": {
       "model_id": "8465bf3585cc452cb2d915a479a8a43b",
       "version_major": 2,
       "version_minor": 0
      },
      "text/plain": [
       "  0%|          | 0/9 [00:00<?, ?it/s]"
      ]
     },
     "metadata": {},
     "output_type": "display_data"
    },
    {
     "data": {
      "application/vnd.jupyter.widget-view+json": {
       "model_id": "75e5cf8cef6e4289829c9ee0fa71313f",
       "version_major": 2,
       "version_minor": 0
      },
      "text/plain": [
       "  0%|          | 0/500 [00:00<?, ?it/s]"
      ]
     },
     "metadata": {},
     "output_type": "display_data"
    },
    {
     "name": "stdout",
     "output_type": "stream",
     "text": [
      "Found new minimum for x:-0.9999999999999998, T:1684.2105263157894 fun: 3.999999853966533\n",
      "Found new minimum for x:-0.9999999999999998, T:1684.2105263157894 fun: 3.999999834438018\n",
      "Found new minimum for x:-0.9999999999999998, T:1684.2105263157894 fun: 3.999999751223455\n",
      "Found new minimum for x:-0.9999999999999998, T:1684.2105263157894 fun: 3.9999997368764664\n",
      "Found new minimum for x:-0.9999999999999998, T:1684.2105263157894 fun: 3.9999997221526593\n",
      "Found new minimum for x:-0.9999999999999998, T:1684.2105263157894 fun: 3.999999712324952\n",
      "Found new minimum for x:-0.9999999999999998, T:1684.2105263157894 fun: 3.999999699736621\n"
     ]
    },
    {
     "data": {
      "application/vnd.jupyter.widget-view+json": {
       "model_id": "fe7b9d68aadb4500a713ce38631d6e56",
       "version_major": 2,
       "version_minor": 0
      },
      "text/plain": [
       "  0%|          | 0/500 [00:00<?, ?it/s]"
      ]
     },
     "metadata": {},
     "output_type": "display_data"
    },
    {
     "name": "stdout",
     "output_type": "stream",
     "text": [
      "Found new minimum for x:-0.7499999999999998, T:1684.2105263157894 fun: 2.4077026631251104\n",
      "Found new minimum for x:-0.7499999999999998, T:1684.2105263157894 fun: 2.3826899885356196\n",
      "Found new minimum for x:-0.7499999999999998, T:1684.2105263157894 fun: 2.2532621148933205\n",
      "Found new minimum for x:-0.7499999999999998, T:1684.2105263157894 fun: 2.2304470123290643\n",
      "Found new minimum for x:-0.7499999999999998, T:1684.2105263157894 fun: 2.16091998596412\n",
      "Found new minimum for x:-0.7499999999999998, T:1684.2105263157894 fun: 1.837597423578833\n",
      "Found new minimum for x:-0.7499999999999998, T:1684.2105263157894 fun: 1.7968792693979099\n",
      "Found new minimum for x:-0.7499999999999998, T:1684.2105263157894 fun: 1.7957637950928045\n",
      "Found new minimum for x:-0.7499999999999998, T:1684.2105263157894 fun: 1.7957637703691585\n"
     ]
    },
    {
     "data": {
      "application/vnd.jupyter.widget-view+json": {
       "model_id": "19989a014f75496ea95e17c17d0a0b84",
       "version_major": 2,
       "version_minor": 0
      },
      "text/plain": [
       "  0%|          | 0/500 [00:00<?, ?it/s]"
      ]
     },
     "metadata": {},
     "output_type": "display_data"
    },
    {
     "name": "stdout",
     "output_type": "stream",
     "text": [
      "Found new minimum for x:-0.4999999999999999, T:1684.2105263157894 fun: 0.28363042108940173\n",
      "Found new minimum for x:-0.4999999999999999, T:1684.2105263157894 fun: -0.2538589556757732\n"
     ]
    },
    {
     "data": {
      "application/vnd.jupyter.widget-view+json": {
       "model_id": "f469a332603844f8a92cdfc1ea0adee9",
       "version_major": 2,
       "version_minor": 0
      },
      "text/plain": [
       "  0%|          | 0/500 [00:00<?, ?it/s]"
      ]
     },
     "metadata": {},
     "output_type": "display_data"
    },
    {
     "name": "stdout",
     "output_type": "stream",
     "text": [
      "Found new minimum for x:-0.25, T:1684.2105263157894 fun: 0.7541812025504516\n",
      "Found new minimum for x:-0.25, T:1684.2105263157894 fun: 0.2925340478276547\n",
      "Found new minimum for x:-0.25, T:1684.2105263157894 fun: -0.04005656387483769\n",
      "Found new minimum for x:-0.25, T:1684.2105263157894 fun: -0.9126640467327691\n",
      "Found new minimum for x:-0.25, T:1684.2105263157894 fun: -1.4522801802832987\n",
      "Found new minimum for x:-0.25, T:1684.2105263157894 fun: -1.9900263170351302\n",
      "Found new minimum for x:-0.25, T:1684.2105263157894 fun: -2.236147831296829\n"
     ]
    },
    {
     "data": {
      "application/vnd.jupyter.widget-view+json": {
       "model_id": "6a56102b6748437abbb8f4e2d782f930",
       "version_major": 2,
       "version_minor": 0
      },
      "text/plain": [
       "  0%|          | 0/500 [00:00<?, ?it/s]"
      ]
     },
     "metadata": {},
     "output_type": "display_data"
    },
    {
     "name": "stdout",
     "output_type": "stream",
     "text": [
      "Found new minimum for x:0.0, T:1684.2105263157894 fun: 0.4576168263971634\n",
      "Found new minimum for x:0.0, T:1684.2105263157894 fun: -0.3843084938916519\n",
      "Found new minimum for x:0.0, T:1684.2105263157894 fun: -1.7929730818648213\n",
      "Found new minimum for x:0.0, T:1684.2105263157894 fun: -2.417469596947995\n"
     ]
    },
    {
     "data": {
      "application/vnd.jupyter.widget-view+json": {
       "model_id": "883e1d7ce3134b548d87119f03a72023",
       "version_major": 2,
       "version_minor": 0
      },
      "text/plain": [
       "  0%|          | 0/500 [00:00<?, ?it/s]"
      ]
     },
     "metadata": {},
     "output_type": "display_data"
    },
    {
     "name": "stdout",
     "output_type": "stream",
     "text": [
      "Found new minimum for x:0.25, T:1684.2105263157894 fun: 1.5460676411195144\n",
      "Found new minimum for x:0.25, T:1684.2105263157894 fun: 0.7036377181139957\n",
      "Found new minimum for x:0.25, T:1684.2105263157894 fun: 0.046423980390620845\n",
      "Found new minimum for x:0.25, T:1684.2105263157894 fun: -0.14860552665781945\n",
      "Found new minimum for x:0.25, T:1684.2105263157894 fun: -0.17731503647593308\n",
      "Found new minimum for x:0.25, T:1684.2105263157894 fun: -0.7954923862073062\n",
      "Found new minimum for x:0.25, T:1684.2105263157894 fun: -0.887679404755114\n",
      "Found new minimum for x:0.25, T:1684.2105263157894 fun: -1.0233919414548824\n",
      "Found new minimum for x:0.25, T:1684.2105263157894 fun: -1.2860586971667756\n",
      "Found new minimum for x:0.25, T:1684.2105263157894 fun: -1.6341181555351452\n"
     ]
    },
    {
     "data": {
      "application/vnd.jupyter.widget-view+json": {
       "model_id": "69bdb0e13f3f47a8adf94bfb71def703",
       "version_major": 2,
       "version_minor": 0
      },
      "text/plain": [
       "  0%|          | 0/500 [00:00<?, ?it/s]"
      ]
     },
     "metadata": {},
     "output_type": "display_data"
    },
    {
     "name": "stdout",
     "output_type": "stream",
     "text": [
      "Found new minimum for x:0.4999999999999998, T:1684.2105263157894 fun: 0.5614564787887892\n",
      "Found new minimum for x:0.4999999999999998, T:1684.2105263157894 fun: 0.5537121127540635\n",
      "Found new minimum for x:0.4999999999999998, T:1684.2105263157894 fun: 0.40621540080887286\n",
      "Found new minimum for x:0.4999999999999998, T:1684.2105263157894 fun: 0.254522315476349\n",
      "Found new minimum for x:0.4999999999999998, T:1684.2105263157894 fun: -0.12724051659678287\n",
      "Found new minimum for x:0.4999999999999998, T:1684.2105263157894 fun: -0.22018390284903544\n"
     ]
    },
    {
     "data": {
      "application/vnd.jupyter.widget-view+json": {
       "model_id": "72f405fd26a648b6b4c097e656091bac",
       "version_major": 2,
       "version_minor": 0
      },
      "text/plain": [
       "  0%|          | 0/500 [00:00<?, ?it/s]"
      ]
     },
     "metadata": {},
     "output_type": "display_data"
    },
    {
     "name": "stdout",
     "output_type": "stream",
     "text": [
      "Found new minimum for x:0.7499999999999998, T:1684.2105263157894 fun: 2.171238107277493\n",
      "Found new minimum for x:0.7499999999999998, T:1684.2105263157894 fun: 2.1568000753005876\n",
      "Found new minimum for x:0.7499999999999998, T:1684.2105263157894 fun: 1.9106744861862404\n",
      "Found new minimum for x:0.7499999999999998, T:1684.2105263157894 fun: 1.7957637340686003\n",
      "Found new minimum for x:0.7499999999999998, T:1684.2105263157894 fun: 1.79576367609117\n"
     ]
    },
    {
     "data": {
      "application/vnd.jupyter.widget-view+json": {
       "model_id": "45ab1d0b5e934613ae1c1181ff2cd2ba",
       "version_major": 2,
       "version_minor": 0
      },
      "text/plain": [
       "  0%|          | 0/500 [00:00<?, ?it/s]"
      ]
     },
     "metadata": {},
     "output_type": "display_data"
    },
    {
     "name": "stdout",
     "output_type": "stream",
     "text": [
      "Found new minimum for x:0.9999999999999998, T:1684.2105263157894 fun: 3.9999997053036225\n",
      "Found new minimum for x:0.9999999999999998, T:1684.2105263157894 fun: 3.999999703789101\n"
     ]
    },
    {
     "data": {
      "application/vnd.jupyter.widget-view+json": {
       "model_id": "18173e5511de4819be5ea08d0326027f",
       "version_major": 2,
       "version_minor": 0
      },
      "text/plain": [
       "  0%|          | 0/9 [00:00<?, ?it/s]"
      ]
     },
     "metadata": {},
     "output_type": "display_data"
    },
    {
     "data": {
      "application/vnd.jupyter.widget-view+json": {
       "model_id": "9e5f43d29b914befa716450e92d4fe8f",
       "version_major": 2,
       "version_minor": 0
      },
      "text/plain": [
       "  0%|          | 0/500 [00:00<?, ?it/s]"
      ]
     },
     "metadata": {},
     "output_type": "display_data"
    },
    {
     "name": "stdout",
     "output_type": "stream",
     "text": [
      "Found new minimum for x:-0.9999999999999998, T:1789.4736842105262 fun: 3.999999789977498\n",
      "Found new minimum for x:-0.9999999999999998, T:1789.4736842105262 fun: 3.9999997605885227\n",
      "Found new minimum for x:-0.9999999999999998, T:1789.4736842105262 fun: 3.9999997003344876\n",
      "Found new minimum for x:-0.9999999999999998, T:1789.4736842105262 fun: 3.9999996989796966\n",
      "Found new minimum for x:-0.9999999999999998, T:1789.4736842105262 fun: 3.999999680430306\n"
     ]
    },
    {
     "data": {
      "application/vnd.jupyter.widget-view+json": {
       "model_id": "964ea4268093495db64a6fd55675fc72",
       "version_major": 2,
       "version_minor": 0
      },
      "text/plain": [
       "  0%|          | 0/500 [00:00<?, ?it/s]"
      ]
     },
     "metadata": {},
     "output_type": "display_data"
    },
    {
     "name": "stdout",
     "output_type": "stream",
     "text": [
      "Found new minimum for x:-0.7499999999999998, T:1789.4736842105262 fun: 2.6073787922608838\n",
      "Found new minimum for x:-0.7499999999999998, T:1789.4736842105262 fun: 2.411620947556836\n",
      "Found new minimum for x:-0.7499999999999998, T:1789.4736842105262 fun: 2.3534645471090614\n",
      "Found new minimum for x:-0.7499999999999998, T:1789.4736842105262 fun: 2.234609868267721\n",
      "Found new minimum for x:-0.7499999999999998, T:1789.4736842105262 fun: 2.194050773810271\n",
      "Found new minimum for x:-0.7499999999999998, T:1789.4736842105262 fun: 2.1523950314015385\n",
      "Found new minimum for x:-0.7499999999999998, T:1789.4736842105262 fun: 2.067498375652789\n",
      "Found new minimum for x:-0.7499999999999998, T:1789.4736842105262 fun: 1.7833756289773202\n",
      "Found new minimum for x:-0.7499999999999998, T:1789.4736842105262 fun: 1.7831794603694442\n",
      "Found new minimum for x:-0.7499999999999998, T:1789.4736842105262 fun: 1.7829990321674292\n",
      "Found new minimum for x:-0.7499999999999998, T:1789.4736842105262 fun: 1.7829989450242514\n",
      "Found new minimum for x:-0.7499999999999998, T:1789.4736842105262 fun: 1.7829989449137555\n"
     ]
    },
    {
     "data": {
      "application/vnd.jupyter.widget-view+json": {
       "model_id": "1ccfe99646d7463a8d90e08073a0f38d",
       "version_major": 2,
       "version_minor": 0
      },
      "text/plain": [
       "  0%|          | 0/500 [00:00<?, ?it/s]"
      ]
     },
     "metadata": {},
     "output_type": "display_data"
    },
    {
     "name": "stdout",
     "output_type": "stream",
     "text": [
      "Found new minimum for x:-0.4999999999999999, T:1789.4736842105262 fun: 1.1269872980368205\n",
      "Found new minimum for x:-0.4999999999999999, T:1789.4736842105262 fun: 0.39186693495554364\n",
      "Found new minimum for x:-0.4999999999999999, T:1789.4736842105262 fun: 0.3775607292699354\n",
      "Found new minimum for x:-0.4999999999999999, T:1789.4736842105262 fun: 0.2777360967467234\n",
      "Found new minimum for x:-0.4999999999999999, T:1789.4736842105262 fun: -0.23394514235535796\n",
      "Found new minimum for x:-0.4999999999999999, T:1789.4736842105262 fun: -0.26785241541848515\n",
      "Found new minimum for x:-0.4999999999999999, T:1789.4736842105262 fun: -0.2923166549985309\n"
     ]
    },
    {
     "data": {
      "application/vnd.jupyter.widget-view+json": {
       "model_id": "2e4fb14141f34424856e0a55cc6d77df",
       "version_major": 2,
       "version_minor": 0
      },
      "text/plain": [
       "  0%|          | 0/500 [00:00<?, ?it/s]"
      ]
     },
     "metadata": {},
     "output_type": "display_data"
    },
    {
     "name": "stdout",
     "output_type": "stream",
     "text": [
      "Found new minimum for x:-0.25, T:1789.4736842105262 fun: 1.4419890278176777\n",
      "Found new minimum for x:-0.25, T:1789.4736842105262 fun: -0.36613403822140994\n",
      "Found new minimum for x:-0.25, T:1789.4736842105262 fun: -0.6396427521497217\n",
      "Found new minimum for x:-0.25, T:1789.4736842105262 fun: -0.7210746985149015\n",
      "Found new minimum for x:-0.25, T:1789.4736842105262 fun: -1.1465694211462796\n",
      "Found new minimum for x:-0.25, T:1789.4736842105262 fun: -1.4010966938482057\n",
      "Found new minimum for x:-0.25, T:1789.4736842105262 fun: -1.4048642125401527\n",
      "Found new minimum for x:-0.25, T:1789.4736842105262 fun: -1.587945579499788\n"
     ]
    },
    {
     "data": {
      "application/vnd.jupyter.widget-view+json": {
       "model_id": "1865234df9934a28b10f224cdf0ff7f4",
       "version_major": 2,
       "version_minor": 0
      },
      "text/plain": [
       "  0%|          | 0/500 [00:00<?, ?it/s]"
      ]
     },
     "metadata": {},
     "output_type": "display_data"
    },
    {
     "name": "stdout",
     "output_type": "stream",
     "text": [
      "Found new minimum for x:0.0, T:1789.4736842105262 fun: 0.5539945143537915\n",
      "Found new minimum for x:0.0, T:1789.4736842105262 fun: -0.03306532570881621\n",
      "Found new minimum for x:0.0, T:1789.4736842105262 fun: -0.9826171536475989\n",
      "Found new minimum for x:0.0, T:1789.4736842105262 fun: -1.2862153987643223\n",
      "Found new minimum for x:0.0, T:1789.4736842105262 fun: -1.4209171324071237\n",
      "Found new minimum for x:0.0, T:1789.4736842105262 fun: -1.673639819572418\n",
      "Found new minimum for x:0.0, T:1789.4736842105262 fun: -2.3990517899041786\n",
      "Found new minimum for x:0.0, T:1789.4736842105262 fun: -2.938321356850467\n"
     ]
    },
    {
     "data": {
      "application/vnd.jupyter.widget-view+json": {
       "model_id": "defcb08e28844d359f8a82791d4fb97e",
       "version_major": 2,
       "version_minor": 0
      },
      "text/plain": [
       "  0%|          | 0/500 [00:00<?, ?it/s]"
      ]
     },
     "metadata": {},
     "output_type": "display_data"
    },
    {
     "name": "stdout",
     "output_type": "stream",
     "text": [
      "Found new minimum for x:0.25, T:1789.4736842105262 fun: 0.5955043693404596\n",
      "Found new minimum for x:0.25, T:1789.4736842105262 fun: -0.22750686111395538\n",
      "Found new minimum for x:0.25, T:1789.4736842105262 fun: -0.894354809525576\n",
      "Found new minimum for x:0.25, T:1789.4736842105262 fun: -1.1864574132729313\n",
      "Found new minimum for x:0.25, T:1789.4736842105262 fun: -1.6111698525446372\n"
     ]
    },
    {
     "data": {
      "application/vnd.jupyter.widget-view+json": {
       "model_id": "a365aee3d71f4266943c4605691e34f6",
       "version_major": 2,
       "version_minor": 0
      },
      "text/plain": [
       "  0%|          | 0/500 [00:00<?, ?it/s]"
      ]
     },
     "metadata": {},
     "output_type": "display_data"
    },
    {
     "name": "stdout",
     "output_type": "stream",
     "text": [
      "Found new minimum for x:0.4999999999999998, T:1789.4736842105262 fun: 0.7493257033090708\n",
      "Found new minimum for x:0.4999999999999998, T:1789.4736842105262 fun: 0.7107439879648711\n",
      "Found new minimum for x:0.4999999999999998, T:1789.4736842105262 fun: 0.5619242860985998\n",
      "Found new minimum for x:0.4999999999999998, T:1789.4736842105262 fun: 0.5584096919804642\n",
      "Found new minimum for x:0.4999999999999998, T:1789.4736842105262 fun: 0.4796055934943547\n",
      "Found new minimum for x:0.4999999999999998, T:1789.4736842105262 fun: 0.4144165548437153\n",
      "Found new minimum for x:0.4999999999999998, T:1789.4736842105262 fun: 0.3881998984226861\n",
      "Found new minimum for x:0.4999999999999998, T:1789.4736842105262 fun: 0.22061060919921527\n",
      "Found new minimum for x:0.4999999999999998, T:1789.4736842105262 fun: -0.3045916524107333\n"
     ]
    },
    {
     "data": {
      "application/vnd.jupyter.widget-view+json": {
       "model_id": "43676b72396a4010b4e697bbb37d9bef",
       "version_major": 2,
       "version_minor": 0
      },
      "text/plain": [
       "  0%|          | 0/500 [00:00<?, ?it/s]"
      ]
     },
     "metadata": {},
     "output_type": "display_data"
    },
    {
     "name": "stdout",
     "output_type": "stream",
     "text": [
      "Found new minimum for x:0.7499999999999998, T:1789.4736842105262 fun: 2.252958034695495\n",
      "Found new minimum for x:0.7499999999999998, T:1789.4736842105262 fun: 2.2260834154584046\n",
      "Found new minimum for x:0.7499999999999998, T:1789.4736842105262 fun: 2.13150828374935\n",
      "Found new minimum for x:0.7499999999999998, T:1789.4736842105262 fun: 1.9208035177289386\n",
      "Found new minimum for x:0.7499999999999998, T:1789.4736842105262 fun: 1.808575426870687\n"
     ]
    },
    {
     "data": {
      "application/vnd.jupyter.widget-view+json": {
       "model_id": "c6fc4949fc5a48d88d603d732444e56c",
       "version_major": 2,
       "version_minor": 0
      },
      "text/plain": [
       "  0%|          | 0/500 [00:00<?, ?it/s]"
      ]
     },
     "metadata": {},
     "output_type": "display_data"
    },
    {
     "name": "stdout",
     "output_type": "stream",
     "text": [
      "Found new minimum for x:0.9999999999999998, T:1789.4736842105262 fun: 3.9999997615450535\n",
      "Found new minimum for x:0.9999999999999998, T:1789.4736842105262 fun: 3.9999997292427207\n",
      "Found new minimum for x:0.9999999999999998, T:1789.4736842105262 fun: 3.9999996885602735\n"
     ]
    },
    {
     "data": {
      "application/vnd.jupyter.widget-view+json": {
       "model_id": "e4146d86744b4e398e88633e9d41df70",
       "version_major": 2,
       "version_minor": 0
      },
      "text/plain": [
       "  0%|          | 0/9 [00:00<?, ?it/s]"
      ]
     },
     "metadata": {},
     "output_type": "display_data"
    },
    {
     "data": {
      "application/vnd.jupyter.widget-view+json": {
       "model_id": "e7a8c2d3502342da9da8df8bebbd312d",
       "version_major": 2,
       "version_minor": 0
      },
      "text/plain": [
       "  0%|          | 0/500 [00:00<?, ?it/s]"
      ]
     },
     "metadata": {},
     "output_type": "display_data"
    },
    {
     "name": "stdout",
     "output_type": "stream",
     "text": [
      "Found new minimum for x:-0.9999999999999998, T:1894.7368421052631 fun: 3.999999813645949\n",
      "Found new minimum for x:-0.9999999999999998, T:1894.7368421052631 fun: 3.999999744649439\n",
      "Found new minimum for x:-0.9999999999999998, T:1894.7368421052631 fun: 3.9999996984255457\n",
      "Found new minimum for x:-0.9999999999999998, T:1894.7368421052631 fun: 3.999999697319799\n",
      "Found new minimum for x:-0.9999999999999998, T:1894.7368421052631 fun: 3.9999996849434085\n"
     ]
    },
    {
     "data": {
      "application/vnd.jupyter.widget-view+json": {
       "model_id": "7dd4b0a7eb0d45e4ab05c7946d3f2443",
       "version_major": 2,
       "version_minor": 0
      },
      "text/plain": [
       "  0%|          | 0/500 [00:00<?, ?it/s]"
      ]
     },
     "metadata": {},
     "output_type": "display_data"
    },
    {
     "name": "stdout",
     "output_type": "stream",
     "text": [
      "Found new minimum for x:-0.7499999999999998, T:1894.7368421052631 fun: 2.279174915175836\n",
      "Found new minimum for x:-0.7499999999999998, T:1894.7368421052631 fun: 2.2522363625332718\n",
      "Found new minimum for x:-0.7499999999999998, T:1894.7368421052631 fun: 2.2426298046205804\n",
      "Found new minimum for x:-0.7499999999999998, T:1894.7368421052631 fun: 2.179565734434867\n",
      "Found new minimum for x:-0.7499999999999998, T:1894.7368421052631 fun: 2.1516626351596972\n",
      "Found new minimum for x:-0.7499999999999998, T:1894.7368421052631 fun: 2.1063488758667983\n",
      "Found new minimum for x:-0.7499999999999998, T:1894.7368421052631 fun: 1.772094901218336\n",
      "Found new minimum for x:-0.7499999999999998, T:1894.7368421052631 fun: 1.7705911439948165\n",
      "Found new minimum for x:-0.7499999999999998, T:1894.7368421052631 fun: 1.7702341404238904\n"
     ]
    },
    {
     "data": {
      "application/vnd.jupyter.widget-view+json": {
       "model_id": "d6d3bf9b83ec43a7a7411bdafbe498d8",
       "version_major": 2,
       "version_minor": 0
      },
      "text/plain": [
       "  0%|          | 0/500 [00:00<?, ?it/s]"
      ]
     },
     "metadata": {},
     "output_type": "display_data"
    },
    {
     "name": "stdout",
     "output_type": "stream",
     "text": [
      "Found new minimum for x:-0.4999999999999999, T:1894.7368421052631 fun: 1.0286846132639098\n",
      "Found new minimum for x:-0.4999999999999999, T:1894.7368421052631 fun: 0.7343734174816595\n",
      "Found new minimum for x:-0.4999999999999999, T:1894.7368421052631 fun: 0.6304030227304623\n",
      "Found new minimum for x:-0.4999999999999999, T:1894.7368421052631 fun: 0.1429494174410778\n",
      "Found new minimum for x:-0.4999999999999999, T:1894.7368421052631 fun: -0.019913598459617265\n",
      "Found new minimum for x:-0.4999999999999999, T:1894.7368421052631 fun: -0.24813049883199734\n"
     ]
    },
    {
     "data": {
      "application/vnd.jupyter.widget-view+json": {
       "model_id": "3c9b5ab589e54b10a80557dcb88a8270",
       "version_major": 2,
       "version_minor": 0
      },
      "text/plain": [
       "  0%|          | 0/500 [00:00<?, ?it/s]"
      ]
     },
     "metadata": {},
     "output_type": "display_data"
    },
    {
     "name": "stdout",
     "output_type": "stream",
     "text": [
      "Found new minimum for x:-0.25, T:1894.7368421052631 fun: 0.17282470374114212\n",
      "Found new minimum for x:-0.25, T:1894.7368421052631 fun: -0.061539349459882486\n",
      "Found new minimum for x:-0.25, T:1894.7368421052631 fun: -0.09210744858895054\n",
      "Found new minimum for x:-0.25, T:1894.7368421052631 fun: -0.2101799430375707\n",
      "Found new minimum for x:-0.25, T:1894.7368421052631 fun: -0.39104573990569164\n",
      "Found new minimum for x:-0.25, T:1894.7368421052631 fun: -0.43925211296248445\n",
      "Found new minimum for x:-0.25, T:1894.7368421052631 fun: -0.4599406020818571\n",
      "Found new minimum for x:-0.25, T:1894.7368421052631 fun: -0.8261380215954299\n",
      "Found new minimum for x:-0.25, T:1894.7368421052631 fun: -0.8723075715641242\n",
      "Found new minimum for x:-0.25, T:1894.7368421052631 fun: -1.9911837785338689\n",
      "Found new minimum for x:-0.25, T:1894.7368421052631 fun: -2.3011247952464187\n"
     ]
    },
    {
     "data": {
      "application/vnd.jupyter.widget-view+json": {
       "model_id": "2e38d8ba459d4b2db470c31a5ba96169",
       "version_major": 2,
       "version_minor": 0
      },
      "text/plain": [
       "  0%|          | 0/500 [00:00<?, ?it/s]"
      ]
     },
     "metadata": {},
     "output_type": "display_data"
    },
    {
     "name": "stdout",
     "output_type": "stream",
     "text": [
      "Found new minimum for x:0.0, T:1894.7368421052631 fun: 0.3852143695892597\n",
      "Found new minimum for x:0.0, T:1894.7368421052631 fun: 0.2233990695952956\n",
      "Found new minimum for x:0.0, T:1894.7368421052631 fun: -0.5467780741063064\n",
      "Found new minimum for x:0.0, T:1894.7368421052631 fun: -0.636785170547952\n",
      "Found new minimum for x:0.0, T:1894.7368421052631 fun: -0.7373386148304018\n",
      "Found new minimum for x:0.0, T:1894.7368421052631 fun: -0.874645716561846\n",
      "Found new minimum for x:0.0, T:1894.7368421052631 fun: -1.1484128562389126\n",
      "Found new minimum for x:0.0, T:1894.7368421052631 fun: -1.4356615084567954\n",
      "Found new minimum for x:0.0, T:1894.7368421052631 fun: -1.7282946562868056\n",
      "Found new minimum for x:0.0, T:1894.7368421052631 fun: -1.735921940984919\n",
      "Found new minimum for x:0.0, T:1894.7368421052631 fun: -1.968981540676883\n",
      "Found new minimum for x:0.0, T:1894.7368421052631 fun: -3.239142218692133\n"
     ]
    },
    {
     "data": {
      "application/vnd.jupyter.widget-view+json": {
       "model_id": "49d1e964a2404f3587c0fe36ba189821",
       "version_major": 2,
       "version_minor": 0
      },
      "text/plain": [
       "  0%|          | 0/500 [00:00<?, ?it/s]"
      ]
     },
     "metadata": {},
     "output_type": "display_data"
    },
    {
     "name": "stdout",
     "output_type": "stream",
     "text": [
      "Found new minimum for x:0.25, T:1894.7368421052631 fun: -0.9348482958793765\n",
      "Found new minimum for x:0.25, T:1894.7368421052631 fun: -1.6390064939746734\n"
     ]
    },
    {
     "data": {
      "application/vnd.jupyter.widget-view+json": {
       "model_id": "b5466878d9074549b359ccd2d2ffb05d",
       "version_major": 2,
       "version_minor": 0
      },
      "text/plain": [
       "  0%|          | 0/500 [00:00<?, ?it/s]"
      ]
     },
     "metadata": {},
     "output_type": "display_data"
    },
    {
     "name": "stdout",
     "output_type": "stream",
     "text": [
      "Found new minimum for x:0.4999999999999998, T:1894.7368421052631 fun: 0.8870006512450352\n",
      "Found new minimum for x:0.4999999999999998, T:1894.7368421052631 fun: 0.8749463617655193\n",
      "Found new minimum for x:0.4999999999999998, T:1894.7368421052631 fun: 0.7897889983203081\n",
      "Found new minimum for x:0.4999999999999998, T:1894.7368421052631 fun: 0.6338467472386508\n",
      "Found new minimum for x:0.4999999999999998, T:1894.7368421052631 fun: 0.5724545284497842\n",
      "Found new minimum for x:0.4999999999999998, T:1894.7368421052631 fun: 0.03514886011478813\n",
      "Found new minimum for x:0.4999999999999998, T:1894.7368421052631 fun: -0.24770674599533762\n",
      "Found new minimum for x:0.4999999999999998, T:1894.7368421052631 fun: -0.31152215316334153\n"
     ]
    },
    {
     "data": {
      "application/vnd.jupyter.widget-view+json": {
       "model_id": "9eb4df0dd48c475ba0124c733e7ca2ec",
       "version_major": 2,
       "version_minor": 0
      },
      "text/plain": [
       "  0%|          | 0/500 [00:00<?, ?it/s]"
      ]
     },
     "metadata": {},
     "output_type": "display_data"
    },
    {
     "name": "stdout",
     "output_type": "stream",
     "text": [
      "Found new minimum for x:0.7499999999999998, T:1894.7368421052631 fun: 2.271129994314268\n",
      "Found new minimum for x:0.7499999999999998, T:1894.7368421052631 fun: 2.2412779868405344\n",
      "Found new minimum for x:0.7499999999999998, T:1894.7368421052631 fun: 2.1962189958004252\n",
      "Found new minimum for x:0.7499999999999998, T:1894.7368421052631 fun: 2.098614713778032\n",
      "Found new minimum for x:0.7499999999999998, T:1894.7368421052631 fun: 1.9837270710658963\n",
      "Found new minimum for x:0.7499999999999998, T:1894.7368421052631 fun: 1.820342596201481\n",
      "Found new minimum for x:0.7499999999999998, T:1894.7368421052631 fun: 1.770318457982703\n",
      "Found new minimum for x:0.7499999999999998, T:1894.7368421052631 fun: 1.770234581758901\n"
     ]
    },
    {
     "data": {
      "application/vnd.jupyter.widget-view+json": {
       "model_id": "715592be77df42f49989a00ccf101bb8",
       "version_major": 2,
       "version_minor": 0
      },
      "text/plain": [
       "  0%|          | 0/500 [00:00<?, ?it/s]"
      ]
     },
     "metadata": {},
     "output_type": "display_data"
    },
    {
     "name": "stdout",
     "output_type": "stream",
     "text": [
      "Found new minimum for x:0.9999999999999998, T:1894.7368421052631 fun: 3.9999998191830533\n",
      "Found new minimum for x:0.9999999999999998, T:1894.7368421052631 fun: 3.9999997622657775\n",
      "Found new minimum for x:0.9999999999999998, T:1894.7368421052631 fun: 3.9999997221327277\n",
      "Found new minimum for x:0.9999999999999998, T:1894.7368421052631 fun: 3.9999997146083595\n",
      "Found new minimum for x:0.9999999999999998, T:1894.7368421052631 fun: 3.999999714146965\n",
      "Found new minimum for x:0.9999999999999998, T:1894.7368421052631 fun: 3.9999996988954054\n",
      "Found new minimum for x:0.9999999999999998, T:1894.7368421052631 fun: 3.999999693540362\n",
      "Found new minimum for x:0.9999999999999998, T:1894.7368421052631 fun: 3.999999692332127\n"
     ]
    },
    {
     "data": {
      "application/vnd.jupyter.widget-view+json": {
       "model_id": "dcba8b244eb14db280567501b8843481",
       "version_major": 2,
       "version_minor": 0
      },
      "text/plain": [
       "  0%|          | 0/9 [00:00<?, ?it/s]"
      ]
     },
     "metadata": {},
     "output_type": "display_data"
    },
    {
     "data": {
      "application/vnd.jupyter.widget-view+json": {
       "model_id": "1c0cd5dce16b408f8436aebc7115de2e",
       "version_major": 2,
       "version_minor": 0
      },
      "text/plain": [
       "  0%|          | 0/500 [00:00<?, ?it/s]"
      ]
     },
     "metadata": {},
     "output_type": "display_data"
    },
    {
     "name": "stdout",
     "output_type": "stream",
     "text": [
      "Found new minimum for x:-0.9999999999999998, T:2000.0 fun: 3.9999998370907606\n",
      "Found new minimum for x:-0.9999999999999998, T:2000.0 fun: 3.99999980228243\n",
      "Found new minimum for x:-0.9999999999999998, T:2000.0 fun: 3.9999997307406288\n",
      "Found new minimum for x:-0.9999999999999998, T:2000.0 fun: 3.9999997257094573\n",
      "Found new minimum for x:-0.9999999999999998, T:2000.0 fun: 3.999999715730621\n",
      "Found new minimum for x:-0.9999999999999998, T:2000.0 fun: 3.999999706392887\n",
      "Found new minimum for x:-0.9999999999999998, T:2000.0 fun: 3.9999997038856403\n",
      "Found new minimum for x:-0.9999999999999998, T:2000.0 fun: 3.9999996988491833\n",
      "Found new minimum for x:-0.9999999999999998, T:2000.0 fun: 3.9999996941374993\n",
      "Found new minimum for x:-0.9999999999999998, T:2000.0 fun: 3.999999685748844\n",
      "Found new minimum for x:-0.9999999999999998, T:2000.0 fun: 3.999999683092116\n",
      "Found new minimum for x:-0.9999999999999998, T:2000.0 fun: 3.9999996817739794\n"
     ]
    },
    {
     "data": {
      "application/vnd.jupyter.widget-view+json": {
       "model_id": "423ebde618654396abe405d40a8cd891",
       "version_major": 2,
       "version_minor": 0
      },
      "text/plain": [
       "  0%|          | 0/500 [00:00<?, ?it/s]"
      ]
     },
     "metadata": {},
     "output_type": "display_data"
    },
    {
     "name": "stdout",
     "output_type": "stream",
     "text": [
      "Found new minimum for x:-0.7499999999999998, T:2000.0 fun: 2.1374573223840025\n",
      "Found new minimum for x:-0.7499999999999998, T:2000.0 fun: 1.7586773574131827\n",
      "Found new minimum for x:-0.7499999999999998, T:2000.0 fun: 1.7575512037275807\n"
     ]
    },
    {
     "data": {
      "application/vnd.jupyter.widget-view+json": {
       "model_id": "2af788bb457545bf8d1b90271aca4d79",
       "version_major": 2,
       "version_minor": 0
      },
      "text/plain": [
       "  0%|          | 0/500 [00:00<?, ?it/s]"
      ]
     },
     "metadata": {},
     "output_type": "display_data"
    },
    {
     "name": "stdout",
     "output_type": "stream",
     "text": [
      "Found new minimum for x:-0.4999999999999999, T:2000.0 fun: 1.042668165524243\n",
      "Found new minimum for x:-0.4999999999999999, T:2000.0 fun: 0.2703208246713852\n",
      "Found new minimum for x:-0.4999999999999999, T:2000.0 fun: -0.3416766975308618\n"
     ]
    },
    {
     "data": {
      "application/vnd.jupyter.widget-view+json": {
       "model_id": "1ce0916acf5147aab49f449234c53838",
       "version_major": 2,
       "version_minor": 0
      },
      "text/plain": [
       "  0%|          | 0/500 [00:00<?, ?it/s]"
      ]
     },
     "metadata": {},
     "output_type": "display_data"
    },
    {
     "name": "stdout",
     "output_type": "stream",
     "text": [
      "Found new minimum for x:-0.25, T:2000.0 fun: 1.5388888435232477\n",
      "Found new minimum for x:-0.25, T:2000.0 fun: 0.077083759428977\n",
      "Found new minimum for x:-0.25, T:2000.0 fun: -0.8537675803278554\n",
      "Found new minimum for x:-0.25, T:2000.0 fun: -0.9304713352997802\n",
      "Found new minimum for x:-0.25, T:2000.0 fun: -0.9657780282628408\n",
      "Found new minimum for x:-0.25, T:2000.0 fun: -1.250317494807063\n",
      "Found new minimum for x:-0.25, T:2000.0 fun: -1.8568277634969863\n"
     ]
    },
    {
     "data": {
      "application/vnd.jupyter.widget-view+json": {
       "model_id": "6bd3d02268984bd380ed10b982c22358",
       "version_major": 2,
       "version_minor": 0
      },
      "text/plain": [
       "  0%|          | 0/500 [00:00<?, ?it/s]"
      ]
     },
     "metadata": {},
     "output_type": "display_data"
    },
    {
     "name": "stdout",
     "output_type": "stream",
     "text": [
      "Found new minimum for x:0.0, T:2000.0 fun: -0.16643224599360057\n",
      "Found new minimum for x:0.0, T:2000.0 fun: -0.4575395961091583\n",
      "Found new minimum for x:0.0, T:2000.0 fun: -0.5368575635411801\n",
      "Found new minimum for x:0.0, T:2000.0 fun: -0.8851467777043505\n",
      "Found new minimum for x:0.0, T:2000.0 fun: -1.1206760601519377\n",
      "Found new minimum for x:0.0, T:2000.0 fun: -1.8591806988031878\n",
      "Found new minimum for x:0.0, T:2000.0 fun: -2.4923800211989775\n",
      "Found new minimum for x:0.0, T:2000.0 fun: -3.439535909432908\n",
      "Found new minimum for x:0.0, T:2000.0 fun: -4.045383750114726\n"
     ]
    },
    {
     "data": {
      "application/vnd.jupyter.widget-view+json": {
       "model_id": "778e6379108b4641acf79e301e657be1",
       "version_major": 2,
       "version_minor": 0
      },
      "text/plain": [
       "  0%|          | 0/500 [00:00<?, ?it/s]"
      ]
     },
     "metadata": {},
     "output_type": "display_data"
    },
    {
     "name": "stdout",
     "output_type": "stream",
     "text": [
      "Found new minimum for x:0.25, T:2000.0 fun: -0.6735598827623599\n",
      "Found new minimum for x:0.25, T:2000.0 fun: -1.2740731766894722\n",
      "Found new minimum for x:0.25, T:2000.0 fun: -2.3237187134096624\n"
     ]
    },
    {
     "data": {
      "application/vnd.jupyter.widget-view+json": {
       "model_id": "d0d30d2488d4447ab1b5666a19a3169e",
       "version_major": 2,
       "version_minor": 0
      },
      "text/plain": [
       "  0%|          | 0/500 [00:00<?, ?it/s]"
      ]
     },
     "metadata": {},
     "output_type": "display_data"
    },
    {
     "name": "stdout",
     "output_type": "stream",
     "text": [
      "Found new minimum for x:0.4999999999999998, T:2000.0 fun: 0.8120502633846396\n",
      "Found new minimum for x:0.4999999999999998, T:2000.0 fun: 0.20751088850865085\n",
      "Found new minimum for x:0.4999999999999998, T:2000.0 fun: -0.06693036438082667\n",
      "Found new minimum for x:0.4999999999999998, T:2000.0 fun: -0.08741766984007321\n"
     ]
    },
    {
     "data": {
      "application/vnd.jupyter.widget-view+json": {
       "model_id": "8430391281f44f7e97b38824e628cc41",
       "version_major": 2,
       "version_minor": 0
      },
      "text/plain": [
       "  0%|          | 0/500 [00:00<?, ?it/s]"
      ]
     },
     "metadata": {},
     "output_type": "display_data"
    },
    {
     "name": "stdout",
     "output_type": "stream",
     "text": [
      "Found new minimum for x:0.7499999999999998, T:2000.0 fun: 2.4082807668103734\n",
      "Found new minimum for x:0.7499999999999998, T:2000.0 fun: 2.3222749887939798\n",
      "Found new minimum for x:0.7499999999999998, T:2000.0 fun: 2.3046813419896974\n",
      "Found new minimum for x:0.7499999999999998, T:2000.0 fun: 2.2753323302629136\n",
      "Found new minimum for x:0.7499999999999998, T:2000.0 fun: 2.2705971460478427\n",
      "Found new minimum for x:0.7499999999999998, T:2000.0 fun: 2.2499977449596065\n",
      "Found new minimum for x:0.7499999999999998, T:2000.0 fun: 2.186578449000516\n",
      "Found new minimum for x:0.7499999999999998, T:2000.0 fun: 2.1287072417292245\n",
      "Found new minimum for x:0.7499999999999998, T:2000.0 fun: 2.094036477990589\n",
      "Found new minimum for x:0.7499999999999998, T:2000.0 fun: 1.8571327787595229\n",
      "Found new minimum for x:0.7499999999999998, T:2000.0 fun: 1.7935333032598768\n",
      "Found new minimum for x:0.7499999999999998, T:2000.0 fun: 1.7677032536985489\n"
     ]
    },
    {
     "data": {
      "application/vnd.jupyter.widget-view+json": {
       "model_id": "dd8094cd538b456899068c41b8ae5c99",
       "version_major": 2,
       "version_minor": 0
      },
      "text/plain": [
       "  0%|          | 0/500 [00:00<?, ?it/s]"
      ]
     },
     "metadata": {},
     "output_type": "display_data"
    },
    {
     "name": "stdout",
     "output_type": "stream",
     "text": [
      "Found new minimum for x:0.9999999999999998, T:2000.0 fun: 3.999999813613232\n",
      "Found new minimum for x:0.9999999999999998, T:2000.0 fun: 3.9999997162057785\n",
      "Found new minimum for x:0.9999999999999998, T:2000.0 fun: 3.999999710569124\n",
      "Found new minimum for x:0.9999999999999998, T:2000.0 fun: 3.999999702098307\n",
      "Found new minimum for x:0.9999999999999998, T:2000.0 fun: 3.9999996952604606\n",
      "Found new minimum for x:0.9999999999999998, T:2000.0 fun: 3.9999996857421607\n",
      "Found new minimum for x:0.9999999999999998, T:2000.0 fun: 3.999999674437366\n"
     ]
    }
   ],
   "source": [
    "results_uniform = pd.DataFrame(columns = ['T', '1-point_corr', 'F','corrs'])\n",
    "NUM_TRIALS = 500\n",
    "\n",
    "for temp in tqdm(np.linspace(0, 2000, num=20)):\n",
    "    for x in tqdm(np.linspace(-1+np.finfo(float).eps,1-np.finfo(float).eps,9)):\n",
    "        FIXED_CORR_1 = x\n",
    "        \n",
    "        MIN_RES_VAL = 1e5 #random large number\n",
    "        rho_pair = np.array([None,None])\n",
    "        #corrs0 = np.array([1, *np.random.uniform(-1, 1, 2)])\n",
    "        MIN_RES = corrs0\n",
    "\n",
    "        linear_constraints = []\n",
    "\n",
    "        for cluster_idx, _ in clusters.items():\n",
    "            if cluster_idx == 0:\n",
    "                linear_constraints.append(LinearConstraint(vmat[cluster_idx],\n",
    "                                                           [1]*len(configcoef[cluster_idx]),\n",
    "                                                           [1]*len(configcoef[cluster_idx])))\n",
    "            else:\n",
    "                linear_constraints.append(LinearConstraint(vmat[cluster_idx],\n",
    "                                                           [0]*len(configcoef[cluster_idx]),\n",
    "                                                           [1]*len(configcoef[cluster_idx])))\n",
    "        \n",
    "        bounds_corrs = Bounds([1, FIXED_CORR_1,*[-1]*(len(clusters)-2)],\n",
    "                              [1, FIXED_CORR_1,*[1]*(len(clusters)-2)]\n",
    "                             )\n",
    "     \n",
    "        options = {'verbose' : 0,\n",
    "                   'maxiter' : 5000,\n",
    "                   'xtol'    : 1e-9,\n",
    "                   'initial_constr_penalty' : 10,\n",
    "                  }\n",
    "        \n",
    "        for _ in tqdm(range(NUM_TRIALS)):\n",
    "            \n",
    "            corrs0 = np.array([1, x, *np.random.uniform(-1, 1, 4)])\n",
    "            res = minimize(F,\n",
    "                           corrs0,\n",
    "                           method='trust-constr',\n",
    "                           args=(vmat, kb, clusters, configs, configcoef,temp,eci),\n",
    "                           options=options,\n",
    "                           #jac='3-point',\n",
    "                           #hess=BFGS(),\n",
    "                           jac=F_jacobian,\n",
    "                           hess=F_hessian,\n",
    "                           constraints=[{'fun': constraint_rhos_sum, 'type': 'eq', 'args': [vmat, clusters, configcoef,]},\n",
    "                                        *linear_constraints, \n",
    "                                        {'fun': constraint_singlet, 'type': 'eq', 'args': [FIXED_CORR_1]},\n",
    "                                        {'fun': constraint_zero, 'type':'eq',},\n",
    "                                       ],\n",
    "                           bounds=bounds_corrs,\n",
    "                          )\n",
    "            \n",
    "            if res.fun < MIN_RES_VAL:\n",
    "                MIN_RES = res\n",
    "                MIN_RES_VAL = res.fun\n",
    "                print(f\"Found new minimum for x:{x}, T:{temp} fun: {MIN_RES_VAL}\")\n",
    "        \n",
    "            \n",
    "        for cluster_idx in clusters:\n",
    "            if cluster_idx == 2:\n",
    "                rho_pair = np.matmul(vmat[cluster_idx],MIN_RES.x)\n",
    "                break\n",
    "        \n",
    "        results_uniform = results_uniform.append({'T' : temp, \n",
    "                                           '1-point_corr' : x, \n",
    "                                           'F' : MIN_RES.fun, \n",
    "                                           'corrs': MIN_RES.x,\n",
    "                                           'rhos': rho_pair\n",
    "                                          }, \n",
    "                                          ignore_index = True\n",
    "                                         )\n",
    "now = datetime.now()\n",
    "now = now.strftime(\"%d-%m-%H:%M\")\n",
    "results_uniform.to_pickle(f'phaseDiag_{now}_uniform.pickle')"
   ]
  },
  {
   "cell_type": "markdown",
   "metadata": {
    "hidden": true
   },
   "source": [
    "## Plot Phase Diagram"
   ]
  },
  {
   "cell_type": "code",
   "execution_count": 157,
   "metadata": {
    "ExecuteTime": {
     "end_time": "2021-09-12T22:06:28.621427Z",
     "start_time": "2021-09-12T22:06:28.294005Z"
    },
    "hidden": true
   },
   "outputs": [
    {
     "data": {
      "application/vnd.plotly.v1+json": {
       "config": {
        "plotlyServerURL": "https://plot.ly"
       },
       "data": [
        {
         "mode": "markers+lines",
         "name": "T = 0.0",
         "type": "scatter",
         "x": [
          -0.9999999999999998,
          -0.7499999999999998,
          -0.4999999999999999,
          -0.25,
          0,
          0.25,
          0.4999999999999998,
          0.7499999999999998,
          0.9999999999999998
         ],
         "y": [
          3.999999818752014,
          2.000000338874256,
          0.028176290662634763,
          -1.3659516909389182,
          -3.999933956136038,
          -1.0766547723582196,
          0.12676656034479214,
          2.0069935000417414,
          3.9999998173039035
         ]
        },
        {
         "mode": "markers+lines",
         "name": "T = 105.26315789473684",
         "type": "scatter",
         "x": [
          -0.9999999999999998,
          -0.7499999999999998,
          -0.4999999999999999,
          -0.25,
          0,
          0.25,
          0.4999999999999998,
          0.7499999999999998,
          0.9999999999999998
         ],
         "y": [
          3.999999801767529,
          1.9872350697841275,
          -0.014827169366538436,
          -1.5830765984408883,
          -2.8248878590999995,
          -1.3168088705066179,
          0.004817877869823791,
          1.9942539164722526,
          3.9999998069702905
         ]
        },
        {
         "mode": "markers+lines",
         "name": "T = 210.52631578947367",
         "type": "scatter",
         "x": [
          -0.9999999999999998,
          -0.7499999999999998,
          -0.4999999999999999,
          -0.25,
          0,
          0.25,
          0.4999999999999998,
          0.7499999999999998,
          0.9999999999999998
         ],
         "y": [
          3.99999980156271,
          1.9744702978744675,
          -0.03610935429415888,
          -1.5567549387579152,
          -4.0124827075833,
          -1.9432603225972565,
          0.019693927703245205,
          1.9744711239488317,
          3.99999980553557
         ]
        },
        {
         "mode": "markers+lines",
         "name": "T = 315.7894736842105",
         "type": "scatter",
         "x": [
          -0.9999999999999998,
          -0.7499999999999998,
          -0.4999999999999999,
          -0.25,
          0,
          0.25,
          0.4999999999999998,
          0.7499999999999998,
          0.9999999999999998
         ],
         "y": [
          3.9999997969547794,
          1.9617056214321482,
          -0.041284442770460505,
          -2.0148000651078584,
          -3.6349678991586005,
          -0.8543347419711915,
          0.01415057035889103,
          1.9617056125850245,
          3.9999997918423014
         ]
        },
        {
         "mode": "markers+lines",
         "name": "T = 421.05263157894734",
         "type": "scatter",
         "x": [
          -0.9999999999999998,
          -0.7499999999999998,
          -0.4999999999999999,
          -0.25,
          0,
          0.25,
          0.4999999999999998,
          0.7499999999999998,
          0.9999999999999998
         ],
         "y": [
          3.9999997876896636,
          1.9489409245185754,
          -0.0676719017123504,
          -1.211461423160466,
          -3.5225418430616022,
          -2.0678745992545124,
          -0.002432100971925144,
          1.9849409558495559,
          3.999999787613946
         ]
        },
        {
         "mode": "markers+lines",
         "name": "T = 526.3157894736842",
         "type": "scatter",
         "x": [
          -0.9999999999999998,
          -0.7499999999999998,
          -0.4999999999999999,
          -0.25,
          0,
          0.25,
          0.4999999999999998,
          0.7499999999999998,
          0.9999999999999998
         ],
         "y": [
          3.9999997794444915,
          1.9361761040529761,
          -0.060815296955462284,
          -2.0835643225231566,
          -3.1222361274527715,
          -1.0828465892767998,
          -0.08968617205467459,
          1.9365953673815848,
          3.9999997764496618
         ]
        },
        {
         "mode": "markers+lines",
         "name": "T = 631.578947368421",
         "type": "scatter",
         "x": [
          -0.9999999999999998,
          -0.7499999999999998,
          -0.4999999999999999,
          -0.25,
          0,
          0.25,
          0.4999999999999998,
          0.7499999999999998,
          0.9999999999999998
         ],
         "y": [
          3.999999771352719,
          1.9234115490983001,
          -0.07351799519384986,
          -1.4150035362093802,
          -2.9095130354594736,
          -1.333194409423753,
          -0.10190227602509229,
          1.9234114701804677,
          3.9999997751810867
         ]
        },
        {
         "mode": "markers+lines",
         "name": "T = 736.8421052631578",
         "type": "scatter",
         "x": [
          -0.9999999999999998,
          -0.7499999999999998,
          -0.4999999999999999,
          -0.25,
          0,
          0.25,
          0.4999999999999998,
          0.7499999999999998,
          0.9999999999999998
         ],
         "y": [
          3.9999997654070243,
          1.9106466605113273,
          -0.04711168418375737,
          -2.1191491305937196,
          -2.5201012490216455,
          -1.4669056264386615,
          -0.06310340194265963,
          2.1069143738224745,
          3.9999997620207792
         ]
        },
        {
         "mode": "markers+lines",
         "name": "T = 842.1052631578947",
         "type": "scatter",
         "x": [
          -0.9999999999999998,
          -0.7499999999999998,
          -0.4999999999999999,
          -0.25,
          0,
          0.25,
          0.4999999999999998,
          0.7499999999999998,
          0.9999999999999998
         ],
         "y": [
          3.9999997604696493,
          1.8978817561414743,
          -0.0917702775884879,
          -1.526729090923632,
          -2.674510258772925,
          -1.5586534155782574,
          -0.1182092257412198,
          1.8978817419716516,
          3.999999761836163
         ]
        },
        {
         "mode": "markers+lines",
         "name": "T = 947.3684210526316",
         "type": "scatter",
         "x": [
          -0.9999999999999998,
          -0.7499999999999998,
          -0.4999999999999999,
          -0.25,
          0,
          0.25,
          0.4999999999999998,
          0.7499999999999998,
          0.9999999999999998
         ],
         "y": [
          3.9999997543687527,
          1.8851170562772337,
          -0.1604361067509955,
          -2.1535577223756692,
          -2.4966956254557475,
          -1.3048915869762316,
          -0.13718041583551796,
          1.9387349675652163,
          3.999999754405089
         ]
        },
        {
         "mode": "markers+lines",
         "name": "T = 1052.6315789473683",
         "type": "scatter",
         "x": [
          -0.9999999999999998,
          -0.7499999999999998,
          -0.4999999999999999,
          -0.25,
          0,
          0.25,
          0.4999999999999998,
          0.7499999999999998,
          0.9999999999999998
         ],
         "y": [
          3.9999997376208665,
          1.8723522387412352,
          -0.1376148001798778,
          -1.8523215047597001,
          -3.4394330560160635,
          -1.4332133126687636,
          -0.14972777887940647,
          1.8723522783937625,
          3.9999997506491525
         ]
        },
        {
         "mode": "markers+lines",
         "name": "T = 1157.8947368421052",
         "type": "scatter",
         "x": [
          -0.9999999999999998,
          -0.7499999999999998,
          -0.4999999999999999,
          -0.25,
          0,
          0.25,
          0.4999999999999998,
          0.7499999999999998,
          0.9999999999999998
         ],
         "y": [
          3.9999997406947307,
          1.8595875176272403,
          -0.19249844155339396,
          -2.1143836606148105,
          -3.830566918780108,
          -1.1076128702876131,
          0.22376649515320188,
          1.8595888199412893,
          3.9999997379807595
         ]
        },
        {
         "mode": "markers+lines",
         "name": "T = 1263.157894736842",
         "type": "scatter",
         "x": [
          -0.9999999999999998,
          -0.7499999999999998,
          -0.4999999999999999,
          -0.25,
          0,
          0.25,
          0.4999999999999998,
          0.7499999999999998,
          0.9999999999999998
         ],
         "y": [
          3.999999724028006,
          1.8427216209999517,
          -0.21440162124926185,
          -1.9820130834055378,
          -2.7892318892919015,
          -2.1345811973299575,
          -0.14647741904121062,
          1.9334946113449551,
          3.9999997340381945
         ]
        },
        {
         "mode": "markers+lines",
         "name": "T = 1368.421052631579",
         "type": "scatter",
         "x": [
          -0.9999999999999998,
          -0.7499999999999998,
          -0.4999999999999999,
          -0.25,
          0,
          0.25,
          0.4999999999999998,
          0.7499999999999998,
          0.9999999999999998
         ],
         "y": [
          3.9999997251821866,
          1.8327217390422461,
          -0.22290278947816705,
          -1.6271142003050647,
          -2.613866418519906,
          -1.4439371137756212,
          -0.22599058737647185,
          1.8352250157147394,
          3.9999997253502224
         ]
        },
        {
         "mode": "markers+lines",
         "name": "T = 1473.6842105263156",
         "type": "scatter",
         "x": [
          -0.9999999999999998,
          -0.7499999999999998,
          -0.4999999999999999,
          -0.25,
          0,
          0.25,
          0.4999999999999998,
          0.7499999999999998,
          0.9999999999999998
         ],
         "y": [
          3.99999970535368,
          1.8212931916813884,
          -0.19266073488431906,
          -1.6557395662636978,
          -2.736561588931843,
          -1.3193618078160312,
          -0.18348786177573884,
          1.8330527119529565,
          3.999999718336821
         ]
        },
        {
         "mode": "markers+lines",
         "name": "T = 1578.9473684210525",
         "type": "scatter",
         "x": [
          -0.9999999999999998,
          -0.7499999999999998,
          -0.4999999999999999,
          -0.25,
          0,
          0.25,
          0.4999999999999998,
          0.7499999999999998,
          0.9999999999999998
         ],
         "y": [
          3.9999997092088093,
          1.808528557774142,
          -0.2599964777485009,
          -2.2561836655911196,
          -2.3386425241900133,
          -1.5852870290511742,
          0.2724840774157663,
          1.808602707982345,
          3.999999714397374
         ]
        },
        {
         "mode": "markers+lines",
         "name": "T = 1684.2105263157894",
         "type": "scatter",
         "x": [
          -0.9999999999999998,
          -0.7499999999999998,
          -0.4999999999999999,
          -0.25,
          0,
          0.25,
          0.4999999999999998,
          0.7499999999999998,
          0.9999999999999998
         ],
         "y": [
          3.999999699736621,
          1.7957637703691585,
          -0.2538589556757732,
          -2.236147831296829,
          -2.417469596947995,
          -1.6341181555351452,
          -0.22018390284903544,
          1.79576367609117,
          3.999999703789101
         ]
        },
        {
         "mode": "markers+lines",
         "name": "T = 1789.4736842105262",
         "type": "scatter",
         "x": [
          -0.9999999999999998,
          -0.7499999999999998,
          -0.4999999999999999,
          -0.25,
          0,
          0.25,
          0.4999999999999998,
          0.7499999999999998,
          0.9999999999999998
         ],
         "y": [
          3.999999680430306,
          1.7829989449137555,
          -0.2923166549985309,
          -1.587945579499788,
          -2.938321356850467,
          -1.6111698525446372,
          -0.3045916524107333,
          1.808575426870687,
          3.9999996885602735
         ]
        },
        {
         "mode": "markers+lines",
         "name": "T = 1894.7368421052631",
         "type": "scatter",
         "x": [
          -0.9999999999999998,
          -0.7499999999999998,
          -0.4999999999999999,
          -0.25,
          0,
          0.25,
          0.4999999999999998,
          0.7499999999999998,
          0.9999999999999998
         ],
         "y": [
          3.9999996849434085,
          1.7702341404238904,
          -0.24813049883199734,
          -2.3011247952464187,
          -3.239142218692133,
          -1.6390064939746734,
          -0.31152215316334153,
          1.770234581758901,
          3.999999692332127
         ]
        },
        {
         "mode": "markers+lines",
         "name": "T = 2000.0",
         "type": "scatter",
         "x": [
          -0.9999999999999998,
          -0.7499999999999998,
          -0.4999999999999999,
          -0.25,
          0,
          0.25,
          0.4999999999999998,
          0.7499999999999998,
          0.9999999999999998
         ],
         "y": [
          3.9999996817739794,
          1.7575512037275807,
          -0.3416766975308618,
          -1.8568277634969863,
          -4.045383750114726,
          -2.3237187134096624,
          -0.08741766984007321,
          1.7677032536985489,
          3.999999674437366
         ]
        }
       ],
       "layout": {
        "legend": {
         "title": {
          "text": "Temperature"
         }
        },
        "template": {
         "data": {
          "bar": [
           {
            "error_x": {
             "color": "rgb(36,36,36)"
            },
            "error_y": {
             "color": "rgb(36,36,36)"
            },
            "marker": {
             "line": {
              "color": "rgb(234,234,242)",
              "width": 0.5
             },
             "pattern": {
              "fillmode": "overlay",
              "size": 10,
              "solidity": 0.2
             }
            },
            "type": "bar"
           }
          ],
          "barpolar": [
           {
            "marker": {
             "line": {
              "color": "rgb(234,234,242)",
              "width": 0.5
             },
             "pattern": {
              "fillmode": "overlay",
              "size": 10,
              "solidity": 0.2
             }
            },
            "type": "barpolar"
           }
          ],
          "carpet": [
           {
            "aaxis": {
             "endlinecolor": "rgb(36,36,36)",
             "gridcolor": "white",
             "linecolor": "white",
             "minorgridcolor": "white",
             "startlinecolor": "rgb(36,36,36)"
            },
            "baxis": {
             "endlinecolor": "rgb(36,36,36)",
             "gridcolor": "white",
             "linecolor": "white",
             "minorgridcolor": "white",
             "startlinecolor": "rgb(36,36,36)"
            },
            "type": "carpet"
           }
          ],
          "choropleth": [
           {
            "colorbar": {
             "outlinewidth": 0,
             "tickcolor": "rgb(36,36,36)",
             "ticklen": 8,
             "ticks": "outside",
             "tickwidth": 2
            },
            "type": "choropleth"
           }
          ],
          "contour": [
           {
            "colorbar": {
             "outlinewidth": 0,
             "tickcolor": "rgb(36,36,36)",
             "ticklen": 8,
             "ticks": "outside",
             "tickwidth": 2
            },
            "colorscale": [
             [
              0,
              "rgb(2,4,25)"
             ],
             [
              0.06274509803921569,
              "rgb(24,15,41)"
             ],
             [
              0.12549019607843137,
              "rgb(47,23,57)"
             ],
             [
              0.18823529411764706,
              "rgb(71,28,72)"
             ],
             [
              0.25098039215686274,
              "rgb(97,30,82)"
             ],
             [
              0.3137254901960784,
              "rgb(123,30,89)"
             ],
             [
              0.3764705882352941,
              "rgb(150,27,91)"
             ],
             [
              0.4392156862745098,
              "rgb(177,22,88)"
             ],
             [
              0.5019607843137255,
              "rgb(203,26,79)"
             ],
             [
              0.5647058823529412,
              "rgb(223,47,67)"
             ],
             [
              0.6274509803921569,
              "rgb(236,76,61)"
             ],
             [
              0.6901960784313725,
              "rgb(242,107,73)"
             ],
             [
              0.7529411764705882,
              "rgb(244,135,95)"
             ],
             [
              0.8156862745098039,
              "rgb(245,162,122)"
             ],
             [
              0.8784313725490196,
              "rgb(246,188,153)"
             ],
             [
              0.9411764705882353,
              "rgb(247,212,187)"
             ],
             [
              1,
              "rgb(250,234,220)"
             ]
            ],
            "type": "contour"
           }
          ],
          "contourcarpet": [
           {
            "colorbar": {
             "outlinewidth": 0,
             "tickcolor": "rgb(36,36,36)",
             "ticklen": 8,
             "ticks": "outside",
             "tickwidth": 2
            },
            "type": "contourcarpet"
           }
          ],
          "heatmap": [
           {
            "colorbar": {
             "outlinewidth": 0,
             "tickcolor": "rgb(36,36,36)",
             "ticklen": 8,
             "ticks": "outside",
             "tickwidth": 2
            },
            "colorscale": [
             [
              0,
              "rgb(2,4,25)"
             ],
             [
              0.06274509803921569,
              "rgb(24,15,41)"
             ],
             [
              0.12549019607843137,
              "rgb(47,23,57)"
             ],
             [
              0.18823529411764706,
              "rgb(71,28,72)"
             ],
             [
              0.25098039215686274,
              "rgb(97,30,82)"
             ],
             [
              0.3137254901960784,
              "rgb(123,30,89)"
             ],
             [
              0.3764705882352941,
              "rgb(150,27,91)"
             ],
             [
              0.4392156862745098,
              "rgb(177,22,88)"
             ],
             [
              0.5019607843137255,
              "rgb(203,26,79)"
             ],
             [
              0.5647058823529412,
              "rgb(223,47,67)"
             ],
             [
              0.6274509803921569,
              "rgb(236,76,61)"
             ],
             [
              0.6901960784313725,
              "rgb(242,107,73)"
             ],
             [
              0.7529411764705882,
              "rgb(244,135,95)"
             ],
             [
              0.8156862745098039,
              "rgb(245,162,122)"
             ],
             [
              0.8784313725490196,
              "rgb(246,188,153)"
             ],
             [
              0.9411764705882353,
              "rgb(247,212,187)"
             ],
             [
              1,
              "rgb(250,234,220)"
             ]
            ],
            "type": "heatmap"
           }
          ],
          "heatmapgl": [
           {
            "colorbar": {
             "outlinewidth": 0,
             "tickcolor": "rgb(36,36,36)",
             "ticklen": 8,
             "ticks": "outside",
             "tickwidth": 2
            },
            "colorscale": [
             [
              0,
              "rgb(2,4,25)"
             ],
             [
              0.06274509803921569,
              "rgb(24,15,41)"
             ],
             [
              0.12549019607843137,
              "rgb(47,23,57)"
             ],
             [
              0.18823529411764706,
              "rgb(71,28,72)"
             ],
             [
              0.25098039215686274,
              "rgb(97,30,82)"
             ],
             [
              0.3137254901960784,
              "rgb(123,30,89)"
             ],
             [
              0.3764705882352941,
              "rgb(150,27,91)"
             ],
             [
              0.4392156862745098,
              "rgb(177,22,88)"
             ],
             [
              0.5019607843137255,
              "rgb(203,26,79)"
             ],
             [
              0.5647058823529412,
              "rgb(223,47,67)"
             ],
             [
              0.6274509803921569,
              "rgb(236,76,61)"
             ],
             [
              0.6901960784313725,
              "rgb(242,107,73)"
             ],
             [
              0.7529411764705882,
              "rgb(244,135,95)"
             ],
             [
              0.8156862745098039,
              "rgb(245,162,122)"
             ],
             [
              0.8784313725490196,
              "rgb(246,188,153)"
             ],
             [
              0.9411764705882353,
              "rgb(247,212,187)"
             ],
             [
              1,
              "rgb(250,234,220)"
             ]
            ],
            "type": "heatmapgl"
           }
          ],
          "histogram": [
           {
            "marker": {
             "pattern": {
              "fillmode": "overlay",
              "size": 10,
              "solidity": 0.2
             }
            },
            "type": "histogram"
           }
          ],
          "histogram2d": [
           {
            "colorbar": {
             "outlinewidth": 0,
             "tickcolor": "rgb(36,36,36)",
             "ticklen": 8,
             "ticks": "outside",
             "tickwidth": 2
            },
            "colorscale": [
             [
              0,
              "rgb(2,4,25)"
             ],
             [
              0.06274509803921569,
              "rgb(24,15,41)"
             ],
             [
              0.12549019607843137,
              "rgb(47,23,57)"
             ],
             [
              0.18823529411764706,
              "rgb(71,28,72)"
             ],
             [
              0.25098039215686274,
              "rgb(97,30,82)"
             ],
             [
              0.3137254901960784,
              "rgb(123,30,89)"
             ],
             [
              0.3764705882352941,
              "rgb(150,27,91)"
             ],
             [
              0.4392156862745098,
              "rgb(177,22,88)"
             ],
             [
              0.5019607843137255,
              "rgb(203,26,79)"
             ],
             [
              0.5647058823529412,
              "rgb(223,47,67)"
             ],
             [
              0.6274509803921569,
              "rgb(236,76,61)"
             ],
             [
              0.6901960784313725,
              "rgb(242,107,73)"
             ],
             [
              0.7529411764705882,
              "rgb(244,135,95)"
             ],
             [
              0.8156862745098039,
              "rgb(245,162,122)"
             ],
             [
              0.8784313725490196,
              "rgb(246,188,153)"
             ],
             [
              0.9411764705882353,
              "rgb(247,212,187)"
             ],
             [
              1,
              "rgb(250,234,220)"
             ]
            ],
            "type": "histogram2d"
           }
          ],
          "histogram2dcontour": [
           {
            "colorbar": {
             "outlinewidth": 0,
             "tickcolor": "rgb(36,36,36)",
             "ticklen": 8,
             "ticks": "outside",
             "tickwidth": 2
            },
            "colorscale": [
             [
              0,
              "rgb(2,4,25)"
             ],
             [
              0.06274509803921569,
              "rgb(24,15,41)"
             ],
             [
              0.12549019607843137,
              "rgb(47,23,57)"
             ],
             [
              0.18823529411764706,
              "rgb(71,28,72)"
             ],
             [
              0.25098039215686274,
              "rgb(97,30,82)"
             ],
             [
              0.3137254901960784,
              "rgb(123,30,89)"
             ],
             [
              0.3764705882352941,
              "rgb(150,27,91)"
             ],
             [
              0.4392156862745098,
              "rgb(177,22,88)"
             ],
             [
              0.5019607843137255,
              "rgb(203,26,79)"
             ],
             [
              0.5647058823529412,
              "rgb(223,47,67)"
             ],
             [
              0.6274509803921569,
              "rgb(236,76,61)"
             ],
             [
              0.6901960784313725,
              "rgb(242,107,73)"
             ],
             [
              0.7529411764705882,
              "rgb(244,135,95)"
             ],
             [
              0.8156862745098039,
              "rgb(245,162,122)"
             ],
             [
              0.8784313725490196,
              "rgb(246,188,153)"
             ],
             [
              0.9411764705882353,
              "rgb(247,212,187)"
             ],
             [
              1,
              "rgb(250,234,220)"
             ]
            ],
            "type": "histogram2dcontour"
           }
          ],
          "mesh3d": [
           {
            "colorbar": {
             "outlinewidth": 0,
             "tickcolor": "rgb(36,36,36)",
             "ticklen": 8,
             "ticks": "outside",
             "tickwidth": 2
            },
            "type": "mesh3d"
           }
          ],
          "parcoords": [
           {
            "line": {
             "colorbar": {
              "outlinewidth": 0,
              "tickcolor": "rgb(36,36,36)",
              "ticklen": 8,
              "ticks": "outside",
              "tickwidth": 2
             }
            },
            "type": "parcoords"
           }
          ],
          "pie": [
           {
            "automargin": true,
            "type": "pie"
           }
          ],
          "scatter": [
           {
            "marker": {
             "colorbar": {
              "outlinewidth": 0,
              "tickcolor": "rgb(36,36,36)",
              "ticklen": 8,
              "ticks": "outside",
              "tickwidth": 2
             }
            },
            "type": "scatter"
           }
          ],
          "scatter3d": [
           {
            "line": {
             "colorbar": {
              "outlinewidth": 0,
              "tickcolor": "rgb(36,36,36)",
              "ticklen": 8,
              "ticks": "outside",
              "tickwidth": 2
             }
            },
            "marker": {
             "colorbar": {
              "outlinewidth": 0,
              "tickcolor": "rgb(36,36,36)",
              "ticklen": 8,
              "ticks": "outside",
              "tickwidth": 2
             }
            },
            "type": "scatter3d"
           }
          ],
          "scattercarpet": [
           {
            "marker": {
             "colorbar": {
              "outlinewidth": 0,
              "tickcolor": "rgb(36,36,36)",
              "ticklen": 8,
              "ticks": "outside",
              "tickwidth": 2
             }
            },
            "type": "scattercarpet"
           }
          ],
          "scattergeo": [
           {
            "marker": {
             "colorbar": {
              "outlinewidth": 0,
              "tickcolor": "rgb(36,36,36)",
              "ticklen": 8,
              "ticks": "outside",
              "tickwidth": 2
             }
            },
            "type": "scattergeo"
           }
          ],
          "scattergl": [
           {
            "marker": {
             "colorbar": {
              "outlinewidth": 0,
              "tickcolor": "rgb(36,36,36)",
              "ticklen": 8,
              "ticks": "outside",
              "tickwidth": 2
             }
            },
            "type": "scattergl"
           }
          ],
          "scattermapbox": [
           {
            "marker": {
             "colorbar": {
              "outlinewidth": 0,
              "tickcolor": "rgb(36,36,36)",
              "ticklen": 8,
              "ticks": "outside",
              "tickwidth": 2
             }
            },
            "type": "scattermapbox"
           }
          ],
          "scatterpolar": [
           {
            "marker": {
             "colorbar": {
              "outlinewidth": 0,
              "tickcolor": "rgb(36,36,36)",
              "ticklen": 8,
              "ticks": "outside",
              "tickwidth": 2
             }
            },
            "type": "scatterpolar"
           }
          ],
          "scatterpolargl": [
           {
            "marker": {
             "colorbar": {
              "outlinewidth": 0,
              "tickcolor": "rgb(36,36,36)",
              "ticklen": 8,
              "ticks": "outside",
              "tickwidth": 2
             }
            },
            "type": "scatterpolargl"
           }
          ],
          "scatterternary": [
           {
            "marker": {
             "colorbar": {
              "outlinewidth": 0,
              "tickcolor": "rgb(36,36,36)",
              "ticklen": 8,
              "ticks": "outside",
              "tickwidth": 2
             }
            },
            "type": "scatterternary"
           }
          ],
          "surface": [
           {
            "colorbar": {
             "outlinewidth": 0,
             "tickcolor": "rgb(36,36,36)",
             "ticklen": 8,
             "ticks": "outside",
             "tickwidth": 2
            },
            "colorscale": [
             [
              0,
              "rgb(2,4,25)"
             ],
             [
              0.06274509803921569,
              "rgb(24,15,41)"
             ],
             [
              0.12549019607843137,
              "rgb(47,23,57)"
             ],
             [
              0.18823529411764706,
              "rgb(71,28,72)"
             ],
             [
              0.25098039215686274,
              "rgb(97,30,82)"
             ],
             [
              0.3137254901960784,
              "rgb(123,30,89)"
             ],
             [
              0.3764705882352941,
              "rgb(150,27,91)"
             ],
             [
              0.4392156862745098,
              "rgb(177,22,88)"
             ],
             [
              0.5019607843137255,
              "rgb(203,26,79)"
             ],
             [
              0.5647058823529412,
              "rgb(223,47,67)"
             ],
             [
              0.6274509803921569,
              "rgb(236,76,61)"
             ],
             [
              0.6901960784313725,
              "rgb(242,107,73)"
             ],
             [
              0.7529411764705882,
              "rgb(244,135,95)"
             ],
             [
              0.8156862745098039,
              "rgb(245,162,122)"
             ],
             [
              0.8784313725490196,
              "rgb(246,188,153)"
             ],
             [
              0.9411764705882353,
              "rgb(247,212,187)"
             ],
             [
              1,
              "rgb(250,234,220)"
             ]
            ],
            "type": "surface"
           }
          ],
          "table": [
           {
            "cells": {
             "fill": {
              "color": "rgb(231,231,240)"
             },
             "line": {
              "color": "white"
             }
            },
            "header": {
             "fill": {
              "color": "rgb(183,183,191)"
             },
             "line": {
              "color": "white"
             }
            },
            "type": "table"
           }
          ]
         },
         "layout": {
          "annotationdefaults": {
           "arrowcolor": "rgb(67,103,167)"
          },
          "autotypenumbers": "strict",
          "coloraxis": {
           "colorbar": {
            "outlinewidth": 0,
            "tickcolor": "rgb(36,36,36)",
            "ticklen": 8,
            "ticks": "outside",
            "tickwidth": 2
           }
          },
          "colorscale": {
           "sequential": [
            [
             0,
             "rgb(2,4,25)"
            ],
            [
             0.06274509803921569,
             "rgb(24,15,41)"
            ],
            [
             0.12549019607843137,
             "rgb(47,23,57)"
            ],
            [
             0.18823529411764706,
             "rgb(71,28,72)"
            ],
            [
             0.25098039215686274,
             "rgb(97,30,82)"
            ],
            [
             0.3137254901960784,
             "rgb(123,30,89)"
            ],
            [
             0.3764705882352941,
             "rgb(150,27,91)"
            ],
            [
             0.4392156862745098,
             "rgb(177,22,88)"
            ],
            [
             0.5019607843137255,
             "rgb(203,26,79)"
            ],
            [
             0.5647058823529412,
             "rgb(223,47,67)"
            ],
            [
             0.6274509803921569,
             "rgb(236,76,61)"
            ],
            [
             0.6901960784313725,
             "rgb(242,107,73)"
            ],
            [
             0.7529411764705882,
             "rgb(244,135,95)"
            ],
            [
             0.8156862745098039,
             "rgb(245,162,122)"
            ],
            [
             0.8784313725490196,
             "rgb(246,188,153)"
            ],
            [
             0.9411764705882353,
             "rgb(247,212,187)"
            ],
            [
             1,
             "rgb(250,234,220)"
            ]
           ],
           "sequentialminus": [
            [
             0,
             "rgb(2,4,25)"
            ],
            [
             0.06274509803921569,
             "rgb(24,15,41)"
            ],
            [
             0.12549019607843137,
             "rgb(47,23,57)"
            ],
            [
             0.18823529411764706,
             "rgb(71,28,72)"
            ],
            [
             0.25098039215686274,
             "rgb(97,30,82)"
            ],
            [
             0.3137254901960784,
             "rgb(123,30,89)"
            ],
            [
             0.3764705882352941,
             "rgb(150,27,91)"
            ],
            [
             0.4392156862745098,
             "rgb(177,22,88)"
            ],
            [
             0.5019607843137255,
             "rgb(203,26,79)"
            ],
            [
             0.5647058823529412,
             "rgb(223,47,67)"
            ],
            [
             0.6274509803921569,
             "rgb(236,76,61)"
            ],
            [
             0.6901960784313725,
             "rgb(242,107,73)"
            ],
            [
             0.7529411764705882,
             "rgb(244,135,95)"
            ],
            [
             0.8156862745098039,
             "rgb(245,162,122)"
            ],
            [
             0.8784313725490196,
             "rgb(246,188,153)"
            ],
            [
             0.9411764705882353,
             "rgb(247,212,187)"
            ],
            [
             1,
             "rgb(250,234,220)"
            ]
           ]
          },
          "colorway": [
           "rgb(76,114,176)",
           "rgb(221,132,82)",
           "rgb(85,168,104)",
           "rgb(196,78,82)",
           "rgb(129,114,179)",
           "rgb(147,120,96)",
           "rgb(218,139,195)",
           "rgb(140,140,140)",
           "rgb(204,185,116)",
           "rgb(100,181,205)"
          ],
          "font": {
           "color": "rgb(36,36,36)"
          },
          "geo": {
           "bgcolor": "white",
           "lakecolor": "white",
           "landcolor": "rgb(234,234,242)",
           "showlakes": true,
           "showland": true,
           "subunitcolor": "white"
          },
          "hoverlabel": {
           "align": "left"
          },
          "hovermode": "closest",
          "paper_bgcolor": "white",
          "plot_bgcolor": "rgb(234,234,242)",
          "polar": {
           "angularaxis": {
            "gridcolor": "white",
            "linecolor": "white",
            "showgrid": true,
            "ticks": ""
           },
           "bgcolor": "rgb(234,234,242)",
           "radialaxis": {
            "gridcolor": "white",
            "linecolor": "white",
            "showgrid": true,
            "ticks": ""
           }
          },
          "scene": {
           "xaxis": {
            "backgroundcolor": "rgb(234,234,242)",
            "gridcolor": "white",
            "gridwidth": 2,
            "linecolor": "white",
            "showbackground": true,
            "showgrid": true,
            "ticks": "",
            "zerolinecolor": "white"
           },
           "yaxis": {
            "backgroundcolor": "rgb(234,234,242)",
            "gridcolor": "white",
            "gridwidth": 2,
            "linecolor": "white",
            "showbackground": true,
            "showgrid": true,
            "ticks": "",
            "zerolinecolor": "white"
           },
           "zaxis": {
            "backgroundcolor": "rgb(234,234,242)",
            "gridcolor": "white",
            "gridwidth": 2,
            "linecolor": "white",
            "showbackground": true,
            "showgrid": true,
            "ticks": "",
            "zerolinecolor": "white"
           }
          },
          "shapedefaults": {
           "fillcolor": "rgb(67,103,167)",
           "line": {
            "width": 0
           },
           "opacity": 0.5
          },
          "ternary": {
           "aaxis": {
            "gridcolor": "white",
            "linecolor": "white",
            "showgrid": true,
            "ticks": ""
           },
           "baxis": {
            "gridcolor": "white",
            "linecolor": "white",
            "showgrid": true,
            "ticks": ""
           },
           "bgcolor": "rgb(234,234,242)",
           "caxis": {
            "gridcolor": "white",
            "linecolor": "white",
            "showgrid": true,
            "ticks": ""
           }
          },
          "xaxis": {
           "automargin": true,
           "gridcolor": "white",
           "linecolor": "white",
           "showgrid": true,
           "ticks": "",
           "title": {
            "standoff": 15
           },
           "zerolinecolor": "white"
          },
          "yaxis": {
           "automargin": true,
           "gridcolor": "white",
           "linecolor": "white",
           "showgrid": true,
           "ticks": "",
           "title": {
            "standoff": 15
           },
           "zerolinecolor": "white"
          }
         }
        },
        "title": {
         "text": "F vs 1-point Corr"
        },
        "xaxis": {
         "title": {
          "text": "1-point Corr"
         }
        },
        "yaxis": {
         "title": {
          "text": "F"
         }
        }
       }
      },
      "text/html": [
       "<div>                            <div id=\"63006a86-7ab3-4d79-98a6-35ca50720797\" class=\"plotly-graph-div\" style=\"height:525px; width:100%;\"></div>            <script type=\"text/javascript\">                require([\"plotly\"], function(Plotly) {                    window.PLOTLYENV=window.PLOTLYENV || {};                                    if (document.getElementById(\"63006a86-7ab3-4d79-98a6-35ca50720797\")) {                    Plotly.newPlot(                        \"63006a86-7ab3-4d79-98a6-35ca50720797\",                        [{\"mode\":\"markers+lines\",\"name\":\"T = 0.0\",\"type\":\"scatter\",\"x\":[-0.9999999999999998,-0.7499999999999998,-0.4999999999999999,-0.25,0.0,0.25,0.4999999999999998,0.7499999999999998,0.9999999999999998],\"y\":[3.999999818752014,2.000000338874256,0.028176290662634763,-1.3659516909389182,-3.999933956136038,-1.0766547723582196,0.12676656034479214,2.0069935000417414,3.9999998173039035]},{\"mode\":\"markers+lines\",\"name\":\"T = 105.26315789473684\",\"type\":\"scatter\",\"x\":[-0.9999999999999998,-0.7499999999999998,-0.4999999999999999,-0.25,0.0,0.25,0.4999999999999998,0.7499999999999998,0.9999999999999998],\"y\":[3.999999801767529,1.9872350697841275,-0.014827169366538436,-1.5830765984408883,-2.8248878590999995,-1.3168088705066179,0.004817877869823791,1.9942539164722526,3.9999998069702905]},{\"mode\":\"markers+lines\",\"name\":\"T = 210.52631578947367\",\"type\":\"scatter\",\"x\":[-0.9999999999999998,-0.7499999999999998,-0.4999999999999999,-0.25,0.0,0.25,0.4999999999999998,0.7499999999999998,0.9999999999999998],\"y\":[3.99999980156271,1.9744702978744675,-0.03610935429415888,-1.5567549387579152,-4.0124827075833,-1.9432603225972565,0.019693927703245205,1.9744711239488317,3.99999980553557]},{\"mode\":\"markers+lines\",\"name\":\"T = 315.7894736842105\",\"type\":\"scatter\",\"x\":[-0.9999999999999998,-0.7499999999999998,-0.4999999999999999,-0.25,0.0,0.25,0.4999999999999998,0.7499999999999998,0.9999999999999998],\"y\":[3.9999997969547794,1.9617056214321482,-0.041284442770460505,-2.0148000651078584,-3.6349678991586005,-0.8543347419711915,0.01415057035889103,1.9617056125850245,3.9999997918423014]},{\"mode\":\"markers+lines\",\"name\":\"T = 421.05263157894734\",\"type\":\"scatter\",\"x\":[-0.9999999999999998,-0.7499999999999998,-0.4999999999999999,-0.25,0.0,0.25,0.4999999999999998,0.7499999999999998,0.9999999999999998],\"y\":[3.9999997876896636,1.9489409245185754,-0.0676719017123504,-1.211461423160466,-3.5225418430616022,-2.0678745992545124,-0.002432100971925144,1.9849409558495559,3.999999787613946]},{\"mode\":\"markers+lines\",\"name\":\"T = 526.3157894736842\",\"type\":\"scatter\",\"x\":[-0.9999999999999998,-0.7499999999999998,-0.4999999999999999,-0.25,0.0,0.25,0.4999999999999998,0.7499999999999998,0.9999999999999998],\"y\":[3.9999997794444915,1.9361761040529761,-0.060815296955462284,-2.0835643225231566,-3.1222361274527715,-1.0828465892767998,-0.08968617205467459,1.9365953673815848,3.9999997764496618]},{\"mode\":\"markers+lines\",\"name\":\"T = 631.578947368421\",\"type\":\"scatter\",\"x\":[-0.9999999999999998,-0.7499999999999998,-0.4999999999999999,-0.25,0.0,0.25,0.4999999999999998,0.7499999999999998,0.9999999999999998],\"y\":[3.999999771352719,1.9234115490983001,-0.07351799519384986,-1.4150035362093802,-2.9095130354594736,-1.333194409423753,-0.10190227602509229,1.9234114701804677,3.9999997751810867]},{\"mode\":\"markers+lines\",\"name\":\"T = 736.8421052631578\",\"type\":\"scatter\",\"x\":[-0.9999999999999998,-0.7499999999999998,-0.4999999999999999,-0.25,0.0,0.25,0.4999999999999998,0.7499999999999998,0.9999999999999998],\"y\":[3.9999997654070243,1.9106466605113273,-0.04711168418375737,-2.1191491305937196,-2.5201012490216455,-1.4669056264386615,-0.06310340194265963,2.1069143738224745,3.9999997620207792]},{\"mode\":\"markers+lines\",\"name\":\"T = 842.1052631578947\",\"type\":\"scatter\",\"x\":[-0.9999999999999998,-0.7499999999999998,-0.4999999999999999,-0.25,0.0,0.25,0.4999999999999998,0.7499999999999998,0.9999999999999998],\"y\":[3.9999997604696493,1.8978817561414743,-0.0917702775884879,-1.526729090923632,-2.674510258772925,-1.5586534155782574,-0.1182092257412198,1.8978817419716516,3.999999761836163]},{\"mode\":\"markers+lines\",\"name\":\"T = 947.3684210526316\",\"type\":\"scatter\",\"x\":[-0.9999999999999998,-0.7499999999999998,-0.4999999999999999,-0.25,0.0,0.25,0.4999999999999998,0.7499999999999998,0.9999999999999998],\"y\":[3.9999997543687527,1.8851170562772337,-0.1604361067509955,-2.1535577223756692,-2.4966956254557475,-1.3048915869762316,-0.13718041583551796,1.9387349675652163,3.999999754405089]},{\"mode\":\"markers+lines\",\"name\":\"T = 1052.6315789473683\",\"type\":\"scatter\",\"x\":[-0.9999999999999998,-0.7499999999999998,-0.4999999999999999,-0.25,0.0,0.25,0.4999999999999998,0.7499999999999998,0.9999999999999998],\"y\":[3.9999997376208665,1.8723522387412352,-0.1376148001798778,-1.8523215047597001,-3.4394330560160635,-1.4332133126687636,-0.14972777887940647,1.8723522783937625,3.9999997506491525]},{\"mode\":\"markers+lines\",\"name\":\"T = 1157.8947368421052\",\"type\":\"scatter\",\"x\":[-0.9999999999999998,-0.7499999999999998,-0.4999999999999999,-0.25,0.0,0.25,0.4999999999999998,0.7499999999999998,0.9999999999999998],\"y\":[3.9999997406947307,1.8595875176272403,-0.19249844155339396,-2.1143836606148105,-3.830566918780108,-1.1076128702876131,0.22376649515320188,1.8595888199412893,3.9999997379807595]},{\"mode\":\"markers+lines\",\"name\":\"T = 1263.157894736842\",\"type\":\"scatter\",\"x\":[-0.9999999999999998,-0.7499999999999998,-0.4999999999999999,-0.25,0.0,0.25,0.4999999999999998,0.7499999999999998,0.9999999999999998],\"y\":[3.999999724028006,1.8427216209999517,-0.21440162124926185,-1.9820130834055378,-2.7892318892919015,-2.1345811973299575,-0.14647741904121062,1.9334946113449551,3.9999997340381945]},{\"mode\":\"markers+lines\",\"name\":\"T = 1368.421052631579\",\"type\":\"scatter\",\"x\":[-0.9999999999999998,-0.7499999999999998,-0.4999999999999999,-0.25,0.0,0.25,0.4999999999999998,0.7499999999999998,0.9999999999999998],\"y\":[3.9999997251821866,1.8327217390422461,-0.22290278947816705,-1.6271142003050647,-2.613866418519906,-1.4439371137756212,-0.22599058737647185,1.8352250157147394,3.9999997253502224]},{\"mode\":\"markers+lines\",\"name\":\"T = 1473.6842105263156\",\"type\":\"scatter\",\"x\":[-0.9999999999999998,-0.7499999999999998,-0.4999999999999999,-0.25,0.0,0.25,0.4999999999999998,0.7499999999999998,0.9999999999999998],\"y\":[3.99999970535368,1.8212931916813884,-0.19266073488431906,-1.6557395662636978,-2.736561588931843,-1.3193618078160312,-0.18348786177573884,1.8330527119529565,3.999999718336821]},{\"mode\":\"markers+lines\",\"name\":\"T = 1578.9473684210525\",\"type\":\"scatter\",\"x\":[-0.9999999999999998,-0.7499999999999998,-0.4999999999999999,-0.25,0.0,0.25,0.4999999999999998,0.7499999999999998,0.9999999999999998],\"y\":[3.9999997092088093,1.808528557774142,-0.2599964777485009,-2.2561836655911196,-2.3386425241900133,-1.5852870290511742,0.2724840774157663,1.808602707982345,3.999999714397374]},{\"mode\":\"markers+lines\",\"name\":\"T = 1684.2105263157894\",\"type\":\"scatter\",\"x\":[-0.9999999999999998,-0.7499999999999998,-0.4999999999999999,-0.25,0.0,0.25,0.4999999999999998,0.7499999999999998,0.9999999999999998],\"y\":[3.999999699736621,1.7957637703691585,-0.2538589556757732,-2.236147831296829,-2.417469596947995,-1.6341181555351452,-0.22018390284903544,1.79576367609117,3.999999703789101]},{\"mode\":\"markers+lines\",\"name\":\"T = 1789.4736842105262\",\"type\":\"scatter\",\"x\":[-0.9999999999999998,-0.7499999999999998,-0.4999999999999999,-0.25,0.0,0.25,0.4999999999999998,0.7499999999999998,0.9999999999999998],\"y\":[3.999999680430306,1.7829989449137555,-0.2923166549985309,-1.587945579499788,-2.938321356850467,-1.6111698525446372,-0.3045916524107333,1.808575426870687,3.9999996885602735]},{\"mode\":\"markers+lines\",\"name\":\"T = 1894.7368421052631\",\"type\":\"scatter\",\"x\":[-0.9999999999999998,-0.7499999999999998,-0.4999999999999999,-0.25,0.0,0.25,0.4999999999999998,0.7499999999999998,0.9999999999999998],\"y\":[3.9999996849434085,1.7702341404238904,-0.24813049883199734,-2.3011247952464187,-3.239142218692133,-1.6390064939746734,-0.31152215316334153,1.770234581758901,3.999999692332127]},{\"mode\":\"markers+lines\",\"name\":\"T = 2000.0\",\"type\":\"scatter\",\"x\":[-0.9999999999999998,-0.7499999999999998,-0.4999999999999999,-0.25,0.0,0.25,0.4999999999999998,0.7499999999999998,0.9999999999999998],\"y\":[3.9999996817739794,1.7575512037275807,-0.3416766975308618,-1.8568277634969863,-4.045383750114726,-2.3237187134096624,-0.08741766984007321,1.7677032536985489,3.999999674437366]}],                        {\"legend\":{\"title\":{\"text\":\"Temperature\"}},\"template\":{\"data\":{\"bar\":[{\"error_x\":{\"color\":\"rgb(36,36,36)\"},\"error_y\":{\"color\":\"rgb(36,36,36)\"},\"marker\":{\"line\":{\"color\":\"rgb(234,234,242)\",\"width\":0.5},\"pattern\":{\"fillmode\":\"overlay\",\"size\":10,\"solidity\":0.2}},\"type\":\"bar\"}],\"barpolar\":[{\"marker\":{\"line\":{\"color\":\"rgb(234,234,242)\",\"width\":0.5},\"pattern\":{\"fillmode\":\"overlay\",\"size\":10,\"solidity\":0.2}},\"type\":\"barpolar\"}],\"carpet\":[{\"aaxis\":{\"endlinecolor\":\"rgb(36,36,36)\",\"gridcolor\":\"white\",\"linecolor\":\"white\",\"minorgridcolor\":\"white\",\"startlinecolor\":\"rgb(36,36,36)\"},\"baxis\":{\"endlinecolor\":\"rgb(36,36,36)\",\"gridcolor\":\"white\",\"linecolor\":\"white\",\"minorgridcolor\":\"white\",\"startlinecolor\":\"rgb(36,36,36)\"},\"type\":\"carpet\"}],\"choropleth\":[{\"colorbar\":{\"outlinewidth\":0,\"tickcolor\":\"rgb(36,36,36)\",\"ticklen\":8,\"ticks\":\"outside\",\"tickwidth\":2},\"type\":\"choropleth\"}],\"contour\":[{\"colorbar\":{\"outlinewidth\":0,\"tickcolor\":\"rgb(36,36,36)\",\"ticklen\":8,\"ticks\":\"outside\",\"tickwidth\":2},\"colorscale\":[[0.0,\"rgb(2,4,25)\"],[0.06274509803921569,\"rgb(24,15,41)\"],[0.12549019607843137,\"rgb(47,23,57)\"],[0.18823529411764706,\"rgb(71,28,72)\"],[0.25098039215686274,\"rgb(97,30,82)\"],[0.3137254901960784,\"rgb(123,30,89)\"],[0.3764705882352941,\"rgb(150,27,91)\"],[0.4392156862745098,\"rgb(177,22,88)\"],[0.5019607843137255,\"rgb(203,26,79)\"],[0.5647058823529412,\"rgb(223,47,67)\"],[0.6274509803921569,\"rgb(236,76,61)\"],[0.6901960784313725,\"rgb(242,107,73)\"],[0.7529411764705882,\"rgb(244,135,95)\"],[0.8156862745098039,\"rgb(245,162,122)\"],[0.8784313725490196,\"rgb(246,188,153)\"],[0.9411764705882353,\"rgb(247,212,187)\"],[1.0,\"rgb(250,234,220)\"]],\"type\":\"contour\"}],\"contourcarpet\":[{\"colorbar\":{\"outlinewidth\":0,\"tickcolor\":\"rgb(36,36,36)\",\"ticklen\":8,\"ticks\":\"outside\",\"tickwidth\":2},\"type\":\"contourcarpet\"}],\"heatmap\":[{\"colorbar\":{\"outlinewidth\":0,\"tickcolor\":\"rgb(36,36,36)\",\"ticklen\":8,\"ticks\":\"outside\",\"tickwidth\":2},\"colorscale\":[[0.0,\"rgb(2,4,25)\"],[0.06274509803921569,\"rgb(24,15,41)\"],[0.12549019607843137,\"rgb(47,23,57)\"],[0.18823529411764706,\"rgb(71,28,72)\"],[0.25098039215686274,\"rgb(97,30,82)\"],[0.3137254901960784,\"rgb(123,30,89)\"],[0.3764705882352941,\"rgb(150,27,91)\"],[0.4392156862745098,\"rgb(177,22,88)\"],[0.5019607843137255,\"rgb(203,26,79)\"],[0.5647058823529412,\"rgb(223,47,67)\"],[0.6274509803921569,\"rgb(236,76,61)\"],[0.6901960784313725,\"rgb(242,107,73)\"],[0.7529411764705882,\"rgb(244,135,95)\"],[0.8156862745098039,\"rgb(245,162,122)\"],[0.8784313725490196,\"rgb(246,188,153)\"],[0.9411764705882353,\"rgb(247,212,187)\"],[1.0,\"rgb(250,234,220)\"]],\"type\":\"heatmap\"}],\"heatmapgl\":[{\"colorbar\":{\"outlinewidth\":0,\"tickcolor\":\"rgb(36,36,36)\",\"ticklen\":8,\"ticks\":\"outside\",\"tickwidth\":2},\"colorscale\":[[0.0,\"rgb(2,4,25)\"],[0.06274509803921569,\"rgb(24,15,41)\"],[0.12549019607843137,\"rgb(47,23,57)\"],[0.18823529411764706,\"rgb(71,28,72)\"],[0.25098039215686274,\"rgb(97,30,82)\"],[0.3137254901960784,\"rgb(123,30,89)\"],[0.3764705882352941,\"rgb(150,27,91)\"],[0.4392156862745098,\"rgb(177,22,88)\"],[0.5019607843137255,\"rgb(203,26,79)\"],[0.5647058823529412,\"rgb(223,47,67)\"],[0.6274509803921569,\"rgb(236,76,61)\"],[0.6901960784313725,\"rgb(242,107,73)\"],[0.7529411764705882,\"rgb(244,135,95)\"],[0.8156862745098039,\"rgb(245,162,122)\"],[0.8784313725490196,\"rgb(246,188,153)\"],[0.9411764705882353,\"rgb(247,212,187)\"],[1.0,\"rgb(250,234,220)\"]],\"type\":\"heatmapgl\"}],\"histogram\":[{\"marker\":{\"pattern\":{\"fillmode\":\"overlay\",\"size\":10,\"solidity\":0.2}},\"type\":\"histogram\"}],\"histogram2d\":[{\"colorbar\":{\"outlinewidth\":0,\"tickcolor\":\"rgb(36,36,36)\",\"ticklen\":8,\"ticks\":\"outside\",\"tickwidth\":2},\"colorscale\":[[0.0,\"rgb(2,4,25)\"],[0.06274509803921569,\"rgb(24,15,41)\"],[0.12549019607843137,\"rgb(47,23,57)\"],[0.18823529411764706,\"rgb(71,28,72)\"],[0.25098039215686274,\"rgb(97,30,82)\"],[0.3137254901960784,\"rgb(123,30,89)\"],[0.3764705882352941,\"rgb(150,27,91)\"],[0.4392156862745098,\"rgb(177,22,88)\"],[0.5019607843137255,\"rgb(203,26,79)\"],[0.5647058823529412,\"rgb(223,47,67)\"],[0.6274509803921569,\"rgb(236,76,61)\"],[0.6901960784313725,\"rgb(242,107,73)\"],[0.7529411764705882,\"rgb(244,135,95)\"],[0.8156862745098039,\"rgb(245,162,122)\"],[0.8784313725490196,\"rgb(246,188,153)\"],[0.9411764705882353,\"rgb(247,212,187)\"],[1.0,\"rgb(250,234,220)\"]],\"type\":\"histogram2d\"}],\"histogram2dcontour\":[{\"colorbar\":{\"outlinewidth\":0,\"tickcolor\":\"rgb(36,36,36)\",\"ticklen\":8,\"ticks\":\"outside\",\"tickwidth\":2},\"colorscale\":[[0.0,\"rgb(2,4,25)\"],[0.06274509803921569,\"rgb(24,15,41)\"],[0.12549019607843137,\"rgb(47,23,57)\"],[0.18823529411764706,\"rgb(71,28,72)\"],[0.25098039215686274,\"rgb(97,30,82)\"],[0.3137254901960784,\"rgb(123,30,89)\"],[0.3764705882352941,\"rgb(150,27,91)\"],[0.4392156862745098,\"rgb(177,22,88)\"],[0.5019607843137255,\"rgb(203,26,79)\"],[0.5647058823529412,\"rgb(223,47,67)\"],[0.6274509803921569,\"rgb(236,76,61)\"],[0.6901960784313725,\"rgb(242,107,73)\"],[0.7529411764705882,\"rgb(244,135,95)\"],[0.8156862745098039,\"rgb(245,162,122)\"],[0.8784313725490196,\"rgb(246,188,153)\"],[0.9411764705882353,\"rgb(247,212,187)\"],[1.0,\"rgb(250,234,220)\"]],\"type\":\"histogram2dcontour\"}],\"mesh3d\":[{\"colorbar\":{\"outlinewidth\":0,\"tickcolor\":\"rgb(36,36,36)\",\"ticklen\":8,\"ticks\":\"outside\",\"tickwidth\":2},\"type\":\"mesh3d\"}],\"parcoords\":[{\"line\":{\"colorbar\":{\"outlinewidth\":0,\"tickcolor\":\"rgb(36,36,36)\",\"ticklen\":8,\"ticks\":\"outside\",\"tickwidth\":2}},\"type\":\"parcoords\"}],\"pie\":[{\"automargin\":true,\"type\":\"pie\"}],\"scatter\":[{\"marker\":{\"colorbar\":{\"outlinewidth\":0,\"tickcolor\":\"rgb(36,36,36)\",\"ticklen\":8,\"ticks\":\"outside\",\"tickwidth\":2}},\"type\":\"scatter\"}],\"scatter3d\":[{\"line\":{\"colorbar\":{\"outlinewidth\":0,\"tickcolor\":\"rgb(36,36,36)\",\"ticklen\":8,\"ticks\":\"outside\",\"tickwidth\":2}},\"marker\":{\"colorbar\":{\"outlinewidth\":0,\"tickcolor\":\"rgb(36,36,36)\",\"ticklen\":8,\"ticks\":\"outside\",\"tickwidth\":2}},\"type\":\"scatter3d\"}],\"scattercarpet\":[{\"marker\":{\"colorbar\":{\"outlinewidth\":0,\"tickcolor\":\"rgb(36,36,36)\",\"ticklen\":8,\"ticks\":\"outside\",\"tickwidth\":2}},\"type\":\"scattercarpet\"}],\"scattergeo\":[{\"marker\":{\"colorbar\":{\"outlinewidth\":0,\"tickcolor\":\"rgb(36,36,36)\",\"ticklen\":8,\"ticks\":\"outside\",\"tickwidth\":2}},\"type\":\"scattergeo\"}],\"scattergl\":[{\"marker\":{\"colorbar\":{\"outlinewidth\":0,\"tickcolor\":\"rgb(36,36,36)\",\"ticklen\":8,\"ticks\":\"outside\",\"tickwidth\":2}},\"type\":\"scattergl\"}],\"scattermapbox\":[{\"marker\":{\"colorbar\":{\"outlinewidth\":0,\"tickcolor\":\"rgb(36,36,36)\",\"ticklen\":8,\"ticks\":\"outside\",\"tickwidth\":2}},\"type\":\"scattermapbox\"}],\"scatterpolar\":[{\"marker\":{\"colorbar\":{\"outlinewidth\":0,\"tickcolor\":\"rgb(36,36,36)\",\"ticklen\":8,\"ticks\":\"outside\",\"tickwidth\":2}},\"type\":\"scatterpolar\"}],\"scatterpolargl\":[{\"marker\":{\"colorbar\":{\"outlinewidth\":0,\"tickcolor\":\"rgb(36,36,36)\",\"ticklen\":8,\"ticks\":\"outside\",\"tickwidth\":2}},\"type\":\"scatterpolargl\"}],\"scatterternary\":[{\"marker\":{\"colorbar\":{\"outlinewidth\":0,\"tickcolor\":\"rgb(36,36,36)\",\"ticklen\":8,\"ticks\":\"outside\",\"tickwidth\":2}},\"type\":\"scatterternary\"}],\"surface\":[{\"colorbar\":{\"outlinewidth\":0,\"tickcolor\":\"rgb(36,36,36)\",\"ticklen\":8,\"ticks\":\"outside\",\"tickwidth\":2},\"colorscale\":[[0.0,\"rgb(2,4,25)\"],[0.06274509803921569,\"rgb(24,15,41)\"],[0.12549019607843137,\"rgb(47,23,57)\"],[0.18823529411764706,\"rgb(71,28,72)\"],[0.25098039215686274,\"rgb(97,30,82)\"],[0.3137254901960784,\"rgb(123,30,89)\"],[0.3764705882352941,\"rgb(150,27,91)\"],[0.4392156862745098,\"rgb(177,22,88)\"],[0.5019607843137255,\"rgb(203,26,79)\"],[0.5647058823529412,\"rgb(223,47,67)\"],[0.6274509803921569,\"rgb(236,76,61)\"],[0.6901960784313725,\"rgb(242,107,73)\"],[0.7529411764705882,\"rgb(244,135,95)\"],[0.8156862745098039,\"rgb(245,162,122)\"],[0.8784313725490196,\"rgb(246,188,153)\"],[0.9411764705882353,\"rgb(247,212,187)\"],[1.0,\"rgb(250,234,220)\"]],\"type\":\"surface\"}],\"table\":[{\"cells\":{\"fill\":{\"color\":\"rgb(231,231,240)\"},\"line\":{\"color\":\"white\"}},\"header\":{\"fill\":{\"color\":\"rgb(183,183,191)\"},\"line\":{\"color\":\"white\"}},\"type\":\"table\"}]},\"layout\":{\"annotationdefaults\":{\"arrowcolor\":\"rgb(67,103,167)\"},\"autotypenumbers\":\"strict\",\"coloraxis\":{\"colorbar\":{\"outlinewidth\":0,\"tickcolor\":\"rgb(36,36,36)\",\"ticklen\":8,\"ticks\":\"outside\",\"tickwidth\":2}},\"colorscale\":{\"sequential\":[[0.0,\"rgb(2,4,25)\"],[0.06274509803921569,\"rgb(24,15,41)\"],[0.12549019607843137,\"rgb(47,23,57)\"],[0.18823529411764706,\"rgb(71,28,72)\"],[0.25098039215686274,\"rgb(97,30,82)\"],[0.3137254901960784,\"rgb(123,30,89)\"],[0.3764705882352941,\"rgb(150,27,91)\"],[0.4392156862745098,\"rgb(177,22,88)\"],[0.5019607843137255,\"rgb(203,26,79)\"],[0.5647058823529412,\"rgb(223,47,67)\"],[0.6274509803921569,\"rgb(236,76,61)\"],[0.6901960784313725,\"rgb(242,107,73)\"],[0.7529411764705882,\"rgb(244,135,95)\"],[0.8156862745098039,\"rgb(245,162,122)\"],[0.8784313725490196,\"rgb(246,188,153)\"],[0.9411764705882353,\"rgb(247,212,187)\"],[1.0,\"rgb(250,234,220)\"]],\"sequentialminus\":[[0.0,\"rgb(2,4,25)\"],[0.06274509803921569,\"rgb(24,15,41)\"],[0.12549019607843137,\"rgb(47,23,57)\"],[0.18823529411764706,\"rgb(71,28,72)\"],[0.25098039215686274,\"rgb(97,30,82)\"],[0.3137254901960784,\"rgb(123,30,89)\"],[0.3764705882352941,\"rgb(150,27,91)\"],[0.4392156862745098,\"rgb(177,22,88)\"],[0.5019607843137255,\"rgb(203,26,79)\"],[0.5647058823529412,\"rgb(223,47,67)\"],[0.6274509803921569,\"rgb(236,76,61)\"],[0.6901960784313725,\"rgb(242,107,73)\"],[0.7529411764705882,\"rgb(244,135,95)\"],[0.8156862745098039,\"rgb(245,162,122)\"],[0.8784313725490196,\"rgb(246,188,153)\"],[0.9411764705882353,\"rgb(247,212,187)\"],[1.0,\"rgb(250,234,220)\"]]},\"colorway\":[\"rgb(76,114,176)\",\"rgb(221,132,82)\",\"rgb(85,168,104)\",\"rgb(196,78,82)\",\"rgb(129,114,179)\",\"rgb(147,120,96)\",\"rgb(218,139,195)\",\"rgb(140,140,140)\",\"rgb(204,185,116)\",\"rgb(100,181,205)\"],\"font\":{\"color\":\"rgb(36,36,36)\"},\"geo\":{\"bgcolor\":\"white\",\"lakecolor\":\"white\",\"landcolor\":\"rgb(234,234,242)\",\"showlakes\":true,\"showland\":true,\"subunitcolor\":\"white\"},\"hoverlabel\":{\"align\":\"left\"},\"hovermode\":\"closest\",\"paper_bgcolor\":\"white\",\"plot_bgcolor\":\"rgb(234,234,242)\",\"polar\":{\"angularaxis\":{\"gridcolor\":\"white\",\"linecolor\":\"white\",\"showgrid\":true,\"ticks\":\"\"},\"bgcolor\":\"rgb(234,234,242)\",\"radialaxis\":{\"gridcolor\":\"white\",\"linecolor\":\"white\",\"showgrid\":true,\"ticks\":\"\"}},\"scene\":{\"xaxis\":{\"backgroundcolor\":\"rgb(234,234,242)\",\"gridcolor\":\"white\",\"gridwidth\":2,\"linecolor\":\"white\",\"showbackground\":true,\"showgrid\":true,\"ticks\":\"\",\"zerolinecolor\":\"white\"},\"yaxis\":{\"backgroundcolor\":\"rgb(234,234,242)\",\"gridcolor\":\"white\",\"gridwidth\":2,\"linecolor\":\"white\",\"showbackground\":true,\"showgrid\":true,\"ticks\":\"\",\"zerolinecolor\":\"white\"},\"zaxis\":{\"backgroundcolor\":\"rgb(234,234,242)\",\"gridcolor\":\"white\",\"gridwidth\":2,\"linecolor\":\"white\",\"showbackground\":true,\"showgrid\":true,\"ticks\":\"\",\"zerolinecolor\":\"white\"}},\"shapedefaults\":{\"fillcolor\":\"rgb(67,103,167)\",\"line\":{\"width\":0},\"opacity\":0.5},\"ternary\":{\"aaxis\":{\"gridcolor\":\"white\",\"linecolor\":\"white\",\"showgrid\":true,\"ticks\":\"\"},\"baxis\":{\"gridcolor\":\"white\",\"linecolor\":\"white\",\"showgrid\":true,\"ticks\":\"\"},\"bgcolor\":\"rgb(234,234,242)\",\"caxis\":{\"gridcolor\":\"white\",\"linecolor\":\"white\",\"showgrid\":true,\"ticks\":\"\"}},\"xaxis\":{\"automargin\":true,\"gridcolor\":\"white\",\"linecolor\":\"white\",\"showgrid\":true,\"ticks\":\"\",\"title\":{\"standoff\":15},\"zerolinecolor\":\"white\"},\"yaxis\":{\"automargin\":true,\"gridcolor\":\"white\",\"linecolor\":\"white\",\"showgrid\":true,\"ticks\":\"\",\"title\":{\"standoff\":15},\"zerolinecolor\":\"white\"}}},\"title\":{\"text\":\"F vs 1-point Corr\"},\"xaxis\":{\"title\":{\"text\":\"1-point Corr\"}},\"yaxis\":{\"title\":{\"text\":\"F\"}}},                        {\"responsive\": true}                    ).then(function(){\n",
       "                            \n",
       "var gd = document.getElementById('63006a86-7ab3-4d79-98a6-35ca50720797');\n",
       "var x = new MutationObserver(function (mutations, observer) {{\n",
       "        var display = window.getComputedStyle(gd).display;\n",
       "        if (!display || display === 'none') {{\n",
       "            console.log([gd, 'removed!']);\n",
       "            Plotly.purge(gd);\n",
       "            observer.disconnect();\n",
       "        }}\n",
       "}});\n",
       "\n",
       "// Listen for the removal of the full notebook cells\n",
       "var notebookContainer = gd.closest('#notebook-container');\n",
       "if (notebookContainer) {{\n",
       "    x.observe(notebookContainer, {childList: true});\n",
       "}}\n",
       "\n",
       "// Listen for the clearing of the current output cell\n",
       "var outputEl = gd.closest('.output');\n",
       "if (outputEl) {{\n",
       "    x.observe(outputEl, {childList: true});\n",
       "}}\n",
       "\n",
       "                        })                };                });            </script>        </div>"
      ]
     },
     "metadata": {},
     "output_type": "display_data"
    }
   ],
   "source": [
    "fig = go.Figure()\n",
    "\n",
    "for T in results_uniform['T'].unique():\n",
    "    fig.add_trace(go.Scatter(x = results_uniform[results_uniform['T'] == T]['1-point_corr'],\n",
    "                             y = results_uniform[results_uniform['T'] == T]['F'],\n",
    "                             mode='markers+lines',\n",
    "                             name=f'T = {T}',\n",
    "                            )\n",
    "                 )\n",
    "\n",
    "fig.update_layout(\n",
    "    title=\"F vs 1-point Corr\",\n",
    "    xaxis_title=\"1-point Corr\",\n",
    "    yaxis_title=\"F\",\n",
    "    legend_title=\"Temperature\",\n",
    "    template='seaborn'\n",
    ")\n",
    "#fig.update_traces(texttemplate='%{text:.2s}', textposition='top center')\n",
    "fig.show()"
   ]
  },
  {
   "cell_type": "markdown",
   "metadata": {
    "hidden": true
   },
   "source": [
    "## Plot Pair Correlation"
   ]
  },
  {
   "cell_type": "code",
   "execution_count": 97,
   "metadata": {
    "ExecuteTime": {
     "end_time": "2021-09-12T13:00:56.033912Z",
     "start_time": "2021-09-12T13:00:55.973956Z"
    },
    "hidden": true,
    "scrolled": false
   },
   "outputs": [
    {
     "data": {
      "application/vnd.plotly.v1+json": {
       "config": {
        "plotlyServerURL": "https://plot.ly"
       },
       "data": [
        {
         "mode": "markers+lines",
         "type": "scatter",
         "x": [
          0,
          105.26315789473684,
          210.52631578947367,
          315.7894736842105,
          421.05263157894734,
          526.3157894736842,
          631.578947368421,
          736.8421052631578,
          842.1052631578947,
          947.3684210526316,
          1052.6315789473683,
          1157.8947368421052,
          1263.157894736842,
          1368.421052631579,
          1473.6842105263156,
          1578.9473684210525,
          1684.2105263157894,
          1789.4736842105262,
          1894.7368421052631,
          2000
         ],
         "y": [
          -0.9999834890340095,
          -0.7022578402046128,
          -0.999975396361079,
          -0.9005719052579343,
          -0.8686568278816388,
          -0.7617521551496446,
          -0.7100535683248845,
          -0.5975240713965827,
          -0.6330252636321004,
          -0.5834667585639945,
          -0.8267921850295274,
          -0.9308249958634012,
          -0.6429821029762105,
          -0.5935950575950504,
          -0.6195187770370457,
          -0.509292672920914,
          -0.5264656494429393,
          -0.6616656640244956,
          -0.7414382558054823,
          -0.9741659749733956
         ]
        }
       ],
       "layout": {
        "template": {
         "data": {
          "bar": [
           {
            "error_x": {
             "color": "rgb(36,36,36)"
            },
            "error_y": {
             "color": "rgb(36,36,36)"
            },
            "marker": {
             "line": {
              "color": "rgb(234,234,242)",
              "width": 0.5
             },
             "pattern": {
              "fillmode": "overlay",
              "size": 10,
              "solidity": 0.2
             }
            },
            "type": "bar"
           }
          ],
          "barpolar": [
           {
            "marker": {
             "line": {
              "color": "rgb(234,234,242)",
              "width": 0.5
             },
             "pattern": {
              "fillmode": "overlay",
              "size": 10,
              "solidity": 0.2
             }
            },
            "type": "barpolar"
           }
          ],
          "carpet": [
           {
            "aaxis": {
             "endlinecolor": "rgb(36,36,36)",
             "gridcolor": "white",
             "linecolor": "white",
             "minorgridcolor": "white",
             "startlinecolor": "rgb(36,36,36)"
            },
            "baxis": {
             "endlinecolor": "rgb(36,36,36)",
             "gridcolor": "white",
             "linecolor": "white",
             "minorgridcolor": "white",
             "startlinecolor": "rgb(36,36,36)"
            },
            "type": "carpet"
           }
          ],
          "choropleth": [
           {
            "colorbar": {
             "outlinewidth": 0,
             "tickcolor": "rgb(36,36,36)",
             "ticklen": 8,
             "ticks": "outside",
             "tickwidth": 2
            },
            "type": "choropleth"
           }
          ],
          "contour": [
           {
            "colorbar": {
             "outlinewidth": 0,
             "tickcolor": "rgb(36,36,36)",
             "ticklen": 8,
             "ticks": "outside",
             "tickwidth": 2
            },
            "colorscale": [
             [
              0,
              "rgb(2,4,25)"
             ],
             [
              0.06274509803921569,
              "rgb(24,15,41)"
             ],
             [
              0.12549019607843137,
              "rgb(47,23,57)"
             ],
             [
              0.18823529411764706,
              "rgb(71,28,72)"
             ],
             [
              0.25098039215686274,
              "rgb(97,30,82)"
             ],
             [
              0.3137254901960784,
              "rgb(123,30,89)"
             ],
             [
              0.3764705882352941,
              "rgb(150,27,91)"
             ],
             [
              0.4392156862745098,
              "rgb(177,22,88)"
             ],
             [
              0.5019607843137255,
              "rgb(203,26,79)"
             ],
             [
              0.5647058823529412,
              "rgb(223,47,67)"
             ],
             [
              0.6274509803921569,
              "rgb(236,76,61)"
             ],
             [
              0.6901960784313725,
              "rgb(242,107,73)"
             ],
             [
              0.7529411764705882,
              "rgb(244,135,95)"
             ],
             [
              0.8156862745098039,
              "rgb(245,162,122)"
             ],
             [
              0.8784313725490196,
              "rgb(246,188,153)"
             ],
             [
              0.9411764705882353,
              "rgb(247,212,187)"
             ],
             [
              1,
              "rgb(250,234,220)"
             ]
            ],
            "type": "contour"
           }
          ],
          "contourcarpet": [
           {
            "colorbar": {
             "outlinewidth": 0,
             "tickcolor": "rgb(36,36,36)",
             "ticklen": 8,
             "ticks": "outside",
             "tickwidth": 2
            },
            "type": "contourcarpet"
           }
          ],
          "heatmap": [
           {
            "colorbar": {
             "outlinewidth": 0,
             "tickcolor": "rgb(36,36,36)",
             "ticklen": 8,
             "ticks": "outside",
             "tickwidth": 2
            },
            "colorscale": [
             [
              0,
              "rgb(2,4,25)"
             ],
             [
              0.06274509803921569,
              "rgb(24,15,41)"
             ],
             [
              0.12549019607843137,
              "rgb(47,23,57)"
             ],
             [
              0.18823529411764706,
              "rgb(71,28,72)"
             ],
             [
              0.25098039215686274,
              "rgb(97,30,82)"
             ],
             [
              0.3137254901960784,
              "rgb(123,30,89)"
             ],
             [
              0.3764705882352941,
              "rgb(150,27,91)"
             ],
             [
              0.4392156862745098,
              "rgb(177,22,88)"
             ],
             [
              0.5019607843137255,
              "rgb(203,26,79)"
             ],
             [
              0.5647058823529412,
              "rgb(223,47,67)"
             ],
             [
              0.6274509803921569,
              "rgb(236,76,61)"
             ],
             [
              0.6901960784313725,
              "rgb(242,107,73)"
             ],
             [
              0.7529411764705882,
              "rgb(244,135,95)"
             ],
             [
              0.8156862745098039,
              "rgb(245,162,122)"
             ],
             [
              0.8784313725490196,
              "rgb(246,188,153)"
             ],
             [
              0.9411764705882353,
              "rgb(247,212,187)"
             ],
             [
              1,
              "rgb(250,234,220)"
             ]
            ],
            "type": "heatmap"
           }
          ],
          "heatmapgl": [
           {
            "colorbar": {
             "outlinewidth": 0,
             "tickcolor": "rgb(36,36,36)",
             "ticklen": 8,
             "ticks": "outside",
             "tickwidth": 2
            },
            "colorscale": [
             [
              0,
              "rgb(2,4,25)"
             ],
             [
              0.06274509803921569,
              "rgb(24,15,41)"
             ],
             [
              0.12549019607843137,
              "rgb(47,23,57)"
             ],
             [
              0.18823529411764706,
              "rgb(71,28,72)"
             ],
             [
              0.25098039215686274,
              "rgb(97,30,82)"
             ],
             [
              0.3137254901960784,
              "rgb(123,30,89)"
             ],
             [
              0.3764705882352941,
              "rgb(150,27,91)"
             ],
             [
              0.4392156862745098,
              "rgb(177,22,88)"
             ],
             [
              0.5019607843137255,
              "rgb(203,26,79)"
             ],
             [
              0.5647058823529412,
              "rgb(223,47,67)"
             ],
             [
              0.6274509803921569,
              "rgb(236,76,61)"
             ],
             [
              0.6901960784313725,
              "rgb(242,107,73)"
             ],
             [
              0.7529411764705882,
              "rgb(244,135,95)"
             ],
             [
              0.8156862745098039,
              "rgb(245,162,122)"
             ],
             [
              0.8784313725490196,
              "rgb(246,188,153)"
             ],
             [
              0.9411764705882353,
              "rgb(247,212,187)"
             ],
             [
              1,
              "rgb(250,234,220)"
             ]
            ],
            "type": "heatmapgl"
           }
          ],
          "histogram": [
           {
            "marker": {
             "pattern": {
              "fillmode": "overlay",
              "size": 10,
              "solidity": 0.2
             }
            },
            "type": "histogram"
           }
          ],
          "histogram2d": [
           {
            "colorbar": {
             "outlinewidth": 0,
             "tickcolor": "rgb(36,36,36)",
             "ticklen": 8,
             "ticks": "outside",
             "tickwidth": 2
            },
            "colorscale": [
             [
              0,
              "rgb(2,4,25)"
             ],
             [
              0.06274509803921569,
              "rgb(24,15,41)"
             ],
             [
              0.12549019607843137,
              "rgb(47,23,57)"
             ],
             [
              0.18823529411764706,
              "rgb(71,28,72)"
             ],
             [
              0.25098039215686274,
              "rgb(97,30,82)"
             ],
             [
              0.3137254901960784,
              "rgb(123,30,89)"
             ],
             [
              0.3764705882352941,
              "rgb(150,27,91)"
             ],
             [
              0.4392156862745098,
              "rgb(177,22,88)"
             ],
             [
              0.5019607843137255,
              "rgb(203,26,79)"
             ],
             [
              0.5647058823529412,
              "rgb(223,47,67)"
             ],
             [
              0.6274509803921569,
              "rgb(236,76,61)"
             ],
             [
              0.6901960784313725,
              "rgb(242,107,73)"
             ],
             [
              0.7529411764705882,
              "rgb(244,135,95)"
             ],
             [
              0.8156862745098039,
              "rgb(245,162,122)"
             ],
             [
              0.8784313725490196,
              "rgb(246,188,153)"
             ],
             [
              0.9411764705882353,
              "rgb(247,212,187)"
             ],
             [
              1,
              "rgb(250,234,220)"
             ]
            ],
            "type": "histogram2d"
           }
          ],
          "histogram2dcontour": [
           {
            "colorbar": {
             "outlinewidth": 0,
             "tickcolor": "rgb(36,36,36)",
             "ticklen": 8,
             "ticks": "outside",
             "tickwidth": 2
            },
            "colorscale": [
             [
              0,
              "rgb(2,4,25)"
             ],
             [
              0.06274509803921569,
              "rgb(24,15,41)"
             ],
             [
              0.12549019607843137,
              "rgb(47,23,57)"
             ],
             [
              0.18823529411764706,
              "rgb(71,28,72)"
             ],
             [
              0.25098039215686274,
              "rgb(97,30,82)"
             ],
             [
              0.3137254901960784,
              "rgb(123,30,89)"
             ],
             [
              0.3764705882352941,
              "rgb(150,27,91)"
             ],
             [
              0.4392156862745098,
              "rgb(177,22,88)"
             ],
             [
              0.5019607843137255,
              "rgb(203,26,79)"
             ],
             [
              0.5647058823529412,
              "rgb(223,47,67)"
             ],
             [
              0.6274509803921569,
              "rgb(236,76,61)"
             ],
             [
              0.6901960784313725,
              "rgb(242,107,73)"
             ],
             [
              0.7529411764705882,
              "rgb(244,135,95)"
             ],
             [
              0.8156862745098039,
              "rgb(245,162,122)"
             ],
             [
              0.8784313725490196,
              "rgb(246,188,153)"
             ],
             [
              0.9411764705882353,
              "rgb(247,212,187)"
             ],
             [
              1,
              "rgb(250,234,220)"
             ]
            ],
            "type": "histogram2dcontour"
           }
          ],
          "mesh3d": [
           {
            "colorbar": {
             "outlinewidth": 0,
             "tickcolor": "rgb(36,36,36)",
             "ticklen": 8,
             "ticks": "outside",
             "tickwidth": 2
            },
            "type": "mesh3d"
           }
          ],
          "parcoords": [
           {
            "line": {
             "colorbar": {
              "outlinewidth": 0,
              "tickcolor": "rgb(36,36,36)",
              "ticklen": 8,
              "ticks": "outside",
              "tickwidth": 2
             }
            },
            "type": "parcoords"
           }
          ],
          "pie": [
           {
            "automargin": true,
            "type": "pie"
           }
          ],
          "scatter": [
           {
            "marker": {
             "colorbar": {
              "outlinewidth": 0,
              "tickcolor": "rgb(36,36,36)",
              "ticklen": 8,
              "ticks": "outside",
              "tickwidth": 2
             }
            },
            "type": "scatter"
           }
          ],
          "scatter3d": [
           {
            "line": {
             "colorbar": {
              "outlinewidth": 0,
              "tickcolor": "rgb(36,36,36)",
              "ticklen": 8,
              "ticks": "outside",
              "tickwidth": 2
             }
            },
            "marker": {
             "colorbar": {
              "outlinewidth": 0,
              "tickcolor": "rgb(36,36,36)",
              "ticklen": 8,
              "ticks": "outside",
              "tickwidth": 2
             }
            },
            "type": "scatter3d"
           }
          ],
          "scattercarpet": [
           {
            "marker": {
             "colorbar": {
              "outlinewidth": 0,
              "tickcolor": "rgb(36,36,36)",
              "ticklen": 8,
              "ticks": "outside",
              "tickwidth": 2
             }
            },
            "type": "scattercarpet"
           }
          ],
          "scattergeo": [
           {
            "marker": {
             "colorbar": {
              "outlinewidth": 0,
              "tickcolor": "rgb(36,36,36)",
              "ticklen": 8,
              "ticks": "outside",
              "tickwidth": 2
             }
            },
            "type": "scattergeo"
           }
          ],
          "scattergl": [
           {
            "marker": {
             "colorbar": {
              "outlinewidth": 0,
              "tickcolor": "rgb(36,36,36)",
              "ticklen": 8,
              "ticks": "outside",
              "tickwidth": 2
             }
            },
            "type": "scattergl"
           }
          ],
          "scattermapbox": [
           {
            "marker": {
             "colorbar": {
              "outlinewidth": 0,
              "tickcolor": "rgb(36,36,36)",
              "ticklen": 8,
              "ticks": "outside",
              "tickwidth": 2
             }
            },
            "type": "scattermapbox"
           }
          ],
          "scatterpolar": [
           {
            "marker": {
             "colorbar": {
              "outlinewidth": 0,
              "tickcolor": "rgb(36,36,36)",
              "ticklen": 8,
              "ticks": "outside",
              "tickwidth": 2
             }
            },
            "type": "scatterpolar"
           }
          ],
          "scatterpolargl": [
           {
            "marker": {
             "colorbar": {
              "outlinewidth": 0,
              "tickcolor": "rgb(36,36,36)",
              "ticklen": 8,
              "ticks": "outside",
              "tickwidth": 2
             }
            },
            "type": "scatterpolargl"
           }
          ],
          "scatterternary": [
           {
            "marker": {
             "colorbar": {
              "outlinewidth": 0,
              "tickcolor": "rgb(36,36,36)",
              "ticklen": 8,
              "ticks": "outside",
              "tickwidth": 2
             }
            },
            "type": "scatterternary"
           }
          ],
          "surface": [
           {
            "colorbar": {
             "outlinewidth": 0,
             "tickcolor": "rgb(36,36,36)",
             "ticklen": 8,
             "ticks": "outside",
             "tickwidth": 2
            },
            "colorscale": [
             [
              0,
              "rgb(2,4,25)"
             ],
             [
              0.06274509803921569,
              "rgb(24,15,41)"
             ],
             [
              0.12549019607843137,
              "rgb(47,23,57)"
             ],
             [
              0.18823529411764706,
              "rgb(71,28,72)"
             ],
             [
              0.25098039215686274,
              "rgb(97,30,82)"
             ],
             [
              0.3137254901960784,
              "rgb(123,30,89)"
             ],
             [
              0.3764705882352941,
              "rgb(150,27,91)"
             ],
             [
              0.4392156862745098,
              "rgb(177,22,88)"
             ],
             [
              0.5019607843137255,
              "rgb(203,26,79)"
             ],
             [
              0.5647058823529412,
              "rgb(223,47,67)"
             ],
             [
              0.6274509803921569,
              "rgb(236,76,61)"
             ],
             [
              0.6901960784313725,
              "rgb(242,107,73)"
             ],
             [
              0.7529411764705882,
              "rgb(244,135,95)"
             ],
             [
              0.8156862745098039,
              "rgb(245,162,122)"
             ],
             [
              0.8784313725490196,
              "rgb(246,188,153)"
             ],
             [
              0.9411764705882353,
              "rgb(247,212,187)"
             ],
             [
              1,
              "rgb(250,234,220)"
             ]
            ],
            "type": "surface"
           }
          ],
          "table": [
           {
            "cells": {
             "fill": {
              "color": "rgb(231,231,240)"
             },
             "line": {
              "color": "white"
             }
            },
            "header": {
             "fill": {
              "color": "rgb(183,183,191)"
             },
             "line": {
              "color": "white"
             }
            },
            "type": "table"
           }
          ]
         },
         "layout": {
          "annotationdefaults": {
           "arrowcolor": "rgb(67,103,167)"
          },
          "autotypenumbers": "strict",
          "coloraxis": {
           "colorbar": {
            "outlinewidth": 0,
            "tickcolor": "rgb(36,36,36)",
            "ticklen": 8,
            "ticks": "outside",
            "tickwidth": 2
           }
          },
          "colorscale": {
           "sequential": [
            [
             0,
             "rgb(2,4,25)"
            ],
            [
             0.06274509803921569,
             "rgb(24,15,41)"
            ],
            [
             0.12549019607843137,
             "rgb(47,23,57)"
            ],
            [
             0.18823529411764706,
             "rgb(71,28,72)"
            ],
            [
             0.25098039215686274,
             "rgb(97,30,82)"
            ],
            [
             0.3137254901960784,
             "rgb(123,30,89)"
            ],
            [
             0.3764705882352941,
             "rgb(150,27,91)"
            ],
            [
             0.4392156862745098,
             "rgb(177,22,88)"
            ],
            [
             0.5019607843137255,
             "rgb(203,26,79)"
            ],
            [
             0.5647058823529412,
             "rgb(223,47,67)"
            ],
            [
             0.6274509803921569,
             "rgb(236,76,61)"
            ],
            [
             0.6901960784313725,
             "rgb(242,107,73)"
            ],
            [
             0.7529411764705882,
             "rgb(244,135,95)"
            ],
            [
             0.8156862745098039,
             "rgb(245,162,122)"
            ],
            [
             0.8784313725490196,
             "rgb(246,188,153)"
            ],
            [
             0.9411764705882353,
             "rgb(247,212,187)"
            ],
            [
             1,
             "rgb(250,234,220)"
            ]
           ],
           "sequentialminus": [
            [
             0,
             "rgb(2,4,25)"
            ],
            [
             0.06274509803921569,
             "rgb(24,15,41)"
            ],
            [
             0.12549019607843137,
             "rgb(47,23,57)"
            ],
            [
             0.18823529411764706,
             "rgb(71,28,72)"
            ],
            [
             0.25098039215686274,
             "rgb(97,30,82)"
            ],
            [
             0.3137254901960784,
             "rgb(123,30,89)"
            ],
            [
             0.3764705882352941,
             "rgb(150,27,91)"
            ],
            [
             0.4392156862745098,
             "rgb(177,22,88)"
            ],
            [
             0.5019607843137255,
             "rgb(203,26,79)"
            ],
            [
             0.5647058823529412,
             "rgb(223,47,67)"
            ],
            [
             0.6274509803921569,
             "rgb(236,76,61)"
            ],
            [
             0.6901960784313725,
             "rgb(242,107,73)"
            ],
            [
             0.7529411764705882,
             "rgb(244,135,95)"
            ],
            [
             0.8156862745098039,
             "rgb(245,162,122)"
            ],
            [
             0.8784313725490196,
             "rgb(246,188,153)"
            ],
            [
             0.9411764705882353,
             "rgb(247,212,187)"
            ],
            [
             1,
             "rgb(250,234,220)"
            ]
           ]
          },
          "colorway": [
           "rgb(76,114,176)",
           "rgb(221,132,82)",
           "rgb(85,168,104)",
           "rgb(196,78,82)",
           "rgb(129,114,179)",
           "rgb(147,120,96)",
           "rgb(218,139,195)",
           "rgb(140,140,140)",
           "rgb(204,185,116)",
           "rgb(100,181,205)"
          ],
          "font": {
           "color": "rgb(36,36,36)"
          },
          "geo": {
           "bgcolor": "white",
           "lakecolor": "white",
           "landcolor": "rgb(234,234,242)",
           "showlakes": true,
           "showland": true,
           "subunitcolor": "white"
          },
          "hoverlabel": {
           "align": "left"
          },
          "hovermode": "closest",
          "paper_bgcolor": "white",
          "plot_bgcolor": "rgb(234,234,242)",
          "polar": {
           "angularaxis": {
            "gridcolor": "white",
            "linecolor": "white",
            "showgrid": true,
            "ticks": ""
           },
           "bgcolor": "rgb(234,234,242)",
           "radialaxis": {
            "gridcolor": "white",
            "linecolor": "white",
            "showgrid": true,
            "ticks": ""
           }
          },
          "scene": {
           "xaxis": {
            "backgroundcolor": "rgb(234,234,242)",
            "gridcolor": "white",
            "gridwidth": 2,
            "linecolor": "white",
            "showbackground": true,
            "showgrid": true,
            "ticks": "",
            "zerolinecolor": "white"
           },
           "yaxis": {
            "backgroundcolor": "rgb(234,234,242)",
            "gridcolor": "white",
            "gridwidth": 2,
            "linecolor": "white",
            "showbackground": true,
            "showgrid": true,
            "ticks": "",
            "zerolinecolor": "white"
           },
           "zaxis": {
            "backgroundcolor": "rgb(234,234,242)",
            "gridcolor": "white",
            "gridwidth": 2,
            "linecolor": "white",
            "showbackground": true,
            "showgrid": true,
            "ticks": "",
            "zerolinecolor": "white"
           }
          },
          "shapedefaults": {
           "fillcolor": "rgb(67,103,167)",
           "line": {
            "width": 0
           },
           "opacity": 0.5
          },
          "ternary": {
           "aaxis": {
            "gridcolor": "white",
            "linecolor": "white",
            "showgrid": true,
            "ticks": ""
           },
           "baxis": {
            "gridcolor": "white",
            "linecolor": "white",
            "showgrid": true,
            "ticks": ""
           },
           "bgcolor": "rgb(234,234,242)",
           "caxis": {
            "gridcolor": "white",
            "linecolor": "white",
            "showgrid": true,
            "ticks": ""
           }
          },
          "xaxis": {
           "automargin": true,
           "gridcolor": "white",
           "linecolor": "white",
           "showgrid": true,
           "ticks": "",
           "title": {
            "standoff": 15
           },
           "zerolinecolor": "white"
          },
          "yaxis": {
           "automargin": true,
           "gridcolor": "white",
           "linecolor": "white",
           "showgrid": true,
           "ticks": "",
           "title": {
            "standoff": 15
           },
           "zerolinecolor": "white"
          }
         }
        },
        "title": {
         "text": "T vs 2-point Corr"
        },
        "xaxis": {
         "title": {
          "text": "T"
         }
        },
        "yaxis": {
         "title": {
          "text": "2-point Corr"
         }
        }
       }
      },
      "text/html": [
       "<div>                            <div id=\"684e8bf1-2f74-47da-9cfa-5fcdaeb51641\" class=\"plotly-graph-div\" style=\"height:525px; width:100%;\"></div>            <script type=\"text/javascript\">                require([\"plotly\"], function(Plotly) {                    window.PLOTLYENV=window.PLOTLYENV || {};                                    if (document.getElementById(\"684e8bf1-2f74-47da-9cfa-5fcdaeb51641\")) {                    Plotly.newPlot(                        \"684e8bf1-2f74-47da-9cfa-5fcdaeb51641\",                        [{\"mode\":\"markers+lines\",\"type\":\"scatter\",\"x\":[0.0,105.26315789473684,210.52631578947367,315.7894736842105,421.05263157894734,526.3157894736842,631.578947368421,736.8421052631578,842.1052631578947,947.3684210526316,1052.6315789473683,1157.8947368421052,1263.157894736842,1368.421052631579,1473.6842105263156,1578.9473684210525,1684.2105263157894,1789.4736842105262,1894.7368421052631,2000.0],\"y\":[-0.9999834890340095,-0.7022578402046128,-0.999975396361079,-0.9005719052579343,-0.8686568278816388,-0.7617521551496446,-0.7100535683248845,-0.5975240713965827,-0.6330252636321004,-0.5834667585639945,-0.8267921850295274,-0.9308249958634012,-0.6429821029762105,-0.5935950575950504,-0.6195187770370457,-0.509292672920914,-0.5264656494429393,-0.6616656640244956,-0.7414382558054823,-0.9741659749733956]}],                        {\"template\":{\"data\":{\"bar\":[{\"error_x\":{\"color\":\"rgb(36,36,36)\"},\"error_y\":{\"color\":\"rgb(36,36,36)\"},\"marker\":{\"line\":{\"color\":\"rgb(234,234,242)\",\"width\":0.5},\"pattern\":{\"fillmode\":\"overlay\",\"size\":10,\"solidity\":0.2}},\"type\":\"bar\"}],\"barpolar\":[{\"marker\":{\"line\":{\"color\":\"rgb(234,234,242)\",\"width\":0.5},\"pattern\":{\"fillmode\":\"overlay\",\"size\":10,\"solidity\":0.2}},\"type\":\"barpolar\"}],\"carpet\":[{\"aaxis\":{\"endlinecolor\":\"rgb(36,36,36)\",\"gridcolor\":\"white\",\"linecolor\":\"white\",\"minorgridcolor\":\"white\",\"startlinecolor\":\"rgb(36,36,36)\"},\"baxis\":{\"endlinecolor\":\"rgb(36,36,36)\",\"gridcolor\":\"white\",\"linecolor\":\"white\",\"minorgridcolor\":\"white\",\"startlinecolor\":\"rgb(36,36,36)\"},\"type\":\"carpet\"}],\"choropleth\":[{\"colorbar\":{\"outlinewidth\":0,\"tickcolor\":\"rgb(36,36,36)\",\"ticklen\":8,\"ticks\":\"outside\",\"tickwidth\":2},\"type\":\"choropleth\"}],\"contour\":[{\"colorbar\":{\"outlinewidth\":0,\"tickcolor\":\"rgb(36,36,36)\",\"ticklen\":8,\"ticks\":\"outside\",\"tickwidth\":2},\"colorscale\":[[0.0,\"rgb(2,4,25)\"],[0.06274509803921569,\"rgb(24,15,41)\"],[0.12549019607843137,\"rgb(47,23,57)\"],[0.18823529411764706,\"rgb(71,28,72)\"],[0.25098039215686274,\"rgb(97,30,82)\"],[0.3137254901960784,\"rgb(123,30,89)\"],[0.3764705882352941,\"rgb(150,27,91)\"],[0.4392156862745098,\"rgb(177,22,88)\"],[0.5019607843137255,\"rgb(203,26,79)\"],[0.5647058823529412,\"rgb(223,47,67)\"],[0.6274509803921569,\"rgb(236,76,61)\"],[0.6901960784313725,\"rgb(242,107,73)\"],[0.7529411764705882,\"rgb(244,135,95)\"],[0.8156862745098039,\"rgb(245,162,122)\"],[0.8784313725490196,\"rgb(246,188,153)\"],[0.9411764705882353,\"rgb(247,212,187)\"],[1.0,\"rgb(250,234,220)\"]],\"type\":\"contour\"}],\"contourcarpet\":[{\"colorbar\":{\"outlinewidth\":0,\"tickcolor\":\"rgb(36,36,36)\",\"ticklen\":8,\"ticks\":\"outside\",\"tickwidth\":2},\"type\":\"contourcarpet\"}],\"heatmap\":[{\"colorbar\":{\"outlinewidth\":0,\"tickcolor\":\"rgb(36,36,36)\",\"ticklen\":8,\"ticks\":\"outside\",\"tickwidth\":2},\"colorscale\":[[0.0,\"rgb(2,4,25)\"],[0.06274509803921569,\"rgb(24,15,41)\"],[0.12549019607843137,\"rgb(47,23,57)\"],[0.18823529411764706,\"rgb(71,28,72)\"],[0.25098039215686274,\"rgb(97,30,82)\"],[0.3137254901960784,\"rgb(123,30,89)\"],[0.3764705882352941,\"rgb(150,27,91)\"],[0.4392156862745098,\"rgb(177,22,88)\"],[0.5019607843137255,\"rgb(203,26,79)\"],[0.5647058823529412,\"rgb(223,47,67)\"],[0.6274509803921569,\"rgb(236,76,61)\"],[0.6901960784313725,\"rgb(242,107,73)\"],[0.7529411764705882,\"rgb(244,135,95)\"],[0.8156862745098039,\"rgb(245,162,122)\"],[0.8784313725490196,\"rgb(246,188,153)\"],[0.9411764705882353,\"rgb(247,212,187)\"],[1.0,\"rgb(250,234,220)\"]],\"type\":\"heatmap\"}],\"heatmapgl\":[{\"colorbar\":{\"outlinewidth\":0,\"tickcolor\":\"rgb(36,36,36)\",\"ticklen\":8,\"ticks\":\"outside\",\"tickwidth\":2},\"colorscale\":[[0.0,\"rgb(2,4,25)\"],[0.06274509803921569,\"rgb(24,15,41)\"],[0.12549019607843137,\"rgb(47,23,57)\"],[0.18823529411764706,\"rgb(71,28,72)\"],[0.25098039215686274,\"rgb(97,30,82)\"],[0.3137254901960784,\"rgb(123,30,89)\"],[0.3764705882352941,\"rgb(150,27,91)\"],[0.4392156862745098,\"rgb(177,22,88)\"],[0.5019607843137255,\"rgb(203,26,79)\"],[0.5647058823529412,\"rgb(223,47,67)\"],[0.6274509803921569,\"rgb(236,76,61)\"],[0.6901960784313725,\"rgb(242,107,73)\"],[0.7529411764705882,\"rgb(244,135,95)\"],[0.8156862745098039,\"rgb(245,162,122)\"],[0.8784313725490196,\"rgb(246,188,153)\"],[0.9411764705882353,\"rgb(247,212,187)\"],[1.0,\"rgb(250,234,220)\"]],\"type\":\"heatmapgl\"}],\"histogram\":[{\"marker\":{\"pattern\":{\"fillmode\":\"overlay\",\"size\":10,\"solidity\":0.2}},\"type\":\"histogram\"}],\"histogram2d\":[{\"colorbar\":{\"outlinewidth\":0,\"tickcolor\":\"rgb(36,36,36)\",\"ticklen\":8,\"ticks\":\"outside\",\"tickwidth\":2},\"colorscale\":[[0.0,\"rgb(2,4,25)\"],[0.06274509803921569,\"rgb(24,15,41)\"],[0.12549019607843137,\"rgb(47,23,57)\"],[0.18823529411764706,\"rgb(71,28,72)\"],[0.25098039215686274,\"rgb(97,30,82)\"],[0.3137254901960784,\"rgb(123,30,89)\"],[0.3764705882352941,\"rgb(150,27,91)\"],[0.4392156862745098,\"rgb(177,22,88)\"],[0.5019607843137255,\"rgb(203,26,79)\"],[0.5647058823529412,\"rgb(223,47,67)\"],[0.6274509803921569,\"rgb(236,76,61)\"],[0.6901960784313725,\"rgb(242,107,73)\"],[0.7529411764705882,\"rgb(244,135,95)\"],[0.8156862745098039,\"rgb(245,162,122)\"],[0.8784313725490196,\"rgb(246,188,153)\"],[0.9411764705882353,\"rgb(247,212,187)\"],[1.0,\"rgb(250,234,220)\"]],\"type\":\"histogram2d\"}],\"histogram2dcontour\":[{\"colorbar\":{\"outlinewidth\":0,\"tickcolor\":\"rgb(36,36,36)\",\"ticklen\":8,\"ticks\":\"outside\",\"tickwidth\":2},\"colorscale\":[[0.0,\"rgb(2,4,25)\"],[0.06274509803921569,\"rgb(24,15,41)\"],[0.12549019607843137,\"rgb(47,23,57)\"],[0.18823529411764706,\"rgb(71,28,72)\"],[0.25098039215686274,\"rgb(97,30,82)\"],[0.3137254901960784,\"rgb(123,30,89)\"],[0.3764705882352941,\"rgb(150,27,91)\"],[0.4392156862745098,\"rgb(177,22,88)\"],[0.5019607843137255,\"rgb(203,26,79)\"],[0.5647058823529412,\"rgb(223,47,67)\"],[0.6274509803921569,\"rgb(236,76,61)\"],[0.6901960784313725,\"rgb(242,107,73)\"],[0.7529411764705882,\"rgb(244,135,95)\"],[0.8156862745098039,\"rgb(245,162,122)\"],[0.8784313725490196,\"rgb(246,188,153)\"],[0.9411764705882353,\"rgb(247,212,187)\"],[1.0,\"rgb(250,234,220)\"]],\"type\":\"histogram2dcontour\"}],\"mesh3d\":[{\"colorbar\":{\"outlinewidth\":0,\"tickcolor\":\"rgb(36,36,36)\",\"ticklen\":8,\"ticks\":\"outside\",\"tickwidth\":2},\"type\":\"mesh3d\"}],\"parcoords\":[{\"line\":{\"colorbar\":{\"outlinewidth\":0,\"tickcolor\":\"rgb(36,36,36)\",\"ticklen\":8,\"ticks\":\"outside\",\"tickwidth\":2}},\"type\":\"parcoords\"}],\"pie\":[{\"automargin\":true,\"type\":\"pie\"}],\"scatter\":[{\"marker\":{\"colorbar\":{\"outlinewidth\":0,\"tickcolor\":\"rgb(36,36,36)\",\"ticklen\":8,\"ticks\":\"outside\",\"tickwidth\":2}},\"type\":\"scatter\"}],\"scatter3d\":[{\"line\":{\"colorbar\":{\"outlinewidth\":0,\"tickcolor\":\"rgb(36,36,36)\",\"ticklen\":8,\"ticks\":\"outside\",\"tickwidth\":2}},\"marker\":{\"colorbar\":{\"outlinewidth\":0,\"tickcolor\":\"rgb(36,36,36)\",\"ticklen\":8,\"ticks\":\"outside\",\"tickwidth\":2}},\"type\":\"scatter3d\"}],\"scattercarpet\":[{\"marker\":{\"colorbar\":{\"outlinewidth\":0,\"tickcolor\":\"rgb(36,36,36)\",\"ticklen\":8,\"ticks\":\"outside\",\"tickwidth\":2}},\"type\":\"scattercarpet\"}],\"scattergeo\":[{\"marker\":{\"colorbar\":{\"outlinewidth\":0,\"tickcolor\":\"rgb(36,36,36)\",\"ticklen\":8,\"ticks\":\"outside\",\"tickwidth\":2}},\"type\":\"scattergeo\"}],\"scattergl\":[{\"marker\":{\"colorbar\":{\"outlinewidth\":0,\"tickcolor\":\"rgb(36,36,36)\",\"ticklen\":8,\"ticks\":\"outside\",\"tickwidth\":2}},\"type\":\"scattergl\"}],\"scattermapbox\":[{\"marker\":{\"colorbar\":{\"outlinewidth\":0,\"tickcolor\":\"rgb(36,36,36)\",\"ticklen\":8,\"ticks\":\"outside\",\"tickwidth\":2}},\"type\":\"scattermapbox\"}],\"scatterpolar\":[{\"marker\":{\"colorbar\":{\"outlinewidth\":0,\"tickcolor\":\"rgb(36,36,36)\",\"ticklen\":8,\"ticks\":\"outside\",\"tickwidth\":2}},\"type\":\"scatterpolar\"}],\"scatterpolargl\":[{\"marker\":{\"colorbar\":{\"outlinewidth\":0,\"tickcolor\":\"rgb(36,36,36)\",\"ticklen\":8,\"ticks\":\"outside\",\"tickwidth\":2}},\"type\":\"scatterpolargl\"}],\"scatterternary\":[{\"marker\":{\"colorbar\":{\"outlinewidth\":0,\"tickcolor\":\"rgb(36,36,36)\",\"ticklen\":8,\"ticks\":\"outside\",\"tickwidth\":2}},\"type\":\"scatterternary\"}],\"surface\":[{\"colorbar\":{\"outlinewidth\":0,\"tickcolor\":\"rgb(36,36,36)\",\"ticklen\":8,\"ticks\":\"outside\",\"tickwidth\":2},\"colorscale\":[[0.0,\"rgb(2,4,25)\"],[0.06274509803921569,\"rgb(24,15,41)\"],[0.12549019607843137,\"rgb(47,23,57)\"],[0.18823529411764706,\"rgb(71,28,72)\"],[0.25098039215686274,\"rgb(97,30,82)\"],[0.3137254901960784,\"rgb(123,30,89)\"],[0.3764705882352941,\"rgb(150,27,91)\"],[0.4392156862745098,\"rgb(177,22,88)\"],[0.5019607843137255,\"rgb(203,26,79)\"],[0.5647058823529412,\"rgb(223,47,67)\"],[0.6274509803921569,\"rgb(236,76,61)\"],[0.6901960784313725,\"rgb(242,107,73)\"],[0.7529411764705882,\"rgb(244,135,95)\"],[0.8156862745098039,\"rgb(245,162,122)\"],[0.8784313725490196,\"rgb(246,188,153)\"],[0.9411764705882353,\"rgb(247,212,187)\"],[1.0,\"rgb(250,234,220)\"]],\"type\":\"surface\"}],\"table\":[{\"cells\":{\"fill\":{\"color\":\"rgb(231,231,240)\"},\"line\":{\"color\":\"white\"}},\"header\":{\"fill\":{\"color\":\"rgb(183,183,191)\"},\"line\":{\"color\":\"white\"}},\"type\":\"table\"}]},\"layout\":{\"annotationdefaults\":{\"arrowcolor\":\"rgb(67,103,167)\"},\"autotypenumbers\":\"strict\",\"coloraxis\":{\"colorbar\":{\"outlinewidth\":0,\"tickcolor\":\"rgb(36,36,36)\",\"ticklen\":8,\"ticks\":\"outside\",\"tickwidth\":2}},\"colorscale\":{\"sequential\":[[0.0,\"rgb(2,4,25)\"],[0.06274509803921569,\"rgb(24,15,41)\"],[0.12549019607843137,\"rgb(47,23,57)\"],[0.18823529411764706,\"rgb(71,28,72)\"],[0.25098039215686274,\"rgb(97,30,82)\"],[0.3137254901960784,\"rgb(123,30,89)\"],[0.3764705882352941,\"rgb(150,27,91)\"],[0.4392156862745098,\"rgb(177,22,88)\"],[0.5019607843137255,\"rgb(203,26,79)\"],[0.5647058823529412,\"rgb(223,47,67)\"],[0.6274509803921569,\"rgb(236,76,61)\"],[0.6901960784313725,\"rgb(242,107,73)\"],[0.7529411764705882,\"rgb(244,135,95)\"],[0.8156862745098039,\"rgb(245,162,122)\"],[0.8784313725490196,\"rgb(246,188,153)\"],[0.9411764705882353,\"rgb(247,212,187)\"],[1.0,\"rgb(250,234,220)\"]],\"sequentialminus\":[[0.0,\"rgb(2,4,25)\"],[0.06274509803921569,\"rgb(24,15,41)\"],[0.12549019607843137,\"rgb(47,23,57)\"],[0.18823529411764706,\"rgb(71,28,72)\"],[0.25098039215686274,\"rgb(97,30,82)\"],[0.3137254901960784,\"rgb(123,30,89)\"],[0.3764705882352941,\"rgb(150,27,91)\"],[0.4392156862745098,\"rgb(177,22,88)\"],[0.5019607843137255,\"rgb(203,26,79)\"],[0.5647058823529412,\"rgb(223,47,67)\"],[0.6274509803921569,\"rgb(236,76,61)\"],[0.6901960784313725,\"rgb(242,107,73)\"],[0.7529411764705882,\"rgb(244,135,95)\"],[0.8156862745098039,\"rgb(245,162,122)\"],[0.8784313725490196,\"rgb(246,188,153)\"],[0.9411764705882353,\"rgb(247,212,187)\"],[1.0,\"rgb(250,234,220)\"]]},\"colorway\":[\"rgb(76,114,176)\",\"rgb(221,132,82)\",\"rgb(85,168,104)\",\"rgb(196,78,82)\",\"rgb(129,114,179)\",\"rgb(147,120,96)\",\"rgb(218,139,195)\",\"rgb(140,140,140)\",\"rgb(204,185,116)\",\"rgb(100,181,205)\"],\"font\":{\"color\":\"rgb(36,36,36)\"},\"geo\":{\"bgcolor\":\"white\",\"lakecolor\":\"white\",\"landcolor\":\"rgb(234,234,242)\",\"showlakes\":true,\"showland\":true,\"subunitcolor\":\"white\"},\"hoverlabel\":{\"align\":\"left\"},\"hovermode\":\"closest\",\"paper_bgcolor\":\"white\",\"plot_bgcolor\":\"rgb(234,234,242)\",\"polar\":{\"angularaxis\":{\"gridcolor\":\"white\",\"linecolor\":\"white\",\"showgrid\":true,\"ticks\":\"\"},\"bgcolor\":\"rgb(234,234,242)\",\"radialaxis\":{\"gridcolor\":\"white\",\"linecolor\":\"white\",\"showgrid\":true,\"ticks\":\"\"}},\"scene\":{\"xaxis\":{\"backgroundcolor\":\"rgb(234,234,242)\",\"gridcolor\":\"white\",\"gridwidth\":2,\"linecolor\":\"white\",\"showbackground\":true,\"showgrid\":true,\"ticks\":\"\",\"zerolinecolor\":\"white\"},\"yaxis\":{\"backgroundcolor\":\"rgb(234,234,242)\",\"gridcolor\":\"white\",\"gridwidth\":2,\"linecolor\":\"white\",\"showbackground\":true,\"showgrid\":true,\"ticks\":\"\",\"zerolinecolor\":\"white\"},\"zaxis\":{\"backgroundcolor\":\"rgb(234,234,242)\",\"gridcolor\":\"white\",\"gridwidth\":2,\"linecolor\":\"white\",\"showbackground\":true,\"showgrid\":true,\"ticks\":\"\",\"zerolinecolor\":\"white\"}},\"shapedefaults\":{\"fillcolor\":\"rgb(67,103,167)\",\"line\":{\"width\":0},\"opacity\":0.5},\"ternary\":{\"aaxis\":{\"gridcolor\":\"white\",\"linecolor\":\"white\",\"showgrid\":true,\"ticks\":\"\"},\"baxis\":{\"gridcolor\":\"white\",\"linecolor\":\"white\",\"showgrid\":true,\"ticks\":\"\"},\"bgcolor\":\"rgb(234,234,242)\",\"caxis\":{\"gridcolor\":\"white\",\"linecolor\":\"white\",\"showgrid\":true,\"ticks\":\"\"}},\"xaxis\":{\"automargin\":true,\"gridcolor\":\"white\",\"linecolor\":\"white\",\"showgrid\":true,\"ticks\":\"\",\"title\":{\"standoff\":15},\"zerolinecolor\":\"white\"},\"yaxis\":{\"automargin\":true,\"gridcolor\":\"white\",\"linecolor\":\"white\",\"showgrid\":true,\"ticks\":\"\",\"title\":{\"standoff\":15},\"zerolinecolor\":\"white\"}}},\"title\":{\"text\":\"T vs 2-point Corr\"},\"xaxis\":{\"title\":{\"text\":\"T\"}},\"yaxis\":{\"title\":{\"text\":\"2-point Corr\"}}},                        {\"responsive\": true}                    ).then(function(){\n",
       "                            \n",
       "var gd = document.getElementById('684e8bf1-2f74-47da-9cfa-5fcdaeb51641');\n",
       "var x = new MutationObserver(function (mutations, observer) {{\n",
       "        var display = window.getComputedStyle(gd).display;\n",
       "        if (!display || display === 'none') {{\n",
       "            console.log([gd, 'removed!']);\n",
       "            Plotly.purge(gd);\n",
       "            observer.disconnect();\n",
       "        }}\n",
       "}});\n",
       "\n",
       "// Listen for the removal of the full notebook cells\n",
       "var notebookContainer = gd.closest('#notebook-container');\n",
       "if (notebookContainer) {{\n",
       "    x.observe(notebookContainer, {childList: true});\n",
       "}}\n",
       "\n",
       "// Listen for the clearing of the current output cell\n",
       "var outputEl = gd.closest('.output');\n",
       "if (outputEl) {{\n",
       "    x.observe(outputEl, {childList: true});\n",
       "}}\n",
       "\n",
       "                        })                };                });            </script>        </div>"
      ]
     },
     "metadata": {},
     "output_type": "display_data"
    }
   ],
   "source": [
    "fig = go.Figure()\n",
    "\n",
    "fig.add_trace(go.Scatter(x = results_uniform[results_uniform['1-point_corr'] == 0.0]['T'],\n",
    "                         y = results_uniform[results_uniform['1-point_corr'] == 0.0]['corrs'].str[2],\n",
    "                         mode='markers+lines',\n",
    "                        )\n",
    "             )\n",
    "\n",
    "fig.update_layout(\n",
    "    title=\"T vs 2-point Corr\",\n",
    "    xaxis_title=\"T\",\n",
    "    yaxis_title=\"2-point Corr\",\n",
    "    template='seaborn'\n",
    ")\n",
    "#fig.update_traces(texttemplate='%{text:.2s}', textposition='top center')\n",
    "fig.show()"
   ]
  },
  {
   "cell_type": "code",
   "execution_count": 128,
   "metadata": {
    "ExecuteTime": {
     "end_time": "2021-09-12T18:58:05.529681Z",
     "start_time": "2021-09-12T18:58:05.511796Z"
    },
    "hidden": true
   },
   "outputs": [
    {
     "data": {
      "text/plain": [
       "array([-1.  , -0.89, -0.78, -0.67, -0.56, -0.44, -0.33, -0.22, -0.11,\n",
       "        0.  ,  0.11,  0.22,  0.33,  0.44,  0.56,  0.67,  0.78,  0.89,\n",
       "        1.  ])"
      ]
     },
     "execution_count": 128,
     "metadata": {},
     "output_type": "execute_result"
    }
   ],
   "source": [
    "np.linspace(-1+np.finfo(float).eps,1-np.finfo(float).eps,19)"
   ]
  },
  {
   "cell_type": "markdown",
   "metadata": {},
   "source": [
    "# Basin Hopping"
   ]
  },
  {
   "cell_type": "code",
   "execution_count": null,
   "metadata": {
    "ExecuteTime": {
     "start_time": "2021-09-12T22:10:12.705Z"
    }
   },
   "outputs": [
    {
     "data": {
      "application/vnd.jupyter.widget-view+json": {
       "model_id": "58fb64f9af6e40969b5784e225787dbf",
       "version_major": 2,
       "version_minor": 0
      },
      "text/plain": [
       "  0%|          | 0/21 [00:00<?, ?it/s]"
      ]
     },
     "metadata": {},
     "output_type": "display_data"
    },
    {
     "data": {
      "application/vnd.jupyter.widget-view+json": {
       "model_id": "cf351e2baa524176b9972f483eb04368",
       "version_major": 2,
       "version_minor": 0
      },
      "text/plain": [
       "  0%|          | 0/21 [00:00<?, ?it/s]"
      ]
     },
     "metadata": {},
     "output_type": "display_data"
    },
    {
     "name": "stderr",
     "output_type": "stream",
     "text": [
      "/home/sayan/.local/lib/python3.8/site-packages/scipy/optimize/_trustregion_constr/projections.py:181: UserWarning:\n",
      "\n",
      "Singular Jacobian matrix. Using SVD decomposition to perform the factorizations.\n",
      "\n",
      "/home/sayan/.local/lib/python3.8/site-packages/scipy/optimize/_hessian_update_strategy.py:182: UserWarning:\n",
      "\n",
      "delta_grad == 0.0. Check if the approximated function is linear. If the function is linear better results can be obtained by defining the Hessian as zero instead of using quasi-Newton approximations.\n",
      "\n"
     ]
    },
    {
     "name": "stdout",
     "output_type": "stream",
     "text": [
      "basinhopping step 0: f 0.4\n",
      "basinhopping step 1: f 0.4 trial_f 0.4 accepted 0  lowest_f 0.4\n",
      "basinhopping step 2: f 0.4 trial_f 0.4 accepted 0  lowest_f 0.4\n",
      "basinhopping step 3: f 0.4 trial_f 0.4 accepted 0  lowest_f 0.4\n",
      "basinhopping step 4: f 0.4 trial_f 0.4 accepted 0  lowest_f 0.4\n",
      "adaptive stepsize: acceptance rate 0.000000 target 0.500000 new stepsize 4.5 old stepsize 5\n"
     ]
    }
   ],
   "source": [
    "results_basinhopping = pd.DataFrame(columns = ['T', '1-point_corr', 'F','corrs'])\n",
    "\n",
    "now = datetime.now()\n",
    "now = now.strftime(\"%d-%m-%H-%M\")\n",
    "\n",
    "for temp in tqdm(np.linspace(0, 20000, num=21)):\n",
    "    for x in tqdm(np.linspace(-1+np.finfo(float).eps,1-np.finfo(float).eps,21)):\n",
    "\n",
    "        FIXED_CORR_1 = x\n",
    "\n",
    "        rho_pair = np.array([None,None])\n",
    "        \n",
    "        #Make a first guess\n",
    "        corrs0 = np.array([1, x, *np.random.uniform(-1, 1, 4)])\n",
    "        linear_constraints = []\n",
    "\n",
    "        #Linear Constraint for each rho to be between 0 and 1\n",
    "        for cluster_idx, _ in clusters.items():\n",
    "            if cluster_idx == 0:\n",
    "                linear_constraints.append(LinearConstraint(vmat[cluster_idx],\n",
    "                                                           [1]*len(configcoef[cluster_idx]),\n",
    "                                                           [1]*len(configcoef[cluster_idx])))\n",
    "            else:\n",
    "                linear_constraints.append(LinearConstraint(vmat[cluster_idx],\n",
    "                                                           [0]*len(configcoef[cluster_idx]),\n",
    "                                                           [1]*len(configcoef[cluster_idx])))\n",
    "        \n",
    "        #Set bounds for the local minimisation \n",
    "        #limit correlations to [1, 1-pt, [-1,1], [-1,1], ...]\n",
    "        bounds_corrs = Bounds([1, FIXED_CORR_1,*[-1]*(len(clusters)-2)],\n",
    "                              [1, FIXED_CORR_1,*[1]*(len(clusters)-2)]\n",
    "                             )\n",
    "     \n",
    "        options = {'verbose' : 0,\n",
    "                   'maxiter' : 5000,\n",
    "                   'xtol'    : 1e-15,\n",
    "                   'initial_constr_penalty' : 10,\n",
    "                  }\n",
    "        \n",
    "        minimizer_kwargs = {'args':(vmat, kb, clusters, configs, configcoef,temp,eci),\n",
    "                            'method': 'trust-constr',\n",
    "                            'options': options,\n",
    "                            'jac': F_jacobian, 'hess': F_hessian,\n",
    "                            'constraints' : [{'fun': constraint_rhos_sum, 'type': 'eq', 'args': [vmat, clusters, configcoef,]},\n",
    "                                             *linear_constraints, \n",
    "                                             {'fun': constraint_singlet, 'type': 'eq', 'args': [FIXED_CORR_1]},\n",
    "                                             {'fun': constraint_zero, 'type':'eq',},\n",
    "                                            ],\n",
    "                            'bounds': bounds_corrs,\n",
    "                           }\n",
    "        \n",
    "        mybounds = MyBounds(xmax=[1, FIXED_CORR_1,*[1]*(len(clusters)-2)], xmin=[1, FIXED_CORR_1,*[-1]*(len(clusters)-2)])\n",
    "        \n",
    "        res = basinhopping(F, \n",
    "                           corrs0, #first guess\n",
    "                           niter=200, #total num of iterations\n",
    "                           T=1.0, #temp for Metropolis MC trial search\n",
    "                           stepsize=5,\n",
    "                           minimizer_kwargs=minimizer_kwargs,\n",
    "                           niter_success=20, #num iters to exit after no new minima found \n",
    "                           interval=5, #num iters to change step size\n",
    "                           disp=True,\n",
    "                           accept_test=mybounds,\n",
    "                           seed=42,\n",
    "                           #callback=basin_hopping_callback\n",
    "                          )\n",
    "\n",
    "        #Code to extract rhos and check if they sum them to 1 for sanity. Not used.\n",
    "        for cluster_idx in clusters.keys():\n",
    "                assert np.isclose(np.inner(configcoef[cluster_idx],np.matmul(vmat[cluster_idx],res.x)),1.0)\n",
    "        \n",
    "        results_basinhopping = results_basinhopping.append({'T' : temp, \n",
    "                                                     '1-point_corr' : x, \n",
    "                                                     'F' : res.fun, \n",
    "                                                     'corrs': res.x,\n",
    "                                                    }, \n",
    "                                                    ignore_index = True\n",
    "                                                   )\n",
    "\n",
    "#save results\n",
    "results_basinhopping.to_pickle(f'phaseDiag_{now}.pickle')"
   ]
  },
  {
   "cell_type": "code",
   "execution_count": 158,
   "metadata": {
    "ExecuteTime": {
     "end_time": "2021-09-12T22:07:11.086734Z",
     "start_time": "2021-09-12T22:07:11.076986Z"
    }
   },
   "outputs": [],
   "source": [
    "results_basinhopping.to_pickle(f'phaseDiag_{now}.pickle')"
   ]
  },
  {
   "cell_type": "markdown",
   "metadata": {},
   "source": [
    "## Plot Phase Diagram"
   ]
  },
  {
   "cell_type": "code",
   "execution_count": 135,
   "metadata": {
    "ExecuteTime": {
     "end_time": "2021-09-12T21:20:09.423348Z",
     "start_time": "2021-09-12T21:20:09.330412Z"
    }
   },
   "outputs": [
    {
     "data": {
      "application/vnd.plotly.v1+json": {
       "config": {
        "plotlyServerURL": "https://plot.ly"
       },
       "data": [
        {
         "mode": "markers+lines",
         "name": "T = 0.0",
         "type": "scatter",
         "x": [
          -0.9999999999999998,
          -0.7499999999999998,
          -0.4999999999999999,
          -0.25,
          0,
          0.25,
          0.4999999999999998,
          0.7499999999999998,
          0.9999999999999998
         ],
         "y": [
          0.3999999868174439,
          0.2000000000122784,
          3.799085939880262e-10,
          -0.19999999375567407,
          0.02501300375277299,
          -0.19997202612319312,
          5.820925406999806e-08,
          0.2000000000936184,
          0.3999999903391757
         ]
        },
        {
         "mode": "markers+lines",
         "name": "T = 1111.111111111111",
         "type": "scatter",
         "x": [
          -0.9999999999999998,
          -0.7499999999999998,
          -0.4999999999999999,
          -0.25,
          0,
          0.25,
          0.4999999999999998,
          0.7499999999999998,
          0.9999999999999998
         ],
         "y": [
          0.39999994279897616,
          0.06521690347522557,
          -0.15457320269168054,
          -0.34611260193909416,
          -0.20041890997374873,
          -0.3818550078885338,
          -0.18841956849556604,
          0.0610481520198278,
          0.3999999416409833
         ]
        },
        {
         "mode": "markers+lines",
         "name": "T = 2222.222222222222",
         "type": "scatter",
         "x": [
          -0.9999999999999998,
          -0.7499999999999998,
          -0.4999999999999999,
          -0.25,
          0,
          0.25,
          0.4999999999999998,
          0.7499999999999998,
          0.9999999999999998
         ],
         "y": [
          0.39999990781555933,
          -0.07091133732523192,
          -0.37263862266208,
          -0.5584934533088467,
          -0.48374533103314266,
          -0.567460652572347,
          -0.3375856793034091,
          -0.07086480442278661,
          0.3999998689817663
         ]
        },
        {
         "mode": "markers+lines",
         "name": "T = 3333.333333333333",
         "type": "scatter",
         "x": [
          -0.9999999999999998,
          -0.7499999999999998,
          -0.4999999999999999,
          -0.25,
          0,
          0.25,
          0.4999999999999998,
          0.7499999999999998,
          0.9999999999999998
         ],
         "y": [
          0.39999984428300356,
          -0.20796517376008167,
          -0.5741785901161471,
          -0.7737506241808131,
          -0.7156448264512651,
          -0.7539774638661236,
          -0.5087355725372334,
          -0.20899716716584585,
          0.39999984120490856
         ]
        },
        {
         "mode": "markers+lines",
         "name": "T = 4444.444444444444",
         "type": "scatter",
         "x": [
          -0.9999999999999998,
          -0.7499999999999998,
          -0.4999999999999999,
          -0.25,
          0,
          0.25,
          0.4999999999999998,
          0.7499999999999998,
          0.9999999999999998
         ],
         "y": [
          0.3999997228326355,
          -0.34817863706259455,
          -0.7572346068806897,
          -0.9774191348778227,
          -0.8893021526150373,
          -0.9849004650002627,
          -0.7788655099001035,
          -0.34703911878203964,
          0.3999997011442265
         ]
        },
        {
         "mode": "markers+lines",
         "name": "T = 5555.555555555556",
         "type": "scatter",
         "x": [
          -0.9999999999999998,
          -0.7499999999999998,
          -0.4999999999999999,
          -0.25,
          0,
          0.25,
          0.4999999999999998,
          0.7499999999999998,
          0.9999999999999998
         ],
         "y": [
          0.39999969018383186,
          -0.4898109406779396,
          -0.934198530829297,
          -1.2164101442641075,
          -1.2900979114141002,
          -1.2440268969526715,
          -0.9685990240591906,
          -0.48703173520449616,
          0.3999997210635298
         ]
        },
        {
         "mode": "markers+lines",
         "name": "T = 6666.666666666666",
         "type": "scatter",
         "x": [
          -0.9999999999999998,
          -0.7499999999999998,
          -0.4999999999999999,
          -0.25,
          0,
          0.25,
          0.4999999999999998,
          0.7499999999999998,
          0.9999999999999998
         ],
         "y": [
          0.39999967372683587,
          -0.6149866082157416,
          -1.1778674671032807,
          -1.4162366107978865,
          -1.4103987124295383,
          -1.3945189975242944,
          -1.160224133875638,
          -0.6403024397175959,
          0.399999752798454
         ]
        },
        {
         "mode": "markers+lines",
         "name": "T = 7777.777777777777",
         "type": "scatter",
         "x": [
          -0.9999999999999998,
          -0.7499999999999998,
          -0.4999999999999999,
          -0.25,
          0,
          0.25,
          0.4999999999999998,
          0.7499999999999998,
          0.9999999999999998
         ],
         "y": [
          0.39999966448869345,
          -0.7767493318466011,
          -1.3736273562201722,
          -1.6442782709668466,
          -1.780723027694156,
          -1.7109627949636355,
          -1.3659638435611186,
          -0.7668905913844075,
          0.3999994994876184
         ]
        },
        {
         "mode": "markers+lines",
         "name": "T = 8888.888888888889",
         "type": "scatter",
         "x": [
          -0.9999999999999998,
          -0.7499999999999998,
          -0.4999999999999999,
          -0.25,
          0,
          0.25,
          0.4999999999999998,
          0.7499999999999998,
          0.9999999999999998
         ],
         "y": [
          0.39999979674904773,
          -0.9089792052898797,
          -1.6047148328677572,
          -1.9705764625303908,
          -1.8129205536753727,
          -1.8220344945159819,
          -1.5471198242992286,
          -0.9216649206103196,
          0.39999951893327834
         ]
        },
        {
         "mode": "markers+lines",
         "name": "T = 10000.0",
         "type": "scatter",
         "x": [
          -0.9999999999999998,
          -0.7499999999999998,
          -0.4999999999999999,
          -0.25,
          0,
          0.25,
          0.4999999999999998,
          0.7499999999999998,
          0.9999999999999998
         ],
         "y": [
          0.3999995452477153,
          -1.0525515296576247,
          -1.6827397120206145,
          -2.163412158592329,
          -2.278056269534418,
          -2.1931190148434405,
          -1.7262647042878765,
          -1.0625552334554857,
          0.3999996642797024
         ]
        }
       ],
       "layout": {
        "legend": {
         "title": {
          "text": "Temperature"
         }
        },
        "template": {
         "data": {
          "bar": [
           {
            "error_x": {
             "color": "rgb(36,36,36)"
            },
            "error_y": {
             "color": "rgb(36,36,36)"
            },
            "marker": {
             "line": {
              "color": "rgb(234,234,242)",
              "width": 0.5
             },
             "pattern": {
              "fillmode": "overlay",
              "size": 10,
              "solidity": 0.2
             }
            },
            "type": "bar"
           }
          ],
          "barpolar": [
           {
            "marker": {
             "line": {
              "color": "rgb(234,234,242)",
              "width": 0.5
             },
             "pattern": {
              "fillmode": "overlay",
              "size": 10,
              "solidity": 0.2
             }
            },
            "type": "barpolar"
           }
          ],
          "carpet": [
           {
            "aaxis": {
             "endlinecolor": "rgb(36,36,36)",
             "gridcolor": "white",
             "linecolor": "white",
             "minorgridcolor": "white",
             "startlinecolor": "rgb(36,36,36)"
            },
            "baxis": {
             "endlinecolor": "rgb(36,36,36)",
             "gridcolor": "white",
             "linecolor": "white",
             "minorgridcolor": "white",
             "startlinecolor": "rgb(36,36,36)"
            },
            "type": "carpet"
           }
          ],
          "choropleth": [
           {
            "colorbar": {
             "outlinewidth": 0,
             "tickcolor": "rgb(36,36,36)",
             "ticklen": 8,
             "ticks": "outside",
             "tickwidth": 2
            },
            "type": "choropleth"
           }
          ],
          "contour": [
           {
            "colorbar": {
             "outlinewidth": 0,
             "tickcolor": "rgb(36,36,36)",
             "ticklen": 8,
             "ticks": "outside",
             "tickwidth": 2
            },
            "colorscale": [
             [
              0,
              "rgb(2,4,25)"
             ],
             [
              0.06274509803921569,
              "rgb(24,15,41)"
             ],
             [
              0.12549019607843137,
              "rgb(47,23,57)"
             ],
             [
              0.18823529411764706,
              "rgb(71,28,72)"
             ],
             [
              0.25098039215686274,
              "rgb(97,30,82)"
             ],
             [
              0.3137254901960784,
              "rgb(123,30,89)"
             ],
             [
              0.3764705882352941,
              "rgb(150,27,91)"
             ],
             [
              0.4392156862745098,
              "rgb(177,22,88)"
             ],
             [
              0.5019607843137255,
              "rgb(203,26,79)"
             ],
             [
              0.5647058823529412,
              "rgb(223,47,67)"
             ],
             [
              0.6274509803921569,
              "rgb(236,76,61)"
             ],
             [
              0.6901960784313725,
              "rgb(242,107,73)"
             ],
             [
              0.7529411764705882,
              "rgb(244,135,95)"
             ],
             [
              0.8156862745098039,
              "rgb(245,162,122)"
             ],
             [
              0.8784313725490196,
              "rgb(246,188,153)"
             ],
             [
              0.9411764705882353,
              "rgb(247,212,187)"
             ],
             [
              1,
              "rgb(250,234,220)"
             ]
            ],
            "type": "contour"
           }
          ],
          "contourcarpet": [
           {
            "colorbar": {
             "outlinewidth": 0,
             "tickcolor": "rgb(36,36,36)",
             "ticklen": 8,
             "ticks": "outside",
             "tickwidth": 2
            },
            "type": "contourcarpet"
           }
          ],
          "heatmap": [
           {
            "colorbar": {
             "outlinewidth": 0,
             "tickcolor": "rgb(36,36,36)",
             "ticklen": 8,
             "ticks": "outside",
             "tickwidth": 2
            },
            "colorscale": [
             [
              0,
              "rgb(2,4,25)"
             ],
             [
              0.06274509803921569,
              "rgb(24,15,41)"
             ],
             [
              0.12549019607843137,
              "rgb(47,23,57)"
             ],
             [
              0.18823529411764706,
              "rgb(71,28,72)"
             ],
             [
              0.25098039215686274,
              "rgb(97,30,82)"
             ],
             [
              0.3137254901960784,
              "rgb(123,30,89)"
             ],
             [
              0.3764705882352941,
              "rgb(150,27,91)"
             ],
             [
              0.4392156862745098,
              "rgb(177,22,88)"
             ],
             [
              0.5019607843137255,
              "rgb(203,26,79)"
             ],
             [
              0.5647058823529412,
              "rgb(223,47,67)"
             ],
             [
              0.6274509803921569,
              "rgb(236,76,61)"
             ],
             [
              0.6901960784313725,
              "rgb(242,107,73)"
             ],
             [
              0.7529411764705882,
              "rgb(244,135,95)"
             ],
             [
              0.8156862745098039,
              "rgb(245,162,122)"
             ],
             [
              0.8784313725490196,
              "rgb(246,188,153)"
             ],
             [
              0.9411764705882353,
              "rgb(247,212,187)"
             ],
             [
              1,
              "rgb(250,234,220)"
             ]
            ],
            "type": "heatmap"
           }
          ],
          "heatmapgl": [
           {
            "colorbar": {
             "outlinewidth": 0,
             "tickcolor": "rgb(36,36,36)",
             "ticklen": 8,
             "ticks": "outside",
             "tickwidth": 2
            },
            "colorscale": [
             [
              0,
              "rgb(2,4,25)"
             ],
             [
              0.06274509803921569,
              "rgb(24,15,41)"
             ],
             [
              0.12549019607843137,
              "rgb(47,23,57)"
             ],
             [
              0.18823529411764706,
              "rgb(71,28,72)"
             ],
             [
              0.25098039215686274,
              "rgb(97,30,82)"
             ],
             [
              0.3137254901960784,
              "rgb(123,30,89)"
             ],
             [
              0.3764705882352941,
              "rgb(150,27,91)"
             ],
             [
              0.4392156862745098,
              "rgb(177,22,88)"
             ],
             [
              0.5019607843137255,
              "rgb(203,26,79)"
             ],
             [
              0.5647058823529412,
              "rgb(223,47,67)"
             ],
             [
              0.6274509803921569,
              "rgb(236,76,61)"
             ],
             [
              0.6901960784313725,
              "rgb(242,107,73)"
             ],
             [
              0.7529411764705882,
              "rgb(244,135,95)"
             ],
             [
              0.8156862745098039,
              "rgb(245,162,122)"
             ],
             [
              0.8784313725490196,
              "rgb(246,188,153)"
             ],
             [
              0.9411764705882353,
              "rgb(247,212,187)"
             ],
             [
              1,
              "rgb(250,234,220)"
             ]
            ],
            "type": "heatmapgl"
           }
          ],
          "histogram": [
           {
            "marker": {
             "pattern": {
              "fillmode": "overlay",
              "size": 10,
              "solidity": 0.2
             }
            },
            "type": "histogram"
           }
          ],
          "histogram2d": [
           {
            "colorbar": {
             "outlinewidth": 0,
             "tickcolor": "rgb(36,36,36)",
             "ticklen": 8,
             "ticks": "outside",
             "tickwidth": 2
            },
            "colorscale": [
             [
              0,
              "rgb(2,4,25)"
             ],
             [
              0.06274509803921569,
              "rgb(24,15,41)"
             ],
             [
              0.12549019607843137,
              "rgb(47,23,57)"
             ],
             [
              0.18823529411764706,
              "rgb(71,28,72)"
             ],
             [
              0.25098039215686274,
              "rgb(97,30,82)"
             ],
             [
              0.3137254901960784,
              "rgb(123,30,89)"
             ],
             [
              0.3764705882352941,
              "rgb(150,27,91)"
             ],
             [
              0.4392156862745098,
              "rgb(177,22,88)"
             ],
             [
              0.5019607843137255,
              "rgb(203,26,79)"
             ],
             [
              0.5647058823529412,
              "rgb(223,47,67)"
             ],
             [
              0.6274509803921569,
              "rgb(236,76,61)"
             ],
             [
              0.6901960784313725,
              "rgb(242,107,73)"
             ],
             [
              0.7529411764705882,
              "rgb(244,135,95)"
             ],
             [
              0.8156862745098039,
              "rgb(245,162,122)"
             ],
             [
              0.8784313725490196,
              "rgb(246,188,153)"
             ],
             [
              0.9411764705882353,
              "rgb(247,212,187)"
             ],
             [
              1,
              "rgb(250,234,220)"
             ]
            ],
            "type": "histogram2d"
           }
          ],
          "histogram2dcontour": [
           {
            "colorbar": {
             "outlinewidth": 0,
             "tickcolor": "rgb(36,36,36)",
             "ticklen": 8,
             "ticks": "outside",
             "tickwidth": 2
            },
            "colorscale": [
             [
              0,
              "rgb(2,4,25)"
             ],
             [
              0.06274509803921569,
              "rgb(24,15,41)"
             ],
             [
              0.12549019607843137,
              "rgb(47,23,57)"
             ],
             [
              0.18823529411764706,
              "rgb(71,28,72)"
             ],
             [
              0.25098039215686274,
              "rgb(97,30,82)"
             ],
             [
              0.3137254901960784,
              "rgb(123,30,89)"
             ],
             [
              0.3764705882352941,
              "rgb(150,27,91)"
             ],
             [
              0.4392156862745098,
              "rgb(177,22,88)"
             ],
             [
              0.5019607843137255,
              "rgb(203,26,79)"
             ],
             [
              0.5647058823529412,
              "rgb(223,47,67)"
             ],
             [
              0.6274509803921569,
              "rgb(236,76,61)"
             ],
             [
              0.6901960784313725,
              "rgb(242,107,73)"
             ],
             [
              0.7529411764705882,
              "rgb(244,135,95)"
             ],
             [
              0.8156862745098039,
              "rgb(245,162,122)"
             ],
             [
              0.8784313725490196,
              "rgb(246,188,153)"
             ],
             [
              0.9411764705882353,
              "rgb(247,212,187)"
             ],
             [
              1,
              "rgb(250,234,220)"
             ]
            ],
            "type": "histogram2dcontour"
           }
          ],
          "mesh3d": [
           {
            "colorbar": {
             "outlinewidth": 0,
             "tickcolor": "rgb(36,36,36)",
             "ticklen": 8,
             "ticks": "outside",
             "tickwidth": 2
            },
            "type": "mesh3d"
           }
          ],
          "parcoords": [
           {
            "line": {
             "colorbar": {
              "outlinewidth": 0,
              "tickcolor": "rgb(36,36,36)",
              "ticklen": 8,
              "ticks": "outside",
              "tickwidth": 2
             }
            },
            "type": "parcoords"
           }
          ],
          "pie": [
           {
            "automargin": true,
            "type": "pie"
           }
          ],
          "scatter": [
           {
            "marker": {
             "colorbar": {
              "outlinewidth": 0,
              "tickcolor": "rgb(36,36,36)",
              "ticklen": 8,
              "ticks": "outside",
              "tickwidth": 2
             }
            },
            "type": "scatter"
           }
          ],
          "scatter3d": [
           {
            "line": {
             "colorbar": {
              "outlinewidth": 0,
              "tickcolor": "rgb(36,36,36)",
              "ticklen": 8,
              "ticks": "outside",
              "tickwidth": 2
             }
            },
            "marker": {
             "colorbar": {
              "outlinewidth": 0,
              "tickcolor": "rgb(36,36,36)",
              "ticklen": 8,
              "ticks": "outside",
              "tickwidth": 2
             }
            },
            "type": "scatter3d"
           }
          ],
          "scattercarpet": [
           {
            "marker": {
             "colorbar": {
              "outlinewidth": 0,
              "tickcolor": "rgb(36,36,36)",
              "ticklen": 8,
              "ticks": "outside",
              "tickwidth": 2
             }
            },
            "type": "scattercarpet"
           }
          ],
          "scattergeo": [
           {
            "marker": {
             "colorbar": {
              "outlinewidth": 0,
              "tickcolor": "rgb(36,36,36)",
              "ticklen": 8,
              "ticks": "outside",
              "tickwidth": 2
             }
            },
            "type": "scattergeo"
           }
          ],
          "scattergl": [
           {
            "marker": {
             "colorbar": {
              "outlinewidth": 0,
              "tickcolor": "rgb(36,36,36)",
              "ticklen": 8,
              "ticks": "outside",
              "tickwidth": 2
             }
            },
            "type": "scattergl"
           }
          ],
          "scattermapbox": [
           {
            "marker": {
             "colorbar": {
              "outlinewidth": 0,
              "tickcolor": "rgb(36,36,36)",
              "ticklen": 8,
              "ticks": "outside",
              "tickwidth": 2
             }
            },
            "type": "scattermapbox"
           }
          ],
          "scatterpolar": [
           {
            "marker": {
             "colorbar": {
              "outlinewidth": 0,
              "tickcolor": "rgb(36,36,36)",
              "ticklen": 8,
              "ticks": "outside",
              "tickwidth": 2
             }
            },
            "type": "scatterpolar"
           }
          ],
          "scatterpolargl": [
           {
            "marker": {
             "colorbar": {
              "outlinewidth": 0,
              "tickcolor": "rgb(36,36,36)",
              "ticklen": 8,
              "ticks": "outside",
              "tickwidth": 2
             }
            },
            "type": "scatterpolargl"
           }
          ],
          "scatterternary": [
           {
            "marker": {
             "colorbar": {
              "outlinewidth": 0,
              "tickcolor": "rgb(36,36,36)",
              "ticklen": 8,
              "ticks": "outside",
              "tickwidth": 2
             }
            },
            "type": "scatterternary"
           }
          ],
          "surface": [
           {
            "colorbar": {
             "outlinewidth": 0,
             "tickcolor": "rgb(36,36,36)",
             "ticklen": 8,
             "ticks": "outside",
             "tickwidth": 2
            },
            "colorscale": [
             [
              0,
              "rgb(2,4,25)"
             ],
             [
              0.06274509803921569,
              "rgb(24,15,41)"
             ],
             [
              0.12549019607843137,
              "rgb(47,23,57)"
             ],
             [
              0.18823529411764706,
              "rgb(71,28,72)"
             ],
             [
              0.25098039215686274,
              "rgb(97,30,82)"
             ],
             [
              0.3137254901960784,
              "rgb(123,30,89)"
             ],
             [
              0.3764705882352941,
              "rgb(150,27,91)"
             ],
             [
              0.4392156862745098,
              "rgb(177,22,88)"
             ],
             [
              0.5019607843137255,
              "rgb(203,26,79)"
             ],
             [
              0.5647058823529412,
              "rgb(223,47,67)"
             ],
             [
              0.6274509803921569,
              "rgb(236,76,61)"
             ],
             [
              0.6901960784313725,
              "rgb(242,107,73)"
             ],
             [
              0.7529411764705882,
              "rgb(244,135,95)"
             ],
             [
              0.8156862745098039,
              "rgb(245,162,122)"
             ],
             [
              0.8784313725490196,
              "rgb(246,188,153)"
             ],
             [
              0.9411764705882353,
              "rgb(247,212,187)"
             ],
             [
              1,
              "rgb(250,234,220)"
             ]
            ],
            "type": "surface"
           }
          ],
          "table": [
           {
            "cells": {
             "fill": {
              "color": "rgb(231,231,240)"
             },
             "line": {
              "color": "white"
             }
            },
            "header": {
             "fill": {
              "color": "rgb(183,183,191)"
             },
             "line": {
              "color": "white"
             }
            },
            "type": "table"
           }
          ]
         },
         "layout": {
          "annotationdefaults": {
           "arrowcolor": "rgb(67,103,167)"
          },
          "autotypenumbers": "strict",
          "coloraxis": {
           "colorbar": {
            "outlinewidth": 0,
            "tickcolor": "rgb(36,36,36)",
            "ticklen": 8,
            "ticks": "outside",
            "tickwidth": 2
           }
          },
          "colorscale": {
           "sequential": [
            [
             0,
             "rgb(2,4,25)"
            ],
            [
             0.06274509803921569,
             "rgb(24,15,41)"
            ],
            [
             0.12549019607843137,
             "rgb(47,23,57)"
            ],
            [
             0.18823529411764706,
             "rgb(71,28,72)"
            ],
            [
             0.25098039215686274,
             "rgb(97,30,82)"
            ],
            [
             0.3137254901960784,
             "rgb(123,30,89)"
            ],
            [
             0.3764705882352941,
             "rgb(150,27,91)"
            ],
            [
             0.4392156862745098,
             "rgb(177,22,88)"
            ],
            [
             0.5019607843137255,
             "rgb(203,26,79)"
            ],
            [
             0.5647058823529412,
             "rgb(223,47,67)"
            ],
            [
             0.6274509803921569,
             "rgb(236,76,61)"
            ],
            [
             0.6901960784313725,
             "rgb(242,107,73)"
            ],
            [
             0.7529411764705882,
             "rgb(244,135,95)"
            ],
            [
             0.8156862745098039,
             "rgb(245,162,122)"
            ],
            [
             0.8784313725490196,
             "rgb(246,188,153)"
            ],
            [
             0.9411764705882353,
             "rgb(247,212,187)"
            ],
            [
             1,
             "rgb(250,234,220)"
            ]
           ],
           "sequentialminus": [
            [
             0,
             "rgb(2,4,25)"
            ],
            [
             0.06274509803921569,
             "rgb(24,15,41)"
            ],
            [
             0.12549019607843137,
             "rgb(47,23,57)"
            ],
            [
             0.18823529411764706,
             "rgb(71,28,72)"
            ],
            [
             0.25098039215686274,
             "rgb(97,30,82)"
            ],
            [
             0.3137254901960784,
             "rgb(123,30,89)"
            ],
            [
             0.3764705882352941,
             "rgb(150,27,91)"
            ],
            [
             0.4392156862745098,
             "rgb(177,22,88)"
            ],
            [
             0.5019607843137255,
             "rgb(203,26,79)"
            ],
            [
             0.5647058823529412,
             "rgb(223,47,67)"
            ],
            [
             0.6274509803921569,
             "rgb(236,76,61)"
            ],
            [
             0.6901960784313725,
             "rgb(242,107,73)"
            ],
            [
             0.7529411764705882,
             "rgb(244,135,95)"
            ],
            [
             0.8156862745098039,
             "rgb(245,162,122)"
            ],
            [
             0.8784313725490196,
             "rgb(246,188,153)"
            ],
            [
             0.9411764705882353,
             "rgb(247,212,187)"
            ],
            [
             1,
             "rgb(250,234,220)"
            ]
           ]
          },
          "colorway": [
           "rgb(76,114,176)",
           "rgb(221,132,82)",
           "rgb(85,168,104)",
           "rgb(196,78,82)",
           "rgb(129,114,179)",
           "rgb(147,120,96)",
           "rgb(218,139,195)",
           "rgb(140,140,140)",
           "rgb(204,185,116)",
           "rgb(100,181,205)"
          ],
          "font": {
           "color": "rgb(36,36,36)"
          },
          "geo": {
           "bgcolor": "white",
           "lakecolor": "white",
           "landcolor": "rgb(234,234,242)",
           "showlakes": true,
           "showland": true,
           "subunitcolor": "white"
          },
          "hoverlabel": {
           "align": "left"
          },
          "hovermode": "closest",
          "paper_bgcolor": "white",
          "plot_bgcolor": "rgb(234,234,242)",
          "polar": {
           "angularaxis": {
            "gridcolor": "white",
            "linecolor": "white",
            "showgrid": true,
            "ticks": ""
           },
           "bgcolor": "rgb(234,234,242)",
           "radialaxis": {
            "gridcolor": "white",
            "linecolor": "white",
            "showgrid": true,
            "ticks": ""
           }
          },
          "scene": {
           "xaxis": {
            "backgroundcolor": "rgb(234,234,242)",
            "gridcolor": "white",
            "gridwidth": 2,
            "linecolor": "white",
            "showbackground": true,
            "showgrid": true,
            "ticks": "",
            "zerolinecolor": "white"
           },
           "yaxis": {
            "backgroundcolor": "rgb(234,234,242)",
            "gridcolor": "white",
            "gridwidth": 2,
            "linecolor": "white",
            "showbackground": true,
            "showgrid": true,
            "ticks": "",
            "zerolinecolor": "white"
           },
           "zaxis": {
            "backgroundcolor": "rgb(234,234,242)",
            "gridcolor": "white",
            "gridwidth": 2,
            "linecolor": "white",
            "showbackground": true,
            "showgrid": true,
            "ticks": "",
            "zerolinecolor": "white"
           }
          },
          "shapedefaults": {
           "fillcolor": "rgb(67,103,167)",
           "line": {
            "width": 0
           },
           "opacity": 0.5
          },
          "ternary": {
           "aaxis": {
            "gridcolor": "white",
            "linecolor": "white",
            "showgrid": true,
            "ticks": ""
           },
           "baxis": {
            "gridcolor": "white",
            "linecolor": "white",
            "showgrid": true,
            "ticks": ""
           },
           "bgcolor": "rgb(234,234,242)",
           "caxis": {
            "gridcolor": "white",
            "linecolor": "white",
            "showgrid": true,
            "ticks": ""
           }
          },
          "xaxis": {
           "automargin": true,
           "gridcolor": "white",
           "linecolor": "white",
           "showgrid": true,
           "ticks": "",
           "title": {
            "standoff": 15
           },
           "zerolinecolor": "white"
          },
          "yaxis": {
           "automargin": true,
           "gridcolor": "white",
           "linecolor": "white",
           "showgrid": true,
           "ticks": "",
           "title": {
            "standoff": 15
           },
           "zerolinecolor": "white"
          }
         }
        },
        "title": {
         "text": "F vs 1-point Corr"
        },
        "xaxis": {
         "title": {
          "text": "1-point Corr"
         }
        },
        "yaxis": {
         "title": {
          "text": "F"
         }
        }
       }
      },
      "text/html": [
       "<div>                            <div id=\"ff460ba8-4aa9-48e1-a4fa-43d3a3df294f\" class=\"plotly-graph-div\" style=\"height:525px; width:100%;\"></div>            <script type=\"text/javascript\">                require([\"plotly\"], function(Plotly) {                    window.PLOTLYENV=window.PLOTLYENV || {};                                    if (document.getElementById(\"ff460ba8-4aa9-48e1-a4fa-43d3a3df294f\")) {                    Plotly.newPlot(                        \"ff460ba8-4aa9-48e1-a4fa-43d3a3df294f\",                        [{\"mode\":\"markers+lines\",\"name\":\"T = 0.0\",\"type\":\"scatter\",\"x\":[-0.9999999999999998,-0.7499999999999998,-0.4999999999999999,-0.25,0.0,0.25,0.4999999999999998,0.7499999999999998,0.9999999999999998],\"y\":[0.3999999868174439,0.2000000000122784,3.799085939880262e-10,-0.19999999375567407,0.02501300375277299,-0.19997202612319312,5.820925406999806e-08,0.2000000000936184,0.3999999903391757]},{\"mode\":\"markers+lines\",\"name\":\"T = 1111.111111111111\",\"type\":\"scatter\",\"x\":[-0.9999999999999998,-0.7499999999999998,-0.4999999999999999,-0.25,0.0,0.25,0.4999999999999998,0.7499999999999998,0.9999999999999998],\"y\":[0.39999994279897616,0.06521690347522557,-0.15457320269168054,-0.34611260193909416,-0.20041890997374873,-0.3818550078885338,-0.18841956849556604,0.0610481520198278,0.3999999416409833]},{\"mode\":\"markers+lines\",\"name\":\"T = 2222.222222222222\",\"type\":\"scatter\",\"x\":[-0.9999999999999998,-0.7499999999999998,-0.4999999999999999,-0.25,0.0,0.25,0.4999999999999998,0.7499999999999998,0.9999999999999998],\"y\":[0.39999990781555933,-0.07091133732523192,-0.37263862266208,-0.5584934533088467,-0.48374533103314266,-0.567460652572347,-0.3375856793034091,-0.07086480442278661,0.3999998689817663]},{\"mode\":\"markers+lines\",\"name\":\"T = 3333.333333333333\",\"type\":\"scatter\",\"x\":[-0.9999999999999998,-0.7499999999999998,-0.4999999999999999,-0.25,0.0,0.25,0.4999999999999998,0.7499999999999998,0.9999999999999998],\"y\":[0.39999984428300356,-0.20796517376008167,-0.5741785901161471,-0.7737506241808131,-0.7156448264512651,-0.7539774638661236,-0.5087355725372334,-0.20899716716584585,0.39999984120490856]},{\"mode\":\"markers+lines\",\"name\":\"T = 4444.444444444444\",\"type\":\"scatter\",\"x\":[-0.9999999999999998,-0.7499999999999998,-0.4999999999999999,-0.25,0.0,0.25,0.4999999999999998,0.7499999999999998,0.9999999999999998],\"y\":[0.3999997228326355,-0.34817863706259455,-0.7572346068806897,-0.9774191348778227,-0.8893021526150373,-0.9849004650002627,-0.7788655099001035,-0.34703911878203964,0.3999997011442265]},{\"mode\":\"markers+lines\",\"name\":\"T = 5555.555555555556\",\"type\":\"scatter\",\"x\":[-0.9999999999999998,-0.7499999999999998,-0.4999999999999999,-0.25,0.0,0.25,0.4999999999999998,0.7499999999999998,0.9999999999999998],\"y\":[0.39999969018383186,-0.4898109406779396,-0.934198530829297,-1.2164101442641075,-1.2900979114141002,-1.2440268969526715,-0.9685990240591906,-0.48703173520449616,0.3999997210635298]},{\"mode\":\"markers+lines\",\"name\":\"T = 6666.666666666666\",\"type\":\"scatter\",\"x\":[-0.9999999999999998,-0.7499999999999998,-0.4999999999999999,-0.25,0.0,0.25,0.4999999999999998,0.7499999999999998,0.9999999999999998],\"y\":[0.39999967372683587,-0.6149866082157416,-1.1778674671032807,-1.4162366107978865,-1.4103987124295383,-1.3945189975242944,-1.160224133875638,-0.6403024397175959,0.399999752798454]},{\"mode\":\"markers+lines\",\"name\":\"T = 7777.777777777777\",\"type\":\"scatter\",\"x\":[-0.9999999999999998,-0.7499999999999998,-0.4999999999999999,-0.25,0.0,0.25,0.4999999999999998,0.7499999999999998,0.9999999999999998],\"y\":[0.39999966448869345,-0.7767493318466011,-1.3736273562201722,-1.6442782709668466,-1.780723027694156,-1.7109627949636355,-1.3659638435611186,-0.7668905913844075,0.3999994994876184]},{\"mode\":\"markers+lines\",\"name\":\"T = 8888.888888888889\",\"type\":\"scatter\",\"x\":[-0.9999999999999998,-0.7499999999999998,-0.4999999999999999,-0.25,0.0,0.25,0.4999999999999998,0.7499999999999998,0.9999999999999998],\"y\":[0.39999979674904773,-0.9089792052898797,-1.6047148328677572,-1.9705764625303908,-1.8129205536753727,-1.8220344945159819,-1.5471198242992286,-0.9216649206103196,0.39999951893327834]},{\"mode\":\"markers+lines\",\"name\":\"T = 10000.0\",\"type\":\"scatter\",\"x\":[-0.9999999999999998,-0.7499999999999998,-0.4999999999999999,-0.25,0.0,0.25,0.4999999999999998,0.7499999999999998,0.9999999999999998],\"y\":[0.3999995452477153,-1.0525515296576247,-1.6827397120206145,-2.163412158592329,-2.278056269534418,-2.1931190148434405,-1.7262647042878765,-1.0625552334554857,0.3999996642797024]}],                        {\"legend\":{\"title\":{\"text\":\"Temperature\"}},\"template\":{\"data\":{\"bar\":[{\"error_x\":{\"color\":\"rgb(36,36,36)\"},\"error_y\":{\"color\":\"rgb(36,36,36)\"},\"marker\":{\"line\":{\"color\":\"rgb(234,234,242)\",\"width\":0.5},\"pattern\":{\"fillmode\":\"overlay\",\"size\":10,\"solidity\":0.2}},\"type\":\"bar\"}],\"barpolar\":[{\"marker\":{\"line\":{\"color\":\"rgb(234,234,242)\",\"width\":0.5},\"pattern\":{\"fillmode\":\"overlay\",\"size\":10,\"solidity\":0.2}},\"type\":\"barpolar\"}],\"carpet\":[{\"aaxis\":{\"endlinecolor\":\"rgb(36,36,36)\",\"gridcolor\":\"white\",\"linecolor\":\"white\",\"minorgridcolor\":\"white\",\"startlinecolor\":\"rgb(36,36,36)\"},\"baxis\":{\"endlinecolor\":\"rgb(36,36,36)\",\"gridcolor\":\"white\",\"linecolor\":\"white\",\"minorgridcolor\":\"white\",\"startlinecolor\":\"rgb(36,36,36)\"},\"type\":\"carpet\"}],\"choropleth\":[{\"colorbar\":{\"outlinewidth\":0,\"tickcolor\":\"rgb(36,36,36)\",\"ticklen\":8,\"ticks\":\"outside\",\"tickwidth\":2},\"type\":\"choropleth\"}],\"contour\":[{\"colorbar\":{\"outlinewidth\":0,\"tickcolor\":\"rgb(36,36,36)\",\"ticklen\":8,\"ticks\":\"outside\",\"tickwidth\":2},\"colorscale\":[[0.0,\"rgb(2,4,25)\"],[0.06274509803921569,\"rgb(24,15,41)\"],[0.12549019607843137,\"rgb(47,23,57)\"],[0.18823529411764706,\"rgb(71,28,72)\"],[0.25098039215686274,\"rgb(97,30,82)\"],[0.3137254901960784,\"rgb(123,30,89)\"],[0.3764705882352941,\"rgb(150,27,91)\"],[0.4392156862745098,\"rgb(177,22,88)\"],[0.5019607843137255,\"rgb(203,26,79)\"],[0.5647058823529412,\"rgb(223,47,67)\"],[0.6274509803921569,\"rgb(236,76,61)\"],[0.6901960784313725,\"rgb(242,107,73)\"],[0.7529411764705882,\"rgb(244,135,95)\"],[0.8156862745098039,\"rgb(245,162,122)\"],[0.8784313725490196,\"rgb(246,188,153)\"],[0.9411764705882353,\"rgb(247,212,187)\"],[1.0,\"rgb(250,234,220)\"]],\"type\":\"contour\"}],\"contourcarpet\":[{\"colorbar\":{\"outlinewidth\":0,\"tickcolor\":\"rgb(36,36,36)\",\"ticklen\":8,\"ticks\":\"outside\",\"tickwidth\":2},\"type\":\"contourcarpet\"}],\"heatmap\":[{\"colorbar\":{\"outlinewidth\":0,\"tickcolor\":\"rgb(36,36,36)\",\"ticklen\":8,\"ticks\":\"outside\",\"tickwidth\":2},\"colorscale\":[[0.0,\"rgb(2,4,25)\"],[0.06274509803921569,\"rgb(24,15,41)\"],[0.12549019607843137,\"rgb(47,23,57)\"],[0.18823529411764706,\"rgb(71,28,72)\"],[0.25098039215686274,\"rgb(97,30,82)\"],[0.3137254901960784,\"rgb(123,30,89)\"],[0.3764705882352941,\"rgb(150,27,91)\"],[0.4392156862745098,\"rgb(177,22,88)\"],[0.5019607843137255,\"rgb(203,26,79)\"],[0.5647058823529412,\"rgb(223,47,67)\"],[0.6274509803921569,\"rgb(236,76,61)\"],[0.6901960784313725,\"rgb(242,107,73)\"],[0.7529411764705882,\"rgb(244,135,95)\"],[0.8156862745098039,\"rgb(245,162,122)\"],[0.8784313725490196,\"rgb(246,188,153)\"],[0.9411764705882353,\"rgb(247,212,187)\"],[1.0,\"rgb(250,234,220)\"]],\"type\":\"heatmap\"}],\"heatmapgl\":[{\"colorbar\":{\"outlinewidth\":0,\"tickcolor\":\"rgb(36,36,36)\",\"ticklen\":8,\"ticks\":\"outside\",\"tickwidth\":2},\"colorscale\":[[0.0,\"rgb(2,4,25)\"],[0.06274509803921569,\"rgb(24,15,41)\"],[0.12549019607843137,\"rgb(47,23,57)\"],[0.18823529411764706,\"rgb(71,28,72)\"],[0.25098039215686274,\"rgb(97,30,82)\"],[0.3137254901960784,\"rgb(123,30,89)\"],[0.3764705882352941,\"rgb(150,27,91)\"],[0.4392156862745098,\"rgb(177,22,88)\"],[0.5019607843137255,\"rgb(203,26,79)\"],[0.5647058823529412,\"rgb(223,47,67)\"],[0.6274509803921569,\"rgb(236,76,61)\"],[0.6901960784313725,\"rgb(242,107,73)\"],[0.7529411764705882,\"rgb(244,135,95)\"],[0.8156862745098039,\"rgb(245,162,122)\"],[0.8784313725490196,\"rgb(246,188,153)\"],[0.9411764705882353,\"rgb(247,212,187)\"],[1.0,\"rgb(250,234,220)\"]],\"type\":\"heatmapgl\"}],\"histogram\":[{\"marker\":{\"pattern\":{\"fillmode\":\"overlay\",\"size\":10,\"solidity\":0.2}},\"type\":\"histogram\"}],\"histogram2d\":[{\"colorbar\":{\"outlinewidth\":0,\"tickcolor\":\"rgb(36,36,36)\",\"ticklen\":8,\"ticks\":\"outside\",\"tickwidth\":2},\"colorscale\":[[0.0,\"rgb(2,4,25)\"],[0.06274509803921569,\"rgb(24,15,41)\"],[0.12549019607843137,\"rgb(47,23,57)\"],[0.18823529411764706,\"rgb(71,28,72)\"],[0.25098039215686274,\"rgb(97,30,82)\"],[0.3137254901960784,\"rgb(123,30,89)\"],[0.3764705882352941,\"rgb(150,27,91)\"],[0.4392156862745098,\"rgb(177,22,88)\"],[0.5019607843137255,\"rgb(203,26,79)\"],[0.5647058823529412,\"rgb(223,47,67)\"],[0.6274509803921569,\"rgb(236,76,61)\"],[0.6901960784313725,\"rgb(242,107,73)\"],[0.7529411764705882,\"rgb(244,135,95)\"],[0.8156862745098039,\"rgb(245,162,122)\"],[0.8784313725490196,\"rgb(246,188,153)\"],[0.9411764705882353,\"rgb(247,212,187)\"],[1.0,\"rgb(250,234,220)\"]],\"type\":\"histogram2d\"}],\"histogram2dcontour\":[{\"colorbar\":{\"outlinewidth\":0,\"tickcolor\":\"rgb(36,36,36)\",\"ticklen\":8,\"ticks\":\"outside\",\"tickwidth\":2},\"colorscale\":[[0.0,\"rgb(2,4,25)\"],[0.06274509803921569,\"rgb(24,15,41)\"],[0.12549019607843137,\"rgb(47,23,57)\"],[0.18823529411764706,\"rgb(71,28,72)\"],[0.25098039215686274,\"rgb(97,30,82)\"],[0.3137254901960784,\"rgb(123,30,89)\"],[0.3764705882352941,\"rgb(150,27,91)\"],[0.4392156862745098,\"rgb(177,22,88)\"],[0.5019607843137255,\"rgb(203,26,79)\"],[0.5647058823529412,\"rgb(223,47,67)\"],[0.6274509803921569,\"rgb(236,76,61)\"],[0.6901960784313725,\"rgb(242,107,73)\"],[0.7529411764705882,\"rgb(244,135,95)\"],[0.8156862745098039,\"rgb(245,162,122)\"],[0.8784313725490196,\"rgb(246,188,153)\"],[0.9411764705882353,\"rgb(247,212,187)\"],[1.0,\"rgb(250,234,220)\"]],\"type\":\"histogram2dcontour\"}],\"mesh3d\":[{\"colorbar\":{\"outlinewidth\":0,\"tickcolor\":\"rgb(36,36,36)\",\"ticklen\":8,\"ticks\":\"outside\",\"tickwidth\":2},\"type\":\"mesh3d\"}],\"parcoords\":[{\"line\":{\"colorbar\":{\"outlinewidth\":0,\"tickcolor\":\"rgb(36,36,36)\",\"ticklen\":8,\"ticks\":\"outside\",\"tickwidth\":2}},\"type\":\"parcoords\"}],\"pie\":[{\"automargin\":true,\"type\":\"pie\"}],\"scatter\":[{\"marker\":{\"colorbar\":{\"outlinewidth\":0,\"tickcolor\":\"rgb(36,36,36)\",\"ticklen\":8,\"ticks\":\"outside\",\"tickwidth\":2}},\"type\":\"scatter\"}],\"scatter3d\":[{\"line\":{\"colorbar\":{\"outlinewidth\":0,\"tickcolor\":\"rgb(36,36,36)\",\"ticklen\":8,\"ticks\":\"outside\",\"tickwidth\":2}},\"marker\":{\"colorbar\":{\"outlinewidth\":0,\"tickcolor\":\"rgb(36,36,36)\",\"ticklen\":8,\"ticks\":\"outside\",\"tickwidth\":2}},\"type\":\"scatter3d\"}],\"scattercarpet\":[{\"marker\":{\"colorbar\":{\"outlinewidth\":0,\"tickcolor\":\"rgb(36,36,36)\",\"ticklen\":8,\"ticks\":\"outside\",\"tickwidth\":2}},\"type\":\"scattercarpet\"}],\"scattergeo\":[{\"marker\":{\"colorbar\":{\"outlinewidth\":0,\"tickcolor\":\"rgb(36,36,36)\",\"ticklen\":8,\"ticks\":\"outside\",\"tickwidth\":2}},\"type\":\"scattergeo\"}],\"scattergl\":[{\"marker\":{\"colorbar\":{\"outlinewidth\":0,\"tickcolor\":\"rgb(36,36,36)\",\"ticklen\":8,\"ticks\":\"outside\",\"tickwidth\":2}},\"type\":\"scattergl\"}],\"scattermapbox\":[{\"marker\":{\"colorbar\":{\"outlinewidth\":0,\"tickcolor\":\"rgb(36,36,36)\",\"ticklen\":8,\"ticks\":\"outside\",\"tickwidth\":2}},\"type\":\"scattermapbox\"}],\"scatterpolar\":[{\"marker\":{\"colorbar\":{\"outlinewidth\":0,\"tickcolor\":\"rgb(36,36,36)\",\"ticklen\":8,\"ticks\":\"outside\",\"tickwidth\":2}},\"type\":\"scatterpolar\"}],\"scatterpolargl\":[{\"marker\":{\"colorbar\":{\"outlinewidth\":0,\"tickcolor\":\"rgb(36,36,36)\",\"ticklen\":8,\"ticks\":\"outside\",\"tickwidth\":2}},\"type\":\"scatterpolargl\"}],\"scatterternary\":[{\"marker\":{\"colorbar\":{\"outlinewidth\":0,\"tickcolor\":\"rgb(36,36,36)\",\"ticklen\":8,\"ticks\":\"outside\",\"tickwidth\":2}},\"type\":\"scatterternary\"}],\"surface\":[{\"colorbar\":{\"outlinewidth\":0,\"tickcolor\":\"rgb(36,36,36)\",\"ticklen\":8,\"ticks\":\"outside\",\"tickwidth\":2},\"colorscale\":[[0.0,\"rgb(2,4,25)\"],[0.06274509803921569,\"rgb(24,15,41)\"],[0.12549019607843137,\"rgb(47,23,57)\"],[0.18823529411764706,\"rgb(71,28,72)\"],[0.25098039215686274,\"rgb(97,30,82)\"],[0.3137254901960784,\"rgb(123,30,89)\"],[0.3764705882352941,\"rgb(150,27,91)\"],[0.4392156862745098,\"rgb(177,22,88)\"],[0.5019607843137255,\"rgb(203,26,79)\"],[0.5647058823529412,\"rgb(223,47,67)\"],[0.6274509803921569,\"rgb(236,76,61)\"],[0.6901960784313725,\"rgb(242,107,73)\"],[0.7529411764705882,\"rgb(244,135,95)\"],[0.8156862745098039,\"rgb(245,162,122)\"],[0.8784313725490196,\"rgb(246,188,153)\"],[0.9411764705882353,\"rgb(247,212,187)\"],[1.0,\"rgb(250,234,220)\"]],\"type\":\"surface\"}],\"table\":[{\"cells\":{\"fill\":{\"color\":\"rgb(231,231,240)\"},\"line\":{\"color\":\"white\"}},\"header\":{\"fill\":{\"color\":\"rgb(183,183,191)\"},\"line\":{\"color\":\"white\"}},\"type\":\"table\"}]},\"layout\":{\"annotationdefaults\":{\"arrowcolor\":\"rgb(67,103,167)\"},\"autotypenumbers\":\"strict\",\"coloraxis\":{\"colorbar\":{\"outlinewidth\":0,\"tickcolor\":\"rgb(36,36,36)\",\"ticklen\":8,\"ticks\":\"outside\",\"tickwidth\":2}},\"colorscale\":{\"sequential\":[[0.0,\"rgb(2,4,25)\"],[0.06274509803921569,\"rgb(24,15,41)\"],[0.12549019607843137,\"rgb(47,23,57)\"],[0.18823529411764706,\"rgb(71,28,72)\"],[0.25098039215686274,\"rgb(97,30,82)\"],[0.3137254901960784,\"rgb(123,30,89)\"],[0.3764705882352941,\"rgb(150,27,91)\"],[0.4392156862745098,\"rgb(177,22,88)\"],[0.5019607843137255,\"rgb(203,26,79)\"],[0.5647058823529412,\"rgb(223,47,67)\"],[0.6274509803921569,\"rgb(236,76,61)\"],[0.6901960784313725,\"rgb(242,107,73)\"],[0.7529411764705882,\"rgb(244,135,95)\"],[0.8156862745098039,\"rgb(245,162,122)\"],[0.8784313725490196,\"rgb(246,188,153)\"],[0.9411764705882353,\"rgb(247,212,187)\"],[1.0,\"rgb(250,234,220)\"]],\"sequentialminus\":[[0.0,\"rgb(2,4,25)\"],[0.06274509803921569,\"rgb(24,15,41)\"],[0.12549019607843137,\"rgb(47,23,57)\"],[0.18823529411764706,\"rgb(71,28,72)\"],[0.25098039215686274,\"rgb(97,30,82)\"],[0.3137254901960784,\"rgb(123,30,89)\"],[0.3764705882352941,\"rgb(150,27,91)\"],[0.4392156862745098,\"rgb(177,22,88)\"],[0.5019607843137255,\"rgb(203,26,79)\"],[0.5647058823529412,\"rgb(223,47,67)\"],[0.6274509803921569,\"rgb(236,76,61)\"],[0.6901960784313725,\"rgb(242,107,73)\"],[0.7529411764705882,\"rgb(244,135,95)\"],[0.8156862745098039,\"rgb(245,162,122)\"],[0.8784313725490196,\"rgb(246,188,153)\"],[0.9411764705882353,\"rgb(247,212,187)\"],[1.0,\"rgb(250,234,220)\"]]},\"colorway\":[\"rgb(76,114,176)\",\"rgb(221,132,82)\",\"rgb(85,168,104)\",\"rgb(196,78,82)\",\"rgb(129,114,179)\",\"rgb(147,120,96)\",\"rgb(218,139,195)\",\"rgb(140,140,140)\",\"rgb(204,185,116)\",\"rgb(100,181,205)\"],\"font\":{\"color\":\"rgb(36,36,36)\"},\"geo\":{\"bgcolor\":\"white\",\"lakecolor\":\"white\",\"landcolor\":\"rgb(234,234,242)\",\"showlakes\":true,\"showland\":true,\"subunitcolor\":\"white\"},\"hoverlabel\":{\"align\":\"left\"},\"hovermode\":\"closest\",\"paper_bgcolor\":\"white\",\"plot_bgcolor\":\"rgb(234,234,242)\",\"polar\":{\"angularaxis\":{\"gridcolor\":\"white\",\"linecolor\":\"white\",\"showgrid\":true,\"ticks\":\"\"},\"bgcolor\":\"rgb(234,234,242)\",\"radialaxis\":{\"gridcolor\":\"white\",\"linecolor\":\"white\",\"showgrid\":true,\"ticks\":\"\"}},\"scene\":{\"xaxis\":{\"backgroundcolor\":\"rgb(234,234,242)\",\"gridcolor\":\"white\",\"gridwidth\":2,\"linecolor\":\"white\",\"showbackground\":true,\"showgrid\":true,\"ticks\":\"\",\"zerolinecolor\":\"white\"},\"yaxis\":{\"backgroundcolor\":\"rgb(234,234,242)\",\"gridcolor\":\"white\",\"gridwidth\":2,\"linecolor\":\"white\",\"showbackground\":true,\"showgrid\":true,\"ticks\":\"\",\"zerolinecolor\":\"white\"},\"zaxis\":{\"backgroundcolor\":\"rgb(234,234,242)\",\"gridcolor\":\"white\",\"gridwidth\":2,\"linecolor\":\"white\",\"showbackground\":true,\"showgrid\":true,\"ticks\":\"\",\"zerolinecolor\":\"white\"}},\"shapedefaults\":{\"fillcolor\":\"rgb(67,103,167)\",\"line\":{\"width\":0},\"opacity\":0.5},\"ternary\":{\"aaxis\":{\"gridcolor\":\"white\",\"linecolor\":\"white\",\"showgrid\":true,\"ticks\":\"\"},\"baxis\":{\"gridcolor\":\"white\",\"linecolor\":\"white\",\"showgrid\":true,\"ticks\":\"\"},\"bgcolor\":\"rgb(234,234,242)\",\"caxis\":{\"gridcolor\":\"white\",\"linecolor\":\"white\",\"showgrid\":true,\"ticks\":\"\"}},\"xaxis\":{\"automargin\":true,\"gridcolor\":\"white\",\"linecolor\":\"white\",\"showgrid\":true,\"ticks\":\"\",\"title\":{\"standoff\":15},\"zerolinecolor\":\"white\"},\"yaxis\":{\"automargin\":true,\"gridcolor\":\"white\",\"linecolor\":\"white\",\"showgrid\":true,\"ticks\":\"\",\"title\":{\"standoff\":15},\"zerolinecolor\":\"white\"}}},\"title\":{\"text\":\"F vs 1-point Corr\"},\"xaxis\":{\"title\":{\"text\":\"1-point Corr\"}},\"yaxis\":{\"title\":{\"text\":\"F\"}}},                        {\"responsive\": true}                    ).then(function(){\n",
       "                            \n",
       "var gd = document.getElementById('ff460ba8-4aa9-48e1-a4fa-43d3a3df294f');\n",
       "var x = new MutationObserver(function (mutations, observer) {{\n",
       "        var display = window.getComputedStyle(gd).display;\n",
       "        if (!display || display === 'none') {{\n",
       "            console.log([gd, 'removed!']);\n",
       "            Plotly.purge(gd);\n",
       "            observer.disconnect();\n",
       "        }}\n",
       "}});\n",
       "\n",
       "// Listen for the removal of the full notebook cells\n",
       "var notebookContainer = gd.closest('#notebook-container');\n",
       "if (notebookContainer) {{\n",
       "    x.observe(notebookContainer, {childList: true});\n",
       "}}\n",
       "\n",
       "// Listen for the clearing of the current output cell\n",
       "var outputEl = gd.closest('.output');\n",
       "if (outputEl) {{\n",
       "    x.observe(outputEl, {childList: true});\n",
       "}}\n",
       "\n",
       "                        })                };                });            </script>        </div>"
      ]
     },
     "metadata": {},
     "output_type": "display_data"
    }
   ],
   "source": [
    "fig = go.Figure()\n",
    "\n",
    "for T in results_basinhopping['T'].unique():\n",
    "    fig.add_trace(go.Scatter(x = results_basinhopping[results_basinhopping['T'] == T]['1-point_corr'],\n",
    "                             y = results_basinhopping[results_basinhopping['T'] == T]['F'],\n",
    "                             mode='markers+lines',\n",
    "                             name=f'T = {T}',\n",
    "                            )\n",
    "                 )\n",
    "\n",
    "fig.update_layout(\n",
    "    title=\"F vs 1-point Corr\",\n",
    "    xaxis_title=\"1-point Corr\",\n",
    "    yaxis_title=\"F\",\n",
    "    legend_title=\"Temperature\",\n",
    "    template='seaborn'\n",
    ")\n",
    "#fig.update_traces(texttemplate='%{text:.2s}', textposition='top center')\n",
    "fig.show()"
   ]
  },
  {
   "cell_type": "markdown",
   "metadata": {},
   "source": [
    "## Plot Pair Correlation\n",
    "\n"
   ]
  },
  {
   "cell_type": "code",
   "execution_count": 136,
   "metadata": {
    "ExecuteTime": {
     "end_time": "2021-09-12T21:20:16.590010Z",
     "start_time": "2021-09-12T21:20:16.529765Z"
    }
   },
   "outputs": [
    {
     "data": {
      "application/vnd.plotly.v1+json": {
       "config": {
        "plotlyServerURL": "https://plot.ly"
       },
       "data": [
        {
         "mode": "markers+lines",
         "type": "scatter",
         "x": [
          0,
          1111.111111111111,
          2222.222222222222,
          3333.333333333333,
          4444.444444444444,
          5555.555555555556,
          6666.666666666666,
          7777.777777777777,
          8888.888888888889,
          10000
         ],
         "y": [
          0.06253250938193247,
          0.11320701626067833,
          0.07002730788866879,
          0.1321001019094754,
          0.20485417981941798,
          -0.09748309477890711,
          0.16991959528208234,
          0.05638243431434198,
          -0.5784830199968545,
          0.13065711973713057
         ]
        }
       ],
       "layout": {
        "template": {
         "data": {
          "bar": [
           {
            "error_x": {
             "color": "rgb(36,36,36)"
            },
            "error_y": {
             "color": "rgb(36,36,36)"
            },
            "marker": {
             "line": {
              "color": "rgb(234,234,242)",
              "width": 0.5
             },
             "pattern": {
              "fillmode": "overlay",
              "size": 10,
              "solidity": 0.2
             }
            },
            "type": "bar"
           }
          ],
          "barpolar": [
           {
            "marker": {
             "line": {
              "color": "rgb(234,234,242)",
              "width": 0.5
             },
             "pattern": {
              "fillmode": "overlay",
              "size": 10,
              "solidity": 0.2
             }
            },
            "type": "barpolar"
           }
          ],
          "carpet": [
           {
            "aaxis": {
             "endlinecolor": "rgb(36,36,36)",
             "gridcolor": "white",
             "linecolor": "white",
             "minorgridcolor": "white",
             "startlinecolor": "rgb(36,36,36)"
            },
            "baxis": {
             "endlinecolor": "rgb(36,36,36)",
             "gridcolor": "white",
             "linecolor": "white",
             "minorgridcolor": "white",
             "startlinecolor": "rgb(36,36,36)"
            },
            "type": "carpet"
           }
          ],
          "choropleth": [
           {
            "colorbar": {
             "outlinewidth": 0,
             "tickcolor": "rgb(36,36,36)",
             "ticklen": 8,
             "ticks": "outside",
             "tickwidth": 2
            },
            "type": "choropleth"
           }
          ],
          "contour": [
           {
            "colorbar": {
             "outlinewidth": 0,
             "tickcolor": "rgb(36,36,36)",
             "ticklen": 8,
             "ticks": "outside",
             "tickwidth": 2
            },
            "colorscale": [
             [
              0,
              "rgb(2,4,25)"
             ],
             [
              0.06274509803921569,
              "rgb(24,15,41)"
             ],
             [
              0.12549019607843137,
              "rgb(47,23,57)"
             ],
             [
              0.18823529411764706,
              "rgb(71,28,72)"
             ],
             [
              0.25098039215686274,
              "rgb(97,30,82)"
             ],
             [
              0.3137254901960784,
              "rgb(123,30,89)"
             ],
             [
              0.3764705882352941,
              "rgb(150,27,91)"
             ],
             [
              0.4392156862745098,
              "rgb(177,22,88)"
             ],
             [
              0.5019607843137255,
              "rgb(203,26,79)"
             ],
             [
              0.5647058823529412,
              "rgb(223,47,67)"
             ],
             [
              0.6274509803921569,
              "rgb(236,76,61)"
             ],
             [
              0.6901960784313725,
              "rgb(242,107,73)"
             ],
             [
              0.7529411764705882,
              "rgb(244,135,95)"
             ],
             [
              0.8156862745098039,
              "rgb(245,162,122)"
             ],
             [
              0.8784313725490196,
              "rgb(246,188,153)"
             ],
             [
              0.9411764705882353,
              "rgb(247,212,187)"
             ],
             [
              1,
              "rgb(250,234,220)"
             ]
            ],
            "type": "contour"
           }
          ],
          "contourcarpet": [
           {
            "colorbar": {
             "outlinewidth": 0,
             "tickcolor": "rgb(36,36,36)",
             "ticklen": 8,
             "ticks": "outside",
             "tickwidth": 2
            },
            "type": "contourcarpet"
           }
          ],
          "heatmap": [
           {
            "colorbar": {
             "outlinewidth": 0,
             "tickcolor": "rgb(36,36,36)",
             "ticklen": 8,
             "ticks": "outside",
             "tickwidth": 2
            },
            "colorscale": [
             [
              0,
              "rgb(2,4,25)"
             ],
             [
              0.06274509803921569,
              "rgb(24,15,41)"
             ],
             [
              0.12549019607843137,
              "rgb(47,23,57)"
             ],
             [
              0.18823529411764706,
              "rgb(71,28,72)"
             ],
             [
              0.25098039215686274,
              "rgb(97,30,82)"
             ],
             [
              0.3137254901960784,
              "rgb(123,30,89)"
             ],
             [
              0.3764705882352941,
              "rgb(150,27,91)"
             ],
             [
              0.4392156862745098,
              "rgb(177,22,88)"
             ],
             [
              0.5019607843137255,
              "rgb(203,26,79)"
             ],
             [
              0.5647058823529412,
              "rgb(223,47,67)"
             ],
             [
              0.6274509803921569,
              "rgb(236,76,61)"
             ],
             [
              0.6901960784313725,
              "rgb(242,107,73)"
             ],
             [
              0.7529411764705882,
              "rgb(244,135,95)"
             ],
             [
              0.8156862745098039,
              "rgb(245,162,122)"
             ],
             [
              0.8784313725490196,
              "rgb(246,188,153)"
             ],
             [
              0.9411764705882353,
              "rgb(247,212,187)"
             ],
             [
              1,
              "rgb(250,234,220)"
             ]
            ],
            "type": "heatmap"
           }
          ],
          "heatmapgl": [
           {
            "colorbar": {
             "outlinewidth": 0,
             "tickcolor": "rgb(36,36,36)",
             "ticklen": 8,
             "ticks": "outside",
             "tickwidth": 2
            },
            "colorscale": [
             [
              0,
              "rgb(2,4,25)"
             ],
             [
              0.06274509803921569,
              "rgb(24,15,41)"
             ],
             [
              0.12549019607843137,
              "rgb(47,23,57)"
             ],
             [
              0.18823529411764706,
              "rgb(71,28,72)"
             ],
             [
              0.25098039215686274,
              "rgb(97,30,82)"
             ],
             [
              0.3137254901960784,
              "rgb(123,30,89)"
             ],
             [
              0.3764705882352941,
              "rgb(150,27,91)"
             ],
             [
              0.4392156862745098,
              "rgb(177,22,88)"
             ],
             [
              0.5019607843137255,
              "rgb(203,26,79)"
             ],
             [
              0.5647058823529412,
              "rgb(223,47,67)"
             ],
             [
              0.6274509803921569,
              "rgb(236,76,61)"
             ],
             [
              0.6901960784313725,
              "rgb(242,107,73)"
             ],
             [
              0.7529411764705882,
              "rgb(244,135,95)"
             ],
             [
              0.8156862745098039,
              "rgb(245,162,122)"
             ],
             [
              0.8784313725490196,
              "rgb(246,188,153)"
             ],
             [
              0.9411764705882353,
              "rgb(247,212,187)"
             ],
             [
              1,
              "rgb(250,234,220)"
             ]
            ],
            "type": "heatmapgl"
           }
          ],
          "histogram": [
           {
            "marker": {
             "pattern": {
              "fillmode": "overlay",
              "size": 10,
              "solidity": 0.2
             }
            },
            "type": "histogram"
           }
          ],
          "histogram2d": [
           {
            "colorbar": {
             "outlinewidth": 0,
             "tickcolor": "rgb(36,36,36)",
             "ticklen": 8,
             "ticks": "outside",
             "tickwidth": 2
            },
            "colorscale": [
             [
              0,
              "rgb(2,4,25)"
             ],
             [
              0.06274509803921569,
              "rgb(24,15,41)"
             ],
             [
              0.12549019607843137,
              "rgb(47,23,57)"
             ],
             [
              0.18823529411764706,
              "rgb(71,28,72)"
             ],
             [
              0.25098039215686274,
              "rgb(97,30,82)"
             ],
             [
              0.3137254901960784,
              "rgb(123,30,89)"
             ],
             [
              0.3764705882352941,
              "rgb(150,27,91)"
             ],
             [
              0.4392156862745098,
              "rgb(177,22,88)"
             ],
             [
              0.5019607843137255,
              "rgb(203,26,79)"
             ],
             [
              0.5647058823529412,
              "rgb(223,47,67)"
             ],
             [
              0.6274509803921569,
              "rgb(236,76,61)"
             ],
             [
              0.6901960784313725,
              "rgb(242,107,73)"
             ],
             [
              0.7529411764705882,
              "rgb(244,135,95)"
             ],
             [
              0.8156862745098039,
              "rgb(245,162,122)"
             ],
             [
              0.8784313725490196,
              "rgb(246,188,153)"
             ],
             [
              0.9411764705882353,
              "rgb(247,212,187)"
             ],
             [
              1,
              "rgb(250,234,220)"
             ]
            ],
            "type": "histogram2d"
           }
          ],
          "histogram2dcontour": [
           {
            "colorbar": {
             "outlinewidth": 0,
             "tickcolor": "rgb(36,36,36)",
             "ticklen": 8,
             "ticks": "outside",
             "tickwidth": 2
            },
            "colorscale": [
             [
              0,
              "rgb(2,4,25)"
             ],
             [
              0.06274509803921569,
              "rgb(24,15,41)"
             ],
             [
              0.12549019607843137,
              "rgb(47,23,57)"
             ],
             [
              0.18823529411764706,
              "rgb(71,28,72)"
             ],
             [
              0.25098039215686274,
              "rgb(97,30,82)"
             ],
             [
              0.3137254901960784,
              "rgb(123,30,89)"
             ],
             [
              0.3764705882352941,
              "rgb(150,27,91)"
             ],
             [
              0.4392156862745098,
              "rgb(177,22,88)"
             ],
             [
              0.5019607843137255,
              "rgb(203,26,79)"
             ],
             [
              0.5647058823529412,
              "rgb(223,47,67)"
             ],
             [
              0.6274509803921569,
              "rgb(236,76,61)"
             ],
             [
              0.6901960784313725,
              "rgb(242,107,73)"
             ],
             [
              0.7529411764705882,
              "rgb(244,135,95)"
             ],
             [
              0.8156862745098039,
              "rgb(245,162,122)"
             ],
             [
              0.8784313725490196,
              "rgb(246,188,153)"
             ],
             [
              0.9411764705882353,
              "rgb(247,212,187)"
             ],
             [
              1,
              "rgb(250,234,220)"
             ]
            ],
            "type": "histogram2dcontour"
           }
          ],
          "mesh3d": [
           {
            "colorbar": {
             "outlinewidth": 0,
             "tickcolor": "rgb(36,36,36)",
             "ticklen": 8,
             "ticks": "outside",
             "tickwidth": 2
            },
            "type": "mesh3d"
           }
          ],
          "parcoords": [
           {
            "line": {
             "colorbar": {
              "outlinewidth": 0,
              "tickcolor": "rgb(36,36,36)",
              "ticklen": 8,
              "ticks": "outside",
              "tickwidth": 2
             }
            },
            "type": "parcoords"
           }
          ],
          "pie": [
           {
            "automargin": true,
            "type": "pie"
           }
          ],
          "scatter": [
           {
            "marker": {
             "colorbar": {
              "outlinewidth": 0,
              "tickcolor": "rgb(36,36,36)",
              "ticklen": 8,
              "ticks": "outside",
              "tickwidth": 2
             }
            },
            "type": "scatter"
           }
          ],
          "scatter3d": [
           {
            "line": {
             "colorbar": {
              "outlinewidth": 0,
              "tickcolor": "rgb(36,36,36)",
              "ticklen": 8,
              "ticks": "outside",
              "tickwidth": 2
             }
            },
            "marker": {
             "colorbar": {
              "outlinewidth": 0,
              "tickcolor": "rgb(36,36,36)",
              "ticklen": 8,
              "ticks": "outside",
              "tickwidth": 2
             }
            },
            "type": "scatter3d"
           }
          ],
          "scattercarpet": [
           {
            "marker": {
             "colorbar": {
              "outlinewidth": 0,
              "tickcolor": "rgb(36,36,36)",
              "ticklen": 8,
              "ticks": "outside",
              "tickwidth": 2
             }
            },
            "type": "scattercarpet"
           }
          ],
          "scattergeo": [
           {
            "marker": {
             "colorbar": {
              "outlinewidth": 0,
              "tickcolor": "rgb(36,36,36)",
              "ticklen": 8,
              "ticks": "outside",
              "tickwidth": 2
             }
            },
            "type": "scattergeo"
           }
          ],
          "scattergl": [
           {
            "marker": {
             "colorbar": {
              "outlinewidth": 0,
              "tickcolor": "rgb(36,36,36)",
              "ticklen": 8,
              "ticks": "outside",
              "tickwidth": 2
             }
            },
            "type": "scattergl"
           }
          ],
          "scattermapbox": [
           {
            "marker": {
             "colorbar": {
              "outlinewidth": 0,
              "tickcolor": "rgb(36,36,36)",
              "ticklen": 8,
              "ticks": "outside",
              "tickwidth": 2
             }
            },
            "type": "scattermapbox"
           }
          ],
          "scatterpolar": [
           {
            "marker": {
             "colorbar": {
              "outlinewidth": 0,
              "tickcolor": "rgb(36,36,36)",
              "ticklen": 8,
              "ticks": "outside",
              "tickwidth": 2
             }
            },
            "type": "scatterpolar"
           }
          ],
          "scatterpolargl": [
           {
            "marker": {
             "colorbar": {
              "outlinewidth": 0,
              "tickcolor": "rgb(36,36,36)",
              "ticklen": 8,
              "ticks": "outside",
              "tickwidth": 2
             }
            },
            "type": "scatterpolargl"
           }
          ],
          "scatterternary": [
           {
            "marker": {
             "colorbar": {
              "outlinewidth": 0,
              "tickcolor": "rgb(36,36,36)",
              "ticklen": 8,
              "ticks": "outside",
              "tickwidth": 2
             }
            },
            "type": "scatterternary"
           }
          ],
          "surface": [
           {
            "colorbar": {
             "outlinewidth": 0,
             "tickcolor": "rgb(36,36,36)",
             "ticklen": 8,
             "ticks": "outside",
             "tickwidth": 2
            },
            "colorscale": [
             [
              0,
              "rgb(2,4,25)"
             ],
             [
              0.06274509803921569,
              "rgb(24,15,41)"
             ],
             [
              0.12549019607843137,
              "rgb(47,23,57)"
             ],
             [
              0.18823529411764706,
              "rgb(71,28,72)"
             ],
             [
              0.25098039215686274,
              "rgb(97,30,82)"
             ],
             [
              0.3137254901960784,
              "rgb(123,30,89)"
             ],
             [
              0.3764705882352941,
              "rgb(150,27,91)"
             ],
             [
              0.4392156862745098,
              "rgb(177,22,88)"
             ],
             [
              0.5019607843137255,
              "rgb(203,26,79)"
             ],
             [
              0.5647058823529412,
              "rgb(223,47,67)"
             ],
             [
              0.6274509803921569,
              "rgb(236,76,61)"
             ],
             [
              0.6901960784313725,
              "rgb(242,107,73)"
             ],
             [
              0.7529411764705882,
              "rgb(244,135,95)"
             ],
             [
              0.8156862745098039,
              "rgb(245,162,122)"
             ],
             [
              0.8784313725490196,
              "rgb(246,188,153)"
             ],
             [
              0.9411764705882353,
              "rgb(247,212,187)"
             ],
             [
              1,
              "rgb(250,234,220)"
             ]
            ],
            "type": "surface"
           }
          ],
          "table": [
           {
            "cells": {
             "fill": {
              "color": "rgb(231,231,240)"
             },
             "line": {
              "color": "white"
             }
            },
            "header": {
             "fill": {
              "color": "rgb(183,183,191)"
             },
             "line": {
              "color": "white"
             }
            },
            "type": "table"
           }
          ]
         },
         "layout": {
          "annotationdefaults": {
           "arrowcolor": "rgb(67,103,167)"
          },
          "autotypenumbers": "strict",
          "coloraxis": {
           "colorbar": {
            "outlinewidth": 0,
            "tickcolor": "rgb(36,36,36)",
            "ticklen": 8,
            "ticks": "outside",
            "tickwidth": 2
           }
          },
          "colorscale": {
           "sequential": [
            [
             0,
             "rgb(2,4,25)"
            ],
            [
             0.06274509803921569,
             "rgb(24,15,41)"
            ],
            [
             0.12549019607843137,
             "rgb(47,23,57)"
            ],
            [
             0.18823529411764706,
             "rgb(71,28,72)"
            ],
            [
             0.25098039215686274,
             "rgb(97,30,82)"
            ],
            [
             0.3137254901960784,
             "rgb(123,30,89)"
            ],
            [
             0.3764705882352941,
             "rgb(150,27,91)"
            ],
            [
             0.4392156862745098,
             "rgb(177,22,88)"
            ],
            [
             0.5019607843137255,
             "rgb(203,26,79)"
            ],
            [
             0.5647058823529412,
             "rgb(223,47,67)"
            ],
            [
             0.6274509803921569,
             "rgb(236,76,61)"
            ],
            [
             0.6901960784313725,
             "rgb(242,107,73)"
            ],
            [
             0.7529411764705882,
             "rgb(244,135,95)"
            ],
            [
             0.8156862745098039,
             "rgb(245,162,122)"
            ],
            [
             0.8784313725490196,
             "rgb(246,188,153)"
            ],
            [
             0.9411764705882353,
             "rgb(247,212,187)"
            ],
            [
             1,
             "rgb(250,234,220)"
            ]
           ],
           "sequentialminus": [
            [
             0,
             "rgb(2,4,25)"
            ],
            [
             0.06274509803921569,
             "rgb(24,15,41)"
            ],
            [
             0.12549019607843137,
             "rgb(47,23,57)"
            ],
            [
             0.18823529411764706,
             "rgb(71,28,72)"
            ],
            [
             0.25098039215686274,
             "rgb(97,30,82)"
            ],
            [
             0.3137254901960784,
             "rgb(123,30,89)"
            ],
            [
             0.3764705882352941,
             "rgb(150,27,91)"
            ],
            [
             0.4392156862745098,
             "rgb(177,22,88)"
            ],
            [
             0.5019607843137255,
             "rgb(203,26,79)"
            ],
            [
             0.5647058823529412,
             "rgb(223,47,67)"
            ],
            [
             0.6274509803921569,
             "rgb(236,76,61)"
            ],
            [
             0.6901960784313725,
             "rgb(242,107,73)"
            ],
            [
             0.7529411764705882,
             "rgb(244,135,95)"
            ],
            [
             0.8156862745098039,
             "rgb(245,162,122)"
            ],
            [
             0.8784313725490196,
             "rgb(246,188,153)"
            ],
            [
             0.9411764705882353,
             "rgb(247,212,187)"
            ],
            [
             1,
             "rgb(250,234,220)"
            ]
           ]
          },
          "colorway": [
           "rgb(76,114,176)",
           "rgb(221,132,82)",
           "rgb(85,168,104)",
           "rgb(196,78,82)",
           "rgb(129,114,179)",
           "rgb(147,120,96)",
           "rgb(218,139,195)",
           "rgb(140,140,140)",
           "rgb(204,185,116)",
           "rgb(100,181,205)"
          ],
          "font": {
           "color": "rgb(36,36,36)"
          },
          "geo": {
           "bgcolor": "white",
           "lakecolor": "white",
           "landcolor": "rgb(234,234,242)",
           "showlakes": true,
           "showland": true,
           "subunitcolor": "white"
          },
          "hoverlabel": {
           "align": "left"
          },
          "hovermode": "closest",
          "paper_bgcolor": "white",
          "plot_bgcolor": "rgb(234,234,242)",
          "polar": {
           "angularaxis": {
            "gridcolor": "white",
            "linecolor": "white",
            "showgrid": true,
            "ticks": ""
           },
           "bgcolor": "rgb(234,234,242)",
           "radialaxis": {
            "gridcolor": "white",
            "linecolor": "white",
            "showgrid": true,
            "ticks": ""
           }
          },
          "scene": {
           "xaxis": {
            "backgroundcolor": "rgb(234,234,242)",
            "gridcolor": "white",
            "gridwidth": 2,
            "linecolor": "white",
            "showbackground": true,
            "showgrid": true,
            "ticks": "",
            "zerolinecolor": "white"
           },
           "yaxis": {
            "backgroundcolor": "rgb(234,234,242)",
            "gridcolor": "white",
            "gridwidth": 2,
            "linecolor": "white",
            "showbackground": true,
            "showgrid": true,
            "ticks": "",
            "zerolinecolor": "white"
           },
           "zaxis": {
            "backgroundcolor": "rgb(234,234,242)",
            "gridcolor": "white",
            "gridwidth": 2,
            "linecolor": "white",
            "showbackground": true,
            "showgrid": true,
            "ticks": "",
            "zerolinecolor": "white"
           }
          },
          "shapedefaults": {
           "fillcolor": "rgb(67,103,167)",
           "line": {
            "width": 0
           },
           "opacity": 0.5
          },
          "ternary": {
           "aaxis": {
            "gridcolor": "white",
            "linecolor": "white",
            "showgrid": true,
            "ticks": ""
           },
           "baxis": {
            "gridcolor": "white",
            "linecolor": "white",
            "showgrid": true,
            "ticks": ""
           },
           "bgcolor": "rgb(234,234,242)",
           "caxis": {
            "gridcolor": "white",
            "linecolor": "white",
            "showgrid": true,
            "ticks": ""
           }
          },
          "xaxis": {
           "automargin": true,
           "gridcolor": "white",
           "linecolor": "white",
           "showgrid": true,
           "ticks": "",
           "title": {
            "standoff": 15
           },
           "zerolinecolor": "white"
          },
          "yaxis": {
           "automargin": true,
           "gridcolor": "white",
           "linecolor": "white",
           "showgrid": true,
           "ticks": "",
           "title": {
            "standoff": 15
           },
           "zerolinecolor": "white"
          }
         }
        },
        "title": {
         "text": "T vs 2-point Corr"
        },
        "xaxis": {
         "title": {
          "text": "T"
         }
        },
        "yaxis": {
         "title": {
          "text": "2-point Corr"
         }
        }
       }
      },
      "text/html": [
       "<div>                            <div id=\"38683401-a1fa-40ec-9029-e4738a15659c\" class=\"plotly-graph-div\" style=\"height:525px; width:100%;\"></div>            <script type=\"text/javascript\">                require([\"plotly\"], function(Plotly) {                    window.PLOTLYENV=window.PLOTLYENV || {};                                    if (document.getElementById(\"38683401-a1fa-40ec-9029-e4738a15659c\")) {                    Plotly.newPlot(                        \"38683401-a1fa-40ec-9029-e4738a15659c\",                        [{\"mode\":\"markers+lines\",\"type\":\"scatter\",\"x\":[0.0,1111.111111111111,2222.222222222222,3333.333333333333,4444.444444444444,5555.555555555556,6666.666666666666,7777.777777777777,8888.888888888889,10000.0],\"y\":[0.06253250938193247,0.11320701626067833,0.07002730788866879,0.1321001019094754,0.20485417981941798,-0.09748309477890711,0.16991959528208234,0.05638243431434198,-0.5784830199968545,0.13065711973713057]}],                        {\"template\":{\"data\":{\"bar\":[{\"error_x\":{\"color\":\"rgb(36,36,36)\"},\"error_y\":{\"color\":\"rgb(36,36,36)\"},\"marker\":{\"line\":{\"color\":\"rgb(234,234,242)\",\"width\":0.5},\"pattern\":{\"fillmode\":\"overlay\",\"size\":10,\"solidity\":0.2}},\"type\":\"bar\"}],\"barpolar\":[{\"marker\":{\"line\":{\"color\":\"rgb(234,234,242)\",\"width\":0.5},\"pattern\":{\"fillmode\":\"overlay\",\"size\":10,\"solidity\":0.2}},\"type\":\"barpolar\"}],\"carpet\":[{\"aaxis\":{\"endlinecolor\":\"rgb(36,36,36)\",\"gridcolor\":\"white\",\"linecolor\":\"white\",\"minorgridcolor\":\"white\",\"startlinecolor\":\"rgb(36,36,36)\"},\"baxis\":{\"endlinecolor\":\"rgb(36,36,36)\",\"gridcolor\":\"white\",\"linecolor\":\"white\",\"minorgridcolor\":\"white\",\"startlinecolor\":\"rgb(36,36,36)\"},\"type\":\"carpet\"}],\"choropleth\":[{\"colorbar\":{\"outlinewidth\":0,\"tickcolor\":\"rgb(36,36,36)\",\"ticklen\":8,\"ticks\":\"outside\",\"tickwidth\":2},\"type\":\"choropleth\"}],\"contour\":[{\"colorbar\":{\"outlinewidth\":0,\"tickcolor\":\"rgb(36,36,36)\",\"ticklen\":8,\"ticks\":\"outside\",\"tickwidth\":2},\"colorscale\":[[0.0,\"rgb(2,4,25)\"],[0.06274509803921569,\"rgb(24,15,41)\"],[0.12549019607843137,\"rgb(47,23,57)\"],[0.18823529411764706,\"rgb(71,28,72)\"],[0.25098039215686274,\"rgb(97,30,82)\"],[0.3137254901960784,\"rgb(123,30,89)\"],[0.3764705882352941,\"rgb(150,27,91)\"],[0.4392156862745098,\"rgb(177,22,88)\"],[0.5019607843137255,\"rgb(203,26,79)\"],[0.5647058823529412,\"rgb(223,47,67)\"],[0.6274509803921569,\"rgb(236,76,61)\"],[0.6901960784313725,\"rgb(242,107,73)\"],[0.7529411764705882,\"rgb(244,135,95)\"],[0.8156862745098039,\"rgb(245,162,122)\"],[0.8784313725490196,\"rgb(246,188,153)\"],[0.9411764705882353,\"rgb(247,212,187)\"],[1.0,\"rgb(250,234,220)\"]],\"type\":\"contour\"}],\"contourcarpet\":[{\"colorbar\":{\"outlinewidth\":0,\"tickcolor\":\"rgb(36,36,36)\",\"ticklen\":8,\"ticks\":\"outside\",\"tickwidth\":2},\"type\":\"contourcarpet\"}],\"heatmap\":[{\"colorbar\":{\"outlinewidth\":0,\"tickcolor\":\"rgb(36,36,36)\",\"ticklen\":8,\"ticks\":\"outside\",\"tickwidth\":2},\"colorscale\":[[0.0,\"rgb(2,4,25)\"],[0.06274509803921569,\"rgb(24,15,41)\"],[0.12549019607843137,\"rgb(47,23,57)\"],[0.18823529411764706,\"rgb(71,28,72)\"],[0.25098039215686274,\"rgb(97,30,82)\"],[0.3137254901960784,\"rgb(123,30,89)\"],[0.3764705882352941,\"rgb(150,27,91)\"],[0.4392156862745098,\"rgb(177,22,88)\"],[0.5019607843137255,\"rgb(203,26,79)\"],[0.5647058823529412,\"rgb(223,47,67)\"],[0.6274509803921569,\"rgb(236,76,61)\"],[0.6901960784313725,\"rgb(242,107,73)\"],[0.7529411764705882,\"rgb(244,135,95)\"],[0.8156862745098039,\"rgb(245,162,122)\"],[0.8784313725490196,\"rgb(246,188,153)\"],[0.9411764705882353,\"rgb(247,212,187)\"],[1.0,\"rgb(250,234,220)\"]],\"type\":\"heatmap\"}],\"heatmapgl\":[{\"colorbar\":{\"outlinewidth\":0,\"tickcolor\":\"rgb(36,36,36)\",\"ticklen\":8,\"ticks\":\"outside\",\"tickwidth\":2},\"colorscale\":[[0.0,\"rgb(2,4,25)\"],[0.06274509803921569,\"rgb(24,15,41)\"],[0.12549019607843137,\"rgb(47,23,57)\"],[0.18823529411764706,\"rgb(71,28,72)\"],[0.25098039215686274,\"rgb(97,30,82)\"],[0.3137254901960784,\"rgb(123,30,89)\"],[0.3764705882352941,\"rgb(150,27,91)\"],[0.4392156862745098,\"rgb(177,22,88)\"],[0.5019607843137255,\"rgb(203,26,79)\"],[0.5647058823529412,\"rgb(223,47,67)\"],[0.6274509803921569,\"rgb(236,76,61)\"],[0.6901960784313725,\"rgb(242,107,73)\"],[0.7529411764705882,\"rgb(244,135,95)\"],[0.8156862745098039,\"rgb(245,162,122)\"],[0.8784313725490196,\"rgb(246,188,153)\"],[0.9411764705882353,\"rgb(247,212,187)\"],[1.0,\"rgb(250,234,220)\"]],\"type\":\"heatmapgl\"}],\"histogram\":[{\"marker\":{\"pattern\":{\"fillmode\":\"overlay\",\"size\":10,\"solidity\":0.2}},\"type\":\"histogram\"}],\"histogram2d\":[{\"colorbar\":{\"outlinewidth\":0,\"tickcolor\":\"rgb(36,36,36)\",\"ticklen\":8,\"ticks\":\"outside\",\"tickwidth\":2},\"colorscale\":[[0.0,\"rgb(2,4,25)\"],[0.06274509803921569,\"rgb(24,15,41)\"],[0.12549019607843137,\"rgb(47,23,57)\"],[0.18823529411764706,\"rgb(71,28,72)\"],[0.25098039215686274,\"rgb(97,30,82)\"],[0.3137254901960784,\"rgb(123,30,89)\"],[0.3764705882352941,\"rgb(150,27,91)\"],[0.4392156862745098,\"rgb(177,22,88)\"],[0.5019607843137255,\"rgb(203,26,79)\"],[0.5647058823529412,\"rgb(223,47,67)\"],[0.6274509803921569,\"rgb(236,76,61)\"],[0.6901960784313725,\"rgb(242,107,73)\"],[0.7529411764705882,\"rgb(244,135,95)\"],[0.8156862745098039,\"rgb(245,162,122)\"],[0.8784313725490196,\"rgb(246,188,153)\"],[0.9411764705882353,\"rgb(247,212,187)\"],[1.0,\"rgb(250,234,220)\"]],\"type\":\"histogram2d\"}],\"histogram2dcontour\":[{\"colorbar\":{\"outlinewidth\":0,\"tickcolor\":\"rgb(36,36,36)\",\"ticklen\":8,\"ticks\":\"outside\",\"tickwidth\":2},\"colorscale\":[[0.0,\"rgb(2,4,25)\"],[0.06274509803921569,\"rgb(24,15,41)\"],[0.12549019607843137,\"rgb(47,23,57)\"],[0.18823529411764706,\"rgb(71,28,72)\"],[0.25098039215686274,\"rgb(97,30,82)\"],[0.3137254901960784,\"rgb(123,30,89)\"],[0.3764705882352941,\"rgb(150,27,91)\"],[0.4392156862745098,\"rgb(177,22,88)\"],[0.5019607843137255,\"rgb(203,26,79)\"],[0.5647058823529412,\"rgb(223,47,67)\"],[0.6274509803921569,\"rgb(236,76,61)\"],[0.6901960784313725,\"rgb(242,107,73)\"],[0.7529411764705882,\"rgb(244,135,95)\"],[0.8156862745098039,\"rgb(245,162,122)\"],[0.8784313725490196,\"rgb(246,188,153)\"],[0.9411764705882353,\"rgb(247,212,187)\"],[1.0,\"rgb(250,234,220)\"]],\"type\":\"histogram2dcontour\"}],\"mesh3d\":[{\"colorbar\":{\"outlinewidth\":0,\"tickcolor\":\"rgb(36,36,36)\",\"ticklen\":8,\"ticks\":\"outside\",\"tickwidth\":2},\"type\":\"mesh3d\"}],\"parcoords\":[{\"line\":{\"colorbar\":{\"outlinewidth\":0,\"tickcolor\":\"rgb(36,36,36)\",\"ticklen\":8,\"ticks\":\"outside\",\"tickwidth\":2}},\"type\":\"parcoords\"}],\"pie\":[{\"automargin\":true,\"type\":\"pie\"}],\"scatter\":[{\"marker\":{\"colorbar\":{\"outlinewidth\":0,\"tickcolor\":\"rgb(36,36,36)\",\"ticklen\":8,\"ticks\":\"outside\",\"tickwidth\":2}},\"type\":\"scatter\"}],\"scatter3d\":[{\"line\":{\"colorbar\":{\"outlinewidth\":0,\"tickcolor\":\"rgb(36,36,36)\",\"ticklen\":8,\"ticks\":\"outside\",\"tickwidth\":2}},\"marker\":{\"colorbar\":{\"outlinewidth\":0,\"tickcolor\":\"rgb(36,36,36)\",\"ticklen\":8,\"ticks\":\"outside\",\"tickwidth\":2}},\"type\":\"scatter3d\"}],\"scattercarpet\":[{\"marker\":{\"colorbar\":{\"outlinewidth\":0,\"tickcolor\":\"rgb(36,36,36)\",\"ticklen\":8,\"ticks\":\"outside\",\"tickwidth\":2}},\"type\":\"scattercarpet\"}],\"scattergeo\":[{\"marker\":{\"colorbar\":{\"outlinewidth\":0,\"tickcolor\":\"rgb(36,36,36)\",\"ticklen\":8,\"ticks\":\"outside\",\"tickwidth\":2}},\"type\":\"scattergeo\"}],\"scattergl\":[{\"marker\":{\"colorbar\":{\"outlinewidth\":0,\"tickcolor\":\"rgb(36,36,36)\",\"ticklen\":8,\"ticks\":\"outside\",\"tickwidth\":2}},\"type\":\"scattergl\"}],\"scattermapbox\":[{\"marker\":{\"colorbar\":{\"outlinewidth\":0,\"tickcolor\":\"rgb(36,36,36)\",\"ticklen\":8,\"ticks\":\"outside\",\"tickwidth\":2}},\"type\":\"scattermapbox\"}],\"scatterpolar\":[{\"marker\":{\"colorbar\":{\"outlinewidth\":0,\"tickcolor\":\"rgb(36,36,36)\",\"ticklen\":8,\"ticks\":\"outside\",\"tickwidth\":2}},\"type\":\"scatterpolar\"}],\"scatterpolargl\":[{\"marker\":{\"colorbar\":{\"outlinewidth\":0,\"tickcolor\":\"rgb(36,36,36)\",\"ticklen\":8,\"ticks\":\"outside\",\"tickwidth\":2}},\"type\":\"scatterpolargl\"}],\"scatterternary\":[{\"marker\":{\"colorbar\":{\"outlinewidth\":0,\"tickcolor\":\"rgb(36,36,36)\",\"ticklen\":8,\"ticks\":\"outside\",\"tickwidth\":2}},\"type\":\"scatterternary\"}],\"surface\":[{\"colorbar\":{\"outlinewidth\":0,\"tickcolor\":\"rgb(36,36,36)\",\"ticklen\":8,\"ticks\":\"outside\",\"tickwidth\":2},\"colorscale\":[[0.0,\"rgb(2,4,25)\"],[0.06274509803921569,\"rgb(24,15,41)\"],[0.12549019607843137,\"rgb(47,23,57)\"],[0.18823529411764706,\"rgb(71,28,72)\"],[0.25098039215686274,\"rgb(97,30,82)\"],[0.3137254901960784,\"rgb(123,30,89)\"],[0.3764705882352941,\"rgb(150,27,91)\"],[0.4392156862745098,\"rgb(177,22,88)\"],[0.5019607843137255,\"rgb(203,26,79)\"],[0.5647058823529412,\"rgb(223,47,67)\"],[0.6274509803921569,\"rgb(236,76,61)\"],[0.6901960784313725,\"rgb(242,107,73)\"],[0.7529411764705882,\"rgb(244,135,95)\"],[0.8156862745098039,\"rgb(245,162,122)\"],[0.8784313725490196,\"rgb(246,188,153)\"],[0.9411764705882353,\"rgb(247,212,187)\"],[1.0,\"rgb(250,234,220)\"]],\"type\":\"surface\"}],\"table\":[{\"cells\":{\"fill\":{\"color\":\"rgb(231,231,240)\"},\"line\":{\"color\":\"white\"}},\"header\":{\"fill\":{\"color\":\"rgb(183,183,191)\"},\"line\":{\"color\":\"white\"}},\"type\":\"table\"}]},\"layout\":{\"annotationdefaults\":{\"arrowcolor\":\"rgb(67,103,167)\"},\"autotypenumbers\":\"strict\",\"coloraxis\":{\"colorbar\":{\"outlinewidth\":0,\"tickcolor\":\"rgb(36,36,36)\",\"ticklen\":8,\"ticks\":\"outside\",\"tickwidth\":2}},\"colorscale\":{\"sequential\":[[0.0,\"rgb(2,4,25)\"],[0.06274509803921569,\"rgb(24,15,41)\"],[0.12549019607843137,\"rgb(47,23,57)\"],[0.18823529411764706,\"rgb(71,28,72)\"],[0.25098039215686274,\"rgb(97,30,82)\"],[0.3137254901960784,\"rgb(123,30,89)\"],[0.3764705882352941,\"rgb(150,27,91)\"],[0.4392156862745098,\"rgb(177,22,88)\"],[0.5019607843137255,\"rgb(203,26,79)\"],[0.5647058823529412,\"rgb(223,47,67)\"],[0.6274509803921569,\"rgb(236,76,61)\"],[0.6901960784313725,\"rgb(242,107,73)\"],[0.7529411764705882,\"rgb(244,135,95)\"],[0.8156862745098039,\"rgb(245,162,122)\"],[0.8784313725490196,\"rgb(246,188,153)\"],[0.9411764705882353,\"rgb(247,212,187)\"],[1.0,\"rgb(250,234,220)\"]],\"sequentialminus\":[[0.0,\"rgb(2,4,25)\"],[0.06274509803921569,\"rgb(24,15,41)\"],[0.12549019607843137,\"rgb(47,23,57)\"],[0.18823529411764706,\"rgb(71,28,72)\"],[0.25098039215686274,\"rgb(97,30,82)\"],[0.3137254901960784,\"rgb(123,30,89)\"],[0.3764705882352941,\"rgb(150,27,91)\"],[0.4392156862745098,\"rgb(177,22,88)\"],[0.5019607843137255,\"rgb(203,26,79)\"],[0.5647058823529412,\"rgb(223,47,67)\"],[0.6274509803921569,\"rgb(236,76,61)\"],[0.6901960784313725,\"rgb(242,107,73)\"],[0.7529411764705882,\"rgb(244,135,95)\"],[0.8156862745098039,\"rgb(245,162,122)\"],[0.8784313725490196,\"rgb(246,188,153)\"],[0.9411764705882353,\"rgb(247,212,187)\"],[1.0,\"rgb(250,234,220)\"]]},\"colorway\":[\"rgb(76,114,176)\",\"rgb(221,132,82)\",\"rgb(85,168,104)\",\"rgb(196,78,82)\",\"rgb(129,114,179)\",\"rgb(147,120,96)\",\"rgb(218,139,195)\",\"rgb(140,140,140)\",\"rgb(204,185,116)\",\"rgb(100,181,205)\"],\"font\":{\"color\":\"rgb(36,36,36)\"},\"geo\":{\"bgcolor\":\"white\",\"lakecolor\":\"white\",\"landcolor\":\"rgb(234,234,242)\",\"showlakes\":true,\"showland\":true,\"subunitcolor\":\"white\"},\"hoverlabel\":{\"align\":\"left\"},\"hovermode\":\"closest\",\"paper_bgcolor\":\"white\",\"plot_bgcolor\":\"rgb(234,234,242)\",\"polar\":{\"angularaxis\":{\"gridcolor\":\"white\",\"linecolor\":\"white\",\"showgrid\":true,\"ticks\":\"\"},\"bgcolor\":\"rgb(234,234,242)\",\"radialaxis\":{\"gridcolor\":\"white\",\"linecolor\":\"white\",\"showgrid\":true,\"ticks\":\"\"}},\"scene\":{\"xaxis\":{\"backgroundcolor\":\"rgb(234,234,242)\",\"gridcolor\":\"white\",\"gridwidth\":2,\"linecolor\":\"white\",\"showbackground\":true,\"showgrid\":true,\"ticks\":\"\",\"zerolinecolor\":\"white\"},\"yaxis\":{\"backgroundcolor\":\"rgb(234,234,242)\",\"gridcolor\":\"white\",\"gridwidth\":2,\"linecolor\":\"white\",\"showbackground\":true,\"showgrid\":true,\"ticks\":\"\",\"zerolinecolor\":\"white\"},\"zaxis\":{\"backgroundcolor\":\"rgb(234,234,242)\",\"gridcolor\":\"white\",\"gridwidth\":2,\"linecolor\":\"white\",\"showbackground\":true,\"showgrid\":true,\"ticks\":\"\",\"zerolinecolor\":\"white\"}},\"shapedefaults\":{\"fillcolor\":\"rgb(67,103,167)\",\"line\":{\"width\":0},\"opacity\":0.5},\"ternary\":{\"aaxis\":{\"gridcolor\":\"white\",\"linecolor\":\"white\",\"showgrid\":true,\"ticks\":\"\"},\"baxis\":{\"gridcolor\":\"white\",\"linecolor\":\"white\",\"showgrid\":true,\"ticks\":\"\"},\"bgcolor\":\"rgb(234,234,242)\",\"caxis\":{\"gridcolor\":\"white\",\"linecolor\":\"white\",\"showgrid\":true,\"ticks\":\"\"}},\"xaxis\":{\"automargin\":true,\"gridcolor\":\"white\",\"linecolor\":\"white\",\"showgrid\":true,\"ticks\":\"\",\"title\":{\"standoff\":15},\"zerolinecolor\":\"white\"},\"yaxis\":{\"automargin\":true,\"gridcolor\":\"white\",\"linecolor\":\"white\",\"showgrid\":true,\"ticks\":\"\",\"title\":{\"standoff\":15},\"zerolinecolor\":\"white\"}}},\"title\":{\"text\":\"T vs 2-point Corr\"},\"xaxis\":{\"title\":{\"text\":\"T\"}},\"yaxis\":{\"title\":{\"text\":\"2-point Corr\"}}},                        {\"responsive\": true}                    ).then(function(){\n",
       "                            \n",
       "var gd = document.getElementById('38683401-a1fa-40ec-9029-e4738a15659c');\n",
       "var x = new MutationObserver(function (mutations, observer) {{\n",
       "        var display = window.getComputedStyle(gd).display;\n",
       "        if (!display || display === 'none') {{\n",
       "            console.log([gd, 'removed!']);\n",
       "            Plotly.purge(gd);\n",
       "            observer.disconnect();\n",
       "        }}\n",
       "}});\n",
       "\n",
       "// Listen for the removal of the full notebook cells\n",
       "var notebookContainer = gd.closest('#notebook-container');\n",
       "if (notebookContainer) {{\n",
       "    x.observe(notebookContainer, {childList: true});\n",
       "}}\n",
       "\n",
       "// Listen for the clearing of the current output cell\n",
       "var outputEl = gd.closest('.output');\n",
       "if (outputEl) {{\n",
       "    x.observe(outputEl, {childList: true});\n",
       "}}\n",
       "\n",
       "                        })                };                });            </script>        </div>"
      ]
     },
     "metadata": {},
     "output_type": "display_data"
    }
   ],
   "source": [
    "fig = go.Figure()\n",
    "\n",
    "fig.add_trace(go.Scatter(x = results_basinhopping[results_basinhopping['1-point_corr'] == 0.0]['T'],\n",
    "                         y = results_basinhopping[results_basinhopping['1-point_corr'] == 0.0]['corrs'].str[2],\n",
    "                         mode='markers+lines',\n",
    "                        )\n",
    "             )\n",
    "\n",
    "fig.update_layout(\n",
    "    title=\"T vs 2-point Corr\",\n",
    "    xaxis_title=\"T\",\n",
    "    yaxis_title=\"2-point Corr\",\n",
    "    template='seaborn'\n",
    ")\n",
    "#fig.update_traces(texttemplate='%{text:.2s}', textposition='top center')\n",
    "fig.show()"
   ]
  },
  {
   "cell_type": "code",
   "execution_count": null,
   "metadata": {},
   "outputs": [],
   "source": []
  }
 ],
 "metadata": {
  "kernelspec": {
   "display_name": "Python 3",
   "language": "python",
   "name": "python3"
  },
  "language_info": {
   "codemirror_mode": {
    "name": "ipython",
    "version": 3
   },
   "file_extension": ".py",
   "mimetype": "text/x-python",
   "name": "python",
   "nbconvert_exporter": "python",
   "pygments_lexer": "ipython3",
   "version": "3.8.10"
  },
  "toc": {
   "base_numbering": 1,
   "nav_menu": {},
   "number_sections": true,
   "sideBar": true,
   "skip_h1_title": false,
   "title_cell": "Table of Contents",
   "title_sidebar": "Contents",
   "toc_cell": false,
   "toc_position": {},
   "toc_section_display": true,
   "toc_window_display": false
  },
  "varInspector": {
   "cols": {
    "lenName": 16,
    "lenType": 16,
    "lenVar": 40
   },
   "kernels_config": {
    "python": {
     "delete_cmd_postfix": "",
     "delete_cmd_prefix": "del ",
     "library": "var_list.py",
     "varRefreshCmd": "print(var_dic_list())"
    },
    "r": {
     "delete_cmd_postfix": ") ",
     "delete_cmd_prefix": "rm(",
     "library": "var_list.r",
     "varRefreshCmd": "cat(var_dic_list()) "
    }
   },
   "types_to_exclude": [
    "module",
    "function",
    "builtin_function_or_method",
    "instance",
    "_Feature"
   ],
   "window_display": false
  }
 },
 "nbformat": 4,
 "nbformat_minor": 4
}
