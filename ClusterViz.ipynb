{
 "cells": [
  {
   "cell_type": "code",
   "execution_count": 11,
   "id": "6c8af3c9-3b0d-4ac6-9e75-04cc64022d0a",
   "metadata": {},
   "outputs": [
    {
     "name": "stdout",
     "output_type": "stream",
     "text": [
      "0.8660254037844386\n"
     ]
    }
   ],
   "source": [
    "from ase import Atoms\n",
    "from clusterx.parent_lattice import ParentLattice\n",
    "from clusterx.visualization import juview\n",
    "from clusterx.clusters.clusters_pool import ClustersPool\n",
    "from clusterx.correlations import CorrelationsCalculator\n",
    "import math\n",
    "from clusterx.symmetry import get_spacegroup\n",
    "from clusterx.super_cell import SuperCell\n",
    "import numpy as np\n",
    "import clusterx.utils as clutils\n",
    "from ase.visualize import view\n",
    "\n",
    "r = math.sqrt(0.5**2 + 0.5**2 + 0.5**2)\n",
    "print(r)"
   ]
  },
  {
   "cell_type": "code",
   "execution_count": 2,
   "id": "b6e23f4f-d807-41f7-9f71-84701f12cc8f",
   "metadata": {},
   "outputs": [],
   "source": [
    "a=1.0\n",
    "pri = Atoms(positions=[[0,0,0]],cell=[[a*0.5,a*0.5,a*0.5],[a*0.5,a*-0.5,a*0.5],[a*0.5,a*0.5,a*-0.5]],pbc=(1,1,1))\n",
    "plat = ParentLattice(pri,site_symbols=[['Mo','V','W']])"
   ]
  },
  {
   "cell_type": "code",
   "execution_count": 3,
   "id": "3b4173c5-5e67-4b11-ba46-e80966a31c2b",
   "metadata": {},
   "outputs": [],
   "source": [
    "cpool = ClustersPool(plat, npoints=[0,1,2,3,4], radii=[0,0,a,a,a])"
   ]
  },
  {
   "cell_type": "code",
   "execution_count": 4,
   "id": "45e6fb8f-2872-4710-bee7-faf1591f78a1",
   "metadata": {},
   "outputs": [
    {
     "name": "stdout",
     "output_type": "stream",
     "text": [
      "Number of clusters:  21\n",
      "Multiplicities:  [ 1  1  1  4  8  4  3  6  3 12 24 12 24 12 12  6 24 24 12 24  6]\n",
      "\n",
      "+-----------------------------------------------------------+\n",
      "|                   Clusters Pool Info                      |\n",
      "+-----------------------------------------------------------+\n",
      "|       Index       |   Nr. of points   |      Radius       |\n",
      "+-----------------------------------------------------------+\n",
      "|         0         |         0         |       0.000       |\n",
      "|         1         |         1         |       0.000       |\n",
      "|         2         |         1         |       0.000       |\n",
      "|         3         |         2         |       0.866       |\n",
      "|         4         |         2         |       0.866       |\n",
      "|         5         |         2         |       0.866       |\n",
      "|         6         |         2         |       1.000       |\n",
      "|         7         |         2         |       1.000       |\n",
      "|         8         |         2         |       1.000       |\n",
      "|         9         |         3         |       1.000       |\n",
      "|        10         |         3         |       1.000       |\n",
      "|        11         |         3         |       1.000       |\n",
      "|        12         |         3         |       1.000       |\n",
      "|        13         |         3         |       1.000       |\n",
      "|        14         |         3         |       1.000       |\n",
      "|        15         |         4         |       1.000       |\n",
      "|        16         |         4         |       1.000       |\n",
      "|        17         |         4         |       1.000       |\n",
      "|        18         |         4         |       1.000       |\n",
      "|        19         |         4         |       1.000       |\n",
      "|        20         |         4         |       1.000       |\n",
      "+-----------------------------------------------------------+\n",
      "\n"
     ]
    }
   ],
   "source": [
    "print(\"Number of clusters: \", len(cpool))\n",
    "print(\"Multiplicities: \", cpool.get_multiplicities())\n",
    "cpool.write_clusters_db()\n",
    "cpool.display_info()"
   ]
  },
  {
   "cell_type": "code",
   "execution_count": null,
   "id": "28385bb9-7a38-4a86-911f-52ee6981f263",
   "metadata": {},
   "outputs": [],
   "source": []
  },
  {
   "cell_type": "code",
   "execution_count": 5,
   "id": "016f8230-cb1c-47f4-bb12-6a182bc82191",
   "metadata": {},
   "outputs": [],
   "source": [
    "corrcal = CorrelationsCalculator(\"binary-linear\", plat, cpool)"
   ]
  },
  {
   "cell_type": "code",
   "execution_count": 5,
   "id": "d461282b-ae13-461d-9d7a-efa9e01e1fcf",
   "metadata": {},
   "outputs": [
    {
     "ename": "NameError",
     "evalue": "name 'structure' is not defined",
     "output_type": "error",
     "traceback": [
      "\u001b[0;31m---------------------------------------------------------------------------\u001b[0m",
      "\u001b[0;31mNameError\u001b[0m                                 Traceback (most recent call last)",
      "Input \u001b[0;32mIn [5]\u001b[0m, in \u001b[0;36m<module>\u001b[0;34m\u001b[0m\n\u001b[0;32m----> 1\u001b[0m corrs \u001b[38;5;241m=\u001b[39m corrcal\u001b[38;5;241m.\u001b[39mget_cluster_correlations(\u001b[43mstructure\u001b[49m) \u001b[38;5;66;03m# Compute correlations for structure\u001b[39;00m\n\u001b[1;32m      2\u001b[0m orbl \u001b[38;5;241m=\u001b[39m corrcal\u001b[38;5;241m.\u001b[39mget_orbit_lengths(structure) \u001b[38;5;66;03m# Get orbit lengths in structure M_\\alpha\u001b[39;00m\n\u001b[1;32m      4\u001b[0m \u001b[38;5;28mprint\u001b[39m(\u001b[38;5;124m\"\u001b[39m\u001b[38;5;132;01m{0:<19s}\u001b[39;00m\u001b[38;5;124m|\u001b[39m\u001b[38;5;132;01m{1:<19s}\u001b[39;00m\u001b[38;5;124m|\u001b[39m\u001b[38;5;132;01m{2:<19s}\u001b[39;00m\u001b[38;5;124m\"\u001b[39m\u001b[38;5;241m.\u001b[39mformat(\u001b[38;5;124m\"\u001b[39m\u001b[38;5;124mCluster index\u001b[39m\u001b[38;5;124m\"\u001b[39m,\u001b[38;5;124m\"\u001b[39m\u001b[38;5;124mOrbit length\u001b[39m\u001b[38;5;124m\"\u001b[39m,\u001b[38;5;124m\"\u001b[39m\u001b[38;5;124mCorrelation\u001b[39m\u001b[38;5;124m\"\u001b[39m))\n",
      "\u001b[0;31mNameError\u001b[0m: name 'structure' is not defined"
     ]
    },
    {
     "name": "stdout",
     "output_type": "stream",
     "text": [
      "ERROR! Session/line number was not unique in database. History logging moved to new session 22\n"
     ]
    }
   ],
   "source": [
    "corrs = corrcal.get_cluster_correlations(structure) # Compute correlations for structure\n",
    "orbl = corrcal.get_orbit_lengths(structure) # Get orbit lengths in structure M_\\alpha\n",
    "\n",
    "print(\"{0:<19s}|{1:<19s}|{2:<19s}\".format(\"Cluster index\",\"Orbit length\",\"Correlation\"))\n",
    "for i in range(len(cpool)):\n",
    "    print(\"{0:<19d}|{1:<19d}|{2:<19.5f}\".format(i, orbl[i], corrs[i]))"
   ]
  },
  {
   "cell_type": "code",
   "execution_count": null,
   "id": "9b5abb27-7438-4132-8778-89ee51deafe3",
   "metadata": {},
   "outputs": [],
   "source": []
  }
 ],
 "metadata": {
  "kernelspec": {
   "display_name": "Python 3 (ipykernel)",
   "language": "python",
   "name": "python3"
  },
  "language_info": {
   "codemirror_mode": {
    "name": "ipython",
    "version": 3
   },
   "file_extension": ".py",
   "mimetype": "text/x-python",
   "name": "python",
   "nbconvert_exporter": "python",
   "pygments_lexer": "ipython3",
   "version": "3.8.10"
  },
  "widgets": {
   "application/vnd.jupyter.widget-state+json": {
    "state": {},
    "version_major": 2,
    "version_minor": 0
   }
  }
 },
 "nbformat": 4,
 "nbformat_minor": 5
}
