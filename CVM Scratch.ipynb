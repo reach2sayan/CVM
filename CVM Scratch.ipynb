{
 "cells": [
  {
   "cell_type": "code",
   "execution_count": 1,
   "metadata": {
    "ExecuteTime": {
     "end_time": "2021-08-24T17:26:44.707914Z",
     "start_time": "2021-08-24T17:26:42.837421Z"
    }
   },
   "outputs": [],
   "source": [
    "%matplotlib inline\n",
    "from ase.build import bulk\n",
    "from clusterx.parent_lattice import ParentLattice\n",
    "from clusterx.super_cell import SuperCell\n",
    "import numpy as np\n",
    "from clusterx.visualization import juview\n",
    "from clusterx.structures_set import StructuresSet\n",
    "from clusterx.structure_selector import StructureSelector\n",
    "from ase import Atoms\n",
    "from clusterx.clusters.clusters_pool import ClustersPool\n",
    "from clusterx.correlations import CorrelationsCalculator\n",
    "from random import randint\n",
    "from clusterx.calculators.emt import EMT2 \n",
    "from clusterx.utils import parent_lattice_to_atat as plat2atat\n",
    "from clusterx.utils import atat_to_cell as atat2plat\n",
    "from clusterx.visualization import plot_property_vs_concentration\n",
    "from clusterx.model import ModelBuilder\n",
    "from clusterx.visualization import plot_optimization_vs_number_of_clusters\n",
    "from clusterx.visualization import plot_predictions_vs_target\n",
    "from sklearn.linear_model import LinearRegression\n",
    "from ase.visualize import view"
   ]
  },
  {
   "cell_type": "code",
   "execution_count": 2,
   "metadata": {
    "ExecuteTime": {
     "end_time": "2021-08-24T17:26:44.760620Z",
     "start_time": "2021-08-24T17:26:44.725161Z"
    }
   },
   "outputs": [
    {
     "name": "stdout",
     "output_type": "stream",
     "text": [
      "\n",
      "+--------------------------------------------------------------------+\n",
      "|              The structure consists of 1 sublattices               |\n",
      "+--------------------------------------------------------------------+\n",
      "| Sublattice type |       Chemical symbols       |  Atomic numbers   |\n",
      "+--------------------------------------------------------------------+\n",
      "|        0        |         ['Cs' 'Cl']          |      [55 17]      |\n",
      "+--------------------------------------------------------------------+\n",
      "\n"
     ]
    }
   ],
   "source": [
    "pri = bulk('Cs','bcc')\n",
    "sub = bulk('Cl','bcc',a=1.085)\n",
    "\n",
    "platt = ParentLattice(pri, substitutions=[sub])\n",
    "plat2atat(platt,'lat_bcc.in')\n",
    "scell = SuperCell(platt,[4,4,4])\n",
    "platt.get_sublattice_types(pretty_print = True)"
   ]
  },
  {
   "cell_type": "code",
   "execution_count": null,
   "metadata": {},
   "outputs": [],
   "source": []
  },
  {
   "cell_type": "code",
   "execution_count": null,
   "metadata": {
    "ExecuteTime": {
     "end_time": "2021-08-09T22:55:29.420922Z",
     "start_time": "2021-08-09T22:55:27.209622Z"
    }
   },
   "outputs": [],
   "source": [
    "# Collect 60 random structures in a StructuresSet object\n",
    "sset = StructuresSet(platt)\n",
    "nstruc = 60\n",
    "\n",
    "for i in range(nstruc):\n",
    "    concentration = {0:[randint(0,4*4*4)]}\n",
    "    sset.add_structure(scell.gen_random(concentration))"
   ]
  },
  {
   "cell_type": "code",
   "execution_count": null,
   "metadata": {
    "ExecuteTime": {
     "end_time": "2021-08-09T23:01:34.414885Z",
     "start_time": "2021-08-09T23:01:34.358759Z"
    }
   },
   "outputs": [],
   "source": [
    "sset.get_images()[0]"
   ]
  },
  {
   "cell_type": "code",
   "execution_count": null,
   "metadata": {
    "ExecuteTime": {
     "end_time": "2021-08-09T22:57:05.463425Z",
     "start_time": "2021-08-09T22:57:04.357898Z"
    }
   },
   "outputs": [],
   "source": [
    "juview(sset,n=10)"
   ]
  },
  {
   "cell_type": "code",
   "execution_count": null,
   "metadata": {
    "ExecuteTime": {
     "end_time": "2021-08-09T20:04:47.929595Z",
     "start_time": "2021-08-09T20:04:21.566249Z"
    }
   },
   "outputs": [],
   "source": [
    "sset.set_calculator(EMT2())\n",
    "sset.calculate_property(\"total_energy_emt\")"
   ]
  },
  {
   "cell_type": "code",
   "execution_count": null,
   "metadata": {
    "ExecuteTime": {
     "end_time": "2021-08-09T20:04:19.115980Z",
     "start_time": "2021-08-09T20:04:17.869130Z"
    }
   },
   "outputs": [],
   "source": [
    "refs = StructuresSet(platt)\n",
    "refs.add_structure(scell.gen_random({0:[0]})) # Pristine\n",
    "refs.add_structure(scell.gen_random({0:[4*4*4]})) # Full Na substitution\n",
    "refs.set_calculator(EMT2())\n",
    "refs.calculate_property(\"total_energy_emt_refs\")\n",
    "ref_en = refs.get_property_values(\"total_energy_emt_refs\")"
   ]
  },
  {
   "cell_type": "code",
   "execution_count": null,
   "metadata": {
    "ExecuteTime": {
     "end_time": "2021-08-09T20:40:55.125676Z",
     "start_time": "2021-08-09T20:40:53.683384Z"
    }
   },
   "outputs": [],
   "source": [
    "sset.write_files(formats=['lammps-data'])"
   ]
  },
  {
   "cell_type": "code",
   "execution_count": null,
   "metadata": {
    "ExecuteTime": {
     "end_time": "2021-08-15T20:41:31.388903Z",
     "start_time": "2021-08-15T20:41:31.110134Z"
    }
   },
   "outputs": [],
   "source": [
    "juview(SuperCell(platt,[2,2,2]))"
   ]
  },
  {
   "cell_type": "code",
   "execution_count": 28,
   "metadata": {
    "ExecuteTime": {
     "end_time": "2021-08-24T18:16:12.213023Z",
     "start_time": "2021-08-24T18:16:09.066849Z"
    }
   },
   "outputs": [],
   "source": [
    "a=0.5\n",
    "pri = Atoms(positions=[[0,0,0]],cell=[[a,a,a],[a,-a,a],[a,a,-a]],pbc=(1,1,1)) # Atoms object. Only positions and cell are set\n",
    "plat = ParentLattice(pri,site_symbols=[['Cs','Cl',]]) # ParentLattice object with assignement of species\n",
    "#plat = atat2plat('lat.in')\n",
    "\n",
    "r = 1.42 # This is large enough to include all clusters up to sqrt(2)*a\n",
    "cpool = ClustersPool(plat, npoints=[0,1,2,2,3,4], radii=[0,0,1.0,0.866,1.0,1.0],)\n",
    "#juview(cpool)"
   ]
  },
  {
   "cell_type": "code",
   "execution_count": 35,
   "metadata": {
    "ExecuteTime": {
     "end_time": "2021-08-24T18:57:11.505946Z",
     "start_time": "2021-08-24T18:57:11.397082Z"
    },
    "scrolled": true
   },
   "outputs": [],
   "source": [
    "corrcal = CorrelationsCalculator(\"binary-linear\", plat, cpool)\n",
    "scell = SuperCell(plat,[4,4,4]) # Create a 4x4 supercell\n",
    "structure = scell.gen_random({0:[5]}) # Random structure with 3 substitutional atoms\n",
    "#juview(structure.get_atoms())"
   ]
  },
  {
   "cell_type": "code",
   "execution_count": 39,
   "metadata": {
    "ExecuteTime": {
     "end_time": "2021-08-24T19:35:37.608325Z",
     "start_time": "2021-08-24T19:35:37.602960Z"
    }
   },
   "outputs": [
    {
     "name": "stdout",
     "output_type": "stream",
     "text": [
      "[1.         0.25       0.0625     0.0625     0.015625   0.00390625]\n"
     ]
    }
   ],
   "source": [
    "print(corrcal.get_binary_random_structure_correlations(0.25))"
   ]
  },
  {
   "cell_type": "code",
   "execution_count": 26,
   "metadata": {
    "ExecuteTime": {
     "end_time": "2021-08-18T19:43:08.792345Z",
     "start_time": "2021-08-18T19:43:08.770538Z"
    }
   },
   "outputs": [
    {
     "data": {
      "text/plain": [
       "{0: [0.921875, 0.078125]}"
      ]
     },
     "execution_count": 26,
     "metadata": {},
     "output_type": "execute_result"
    }
   ],
   "source": [
    "structure.get_fractional_concentrations()"
   ]
  },
  {
   "cell_type": "code",
   "execution_count": 170,
   "metadata": {
    "ExecuteTime": {
     "end_time": "2021-08-15T23:28:24.301643Z",
     "start_time": "2021-08-15T23:28:24.286899Z"
    }
   },
   "outputs": [
    {
     "data": {
      "text/plain": [
       "SuperCell(symbols='Cs', pbc=True, cell=[[0.5, 0.5, 0.5], [0.5, -0.5, 0.5], [0.5, 0.5, -0.5]], tags=...)"
      ]
     },
     "execution_count": 170,
     "metadata": {},
     "output_type": "execute_result"
    }
   ],
   "source": [
    "scell"
   ]
  },
  {
   "cell_type": "code",
   "execution_count": 6,
   "metadata": {
    "ExecuteTime": {
     "end_time": "2021-08-18T19:23:13.664650Z",
     "start_time": "2021-08-18T19:23:13.617729Z"
    }
   },
   "outputs": [
    {
     "name": "stdout",
     "output_type": "stream",
     "text": [
      "\n",
      "+-----------------------------------------------------------+\n",
      "|                   Clusters Pool Info                      |\n",
      "+-----------------------------------------------------------+\n",
      "|       Index       |   Nr. of points   |      Radius       |\n",
      "+-----------------------------------------------------------+\n",
      "|         0         |         0         |       0.000       |\n",
      "|         1         |         1         |       0.000       |\n",
      "|         2         |         2         |       0.866       |\n",
      "|         3         |         2         |       1.000       |\n",
      "|         4         |         3         |       1.000       |\n",
      "|         5         |         4         |       1.000       |\n",
      "+-----------------------------------------------------------+\n",
      "\n"
     ]
    }
   ],
   "source": [
    "cpool.display_info()"
   ]
  },
  {
   "cell_type": "code",
   "execution_count": 179,
   "metadata": {
    "ExecuteTime": {
     "end_time": "2021-08-15T23:30:24.022456Z",
     "start_time": "2021-08-15T23:30:23.412549Z"
    }
   },
   "outputs": [
    {
     "name": "stdout",
     "output_type": "stream",
     "text": [
      "Cluster index      |Orbit length       |Correlation        \n",
      "0                  |1                  |1.00000            \n",
      "1                  |8                  |0.00000            \n",
      "2                  |16                 |0.00000            \n",
      "3                  |12                 |0.00000            \n",
      "4                  |48                 |0.00000            \n",
      "5                  |24                 |0.00000            \n"
     ]
    }
   ],
   "source": [
    "corrs = corrcal.get_cluster_correlations(structure) # Compute correlations for structure\n",
    "orbl = corrcal.get_orbit_lengths(structure) # Get orbit lengths in structure M_\\alpha\n",
    "\n",
    "print(\"{0:<19s}|{1:<19s}|{2:<19s}\".format(\"Cluster index\",\"Orbit length\",\"Correlation\"))\n",
    "for i in range(len(cpool)):\n",
    "    print(\"{0:<19d}|{1:<19d}|{2:<19.5f}\".format(i, orbl[i], corrs[i]))"
   ]
  },
  {
   "cell_type": "code",
   "execution_count": 6,
   "metadata": {
    "ExecuteTime": {
     "end_time": "2021-08-16T00:52:22.076501Z",
     "start_time": "2021-08-16T00:52:21.213833Z"
    }
   },
   "outputs": [
    {
     "name": "stdout",
     "output_type": "stream",
     "text": [
      "There are  162 symmetrically equivalent representations of the cluster in the supercell.\n",
      "The cluster multiplicity is  6 .\n"
     ]
    }
   ],
   "source": [
    "cluster_orbit, cluster_multiplicity = cpool.get_cluster_orbit(cluster_index =5)\n",
    "\n",
    "print(\"There are \",len(cluster_orbit),\"symmetrically equivalent representations of the cluster in the supercell.\")\n",
    "print(\"The cluster multiplicity is \",cluster_multiplicity,\".\")"
   ]
  },
  {
   "cell_type": "code",
   "execution_count": 161,
   "metadata": {
    "ExecuteTime": {
     "end_time": "2021-08-15T22:19:55.459733Z",
     "start_time": "2021-08-15T22:19:46.938045Z"
    }
   },
   "outputs": [],
   "source": [
    "juview(cluster_orbit,n=5)\n",
    "cluster_orbit.write_clusters_db(db_name=\"temp.json\")"
   ]
  },
  {
   "cell_type": "code",
   "execution_count": 162,
   "metadata": {
    "ExecuteTime": {
     "end_time": "2021-08-15T22:19:56.247082Z",
     "start_time": "2021-08-15T22:19:56.235604Z"
    }
   },
   "outputs": [],
   "source": [
    "temp = cluster_orbit.get_cpool_clusters()"
   ]
  },
  {
   "cell_type": "code",
   "execution_count": 163,
   "metadata": {
    "ExecuteTime": {
     "end_time": "2021-08-15T22:19:59.046221Z",
     "start_time": "2021-08-15T22:19:59.028117Z"
    }
   },
   "outputs": [
    {
     "data": {
      "text/plain": [
       "<clusterx.clusters.cluster.Cluster at 0x7fa624735370>"
      ]
     },
     "execution_count": 163,
     "metadata": {},
     "output_type": "execute_result"
    }
   ],
   "source": [
    "temp[0]"
   ]
  },
  {
   "cell_type": "code",
   "execution_count": 165,
   "metadata": {
    "ExecuteTime": {
     "end_time": "2021-08-15T22:20:04.953160Z",
     "start_time": "2021-08-15T22:20:04.938118Z"
    }
   },
   "outputs": [
    {
     "data": {
      "text/plain": [
       "[0, 1, 4, 9]"
      ]
     },
     "execution_count": 165,
     "metadata": {},
     "output_type": "execute_result"
    }
   ],
   "source": [
    "temp[0].get_idxs()"
   ]
  },
  {
   "cell_type": "code",
   "execution_count": 166,
   "metadata": {
    "ExecuteTime": {
     "end_time": "2021-08-15T22:20:07.815256Z",
     "start_time": "2021-08-15T22:20:07.800363Z"
    }
   },
   "outputs": [
    {
     "data": {
      "text/plain": [
       "array([[ 0. ,  0. ,  0. ],\n",
       "       [ 0.5,  0.5, -0.5],\n",
       "       [ 1. , -0. ,  0. ],\n",
       "       [ 0.5,  0.5,  0.5]])"
      ]
     },
     "execution_count": 166,
     "metadata": {},
     "output_type": "execute_result"
    }
   ],
   "source": [
    "np.set_printoptions(suppress=True)\n",
    "temp[0].get_positions()"
   ]
  },
  {
   "cell_type": "code",
   "execution_count": null,
   "metadata": {
    "ExecuteTime": {
     "end_time": "2021-08-12T03:16:54.267186Z",
     "start_time": "2021-08-12T03:16:54.158298Z"
    }
   },
   "outputs": [],
   "source": [
    "# Collect 60 random structures in a StructuresSet object\n",
    "sset = StructuresSet(plat)\n",
    "nstruc = 5\n",
    "\n",
    "for i in range(nstruc):\n",
    "    concentration = {0:[randint(0,4*4)]}\n",
    "    sset.add_structure(scell.gen_random(concentration))"
   ]
  },
  {
   "cell_type": "code",
   "execution_count": null,
   "metadata": {
    "ExecuteTime": {
     "end_time": "2021-08-12T03:16:55.180798Z",
     "start_time": "2021-08-12T03:16:55.147711Z"
    }
   },
   "outputs": [],
   "source": [
    "corrmat = corrcal.get_correlation_matrix(sset)"
   ]
  },
  {
   "cell_type": "code",
   "execution_count": null,
   "metadata": {
    "ExecuteTime": {
     "end_time": "2021-08-12T03:16:55.601350Z",
     "start_time": "2021-08-12T03:16:55.585377Z"
    }
   },
   "outputs": [],
   "source": [
    "cpool.display_info()"
   ]
  },
  {
   "cell_type": "code",
   "execution_count": null,
   "metadata": {
    "ExecuteTime": {
     "end_time": "2021-08-12T03:21:36.598840Z",
     "start_time": "2021-08-12T03:21:36.587080Z"
    }
   },
   "outputs": [],
   "source": [
    "corrmat"
   ]
  },
  {
   "cell_type": "code",
   "execution_count": null,
   "metadata": {
    "ExecuteTime": {
     "end_time": "2021-08-12T03:28:11.510581Z",
     "start_time": "2021-08-12T03:28:11.493738Z"
    }
   },
   "outputs": [],
   "source": [
    "corrs, orbl, (corrs*orbl)/np.sum(corrs*orbl)"
   ]
  },
  {
   "cell_type": "code",
   "execution_count": null,
   "metadata": {
    "ExecuteTime": {
     "end_time": "2021-08-12T03:28:16.456114Z",
     "start_time": "2021-08-12T03:28:16.425169Z"
    }
   },
   "outputs": [],
   "source": [
    "corrs, orbl, (corrs*orbl)/np.sum(corrs*orbl)"
   ]
  },
  {
   "cell_type": "code",
   "execution_count": null,
   "metadata": {
    "ExecuteTime": {
     "end_time": "2021-08-12T03:26:47.419229Z",
     "start_time": "2021-08-12T03:26:47.400489Z"
    }
   },
   "outputs": [],
   "source": []
  },
  {
   "cell_type": "code",
   "execution_count": null,
   "metadata": {},
   "outputs": [],
   "source": []
  },
  {
   "cell_type": "code",
   "execution_count": null,
   "metadata": {},
   "outputs": [],
   "source": []
  },
  {
   "cell_type": "code",
   "execution_count": null,
   "metadata": {
    "ExecuteTime": {
     "end_time": "2021-08-09T20:19:16.162362Z",
     "start_time": "2021-08-09T20:18:23.457254Z"
    }
   },
   "outputs": [],
   "source": [
    "mb = ModelBuilder(selector_type=\"linreg\",selector_opts={'clusters_sets':'size'},estimator_type=\"skl_Lars\",estimator_opts={\"fit_intercept\":False})\n",
    "cemodel1 = mb.build(sset, cpool, \"total_energy_emt\") #Build CE model using the training data set\n",
    "cpool_opt1 = mb.get_opt_cpool()"
   ]
  },
  {
   "cell_type": "code",
   "execution_count": null,
   "metadata": {
    "ExecuteTime": {
     "end_time": "2021-08-09T20:09:43.349216Z",
     "start_time": "2021-08-09T20:09:43.327173Z"
    }
   },
   "outputs": [],
   "source": [
    "cpool_opt1.display_info()"
   ]
  },
  {
   "cell_type": "code",
   "execution_count": null,
   "metadata": {
    "ExecuteTime": {
     "end_time": "2021-08-09T20:19:35.070188Z",
     "start_time": "2021-08-09T20:19:30.936125Z"
    }
   },
   "outputs": [],
   "source": [
    "cemodel1.report_errors(sset)\n",
    "cpool_opt1.display_info(ecis=cemodel1.get_ecis())\n",
    "cpool_opt1.write_clusters_db(db_name=\"cpool_opt.json\")"
   ]
  },
  {
   "cell_type": "code",
   "execution_count": null,
   "metadata": {
    "ExecuteTime": {
     "end_time": "2021-08-09T19:41:15.295270Z",
     "start_time": "2021-08-09T19:41:15.281022Z"
    }
   },
   "outputs": [],
   "source": [
    "corrmat.shape, energies.shape"
   ]
  },
  {
   "cell_type": "code",
   "execution_count": null,
   "metadata": {
    "ExecuteTime": {
     "end_time": "2021-08-09T19:43:23.256142Z",
     "start_time": "2021-08-09T19:43:23.243580Z"
    }
   },
   "outputs": [],
   "source": [
    "model = LinearRegression(fit_intercept=False)\n",
    "eci_mine = model.fit(corrmat,energies)"
   ]
  },
  {
   "cell_type": "code",
   "execution_count": null,
   "metadata": {
    "ExecuteTime": {
     "end_time": "2021-08-09T19:43:24.081562Z",
     "start_time": "2021-08-09T19:43:24.067934Z"
    }
   },
   "outputs": [],
   "source": [
    "eci_mine.coef_"
   ]
  },
  {
   "cell_type": "code",
   "execution_count": null,
   "metadata": {
    "ExecuteTime": {
     "end_time": "2021-08-09T19:41:40.676181Z",
     "start_time": "2021-08-09T19:41:40.652815Z"
    }
   },
   "outputs": [],
   "source": [
    "r_sq = model.score(corrmat,energies)"
   ]
  },
  {
   "cell_type": "code",
   "execution_count": null,
   "metadata": {
    "ExecuteTime": {
     "end_time": "2021-08-09T19:41:45.110452Z",
     "start_time": "2021-08-09T19:41:45.091820Z"
    }
   },
   "outputs": [],
   "source": [
    "r_sq"
   ]
  },
  {
   "cell_type": "code",
   "execution_count": null,
   "metadata": {
    "ExecuteTime": {
     "end_time": "2021-08-09T19:42:32.168011Z",
     "start_time": "2021-08-09T19:42:32.142963Z"
    }
   },
   "outputs": [],
   "source": [
    "cpool_opt1.display_info()"
   ]
  },
  {
   "cell_type": "code",
   "execution_count": null,
   "metadata": {},
   "outputs": [],
   "source": []
  }
 ],
 "metadata": {
  "kernelspec": {
   "display_name": "Python 3",
   "language": "python",
   "name": "python3"
  },
  "language_info": {
   "codemirror_mode": {
    "name": "ipython",
    "version": 3
   },
   "file_extension": ".py",
   "mimetype": "text/x-python",
   "name": "python",
   "nbconvert_exporter": "python",
   "pygments_lexer": "ipython3",
   "version": "3.8.10"
  },
  "toc": {
   "base_numbering": 1,
   "nav_menu": {},
   "number_sections": true,
   "sideBar": true,
   "skip_h1_title": false,
   "title_cell": "Table of Contents",
   "title_sidebar": "Contents",
   "toc_cell": false,
   "toc_position": {},
   "toc_section_display": true,
   "toc_window_display": false
  },
  "varInspector": {
   "cols": {
    "lenName": 16,
    "lenType": 16,
    "lenVar": 40
   },
   "kernels_config": {
    "python": {
     "delete_cmd_postfix": "",
     "delete_cmd_prefix": "del ",
     "library": "var_list.py",
     "varRefreshCmd": "print(var_dic_list())"
    },
    "r": {
     "delete_cmd_postfix": ") ",
     "delete_cmd_prefix": "rm(",
     "library": "var_list.r",
     "varRefreshCmd": "cat(var_dic_list()) "
    }
   },
   "types_to_exclude": [
    "module",
    "function",
    "builtin_function_or_method",
    "instance",
    "_Feature"
   ],
   "window_display": false
  }
 },
 "nbformat": 4,
 "nbformat_minor": 4
}
