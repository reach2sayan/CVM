{
 "cells": [
  {
   "cell_type": "markdown",
   "metadata": {},
   "source": [
    "# Imports"
   ]
  },
  {
   "cell_type": "code",
   "execution_count": 2,
   "metadata": {
    "ExecuteTime": {
     "end_time": "2021-10-18T18:46:29.255630Z",
     "start_time": "2021-10-18T18:46:27.263531Z"
    }
   },
   "outputs": [],
   "source": [
    "import pandas as pd\n",
    "import numpy as np\n",
    "import matplotlib.pyplot as plt\n",
    "import plotly.graph_objects as go\n",
    "import plotly.express as px\n",
    "from mpl_toolkits.mplot3d import Axes3D\n",
    "import plotly.figure_factory as ff\n",
    "import ast\n",
    "\n",
    "np.set_printoptions(suppress=True,precision=6)"
   ]
  },
  {
   "cell_type": "markdown",
   "metadata": {},
   "source": [
    "# Fixed 1-point correlation"
   ]
  },
  {
   "cell_type": "code",
   "execution_count": 39,
   "metadata": {
    "ExecuteTime": {
     "end_time": "2021-10-19T03:57:12.113223Z",
     "start_time": "2021-10-19T03:57:12.097165Z"
    }
   },
   "outputs": [],
   "source": [
    "results = pd.read_pickle('results/uni_0.01_500x=0only.pickle')\n",
    "results_name = '0.01,0.00'\n",
    "results_comp = pd.read_pickle('results/uni_0.01,0.005_500.pickle')\n",
    "results_comp_name = '0.01,0.005'\n",
    "results_comp2 = pd.read_pickle('results/uni_0.01,-0.01_500.pickle')\n",
    "results_comp2_name = '0.01,-0.01'\n",
    "\n",
    "cmp_mode = True"
   ]
  },
  {
   "cell_type": "code",
   "execution_count": 9,
   "metadata": {
    "ExecuteTime": {
     "end_time": "2021-10-13T17:03:39.297048Z",
     "start_time": "2021-10-13T17:03:39.109924Z"
    }
   },
   "outputs": [
    {
     "data": {
      "application/vnd.plotly.v1+json": {
       "config": {
        "plotlyServerURL": "https://plot.ly"
       },
       "data": [
        {
         "mode": "markers+lines",
         "name": "T = 0.0: ECI = -0.01",
         "type": "scatter",
         "x": [
          0
         ],
         "y": [
          -0.03940760723149749
         ]
        },
        {
         "mode": "markers+lines",
         "name": "T = 25.0: ECI = -0.01",
         "type": "scatter",
         "x": [
          0
         ],
         "y": [
          -0.04141132607185933
         ]
        },
        {
         "mode": "markers+lines",
         "name": "T = 50.0: ECI = -0.01",
         "type": "scatter",
         "x": [
          0
         ],
         "y": [
          -0.042989091041527754
         ]
        },
        {
         "mode": "markers+lines",
         "name": "T = 75.0: ECI = -0.01",
         "type": "scatter",
         "x": [
          0
         ],
         "y": [
          -0.04472829416701948
         ]
        },
        {
         "mode": "markers+lines",
         "name": "T = 100.0: ECI = -0.01",
         "type": "scatter",
         "x": [
          0
         ],
         "y": [
          -0.04697401394569649
         ]
        },
        {
         "mode": "markers+lines",
         "name": "T = 125.0: ECI = -0.01",
         "type": "scatter",
         "x": [
          0
         ],
         "y": [
          -0.049867036783589586
         ]
        },
        {
         "mode": "markers+lines",
         "name": "T = 150.0: ECI = -0.01",
         "type": "scatter",
         "x": [
          0
         ],
         "y": [
          -0.05335455150972396
         ]
        },
        {
         "mode": "markers+lines",
         "name": "T = 175.0: ECI = -0.01",
         "type": "scatter",
         "x": [
          0
         ],
         "y": [
          -0.05581676418120319
         ]
        },
        {
         "mode": "markers+lines",
         "name": "T = 200.0: ECI = -0.01",
         "type": "scatter",
         "x": [
          0
         ],
         "y": [
          -0.06083580037012602
         ]
        },
        {
         "mode": "markers+lines",
         "name": "T = 225.0: ECI = -0.01",
         "type": "scatter",
         "x": [
          0
         ],
         "y": [
          -0.06608833635089474
         ]
        },
        {
         "mode": "markers+lines",
         "name": "T = 250.0: ECI = -0.01",
         "type": "scatter",
         "x": [
          0
         ],
         "y": [
          -0.0711799486630228
         ]
        },
        {
         "mode": "markers+lines",
         "name": "T = 275.0: ECI = -0.01",
         "type": "scatter",
         "x": [
          0
         ],
         "y": [
          -0.07621893789065397
         ]
        },
        {
         "mode": "markers+lines",
         "name": "T = 300.0: ECI = -0.01",
         "type": "scatter",
         "x": [
          0
         ],
         "y": [
          -0.08139562279520483
         ]
        },
        {
         "mode": "markers+lines",
         "name": "T = 325.0: ECI = -0.01",
         "type": "scatter",
         "x": [
          0
         ],
         "y": [
          -0.08668156848382687
         ]
        },
        {
         "mode": "markers+lines",
         "name": "T = 350.0: ECI = -0.01",
         "type": "scatter",
         "x": [
          0
         ],
         "y": [
          -0.09205778520021111
         ]
        },
        {
         "mode": "markers+lines",
         "name": "T = 375.0: ECI = -0.01",
         "type": "scatter",
         "x": [
          0
         ],
         "y": [
          -0.0975067804245512
         ]
        },
        {
         "mode": "markers+lines",
         "name": "T = 400.0: ECI = -0.01",
         "type": "scatter",
         "x": [
          0
         ],
         "y": [
          -0.10301617373391438
         ]
        },
        {
         "mode": "markers+lines",
         "name": "T = 425.0: ECI = -0.01",
         "type": "scatter",
         "x": [
          0
         ],
         "y": [
          -0.10857616104718253
         ]
        },
        {
         "mode": "markers+lines",
         "name": "T = 450.0: ECI = -0.01",
         "type": "scatter",
         "x": [
          0
         ],
         "y": [
          -0.11417903721047443
         ]
        },
        {
         "mode": "markers+lines",
         "name": "T = 475.0: ECI = -0.01",
         "type": "scatter",
         "x": [
          0
         ],
         "y": [
          -0.1198185064228899
         ]
        },
        {
         "mode": "markers+lines",
         "name": "T = 500.0: ECI = -0.01",
         "type": "scatter",
         "x": [
          0
         ],
         "y": [
          -0.12548940467733616
         ]
        },
        {
         "mode": "markers+lines",
         "name": "T = 0.0: ECI = -0.02",
         "type": "scatter",
         "x": [
          0
         ],
         "y": [
          -0.0685266705191796
         ]
        },
        {
         "mode": "markers+lines",
         "name": "T = 20.0: ECI = -0.02",
         "type": "scatter",
         "x": [
          0
         ],
         "y": [
          -0.06918759582475995
         ]
        },
        {
         "mode": "markers+lines",
         "name": "T = 40.0: ECI = -0.02",
         "type": "scatter",
         "x": [
          0
         ],
         "y": [
          -0.0722718117034081
         ]
        },
        {
         "mode": "markers+lines",
         "name": "T = 60.0: ECI = -0.02",
         "type": "scatter",
         "x": [
          0
         ],
         "y": [
          -0.07317276216175937
         ]
        },
        {
         "mode": "markers+lines",
         "name": "T = 80.0: ECI = -0.02",
         "type": "scatter",
         "x": [
          0
         ],
         "y": [
          -0.0746547141493972
         ]
        },
        {
         "mode": "markers+lines",
         "name": "T = 100.0: ECI = -0.02",
         "type": "scatter",
         "x": [
          0
         ],
         "y": [
          -0.07599935407826063
         ]
        },
        {
         "mode": "markers+lines",
         "name": "T = 120.0: ECI = -0.02",
         "type": "scatter",
         "x": [
          0
         ],
         "y": [
          -0.07730447792584831
         ]
        },
        {
         "mode": "markers+lines",
         "name": "T = 140.0: ECI = -0.02",
         "type": "scatter",
         "x": [
          0
         ],
         "y": [
          -0.078727089350606
         ]
        },
        {
         "mode": "markers+lines",
         "name": "T = 160.0: ECI = -0.02",
         "type": "scatter",
         "x": [
          0
         ],
         "y": [
          -0.08031334805699401
         ]
        },
        {
         "mode": "markers+lines",
         "name": "T = 180.0: ECI = -0.02",
         "type": "scatter",
         "x": [
          0
         ],
         "y": [
          -0.08209848106466572
         ]
        },
        {
         "mode": "markers+lines",
         "name": "T = 200.0: ECI = -0.02",
         "type": "scatter",
         "x": [
          0
         ],
         "y": [
          -0.08410280835224149
         ]
        },
        {
         "mode": "markers+lines",
         "name": "T = 220.0: ECI = -0.02",
         "type": "scatter",
         "x": [
          0
         ],
         "y": [
          -0.08633116601348784
         ]
        },
        {
         "mode": "markers+lines",
         "name": "T = 240.0: ECI = -0.02",
         "type": "scatter",
         "x": [
          0
         ],
         "y": [
          -0.08878007622007665
         ]
        },
        {
         "mode": "markers+lines",
         "name": "T = 260.0: ECI = -0.02",
         "type": "scatter",
         "x": [
          0
         ],
         "y": [
          -0.09143905933934529
         ]
        },
        {
         "mode": "markers+lines",
         "name": "T = 280.0: ECI = -0.02",
         "type": "scatter",
         "x": [
          0
         ],
         "y": [
          -0.09429377920094317
         ]
        },
        {
         "mode": "markers+lines",
         "name": "T = 300.0: ECI = -0.02",
         "type": "scatter",
         "x": [
          0
         ],
         "y": [
          -0.09732808208404804
         ]
        },
        {
         "mode": "markers+lines",
         "name": "T = 320.0: ECI = -0.02",
         "type": "scatter",
         "x": [
          0
         ],
         "y": [
          -0.10052539277093214
         ]
        },
        {
         "mode": "markers+lines",
         "name": "T = 340.0: ECI = -0.02",
         "type": "scatter",
         "x": [
          0
         ],
         "y": [
          -0.1036040738100707
         ]
        },
        {
         "mode": "markers+lines",
         "name": "T = 360.0: ECI = -0.02",
         "type": "scatter",
         "x": [
          0
         ],
         "y": [
          -0.10723446624229394
         ]
        },
        {
         "mode": "markers+lines",
         "name": "T = 380.0: ECI = -0.02",
         "type": "scatter",
         "x": [
          0
         ],
         "y": [
          -0.10961410510423182
         ]
        },
        {
         "mode": "markers+lines",
         "name": "T = 400.0: ECI = -0.02",
         "type": "scatter",
         "x": [
          0
         ],
         "y": [
          -0.11358573391592948
         ]
        }
       ],
       "layout": {
        "legend": {
         "title": {
          "text": "Temperature"
         }
        },
        "template": {
         "data": {
          "bar": [
           {
            "error_x": {
             "color": "rgb(36,36,36)"
            },
            "error_y": {
             "color": "rgb(36,36,36)"
            },
            "marker": {
             "line": {
              "color": "rgb(234,234,242)",
              "width": 0.5
             },
             "pattern": {
              "fillmode": "overlay",
              "size": 10,
              "solidity": 0.2
             }
            },
            "type": "bar"
           }
          ],
          "barpolar": [
           {
            "marker": {
             "line": {
              "color": "rgb(234,234,242)",
              "width": 0.5
             },
             "pattern": {
              "fillmode": "overlay",
              "size": 10,
              "solidity": 0.2
             }
            },
            "type": "barpolar"
           }
          ],
          "carpet": [
           {
            "aaxis": {
             "endlinecolor": "rgb(36,36,36)",
             "gridcolor": "white",
             "linecolor": "white",
             "minorgridcolor": "white",
             "startlinecolor": "rgb(36,36,36)"
            },
            "baxis": {
             "endlinecolor": "rgb(36,36,36)",
             "gridcolor": "white",
             "linecolor": "white",
             "minorgridcolor": "white",
             "startlinecolor": "rgb(36,36,36)"
            },
            "type": "carpet"
           }
          ],
          "choropleth": [
           {
            "colorbar": {
             "outlinewidth": 0,
             "tickcolor": "rgb(36,36,36)",
             "ticklen": 8,
             "ticks": "outside",
             "tickwidth": 2
            },
            "type": "choropleth"
           }
          ],
          "contour": [
           {
            "colorbar": {
             "outlinewidth": 0,
             "tickcolor": "rgb(36,36,36)",
             "ticklen": 8,
             "ticks": "outside",
             "tickwidth": 2
            },
            "colorscale": [
             [
              0,
              "rgb(2,4,25)"
             ],
             [
              0.06274509803921569,
              "rgb(24,15,41)"
             ],
             [
              0.12549019607843137,
              "rgb(47,23,57)"
             ],
             [
              0.18823529411764706,
              "rgb(71,28,72)"
             ],
             [
              0.25098039215686274,
              "rgb(97,30,82)"
             ],
             [
              0.3137254901960784,
              "rgb(123,30,89)"
             ],
             [
              0.3764705882352941,
              "rgb(150,27,91)"
             ],
             [
              0.4392156862745098,
              "rgb(177,22,88)"
             ],
             [
              0.5019607843137255,
              "rgb(203,26,79)"
             ],
             [
              0.5647058823529412,
              "rgb(223,47,67)"
             ],
             [
              0.6274509803921569,
              "rgb(236,76,61)"
             ],
             [
              0.6901960784313725,
              "rgb(242,107,73)"
             ],
             [
              0.7529411764705882,
              "rgb(244,135,95)"
             ],
             [
              0.8156862745098039,
              "rgb(245,162,122)"
             ],
             [
              0.8784313725490196,
              "rgb(246,188,153)"
             ],
             [
              0.9411764705882353,
              "rgb(247,212,187)"
             ],
             [
              1,
              "rgb(250,234,220)"
             ]
            ],
            "type": "contour"
           }
          ],
          "contourcarpet": [
           {
            "colorbar": {
             "outlinewidth": 0,
             "tickcolor": "rgb(36,36,36)",
             "ticklen": 8,
             "ticks": "outside",
             "tickwidth": 2
            },
            "type": "contourcarpet"
           }
          ],
          "heatmap": [
           {
            "colorbar": {
             "outlinewidth": 0,
             "tickcolor": "rgb(36,36,36)",
             "ticklen": 8,
             "ticks": "outside",
             "tickwidth": 2
            },
            "colorscale": [
             [
              0,
              "rgb(2,4,25)"
             ],
             [
              0.06274509803921569,
              "rgb(24,15,41)"
             ],
             [
              0.12549019607843137,
              "rgb(47,23,57)"
             ],
             [
              0.18823529411764706,
              "rgb(71,28,72)"
             ],
             [
              0.25098039215686274,
              "rgb(97,30,82)"
             ],
             [
              0.3137254901960784,
              "rgb(123,30,89)"
             ],
             [
              0.3764705882352941,
              "rgb(150,27,91)"
             ],
             [
              0.4392156862745098,
              "rgb(177,22,88)"
             ],
             [
              0.5019607843137255,
              "rgb(203,26,79)"
             ],
             [
              0.5647058823529412,
              "rgb(223,47,67)"
             ],
             [
              0.6274509803921569,
              "rgb(236,76,61)"
             ],
             [
              0.6901960784313725,
              "rgb(242,107,73)"
             ],
             [
              0.7529411764705882,
              "rgb(244,135,95)"
             ],
             [
              0.8156862745098039,
              "rgb(245,162,122)"
             ],
             [
              0.8784313725490196,
              "rgb(246,188,153)"
             ],
             [
              0.9411764705882353,
              "rgb(247,212,187)"
             ],
             [
              1,
              "rgb(250,234,220)"
             ]
            ],
            "type": "heatmap"
           }
          ],
          "heatmapgl": [
           {
            "colorbar": {
             "outlinewidth": 0,
             "tickcolor": "rgb(36,36,36)",
             "ticklen": 8,
             "ticks": "outside",
             "tickwidth": 2
            },
            "colorscale": [
             [
              0,
              "rgb(2,4,25)"
             ],
             [
              0.06274509803921569,
              "rgb(24,15,41)"
             ],
             [
              0.12549019607843137,
              "rgb(47,23,57)"
             ],
             [
              0.18823529411764706,
              "rgb(71,28,72)"
             ],
             [
              0.25098039215686274,
              "rgb(97,30,82)"
             ],
             [
              0.3137254901960784,
              "rgb(123,30,89)"
             ],
             [
              0.3764705882352941,
              "rgb(150,27,91)"
             ],
             [
              0.4392156862745098,
              "rgb(177,22,88)"
             ],
             [
              0.5019607843137255,
              "rgb(203,26,79)"
             ],
             [
              0.5647058823529412,
              "rgb(223,47,67)"
             ],
             [
              0.6274509803921569,
              "rgb(236,76,61)"
             ],
             [
              0.6901960784313725,
              "rgb(242,107,73)"
             ],
             [
              0.7529411764705882,
              "rgb(244,135,95)"
             ],
             [
              0.8156862745098039,
              "rgb(245,162,122)"
             ],
             [
              0.8784313725490196,
              "rgb(246,188,153)"
             ],
             [
              0.9411764705882353,
              "rgb(247,212,187)"
             ],
             [
              1,
              "rgb(250,234,220)"
             ]
            ],
            "type": "heatmapgl"
           }
          ],
          "histogram": [
           {
            "marker": {
             "pattern": {
              "fillmode": "overlay",
              "size": 10,
              "solidity": 0.2
             }
            },
            "type": "histogram"
           }
          ],
          "histogram2d": [
           {
            "colorbar": {
             "outlinewidth": 0,
             "tickcolor": "rgb(36,36,36)",
             "ticklen": 8,
             "ticks": "outside",
             "tickwidth": 2
            },
            "colorscale": [
             [
              0,
              "rgb(2,4,25)"
             ],
             [
              0.06274509803921569,
              "rgb(24,15,41)"
             ],
             [
              0.12549019607843137,
              "rgb(47,23,57)"
             ],
             [
              0.18823529411764706,
              "rgb(71,28,72)"
             ],
             [
              0.25098039215686274,
              "rgb(97,30,82)"
             ],
             [
              0.3137254901960784,
              "rgb(123,30,89)"
             ],
             [
              0.3764705882352941,
              "rgb(150,27,91)"
             ],
             [
              0.4392156862745098,
              "rgb(177,22,88)"
             ],
             [
              0.5019607843137255,
              "rgb(203,26,79)"
             ],
             [
              0.5647058823529412,
              "rgb(223,47,67)"
             ],
             [
              0.6274509803921569,
              "rgb(236,76,61)"
             ],
             [
              0.6901960784313725,
              "rgb(242,107,73)"
             ],
             [
              0.7529411764705882,
              "rgb(244,135,95)"
             ],
             [
              0.8156862745098039,
              "rgb(245,162,122)"
             ],
             [
              0.8784313725490196,
              "rgb(246,188,153)"
             ],
             [
              0.9411764705882353,
              "rgb(247,212,187)"
             ],
             [
              1,
              "rgb(250,234,220)"
             ]
            ],
            "type": "histogram2d"
           }
          ],
          "histogram2dcontour": [
           {
            "colorbar": {
             "outlinewidth": 0,
             "tickcolor": "rgb(36,36,36)",
             "ticklen": 8,
             "ticks": "outside",
             "tickwidth": 2
            },
            "colorscale": [
             [
              0,
              "rgb(2,4,25)"
             ],
             [
              0.06274509803921569,
              "rgb(24,15,41)"
             ],
             [
              0.12549019607843137,
              "rgb(47,23,57)"
             ],
             [
              0.18823529411764706,
              "rgb(71,28,72)"
             ],
             [
              0.25098039215686274,
              "rgb(97,30,82)"
             ],
             [
              0.3137254901960784,
              "rgb(123,30,89)"
             ],
             [
              0.3764705882352941,
              "rgb(150,27,91)"
             ],
             [
              0.4392156862745098,
              "rgb(177,22,88)"
             ],
             [
              0.5019607843137255,
              "rgb(203,26,79)"
             ],
             [
              0.5647058823529412,
              "rgb(223,47,67)"
             ],
             [
              0.6274509803921569,
              "rgb(236,76,61)"
             ],
             [
              0.6901960784313725,
              "rgb(242,107,73)"
             ],
             [
              0.7529411764705882,
              "rgb(244,135,95)"
             ],
             [
              0.8156862745098039,
              "rgb(245,162,122)"
             ],
             [
              0.8784313725490196,
              "rgb(246,188,153)"
             ],
             [
              0.9411764705882353,
              "rgb(247,212,187)"
             ],
             [
              1,
              "rgb(250,234,220)"
             ]
            ],
            "type": "histogram2dcontour"
           }
          ],
          "mesh3d": [
           {
            "colorbar": {
             "outlinewidth": 0,
             "tickcolor": "rgb(36,36,36)",
             "ticklen": 8,
             "ticks": "outside",
             "tickwidth": 2
            },
            "type": "mesh3d"
           }
          ],
          "parcoords": [
           {
            "line": {
             "colorbar": {
              "outlinewidth": 0,
              "tickcolor": "rgb(36,36,36)",
              "ticklen": 8,
              "ticks": "outside",
              "tickwidth": 2
             }
            },
            "type": "parcoords"
           }
          ],
          "pie": [
           {
            "automargin": true,
            "type": "pie"
           }
          ],
          "scatter": [
           {
            "marker": {
             "colorbar": {
              "outlinewidth": 0,
              "tickcolor": "rgb(36,36,36)",
              "ticklen": 8,
              "ticks": "outside",
              "tickwidth": 2
             }
            },
            "type": "scatter"
           }
          ],
          "scatter3d": [
           {
            "line": {
             "colorbar": {
              "outlinewidth": 0,
              "tickcolor": "rgb(36,36,36)",
              "ticklen": 8,
              "ticks": "outside",
              "tickwidth": 2
             }
            },
            "marker": {
             "colorbar": {
              "outlinewidth": 0,
              "tickcolor": "rgb(36,36,36)",
              "ticklen": 8,
              "ticks": "outside",
              "tickwidth": 2
             }
            },
            "type": "scatter3d"
           }
          ],
          "scattercarpet": [
           {
            "marker": {
             "colorbar": {
              "outlinewidth": 0,
              "tickcolor": "rgb(36,36,36)",
              "ticklen": 8,
              "ticks": "outside",
              "tickwidth": 2
             }
            },
            "type": "scattercarpet"
           }
          ],
          "scattergeo": [
           {
            "marker": {
             "colorbar": {
              "outlinewidth": 0,
              "tickcolor": "rgb(36,36,36)",
              "ticklen": 8,
              "ticks": "outside",
              "tickwidth": 2
             }
            },
            "type": "scattergeo"
           }
          ],
          "scattergl": [
           {
            "marker": {
             "colorbar": {
              "outlinewidth": 0,
              "tickcolor": "rgb(36,36,36)",
              "ticklen": 8,
              "ticks": "outside",
              "tickwidth": 2
             }
            },
            "type": "scattergl"
           }
          ],
          "scattermapbox": [
           {
            "marker": {
             "colorbar": {
              "outlinewidth": 0,
              "tickcolor": "rgb(36,36,36)",
              "ticklen": 8,
              "ticks": "outside",
              "tickwidth": 2
             }
            },
            "type": "scattermapbox"
           }
          ],
          "scatterpolar": [
           {
            "marker": {
             "colorbar": {
              "outlinewidth": 0,
              "tickcolor": "rgb(36,36,36)",
              "ticklen": 8,
              "ticks": "outside",
              "tickwidth": 2
             }
            },
            "type": "scatterpolar"
           }
          ],
          "scatterpolargl": [
           {
            "marker": {
             "colorbar": {
              "outlinewidth": 0,
              "tickcolor": "rgb(36,36,36)",
              "ticklen": 8,
              "ticks": "outside",
              "tickwidth": 2
             }
            },
            "type": "scatterpolargl"
           }
          ],
          "scatterternary": [
           {
            "marker": {
             "colorbar": {
              "outlinewidth": 0,
              "tickcolor": "rgb(36,36,36)",
              "ticklen": 8,
              "ticks": "outside",
              "tickwidth": 2
             }
            },
            "type": "scatterternary"
           }
          ],
          "surface": [
           {
            "colorbar": {
             "outlinewidth": 0,
             "tickcolor": "rgb(36,36,36)",
             "ticklen": 8,
             "ticks": "outside",
             "tickwidth": 2
            },
            "colorscale": [
             [
              0,
              "rgb(2,4,25)"
             ],
             [
              0.06274509803921569,
              "rgb(24,15,41)"
             ],
             [
              0.12549019607843137,
              "rgb(47,23,57)"
             ],
             [
              0.18823529411764706,
              "rgb(71,28,72)"
             ],
             [
              0.25098039215686274,
              "rgb(97,30,82)"
             ],
             [
              0.3137254901960784,
              "rgb(123,30,89)"
             ],
             [
              0.3764705882352941,
              "rgb(150,27,91)"
             ],
             [
              0.4392156862745098,
              "rgb(177,22,88)"
             ],
             [
              0.5019607843137255,
              "rgb(203,26,79)"
             ],
             [
              0.5647058823529412,
              "rgb(223,47,67)"
             ],
             [
              0.6274509803921569,
              "rgb(236,76,61)"
             ],
             [
              0.6901960784313725,
              "rgb(242,107,73)"
             ],
             [
              0.7529411764705882,
              "rgb(244,135,95)"
             ],
             [
              0.8156862745098039,
              "rgb(245,162,122)"
             ],
             [
              0.8784313725490196,
              "rgb(246,188,153)"
             ],
             [
              0.9411764705882353,
              "rgb(247,212,187)"
             ],
             [
              1,
              "rgb(250,234,220)"
             ]
            ],
            "type": "surface"
           }
          ],
          "table": [
           {
            "cells": {
             "fill": {
              "color": "rgb(231,231,240)"
             },
             "line": {
              "color": "white"
             }
            },
            "header": {
             "fill": {
              "color": "rgb(183,183,191)"
             },
             "line": {
              "color": "white"
             }
            },
            "type": "table"
           }
          ]
         },
         "layout": {
          "annotationdefaults": {
           "arrowcolor": "rgb(67,103,167)"
          },
          "autotypenumbers": "strict",
          "coloraxis": {
           "colorbar": {
            "outlinewidth": 0,
            "tickcolor": "rgb(36,36,36)",
            "ticklen": 8,
            "ticks": "outside",
            "tickwidth": 2
           }
          },
          "colorscale": {
           "sequential": [
            [
             0,
             "rgb(2,4,25)"
            ],
            [
             0.06274509803921569,
             "rgb(24,15,41)"
            ],
            [
             0.12549019607843137,
             "rgb(47,23,57)"
            ],
            [
             0.18823529411764706,
             "rgb(71,28,72)"
            ],
            [
             0.25098039215686274,
             "rgb(97,30,82)"
            ],
            [
             0.3137254901960784,
             "rgb(123,30,89)"
            ],
            [
             0.3764705882352941,
             "rgb(150,27,91)"
            ],
            [
             0.4392156862745098,
             "rgb(177,22,88)"
            ],
            [
             0.5019607843137255,
             "rgb(203,26,79)"
            ],
            [
             0.5647058823529412,
             "rgb(223,47,67)"
            ],
            [
             0.6274509803921569,
             "rgb(236,76,61)"
            ],
            [
             0.6901960784313725,
             "rgb(242,107,73)"
            ],
            [
             0.7529411764705882,
             "rgb(244,135,95)"
            ],
            [
             0.8156862745098039,
             "rgb(245,162,122)"
            ],
            [
             0.8784313725490196,
             "rgb(246,188,153)"
            ],
            [
             0.9411764705882353,
             "rgb(247,212,187)"
            ],
            [
             1,
             "rgb(250,234,220)"
            ]
           ],
           "sequentialminus": [
            [
             0,
             "rgb(2,4,25)"
            ],
            [
             0.06274509803921569,
             "rgb(24,15,41)"
            ],
            [
             0.12549019607843137,
             "rgb(47,23,57)"
            ],
            [
             0.18823529411764706,
             "rgb(71,28,72)"
            ],
            [
             0.25098039215686274,
             "rgb(97,30,82)"
            ],
            [
             0.3137254901960784,
             "rgb(123,30,89)"
            ],
            [
             0.3764705882352941,
             "rgb(150,27,91)"
            ],
            [
             0.4392156862745098,
             "rgb(177,22,88)"
            ],
            [
             0.5019607843137255,
             "rgb(203,26,79)"
            ],
            [
             0.5647058823529412,
             "rgb(223,47,67)"
            ],
            [
             0.6274509803921569,
             "rgb(236,76,61)"
            ],
            [
             0.6901960784313725,
             "rgb(242,107,73)"
            ],
            [
             0.7529411764705882,
             "rgb(244,135,95)"
            ],
            [
             0.8156862745098039,
             "rgb(245,162,122)"
            ],
            [
             0.8784313725490196,
             "rgb(246,188,153)"
            ],
            [
             0.9411764705882353,
             "rgb(247,212,187)"
            ],
            [
             1,
             "rgb(250,234,220)"
            ]
           ]
          },
          "colorway": [
           "rgb(76,114,176)",
           "rgb(221,132,82)",
           "rgb(85,168,104)",
           "rgb(196,78,82)",
           "rgb(129,114,179)",
           "rgb(147,120,96)",
           "rgb(218,139,195)",
           "rgb(140,140,140)",
           "rgb(204,185,116)",
           "rgb(100,181,205)"
          ],
          "font": {
           "color": "rgb(36,36,36)"
          },
          "geo": {
           "bgcolor": "white",
           "lakecolor": "white",
           "landcolor": "rgb(234,234,242)",
           "showlakes": true,
           "showland": true,
           "subunitcolor": "white"
          },
          "hoverlabel": {
           "align": "left"
          },
          "hovermode": "closest",
          "paper_bgcolor": "white",
          "plot_bgcolor": "rgb(234,234,242)",
          "polar": {
           "angularaxis": {
            "gridcolor": "white",
            "linecolor": "white",
            "showgrid": true,
            "ticks": ""
           },
           "bgcolor": "rgb(234,234,242)",
           "radialaxis": {
            "gridcolor": "white",
            "linecolor": "white",
            "showgrid": true,
            "ticks": ""
           }
          },
          "scene": {
           "xaxis": {
            "backgroundcolor": "rgb(234,234,242)",
            "gridcolor": "white",
            "gridwidth": 2,
            "linecolor": "white",
            "showbackground": true,
            "showgrid": true,
            "ticks": "",
            "zerolinecolor": "white"
           },
           "yaxis": {
            "backgroundcolor": "rgb(234,234,242)",
            "gridcolor": "white",
            "gridwidth": 2,
            "linecolor": "white",
            "showbackground": true,
            "showgrid": true,
            "ticks": "",
            "zerolinecolor": "white"
           },
           "zaxis": {
            "backgroundcolor": "rgb(234,234,242)",
            "gridcolor": "white",
            "gridwidth": 2,
            "linecolor": "white",
            "showbackground": true,
            "showgrid": true,
            "ticks": "",
            "zerolinecolor": "white"
           }
          },
          "shapedefaults": {
           "fillcolor": "rgb(67,103,167)",
           "line": {
            "width": 0
           },
           "opacity": 0.5
          },
          "ternary": {
           "aaxis": {
            "gridcolor": "white",
            "linecolor": "white",
            "showgrid": true,
            "ticks": ""
           },
           "baxis": {
            "gridcolor": "white",
            "linecolor": "white",
            "showgrid": true,
            "ticks": ""
           },
           "bgcolor": "rgb(234,234,242)",
           "caxis": {
            "gridcolor": "white",
            "linecolor": "white",
            "showgrid": true,
            "ticks": ""
           }
          },
          "xaxis": {
           "automargin": true,
           "gridcolor": "white",
           "linecolor": "white",
           "showgrid": true,
           "ticks": "",
           "title": {
            "standoff": 15
           },
           "zerolinecolor": "white"
          },
          "yaxis": {
           "automargin": true,
           "gridcolor": "white",
           "linecolor": "white",
           "showgrid": true,
           "ticks": "",
           "title": {
            "standoff": 15
           },
           "zerolinecolor": "white"
          }
         }
        },
        "title": {
         "text": "F vs 1-point Corr"
        },
        "xaxis": {
         "title": {
          "text": "1-point Corr"
         }
        },
        "yaxis": {
         "title": {
          "text": "F"
         }
        }
       }
      },
      "text/html": [
       "<div>                            <div id=\"6bf072bf-d90f-490a-b860-f583baf5598a\" class=\"plotly-graph-div\" style=\"height:525px; width:100%;\"></div>            <script type=\"text/javascript\">                require([\"plotly\"], function(Plotly) {                    window.PLOTLYENV=window.PLOTLYENV || {};                                    if (document.getElementById(\"6bf072bf-d90f-490a-b860-f583baf5598a\")) {                    Plotly.newPlot(                        \"6bf072bf-d90f-490a-b860-f583baf5598a\",                        [{\"mode\":\"markers+lines\",\"name\":\"T = 0.0: ECI = -0.01\",\"type\":\"scatter\",\"x\":[0],\"y\":[-0.03940760723149749]},{\"mode\":\"markers+lines\",\"name\":\"T = 25.0: ECI = -0.01\",\"type\":\"scatter\",\"x\":[0],\"y\":[-0.04141132607185933]},{\"mode\":\"markers+lines\",\"name\":\"T = 50.0: ECI = -0.01\",\"type\":\"scatter\",\"x\":[0],\"y\":[-0.042989091041527754]},{\"mode\":\"markers+lines\",\"name\":\"T = 75.0: ECI = -0.01\",\"type\":\"scatter\",\"x\":[0],\"y\":[-0.04472829416701948]},{\"mode\":\"markers+lines\",\"name\":\"T = 100.0: ECI = -0.01\",\"type\":\"scatter\",\"x\":[0],\"y\":[-0.04697401394569649]},{\"mode\":\"markers+lines\",\"name\":\"T = 125.0: ECI = -0.01\",\"type\":\"scatter\",\"x\":[0],\"y\":[-0.049867036783589586]},{\"mode\":\"markers+lines\",\"name\":\"T = 150.0: ECI = -0.01\",\"type\":\"scatter\",\"x\":[0],\"y\":[-0.05335455150972396]},{\"mode\":\"markers+lines\",\"name\":\"T = 175.0: ECI = -0.01\",\"type\":\"scatter\",\"x\":[0],\"y\":[-0.05581676418120319]},{\"mode\":\"markers+lines\",\"name\":\"T = 200.0: ECI = -0.01\",\"type\":\"scatter\",\"x\":[0],\"y\":[-0.06083580037012602]},{\"mode\":\"markers+lines\",\"name\":\"T = 225.0: ECI = -0.01\",\"type\":\"scatter\",\"x\":[0],\"y\":[-0.06608833635089474]},{\"mode\":\"markers+lines\",\"name\":\"T = 250.0: ECI = -0.01\",\"type\":\"scatter\",\"x\":[0],\"y\":[-0.0711799486630228]},{\"mode\":\"markers+lines\",\"name\":\"T = 275.0: ECI = -0.01\",\"type\":\"scatter\",\"x\":[0],\"y\":[-0.07621893789065397]},{\"mode\":\"markers+lines\",\"name\":\"T = 300.0: ECI = -0.01\",\"type\":\"scatter\",\"x\":[0],\"y\":[-0.08139562279520483]},{\"mode\":\"markers+lines\",\"name\":\"T = 325.0: ECI = -0.01\",\"type\":\"scatter\",\"x\":[0],\"y\":[-0.08668156848382687]},{\"mode\":\"markers+lines\",\"name\":\"T = 350.0: ECI = -0.01\",\"type\":\"scatter\",\"x\":[0],\"y\":[-0.09205778520021111]},{\"mode\":\"markers+lines\",\"name\":\"T = 375.0: ECI = -0.01\",\"type\":\"scatter\",\"x\":[0],\"y\":[-0.0975067804245512]},{\"mode\":\"markers+lines\",\"name\":\"T = 400.0: ECI = -0.01\",\"type\":\"scatter\",\"x\":[0],\"y\":[-0.10301617373391438]},{\"mode\":\"markers+lines\",\"name\":\"T = 425.0: ECI = -0.01\",\"type\":\"scatter\",\"x\":[0],\"y\":[-0.10857616104718253]},{\"mode\":\"markers+lines\",\"name\":\"T = 450.0: ECI = -0.01\",\"type\":\"scatter\",\"x\":[0],\"y\":[-0.11417903721047443]},{\"mode\":\"markers+lines\",\"name\":\"T = 475.0: ECI = -0.01\",\"type\":\"scatter\",\"x\":[0],\"y\":[-0.1198185064228899]},{\"mode\":\"markers+lines\",\"name\":\"T = 500.0: ECI = -0.01\",\"type\":\"scatter\",\"x\":[0],\"y\":[-0.12548940467733616]},{\"mode\":\"markers+lines\",\"name\":\"T = 0.0: ECI = -0.02\",\"type\":\"scatter\",\"x\":[0],\"y\":[-0.0685266705191796]},{\"mode\":\"markers+lines\",\"name\":\"T = 20.0: ECI = -0.02\",\"type\":\"scatter\",\"x\":[0],\"y\":[-0.06918759582475995]},{\"mode\":\"markers+lines\",\"name\":\"T = 40.0: ECI = -0.02\",\"type\":\"scatter\",\"x\":[0],\"y\":[-0.0722718117034081]},{\"mode\":\"markers+lines\",\"name\":\"T = 60.0: ECI = -0.02\",\"type\":\"scatter\",\"x\":[0],\"y\":[-0.07317276216175937]},{\"mode\":\"markers+lines\",\"name\":\"T = 80.0: ECI = -0.02\",\"type\":\"scatter\",\"x\":[0],\"y\":[-0.0746547141493972]},{\"mode\":\"markers+lines\",\"name\":\"T = 100.0: ECI = -0.02\",\"type\":\"scatter\",\"x\":[0],\"y\":[-0.07599935407826063]},{\"mode\":\"markers+lines\",\"name\":\"T = 120.0: ECI = -0.02\",\"type\":\"scatter\",\"x\":[0],\"y\":[-0.07730447792584831]},{\"mode\":\"markers+lines\",\"name\":\"T = 140.0: ECI = -0.02\",\"type\":\"scatter\",\"x\":[0],\"y\":[-0.078727089350606]},{\"mode\":\"markers+lines\",\"name\":\"T = 160.0: ECI = -0.02\",\"type\":\"scatter\",\"x\":[0],\"y\":[-0.08031334805699401]},{\"mode\":\"markers+lines\",\"name\":\"T = 180.0: ECI = -0.02\",\"type\":\"scatter\",\"x\":[0],\"y\":[-0.08209848106466572]},{\"mode\":\"markers+lines\",\"name\":\"T = 200.0: ECI = -0.02\",\"type\":\"scatter\",\"x\":[0],\"y\":[-0.08410280835224149]},{\"mode\":\"markers+lines\",\"name\":\"T = 220.0: ECI = -0.02\",\"type\":\"scatter\",\"x\":[0],\"y\":[-0.08633116601348784]},{\"mode\":\"markers+lines\",\"name\":\"T = 240.0: ECI = -0.02\",\"type\":\"scatter\",\"x\":[0],\"y\":[-0.08878007622007665]},{\"mode\":\"markers+lines\",\"name\":\"T = 260.0: ECI = -0.02\",\"type\":\"scatter\",\"x\":[0],\"y\":[-0.09143905933934529]},{\"mode\":\"markers+lines\",\"name\":\"T = 280.0: ECI = -0.02\",\"type\":\"scatter\",\"x\":[0],\"y\":[-0.09429377920094317]},{\"mode\":\"markers+lines\",\"name\":\"T = 300.0: ECI = -0.02\",\"type\":\"scatter\",\"x\":[0],\"y\":[-0.09732808208404804]},{\"mode\":\"markers+lines\",\"name\":\"T = 320.0: ECI = -0.02\",\"type\":\"scatter\",\"x\":[0],\"y\":[-0.10052539277093214]},{\"mode\":\"markers+lines\",\"name\":\"T = 340.0: ECI = -0.02\",\"type\":\"scatter\",\"x\":[0],\"y\":[-0.1036040738100707]},{\"mode\":\"markers+lines\",\"name\":\"T = 360.0: ECI = -0.02\",\"type\":\"scatter\",\"x\":[0],\"y\":[-0.10723446624229394]},{\"mode\":\"markers+lines\",\"name\":\"T = 380.0: ECI = -0.02\",\"type\":\"scatter\",\"x\":[0],\"y\":[-0.10961410510423182]},{\"mode\":\"markers+lines\",\"name\":\"T = 400.0: ECI = -0.02\",\"type\":\"scatter\",\"x\":[0],\"y\":[-0.11358573391592948]}],                        {\"legend\":{\"title\":{\"text\":\"Temperature\"}},\"template\":{\"data\":{\"bar\":[{\"error_x\":{\"color\":\"rgb(36,36,36)\"},\"error_y\":{\"color\":\"rgb(36,36,36)\"},\"marker\":{\"line\":{\"color\":\"rgb(234,234,242)\",\"width\":0.5},\"pattern\":{\"fillmode\":\"overlay\",\"size\":10,\"solidity\":0.2}},\"type\":\"bar\"}],\"barpolar\":[{\"marker\":{\"line\":{\"color\":\"rgb(234,234,242)\",\"width\":0.5},\"pattern\":{\"fillmode\":\"overlay\",\"size\":10,\"solidity\":0.2}},\"type\":\"barpolar\"}],\"carpet\":[{\"aaxis\":{\"endlinecolor\":\"rgb(36,36,36)\",\"gridcolor\":\"white\",\"linecolor\":\"white\",\"minorgridcolor\":\"white\",\"startlinecolor\":\"rgb(36,36,36)\"},\"baxis\":{\"endlinecolor\":\"rgb(36,36,36)\",\"gridcolor\":\"white\",\"linecolor\":\"white\",\"minorgridcolor\":\"white\",\"startlinecolor\":\"rgb(36,36,36)\"},\"type\":\"carpet\"}],\"choropleth\":[{\"colorbar\":{\"outlinewidth\":0,\"tickcolor\":\"rgb(36,36,36)\",\"ticklen\":8,\"ticks\":\"outside\",\"tickwidth\":2},\"type\":\"choropleth\"}],\"contour\":[{\"colorbar\":{\"outlinewidth\":0,\"tickcolor\":\"rgb(36,36,36)\",\"ticklen\":8,\"ticks\":\"outside\",\"tickwidth\":2},\"colorscale\":[[0.0,\"rgb(2,4,25)\"],[0.06274509803921569,\"rgb(24,15,41)\"],[0.12549019607843137,\"rgb(47,23,57)\"],[0.18823529411764706,\"rgb(71,28,72)\"],[0.25098039215686274,\"rgb(97,30,82)\"],[0.3137254901960784,\"rgb(123,30,89)\"],[0.3764705882352941,\"rgb(150,27,91)\"],[0.4392156862745098,\"rgb(177,22,88)\"],[0.5019607843137255,\"rgb(203,26,79)\"],[0.5647058823529412,\"rgb(223,47,67)\"],[0.6274509803921569,\"rgb(236,76,61)\"],[0.6901960784313725,\"rgb(242,107,73)\"],[0.7529411764705882,\"rgb(244,135,95)\"],[0.8156862745098039,\"rgb(245,162,122)\"],[0.8784313725490196,\"rgb(246,188,153)\"],[0.9411764705882353,\"rgb(247,212,187)\"],[1.0,\"rgb(250,234,220)\"]],\"type\":\"contour\"}],\"contourcarpet\":[{\"colorbar\":{\"outlinewidth\":0,\"tickcolor\":\"rgb(36,36,36)\",\"ticklen\":8,\"ticks\":\"outside\",\"tickwidth\":2},\"type\":\"contourcarpet\"}],\"heatmap\":[{\"colorbar\":{\"outlinewidth\":0,\"tickcolor\":\"rgb(36,36,36)\",\"ticklen\":8,\"ticks\":\"outside\",\"tickwidth\":2},\"colorscale\":[[0.0,\"rgb(2,4,25)\"],[0.06274509803921569,\"rgb(24,15,41)\"],[0.12549019607843137,\"rgb(47,23,57)\"],[0.18823529411764706,\"rgb(71,28,72)\"],[0.25098039215686274,\"rgb(97,30,82)\"],[0.3137254901960784,\"rgb(123,30,89)\"],[0.3764705882352941,\"rgb(150,27,91)\"],[0.4392156862745098,\"rgb(177,22,88)\"],[0.5019607843137255,\"rgb(203,26,79)\"],[0.5647058823529412,\"rgb(223,47,67)\"],[0.6274509803921569,\"rgb(236,76,61)\"],[0.6901960784313725,\"rgb(242,107,73)\"],[0.7529411764705882,\"rgb(244,135,95)\"],[0.8156862745098039,\"rgb(245,162,122)\"],[0.8784313725490196,\"rgb(246,188,153)\"],[0.9411764705882353,\"rgb(247,212,187)\"],[1.0,\"rgb(250,234,220)\"]],\"type\":\"heatmap\"}],\"heatmapgl\":[{\"colorbar\":{\"outlinewidth\":0,\"tickcolor\":\"rgb(36,36,36)\",\"ticklen\":8,\"ticks\":\"outside\",\"tickwidth\":2},\"colorscale\":[[0.0,\"rgb(2,4,25)\"],[0.06274509803921569,\"rgb(24,15,41)\"],[0.12549019607843137,\"rgb(47,23,57)\"],[0.18823529411764706,\"rgb(71,28,72)\"],[0.25098039215686274,\"rgb(97,30,82)\"],[0.3137254901960784,\"rgb(123,30,89)\"],[0.3764705882352941,\"rgb(150,27,91)\"],[0.4392156862745098,\"rgb(177,22,88)\"],[0.5019607843137255,\"rgb(203,26,79)\"],[0.5647058823529412,\"rgb(223,47,67)\"],[0.6274509803921569,\"rgb(236,76,61)\"],[0.6901960784313725,\"rgb(242,107,73)\"],[0.7529411764705882,\"rgb(244,135,95)\"],[0.8156862745098039,\"rgb(245,162,122)\"],[0.8784313725490196,\"rgb(246,188,153)\"],[0.9411764705882353,\"rgb(247,212,187)\"],[1.0,\"rgb(250,234,220)\"]],\"type\":\"heatmapgl\"}],\"histogram\":[{\"marker\":{\"pattern\":{\"fillmode\":\"overlay\",\"size\":10,\"solidity\":0.2}},\"type\":\"histogram\"}],\"histogram2d\":[{\"colorbar\":{\"outlinewidth\":0,\"tickcolor\":\"rgb(36,36,36)\",\"ticklen\":8,\"ticks\":\"outside\",\"tickwidth\":2},\"colorscale\":[[0.0,\"rgb(2,4,25)\"],[0.06274509803921569,\"rgb(24,15,41)\"],[0.12549019607843137,\"rgb(47,23,57)\"],[0.18823529411764706,\"rgb(71,28,72)\"],[0.25098039215686274,\"rgb(97,30,82)\"],[0.3137254901960784,\"rgb(123,30,89)\"],[0.3764705882352941,\"rgb(150,27,91)\"],[0.4392156862745098,\"rgb(177,22,88)\"],[0.5019607843137255,\"rgb(203,26,79)\"],[0.5647058823529412,\"rgb(223,47,67)\"],[0.6274509803921569,\"rgb(236,76,61)\"],[0.6901960784313725,\"rgb(242,107,73)\"],[0.7529411764705882,\"rgb(244,135,95)\"],[0.8156862745098039,\"rgb(245,162,122)\"],[0.8784313725490196,\"rgb(246,188,153)\"],[0.9411764705882353,\"rgb(247,212,187)\"],[1.0,\"rgb(250,234,220)\"]],\"type\":\"histogram2d\"}],\"histogram2dcontour\":[{\"colorbar\":{\"outlinewidth\":0,\"tickcolor\":\"rgb(36,36,36)\",\"ticklen\":8,\"ticks\":\"outside\",\"tickwidth\":2},\"colorscale\":[[0.0,\"rgb(2,4,25)\"],[0.06274509803921569,\"rgb(24,15,41)\"],[0.12549019607843137,\"rgb(47,23,57)\"],[0.18823529411764706,\"rgb(71,28,72)\"],[0.25098039215686274,\"rgb(97,30,82)\"],[0.3137254901960784,\"rgb(123,30,89)\"],[0.3764705882352941,\"rgb(150,27,91)\"],[0.4392156862745098,\"rgb(177,22,88)\"],[0.5019607843137255,\"rgb(203,26,79)\"],[0.5647058823529412,\"rgb(223,47,67)\"],[0.6274509803921569,\"rgb(236,76,61)\"],[0.6901960784313725,\"rgb(242,107,73)\"],[0.7529411764705882,\"rgb(244,135,95)\"],[0.8156862745098039,\"rgb(245,162,122)\"],[0.8784313725490196,\"rgb(246,188,153)\"],[0.9411764705882353,\"rgb(247,212,187)\"],[1.0,\"rgb(250,234,220)\"]],\"type\":\"histogram2dcontour\"}],\"mesh3d\":[{\"colorbar\":{\"outlinewidth\":0,\"tickcolor\":\"rgb(36,36,36)\",\"ticklen\":8,\"ticks\":\"outside\",\"tickwidth\":2},\"type\":\"mesh3d\"}],\"parcoords\":[{\"line\":{\"colorbar\":{\"outlinewidth\":0,\"tickcolor\":\"rgb(36,36,36)\",\"ticklen\":8,\"ticks\":\"outside\",\"tickwidth\":2}},\"type\":\"parcoords\"}],\"pie\":[{\"automargin\":true,\"type\":\"pie\"}],\"scatter\":[{\"marker\":{\"colorbar\":{\"outlinewidth\":0,\"tickcolor\":\"rgb(36,36,36)\",\"ticklen\":8,\"ticks\":\"outside\",\"tickwidth\":2}},\"type\":\"scatter\"}],\"scatter3d\":[{\"line\":{\"colorbar\":{\"outlinewidth\":0,\"tickcolor\":\"rgb(36,36,36)\",\"ticklen\":8,\"ticks\":\"outside\",\"tickwidth\":2}},\"marker\":{\"colorbar\":{\"outlinewidth\":0,\"tickcolor\":\"rgb(36,36,36)\",\"ticklen\":8,\"ticks\":\"outside\",\"tickwidth\":2}},\"type\":\"scatter3d\"}],\"scattercarpet\":[{\"marker\":{\"colorbar\":{\"outlinewidth\":0,\"tickcolor\":\"rgb(36,36,36)\",\"ticklen\":8,\"ticks\":\"outside\",\"tickwidth\":2}},\"type\":\"scattercarpet\"}],\"scattergeo\":[{\"marker\":{\"colorbar\":{\"outlinewidth\":0,\"tickcolor\":\"rgb(36,36,36)\",\"ticklen\":8,\"ticks\":\"outside\",\"tickwidth\":2}},\"type\":\"scattergeo\"}],\"scattergl\":[{\"marker\":{\"colorbar\":{\"outlinewidth\":0,\"tickcolor\":\"rgb(36,36,36)\",\"ticklen\":8,\"ticks\":\"outside\",\"tickwidth\":2}},\"type\":\"scattergl\"}],\"scattermapbox\":[{\"marker\":{\"colorbar\":{\"outlinewidth\":0,\"tickcolor\":\"rgb(36,36,36)\",\"ticklen\":8,\"ticks\":\"outside\",\"tickwidth\":2}},\"type\":\"scattermapbox\"}],\"scatterpolar\":[{\"marker\":{\"colorbar\":{\"outlinewidth\":0,\"tickcolor\":\"rgb(36,36,36)\",\"ticklen\":8,\"ticks\":\"outside\",\"tickwidth\":2}},\"type\":\"scatterpolar\"}],\"scatterpolargl\":[{\"marker\":{\"colorbar\":{\"outlinewidth\":0,\"tickcolor\":\"rgb(36,36,36)\",\"ticklen\":8,\"ticks\":\"outside\",\"tickwidth\":2}},\"type\":\"scatterpolargl\"}],\"scatterternary\":[{\"marker\":{\"colorbar\":{\"outlinewidth\":0,\"tickcolor\":\"rgb(36,36,36)\",\"ticklen\":8,\"ticks\":\"outside\",\"tickwidth\":2}},\"type\":\"scatterternary\"}],\"surface\":[{\"colorbar\":{\"outlinewidth\":0,\"tickcolor\":\"rgb(36,36,36)\",\"ticklen\":8,\"ticks\":\"outside\",\"tickwidth\":2},\"colorscale\":[[0.0,\"rgb(2,4,25)\"],[0.06274509803921569,\"rgb(24,15,41)\"],[0.12549019607843137,\"rgb(47,23,57)\"],[0.18823529411764706,\"rgb(71,28,72)\"],[0.25098039215686274,\"rgb(97,30,82)\"],[0.3137254901960784,\"rgb(123,30,89)\"],[0.3764705882352941,\"rgb(150,27,91)\"],[0.4392156862745098,\"rgb(177,22,88)\"],[0.5019607843137255,\"rgb(203,26,79)\"],[0.5647058823529412,\"rgb(223,47,67)\"],[0.6274509803921569,\"rgb(236,76,61)\"],[0.6901960784313725,\"rgb(242,107,73)\"],[0.7529411764705882,\"rgb(244,135,95)\"],[0.8156862745098039,\"rgb(245,162,122)\"],[0.8784313725490196,\"rgb(246,188,153)\"],[0.9411764705882353,\"rgb(247,212,187)\"],[1.0,\"rgb(250,234,220)\"]],\"type\":\"surface\"}],\"table\":[{\"cells\":{\"fill\":{\"color\":\"rgb(231,231,240)\"},\"line\":{\"color\":\"white\"}},\"header\":{\"fill\":{\"color\":\"rgb(183,183,191)\"},\"line\":{\"color\":\"white\"}},\"type\":\"table\"}]},\"layout\":{\"annotationdefaults\":{\"arrowcolor\":\"rgb(67,103,167)\"},\"autotypenumbers\":\"strict\",\"coloraxis\":{\"colorbar\":{\"outlinewidth\":0,\"tickcolor\":\"rgb(36,36,36)\",\"ticklen\":8,\"ticks\":\"outside\",\"tickwidth\":2}},\"colorscale\":{\"sequential\":[[0.0,\"rgb(2,4,25)\"],[0.06274509803921569,\"rgb(24,15,41)\"],[0.12549019607843137,\"rgb(47,23,57)\"],[0.18823529411764706,\"rgb(71,28,72)\"],[0.25098039215686274,\"rgb(97,30,82)\"],[0.3137254901960784,\"rgb(123,30,89)\"],[0.3764705882352941,\"rgb(150,27,91)\"],[0.4392156862745098,\"rgb(177,22,88)\"],[0.5019607843137255,\"rgb(203,26,79)\"],[0.5647058823529412,\"rgb(223,47,67)\"],[0.6274509803921569,\"rgb(236,76,61)\"],[0.6901960784313725,\"rgb(242,107,73)\"],[0.7529411764705882,\"rgb(244,135,95)\"],[0.8156862745098039,\"rgb(245,162,122)\"],[0.8784313725490196,\"rgb(246,188,153)\"],[0.9411764705882353,\"rgb(247,212,187)\"],[1.0,\"rgb(250,234,220)\"]],\"sequentialminus\":[[0.0,\"rgb(2,4,25)\"],[0.06274509803921569,\"rgb(24,15,41)\"],[0.12549019607843137,\"rgb(47,23,57)\"],[0.18823529411764706,\"rgb(71,28,72)\"],[0.25098039215686274,\"rgb(97,30,82)\"],[0.3137254901960784,\"rgb(123,30,89)\"],[0.3764705882352941,\"rgb(150,27,91)\"],[0.4392156862745098,\"rgb(177,22,88)\"],[0.5019607843137255,\"rgb(203,26,79)\"],[0.5647058823529412,\"rgb(223,47,67)\"],[0.6274509803921569,\"rgb(236,76,61)\"],[0.6901960784313725,\"rgb(242,107,73)\"],[0.7529411764705882,\"rgb(244,135,95)\"],[0.8156862745098039,\"rgb(245,162,122)\"],[0.8784313725490196,\"rgb(246,188,153)\"],[0.9411764705882353,\"rgb(247,212,187)\"],[1.0,\"rgb(250,234,220)\"]]},\"colorway\":[\"rgb(76,114,176)\",\"rgb(221,132,82)\",\"rgb(85,168,104)\",\"rgb(196,78,82)\",\"rgb(129,114,179)\",\"rgb(147,120,96)\",\"rgb(218,139,195)\",\"rgb(140,140,140)\",\"rgb(204,185,116)\",\"rgb(100,181,205)\"],\"font\":{\"color\":\"rgb(36,36,36)\"},\"geo\":{\"bgcolor\":\"white\",\"lakecolor\":\"white\",\"landcolor\":\"rgb(234,234,242)\",\"showlakes\":true,\"showland\":true,\"subunitcolor\":\"white\"},\"hoverlabel\":{\"align\":\"left\"},\"hovermode\":\"closest\",\"paper_bgcolor\":\"white\",\"plot_bgcolor\":\"rgb(234,234,242)\",\"polar\":{\"angularaxis\":{\"gridcolor\":\"white\",\"linecolor\":\"white\",\"showgrid\":true,\"ticks\":\"\"},\"bgcolor\":\"rgb(234,234,242)\",\"radialaxis\":{\"gridcolor\":\"white\",\"linecolor\":\"white\",\"showgrid\":true,\"ticks\":\"\"}},\"scene\":{\"xaxis\":{\"backgroundcolor\":\"rgb(234,234,242)\",\"gridcolor\":\"white\",\"gridwidth\":2,\"linecolor\":\"white\",\"showbackground\":true,\"showgrid\":true,\"ticks\":\"\",\"zerolinecolor\":\"white\"},\"yaxis\":{\"backgroundcolor\":\"rgb(234,234,242)\",\"gridcolor\":\"white\",\"gridwidth\":2,\"linecolor\":\"white\",\"showbackground\":true,\"showgrid\":true,\"ticks\":\"\",\"zerolinecolor\":\"white\"},\"zaxis\":{\"backgroundcolor\":\"rgb(234,234,242)\",\"gridcolor\":\"white\",\"gridwidth\":2,\"linecolor\":\"white\",\"showbackground\":true,\"showgrid\":true,\"ticks\":\"\",\"zerolinecolor\":\"white\"}},\"shapedefaults\":{\"fillcolor\":\"rgb(67,103,167)\",\"line\":{\"width\":0},\"opacity\":0.5},\"ternary\":{\"aaxis\":{\"gridcolor\":\"white\",\"linecolor\":\"white\",\"showgrid\":true,\"ticks\":\"\"},\"baxis\":{\"gridcolor\":\"white\",\"linecolor\":\"white\",\"showgrid\":true,\"ticks\":\"\"},\"bgcolor\":\"rgb(234,234,242)\",\"caxis\":{\"gridcolor\":\"white\",\"linecolor\":\"white\",\"showgrid\":true,\"ticks\":\"\"}},\"xaxis\":{\"automargin\":true,\"gridcolor\":\"white\",\"linecolor\":\"white\",\"showgrid\":true,\"ticks\":\"\",\"title\":{\"standoff\":15},\"zerolinecolor\":\"white\"},\"yaxis\":{\"automargin\":true,\"gridcolor\":\"white\",\"linecolor\":\"white\",\"showgrid\":true,\"ticks\":\"\",\"title\":{\"standoff\":15},\"zerolinecolor\":\"white\"}}},\"title\":{\"text\":\"F vs 1-point Corr\"},\"xaxis\":{\"title\":{\"text\":\"1-point Corr\"}},\"yaxis\":{\"title\":{\"text\":\"F\"}}},                        {\"responsive\": true}                    ).then(function(){\n",
       "                            \n",
       "var gd = document.getElementById('6bf072bf-d90f-490a-b860-f583baf5598a');\n",
       "var x = new MutationObserver(function (mutations, observer) {{\n",
       "        var display = window.getComputedStyle(gd).display;\n",
       "        if (!display || display === 'none') {{\n",
       "            console.log([gd, 'removed!']);\n",
       "            Plotly.purge(gd);\n",
       "            observer.disconnect();\n",
       "        }}\n",
       "}});\n",
       "\n",
       "// Listen for the removal of the full notebook cells\n",
       "var notebookContainer = gd.closest('#notebook-container');\n",
       "if (notebookContainer) {{\n",
       "    x.observe(notebookContainer, {childList: true});\n",
       "}}\n",
       "\n",
       "// Listen for the clearing of the current output cell\n",
       "var outputEl = gd.closest('.output');\n",
       "if (outputEl) {{\n",
       "    x.observe(outputEl, {childList: true});\n",
       "}}\n",
       "\n",
       "                        })                };                });            </script>        </div>"
      ]
     },
     "metadata": {},
     "output_type": "display_data"
    }
   ],
   "source": [
    "fig = go.Figure()\n",
    "\n",
    "for T in results['T'].unique():\n",
    "    fig.add_trace(go.Scatter(x = results[results['T'] == T]['1-point_corr'],\n",
    "                             y = results[results['T'] == T]['F'],\n",
    "                             mode='markers+lines',\n",
    "                             name=f\"T = {T}: ECI = {results.iloc[0]['F']/4:.2f}\",\n",
    "                            )\n",
    "                 )\n",
    "if cmp_mode:\n",
    "    for T in results_comp['T'].unique():\n",
    "        fig.add_trace(go.Scatter(x = results_comp[results_comp['T'] == T]['1-point_corr'],\n",
    "                                 y = results_comp[results_comp['T'] == T]['F'],\n",
    "                                 mode='markers+lines',\n",
    "                                 name=f\"T = {T}: ECI = {results_comp.iloc[0]['F']/4:.2f}\",\n",
    "                                )\n",
    "                     )\n",
    "#     for T in results_comp['T'].unique():\n",
    "#         fig.add_trace(go.Scatter(x = results_comp2[results_comp2['T'] == T]['1-point_corr'],\n",
    "#                                  y = results_comp2[results_comp2['T'] == T]['F'],\n",
    "#                                  mode='markers+lines',\n",
    "#                                  name=f\"T = {T}: ECI = {results_comp.iloc[0]['F']/4:.2f}\",\n",
    "#                                 )\n",
    "#                      )\n",
    "fig.update_layout(\n",
    "    title=f\"F vs 1-point Corr\",\n",
    "    xaxis_title=\"1-point Corr\",\n",
    "    yaxis_title=\"F\",\n",
    "    legend_title=\"Temperature\",\n",
    "    template='seaborn'\n",
    ")\n",
    "#fig.update_traces(texttemplate='%{text:.2s}', textposition='top center')\n",
    "fig.show()"
   ]
  },
  {
   "cell_type": "code",
   "execution_count": 40,
   "metadata": {
    "ExecuteTime": {
     "end_time": "2021-10-19T03:57:15.813030Z",
     "start_time": "2021-10-19T03:57:15.743765Z"
    }
   },
   "outputs": [
    {
     "data": {
      "application/vnd.plotly.v1+json": {
       "config": {
        "plotlyServerURL": "https://plot.ly"
       },
       "data": [
        {
         "mode": "markers+lines",
         "name": "0.01,0.00",
         "type": "scatter",
         "x": [
          0,
          25,
          50,
          75,
          100,
          125,
          150,
          175,
          200,
          225,
          250,
          275,
          300,
          325,
          350,
          375,
          400,
          425,
          450,
          475,
          500
         ],
         "y": [
          -0.9851901807874373,
          -0.9958912917162773,
          -0.9935548566010464,
          -0.9713753220162139,
          -0.9167594911201988,
          -0.845239883012483,
          -0.7709812039771834,
          -0.5512363388456105,
          -0.548265595343266,
          -0.5554654825473283,
          -0.5396406861128726,
          -0.4992466100855881,
          -0.4641005440817008,
          -0.43190768092450776,
          -0.4053326801720076,
          -0.38177463874769757,
          -0.36093040295921186,
          -0.3415743675751304,
          -0.3242666625903267,
          -0.3088470675583037,
          -0.2946421785405251
         ]
        },
        {
         "mode": "markers+lines",
         "name": "0.01,0.005",
         "type": "scatter",
         "x": [
          0,
          50,
          100,
          150,
          200,
          250,
          300,
          350,
          400,
          450,
          500
         ],
         "y": [
          -0.9948435905880875,
          -0.7546035054763033,
          -0.5581843397935556,
          -0.45447673659056365,
          -0.3811941270108448,
          -0.33271361311638736,
          -0.2974840537444462,
          -0.26920679977005546,
          -0.24503257531136396,
          -0.22997985957346237,
          -0.2143683685224976
         ]
        },
        {
         "mode": "markers+lines",
         "name": "0.01,-0.01",
         "type": "scatter",
         "x": [
          0,
          50,
          100,
          150,
          200,
          250,
          300,
          350,
          400,
          450,
          500
         ],
         "y": [
          -0.9814182279911532,
          -0.9901067847294448,
          -0.9933909624549141,
          -0.9656354694555666,
          -0.9004427313490462,
          -0.814263247766004,
          -0.7248171818778293,
          -0.5988221926672982,
          -0.5075343046118205,
          -0.4512766269208633,
          -0.415652993582185
         ]
        }
       ],
       "layout": {
        "template": {
         "data": {
          "bar": [
           {
            "error_x": {
             "color": "rgb(36,36,36)"
            },
            "error_y": {
             "color": "rgb(36,36,36)"
            },
            "marker": {
             "line": {
              "color": "rgb(234,234,242)",
              "width": 0.5
             },
             "pattern": {
              "fillmode": "overlay",
              "size": 10,
              "solidity": 0.2
             }
            },
            "type": "bar"
           }
          ],
          "barpolar": [
           {
            "marker": {
             "line": {
              "color": "rgb(234,234,242)",
              "width": 0.5
             },
             "pattern": {
              "fillmode": "overlay",
              "size": 10,
              "solidity": 0.2
             }
            },
            "type": "barpolar"
           }
          ],
          "carpet": [
           {
            "aaxis": {
             "endlinecolor": "rgb(36,36,36)",
             "gridcolor": "white",
             "linecolor": "white",
             "minorgridcolor": "white",
             "startlinecolor": "rgb(36,36,36)"
            },
            "baxis": {
             "endlinecolor": "rgb(36,36,36)",
             "gridcolor": "white",
             "linecolor": "white",
             "minorgridcolor": "white",
             "startlinecolor": "rgb(36,36,36)"
            },
            "type": "carpet"
           }
          ],
          "choropleth": [
           {
            "colorbar": {
             "outlinewidth": 0,
             "tickcolor": "rgb(36,36,36)",
             "ticklen": 8,
             "ticks": "outside",
             "tickwidth": 2
            },
            "type": "choropleth"
           }
          ],
          "contour": [
           {
            "colorbar": {
             "outlinewidth": 0,
             "tickcolor": "rgb(36,36,36)",
             "ticklen": 8,
             "ticks": "outside",
             "tickwidth": 2
            },
            "colorscale": [
             [
              0,
              "rgb(2,4,25)"
             ],
             [
              0.06274509803921569,
              "rgb(24,15,41)"
             ],
             [
              0.12549019607843137,
              "rgb(47,23,57)"
             ],
             [
              0.18823529411764706,
              "rgb(71,28,72)"
             ],
             [
              0.25098039215686274,
              "rgb(97,30,82)"
             ],
             [
              0.3137254901960784,
              "rgb(123,30,89)"
             ],
             [
              0.3764705882352941,
              "rgb(150,27,91)"
             ],
             [
              0.4392156862745098,
              "rgb(177,22,88)"
             ],
             [
              0.5019607843137255,
              "rgb(203,26,79)"
             ],
             [
              0.5647058823529412,
              "rgb(223,47,67)"
             ],
             [
              0.6274509803921569,
              "rgb(236,76,61)"
             ],
             [
              0.6901960784313725,
              "rgb(242,107,73)"
             ],
             [
              0.7529411764705882,
              "rgb(244,135,95)"
             ],
             [
              0.8156862745098039,
              "rgb(245,162,122)"
             ],
             [
              0.8784313725490196,
              "rgb(246,188,153)"
             ],
             [
              0.9411764705882353,
              "rgb(247,212,187)"
             ],
             [
              1,
              "rgb(250,234,220)"
             ]
            ],
            "type": "contour"
           }
          ],
          "contourcarpet": [
           {
            "colorbar": {
             "outlinewidth": 0,
             "tickcolor": "rgb(36,36,36)",
             "ticklen": 8,
             "ticks": "outside",
             "tickwidth": 2
            },
            "type": "contourcarpet"
           }
          ],
          "heatmap": [
           {
            "colorbar": {
             "outlinewidth": 0,
             "tickcolor": "rgb(36,36,36)",
             "ticklen": 8,
             "ticks": "outside",
             "tickwidth": 2
            },
            "colorscale": [
             [
              0,
              "rgb(2,4,25)"
             ],
             [
              0.06274509803921569,
              "rgb(24,15,41)"
             ],
             [
              0.12549019607843137,
              "rgb(47,23,57)"
             ],
             [
              0.18823529411764706,
              "rgb(71,28,72)"
             ],
             [
              0.25098039215686274,
              "rgb(97,30,82)"
             ],
             [
              0.3137254901960784,
              "rgb(123,30,89)"
             ],
             [
              0.3764705882352941,
              "rgb(150,27,91)"
             ],
             [
              0.4392156862745098,
              "rgb(177,22,88)"
             ],
             [
              0.5019607843137255,
              "rgb(203,26,79)"
             ],
             [
              0.5647058823529412,
              "rgb(223,47,67)"
             ],
             [
              0.6274509803921569,
              "rgb(236,76,61)"
             ],
             [
              0.6901960784313725,
              "rgb(242,107,73)"
             ],
             [
              0.7529411764705882,
              "rgb(244,135,95)"
             ],
             [
              0.8156862745098039,
              "rgb(245,162,122)"
             ],
             [
              0.8784313725490196,
              "rgb(246,188,153)"
             ],
             [
              0.9411764705882353,
              "rgb(247,212,187)"
             ],
             [
              1,
              "rgb(250,234,220)"
             ]
            ],
            "type": "heatmap"
           }
          ],
          "heatmapgl": [
           {
            "colorbar": {
             "outlinewidth": 0,
             "tickcolor": "rgb(36,36,36)",
             "ticklen": 8,
             "ticks": "outside",
             "tickwidth": 2
            },
            "colorscale": [
             [
              0,
              "rgb(2,4,25)"
             ],
             [
              0.06274509803921569,
              "rgb(24,15,41)"
             ],
             [
              0.12549019607843137,
              "rgb(47,23,57)"
             ],
             [
              0.18823529411764706,
              "rgb(71,28,72)"
             ],
             [
              0.25098039215686274,
              "rgb(97,30,82)"
             ],
             [
              0.3137254901960784,
              "rgb(123,30,89)"
             ],
             [
              0.3764705882352941,
              "rgb(150,27,91)"
             ],
             [
              0.4392156862745098,
              "rgb(177,22,88)"
             ],
             [
              0.5019607843137255,
              "rgb(203,26,79)"
             ],
             [
              0.5647058823529412,
              "rgb(223,47,67)"
             ],
             [
              0.6274509803921569,
              "rgb(236,76,61)"
             ],
             [
              0.6901960784313725,
              "rgb(242,107,73)"
             ],
             [
              0.7529411764705882,
              "rgb(244,135,95)"
             ],
             [
              0.8156862745098039,
              "rgb(245,162,122)"
             ],
             [
              0.8784313725490196,
              "rgb(246,188,153)"
             ],
             [
              0.9411764705882353,
              "rgb(247,212,187)"
             ],
             [
              1,
              "rgb(250,234,220)"
             ]
            ],
            "type": "heatmapgl"
           }
          ],
          "histogram": [
           {
            "marker": {
             "pattern": {
              "fillmode": "overlay",
              "size": 10,
              "solidity": 0.2
             }
            },
            "type": "histogram"
           }
          ],
          "histogram2d": [
           {
            "colorbar": {
             "outlinewidth": 0,
             "tickcolor": "rgb(36,36,36)",
             "ticklen": 8,
             "ticks": "outside",
             "tickwidth": 2
            },
            "colorscale": [
             [
              0,
              "rgb(2,4,25)"
             ],
             [
              0.06274509803921569,
              "rgb(24,15,41)"
             ],
             [
              0.12549019607843137,
              "rgb(47,23,57)"
             ],
             [
              0.18823529411764706,
              "rgb(71,28,72)"
             ],
             [
              0.25098039215686274,
              "rgb(97,30,82)"
             ],
             [
              0.3137254901960784,
              "rgb(123,30,89)"
             ],
             [
              0.3764705882352941,
              "rgb(150,27,91)"
             ],
             [
              0.4392156862745098,
              "rgb(177,22,88)"
             ],
             [
              0.5019607843137255,
              "rgb(203,26,79)"
             ],
             [
              0.5647058823529412,
              "rgb(223,47,67)"
             ],
             [
              0.6274509803921569,
              "rgb(236,76,61)"
             ],
             [
              0.6901960784313725,
              "rgb(242,107,73)"
             ],
             [
              0.7529411764705882,
              "rgb(244,135,95)"
             ],
             [
              0.8156862745098039,
              "rgb(245,162,122)"
             ],
             [
              0.8784313725490196,
              "rgb(246,188,153)"
             ],
             [
              0.9411764705882353,
              "rgb(247,212,187)"
             ],
             [
              1,
              "rgb(250,234,220)"
             ]
            ],
            "type": "histogram2d"
           }
          ],
          "histogram2dcontour": [
           {
            "colorbar": {
             "outlinewidth": 0,
             "tickcolor": "rgb(36,36,36)",
             "ticklen": 8,
             "ticks": "outside",
             "tickwidth": 2
            },
            "colorscale": [
             [
              0,
              "rgb(2,4,25)"
             ],
             [
              0.06274509803921569,
              "rgb(24,15,41)"
             ],
             [
              0.12549019607843137,
              "rgb(47,23,57)"
             ],
             [
              0.18823529411764706,
              "rgb(71,28,72)"
             ],
             [
              0.25098039215686274,
              "rgb(97,30,82)"
             ],
             [
              0.3137254901960784,
              "rgb(123,30,89)"
             ],
             [
              0.3764705882352941,
              "rgb(150,27,91)"
             ],
             [
              0.4392156862745098,
              "rgb(177,22,88)"
             ],
             [
              0.5019607843137255,
              "rgb(203,26,79)"
             ],
             [
              0.5647058823529412,
              "rgb(223,47,67)"
             ],
             [
              0.6274509803921569,
              "rgb(236,76,61)"
             ],
             [
              0.6901960784313725,
              "rgb(242,107,73)"
             ],
             [
              0.7529411764705882,
              "rgb(244,135,95)"
             ],
             [
              0.8156862745098039,
              "rgb(245,162,122)"
             ],
             [
              0.8784313725490196,
              "rgb(246,188,153)"
             ],
             [
              0.9411764705882353,
              "rgb(247,212,187)"
             ],
             [
              1,
              "rgb(250,234,220)"
             ]
            ],
            "type": "histogram2dcontour"
           }
          ],
          "mesh3d": [
           {
            "colorbar": {
             "outlinewidth": 0,
             "tickcolor": "rgb(36,36,36)",
             "ticklen": 8,
             "ticks": "outside",
             "tickwidth": 2
            },
            "type": "mesh3d"
           }
          ],
          "parcoords": [
           {
            "line": {
             "colorbar": {
              "outlinewidth": 0,
              "tickcolor": "rgb(36,36,36)",
              "ticklen": 8,
              "ticks": "outside",
              "tickwidth": 2
             }
            },
            "type": "parcoords"
           }
          ],
          "pie": [
           {
            "automargin": true,
            "type": "pie"
           }
          ],
          "scatter": [
           {
            "marker": {
             "colorbar": {
              "outlinewidth": 0,
              "tickcolor": "rgb(36,36,36)",
              "ticklen": 8,
              "ticks": "outside",
              "tickwidth": 2
             }
            },
            "type": "scatter"
           }
          ],
          "scatter3d": [
           {
            "line": {
             "colorbar": {
              "outlinewidth": 0,
              "tickcolor": "rgb(36,36,36)",
              "ticklen": 8,
              "ticks": "outside",
              "tickwidth": 2
             }
            },
            "marker": {
             "colorbar": {
              "outlinewidth": 0,
              "tickcolor": "rgb(36,36,36)",
              "ticklen": 8,
              "ticks": "outside",
              "tickwidth": 2
             }
            },
            "type": "scatter3d"
           }
          ],
          "scattercarpet": [
           {
            "marker": {
             "colorbar": {
              "outlinewidth": 0,
              "tickcolor": "rgb(36,36,36)",
              "ticklen": 8,
              "ticks": "outside",
              "tickwidth": 2
             }
            },
            "type": "scattercarpet"
           }
          ],
          "scattergeo": [
           {
            "marker": {
             "colorbar": {
              "outlinewidth": 0,
              "tickcolor": "rgb(36,36,36)",
              "ticklen": 8,
              "ticks": "outside",
              "tickwidth": 2
             }
            },
            "type": "scattergeo"
           }
          ],
          "scattergl": [
           {
            "marker": {
             "colorbar": {
              "outlinewidth": 0,
              "tickcolor": "rgb(36,36,36)",
              "ticklen": 8,
              "ticks": "outside",
              "tickwidth": 2
             }
            },
            "type": "scattergl"
           }
          ],
          "scattermapbox": [
           {
            "marker": {
             "colorbar": {
              "outlinewidth": 0,
              "tickcolor": "rgb(36,36,36)",
              "ticklen": 8,
              "ticks": "outside",
              "tickwidth": 2
             }
            },
            "type": "scattermapbox"
           }
          ],
          "scatterpolar": [
           {
            "marker": {
             "colorbar": {
              "outlinewidth": 0,
              "tickcolor": "rgb(36,36,36)",
              "ticklen": 8,
              "ticks": "outside",
              "tickwidth": 2
             }
            },
            "type": "scatterpolar"
           }
          ],
          "scatterpolargl": [
           {
            "marker": {
             "colorbar": {
              "outlinewidth": 0,
              "tickcolor": "rgb(36,36,36)",
              "ticklen": 8,
              "ticks": "outside",
              "tickwidth": 2
             }
            },
            "type": "scatterpolargl"
           }
          ],
          "scatterternary": [
           {
            "marker": {
             "colorbar": {
              "outlinewidth": 0,
              "tickcolor": "rgb(36,36,36)",
              "ticklen": 8,
              "ticks": "outside",
              "tickwidth": 2
             }
            },
            "type": "scatterternary"
           }
          ],
          "surface": [
           {
            "colorbar": {
             "outlinewidth": 0,
             "tickcolor": "rgb(36,36,36)",
             "ticklen": 8,
             "ticks": "outside",
             "tickwidth": 2
            },
            "colorscale": [
             [
              0,
              "rgb(2,4,25)"
             ],
             [
              0.06274509803921569,
              "rgb(24,15,41)"
             ],
             [
              0.12549019607843137,
              "rgb(47,23,57)"
             ],
             [
              0.18823529411764706,
              "rgb(71,28,72)"
             ],
             [
              0.25098039215686274,
              "rgb(97,30,82)"
             ],
             [
              0.3137254901960784,
              "rgb(123,30,89)"
             ],
             [
              0.3764705882352941,
              "rgb(150,27,91)"
             ],
             [
              0.4392156862745098,
              "rgb(177,22,88)"
             ],
             [
              0.5019607843137255,
              "rgb(203,26,79)"
             ],
             [
              0.5647058823529412,
              "rgb(223,47,67)"
             ],
             [
              0.6274509803921569,
              "rgb(236,76,61)"
             ],
             [
              0.6901960784313725,
              "rgb(242,107,73)"
             ],
             [
              0.7529411764705882,
              "rgb(244,135,95)"
             ],
             [
              0.8156862745098039,
              "rgb(245,162,122)"
             ],
             [
              0.8784313725490196,
              "rgb(246,188,153)"
             ],
             [
              0.9411764705882353,
              "rgb(247,212,187)"
             ],
             [
              1,
              "rgb(250,234,220)"
             ]
            ],
            "type": "surface"
           }
          ],
          "table": [
           {
            "cells": {
             "fill": {
              "color": "rgb(231,231,240)"
             },
             "line": {
              "color": "white"
             }
            },
            "header": {
             "fill": {
              "color": "rgb(183,183,191)"
             },
             "line": {
              "color": "white"
             }
            },
            "type": "table"
           }
          ]
         },
         "layout": {
          "annotationdefaults": {
           "arrowcolor": "rgb(67,103,167)"
          },
          "autotypenumbers": "strict",
          "coloraxis": {
           "colorbar": {
            "outlinewidth": 0,
            "tickcolor": "rgb(36,36,36)",
            "ticklen": 8,
            "ticks": "outside",
            "tickwidth": 2
           }
          },
          "colorscale": {
           "sequential": [
            [
             0,
             "rgb(2,4,25)"
            ],
            [
             0.06274509803921569,
             "rgb(24,15,41)"
            ],
            [
             0.12549019607843137,
             "rgb(47,23,57)"
            ],
            [
             0.18823529411764706,
             "rgb(71,28,72)"
            ],
            [
             0.25098039215686274,
             "rgb(97,30,82)"
            ],
            [
             0.3137254901960784,
             "rgb(123,30,89)"
            ],
            [
             0.3764705882352941,
             "rgb(150,27,91)"
            ],
            [
             0.4392156862745098,
             "rgb(177,22,88)"
            ],
            [
             0.5019607843137255,
             "rgb(203,26,79)"
            ],
            [
             0.5647058823529412,
             "rgb(223,47,67)"
            ],
            [
             0.6274509803921569,
             "rgb(236,76,61)"
            ],
            [
             0.6901960784313725,
             "rgb(242,107,73)"
            ],
            [
             0.7529411764705882,
             "rgb(244,135,95)"
            ],
            [
             0.8156862745098039,
             "rgb(245,162,122)"
            ],
            [
             0.8784313725490196,
             "rgb(246,188,153)"
            ],
            [
             0.9411764705882353,
             "rgb(247,212,187)"
            ],
            [
             1,
             "rgb(250,234,220)"
            ]
           ],
           "sequentialminus": [
            [
             0,
             "rgb(2,4,25)"
            ],
            [
             0.06274509803921569,
             "rgb(24,15,41)"
            ],
            [
             0.12549019607843137,
             "rgb(47,23,57)"
            ],
            [
             0.18823529411764706,
             "rgb(71,28,72)"
            ],
            [
             0.25098039215686274,
             "rgb(97,30,82)"
            ],
            [
             0.3137254901960784,
             "rgb(123,30,89)"
            ],
            [
             0.3764705882352941,
             "rgb(150,27,91)"
            ],
            [
             0.4392156862745098,
             "rgb(177,22,88)"
            ],
            [
             0.5019607843137255,
             "rgb(203,26,79)"
            ],
            [
             0.5647058823529412,
             "rgb(223,47,67)"
            ],
            [
             0.6274509803921569,
             "rgb(236,76,61)"
            ],
            [
             0.6901960784313725,
             "rgb(242,107,73)"
            ],
            [
             0.7529411764705882,
             "rgb(244,135,95)"
            ],
            [
             0.8156862745098039,
             "rgb(245,162,122)"
            ],
            [
             0.8784313725490196,
             "rgb(246,188,153)"
            ],
            [
             0.9411764705882353,
             "rgb(247,212,187)"
            ],
            [
             1,
             "rgb(250,234,220)"
            ]
           ]
          },
          "colorway": [
           "rgb(76,114,176)",
           "rgb(221,132,82)",
           "rgb(85,168,104)",
           "rgb(196,78,82)",
           "rgb(129,114,179)",
           "rgb(147,120,96)",
           "rgb(218,139,195)",
           "rgb(140,140,140)",
           "rgb(204,185,116)",
           "rgb(100,181,205)"
          ],
          "font": {
           "color": "rgb(36,36,36)"
          },
          "geo": {
           "bgcolor": "white",
           "lakecolor": "white",
           "landcolor": "rgb(234,234,242)",
           "showlakes": true,
           "showland": true,
           "subunitcolor": "white"
          },
          "hoverlabel": {
           "align": "left"
          },
          "hovermode": "closest",
          "paper_bgcolor": "white",
          "plot_bgcolor": "rgb(234,234,242)",
          "polar": {
           "angularaxis": {
            "gridcolor": "white",
            "linecolor": "white",
            "showgrid": true,
            "ticks": ""
           },
           "bgcolor": "rgb(234,234,242)",
           "radialaxis": {
            "gridcolor": "white",
            "linecolor": "white",
            "showgrid": true,
            "ticks": ""
           }
          },
          "scene": {
           "xaxis": {
            "backgroundcolor": "rgb(234,234,242)",
            "gridcolor": "white",
            "gridwidth": 2,
            "linecolor": "white",
            "showbackground": true,
            "showgrid": true,
            "ticks": "",
            "zerolinecolor": "white"
           },
           "yaxis": {
            "backgroundcolor": "rgb(234,234,242)",
            "gridcolor": "white",
            "gridwidth": 2,
            "linecolor": "white",
            "showbackground": true,
            "showgrid": true,
            "ticks": "",
            "zerolinecolor": "white"
           },
           "zaxis": {
            "backgroundcolor": "rgb(234,234,242)",
            "gridcolor": "white",
            "gridwidth": 2,
            "linecolor": "white",
            "showbackground": true,
            "showgrid": true,
            "ticks": "",
            "zerolinecolor": "white"
           }
          },
          "shapedefaults": {
           "fillcolor": "rgb(67,103,167)",
           "line": {
            "width": 0
           },
           "opacity": 0.5
          },
          "ternary": {
           "aaxis": {
            "gridcolor": "white",
            "linecolor": "white",
            "showgrid": true,
            "ticks": ""
           },
           "baxis": {
            "gridcolor": "white",
            "linecolor": "white",
            "showgrid": true,
            "ticks": ""
           },
           "bgcolor": "rgb(234,234,242)",
           "caxis": {
            "gridcolor": "white",
            "linecolor": "white",
            "showgrid": true,
            "ticks": ""
           }
          },
          "xaxis": {
           "automargin": true,
           "gridcolor": "white",
           "linecolor": "white",
           "showgrid": true,
           "ticks": "",
           "title": {
            "standoff": 15
           },
           "zerolinecolor": "white"
          },
          "yaxis": {
           "automargin": true,
           "gridcolor": "white",
           "linecolor": "white",
           "showgrid": true,
           "ticks": "",
           "title": {
            "standoff": 15
           },
           "zerolinecolor": "white"
          }
         }
        },
        "title": {
         "text": "T vs 2-point Corr"
        },
        "xaxis": {
         "title": {
          "text": "T"
         }
        },
        "yaxis": {
         "title": {
          "text": "2-point Corr"
         }
        }
       }
      },
      "text/html": [
       "<div>                            <div id=\"73db0a76-ca90-4509-bb9f-84a6a61fcdaa\" class=\"plotly-graph-div\" style=\"height:525px; width:100%;\"></div>            <script type=\"text/javascript\">                require([\"plotly\"], function(Plotly) {                    window.PLOTLYENV=window.PLOTLYENV || {};                                    if (document.getElementById(\"73db0a76-ca90-4509-bb9f-84a6a61fcdaa\")) {                    Plotly.newPlot(                        \"73db0a76-ca90-4509-bb9f-84a6a61fcdaa\",                        [{\"mode\":\"markers+lines\",\"name\":\"0.01,0.00\",\"type\":\"scatter\",\"x\":[0.0,25.0,50.0,75.0,100.0,125.0,150.0,175.0,200.0,225.0,250.0,275.0,300.0,325.0,350.0,375.0,400.0,425.0,450.0,475.0,500.0],\"y\":[-0.9851901807874373,-0.9958912917162773,-0.9935548566010464,-0.9713753220162139,-0.9167594911201988,-0.845239883012483,-0.7709812039771834,-0.5512363388456105,-0.548265595343266,-0.5554654825473283,-0.5396406861128726,-0.4992466100855881,-0.4641005440817008,-0.43190768092450776,-0.4053326801720076,-0.38177463874769757,-0.36093040295921186,-0.3415743675751304,-0.3242666625903267,-0.3088470675583037,-0.2946421785405251]},{\"mode\":\"markers+lines\",\"name\":\"0.01,0.005\",\"type\":\"scatter\",\"x\":[0.0,50.0,100.0,150.0,200.0,250.0,300.0,350.0,400.0,450.0,500.0],\"y\":[-0.9948435905880875,-0.7546035054763033,-0.5581843397935556,-0.45447673659056365,-0.3811941270108448,-0.33271361311638736,-0.2974840537444462,-0.26920679977005546,-0.24503257531136396,-0.22997985957346237,-0.2143683685224976]},{\"mode\":\"markers+lines\",\"name\":\"0.01,-0.01\",\"type\":\"scatter\",\"x\":[0.0,50.0,100.0,150.0,200.0,250.0,300.0,350.0,400.0,450.0,500.0],\"y\":[-0.9814182279911532,-0.9901067847294448,-0.9933909624549141,-0.9656354694555666,-0.9004427313490462,-0.814263247766004,-0.7248171818778293,-0.5988221926672982,-0.5075343046118205,-0.4512766269208633,-0.415652993582185]}],                        {\"template\":{\"data\":{\"bar\":[{\"error_x\":{\"color\":\"rgb(36,36,36)\"},\"error_y\":{\"color\":\"rgb(36,36,36)\"},\"marker\":{\"line\":{\"color\":\"rgb(234,234,242)\",\"width\":0.5},\"pattern\":{\"fillmode\":\"overlay\",\"size\":10,\"solidity\":0.2}},\"type\":\"bar\"}],\"barpolar\":[{\"marker\":{\"line\":{\"color\":\"rgb(234,234,242)\",\"width\":0.5},\"pattern\":{\"fillmode\":\"overlay\",\"size\":10,\"solidity\":0.2}},\"type\":\"barpolar\"}],\"carpet\":[{\"aaxis\":{\"endlinecolor\":\"rgb(36,36,36)\",\"gridcolor\":\"white\",\"linecolor\":\"white\",\"minorgridcolor\":\"white\",\"startlinecolor\":\"rgb(36,36,36)\"},\"baxis\":{\"endlinecolor\":\"rgb(36,36,36)\",\"gridcolor\":\"white\",\"linecolor\":\"white\",\"minorgridcolor\":\"white\",\"startlinecolor\":\"rgb(36,36,36)\"},\"type\":\"carpet\"}],\"choropleth\":[{\"colorbar\":{\"outlinewidth\":0,\"tickcolor\":\"rgb(36,36,36)\",\"ticklen\":8,\"ticks\":\"outside\",\"tickwidth\":2},\"type\":\"choropleth\"}],\"contour\":[{\"colorbar\":{\"outlinewidth\":0,\"tickcolor\":\"rgb(36,36,36)\",\"ticklen\":8,\"ticks\":\"outside\",\"tickwidth\":2},\"colorscale\":[[0.0,\"rgb(2,4,25)\"],[0.06274509803921569,\"rgb(24,15,41)\"],[0.12549019607843137,\"rgb(47,23,57)\"],[0.18823529411764706,\"rgb(71,28,72)\"],[0.25098039215686274,\"rgb(97,30,82)\"],[0.3137254901960784,\"rgb(123,30,89)\"],[0.3764705882352941,\"rgb(150,27,91)\"],[0.4392156862745098,\"rgb(177,22,88)\"],[0.5019607843137255,\"rgb(203,26,79)\"],[0.5647058823529412,\"rgb(223,47,67)\"],[0.6274509803921569,\"rgb(236,76,61)\"],[0.6901960784313725,\"rgb(242,107,73)\"],[0.7529411764705882,\"rgb(244,135,95)\"],[0.8156862745098039,\"rgb(245,162,122)\"],[0.8784313725490196,\"rgb(246,188,153)\"],[0.9411764705882353,\"rgb(247,212,187)\"],[1.0,\"rgb(250,234,220)\"]],\"type\":\"contour\"}],\"contourcarpet\":[{\"colorbar\":{\"outlinewidth\":0,\"tickcolor\":\"rgb(36,36,36)\",\"ticklen\":8,\"ticks\":\"outside\",\"tickwidth\":2},\"type\":\"contourcarpet\"}],\"heatmap\":[{\"colorbar\":{\"outlinewidth\":0,\"tickcolor\":\"rgb(36,36,36)\",\"ticklen\":8,\"ticks\":\"outside\",\"tickwidth\":2},\"colorscale\":[[0.0,\"rgb(2,4,25)\"],[0.06274509803921569,\"rgb(24,15,41)\"],[0.12549019607843137,\"rgb(47,23,57)\"],[0.18823529411764706,\"rgb(71,28,72)\"],[0.25098039215686274,\"rgb(97,30,82)\"],[0.3137254901960784,\"rgb(123,30,89)\"],[0.3764705882352941,\"rgb(150,27,91)\"],[0.4392156862745098,\"rgb(177,22,88)\"],[0.5019607843137255,\"rgb(203,26,79)\"],[0.5647058823529412,\"rgb(223,47,67)\"],[0.6274509803921569,\"rgb(236,76,61)\"],[0.6901960784313725,\"rgb(242,107,73)\"],[0.7529411764705882,\"rgb(244,135,95)\"],[0.8156862745098039,\"rgb(245,162,122)\"],[0.8784313725490196,\"rgb(246,188,153)\"],[0.9411764705882353,\"rgb(247,212,187)\"],[1.0,\"rgb(250,234,220)\"]],\"type\":\"heatmap\"}],\"heatmapgl\":[{\"colorbar\":{\"outlinewidth\":0,\"tickcolor\":\"rgb(36,36,36)\",\"ticklen\":8,\"ticks\":\"outside\",\"tickwidth\":2},\"colorscale\":[[0.0,\"rgb(2,4,25)\"],[0.06274509803921569,\"rgb(24,15,41)\"],[0.12549019607843137,\"rgb(47,23,57)\"],[0.18823529411764706,\"rgb(71,28,72)\"],[0.25098039215686274,\"rgb(97,30,82)\"],[0.3137254901960784,\"rgb(123,30,89)\"],[0.3764705882352941,\"rgb(150,27,91)\"],[0.4392156862745098,\"rgb(177,22,88)\"],[0.5019607843137255,\"rgb(203,26,79)\"],[0.5647058823529412,\"rgb(223,47,67)\"],[0.6274509803921569,\"rgb(236,76,61)\"],[0.6901960784313725,\"rgb(242,107,73)\"],[0.7529411764705882,\"rgb(244,135,95)\"],[0.8156862745098039,\"rgb(245,162,122)\"],[0.8784313725490196,\"rgb(246,188,153)\"],[0.9411764705882353,\"rgb(247,212,187)\"],[1.0,\"rgb(250,234,220)\"]],\"type\":\"heatmapgl\"}],\"histogram\":[{\"marker\":{\"pattern\":{\"fillmode\":\"overlay\",\"size\":10,\"solidity\":0.2}},\"type\":\"histogram\"}],\"histogram2d\":[{\"colorbar\":{\"outlinewidth\":0,\"tickcolor\":\"rgb(36,36,36)\",\"ticklen\":8,\"ticks\":\"outside\",\"tickwidth\":2},\"colorscale\":[[0.0,\"rgb(2,4,25)\"],[0.06274509803921569,\"rgb(24,15,41)\"],[0.12549019607843137,\"rgb(47,23,57)\"],[0.18823529411764706,\"rgb(71,28,72)\"],[0.25098039215686274,\"rgb(97,30,82)\"],[0.3137254901960784,\"rgb(123,30,89)\"],[0.3764705882352941,\"rgb(150,27,91)\"],[0.4392156862745098,\"rgb(177,22,88)\"],[0.5019607843137255,\"rgb(203,26,79)\"],[0.5647058823529412,\"rgb(223,47,67)\"],[0.6274509803921569,\"rgb(236,76,61)\"],[0.6901960784313725,\"rgb(242,107,73)\"],[0.7529411764705882,\"rgb(244,135,95)\"],[0.8156862745098039,\"rgb(245,162,122)\"],[0.8784313725490196,\"rgb(246,188,153)\"],[0.9411764705882353,\"rgb(247,212,187)\"],[1.0,\"rgb(250,234,220)\"]],\"type\":\"histogram2d\"}],\"histogram2dcontour\":[{\"colorbar\":{\"outlinewidth\":0,\"tickcolor\":\"rgb(36,36,36)\",\"ticklen\":8,\"ticks\":\"outside\",\"tickwidth\":2},\"colorscale\":[[0.0,\"rgb(2,4,25)\"],[0.06274509803921569,\"rgb(24,15,41)\"],[0.12549019607843137,\"rgb(47,23,57)\"],[0.18823529411764706,\"rgb(71,28,72)\"],[0.25098039215686274,\"rgb(97,30,82)\"],[0.3137254901960784,\"rgb(123,30,89)\"],[0.3764705882352941,\"rgb(150,27,91)\"],[0.4392156862745098,\"rgb(177,22,88)\"],[0.5019607843137255,\"rgb(203,26,79)\"],[0.5647058823529412,\"rgb(223,47,67)\"],[0.6274509803921569,\"rgb(236,76,61)\"],[0.6901960784313725,\"rgb(242,107,73)\"],[0.7529411764705882,\"rgb(244,135,95)\"],[0.8156862745098039,\"rgb(245,162,122)\"],[0.8784313725490196,\"rgb(246,188,153)\"],[0.9411764705882353,\"rgb(247,212,187)\"],[1.0,\"rgb(250,234,220)\"]],\"type\":\"histogram2dcontour\"}],\"mesh3d\":[{\"colorbar\":{\"outlinewidth\":0,\"tickcolor\":\"rgb(36,36,36)\",\"ticklen\":8,\"ticks\":\"outside\",\"tickwidth\":2},\"type\":\"mesh3d\"}],\"parcoords\":[{\"line\":{\"colorbar\":{\"outlinewidth\":0,\"tickcolor\":\"rgb(36,36,36)\",\"ticklen\":8,\"ticks\":\"outside\",\"tickwidth\":2}},\"type\":\"parcoords\"}],\"pie\":[{\"automargin\":true,\"type\":\"pie\"}],\"scatter\":[{\"marker\":{\"colorbar\":{\"outlinewidth\":0,\"tickcolor\":\"rgb(36,36,36)\",\"ticklen\":8,\"ticks\":\"outside\",\"tickwidth\":2}},\"type\":\"scatter\"}],\"scatter3d\":[{\"line\":{\"colorbar\":{\"outlinewidth\":0,\"tickcolor\":\"rgb(36,36,36)\",\"ticklen\":8,\"ticks\":\"outside\",\"tickwidth\":2}},\"marker\":{\"colorbar\":{\"outlinewidth\":0,\"tickcolor\":\"rgb(36,36,36)\",\"ticklen\":8,\"ticks\":\"outside\",\"tickwidth\":2}},\"type\":\"scatter3d\"}],\"scattercarpet\":[{\"marker\":{\"colorbar\":{\"outlinewidth\":0,\"tickcolor\":\"rgb(36,36,36)\",\"ticklen\":8,\"ticks\":\"outside\",\"tickwidth\":2}},\"type\":\"scattercarpet\"}],\"scattergeo\":[{\"marker\":{\"colorbar\":{\"outlinewidth\":0,\"tickcolor\":\"rgb(36,36,36)\",\"ticklen\":8,\"ticks\":\"outside\",\"tickwidth\":2}},\"type\":\"scattergeo\"}],\"scattergl\":[{\"marker\":{\"colorbar\":{\"outlinewidth\":0,\"tickcolor\":\"rgb(36,36,36)\",\"ticklen\":8,\"ticks\":\"outside\",\"tickwidth\":2}},\"type\":\"scattergl\"}],\"scattermapbox\":[{\"marker\":{\"colorbar\":{\"outlinewidth\":0,\"tickcolor\":\"rgb(36,36,36)\",\"ticklen\":8,\"ticks\":\"outside\",\"tickwidth\":2}},\"type\":\"scattermapbox\"}],\"scatterpolar\":[{\"marker\":{\"colorbar\":{\"outlinewidth\":0,\"tickcolor\":\"rgb(36,36,36)\",\"ticklen\":8,\"ticks\":\"outside\",\"tickwidth\":2}},\"type\":\"scatterpolar\"}],\"scatterpolargl\":[{\"marker\":{\"colorbar\":{\"outlinewidth\":0,\"tickcolor\":\"rgb(36,36,36)\",\"ticklen\":8,\"ticks\":\"outside\",\"tickwidth\":2}},\"type\":\"scatterpolargl\"}],\"scatterternary\":[{\"marker\":{\"colorbar\":{\"outlinewidth\":0,\"tickcolor\":\"rgb(36,36,36)\",\"ticklen\":8,\"ticks\":\"outside\",\"tickwidth\":2}},\"type\":\"scatterternary\"}],\"surface\":[{\"colorbar\":{\"outlinewidth\":0,\"tickcolor\":\"rgb(36,36,36)\",\"ticklen\":8,\"ticks\":\"outside\",\"tickwidth\":2},\"colorscale\":[[0.0,\"rgb(2,4,25)\"],[0.06274509803921569,\"rgb(24,15,41)\"],[0.12549019607843137,\"rgb(47,23,57)\"],[0.18823529411764706,\"rgb(71,28,72)\"],[0.25098039215686274,\"rgb(97,30,82)\"],[0.3137254901960784,\"rgb(123,30,89)\"],[0.3764705882352941,\"rgb(150,27,91)\"],[0.4392156862745098,\"rgb(177,22,88)\"],[0.5019607843137255,\"rgb(203,26,79)\"],[0.5647058823529412,\"rgb(223,47,67)\"],[0.6274509803921569,\"rgb(236,76,61)\"],[0.6901960784313725,\"rgb(242,107,73)\"],[0.7529411764705882,\"rgb(244,135,95)\"],[0.8156862745098039,\"rgb(245,162,122)\"],[0.8784313725490196,\"rgb(246,188,153)\"],[0.9411764705882353,\"rgb(247,212,187)\"],[1.0,\"rgb(250,234,220)\"]],\"type\":\"surface\"}],\"table\":[{\"cells\":{\"fill\":{\"color\":\"rgb(231,231,240)\"},\"line\":{\"color\":\"white\"}},\"header\":{\"fill\":{\"color\":\"rgb(183,183,191)\"},\"line\":{\"color\":\"white\"}},\"type\":\"table\"}]},\"layout\":{\"annotationdefaults\":{\"arrowcolor\":\"rgb(67,103,167)\"},\"autotypenumbers\":\"strict\",\"coloraxis\":{\"colorbar\":{\"outlinewidth\":0,\"tickcolor\":\"rgb(36,36,36)\",\"ticklen\":8,\"ticks\":\"outside\",\"tickwidth\":2}},\"colorscale\":{\"sequential\":[[0.0,\"rgb(2,4,25)\"],[0.06274509803921569,\"rgb(24,15,41)\"],[0.12549019607843137,\"rgb(47,23,57)\"],[0.18823529411764706,\"rgb(71,28,72)\"],[0.25098039215686274,\"rgb(97,30,82)\"],[0.3137254901960784,\"rgb(123,30,89)\"],[0.3764705882352941,\"rgb(150,27,91)\"],[0.4392156862745098,\"rgb(177,22,88)\"],[0.5019607843137255,\"rgb(203,26,79)\"],[0.5647058823529412,\"rgb(223,47,67)\"],[0.6274509803921569,\"rgb(236,76,61)\"],[0.6901960784313725,\"rgb(242,107,73)\"],[0.7529411764705882,\"rgb(244,135,95)\"],[0.8156862745098039,\"rgb(245,162,122)\"],[0.8784313725490196,\"rgb(246,188,153)\"],[0.9411764705882353,\"rgb(247,212,187)\"],[1.0,\"rgb(250,234,220)\"]],\"sequentialminus\":[[0.0,\"rgb(2,4,25)\"],[0.06274509803921569,\"rgb(24,15,41)\"],[0.12549019607843137,\"rgb(47,23,57)\"],[0.18823529411764706,\"rgb(71,28,72)\"],[0.25098039215686274,\"rgb(97,30,82)\"],[0.3137254901960784,\"rgb(123,30,89)\"],[0.3764705882352941,\"rgb(150,27,91)\"],[0.4392156862745098,\"rgb(177,22,88)\"],[0.5019607843137255,\"rgb(203,26,79)\"],[0.5647058823529412,\"rgb(223,47,67)\"],[0.6274509803921569,\"rgb(236,76,61)\"],[0.6901960784313725,\"rgb(242,107,73)\"],[0.7529411764705882,\"rgb(244,135,95)\"],[0.8156862745098039,\"rgb(245,162,122)\"],[0.8784313725490196,\"rgb(246,188,153)\"],[0.9411764705882353,\"rgb(247,212,187)\"],[1.0,\"rgb(250,234,220)\"]]},\"colorway\":[\"rgb(76,114,176)\",\"rgb(221,132,82)\",\"rgb(85,168,104)\",\"rgb(196,78,82)\",\"rgb(129,114,179)\",\"rgb(147,120,96)\",\"rgb(218,139,195)\",\"rgb(140,140,140)\",\"rgb(204,185,116)\",\"rgb(100,181,205)\"],\"font\":{\"color\":\"rgb(36,36,36)\"},\"geo\":{\"bgcolor\":\"white\",\"lakecolor\":\"white\",\"landcolor\":\"rgb(234,234,242)\",\"showlakes\":true,\"showland\":true,\"subunitcolor\":\"white\"},\"hoverlabel\":{\"align\":\"left\"},\"hovermode\":\"closest\",\"paper_bgcolor\":\"white\",\"plot_bgcolor\":\"rgb(234,234,242)\",\"polar\":{\"angularaxis\":{\"gridcolor\":\"white\",\"linecolor\":\"white\",\"showgrid\":true,\"ticks\":\"\"},\"bgcolor\":\"rgb(234,234,242)\",\"radialaxis\":{\"gridcolor\":\"white\",\"linecolor\":\"white\",\"showgrid\":true,\"ticks\":\"\"}},\"scene\":{\"xaxis\":{\"backgroundcolor\":\"rgb(234,234,242)\",\"gridcolor\":\"white\",\"gridwidth\":2,\"linecolor\":\"white\",\"showbackground\":true,\"showgrid\":true,\"ticks\":\"\",\"zerolinecolor\":\"white\"},\"yaxis\":{\"backgroundcolor\":\"rgb(234,234,242)\",\"gridcolor\":\"white\",\"gridwidth\":2,\"linecolor\":\"white\",\"showbackground\":true,\"showgrid\":true,\"ticks\":\"\",\"zerolinecolor\":\"white\"},\"zaxis\":{\"backgroundcolor\":\"rgb(234,234,242)\",\"gridcolor\":\"white\",\"gridwidth\":2,\"linecolor\":\"white\",\"showbackground\":true,\"showgrid\":true,\"ticks\":\"\",\"zerolinecolor\":\"white\"}},\"shapedefaults\":{\"fillcolor\":\"rgb(67,103,167)\",\"line\":{\"width\":0},\"opacity\":0.5},\"ternary\":{\"aaxis\":{\"gridcolor\":\"white\",\"linecolor\":\"white\",\"showgrid\":true,\"ticks\":\"\"},\"baxis\":{\"gridcolor\":\"white\",\"linecolor\":\"white\",\"showgrid\":true,\"ticks\":\"\"},\"bgcolor\":\"rgb(234,234,242)\",\"caxis\":{\"gridcolor\":\"white\",\"linecolor\":\"white\",\"showgrid\":true,\"ticks\":\"\"}},\"xaxis\":{\"automargin\":true,\"gridcolor\":\"white\",\"linecolor\":\"white\",\"showgrid\":true,\"ticks\":\"\",\"title\":{\"standoff\":15},\"zerolinecolor\":\"white\"},\"yaxis\":{\"automargin\":true,\"gridcolor\":\"white\",\"linecolor\":\"white\",\"showgrid\":true,\"ticks\":\"\",\"title\":{\"standoff\":15},\"zerolinecolor\":\"white\"}}},\"title\":{\"text\":\"T vs 2-point Corr\"},\"xaxis\":{\"title\":{\"text\":\"T\"}},\"yaxis\":{\"title\":{\"text\":\"2-point Corr\"}}},                        {\"responsive\": true}                    ).then(function(){\n",
       "                            \n",
       "var gd = document.getElementById('73db0a76-ca90-4509-bb9f-84a6a61fcdaa');\n",
       "var x = new MutationObserver(function (mutations, observer) {{\n",
       "        var display = window.getComputedStyle(gd).display;\n",
       "        if (!display || display === 'none') {{\n",
       "            console.log([gd, 'removed!']);\n",
       "            Plotly.purge(gd);\n",
       "            observer.disconnect();\n",
       "        }}\n",
       "}});\n",
       "\n",
       "// Listen for the removal of the full notebook cells\n",
       "var notebookContainer = gd.closest('#notebook-container');\n",
       "if (notebookContainer) {{\n",
       "    x.observe(notebookContainer, {childList: true});\n",
       "}}\n",
       "\n",
       "// Listen for the clearing of the current output cell\n",
       "var outputEl = gd.closest('.output');\n",
       "if (outputEl) {{\n",
       "    x.observe(outputEl, {childList: true});\n",
       "}}\n",
       "\n",
       "                        })                };                });            </script>        </div>"
      ]
     },
     "metadata": {},
     "output_type": "display_data"
    }
   ],
   "source": [
    "fig = go.Figure()\n",
    "\n",
    "fig.add_trace(go.Scatter(x = results[results['1-point_corr'] == 0.0]['T'],\n",
    "                         y = results[results['1-point_corr'] == 0.0]['corrs'].str[2],\n",
    "                         mode='markers+lines',\n",
    "                         name=results_name\n",
    "                        )\n",
    "             )\n",
    "\n",
    "if cmp_mode:\n",
    "    fig.add_trace(go.Scatter(x = results_comp[results_comp['1-point_corr'] == 0.0]['T'],\n",
    "                             y = results_comp[results_comp['1-point_corr'] == 0.0]['corrs'].str[2],\n",
    "                             mode='markers+lines',\n",
    "                             name=results_comp_name\n",
    "                            )\n",
    "                 )\n",
    "    fig.add_trace(go.Scatter(x = results_comp2[results_comp2['1-point_corr'] == 0.0]['T'],\n",
    "                             y = results_comp2[results_comp2['1-point_corr'] == 0.0]['corrs'].str[2],\n",
    "                             mode='markers+lines',\n",
    "                             name=results_comp2_name\n",
    "                            )\n",
    "                 )\n",
    "    \n",
    "fig.update_layout(\n",
    "    title=\"T vs 2-point Corr\",\n",
    "    xaxis_title=\"T\",\n",
    "    yaxis_title=\"2-point Corr\",\n",
    "    template='seaborn'\n",
    ")\n",
    "#fig.update_traces(texttemplate='%{text:.2s}', textposition='top center')\n",
    "fig.show()"
   ]
  },
  {
   "cell_type": "code",
   "execution_count": null,
   "metadata": {
    "ExecuteTime": {
     "end_time": "2021-09-20T17:36:42.521203Z",
     "start_time": "2021-09-20T17:36:42.499577Z"
    }
   },
   "outputs": [],
   "source": [
    "results[(results['1-point_corr'] == 0.0) & (results['T'] == 1000.0)]['corrs'].str[2]"
   ]
  },
  {
   "cell_type": "code",
   "execution_count": 23,
   "metadata": {
    "ExecuteTime": {
     "end_time": "2021-10-19T00:48:59.545798Z",
     "start_time": "2021-10-19T00:48:59.538521Z"
    }
   },
   "outputs": [],
   "source": [
    "a = [1,2,3,4]\n",
    "b = [5,6,7,8]\n",
    "[1,2,*b]\n",
    "corr0 = [1,2,3,4,5,6]"
   ]
  },
  {
   "cell_type": "code",
   "execution_count": 33,
   "metadata": {
    "ExecuteTime": {
     "end_time": "2021-10-19T01:05:31.291472Z",
     "start_time": "2021-10-19T01:05:31.278658Z"
    }
   },
   "outputs": [
    {
     "data": {
      "text/plain": [
       "array([1.])"
      ]
     },
     "execution_count": 33,
     "metadata": {},
     "output_type": "execute_result"
    }
   ],
   "source": [
    "np.linspace(1,1,1)"
   ]
  },
  {
   "cell_type": "code",
   "execution_count": 71,
   "metadata": {
    "ExecuteTime": {
     "end_time": "2021-10-08T17:05:26.290484Z",
     "start_time": "2021-10-08T17:05:26.274389Z"
    }
   },
   "outputs": [
    {
     "data": {
      "text/plain": [
       "array([  0.,  50., 100., 150., 200., 250., 300., 350., 400., 450., 500.])"
      ]
     },
     "execution_count": 71,
     "metadata": {},
     "output_type": "execute_result"
    }
   ],
   "source": [
    "results_blanket['T'].unique()"
   ]
  },
  {
   "cell_type": "code",
   "execution_count": 96,
   "metadata": {
    "ExecuteTime": {
     "end_time": "2021-10-09T00:03:23.732280Z",
     "start_time": "2021-10-09T00:03:23.590704Z"
    }
   },
   "outputs": [
    {
     "data": {
      "application/vnd.plotly.v1+json": {
       "config": {
        "plotlyServerURL": "https://plot.ly"
       },
       "data": [
        {
         "mode": "markers+lines",
         "name": "T = 500.0: ECI = -0.01",
         "type": "scatter",
         "x": [
          -0.7142857142857142,
          -0.7142857142857142,
          -0.4285714285714285,
          -0.4285714285714285,
          -0.1428571428571428,
          -0.1428571428571428,
          -0.1428571428571428,
          -0.1428571428571428,
          0.1428571428571428,
          0.1428571428571428,
          0.1428571428571428,
          0.1428571428571428,
          0.4285714285714284,
          0.4285714285714284,
          0.4285714285714284,
          0.4285714285714284,
          0.4285714285714284,
          0.4285714285714284,
          0.7142857142857142,
          0.7142857142857142,
          0.7142857142857142,
          0.7142857142857142,
          0.7142857142857142,
          0.7142857142857142,
          0.9999999999999998,
          0.9999999999999998,
          0.9999999999999998,
          0.9999999999999998,
          0.9999999999999998,
          0.9999999999999998,
          0.9999999999999998,
          0.9999999999999998,
          -0.9999999999999998
         ],
         "y": [
          -0.02857142836918755,
          -0.028571428368104005,
          -0.017142857142857144,
          -0.017142857142857144,
          -0.005714285645838197,
          -0.005714285714285716,
          -0.005714285714285716,
          -0.005714285645792262,
          0.00571428571428571,
          0.0057142857142857065,
          0.005714285714285708,
          0.005714285714285708,
          0.017142857142857137,
          0.01714285714285713,
          0.01714285714285713,
          0.01714285714285713,
          0.01714285714285713,
          0.017142857142857137,
          0.028571428571428564,
          0.028571428571428564,
          0.028571428571428564,
          0.028571428571428564,
          0.028571428571428564,
          0.02857142857142856,
          0.03999999986066526,
          0.039999999800831645,
          0.03999999976988218,
          0.03999999976863065,
          0.03999999977172664,
          0.039999999776234856,
          0.03999999980090953,
          0.039999999866613456,
          -0.03999999979818791
         ]
        },
        {
         "mode": "markers+lines",
         "name": "T = 500.0: ECI = -0.01",
         "type": "scatter",
         "x": [
          -0.7142857142857142,
          -0.7142857142857142,
          -0.4285714285714285,
          -0.4285714285714285,
          -0.1428571428571428,
          -0.1428571428571428,
          -0.1428571428571428,
          -0.1428571428571428,
          0.1428571428571428,
          0.1428571428571428,
          0.1428571428571428,
          0.1428571428571428,
          0.4285714285714284,
          0.4285714285714284,
          0.4285714285714284,
          0.4285714285714284,
          0.4285714285714284,
          0.4285714285714284,
          0.7142857142857142,
          0.7142857142857142,
          0.7142857142857142,
          0.7142857142857142,
          0.7142857142857142,
          0.7142857142857142,
          0.9999999999999998,
          0.9999999999999998,
          0.9999999999999998,
          0.9999999999999998,
          0.9999999999999998,
          0.9999999999999998,
          0.9999999999999998,
          0.9999999999999998,
          -0.9999999999999998
         ],
         "y": [
          -0.0354889418520892,
          -0.0354957039273195,
          -0.027209886013304277,
          -0.027176015714828538,
          -0.014478165726644671,
          -0.017183662602078688,
          -0.017138139107394493,
          -0.014478161070794323,
          -0.004418278726679813,
          -0.005897376662767831,
          -0.005919103787635299,
          -0.004440970119310562,
          0.007182690232626639,
          0.007491122988376049,
          0.006654347634275394,
          0.006621752822276167,
          0.007507247791562335,
          0.006559192384000011,
          0.02250170347253257,
          0.021122054270392085,
          0.020597685700664982,
          0.02058636664285095,
          0.021130508900955216,
          0.022497456453807466,
          0.03999999784651636,
          0.0382329423338192,
          0.03742225279811292,
          0.03705757377513867,
          0.037057573763863094,
          0.03742225272203192,
          0.03823294230959121,
          0.03999999789322098,
          -0.042986542523732026
         ]
        },
        {
         "mode": "markers+lines",
         "name": "T = 500.0: ECI = -0.01",
         "type": "scatter",
         "x": [
          -0.7142857142857142,
          -0.7142857142857142,
          -0.4285714285714285,
          -0.4285714285714285,
          -0.1428571428571428,
          -0.1428571428571428,
          -0.1428571428571428,
          -0.1428571428571428,
          0.1428571428571428,
          0.1428571428571428,
          0.1428571428571428,
          0.1428571428571428,
          0.4285714285714284,
          0.4285714285714284,
          0.4285714285714284,
          0.4285714285714284,
          0.4285714285714284,
          0.4285714285714284,
          0.7142857142857142,
          0.7142857142857142,
          0.7142857142857142,
          0.7142857142857142,
          0.7142857142857142,
          0.7142857142857142,
          0.9999999999999998,
          0.9999999999999998,
          0.9999999999999998,
          0.9999999999999998,
          0.9999999999999998,
          0.9999999999999998,
          0.9999999999999998,
          0.9999999999999998,
          -0.9999999999999998
         ],
         "y": [
          -0.04237149771900761,
          -0.04237172555563596,
          -0.037265700574284216,
          -0.03722646722122982,
          -0.023241992178663587,
          -0.02861787099779441,
          -0.028632707045525126,
          -0.02324204845876723,
          -0.014532403514664458,
          -0.017561418769402794,
          -0.01752696386922245,
          -0.014543872659211013,
          -0.0034755481318623632,
          -0.002139760282423908,
          -0.0038454325103212776,
          -0.003900507701387595,
          -0.002164529772352944,
          -0.003892252240244594,
          0.016433218155020378,
          0.013678254519581634,
          0.012609913008941473,
          0.012612021657301246,
          0.013675202493176247,
          0.01642122114624845,
          0.039999995950656286,
          0.036465885036476436,
          0.0348445060127107,
          0.0341151477100807,
          0.03411514776991918,
          0.03484450589388278,
          0.03646588495869451,
          0.03999999592730494,
          -0.04597308541302127
         ]
        },
        {
         "mode": "markers+lines",
         "name": "T = 500.0: ECI = -0.01",
         "type": "scatter",
         "x": [
          -0.7142857142857142,
          -0.7142857142857142,
          -0.4285714285714285,
          -0.4285714285714285,
          -0.1428571428571428,
          -0.1428571428571428,
          -0.1428571428571428,
          -0.1428571428571428,
          0.1428571428571428,
          0.1428571428571428,
          0.1428571428571428,
          0.1428571428571428,
          0.4285714285714284,
          0.4285714285714284,
          0.4285714285714284,
          0.4285714285714284,
          0.4285714285714284,
          0.4285714285714284,
          0.7142857142857142,
          0.7142857142857142,
          0.7142857142857142,
          0.7142857142857142,
          0.7142857142857142,
          0.7142857142857142,
          0.9999999999999998,
          0.9999999999999998,
          0.9999999999999998,
          0.9999999999999998,
          0.9999999999999998,
          0.9999999999999998,
          0.9999999999999998,
          0.9999999999999998,
          -0.9999999999999998
         ],
         "y": [
          -0.049268654519560015,
          -0.04929370966409847,
          -0.047234333357629645,
          -0.04725538879626513,
          -0.03200567442421681,
          -0.04007608932420796,
          -0.0401063621100729,
          -0.03200583987565129,
          -0.0246734902504264,
          -0.029103609443484134,
          -0.029082651051817322,
          -0.02470176904901389,
          -0.015050776953108334,
          -0.011836455583139685,
          -0.014379449177622464,
          -0.014426141840922554,
          -0.011744191761940487,
          -0.015649176335590455,
          0.010354858476828419,
          0.006224050656787827,
          0.004659404064527445,
          0.004657731199703995,
          0.006264863107351772,
          0.010349767826115925,
          0.039999993642540026,
          0.03469882748809828,
          0.03226675878983131,
          0.03117272183408186,
          0.031172721710289134,
          0.03226675877246264,
          0.034698827645335356,
          0.03999999388652455,
          -0.04895962861470204
         ]
        },
        {
         "mode": "markers+lines",
         "name": "T = 500.0: ECI = -0.01",
         "type": "scatter",
         "x": [
          -0.7142857142857142,
          -0.7142857142857142,
          -0.4285714285714285,
          -0.4285714285714285,
          -0.1428571428571428,
          -0.1428571428571428,
          -0.1428571428571428,
          -0.1428571428571428,
          0.1428571428571428,
          0.1428571428571428,
          0.1428571428571428,
          0.1428571428571428,
          0.4285714285714284,
          0.4285714285714284,
          0.4285714285714284,
          0.4285714285714284,
          0.4285714285714284,
          0.4285714285714284,
          0.7142857142857142,
          0.7142857142857142,
          0.7142857142857142,
          0.7142857142857142,
          0.7142857142857142,
          0.7142857142857142,
          0.9999999999999998,
          0.9999999999999998,
          0.9999999999999998,
          0.9999999999999998,
          0.9999999999999998,
          0.9999999999999998,
          0.9999999999999998,
          0.9999999999999998,
          -0.9999999999999998
         ],
         "y": [
          -0.05616740313018796,
          -0.0562185914758007,
          -0.05738146638707228,
          -0.05737235682882714,
          -0.04076935960222264,
          -0.05159012267601919,
          -0.0515444012370087,
          -0.04076966528115529,
          -0.034844713028681404,
          -0.04071484454568784,
          -0.04062419487774817,
          -0.034911939895217715,
          -0.022936468558473016,
          -0.02141712184552427,
          -0.0249616737786009,
          -0.024900618080858302,
          -0.021457375651116477,
          -0.023560641028516762,
          0.0042580439560182815,
          -0.001155357417012226,
          -0.0034091381601258214,
          -0.0033615840264272848,
          -0.0012176642877471423,
          0.004265197699960643,
          0.039999991790975915,
          0.032931769877263664,
          0.029689012034110673,
          0.028230296065904645,
          0.02823029560004231,
          0.02968901203429215,
          0.03293177016553736,
          0.039999991977501606,
          -0.05194617153048234
         ]
        },
        {
         "mode": "markers+lines",
         "name": "T = 500.0: ECI = -0.01",
         "type": "scatter",
         "x": [
          -0.7142857142857142,
          -0.7142857142857142,
          -0.4285714285714285,
          -0.4285714285714285,
          -0.1428571428571428,
          -0.1428571428571428,
          -0.1428571428571428,
          -0.1428571428571428,
          0.1428571428571428,
          0.1428571428571428,
          0.1428571428571428,
          0.1428571428571428,
          0.4285714285714284,
          0.4285714285714284,
          0.4285714285714284,
          0.4285714285714284,
          0.4285714285714284,
          0.4285714285714284,
          0.7142857142857142,
          0.7142857142857142,
          0.7142857142857142,
          0.7142857142857142,
          0.7142857142857142,
          0.7142857142857142,
          0.9999999999999998,
          0.9999999999999998,
          0.9999999999999998,
          0.9999999999999998,
          0.9999999999999998,
          0.9999999999999998,
          0.9999999999999998,
          0.9999999999999998,
          -0.9999999999999998
         ],
         "y": [
          -0.06308001067650504,
          -0.06305755314959155,
          -0.06743836417472879,
          -0.06732106519288028,
          -0.04953370734433188,
          -0.06322028902036059,
          -0.06318930492672953,
          -0.04953370667418236,
          -0.045026555063719005,
          -0.05216668911668869,
          -0.0523457644732205,
          -0.04503406527841897,
          -0.033592007002222715,
          -0.031098611977705113,
          -0.035529607937128865,
          -0.035348610310759254,
          -0.031177982948154128,
          -0.03344851920052576,
          -0.0018190191147748648,
          -0.008673597552751856,
          -0.011318763194173978,
          -0.011330673680561225,
          -0.008651357660482327,
          -0.0018459801876518078,
          0.03999998961831955,
          0.031164713017403943,
          0.02711126459453182,
          0.025287869547345486,
          0.025287869493707163,
          0.027111265353492422,
          0.031164712683693398,
          0.0399999899236553,
          -0.054932714490660825
         ]
        },
        {
         "mode": "markers+lines",
         "name": "T = 500.0: ECI = -0.01",
         "type": "scatter",
         "x": [
          -0.7142857142857142,
          -0.7142857142857142,
          -0.4285714285714285,
          -0.4285714285714285,
          -0.1428571428571428,
          -0.1428571428571428,
          -0.1428571428571428,
          -0.1428571428571428,
          0.1428571428571428,
          0.1428571428571428,
          0.1428571428571428,
          0.1428571428571428,
          0.4285714285714284,
          0.4285714285714284,
          0.4285714285714284,
          0.4285714285714284,
          0.4285714285714284,
          0.4285714285714284,
          0.7142857142857142,
          0.7142857142857142,
          0.7142857142857142,
          0.7142857142857142,
          0.7142857142857142,
          0.7142857142857142,
          0.9999999999999998,
          0.9999999999999998,
          0.9999999999999998,
          0.9999999999999998,
          0.9999999999999998,
          0.9999999999999998,
          0.9999999999999998,
          0.9999999999999998,
          -0.9999999999999998
         ],
         "y": [
          -0.06995746891763203,
          -0.07000032990568583,
          -0.07733227819696133,
          -0.07745961138007508,
          -0.05829757631587662,
          -0.07478104148655222,
          -0.07455165560470173,
          -0.05829662636233164,
          -0.05514873513347279,
          -0.06348662608078251,
          -0.06412528430716707,
          -0.05504866160075758,
          -0.046743594895215915,
          -0.04083721052330251,
          -0.0458254698403255,
          -0.04598839375811255,
          -0.04065125900980633,
          -0.044428560827630734,
          -0.007902052671495949,
          -0.016109598626714947,
          -0.01931989335819652,
          -0.01927310132473438,
          -0.01608732610161083,
          -0.00789193144454519,
          0.039999987524723696,
          0.029397654907902644,
          0.024533518442989326,
          0.022345444311309276,
          0.022345443435557794,
          0.02453351790559844,
          0.029397656607996033,
          0.03999998742287359,
          -0.05791925732171377
         ]
        },
        {
         "mode": "markers+lines",
         "name": "T = 500.0: ECI = -0.01",
         "type": "scatter",
         "x": [
          -0.7142857142857142,
          -0.7142857142857142,
          -0.4285714285714285,
          -0.4285714285714285,
          -0.1428571428571428,
          -0.1428571428571428,
          -0.1428571428571428,
          -0.1428571428571428,
          0.1428571428571428,
          0.1428571428571428,
          0.1428571428571428,
          0.1428571428571428,
          0.4285714285714284,
          0.4285714285714284,
          0.4285714285714284,
          0.4285714285714284,
          0.4285714285714284,
          0.4285714285714284,
          0.7142857142857142,
          0.7142857142857142,
          0.7142857142857142,
          0.7142857142857142,
          0.7142857142857142,
          0.7142857142857142,
          0.9999999999999998,
          0.9999999999999998,
          0.9999999999999998,
          0.9999999999999998,
          0.9999999999999998,
          0.9999999999999998,
          0.9999999999999998,
          0.9999999999999998,
          -0.9999999999999998
         ],
         "y": [
          -0.07681334895391718,
          -0.0768809813881419,
          -0.08751158475587187,
          -0.08746442144238899,
          -0.06706145285353465,
          -0.08548894766001737,
          -0.0855992649095041,
          -0.06706129185203737,
          -0.0652895605263417,
          -0.07536145531486917,
          -0.07549685644288405,
          -0.06533733396810003,
          -0.05501873857833184,
          -0.05028385750131574,
          -0.056319076633130405,
          -0.05658753661690971,
          -0.05046604646164474,
          -0.05272772506636414,
          -0.013917240000109389,
          -0.02353860920833962,
          -0.02722172598517486,
          -0.02725771971166753,
          -0.02355078928997765,
          -0.013981090632908214,
          0.03999998580698975,
          0.027630598105704524,
          0.021955770887800884,
          0.019403017930432826,
          0.019403017241268476,
          0.021955770651052347,
          0.027630598255265232,
          0.03999998559564422,
          -0.06090579982094797
         ]
        },
        {
         "mode": "markers+lines",
         "name": "T = 500.0: ECI = -0.01",
         "type": "scatter",
         "x": [
          -0.7142857142857142,
          -0.7142857142857142,
          -0.4285714285714285,
          -0.4285714285714285,
          -0.1428571428571428,
          -0.1428571428571428,
          -0.1428571428571428,
          -0.1428571428571428,
          0.1428571428571428,
          0.1428571428571428,
          0.1428571428571428,
          0.1428571428571428,
          0.4285714285714284,
          0.4285714285714284,
          0.4285714285714284,
          0.4285714285714284,
          0.4285714285714284,
          0.4285714285714284,
          0.7142857142857142,
          0.7142857142857142,
          0.7142857142857142,
          0.7142857142857142,
          0.7142857142857142,
          0.7142857142857142,
          0.9999999999999998,
          0.9999999999999998,
          0.9999999999999998,
          0.9999999999999998,
          0.9999999999999998,
          0.9999999999999998,
          0.9999999999999998,
          0.9999999999999998,
          -0.9999999999999998
         ],
         "y": [
          -0.08388710246063687,
          -0.08387628474262133,
          -0.09770288113245408,
          -0.09752295171779707,
          -0.07582497238110576,
          -0.09757309399731136,
          -0.09737576270737416,
          -0.07582535972030187,
          -0.0754017478111824,
          -0.08689317390164986,
          -0.08723531238041222,
          -0.07541534884973732,
          -0.06881520652981325,
          -0.06008310122289767,
          -0.0667186683911848,
          -0.06693846834060219,
          -0.05999796524652333,
          -0.06277290127353048,
          -0.020004990519529274,
          -0.030935125824267266,
          -0.035234771523019334,
          -0.03525688736708259,
          -0.03097239557637537,
          -0.02000837517657577,
          0.03999998323688596,
          0.025863539474116293,
          0.019378025005543486,
          0.01646059129334748,
          0.01646059143772205,
          0.0193780248420084,
          0.02586354076070549,
          0.039999983894787886,
          -0.06389234370885719
         ]
        },
        {
         "mode": "markers+lines",
         "name": "T = 500.0: ECI = -0.01",
         "type": "scatter",
         "x": [
          -0.7142857142857142,
          -0.7142857142857142,
          -0.4285714285714285,
          -0.4285714285714285,
          -0.1428571428571428,
          -0.1428571428571428,
          -0.1428571428571428,
          -0.1428571428571428,
          0.1428571428571428,
          0.1428571428571428,
          0.1428571428571428,
          0.1428571428571428,
          0.4285714285714284,
          0.4285714285714284,
          0.4285714285714284,
          0.4285714285714284,
          0.4285714285714284,
          0.4285714285714284,
          0.7142857142857142,
          0.7142857142857142,
          0.7142857142857142,
          0.7142857142857142,
          0.7142857142857142,
          0.7142857142857142,
          0.9999999999999998,
          0.9999999999999998,
          0.9999999999999998,
          0.9999999999999998,
          0.9999999999999998,
          0.9999999999999998,
          0.9999999999999998,
          0.9999999999999998,
          -0.9999999999999998
         ],
         "y": [
          -0.09065060065618015,
          -0.09068114308000236,
          -0.10764566197725556,
          -0.10747462464486937,
          -0.08458923608723981,
          -0.10847582789819774,
          -0.1090508649897483,
          -0.08458897465269782,
          -0.08557812883097564,
          -0.09873397269621194,
          -0.09886189787873768,
          -0.08553211495512478,
          -0.06477934724091639,
          -0.06972944099506734,
          -0.077455153466418,
          -0.07736605572431955,
          -0.06968243048513273,
          -0.07337656541879926,
          -0.026034936487274563,
          -0.03842502264593252,
          -0.043235456414808374,
          -0.04325925087994274,
          -0.03843157603326365,
          -0.026121744822273814,
          0.039999981971763625,
          0.024096483187009746,
          0.016800277318083076,
          0.013518166290942015,
          0.013518165079891235,
          0.016800277226033947,
          0.02409648313687035,
          0.03999998226245485,
          -0.06687888622496134
         ]
        },
        {
         "mode": "markers+lines",
         "name": "T = 500.0: ECI = -0.01",
         "type": "scatter",
         "x": [
          -0.7142857142857142,
          -0.7142857142857142,
          -0.4285714285714285,
          -0.4285714285714285,
          -0.1428571428571428,
          -0.1428571428571428,
          -0.1428571428571428,
          -0.1428571428571428,
          0.1428571428571428,
          0.1428571428571428,
          0.1428571428571428,
          0.1428571428571428,
          0.4285714285714284,
          0.4285714285714284,
          0.4285714285714284,
          0.4285714285714284,
          0.4285714285714284,
          0.4285714285714284,
          0.7142857142857142,
          0.7142857142857142,
          0.7142857142857142,
          0.7142857142857142,
          0.7142857142857142,
          0.7142857142857142,
          0.9999999999999998,
          0.9999999999999998,
          0.9999999999999998,
          0.9999999999999998,
          0.9999999999999998,
          0.9999999999999998,
          0.9999999999999998,
          0.9999999999999998,
          -0.9999999999999998
         ],
         "y": [
          -0.09748178489400336,
          -0.09764871264094473,
          -0.11757687632538838,
          -0.11774135572784585,
          -0.09335292992872934,
          -0.12076191403161551,
          -0.12003672309154796,
          -0.09335295754158397,
          -0.09572481631539005,
          -0.11065907221010342,
          -0.1102346418552217,
          -0.09561270444783093,
          -0.08746103419219538,
          -0.07945232355798802,
          -0.08787369475625174,
          -0.08811194230056428,
          -0.0792002837183037,
          -0.07609363293455054,
          -0.03214089741806738,
          -0.045819262970995145,
          -0.05120151543394638,
          -0.05117273760930821,
          -0.04595715944292825,
          -0.032191470604200315,
          0.039999980015623895,
          0.022329425757292243,
          0.014222530440253508,
          0.010575739592061949,
          -0.0028469529708227415,
          0.014222530003825194,
          0.0223294258911384,
          0.03999997933383871,
          -0.06986542994014516
         ]
        }
       ],
       "layout": {
        "template": {
         "data": {
          "bar": [
           {
            "error_x": {
             "color": "rgb(36,36,36)"
            },
            "error_y": {
             "color": "rgb(36,36,36)"
            },
            "marker": {
             "line": {
              "color": "rgb(234,234,242)",
              "width": 0.5
             },
             "pattern": {
              "fillmode": "overlay",
              "size": 10,
              "solidity": 0.2
             }
            },
            "type": "bar"
           }
          ],
          "barpolar": [
           {
            "marker": {
             "line": {
              "color": "rgb(234,234,242)",
              "width": 0.5
             },
             "pattern": {
              "fillmode": "overlay",
              "size": 10,
              "solidity": 0.2
             }
            },
            "type": "barpolar"
           }
          ],
          "carpet": [
           {
            "aaxis": {
             "endlinecolor": "rgb(36,36,36)",
             "gridcolor": "white",
             "linecolor": "white",
             "minorgridcolor": "white",
             "startlinecolor": "rgb(36,36,36)"
            },
            "baxis": {
             "endlinecolor": "rgb(36,36,36)",
             "gridcolor": "white",
             "linecolor": "white",
             "minorgridcolor": "white",
             "startlinecolor": "rgb(36,36,36)"
            },
            "type": "carpet"
           }
          ],
          "choropleth": [
           {
            "colorbar": {
             "outlinewidth": 0,
             "tickcolor": "rgb(36,36,36)",
             "ticklen": 8,
             "ticks": "outside",
             "tickwidth": 2
            },
            "type": "choropleth"
           }
          ],
          "contour": [
           {
            "colorbar": {
             "outlinewidth": 0,
             "tickcolor": "rgb(36,36,36)",
             "ticklen": 8,
             "ticks": "outside",
             "tickwidth": 2
            },
            "colorscale": [
             [
              0,
              "rgb(2,4,25)"
             ],
             [
              0.06274509803921569,
              "rgb(24,15,41)"
             ],
             [
              0.12549019607843137,
              "rgb(47,23,57)"
             ],
             [
              0.18823529411764706,
              "rgb(71,28,72)"
             ],
             [
              0.25098039215686274,
              "rgb(97,30,82)"
             ],
             [
              0.3137254901960784,
              "rgb(123,30,89)"
             ],
             [
              0.3764705882352941,
              "rgb(150,27,91)"
             ],
             [
              0.4392156862745098,
              "rgb(177,22,88)"
             ],
             [
              0.5019607843137255,
              "rgb(203,26,79)"
             ],
             [
              0.5647058823529412,
              "rgb(223,47,67)"
             ],
             [
              0.6274509803921569,
              "rgb(236,76,61)"
             ],
             [
              0.6901960784313725,
              "rgb(242,107,73)"
             ],
             [
              0.7529411764705882,
              "rgb(244,135,95)"
             ],
             [
              0.8156862745098039,
              "rgb(245,162,122)"
             ],
             [
              0.8784313725490196,
              "rgb(246,188,153)"
             ],
             [
              0.9411764705882353,
              "rgb(247,212,187)"
             ],
             [
              1,
              "rgb(250,234,220)"
             ]
            ],
            "type": "contour"
           }
          ],
          "contourcarpet": [
           {
            "colorbar": {
             "outlinewidth": 0,
             "tickcolor": "rgb(36,36,36)",
             "ticklen": 8,
             "ticks": "outside",
             "tickwidth": 2
            },
            "type": "contourcarpet"
           }
          ],
          "heatmap": [
           {
            "colorbar": {
             "outlinewidth": 0,
             "tickcolor": "rgb(36,36,36)",
             "ticklen": 8,
             "ticks": "outside",
             "tickwidth": 2
            },
            "colorscale": [
             [
              0,
              "rgb(2,4,25)"
             ],
             [
              0.06274509803921569,
              "rgb(24,15,41)"
             ],
             [
              0.12549019607843137,
              "rgb(47,23,57)"
             ],
             [
              0.18823529411764706,
              "rgb(71,28,72)"
             ],
             [
              0.25098039215686274,
              "rgb(97,30,82)"
             ],
             [
              0.3137254901960784,
              "rgb(123,30,89)"
             ],
             [
              0.3764705882352941,
              "rgb(150,27,91)"
             ],
             [
              0.4392156862745098,
              "rgb(177,22,88)"
             ],
             [
              0.5019607843137255,
              "rgb(203,26,79)"
             ],
             [
              0.5647058823529412,
              "rgb(223,47,67)"
             ],
             [
              0.6274509803921569,
              "rgb(236,76,61)"
             ],
             [
              0.6901960784313725,
              "rgb(242,107,73)"
             ],
             [
              0.7529411764705882,
              "rgb(244,135,95)"
             ],
             [
              0.8156862745098039,
              "rgb(245,162,122)"
             ],
             [
              0.8784313725490196,
              "rgb(246,188,153)"
             ],
             [
              0.9411764705882353,
              "rgb(247,212,187)"
             ],
             [
              1,
              "rgb(250,234,220)"
             ]
            ],
            "type": "heatmap"
           }
          ],
          "heatmapgl": [
           {
            "colorbar": {
             "outlinewidth": 0,
             "tickcolor": "rgb(36,36,36)",
             "ticklen": 8,
             "ticks": "outside",
             "tickwidth": 2
            },
            "colorscale": [
             [
              0,
              "rgb(2,4,25)"
             ],
             [
              0.06274509803921569,
              "rgb(24,15,41)"
             ],
             [
              0.12549019607843137,
              "rgb(47,23,57)"
             ],
             [
              0.18823529411764706,
              "rgb(71,28,72)"
             ],
             [
              0.25098039215686274,
              "rgb(97,30,82)"
             ],
             [
              0.3137254901960784,
              "rgb(123,30,89)"
             ],
             [
              0.3764705882352941,
              "rgb(150,27,91)"
             ],
             [
              0.4392156862745098,
              "rgb(177,22,88)"
             ],
             [
              0.5019607843137255,
              "rgb(203,26,79)"
             ],
             [
              0.5647058823529412,
              "rgb(223,47,67)"
             ],
             [
              0.6274509803921569,
              "rgb(236,76,61)"
             ],
             [
              0.6901960784313725,
              "rgb(242,107,73)"
             ],
             [
              0.7529411764705882,
              "rgb(244,135,95)"
             ],
             [
              0.8156862745098039,
              "rgb(245,162,122)"
             ],
             [
              0.8784313725490196,
              "rgb(246,188,153)"
             ],
             [
              0.9411764705882353,
              "rgb(247,212,187)"
             ],
             [
              1,
              "rgb(250,234,220)"
             ]
            ],
            "type": "heatmapgl"
           }
          ],
          "histogram": [
           {
            "marker": {
             "pattern": {
              "fillmode": "overlay",
              "size": 10,
              "solidity": 0.2
             }
            },
            "type": "histogram"
           }
          ],
          "histogram2d": [
           {
            "colorbar": {
             "outlinewidth": 0,
             "tickcolor": "rgb(36,36,36)",
             "ticklen": 8,
             "ticks": "outside",
             "tickwidth": 2
            },
            "colorscale": [
             [
              0,
              "rgb(2,4,25)"
             ],
             [
              0.06274509803921569,
              "rgb(24,15,41)"
             ],
             [
              0.12549019607843137,
              "rgb(47,23,57)"
             ],
             [
              0.18823529411764706,
              "rgb(71,28,72)"
             ],
             [
              0.25098039215686274,
              "rgb(97,30,82)"
             ],
             [
              0.3137254901960784,
              "rgb(123,30,89)"
             ],
             [
              0.3764705882352941,
              "rgb(150,27,91)"
             ],
             [
              0.4392156862745098,
              "rgb(177,22,88)"
             ],
             [
              0.5019607843137255,
              "rgb(203,26,79)"
             ],
             [
              0.5647058823529412,
              "rgb(223,47,67)"
             ],
             [
              0.6274509803921569,
              "rgb(236,76,61)"
             ],
             [
              0.6901960784313725,
              "rgb(242,107,73)"
             ],
             [
              0.7529411764705882,
              "rgb(244,135,95)"
             ],
             [
              0.8156862745098039,
              "rgb(245,162,122)"
             ],
             [
              0.8784313725490196,
              "rgb(246,188,153)"
             ],
             [
              0.9411764705882353,
              "rgb(247,212,187)"
             ],
             [
              1,
              "rgb(250,234,220)"
             ]
            ],
            "type": "histogram2d"
           }
          ],
          "histogram2dcontour": [
           {
            "colorbar": {
             "outlinewidth": 0,
             "tickcolor": "rgb(36,36,36)",
             "ticklen": 8,
             "ticks": "outside",
             "tickwidth": 2
            },
            "colorscale": [
             [
              0,
              "rgb(2,4,25)"
             ],
             [
              0.06274509803921569,
              "rgb(24,15,41)"
             ],
             [
              0.12549019607843137,
              "rgb(47,23,57)"
             ],
             [
              0.18823529411764706,
              "rgb(71,28,72)"
             ],
             [
              0.25098039215686274,
              "rgb(97,30,82)"
             ],
             [
              0.3137254901960784,
              "rgb(123,30,89)"
             ],
             [
              0.3764705882352941,
              "rgb(150,27,91)"
             ],
             [
              0.4392156862745098,
              "rgb(177,22,88)"
             ],
             [
              0.5019607843137255,
              "rgb(203,26,79)"
             ],
             [
              0.5647058823529412,
              "rgb(223,47,67)"
             ],
             [
              0.6274509803921569,
              "rgb(236,76,61)"
             ],
             [
              0.6901960784313725,
              "rgb(242,107,73)"
             ],
             [
              0.7529411764705882,
              "rgb(244,135,95)"
             ],
             [
              0.8156862745098039,
              "rgb(245,162,122)"
             ],
             [
              0.8784313725490196,
              "rgb(246,188,153)"
             ],
             [
              0.9411764705882353,
              "rgb(247,212,187)"
             ],
             [
              1,
              "rgb(250,234,220)"
             ]
            ],
            "type": "histogram2dcontour"
           }
          ],
          "mesh3d": [
           {
            "colorbar": {
             "outlinewidth": 0,
             "tickcolor": "rgb(36,36,36)",
             "ticklen": 8,
             "ticks": "outside",
             "tickwidth": 2
            },
            "type": "mesh3d"
           }
          ],
          "parcoords": [
           {
            "line": {
             "colorbar": {
              "outlinewidth": 0,
              "tickcolor": "rgb(36,36,36)",
              "ticklen": 8,
              "ticks": "outside",
              "tickwidth": 2
             }
            },
            "type": "parcoords"
           }
          ],
          "pie": [
           {
            "automargin": true,
            "type": "pie"
           }
          ],
          "scatter": [
           {
            "marker": {
             "colorbar": {
              "outlinewidth": 0,
              "tickcolor": "rgb(36,36,36)",
              "ticklen": 8,
              "ticks": "outside",
              "tickwidth": 2
             }
            },
            "type": "scatter"
           }
          ],
          "scatter3d": [
           {
            "line": {
             "colorbar": {
              "outlinewidth": 0,
              "tickcolor": "rgb(36,36,36)",
              "ticklen": 8,
              "ticks": "outside",
              "tickwidth": 2
             }
            },
            "marker": {
             "colorbar": {
              "outlinewidth": 0,
              "tickcolor": "rgb(36,36,36)",
              "ticklen": 8,
              "ticks": "outside",
              "tickwidth": 2
             }
            },
            "type": "scatter3d"
           }
          ],
          "scattercarpet": [
           {
            "marker": {
             "colorbar": {
              "outlinewidth": 0,
              "tickcolor": "rgb(36,36,36)",
              "ticklen": 8,
              "ticks": "outside",
              "tickwidth": 2
             }
            },
            "type": "scattercarpet"
           }
          ],
          "scattergeo": [
           {
            "marker": {
             "colorbar": {
              "outlinewidth": 0,
              "tickcolor": "rgb(36,36,36)",
              "ticklen": 8,
              "ticks": "outside",
              "tickwidth": 2
             }
            },
            "type": "scattergeo"
           }
          ],
          "scattergl": [
           {
            "marker": {
             "colorbar": {
              "outlinewidth": 0,
              "tickcolor": "rgb(36,36,36)",
              "ticklen": 8,
              "ticks": "outside",
              "tickwidth": 2
             }
            },
            "type": "scattergl"
           }
          ],
          "scattermapbox": [
           {
            "marker": {
             "colorbar": {
              "outlinewidth": 0,
              "tickcolor": "rgb(36,36,36)",
              "ticklen": 8,
              "ticks": "outside",
              "tickwidth": 2
             }
            },
            "type": "scattermapbox"
           }
          ],
          "scatterpolar": [
           {
            "marker": {
             "colorbar": {
              "outlinewidth": 0,
              "tickcolor": "rgb(36,36,36)",
              "ticklen": 8,
              "ticks": "outside",
              "tickwidth": 2
             }
            },
            "type": "scatterpolar"
           }
          ],
          "scatterpolargl": [
           {
            "marker": {
             "colorbar": {
              "outlinewidth": 0,
              "tickcolor": "rgb(36,36,36)",
              "ticklen": 8,
              "ticks": "outside",
              "tickwidth": 2
             }
            },
            "type": "scatterpolargl"
           }
          ],
          "scatterternary": [
           {
            "marker": {
             "colorbar": {
              "outlinewidth": 0,
              "tickcolor": "rgb(36,36,36)",
              "ticklen": 8,
              "ticks": "outside",
              "tickwidth": 2
             }
            },
            "type": "scatterternary"
           }
          ],
          "surface": [
           {
            "colorbar": {
             "outlinewidth": 0,
             "tickcolor": "rgb(36,36,36)",
             "ticklen": 8,
             "ticks": "outside",
             "tickwidth": 2
            },
            "colorscale": [
             [
              0,
              "rgb(2,4,25)"
             ],
             [
              0.06274509803921569,
              "rgb(24,15,41)"
             ],
             [
              0.12549019607843137,
              "rgb(47,23,57)"
             ],
             [
              0.18823529411764706,
              "rgb(71,28,72)"
             ],
             [
              0.25098039215686274,
              "rgb(97,30,82)"
             ],
             [
              0.3137254901960784,
              "rgb(123,30,89)"
             ],
             [
              0.3764705882352941,
              "rgb(150,27,91)"
             ],
             [
              0.4392156862745098,
              "rgb(177,22,88)"
             ],
             [
              0.5019607843137255,
              "rgb(203,26,79)"
             ],
             [
              0.5647058823529412,
              "rgb(223,47,67)"
             ],
             [
              0.6274509803921569,
              "rgb(236,76,61)"
             ],
             [
              0.6901960784313725,
              "rgb(242,107,73)"
             ],
             [
              0.7529411764705882,
              "rgb(244,135,95)"
             ],
             [
              0.8156862745098039,
              "rgb(245,162,122)"
             ],
             [
              0.8784313725490196,
              "rgb(246,188,153)"
             ],
             [
              0.9411764705882353,
              "rgb(247,212,187)"
             ],
             [
              1,
              "rgb(250,234,220)"
             ]
            ],
            "type": "surface"
           }
          ],
          "table": [
           {
            "cells": {
             "fill": {
              "color": "rgb(231,231,240)"
             },
             "line": {
              "color": "white"
             }
            },
            "header": {
             "fill": {
              "color": "rgb(183,183,191)"
             },
             "line": {
              "color": "white"
             }
            },
            "type": "table"
           }
          ]
         },
         "layout": {
          "annotationdefaults": {
           "arrowcolor": "rgb(67,103,167)"
          },
          "autotypenumbers": "strict",
          "coloraxis": {
           "colorbar": {
            "outlinewidth": 0,
            "tickcolor": "rgb(36,36,36)",
            "ticklen": 8,
            "ticks": "outside",
            "tickwidth": 2
           }
          },
          "colorscale": {
           "sequential": [
            [
             0,
             "rgb(2,4,25)"
            ],
            [
             0.06274509803921569,
             "rgb(24,15,41)"
            ],
            [
             0.12549019607843137,
             "rgb(47,23,57)"
            ],
            [
             0.18823529411764706,
             "rgb(71,28,72)"
            ],
            [
             0.25098039215686274,
             "rgb(97,30,82)"
            ],
            [
             0.3137254901960784,
             "rgb(123,30,89)"
            ],
            [
             0.3764705882352941,
             "rgb(150,27,91)"
            ],
            [
             0.4392156862745098,
             "rgb(177,22,88)"
            ],
            [
             0.5019607843137255,
             "rgb(203,26,79)"
            ],
            [
             0.5647058823529412,
             "rgb(223,47,67)"
            ],
            [
             0.6274509803921569,
             "rgb(236,76,61)"
            ],
            [
             0.6901960784313725,
             "rgb(242,107,73)"
            ],
            [
             0.7529411764705882,
             "rgb(244,135,95)"
            ],
            [
             0.8156862745098039,
             "rgb(245,162,122)"
            ],
            [
             0.8784313725490196,
             "rgb(246,188,153)"
            ],
            [
             0.9411764705882353,
             "rgb(247,212,187)"
            ],
            [
             1,
             "rgb(250,234,220)"
            ]
           ],
           "sequentialminus": [
            [
             0,
             "rgb(2,4,25)"
            ],
            [
             0.06274509803921569,
             "rgb(24,15,41)"
            ],
            [
             0.12549019607843137,
             "rgb(47,23,57)"
            ],
            [
             0.18823529411764706,
             "rgb(71,28,72)"
            ],
            [
             0.25098039215686274,
             "rgb(97,30,82)"
            ],
            [
             0.3137254901960784,
             "rgb(123,30,89)"
            ],
            [
             0.3764705882352941,
             "rgb(150,27,91)"
            ],
            [
             0.4392156862745098,
             "rgb(177,22,88)"
            ],
            [
             0.5019607843137255,
             "rgb(203,26,79)"
            ],
            [
             0.5647058823529412,
             "rgb(223,47,67)"
            ],
            [
             0.6274509803921569,
             "rgb(236,76,61)"
            ],
            [
             0.6901960784313725,
             "rgb(242,107,73)"
            ],
            [
             0.7529411764705882,
             "rgb(244,135,95)"
            ],
            [
             0.8156862745098039,
             "rgb(245,162,122)"
            ],
            [
             0.8784313725490196,
             "rgb(246,188,153)"
            ],
            [
             0.9411764705882353,
             "rgb(247,212,187)"
            ],
            [
             1,
             "rgb(250,234,220)"
            ]
           ]
          },
          "colorway": [
           "rgb(76,114,176)",
           "rgb(221,132,82)",
           "rgb(85,168,104)",
           "rgb(196,78,82)",
           "rgb(129,114,179)",
           "rgb(147,120,96)",
           "rgb(218,139,195)",
           "rgb(140,140,140)",
           "rgb(204,185,116)",
           "rgb(100,181,205)"
          ],
          "font": {
           "color": "rgb(36,36,36)"
          },
          "geo": {
           "bgcolor": "white",
           "lakecolor": "white",
           "landcolor": "rgb(234,234,242)",
           "showlakes": true,
           "showland": true,
           "subunitcolor": "white"
          },
          "hoverlabel": {
           "align": "left"
          },
          "hovermode": "closest",
          "paper_bgcolor": "white",
          "plot_bgcolor": "rgb(234,234,242)",
          "polar": {
           "angularaxis": {
            "gridcolor": "white",
            "linecolor": "white",
            "showgrid": true,
            "ticks": ""
           },
           "bgcolor": "rgb(234,234,242)",
           "radialaxis": {
            "gridcolor": "white",
            "linecolor": "white",
            "showgrid": true,
            "ticks": ""
           }
          },
          "scene": {
           "xaxis": {
            "backgroundcolor": "rgb(234,234,242)",
            "gridcolor": "white",
            "gridwidth": 2,
            "linecolor": "white",
            "showbackground": true,
            "showgrid": true,
            "ticks": "",
            "zerolinecolor": "white"
           },
           "yaxis": {
            "backgroundcolor": "rgb(234,234,242)",
            "gridcolor": "white",
            "gridwidth": 2,
            "linecolor": "white",
            "showbackground": true,
            "showgrid": true,
            "ticks": "",
            "zerolinecolor": "white"
           },
           "zaxis": {
            "backgroundcolor": "rgb(234,234,242)",
            "gridcolor": "white",
            "gridwidth": 2,
            "linecolor": "white",
            "showbackground": true,
            "showgrid": true,
            "ticks": "",
            "zerolinecolor": "white"
           }
          },
          "shapedefaults": {
           "fillcolor": "rgb(67,103,167)",
           "line": {
            "width": 0
           },
           "opacity": 0.5
          },
          "ternary": {
           "aaxis": {
            "gridcolor": "white",
            "linecolor": "white",
            "showgrid": true,
            "ticks": ""
           },
           "baxis": {
            "gridcolor": "white",
            "linecolor": "white",
            "showgrid": true,
            "ticks": ""
           },
           "bgcolor": "rgb(234,234,242)",
           "caxis": {
            "gridcolor": "white",
            "linecolor": "white",
            "showgrid": true,
            "ticks": ""
           }
          },
          "xaxis": {
           "automargin": true,
           "gridcolor": "white",
           "linecolor": "white",
           "showgrid": true,
           "ticks": "",
           "title": {
            "standoff": 15
           },
           "zerolinecolor": "white"
          },
          "yaxis": {
           "automargin": true,
           "gridcolor": "white",
           "linecolor": "white",
           "showgrid": true,
           "ticks": "",
           "title": {
            "standoff": 15
           },
           "zerolinecolor": "white"
          }
         }
        },
        "title": {
         "text": "T vs 2-point Corr"
        },
        "xaxis": {
         "title": {
          "text": "2-point Corr"
         }
        },
        "yaxis": {
         "title": {
          "text": "Energy"
         }
        }
       }
      },
      "text/html": [
       "<div>                            <div id=\"010e681b-4f79-423e-b75a-97966158b5fc\" class=\"plotly-graph-div\" style=\"height:525px; width:100%;\"></div>            <script type=\"text/javascript\">                require([\"plotly\"], function(Plotly) {                    window.PLOTLYENV=window.PLOTLYENV || {};                                    if (document.getElementById(\"010e681b-4f79-423e-b75a-97966158b5fc\")) {                    Plotly.newPlot(                        \"010e681b-4f79-423e-b75a-97966158b5fc\",                        [{\"mode\":\"markers+lines\",\"name\":\"T = 500.0: ECI = -0.01\",\"type\":\"scatter\",\"x\":[-0.7142857142857142,-0.7142857142857142,-0.4285714285714285,-0.4285714285714285,-0.1428571428571428,-0.1428571428571428,-0.1428571428571428,-0.1428571428571428,0.1428571428571428,0.1428571428571428,0.1428571428571428,0.1428571428571428,0.4285714285714284,0.4285714285714284,0.4285714285714284,0.4285714285714284,0.4285714285714284,0.4285714285714284,0.7142857142857142,0.7142857142857142,0.7142857142857142,0.7142857142857142,0.7142857142857142,0.7142857142857142,0.9999999999999998,0.9999999999999998,0.9999999999999998,0.9999999999999998,0.9999999999999998,0.9999999999999998,0.9999999999999998,0.9999999999999998,-0.9999999999999998],\"y\":[-0.02857142836918755,-0.028571428368104005,-0.017142857142857144,-0.017142857142857144,-0.005714285645838197,-0.005714285714285716,-0.005714285714285716,-0.005714285645792262,0.00571428571428571,0.0057142857142857065,0.005714285714285708,0.005714285714285708,0.017142857142857137,0.01714285714285713,0.01714285714285713,0.01714285714285713,0.01714285714285713,0.017142857142857137,0.028571428571428564,0.028571428571428564,0.028571428571428564,0.028571428571428564,0.028571428571428564,0.02857142857142856,0.03999999986066526,0.039999999800831645,0.03999999976988218,0.03999999976863065,0.03999999977172664,0.039999999776234856,0.03999999980090953,0.039999999866613456,-0.03999999979818791]},{\"mode\":\"markers+lines\",\"name\":\"T = 500.0: ECI = -0.01\",\"type\":\"scatter\",\"x\":[-0.7142857142857142,-0.7142857142857142,-0.4285714285714285,-0.4285714285714285,-0.1428571428571428,-0.1428571428571428,-0.1428571428571428,-0.1428571428571428,0.1428571428571428,0.1428571428571428,0.1428571428571428,0.1428571428571428,0.4285714285714284,0.4285714285714284,0.4285714285714284,0.4285714285714284,0.4285714285714284,0.4285714285714284,0.7142857142857142,0.7142857142857142,0.7142857142857142,0.7142857142857142,0.7142857142857142,0.7142857142857142,0.9999999999999998,0.9999999999999998,0.9999999999999998,0.9999999999999998,0.9999999999999998,0.9999999999999998,0.9999999999999998,0.9999999999999998,-0.9999999999999998],\"y\":[-0.0354889418520892,-0.0354957039273195,-0.027209886013304277,-0.027176015714828538,-0.014478165726644671,-0.017183662602078688,-0.017138139107394493,-0.014478161070794323,-0.004418278726679813,-0.005897376662767831,-0.005919103787635299,-0.004440970119310562,0.007182690232626639,0.007491122988376049,0.006654347634275394,0.006621752822276167,0.007507247791562335,0.006559192384000011,0.02250170347253257,0.021122054270392085,0.020597685700664982,0.02058636664285095,0.021130508900955216,0.022497456453807466,0.03999999784651636,0.0382329423338192,0.03742225279811292,0.03705757377513867,0.037057573763863094,0.03742225272203192,0.03823294230959121,0.03999999789322098,-0.042986542523732026]},{\"mode\":\"markers+lines\",\"name\":\"T = 500.0: ECI = -0.01\",\"type\":\"scatter\",\"x\":[-0.7142857142857142,-0.7142857142857142,-0.4285714285714285,-0.4285714285714285,-0.1428571428571428,-0.1428571428571428,-0.1428571428571428,-0.1428571428571428,0.1428571428571428,0.1428571428571428,0.1428571428571428,0.1428571428571428,0.4285714285714284,0.4285714285714284,0.4285714285714284,0.4285714285714284,0.4285714285714284,0.4285714285714284,0.7142857142857142,0.7142857142857142,0.7142857142857142,0.7142857142857142,0.7142857142857142,0.7142857142857142,0.9999999999999998,0.9999999999999998,0.9999999999999998,0.9999999999999998,0.9999999999999998,0.9999999999999998,0.9999999999999998,0.9999999999999998,-0.9999999999999998],\"y\":[-0.04237149771900761,-0.04237172555563596,-0.037265700574284216,-0.03722646722122982,-0.023241992178663587,-0.02861787099779441,-0.028632707045525126,-0.02324204845876723,-0.014532403514664458,-0.017561418769402794,-0.01752696386922245,-0.014543872659211013,-0.0034755481318623632,-0.002139760282423908,-0.0038454325103212776,-0.003900507701387595,-0.002164529772352944,-0.003892252240244594,0.016433218155020378,0.013678254519581634,0.012609913008941473,0.012612021657301246,0.013675202493176247,0.01642122114624845,0.039999995950656286,0.036465885036476436,0.0348445060127107,0.0341151477100807,0.03411514776991918,0.03484450589388278,0.03646588495869451,0.03999999592730494,-0.04597308541302127]},{\"mode\":\"markers+lines\",\"name\":\"T = 500.0: ECI = -0.01\",\"type\":\"scatter\",\"x\":[-0.7142857142857142,-0.7142857142857142,-0.4285714285714285,-0.4285714285714285,-0.1428571428571428,-0.1428571428571428,-0.1428571428571428,-0.1428571428571428,0.1428571428571428,0.1428571428571428,0.1428571428571428,0.1428571428571428,0.4285714285714284,0.4285714285714284,0.4285714285714284,0.4285714285714284,0.4285714285714284,0.4285714285714284,0.7142857142857142,0.7142857142857142,0.7142857142857142,0.7142857142857142,0.7142857142857142,0.7142857142857142,0.9999999999999998,0.9999999999999998,0.9999999999999998,0.9999999999999998,0.9999999999999998,0.9999999999999998,0.9999999999999998,0.9999999999999998,-0.9999999999999998],\"y\":[-0.049268654519560015,-0.04929370966409847,-0.047234333357629645,-0.04725538879626513,-0.03200567442421681,-0.04007608932420796,-0.0401063621100729,-0.03200583987565129,-0.0246734902504264,-0.029103609443484134,-0.029082651051817322,-0.02470176904901389,-0.015050776953108334,-0.011836455583139685,-0.014379449177622464,-0.014426141840922554,-0.011744191761940487,-0.015649176335590455,0.010354858476828419,0.006224050656787827,0.004659404064527445,0.004657731199703995,0.006264863107351772,0.010349767826115925,0.039999993642540026,0.03469882748809828,0.03226675878983131,0.03117272183408186,0.031172721710289134,0.03226675877246264,0.034698827645335356,0.03999999388652455,-0.04895962861470204]},{\"mode\":\"markers+lines\",\"name\":\"T = 500.0: ECI = -0.01\",\"type\":\"scatter\",\"x\":[-0.7142857142857142,-0.7142857142857142,-0.4285714285714285,-0.4285714285714285,-0.1428571428571428,-0.1428571428571428,-0.1428571428571428,-0.1428571428571428,0.1428571428571428,0.1428571428571428,0.1428571428571428,0.1428571428571428,0.4285714285714284,0.4285714285714284,0.4285714285714284,0.4285714285714284,0.4285714285714284,0.4285714285714284,0.7142857142857142,0.7142857142857142,0.7142857142857142,0.7142857142857142,0.7142857142857142,0.7142857142857142,0.9999999999999998,0.9999999999999998,0.9999999999999998,0.9999999999999998,0.9999999999999998,0.9999999999999998,0.9999999999999998,0.9999999999999998,-0.9999999999999998],\"y\":[-0.05616740313018796,-0.0562185914758007,-0.05738146638707228,-0.05737235682882714,-0.04076935960222264,-0.05159012267601919,-0.0515444012370087,-0.04076966528115529,-0.034844713028681404,-0.04071484454568784,-0.04062419487774817,-0.034911939895217715,-0.022936468558473016,-0.02141712184552427,-0.0249616737786009,-0.024900618080858302,-0.021457375651116477,-0.023560641028516762,0.0042580439560182815,-0.001155357417012226,-0.0034091381601258214,-0.0033615840264272848,-0.0012176642877471423,0.004265197699960643,0.039999991790975915,0.032931769877263664,0.029689012034110673,0.028230296065904645,0.02823029560004231,0.02968901203429215,0.03293177016553736,0.039999991977501606,-0.05194617153048234]},{\"mode\":\"markers+lines\",\"name\":\"T = 500.0: ECI = -0.01\",\"type\":\"scatter\",\"x\":[-0.7142857142857142,-0.7142857142857142,-0.4285714285714285,-0.4285714285714285,-0.1428571428571428,-0.1428571428571428,-0.1428571428571428,-0.1428571428571428,0.1428571428571428,0.1428571428571428,0.1428571428571428,0.1428571428571428,0.4285714285714284,0.4285714285714284,0.4285714285714284,0.4285714285714284,0.4285714285714284,0.4285714285714284,0.7142857142857142,0.7142857142857142,0.7142857142857142,0.7142857142857142,0.7142857142857142,0.7142857142857142,0.9999999999999998,0.9999999999999998,0.9999999999999998,0.9999999999999998,0.9999999999999998,0.9999999999999998,0.9999999999999998,0.9999999999999998,-0.9999999999999998],\"y\":[-0.06308001067650504,-0.06305755314959155,-0.06743836417472879,-0.06732106519288028,-0.04953370734433188,-0.06322028902036059,-0.06318930492672953,-0.04953370667418236,-0.045026555063719005,-0.05216668911668869,-0.0523457644732205,-0.04503406527841897,-0.033592007002222715,-0.031098611977705113,-0.035529607937128865,-0.035348610310759254,-0.031177982948154128,-0.03344851920052576,-0.0018190191147748648,-0.008673597552751856,-0.011318763194173978,-0.011330673680561225,-0.008651357660482327,-0.0018459801876518078,0.03999998961831955,0.031164713017403943,0.02711126459453182,0.025287869547345486,0.025287869493707163,0.027111265353492422,0.031164712683693398,0.0399999899236553,-0.054932714490660825]},{\"mode\":\"markers+lines\",\"name\":\"T = 500.0: ECI = -0.01\",\"type\":\"scatter\",\"x\":[-0.7142857142857142,-0.7142857142857142,-0.4285714285714285,-0.4285714285714285,-0.1428571428571428,-0.1428571428571428,-0.1428571428571428,-0.1428571428571428,0.1428571428571428,0.1428571428571428,0.1428571428571428,0.1428571428571428,0.4285714285714284,0.4285714285714284,0.4285714285714284,0.4285714285714284,0.4285714285714284,0.4285714285714284,0.7142857142857142,0.7142857142857142,0.7142857142857142,0.7142857142857142,0.7142857142857142,0.7142857142857142,0.9999999999999998,0.9999999999999998,0.9999999999999998,0.9999999999999998,0.9999999999999998,0.9999999999999998,0.9999999999999998,0.9999999999999998,-0.9999999999999998],\"y\":[-0.06995746891763203,-0.07000032990568583,-0.07733227819696133,-0.07745961138007508,-0.05829757631587662,-0.07478104148655222,-0.07455165560470173,-0.05829662636233164,-0.05514873513347279,-0.06348662608078251,-0.06412528430716707,-0.05504866160075758,-0.046743594895215915,-0.04083721052330251,-0.0458254698403255,-0.04598839375811255,-0.04065125900980633,-0.044428560827630734,-0.007902052671495949,-0.016109598626714947,-0.01931989335819652,-0.01927310132473438,-0.01608732610161083,-0.00789193144454519,0.039999987524723696,0.029397654907902644,0.024533518442989326,0.022345444311309276,0.022345443435557794,0.02453351790559844,0.029397656607996033,0.03999998742287359,-0.05791925732171377]},{\"mode\":\"markers+lines\",\"name\":\"T = 500.0: ECI = -0.01\",\"type\":\"scatter\",\"x\":[-0.7142857142857142,-0.7142857142857142,-0.4285714285714285,-0.4285714285714285,-0.1428571428571428,-0.1428571428571428,-0.1428571428571428,-0.1428571428571428,0.1428571428571428,0.1428571428571428,0.1428571428571428,0.1428571428571428,0.4285714285714284,0.4285714285714284,0.4285714285714284,0.4285714285714284,0.4285714285714284,0.4285714285714284,0.7142857142857142,0.7142857142857142,0.7142857142857142,0.7142857142857142,0.7142857142857142,0.7142857142857142,0.9999999999999998,0.9999999999999998,0.9999999999999998,0.9999999999999998,0.9999999999999998,0.9999999999999998,0.9999999999999998,0.9999999999999998,-0.9999999999999998],\"y\":[-0.07681334895391718,-0.0768809813881419,-0.08751158475587187,-0.08746442144238899,-0.06706145285353465,-0.08548894766001737,-0.0855992649095041,-0.06706129185203737,-0.0652895605263417,-0.07536145531486917,-0.07549685644288405,-0.06533733396810003,-0.05501873857833184,-0.05028385750131574,-0.056319076633130405,-0.05658753661690971,-0.05046604646164474,-0.05272772506636414,-0.013917240000109389,-0.02353860920833962,-0.02722172598517486,-0.02725771971166753,-0.02355078928997765,-0.013981090632908214,0.03999998580698975,0.027630598105704524,0.021955770887800884,0.019403017930432826,0.019403017241268476,0.021955770651052347,0.027630598255265232,0.03999998559564422,-0.06090579982094797]},{\"mode\":\"markers+lines\",\"name\":\"T = 500.0: ECI = -0.01\",\"type\":\"scatter\",\"x\":[-0.7142857142857142,-0.7142857142857142,-0.4285714285714285,-0.4285714285714285,-0.1428571428571428,-0.1428571428571428,-0.1428571428571428,-0.1428571428571428,0.1428571428571428,0.1428571428571428,0.1428571428571428,0.1428571428571428,0.4285714285714284,0.4285714285714284,0.4285714285714284,0.4285714285714284,0.4285714285714284,0.4285714285714284,0.7142857142857142,0.7142857142857142,0.7142857142857142,0.7142857142857142,0.7142857142857142,0.7142857142857142,0.9999999999999998,0.9999999999999998,0.9999999999999998,0.9999999999999998,0.9999999999999998,0.9999999999999998,0.9999999999999998,0.9999999999999998,-0.9999999999999998],\"y\":[-0.08388710246063687,-0.08387628474262133,-0.09770288113245408,-0.09752295171779707,-0.07582497238110576,-0.09757309399731136,-0.09737576270737416,-0.07582535972030187,-0.0754017478111824,-0.08689317390164986,-0.08723531238041222,-0.07541534884973732,-0.06881520652981325,-0.06008310122289767,-0.0667186683911848,-0.06693846834060219,-0.05999796524652333,-0.06277290127353048,-0.020004990519529274,-0.030935125824267266,-0.035234771523019334,-0.03525688736708259,-0.03097239557637537,-0.02000837517657577,0.03999998323688596,0.025863539474116293,0.019378025005543486,0.01646059129334748,0.01646059143772205,0.0193780248420084,0.02586354076070549,0.039999983894787886,-0.06389234370885719]},{\"mode\":\"markers+lines\",\"name\":\"T = 500.0: ECI = -0.01\",\"type\":\"scatter\",\"x\":[-0.7142857142857142,-0.7142857142857142,-0.4285714285714285,-0.4285714285714285,-0.1428571428571428,-0.1428571428571428,-0.1428571428571428,-0.1428571428571428,0.1428571428571428,0.1428571428571428,0.1428571428571428,0.1428571428571428,0.4285714285714284,0.4285714285714284,0.4285714285714284,0.4285714285714284,0.4285714285714284,0.4285714285714284,0.7142857142857142,0.7142857142857142,0.7142857142857142,0.7142857142857142,0.7142857142857142,0.7142857142857142,0.9999999999999998,0.9999999999999998,0.9999999999999998,0.9999999999999998,0.9999999999999998,0.9999999999999998,0.9999999999999998,0.9999999999999998,-0.9999999999999998],\"y\":[-0.09065060065618015,-0.09068114308000236,-0.10764566197725556,-0.10747462464486937,-0.08458923608723981,-0.10847582789819774,-0.1090508649897483,-0.08458897465269782,-0.08557812883097564,-0.09873397269621194,-0.09886189787873768,-0.08553211495512478,-0.06477934724091639,-0.06972944099506734,-0.077455153466418,-0.07736605572431955,-0.06968243048513273,-0.07337656541879926,-0.026034936487274563,-0.03842502264593252,-0.043235456414808374,-0.04325925087994274,-0.03843157603326365,-0.026121744822273814,0.039999981971763625,0.024096483187009746,0.016800277318083076,0.013518166290942015,0.013518165079891235,0.016800277226033947,0.02409648313687035,0.03999998226245485,-0.06687888622496134]},{\"mode\":\"markers+lines\",\"name\":\"T = 500.0: ECI = -0.01\",\"type\":\"scatter\",\"x\":[-0.7142857142857142,-0.7142857142857142,-0.4285714285714285,-0.4285714285714285,-0.1428571428571428,-0.1428571428571428,-0.1428571428571428,-0.1428571428571428,0.1428571428571428,0.1428571428571428,0.1428571428571428,0.1428571428571428,0.4285714285714284,0.4285714285714284,0.4285714285714284,0.4285714285714284,0.4285714285714284,0.4285714285714284,0.7142857142857142,0.7142857142857142,0.7142857142857142,0.7142857142857142,0.7142857142857142,0.7142857142857142,0.9999999999999998,0.9999999999999998,0.9999999999999998,0.9999999999999998,0.9999999999999998,0.9999999999999998,0.9999999999999998,0.9999999999999998,-0.9999999999999998],\"y\":[-0.09748178489400336,-0.09764871264094473,-0.11757687632538838,-0.11774135572784585,-0.09335292992872934,-0.12076191403161551,-0.12003672309154796,-0.09335295754158397,-0.09572481631539005,-0.11065907221010342,-0.1102346418552217,-0.09561270444783093,-0.08746103419219538,-0.07945232355798802,-0.08787369475625174,-0.08811194230056428,-0.0792002837183037,-0.07609363293455054,-0.03214089741806738,-0.045819262970995145,-0.05120151543394638,-0.05117273760930821,-0.04595715944292825,-0.032191470604200315,0.039999980015623895,0.022329425757292243,0.014222530440253508,0.010575739592061949,-0.0028469529708227415,0.014222530003825194,0.0223294258911384,0.03999997933383871,-0.06986542994014516]}],                        {\"template\":{\"data\":{\"bar\":[{\"error_x\":{\"color\":\"rgb(36,36,36)\"},\"error_y\":{\"color\":\"rgb(36,36,36)\"},\"marker\":{\"line\":{\"color\":\"rgb(234,234,242)\",\"width\":0.5},\"pattern\":{\"fillmode\":\"overlay\",\"size\":10,\"solidity\":0.2}},\"type\":\"bar\"}],\"barpolar\":[{\"marker\":{\"line\":{\"color\":\"rgb(234,234,242)\",\"width\":0.5},\"pattern\":{\"fillmode\":\"overlay\",\"size\":10,\"solidity\":0.2}},\"type\":\"barpolar\"}],\"carpet\":[{\"aaxis\":{\"endlinecolor\":\"rgb(36,36,36)\",\"gridcolor\":\"white\",\"linecolor\":\"white\",\"minorgridcolor\":\"white\",\"startlinecolor\":\"rgb(36,36,36)\"},\"baxis\":{\"endlinecolor\":\"rgb(36,36,36)\",\"gridcolor\":\"white\",\"linecolor\":\"white\",\"minorgridcolor\":\"white\",\"startlinecolor\":\"rgb(36,36,36)\"},\"type\":\"carpet\"}],\"choropleth\":[{\"colorbar\":{\"outlinewidth\":0,\"tickcolor\":\"rgb(36,36,36)\",\"ticklen\":8,\"ticks\":\"outside\",\"tickwidth\":2},\"type\":\"choropleth\"}],\"contour\":[{\"colorbar\":{\"outlinewidth\":0,\"tickcolor\":\"rgb(36,36,36)\",\"ticklen\":8,\"ticks\":\"outside\",\"tickwidth\":2},\"colorscale\":[[0.0,\"rgb(2,4,25)\"],[0.06274509803921569,\"rgb(24,15,41)\"],[0.12549019607843137,\"rgb(47,23,57)\"],[0.18823529411764706,\"rgb(71,28,72)\"],[0.25098039215686274,\"rgb(97,30,82)\"],[0.3137254901960784,\"rgb(123,30,89)\"],[0.3764705882352941,\"rgb(150,27,91)\"],[0.4392156862745098,\"rgb(177,22,88)\"],[0.5019607843137255,\"rgb(203,26,79)\"],[0.5647058823529412,\"rgb(223,47,67)\"],[0.6274509803921569,\"rgb(236,76,61)\"],[0.6901960784313725,\"rgb(242,107,73)\"],[0.7529411764705882,\"rgb(244,135,95)\"],[0.8156862745098039,\"rgb(245,162,122)\"],[0.8784313725490196,\"rgb(246,188,153)\"],[0.9411764705882353,\"rgb(247,212,187)\"],[1.0,\"rgb(250,234,220)\"]],\"type\":\"contour\"}],\"contourcarpet\":[{\"colorbar\":{\"outlinewidth\":0,\"tickcolor\":\"rgb(36,36,36)\",\"ticklen\":8,\"ticks\":\"outside\",\"tickwidth\":2},\"type\":\"contourcarpet\"}],\"heatmap\":[{\"colorbar\":{\"outlinewidth\":0,\"tickcolor\":\"rgb(36,36,36)\",\"ticklen\":8,\"ticks\":\"outside\",\"tickwidth\":2},\"colorscale\":[[0.0,\"rgb(2,4,25)\"],[0.06274509803921569,\"rgb(24,15,41)\"],[0.12549019607843137,\"rgb(47,23,57)\"],[0.18823529411764706,\"rgb(71,28,72)\"],[0.25098039215686274,\"rgb(97,30,82)\"],[0.3137254901960784,\"rgb(123,30,89)\"],[0.3764705882352941,\"rgb(150,27,91)\"],[0.4392156862745098,\"rgb(177,22,88)\"],[0.5019607843137255,\"rgb(203,26,79)\"],[0.5647058823529412,\"rgb(223,47,67)\"],[0.6274509803921569,\"rgb(236,76,61)\"],[0.6901960784313725,\"rgb(242,107,73)\"],[0.7529411764705882,\"rgb(244,135,95)\"],[0.8156862745098039,\"rgb(245,162,122)\"],[0.8784313725490196,\"rgb(246,188,153)\"],[0.9411764705882353,\"rgb(247,212,187)\"],[1.0,\"rgb(250,234,220)\"]],\"type\":\"heatmap\"}],\"heatmapgl\":[{\"colorbar\":{\"outlinewidth\":0,\"tickcolor\":\"rgb(36,36,36)\",\"ticklen\":8,\"ticks\":\"outside\",\"tickwidth\":2},\"colorscale\":[[0.0,\"rgb(2,4,25)\"],[0.06274509803921569,\"rgb(24,15,41)\"],[0.12549019607843137,\"rgb(47,23,57)\"],[0.18823529411764706,\"rgb(71,28,72)\"],[0.25098039215686274,\"rgb(97,30,82)\"],[0.3137254901960784,\"rgb(123,30,89)\"],[0.3764705882352941,\"rgb(150,27,91)\"],[0.4392156862745098,\"rgb(177,22,88)\"],[0.5019607843137255,\"rgb(203,26,79)\"],[0.5647058823529412,\"rgb(223,47,67)\"],[0.6274509803921569,\"rgb(236,76,61)\"],[0.6901960784313725,\"rgb(242,107,73)\"],[0.7529411764705882,\"rgb(244,135,95)\"],[0.8156862745098039,\"rgb(245,162,122)\"],[0.8784313725490196,\"rgb(246,188,153)\"],[0.9411764705882353,\"rgb(247,212,187)\"],[1.0,\"rgb(250,234,220)\"]],\"type\":\"heatmapgl\"}],\"histogram\":[{\"marker\":{\"pattern\":{\"fillmode\":\"overlay\",\"size\":10,\"solidity\":0.2}},\"type\":\"histogram\"}],\"histogram2d\":[{\"colorbar\":{\"outlinewidth\":0,\"tickcolor\":\"rgb(36,36,36)\",\"ticklen\":8,\"ticks\":\"outside\",\"tickwidth\":2},\"colorscale\":[[0.0,\"rgb(2,4,25)\"],[0.06274509803921569,\"rgb(24,15,41)\"],[0.12549019607843137,\"rgb(47,23,57)\"],[0.18823529411764706,\"rgb(71,28,72)\"],[0.25098039215686274,\"rgb(97,30,82)\"],[0.3137254901960784,\"rgb(123,30,89)\"],[0.3764705882352941,\"rgb(150,27,91)\"],[0.4392156862745098,\"rgb(177,22,88)\"],[0.5019607843137255,\"rgb(203,26,79)\"],[0.5647058823529412,\"rgb(223,47,67)\"],[0.6274509803921569,\"rgb(236,76,61)\"],[0.6901960784313725,\"rgb(242,107,73)\"],[0.7529411764705882,\"rgb(244,135,95)\"],[0.8156862745098039,\"rgb(245,162,122)\"],[0.8784313725490196,\"rgb(246,188,153)\"],[0.9411764705882353,\"rgb(247,212,187)\"],[1.0,\"rgb(250,234,220)\"]],\"type\":\"histogram2d\"}],\"histogram2dcontour\":[{\"colorbar\":{\"outlinewidth\":0,\"tickcolor\":\"rgb(36,36,36)\",\"ticklen\":8,\"ticks\":\"outside\",\"tickwidth\":2},\"colorscale\":[[0.0,\"rgb(2,4,25)\"],[0.06274509803921569,\"rgb(24,15,41)\"],[0.12549019607843137,\"rgb(47,23,57)\"],[0.18823529411764706,\"rgb(71,28,72)\"],[0.25098039215686274,\"rgb(97,30,82)\"],[0.3137254901960784,\"rgb(123,30,89)\"],[0.3764705882352941,\"rgb(150,27,91)\"],[0.4392156862745098,\"rgb(177,22,88)\"],[0.5019607843137255,\"rgb(203,26,79)\"],[0.5647058823529412,\"rgb(223,47,67)\"],[0.6274509803921569,\"rgb(236,76,61)\"],[0.6901960784313725,\"rgb(242,107,73)\"],[0.7529411764705882,\"rgb(244,135,95)\"],[0.8156862745098039,\"rgb(245,162,122)\"],[0.8784313725490196,\"rgb(246,188,153)\"],[0.9411764705882353,\"rgb(247,212,187)\"],[1.0,\"rgb(250,234,220)\"]],\"type\":\"histogram2dcontour\"}],\"mesh3d\":[{\"colorbar\":{\"outlinewidth\":0,\"tickcolor\":\"rgb(36,36,36)\",\"ticklen\":8,\"ticks\":\"outside\",\"tickwidth\":2},\"type\":\"mesh3d\"}],\"parcoords\":[{\"line\":{\"colorbar\":{\"outlinewidth\":0,\"tickcolor\":\"rgb(36,36,36)\",\"ticklen\":8,\"ticks\":\"outside\",\"tickwidth\":2}},\"type\":\"parcoords\"}],\"pie\":[{\"automargin\":true,\"type\":\"pie\"}],\"scatter\":[{\"marker\":{\"colorbar\":{\"outlinewidth\":0,\"tickcolor\":\"rgb(36,36,36)\",\"ticklen\":8,\"ticks\":\"outside\",\"tickwidth\":2}},\"type\":\"scatter\"}],\"scatter3d\":[{\"line\":{\"colorbar\":{\"outlinewidth\":0,\"tickcolor\":\"rgb(36,36,36)\",\"ticklen\":8,\"ticks\":\"outside\",\"tickwidth\":2}},\"marker\":{\"colorbar\":{\"outlinewidth\":0,\"tickcolor\":\"rgb(36,36,36)\",\"ticklen\":8,\"ticks\":\"outside\",\"tickwidth\":2}},\"type\":\"scatter3d\"}],\"scattercarpet\":[{\"marker\":{\"colorbar\":{\"outlinewidth\":0,\"tickcolor\":\"rgb(36,36,36)\",\"ticklen\":8,\"ticks\":\"outside\",\"tickwidth\":2}},\"type\":\"scattercarpet\"}],\"scattergeo\":[{\"marker\":{\"colorbar\":{\"outlinewidth\":0,\"tickcolor\":\"rgb(36,36,36)\",\"ticklen\":8,\"ticks\":\"outside\",\"tickwidth\":2}},\"type\":\"scattergeo\"}],\"scattergl\":[{\"marker\":{\"colorbar\":{\"outlinewidth\":0,\"tickcolor\":\"rgb(36,36,36)\",\"ticklen\":8,\"ticks\":\"outside\",\"tickwidth\":2}},\"type\":\"scattergl\"}],\"scattermapbox\":[{\"marker\":{\"colorbar\":{\"outlinewidth\":0,\"tickcolor\":\"rgb(36,36,36)\",\"ticklen\":8,\"ticks\":\"outside\",\"tickwidth\":2}},\"type\":\"scattermapbox\"}],\"scatterpolar\":[{\"marker\":{\"colorbar\":{\"outlinewidth\":0,\"tickcolor\":\"rgb(36,36,36)\",\"ticklen\":8,\"ticks\":\"outside\",\"tickwidth\":2}},\"type\":\"scatterpolar\"}],\"scatterpolargl\":[{\"marker\":{\"colorbar\":{\"outlinewidth\":0,\"tickcolor\":\"rgb(36,36,36)\",\"ticklen\":8,\"ticks\":\"outside\",\"tickwidth\":2}},\"type\":\"scatterpolargl\"}],\"scatterternary\":[{\"marker\":{\"colorbar\":{\"outlinewidth\":0,\"tickcolor\":\"rgb(36,36,36)\",\"ticklen\":8,\"ticks\":\"outside\",\"tickwidth\":2}},\"type\":\"scatterternary\"}],\"surface\":[{\"colorbar\":{\"outlinewidth\":0,\"tickcolor\":\"rgb(36,36,36)\",\"ticklen\":8,\"ticks\":\"outside\",\"tickwidth\":2},\"colorscale\":[[0.0,\"rgb(2,4,25)\"],[0.06274509803921569,\"rgb(24,15,41)\"],[0.12549019607843137,\"rgb(47,23,57)\"],[0.18823529411764706,\"rgb(71,28,72)\"],[0.25098039215686274,\"rgb(97,30,82)\"],[0.3137254901960784,\"rgb(123,30,89)\"],[0.3764705882352941,\"rgb(150,27,91)\"],[0.4392156862745098,\"rgb(177,22,88)\"],[0.5019607843137255,\"rgb(203,26,79)\"],[0.5647058823529412,\"rgb(223,47,67)\"],[0.6274509803921569,\"rgb(236,76,61)\"],[0.6901960784313725,\"rgb(242,107,73)\"],[0.7529411764705882,\"rgb(244,135,95)\"],[0.8156862745098039,\"rgb(245,162,122)\"],[0.8784313725490196,\"rgb(246,188,153)\"],[0.9411764705882353,\"rgb(247,212,187)\"],[1.0,\"rgb(250,234,220)\"]],\"type\":\"surface\"}],\"table\":[{\"cells\":{\"fill\":{\"color\":\"rgb(231,231,240)\"},\"line\":{\"color\":\"white\"}},\"header\":{\"fill\":{\"color\":\"rgb(183,183,191)\"},\"line\":{\"color\":\"white\"}},\"type\":\"table\"}]},\"layout\":{\"annotationdefaults\":{\"arrowcolor\":\"rgb(67,103,167)\"},\"autotypenumbers\":\"strict\",\"coloraxis\":{\"colorbar\":{\"outlinewidth\":0,\"tickcolor\":\"rgb(36,36,36)\",\"ticklen\":8,\"ticks\":\"outside\",\"tickwidth\":2}},\"colorscale\":{\"sequential\":[[0.0,\"rgb(2,4,25)\"],[0.06274509803921569,\"rgb(24,15,41)\"],[0.12549019607843137,\"rgb(47,23,57)\"],[0.18823529411764706,\"rgb(71,28,72)\"],[0.25098039215686274,\"rgb(97,30,82)\"],[0.3137254901960784,\"rgb(123,30,89)\"],[0.3764705882352941,\"rgb(150,27,91)\"],[0.4392156862745098,\"rgb(177,22,88)\"],[0.5019607843137255,\"rgb(203,26,79)\"],[0.5647058823529412,\"rgb(223,47,67)\"],[0.6274509803921569,\"rgb(236,76,61)\"],[0.6901960784313725,\"rgb(242,107,73)\"],[0.7529411764705882,\"rgb(244,135,95)\"],[0.8156862745098039,\"rgb(245,162,122)\"],[0.8784313725490196,\"rgb(246,188,153)\"],[0.9411764705882353,\"rgb(247,212,187)\"],[1.0,\"rgb(250,234,220)\"]],\"sequentialminus\":[[0.0,\"rgb(2,4,25)\"],[0.06274509803921569,\"rgb(24,15,41)\"],[0.12549019607843137,\"rgb(47,23,57)\"],[0.18823529411764706,\"rgb(71,28,72)\"],[0.25098039215686274,\"rgb(97,30,82)\"],[0.3137254901960784,\"rgb(123,30,89)\"],[0.3764705882352941,\"rgb(150,27,91)\"],[0.4392156862745098,\"rgb(177,22,88)\"],[0.5019607843137255,\"rgb(203,26,79)\"],[0.5647058823529412,\"rgb(223,47,67)\"],[0.6274509803921569,\"rgb(236,76,61)\"],[0.6901960784313725,\"rgb(242,107,73)\"],[0.7529411764705882,\"rgb(244,135,95)\"],[0.8156862745098039,\"rgb(245,162,122)\"],[0.8784313725490196,\"rgb(246,188,153)\"],[0.9411764705882353,\"rgb(247,212,187)\"],[1.0,\"rgb(250,234,220)\"]]},\"colorway\":[\"rgb(76,114,176)\",\"rgb(221,132,82)\",\"rgb(85,168,104)\",\"rgb(196,78,82)\",\"rgb(129,114,179)\",\"rgb(147,120,96)\",\"rgb(218,139,195)\",\"rgb(140,140,140)\",\"rgb(204,185,116)\",\"rgb(100,181,205)\"],\"font\":{\"color\":\"rgb(36,36,36)\"},\"geo\":{\"bgcolor\":\"white\",\"lakecolor\":\"white\",\"landcolor\":\"rgb(234,234,242)\",\"showlakes\":true,\"showland\":true,\"subunitcolor\":\"white\"},\"hoverlabel\":{\"align\":\"left\"},\"hovermode\":\"closest\",\"paper_bgcolor\":\"white\",\"plot_bgcolor\":\"rgb(234,234,242)\",\"polar\":{\"angularaxis\":{\"gridcolor\":\"white\",\"linecolor\":\"white\",\"showgrid\":true,\"ticks\":\"\"},\"bgcolor\":\"rgb(234,234,242)\",\"radialaxis\":{\"gridcolor\":\"white\",\"linecolor\":\"white\",\"showgrid\":true,\"ticks\":\"\"}},\"scene\":{\"xaxis\":{\"backgroundcolor\":\"rgb(234,234,242)\",\"gridcolor\":\"white\",\"gridwidth\":2,\"linecolor\":\"white\",\"showbackground\":true,\"showgrid\":true,\"ticks\":\"\",\"zerolinecolor\":\"white\"},\"yaxis\":{\"backgroundcolor\":\"rgb(234,234,242)\",\"gridcolor\":\"white\",\"gridwidth\":2,\"linecolor\":\"white\",\"showbackground\":true,\"showgrid\":true,\"ticks\":\"\",\"zerolinecolor\":\"white\"},\"zaxis\":{\"backgroundcolor\":\"rgb(234,234,242)\",\"gridcolor\":\"white\",\"gridwidth\":2,\"linecolor\":\"white\",\"showbackground\":true,\"showgrid\":true,\"ticks\":\"\",\"zerolinecolor\":\"white\"}},\"shapedefaults\":{\"fillcolor\":\"rgb(67,103,167)\",\"line\":{\"width\":0},\"opacity\":0.5},\"ternary\":{\"aaxis\":{\"gridcolor\":\"white\",\"linecolor\":\"white\",\"showgrid\":true,\"ticks\":\"\"},\"baxis\":{\"gridcolor\":\"white\",\"linecolor\":\"white\",\"showgrid\":true,\"ticks\":\"\"},\"bgcolor\":\"rgb(234,234,242)\",\"caxis\":{\"gridcolor\":\"white\",\"linecolor\":\"white\",\"showgrid\":true,\"ticks\":\"\"}},\"xaxis\":{\"automargin\":true,\"gridcolor\":\"white\",\"linecolor\":\"white\",\"showgrid\":true,\"ticks\":\"\",\"title\":{\"standoff\":15},\"zerolinecolor\":\"white\"},\"yaxis\":{\"automargin\":true,\"gridcolor\":\"white\",\"linecolor\":\"white\",\"showgrid\":true,\"ticks\":\"\",\"title\":{\"standoff\":15},\"zerolinecolor\":\"white\"}}},\"title\":{\"text\":\"T vs 2-point Corr\"},\"xaxis\":{\"title\":{\"text\":\"2-point Corr\"}},\"yaxis\":{\"title\":{\"text\":\"Energy\"}}},                        {\"responsive\": true}                    ).then(function(){\n",
       "                            \n",
       "var gd = document.getElementById('010e681b-4f79-423e-b75a-97966158b5fc');\n",
       "var x = new MutationObserver(function (mutations, observer) {{\n",
       "        var display = window.getComputedStyle(gd).display;\n",
       "        if (!display || display === 'none') {{\n",
       "            console.log([gd, 'removed!']);\n",
       "            Plotly.purge(gd);\n",
       "            observer.disconnect();\n",
       "        }}\n",
       "}});\n",
       "\n",
       "// Listen for the removal of the full notebook cells\n",
       "var notebookContainer = gd.closest('#notebook-container');\n",
       "if (notebookContainer) {{\n",
       "    x.observe(notebookContainer, {childList: true});\n",
       "}}\n",
       "\n",
       "// Listen for the clearing of the current output cell\n",
       "var outputEl = gd.closest('.output');\n",
       "if (outputEl) {{\n",
       "    x.observe(outputEl, {childList: true});\n",
       "}}\n",
       "\n",
       "                        })                };                });            </script>        </div>"
      ]
     },
     "metadata": {},
     "output_type": "display_data"
    }
   ],
   "source": [
    "results_blanket = pd.read_pickle('results/blanket_0.01_500_08.pickle')\n",
    "\n",
    "fig = go.Figure()\n",
    "for temp in results_blanket['T'].unique():\n",
    "    fig.add_trace(go.Scatter(x = results_blanket[results_blanket['T'] == temp]['2-point_corr'],\n",
    "                             y = results_blanket[results_blanket['T'] == temp]['F'],\n",
    "                             mode='markers+lines',\n",
    "                             name=f\"T = {T}: ECI = {results_blanket.iloc[0]['F']/4:.2f}\",\n",
    "                            )\n",
    "                 )\n",
    "    \n",
    "fig.update_layout(\n",
    "    title=\"T vs 2-point Corr\",\n",
    "    xaxis_title=\"2-point Corr\",\n",
    "    yaxis_title=\"Energy\",\n",
    "    template='seaborn'\n",
    ")\n",
    "fig.show()"
   ]
  },
  {
   "cell_type": "markdown",
   "metadata": {
    "heading_collapsed": true
   },
   "source": [
    "# Fixed 1-pt and 2-pt NN correlation"
   ]
  },
  {
   "cell_type": "code",
   "execution_count": 15,
   "metadata": {
    "ExecuteTime": {
     "end_time": "2021-10-18T19:02:55.667062Z",
     "start_time": "2021-10-18T19:02:55.617914Z"
    },
    "hidden": true
   },
   "outputs": [],
   "source": [
    "from scipy.spatial import Delaunay\n",
    "fig = go.Figure()\n",
    "results_blanket = pd.read_pickle('results/blanket_0.01_500_08.pickle')\n",
    "\n",
    "Xs = results_blanket['1-point_corr'].values\n",
    "Ys = results_blanket['2-point_corr'].values\n",
    "Zs = results_blanket['F'].values\n",
    "\n",
    "points2D = np.vstack([Xs,Ys]).T\n",
    "tri = Delaunay(points2D)\n",
    "\n",
    "simplices = tri.simplices"
   ]
  },
  {
   "cell_type": "code",
   "execution_count": null,
   "metadata": {
    "ExecuteTime": {
     "end_time": "2021-09-28T16:52:06.560092Z",
     "start_time": "2021-09-28T16:52:06.242413Z"
    },
    "code_folding": [
     0
    ],
    "hidden": true,
    "scrolled": true
   },
   "outputs": [],
   "source": [
    "# fig = go.Figure()\n",
    "# #fig.add_trace(traces)\n",
    "# fig.update_layout(\n",
    "#     xaxis_title=\"1-point Corr\",\n",
    "#     yaxis_title=\"2-point Corr\",\n",
    "#     template='ggplot2',\n",
    "#     legend_title=\"Legend Title\",\n",
    "# )\n",
    "# for temp in [0,50]:#[0.,  50., 100., 150., 200., 250., 300., 350., 400., 450., 500.]:\n",
    "#     Xs = results_blanket[results_blanket['T'] == temp]['1-point_corr'].values\n",
    "#     Ys = results_blanket[results_blanket['T'] == temp]['2-point_corr'].values\n",
    "#     Zs = results_blanket[results_blanket['T'] == temp]['F'].values\n",
    "#     points2D = np.vstack([Xs,Ys]).T\n",
    "#     tri = Delaunay(points2D)\n",
    "\n",
    "#     simplices = tri.simplices\n",
    "#     temp_trace = ff.create_trisurf(x=Xs, y=Ys, z=Zs,\n",
    "#                                    simplices=simplices,\n",
    "#                                    title=\"F vs singlet-NN-corrlations\",\n",
    "#                                    width=1000,\n",
    "#                                    height=1000,\n",
    "#                                    #aspectratio=dict(x=1, y=1, z=10)\n",
    "#                                   )\n",
    "#     fig.add_traces([temp_trace.data[0]])\n",
    "\n",
    "# fig.layout.scene.xaxis.title='1-point Correlation'\n",
    "# fig.layout.scene.yaxis.title='2-point Correlation'\n",
    "# fig.layout.scene.zaxis.title='F'\n",
    "\n",
    "# fig.update_layout(\n",
    "#     autosize=False,\n",
    "#     width=750,\n",
    "#     height=750,\n",
    "# )\n",
    "\n",
    "\n",
    "# fig.show()"
   ]
  },
  {
   "cell_type": "code",
   "execution_count": null,
   "metadata": {
    "ExecuteTime": {
     "end_time": "2021-09-28T16:43:15.453550Z",
     "start_time": "2021-09-28T16:43:15.444597Z"
    },
    "code_folding": [
     0
    ],
    "hidden": true
   },
   "outputs": [],
   "source": [
    "# fig = go.Figure()\n",
    "\n",
    "\n",
    "# results = results_blanket#[(results_blanket['T'] == 250) | (results_blanket['T'] == 125)]\n",
    "\n",
    "# for T in [500]:\n",
    "#     results = results_blanket[results_blanket['T'] == T]\n",
    "#     fig.add_trace(go.Scatter3d(x = results['1-point_corr'],\n",
    "#                                y = results['2-point_corr'],\n",
    "#                                z = results['F'],\n",
    "#                                mode='markers',\n",
    "#                                #name=f\"T = {T}: ECI = {results_blanket.iloc[0]['F']/4:.2f}\",\n",
    "#                               )\n",
    "#                  )\n",
    "\n",
    "#     fig.update_traces(marker=dict(size=3,\n",
    "#                                   line=dict(width=2,\n",
    "#                                            ),\n",
    "#                                   color=list(results['T'].values),\n",
    "#                                   colorscale='Viridis',\n",
    "#                                   colorbar=dict(thickness=20)\n",
    "#                                  ),#'DarkSlateGrey')),\n",
    "\n",
    "#                       selector=dict(mode='markers'))\n",
    "\n",
    "#     fig.update_layout(\n",
    "#         title=\"F vs sinle and pair Correlation\",\n",
    "#         template='seaborn',\n",
    "#         scene = dict(\n",
    "#             xaxis = dict(title='1-pt Correlation'),\n",
    "#             yaxis = dict(title='2-pt Correlation'),\n",
    "#             zaxis = dict(title='F')),\n",
    "#     ),\n",
    "\n",
    "\n",
    "#     fig.show()"
   ]
  },
  {
   "cell_type": "code",
   "execution_count": 77,
   "metadata": {
    "ExecuteTime": {
     "end_time": "2021-10-08T17:07:17.353590Z",
     "start_time": "2021-10-08T17:07:17.347242Z"
    },
    "hidden": true
   },
   "outputs": [
    {
     "data": {
      "text/plain": [
       "array([  0.,  50., 100., 150., 200., 250., 300., 350., 400., 450., 500.])"
      ]
     },
     "execution_count": 77,
     "metadata": {},
     "output_type": "execute_result"
    }
   ],
   "source": [
    "results_blanket['T'].unique()"
   ]
  },
  {
   "cell_type": "code",
   "execution_count": 78,
   "metadata": {
    "ExecuteTime": {
     "end_time": "2021-10-08T17:07:18.422299Z",
     "start_time": "2021-10-08T17:07:18.417312Z"
    },
    "hidden": true
   },
   "outputs": [
    {
     "data": {
      "text/plain": [
       "array([  0.,  50., 100., 150., 200., 250., 300., 350., 400., 450., 500.])"
      ]
     },
     "execution_count": 78,
     "metadata": {},
     "output_type": "execute_result"
    }
   ],
   "source": [
    "temperatures"
   ]
  },
  {
   "cell_type": "code",
   "execution_count": 19,
   "metadata": {
    "ExecuteTime": {
     "end_time": "2021-10-14T03:11:24.966955Z",
     "start_time": "2021-10-14T03:11:19.267299Z"
    },
    "hidden": true
   },
   "outputs": [
    {
     "data": {
      "image/png": "[encoded data removed]",
      "text/plain": [
       "<Figure size 2800x2800 with 23 Axes>"
      ]
     },
     "metadata": {},
     "output_type": "display_data"
    }
   ],
   "source": [
    "import matplotlib.tri as tri\n",
    "\n",
    "single_temp = 300\n",
    "single = False\n",
    "temperatures = results_blanket['T'].unique()\n",
    "\n",
    "plt.style.use('ggplot')\n",
    "if not single:\n",
    "    fig, axs = plt.subplots(nrows=4,\n",
    "                            ncols=3,\n",
    "                            figsize=(28, 28), \n",
    "                            dpi=100)\n",
    "else:\n",
    "    fig, axs = plt.subplots(nrows=1,figsize=(8, 6),dpi=100)\n",
    "    temp = single_temp \n",
    "\n",
    "for i, ax2 in enumerate(fig.axes):\n",
    "\n",
    "    if not single:\n",
    "        try:\n",
    "            temp = temperatures[i]\n",
    "        except IndexError:\n",
    "            continue\n",
    "    else:\n",
    "        temp = single_temp\n",
    "    \n",
    "    Xs = results_blanket[results_blanket['T'] == temp]['1-point_corr'].values\n",
    "    Ys = results_blanket[results_blanket['T'] == temp]['2-point_corr'].values\n",
    "    Zs = results_blanket[results_blanket['T'] == temp]['F'].values\n",
    "    \n",
    "    ax2.set_title(f'T = {temp}')\n",
    "    \n",
    "    ax2.tricontour(Xs, Ys, Zs, levels=10, linewidths=0.5,)\n",
    "    cntr2 = ax2.tricontourf(Xs, Ys, Zs, levels=14,)\n",
    "    \n",
    "    fig.colorbar(cntr2, ax=ax2,label='F',)\n",
    "    ax2.plot(Xs, Ys, 'ko', ms=3)\n",
    "    ax2.set(xlim=(-1, 1), ylim=(-1, 1))\n",
    "\n",
    "    plt.xlabel(\"1-point Correlation\")\n",
    "    plt.ylabel(\"2-point NN Correlation\")\n",
    "    plt.subplots_adjust(hspace=0.5)\n",
    "\n",
    "plt.tight_layout()\n",
    "plt.show()"
   ]
  },
  {
   "cell_type": "code",
   "execution_count": 85,
   "metadata": {
    "ExecuteTime": {
     "end_time": "2021-10-08T17:08:32.588656Z",
     "start_time": "2021-10-08T17:08:32.523573Z"
    },
    "hidden": true
   },
   "outputs": [
    {
     "data": {
      "text/html": [
       "<div>\n",
       "<style scoped>\n",
       "    .dataframe tbody tr th:only-of-type {\n",
       "        vertical-align: middle;\n",
       "    }\n",
       "\n",
       "    .dataframe tbody tr th {\n",
       "        vertical-align: top;\n",
       "    }\n",
       "\n",
       "    .dataframe thead th {\n",
       "        text-align: right;\n",
       "    }\n",
       "</style>\n",
       "<table border=\"1\" class=\"dataframe\">\n",
       "  <thead>\n",
       "    <tr style=\"text-align: right;\">\n",
       "      <th></th>\n",
       "      <th>T</th>\n",
       "      <th>1-point_corr</th>\n",
       "      <th>2-point_corr</th>\n",
       "      <th>F</th>\n",
       "      <th>corrs</th>\n",
       "    </tr>\n",
       "  </thead>\n",
       "  <tbody>\n",
       "    <tr>\n",
       "      <th>0</th>\n",
       "      <td>0.0</td>\n",
       "      <td>-0.052632</td>\n",
       "      <td>-0.894737</td>\n",
       "      <td>-0.035789</td>\n",
       "      <td>[1.0000000034868197, -0.05263157853401845, -0....</td>\n",
       "    </tr>\n",
       "    <tr>\n",
       "      <th>1</th>\n",
       "      <td>0.0</td>\n",
       "      <td>0.052632</td>\n",
       "      <td>-0.894737</td>\n",
       "      <td>-0.035789</td>\n",
       "      <td>[1.0000000037013677, 0.05263157874838542, -0.8...</td>\n",
       "    </tr>\n",
       "    <tr>\n",
       "      <th>2</th>\n",
       "      <td>0.0</td>\n",
       "      <td>-0.052632</td>\n",
       "      <td>-0.789474</td>\n",
       "      <td>-0.031579</td>\n",
       "      <td>[1.0, -0.05263157894736836, -0.789473684210526...</td>\n",
       "    </tr>\n",
       "    <tr>\n",
       "      <th>3</th>\n",
       "      <td>0.0</td>\n",
       "      <td>0.052632</td>\n",
       "      <td>-0.789474</td>\n",
       "      <td>-0.031579</td>\n",
       "      <td>[1.0, 0.05263157894736837, -0.7894736842105261...</td>\n",
       "    </tr>\n",
       "    <tr>\n",
       "      <th>4</th>\n",
       "      <td>0.0</td>\n",
       "      <td>-0.157895</td>\n",
       "      <td>-0.684211</td>\n",
       "      <td>-0.027368</td>\n",
       "      <td>[1.0000000045365027, -0.1578947352810913, -0.6...</td>\n",
       "    </tr>\n",
       "    <tr>\n",
       "      <th>...</th>\n",
       "      <td>...</td>\n",
       "      <td>...</td>\n",
       "      <td>...</td>\n",
       "      <td>...</td>\n",
       "      <td>...</td>\n",
       "    </tr>\n",
       "    <tr>\n",
       "      <th>2195</th>\n",
       "      <td>500.0</td>\n",
       "      <td>0.684211</td>\n",
       "      <td>1.000000</td>\n",
       "      <td>0.021207</td>\n",
       "      <td>[1.0000000045119195, 0.6842105167403212, 0.999...</td>\n",
       "    </tr>\n",
       "    <tr>\n",
       "      <th>2196</th>\n",
       "      <td>500.0</td>\n",
       "      <td>0.789474</td>\n",
       "      <td>1.000000</td>\n",
       "      <td>0.025501</td>\n",
       "      <td>[1.0000000038536705, 0.7894736746463109, 0.999...</td>\n",
       "    </tr>\n",
       "    <tr>\n",
       "      <th>2197</th>\n",
       "      <td>500.0</td>\n",
       "      <td>0.894737</td>\n",
       "      <td>1.000000</td>\n",
       "      <td>0.031116</td>\n",
       "      <td>[1.0000000034895447, 0.8947368324710926, 0.999...</td>\n",
       "    </tr>\n",
       "    <tr>\n",
       "      <th>2198</th>\n",
       "      <td>500.0</td>\n",
       "      <td>1.000000</td>\n",
       "      <td>1.000000</td>\n",
       "      <td>0.040000</td>\n",
       "      <td>[1.0000000024171083, 0.9999999925344217, 0.999...</td>\n",
       "    </tr>\n",
       "    <tr>\n",
       "      <th>2199</th>\n",
       "      <td>500.0</td>\n",
       "      <td>0.000000</td>\n",
       "      <td>-1.000000</td>\n",
       "      <td>-0.069865</td>\n",
       "      <td>[1.0000000060258067, 9.834921011294135e-11, -0...</td>\n",
       "    </tr>\n",
       "  </tbody>\n",
       "</table>\n",
       "<p>2200 rows × 5 columns</p>\n",
       "</div>"
      ],
      "text/plain": [
       "          T  1-point_corr  2-point_corr         F  \\\n",
       "0       0.0     -0.052632     -0.894737 -0.035789   \n",
       "1       0.0      0.052632     -0.894737 -0.035789   \n",
       "2       0.0     -0.052632     -0.789474 -0.031579   \n",
       "3       0.0      0.052632     -0.789474 -0.031579   \n",
       "4       0.0     -0.157895     -0.684211 -0.027368   \n",
       "...     ...           ...           ...       ...   \n",
       "2195  500.0      0.684211      1.000000  0.021207   \n",
       "2196  500.0      0.789474      1.000000  0.025501   \n",
       "2197  500.0      0.894737      1.000000  0.031116   \n",
       "2198  500.0      1.000000      1.000000  0.040000   \n",
       "2199  500.0      0.000000     -1.000000 -0.069865   \n",
       "\n",
       "                                                  corrs  \n",
       "0     [1.0000000034868197, -0.05263157853401845, -0....  \n",
       "1     [1.0000000037013677, 0.05263157874838542, -0.8...  \n",
       "2     [1.0, -0.05263157894736836, -0.789473684210526...  \n",
       "3     [1.0, 0.05263157894736837, -0.7894736842105261...  \n",
       "4     [1.0000000045365027, -0.1578947352810913, -0.6...  \n",
       "...                                                 ...  \n",
       "2195  [1.0000000045119195, 0.6842105167403212, 0.999...  \n",
       "2196  [1.0000000038536705, 0.7894736746463109, 0.999...  \n",
       "2197  [1.0000000034895447, 0.8947368324710926, 0.999...  \n",
       "2198  [1.0000000024171083, 0.9999999925344217, 0.999...  \n",
       "2199  [1.0000000060258067, 9.834921011294135e-11, -0...  \n",
       "\n",
       "[2200 rows x 5 columns]"
      ]
     },
     "execution_count": 85,
     "metadata": {},
     "output_type": "execute_result"
    }
   ],
   "source": [
    "results_blanket"
   ]
  },
  {
   "cell_type": "code",
   "execution_count": null,
   "metadata": {
    "hidden": true
   },
   "outputs": [],
   "source": []
  }
 ],
 "metadata": {
  "kernelspec": {
   "display_name": "Python 3",
   "language": "python",
   "name": "python3"
  },
  "language_info": {
   "codemirror_mode": {
    "name": "ipython",
    "version": 3
   },
   "file_extension": ".py",
   "mimetype": "text/x-python",
   "name": "python",
   "nbconvert_exporter": "python",
   "pygments_lexer": "ipython3",
   "version": "3.8.10"
  },
  "toc": {
   "base_numbering": 1,
   "nav_menu": {},
   "number_sections": true,
   "sideBar": true,
   "skip_h1_title": false,
   "title_cell": "Table of Contents",
   "title_sidebar": "Contents",
   "toc_cell": false,
   "toc_position": {},
   "toc_section_display": true,
   "toc_window_display": false
  },
  "varInspector": {
   "cols": {
    "lenName": 16,
    "lenType": 16,
    "lenVar": 40
   },
   "kernels_config": {
    "python": {
     "delete_cmd_postfix": "",
     "delete_cmd_prefix": "del ",
     "library": "var_list.py",
     "varRefreshCmd": "print(var_dic_list())"
    },
    "r": {
     "delete_cmd_postfix": ") ",
     "delete_cmd_prefix": "rm(",
     "library": "var_list.r",
     "varRefreshCmd": "cat(var_dic_list()) "
    }
   },
   "types_to_exclude": [
    "module",
    "function",
    "builtin_function_or_method",
    "instance",
    "_Feature"
   ],
   "window_display": false
  }
 },
 "nbformat": 4,
 "nbformat_minor": 4
}
